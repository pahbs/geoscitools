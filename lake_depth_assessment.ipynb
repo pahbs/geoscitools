{
 "cells": [
  {
   "cell_type": "markdown",
   "id": "2683d34c-0409-454a-a461-bc34b61247a4",
   "metadata": {
    "tags": []
   },
   "source": [
    "# Lake depth assessment: Landsat & ICESat-2  \n",
    "##### Background:  \n",
    "_Estimates of the depth of lakes in the arctic are important for understanding the quantity and dynamics of freshwater in a domain experiencing the fastest rates of climate change._  \n",
    "\n",
    "### Basic steps:  \n",
    "1. get Landsat lake depth estimates (Mariana/Caleb)  \n",
    "   - gridded data processed by our team using custom code   \n",
    "2. get a time-series of water extent (gridded maps from Pekel et al or Pickens et al)  \n",
    "   - identify set of 'stable' lakes that are consistent across years  \n",
    "3. use set of stable lakes to intersect with ICESat-2 lidar observations \n",
    "   - explore various ICESat-2 lidar datasets:  \n",
    "         - https://nsidc.org/data/atl13/versions/5  \n",
    "         - https://nsidc.org/data/atl03/versions/5\n",
    "   - filter lidar observations by season: July - Sept  \n",
    "4. Intersect filtered set of lidar observations with stable lakes  \n",
    "   - get set of lakes with filtered lidar observations\n",
    "5. Analyze correspondance of Landsat-derived lake depth estimates with ICESat-2 obs"
   ]
  },
  {
   "cell_type": "markdown",
   "id": "f55fa704-b2a3-4767-a878-e71fc70a22ff",
   "metadata": {},
   "source": [
    "### Tools for this work:  \n",
    "1. Earthdata.nasa.gov  \n",
    "   - get account  \n",
    "   - get familiar with earthdata and the manual searching tools  \n",
    "2. Common metadata repository (CMR) searches (to programatically search for data)  \n",
    "   - https://www.earthdata.nasa.gov/eosdis/science-system-description/eosdis-components/cmr  \n",
    "3. working on EXPLORE - working with existing data (ICESat-2 in EXPLORE)\n",
    "   - support@nccs.nasa.gov can help introduce you to EXPLORE (formerly ADAPT)  \n",
    "   - using lists from CMR searches to identify useful data (granules names) that you can then access on EXPLORE (might not actually need to download, since we may already have the data)  : `/css/icesat-2/ATLAS`\n",
    "   - here is an existing notebook that returns a list of ATL08 files (granules) from a CMR spatio-temporal search for a particaulr data type:  \n",
    "   https://github.com/pahbs/geoscitools/blob/master/find_atl08_CMR_0.1.1.ipynb\n",
    "3. this notebook, working with key python libraries to handle geoprocessing of raster and vector data: rasterio, geopandas, pandas, pygeotools, etc \n",
    "4. QGIS (running on a virtual machine launched from EXPLORE)\n",
    "\n",
    "### Anticipated results  \n",
    "1. tables and plots explaining the relationship of our Landsat lake depth estimates to those from spaceborne lidar."
   ]
  },
  {
   "cell_type": "code",
   "execution_count": 1,
   "id": "bc2254da-bdb7-418c-8ec7-6309c48a4672",
   "metadata": {},
   "outputs": [],
   "source": [
    "import geopandas as gpd\n",
    "import pandas as pd"
   ]
  }
 ],
 "metadata": {
  "kernelspec": {
   "display_name": "ILAB Kernel",
   "language": "python",
   "name": "ilab-kernel"
  },
  "language_info": {
   "codemirror_mode": {
    "name": "ipython",
    "version": 3
   },
   "file_extension": ".py",
   "mimetype": "text/x-python",
   "name": "python",
   "nbconvert_exporter": "python",
   "pygments_lexer": "ipython3",
   "version": "3.9.13"
  }
 },
 "nbformat": 4,
 "nbformat_minor": 5
}
