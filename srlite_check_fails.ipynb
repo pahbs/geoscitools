{
 "cells": [
  {
   "cell_type": "code",
   "execution_count": 1,
   "id": "2d9afe58-acbf-43f0-8e14-8fdb9d52bec1",
   "metadata": {},
   "outputs": [],
   "source": [
    "import pandas as pd\n",
    "import glob\n",
    "import os\n",
    "import rasterio\n",
    "from rasterio.plot import show, show_hist"
   ]
  },
  {
   "cell_type": "code",
   "execution_count": 21,
   "id": "672a4e6c-7883-4e31-999d-1c305d31445d",
   "metadata": {},
   "outputs": [],
   "source": [
    "dir_toa = '/adapt/nobackup/projects/ilab/projects/srlite/input'\n",
    "dir_srlite = '/adapt/nobackup/projects/ilab/data/srlite/products/srlite-0.9.10-07042022-mode-warp/07052022'\n",
    "dir_html = '/adapt/nobackup/people/mmacande/srlite/srlite_diagnostics_20220708'"
   ]
  },
  {
   "cell_type": "code",
   "execution_count": 2,
   "id": "cdbe840a-25db-4b6d-8847-ca332588ee57",
   "metadata": {},
   "outputs": [
    {
     "data": {
      "text/plain": [
       "['/adapt/nobackup/projects/ilab/projects/srlite/input/RailroadValley/WV02_20170530_P1BS_1030010069698700-toa.tif',\n",
       " '/adapt/nobackup/projects/ilab/projects/srlite/input/RailroadValley/WV02_20180429_P1BS_103001007D967C00-toa.tif',\n",
       " '/adapt/nobackup/projects/ilab/projects/srlite/input/RailroadValley/WV01_20200714_P1BS_102001009A7AD800-toa.tif',\n",
       " '/adapt/nobackup/projects/ilab/projects/srlite/input/RailroadValley/WV01_20110505_P1BS_10200100120F8400-toa.tif',\n",
       " '/adapt/nobackup/projects/ilab/projects/srlite/input/RailroadValley/WV02_20170918_M1BS_1030010071B61100-toa.tif']"
      ]
     },
     "execution_count": 2,
     "metadata": {},
     "output_type": "execute_result"
    }
   ],
   "source": [
    "list_toa = glob.glob(dir_toa + \"/**/\" + \"*toa.tif\", recursive=True)\n",
    "len(list_toa)\n",
    "list_toa[0:5]"
   ]
  },
  {
   "cell_type": "code",
   "execution_count": 22,
   "id": "9ab6cf94-2f65-4636-8a9f-87e249a16232",
   "metadata": {},
   "outputs": [
    {
     "data": {
      "text/plain": [
       "['/adapt/nobackup/projects/ilab/data/srlite/products/srlite-0.9.10-07042022-mode-warp/07052022/WV02_20180527_M1BS_103001007E5F8400-sr-02m.tif',\n",
       " '/adapt/nobackup/projects/ilab/data/srlite/products/srlite-0.9.10-07042022-mode-warp/07052022/Yukon_Delta/WV02_20150616_M1BS_103001004351F000-sr-02m.tif',\n",
       " '/adapt/nobackup/projects/ilab/data/srlite/products/srlite-0.9.10-07042022-mode-warp/07052022/Yukon_Delta/WV02_20110818_M1BS_103001000CCC9000-sr-02m.tif',\n",
       " '/adapt/nobackup/projects/ilab/data/srlite/products/srlite-0.9.10-07042022-mode-warp/07052022/Laselva/GE01_20160608_M1BS_1050010004BA6D00-sr-02m.tif',\n",
       " '/adapt/nobackup/projects/ilab/data/srlite/products/srlite-0.9.10-07042022-mode-warp/07052022/Laselva/QB02_20050113_M1BS_101001000382CF00-sr-02m.tif']"
      ]
     },
     "execution_count": 22,
     "metadata": {},
     "output_type": "execute_result"
    }
   ],
   "source": [
    "list_sr = glob.glob(dir_srlite + \"/**/\" + \"*sr-02m.tif\", recursive=True)\n",
    "len(list_sr)\n",
    "list_sr[0:5]"
   ]
  },
  {
   "cell_type": "code",
   "execution_count": 3,
   "id": "1d987e74-ea21-4ceb-bbb0-5b5edad957e7",
   "metadata": {},
   "outputs": [
    {
     "data": {
      "text/plain": [
       "['WV02_20180527_M1BS_103001007E5F8400',\n",
       " 'WV02_20150616_M1BS_103001004351F000',\n",
       " 'WV02_20110818_M1BS_103001000CCC9000',\n",
       " 'GE01_20160608_M1BS_1050010004BA6D00',\n",
       " 'QB02_20050113_M1BS_101001000382CF00']"
      ]
     },
     "execution_count": 3,
     "metadata": {},
     "output_type": "execute_result"
    }
   ],
   "source": [
    "list_pairnames_sr = [os.path.basename(f).replace(\"-sr-02m.tif\",\"\") for f in glob.glob(dir_srlite + \"/**/\" + \"*sr-02m.tif\", recursive=True)]\n",
    "len(list_pairnames_sr)\n",
    "list_pairnames_sr[0:5]"
   ]
  },
  {
   "cell_type": "code",
   "execution_count": 4,
   "id": "d77f285f-eb91-4c6c-b6b6-207744b014ae",
   "metadata": {},
   "outputs": [
    {
     "data": {
      "text/plain": [
       "254"
      ]
     },
     "execution_count": 4,
     "metadata": {},
     "output_type": "execute_result"
    }
   ],
   "source": [
    "\n",
    "#list_pairnames_html = ['_'.join(os.path.basename(f).strip(\"_repor.html\").split('_')[1:5]) for f in glob.glob(dir_html + \"/**/\" + \"*.html\", recursive=True)]\n",
    "list_pairnames_html = [os.path.basename(f).strip(\"_repor.html\") for f in glob.glob(dir_html + \"/**/\" + \"*.html\", recursive=True)]\n",
    "len(list_pairnames_html)\n"
   ]
  },
  {
   "cell_type": "code",
   "execution_count": 5,
   "id": "9dc8ef65-28de-494e-ab22-c31270b63b2a",
   "metadata": {},
   "outputs": [],
   "source": [
    "succeed_list = []\n",
    "for sub in list_pairnames_sr:\n",
    "    #sub = list_pairnames_sr[0]\n",
    "    [succeed_list.append(sub) for s in list_pairnames_html if sub in s]"
   ]
  },
  {
   "cell_type": "code",
   "execution_count": 7,
   "id": "52defc8e-5877-4798-9303-d63115b9a958",
   "metadata": {},
   "outputs": [
    {
     "data": {
      "text/plain": [
       "254"
      ]
     },
     "execution_count": 7,
     "metadata": {},
     "output_type": "execute_result"
    }
   ],
   "source": [
    "len(succeed_list)"
   ]
  },
  {
   "cell_type": "code",
   "execution_count": 8,
   "id": "a58e2a91-e39b-44e6-9c1c-3e2bd020fe92",
   "metadata": {},
   "outputs": [
    {
     "data": {
      "text/plain": [
       "14"
      ]
     },
     "execution_count": 8,
     "metadata": {},
     "output_type": "execute_result"
    }
   ],
   "source": [
    "fail_list = list(set(list_pairnames_sr) - set(succeed_list))\n",
    "len(fail_list)"
   ]
  },
  {
   "cell_type": "code",
   "execution_count": 9,
   "id": "64e5f78c-a16a-4d41-802e-64653a20abeb",
   "metadata": {},
   "outputs": [
    {
     "data": {
      "text/plain": [
       "['WV02_20170602_M1BS_1030010069227B00',\n",
       " 'WV02_20170615_M1BS_103001006B7AD000',\n",
       " 'WV02_20160715_M1BS_10300100598FE300',\n",
       " 'WV02_20160829_M1BS_103001005C748300',\n",
       " 'WV02_20150720_M1BS_1030010046C0A100',\n",
       " 'WV02_20130403_M1BS_1030010021776B00',\n",
       " 'GE01_20150621_M1BS_10504100130C2700',\n",
       " 'WV02_20160829_M1BS_103001005C5DBE00',\n",
       " 'WV02_20160715_M1BS_1030010058D03D00',\n",
       " 'WV02_20150610_M1BS_10300100437BF500',\n",
       " 'GE01_20200620_M1BS_105001001E0B2E00',\n",
       " 'WV02_20130604_M1BS_10300100223FD400',\n",
       " 'WV02_20160715_M1BS_1030010059D29400',\n",
       " 'WV02_20160831_M1BS_103001005B751600']"
      ]
     },
     "execution_count": 9,
     "metadata": {},
     "output_type": "execute_result"
    }
   ],
   "source": [
    "fail_list"
   ]
  },
  {
   "cell_type": "code",
   "execution_count": 23,
   "id": "69b0b134-8d49-405f-8be8-5d7502d43cea",
   "metadata": {},
   "outputs": [],
   "source": [
    "# Get the path of the SRLites that failed to produce a good SRLite\n",
    "fail_list_srlite = []\n",
    "for sub in fail_list:\n",
    "    [fail_list_srlite.append(s) for s in list_sr if sub in s]"
   ]
  },
  {
   "cell_type": "code",
   "execution_count": 24,
   "id": "e0549eb6-0447-4089-b921-9ef450475d23",
   "metadata": {},
   "outputs": [
    {
     "data": {
      "text/plain": [
       "['/adapt/nobackup/projects/ilab/data/srlite/products/srlite-0.9.10-07042022-mode-warp/07052022/Alaska/WV02_20170602_M1BS_1030010069227B00-sr-02m.tif',\n",
       " '/adapt/nobackup/projects/ilab/data/srlite/products/srlite-0.9.10-07042022-mode-warp/07052022/Alaska/WV02_20170615_M1BS_103001006B7AD000-sr-02m.tif',\n",
       " '/adapt/nobackup/projects/ilab/data/srlite/products/srlite-0.9.10-07042022-mode-warp/07052022/Siberia/WV02_20160715_M1BS_10300100598FE300-sr-02m.tif',\n",
       " '/adapt/nobackup/projects/ilab/data/srlite/products/srlite-0.9.10-07042022-mode-warp/07052022/Alaska/WV02_20160829_M1BS_103001005C748300-sr-02m.tif',\n",
       " '/adapt/nobackup/projects/ilab/data/srlite/products/srlite-0.9.10-07042022-mode-warp/07052022/Siberia/WV02_20150720_M1BS_1030010046C0A100-sr-02m.tif',\n",
       " '/adapt/nobackup/projects/ilab/data/srlite/products/srlite-0.9.10-07042022-mode-warp/07052022/Siberia/WV02_20130403_M1BS_1030010021776B00-sr-02m.tif',\n",
       " '/adapt/nobackup/projects/ilab/data/srlite/products/srlite-0.9.10-07042022-mode-warp/07052022/Laselva/GE01_20150621_M1BS_10504100130C2700-sr-02m.tif',\n",
       " '/adapt/nobackup/projects/ilab/data/srlite/products/srlite-0.9.10-07042022-mode-warp/07052022/Alaska/WV02_20160829_M1BS_103001005C5DBE00-sr-02m.tif',\n",
       " '/adapt/nobackup/projects/ilab/data/srlite/products/srlite-0.9.10-07042022-mode-warp/07052022/Siberia/WV02_20160715_M1BS_1030010058D03D00-sr-02m.tif',\n",
       " '/adapt/nobackup/projects/ilab/data/srlite/products/srlite-0.9.10-07042022-mode-warp/07052022/Siberia/WV02_20150610_M1BS_10300100437BF500-sr-02m.tif',\n",
       " '/adapt/nobackup/projects/ilab/data/srlite/products/srlite-0.9.10-07042022-mode-warp/07052022/Alaska/GE01_20200620_M1BS_105001001E0B2E00-sr-02m.tif',\n",
       " '/adapt/nobackup/projects/ilab/data/srlite/products/srlite-0.9.10-07042022-mode-warp/07052022/Siberia/WV02_20130604_M1BS_10300100223FD400-sr-02m.tif',\n",
       " '/adapt/nobackup/projects/ilab/data/srlite/products/srlite-0.9.10-07042022-mode-warp/07052022/Siberia/WV02_20160715_M1BS_1030010059D29400-sr-02m.tif',\n",
       " '/adapt/nobackup/projects/ilab/data/srlite/products/srlite-0.9.10-07042022-mode-warp/07052022/Alaska/WV02_20160831_M1BS_103001005B751600-sr-02m.tif']"
      ]
     },
     "execution_count": 24,
     "metadata": {},
     "output_type": "execute_result"
    }
   ],
   "source": [
    "fail_list_srlite"
   ]
  },
  {
   "cell_type": "code",
   "execution_count": 10,
   "id": "f27660f2-8ef5-4f24-9ded-4130d5edefed",
   "metadata": {},
   "outputs": [],
   "source": [
    "# Get the path of the TOAs that failed to produce a good SRLite\n",
    "fail_list_toa = []\n",
    "for sub in fail_list:\n",
    "    [fail_list_toa.append(s) for s in list_toa if sub in s]"
   ]
  },
  {
   "cell_type": "code",
   "execution_count": 13,
   "id": "bf716ebf-2105-482a-ad56-579389533f39",
   "metadata": {},
   "outputs": [
    {
     "data": {
      "text/plain": [
       "['/adapt/nobackup/projects/ilab/projects/srlite/input/Alaska/WV02_20170602_M1BS_1030010069227B00-toa.tif',\n",
       " '/adapt/nobackup/projects/ilab/projects/srlite/input/Alaska/WV02_20170615_M1BS_103001006B7AD000-toa.tif',\n",
       " '/adapt/nobackup/projects/ilab/projects/srlite/input/Siberia/WV02_20160715_M1BS_10300100598FE300-toa.tif',\n",
       " '/adapt/nobackup/projects/ilab/projects/srlite/input/Alaska/WV02_20160829_M1BS_103001005C748300-toa.tif',\n",
       " '/adapt/nobackup/projects/ilab/projects/srlite/input/Siberia/WV02_20150720_M1BS_1030010046C0A100-toa.tif',\n",
       " '/adapt/nobackup/projects/ilab/projects/srlite/input/Siberia/WV02_20130403_M1BS_1030010021776B00-toa.tif',\n",
       " '/adapt/nobackup/projects/ilab/projects/srlite/input/Laselva/GE01_20150621_M1BS_10504100130C2700-toa.tif',\n",
       " '/adapt/nobackup/projects/ilab/projects/srlite/input/Alaska/WV02_20160829_M1BS_103001005C5DBE00-toa.tif',\n",
       " '/adapt/nobackup/projects/ilab/projects/srlite/input/Siberia/WV02_20160715_M1BS_1030010058D03D00-toa.tif',\n",
       " '/adapt/nobackup/projects/ilab/projects/srlite/input/Siberia/WV02_20150610_M1BS_10300100437BF500-toa.tif',\n",
       " '/adapt/nobackup/projects/ilab/projects/srlite/input/Alaska/GE01_20200620_M1BS_105001001E0B2E00-toa.tif',\n",
       " '/adapt/nobackup/projects/ilab/projects/srlite/input/Siberia/WV02_20130604_M1BS_10300100223FD400-toa.tif',\n",
       " '/adapt/nobackup/projects/ilab/projects/srlite/input/Siberia/WV02_20160715_M1BS_1030010059D29400-toa.tif',\n",
       " '/adapt/nobackup/projects/ilab/projects/srlite/input/Alaska/WV02_20160831_M1BS_103001005B751600-toa.tif']"
      ]
     },
     "execution_count": 13,
     "metadata": {},
     "output_type": "execute_result"
    }
   ],
   "source": [
    "fail_list_toa"
   ]
  },
  {
   "cell_type": "code",
   "execution_count": 15,
   "id": "74cc616b-913c-441f-ba4b-b471a51b6cd5",
   "metadata": {},
   "outputs": [
    {
     "data": {
      "image/png": "[encoded data removed]",
      "text/plain": [
       "<Figure size 432x288 with 1 Axes>"
      ]
     },
     "metadata": {
      "needs_background": "light"
     },
     "output_type": "display_data"
    }
   ],
   "source": [
    "with rasterio.open(fail_list_toa[2]) as ds:\n",
    "    show_hist(ds, bins=50, lw=0.0, stacked=False, alpha=0.3, histtype='stepfilled', title=\"Histogram\")"
   ]
  },
  {
   "cell_type": "code",
   "execution_count": 26,
   "id": "09a82265-52f1-4083-aa75-21bc648da167",
   "metadata": {},
   "outputs": [
    {
     "data": {
      "image/png": "[encoded data removed]",
      "text/plain": [
       "<Figure size 432x288 with 1 Axes>"
      ]
     },
     "metadata": {
      "needs_background": "light"
     },
     "output_type": "display_data"
    }
   ],
   "source": [
    "with rasterio.open(fail_list_srlite[2]) as ds:\n",
    "    show_hist(ds, bins=50, lw=0.0, stacked=False, alpha=0.3, histtype='stepfilled', title=\"Histogram\")"
   ]
  }
 ],
 "metadata": {
  "kernelspec": {
   "display_name": "ilab-kernel",
   "language": "python",
   "name": "python3"
  },
  "language_info": {
   "codemirror_mode": {
    "name": "ipython",
    "version": 3
   },
   "file_extension": ".py",
   "mimetype": "text/x-python",
   "name": "python",
   "nbconvert_exporter": "python",
   "pygments_lexer": "ipython3",
   "version": "3.7.12"
  }
 },
 "nbformat": 4,
 "nbformat_minor": 5
}
