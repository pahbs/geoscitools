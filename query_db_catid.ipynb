{
 "cells": [
  {
   "cell_type": "markdown",
   "id": "49473d2f-a049-4efd-b76c-22674c794a2b",
   "metadata": {},
   "source": [
    "# Query NGAdb with a catid"
   ]
  },
  {
   "cell_type": "markdown",
   "id": "35298db9-344a-434a-addd-a1d87bf08f27",
   "metadata": {},
   "source": [
    "## Get list of scenes: query NASA NGA database of MAXAR $M1BS_{VHR}$ imagery\n",
    "this creates `SCENES_FILE` : a list the input $M1BS_{VHR}$ scenes found for a $catalogID_{MAXAR}$ in our NASA NGA dataBase archive into a local dir of choice in preparation for workflow processing\n",
    "#### `query_db_catid` works with `forest` conda env which has `psycopg2`, and now `DEV` kernel\n",
    "Resources:  \n",
    "\n",
    " - Catalog IDs of interest:\n",
    "   - Western AK (July,August): https://docs.google.com/spreadsheets/d/1XdSTInm18KYBUvaftyev449GwhMKZzWjl3uV1gUF-yI/edit#gid=288708282\n",
    "   - Western AK (July,August), Sun Elev > 17: https://docs.google.com/spreadsheets/d/1ig4YQu1dG-2pWWbl6ZRxz37ebERsX80bLcEZLIdKqtQ/edit#gid=1404456155"
   ]
  },
  {
   "cell_type": "markdown",
   "id": "1e3ad260-34b3-4898-8306-1d5f5600cf22",
   "metadata": {},
   "source": [
    "### To run this notebook, you'll need to clone my `evhr` repository into a dir you make called `code/` that sits at the top level of your `$HOME` dir (`/home/<username>`)\n",
    "\n",
    "```shell\n",
    "cd $HOME\n",
    "git clone https://github.com/pahbs/evhr.git\n",
    "```"
   ]
  },
  {
   "cell_type": "code",
   "execution_count": 1,
   "id": "2e35d1ce-9ca8-41a2-b05d-fb16cf2f7d1f",
   "metadata": {},
   "outputs": [],
   "source": [
    "USERNAME = 'pmontesa'"
   ]
  },
  {
   "cell_type": "code",
   "execution_count": 2,
   "id": "bf360652-95c5-4371-965f-8928daf1ac84",
   "metadata": {},
   "outputs": [],
   "source": [
    "import os, sys\n",
    "sys.path.append(f'/home/{USERNAME}/code/evhr')\n",
    "import query_db_catid"
   ]
  },
  {
   "cell_type": "code",
   "execution_count": 9,
   "id": "afb843bb-f799-4bc9-a7f6-413fbc081fe2",
   "metadata": {},
   "outputs": [],
   "source": [
    "MAINDIR = '/explore/nobackup/projects/above/misc/ABoVE_Shrubs'\n",
    "MAINDIR = '/explore/nobackup/people/pmontesa/tmp/ikonos_ASP/'"
   ]
  },
  {
   "cell_type": "markdown",
   "id": "76dce947-f8c1-460b-938f-3b97b47a36f5",
   "metadata": {},
   "source": [
    "### Get NGA dB password as a Python variable to pass into the wrapper functions below  \n",
    "\n",
    "This is useful and important, b/c it:  \n",
    " - prevents you from needed to remember and enter it in this notebook every time you run the query, and  \n",
    " - prevents you from storing it here and inadvertently exposing it to everyone in the world once the notebook gets committed to a repository.  \n",
    " \n",
    "#### To set this up:  \n",
    "\n",
    "#### [1] Edit your `.bashrc` (a hidden file in your `$HOME` that stores whatever account-specific details you have set for yourself) to include this line:\n",
    "```shell\n",
    "export NGADBPASS=`<YOUR PASSWORD>`\n",
    "```\n",
    "    \n",
    "#### [2] Create a shell script in your home dir called `get_ngadb_pass.sh` that has the following:  \n",
    "\n",
    "```shell\n",
    "#!/bin/bash\n",
    "# Print NGA dB password\n",
    "env_var_value=\"$NGADBPASS\"\n",
    "echo \"$env_var_value\"\n",
    "```"
   ]
  },
  {
   "cell_type": "code",
   "execution_count": 4,
   "id": "a51f68cf-dfd3-4aeb-8546-552e8e23aa97",
   "metadata": {},
   "outputs": [],
   "source": [
    "# To make this work you need to source the bashrc in scope with the sh script\n",
    "returned_list = !source ~/.bashrc ; source ~/get_ngadb_pass.sh\n",
    "NGADBPASS = returned_list[0]"
   ]
  },
  {
   "cell_type": "code",
   "execution_count": 11,
   "id": "79f5a0d7-3474-479b-9d8f-63f8062af3db",
   "metadata": {},
   "outputs": [],
   "source": [
    "#OUTDIR_QUERY = os.path.join(MAINDIR, 'query_nga_db')\n",
    "OUTDIR_QUERY = MAINDIR\n",
    "!mkdir -p $OUTDIR_QUERY"
   ]
  },
  {
   "cell_type": "code",
   "execution_count": 6,
   "id": "126b5731-a742-49b7-9ad9-ea67bd01a685",
   "metadata": {},
   "outputs": [],
   "source": [
    "# Wrappers of query\n",
    "def GET_NGA_CATID_SCENE_SYMLINKS(CATID, OUTDIR_QUERY):\n",
    "    OUTDIR_CATID = os.path.join(OUTDIR_QUERY, CATID)\n",
    "    !mkdir -p $OUTDIR_CATID\n",
    "    query_db_catid.query_db_catid_v2(CATID, 'M1BS', OUTDIR_CATID, None, USERNAME, NGADBPASS, symlink=True)\n",
    "    return OUTDIR_CATID\n",
    "\n",
    "def GET_NGA_CATID_SCENE_LIST(CATID, OUTDIR_QUERY):\n",
    "    OUT_SCENE_LIST_FN = os.path.join(OUTDIR_QUERY, CATID + '_scenes.csv')\n",
    "    \n",
    "    query_db_catid.query_db_catid_v2(CATID, 'M1BS', OUTDIR_QUERY, OUT_SCENE_LIST_FN, USERNAME, NGADBPASS, symlink=False)\n",
    "    return OUT_SCENE_LIST_FN"
   ]
  },
  {
   "cell_type": "code",
   "execution_count": 7,
   "id": "001260b1-2cac-4f86-be8f-c75385a36a6d",
   "metadata": {},
   "outputs": [
    {
     "name": "stdout",
     "output_type": "stream",
     "text": [
      "\n",
      "\t Now executing database query on catID '10100100024B6600' ...\n",
      "\n",
      "\t Found '2' scenes for catID '10100100024B6600' \n",
      "\n",
      "\t List of all prod_id '['052800768010']'\n",
      "\t Selecting data associated with prod_id '052800768010'\n",
      "/css/nga/QB02/1B/2003/260/QB02_10100100024B6600_X1BS_052800768010_01/QB02_20030917220820_10100100024B6600_03SEP17220820-M1BS-052800768010_01_P002.ntf\n",
      "/css/nga/QB02/1B/2003/260/QB02_10100100024B6600_X1BS_052800768010_01/QB02_20030917220816_10100100024B6600_03SEP17220816-M1BS-052800768010_01_P001.ntf\n"
     ]
    },
    {
     "data": {
      "text/plain": [
       "'/explore/nobackup/projects/above/misc/ABoVE_Shrubs/query_nga_db/10100100024B6600_scenes.csv'"
      ]
     },
     "execution_count": 7,
     "metadata": {},
     "output_type": "execute_result"
    }
   ],
   "source": [
    "# Test with QB2 catid\n",
    "SCENES_FILE = GET_NGA_CATID_SCENE_LIST('10100100024B6600', OUTDIR_QUERY)\n",
    "SCENES_FILE"
   ]
  },
  {
   "cell_type": "code",
   "execution_count": 16,
   "id": "cab58459-3339-4612-a708-3fbdade45cea",
   "metadata": {},
   "outputs": [
    {
     "name": "stdout",
     "output_type": "stream",
     "text": [
      "\n",
      "\t Now executing database query on catID '2000060822004260000010004709' ...\n",
      "\n",
      "\t Found '4' scenes for catID '2000060822004260000010004709' \n",
      "\n",
      "\t List of all prod_id '['/css/nga/IK01']'\n",
      "\t Selecting data associated with prod_id '/css/nga/IK01'\n",
      "\t Making symlinks in output dir: /explore/nobackup/people/pmontesa/tmp/ikonos_ASP/2000060822004260000010004709\n",
      "/css/nga/IK01_IK/2A/2000/160/IK01_2000060822004260000010004709_X2AS_946590/IK01_20000608220000_2000060822004260000010004709_po_946590_red_0000000.ntf\n",
      "/css/nga/IK01_IK/2A/2000/160/IK01_2000060822004260000010004709_X2AS_946590/IK01_20000608220000_2000060822004260000010004709_po_946590_nir_0000000.ntf\n",
      "/css/nga/IK01_IK/2A/2000/160/IK01_2000060822004260000010004709_X2AS_946590/IK01_20000608220000_2000060822004260000010004709_po_946590_blu_0000000.ntf\n",
      "/css/nga/IK01_IK/2A/2000/160/IK01_2000060822004260000010004709_X2AS_946590/IK01_20000608220000_2000060822004260000010004709_po_946590_grn_0000000.ntf\n"
     ]
    },
    {
     "data": {
      "text/plain": [
       "'/explore/nobackup/people/pmontesa/tmp/ikonos_ASP/2000060822004260000010004709'"
      ]
     },
     "execution_count": 16,
     "metadata": {},
     "output_type": "execute_result"
    }
   ],
   "source": [
    "# Test with IKONOS catid\n",
    "SCENES_FILE = GET_NGA_CATID_SCENE_SYMLINKS('2000060822004260000010004709', OUTDIR_QUERY)\n",
    "SCENES_FILE"
   ]
  },
  {
   "cell_type": "code",
   "execution_count": 17,
   "id": "99d57f3c-332f-46ab-ad0a-a7ddc6b1d072",
   "metadata": {},
   "outputs": [
    {
     "name": "stdout",
     "output_type": "stream",
     "text": [
      "\n",
      "\t Now executing database query on catID '2000060822003210000010004708' ...\n",
      "\n",
      "\t Found '4' scenes for catID '2000060822003210000010004708' \n",
      "\n",
      "\t List of all prod_id '['/css/nga/IK01']'\n",
      "\t Selecting data associated with prod_id '/css/nga/IK01'\n",
      "\t Making symlinks in output dir: /explore/nobackup/people/pmontesa/tmp/ikonos_ASP/2000060822003210000010004708\n",
      "/css/nga/IK01_IK/2A/2000/160/IK01_2000060822003210000010004708_X2AS_946589/IK01_20000608220000_2000060822003210000010004708_po_946589_nir_0000000.ntf\n",
      "/css/nga/IK01_IK/2A/2000/160/IK01_2000060822003210000010004708_X2AS_946589/IK01_20000608220000_2000060822003210000010004708_po_946589_red_0000000.ntf\n",
      "/css/nga/IK01_IK/2A/2000/160/IK01_2000060822003210000010004708_X2AS_946589/IK01_20000608220000_2000060822003210000010004708_po_946589_grn_0000000.ntf\n",
      "/css/nga/IK01_IK/2A/2000/160/IK01_2000060822003210000010004708_X2AS_946589/IK01_20000608220000_2000060822003210000010004708_po_946589_blu_0000000.ntf\n"
     ]
    },
    {
     "data": {
      "text/plain": [
       "'/explore/nobackup/people/pmontesa/tmp/ikonos_ASP/2000060822003210000010004708'"
      ]
     },
     "execution_count": 17,
     "metadata": {},
     "output_type": "execute_result"
    }
   ],
   "source": [
    "SCENES_FILE = GET_NGA_CATID_SCENE_SYMLINKS('2000060822003210000010004708', OUTDIR_QUERY)\n",
    "SCENES_FILE"
   ]
  }
 ],
 "metadata": {
  "kernelspec": {
   "display_name": "DEV Kernel",
   "language": "python",
   "name": "dev"
  },
  "language_info": {
   "codemirror_mode": {
    "name": "ipython",
    "version": 3
   },
   "file_extension": ".py",
   "mimetype": "text/x-python",
   "name": "python",
   "nbconvert_exporter": "python",
   "pygments_lexer": "ipython3",
   "version": "3.11.9"
  }
 },
 "nbformat": 4,
 "nbformat_minor": 5
}
