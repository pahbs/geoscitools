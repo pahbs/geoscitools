{
 "cells": [
  {
   "cell_type": "markdown",
   "id": "ef63ffc4-6847-4fae-9080-7db819f96491",
   "metadata": {
    "tags": []
   },
   "source": [
    "---\n",
    "# IFSAR CHM and SRLITE CHM CNN workflow 2023\n",
    "author: \"Matt Macander\"\n",
    "date: '2023-09-26'\n",
    "output: html_document\n",
    "---\n",
    "\n",
    "Notebook for method to generate GPKG of cloudmask footprints on ADAPT\n",
    "https://github.com/pahbs/geoscitools/blob/master/footprint_cloudmask.ipynb\n",
    "\n",
    "Notebook for method to generate GPKG of GLiHT CHM footprints?\n",
    "\n",
    "/explore/nobackup/people/pmontesa/srlite/footprints_vhr_cloudmask_alaska_20230720.gpkg\n",
    "\n",
    "Then, zip GPKG and send to ABR"
   ]
  },
  {
   "cell_type": "markdown",
   "id": "ffe77bb6-fed6-4d88-8cb0-723d23e1da03",
   "metadata": {},
   "source": [
    "## Package and send footprint/cloudmask data from ADAPT\n",
    "```{bash ADAPT}\n",
    "tar -cvzf $NOBACKUP/footprints_vhr_cloudmask_alaska_20230720.gpkg.tar.gz /explore/nobackup/people/pmontesa/srlite/footprints_vhr_cloudmask_alaska_20230720.gpkg\n",
    "scp $NOBACKUP/footprints_vhr_cloudmask_alaska_20230720.gpkg.tar.gz mason:/data/gis/gis_projects/2021/.\n",
    "```"
   ]
  },
  {
   "cell_type": "markdown",
   "id": "4da484fc-8422-41d2-aab8-d15e9a4ec68a",
   "metadata": {},
   "source": [
    "## Ingest At ABR\n",
    "```{bash ADAPT}\n",
    "mkdir -p /data/gis/gis_projects/2021/21-347_NASA_SmallSat/20230825_srlite_ak\n",
    "cd /data/gis/gis_projects/2021/21-347_NASA_SmallSat/20230825_srlite_ak\n",
    "\n",
    "mv /data/gis/gis_projects/2021/footprints_vhr_cloudmask_alaska_20230720.gpkg.tar.gz .\n",
    "tar -xvzf footprints_vhr_cloudmask_alaska_20230720.gpkg.tar.gz\n",
    "\n",
    "```\n",
    "\n",
    "## Prepare to combine with regular grid of points that will be center points of train/val chips\n",
    "Point sample frame (512m spacing in EPSG:3338) created by converting 512m raster to points (extent of IFSAR DSM/DTM/CHM)\n",
    "\n",
    "/data/gis/gis_projects/2021/21-347_NASA_SmallSat/20230522_srlite_ak/alaska_ifsar_512m_pts.shp\n",
    "\n",
    "VHR cloudfree footprints file from Paul\n",
    "\n",
    "https://github.com/pahbs/geoscitools/blob/master/footprint_cloudmask.ipynb\n",
    "\n",
    "/data/gis/gis_projects/2021/21-347_NASA_SmallSat/20230825_srlite_ak/footprints_vhr_cloudmask_alaska_20230720.gpkg\n",
    "\n"
   ]
  },
  {
   "cell_type": "markdown",
   "id": "70ef209a-56ab-4342-9578-820d9aaffbca",
   "metadata": {},
   "source": [
    "## Convert to 3338 GDB using QGIS or ArcPro\n",
    "###Convert to fgdb for 100x faster Intersect performance using latest QGIS with FileGDB API GDAL support (via full install or update of OSGeo4W)\n",
    "\n",
    "/data/gis/gis_projects/2021/21-347_NASA_SmallSat/20230825_srlite_ak/footprints_vhr_cloudmask_alaska_20230720_3338.gpkg\n",
    "\n",
    "## Generate Antibuffer in QGIS or ArcPro\n",
    "Run antibuffer by 0.5 * (512^2 + 512^2)^0.5 m (one half of a diagonal of 256x256 pixel or 512x512 m box)\n",
    "362 m\n",
    "processing.run(\"native:buffer\", {'INPUT':'W:\\\\gis_projects\\\\2021\\\\21-347_NASA_SmallSat\\\\20230825_srlite_ak\\\\footprints_vhr_cloudmask_alaska_20230720_3338.gpkg|layername=footprints_vhr_cloudmask_alaska_20230720_3338','DISTANCE':-362,'SEGMENTS':5,'END_CAP_STYLE':0,'JOIN_STYLE':0,'MITER_LIMIT':2,'DISSOLVE':False,'OUTPUT':'ogr:dbname=\\'W:/gis_projects/2021/21-347_NASA_SmallSat/20230825_srlite_ak/footprints_vhr_cloudmask_alaska_20230720_3338_buff_minus362m.gpkg\\' table=\"antibuff\" (geom)'})\n",
    "\n",
    "qgis_process run native:buffer --distance_units=meters --area_units=m2 --ellipsoid=EPSG:7030 --INPUT='W:/gis_projects/2021/21-347_NASA_SmallSat/20230825_srlite_ak/footprints_vhr_cloudmask_alaska_20230720_3338.gpkg|layername=footprints_vhr_cloudmask_alaska_20230720_3338' --DISTANCE=-362 --SEGMENTS=5 --END_CAP_STYLE=0 --JOIN_STYLE=0 --MITER_LIMIT=2 --DISSOLVE=false --OUTPUT='ogr:dbname='\\''W:/gis_projects/2021/21-347_NASA_SmallSat/20230825_srlite_ak/footprints_vhr_cloudmask_alaska_20230720_3338_buff_minus362m.gpkg'\\'' table=\"antibuff\" (geom)\n",
    "\n",
    "## GLiHT footprints had extremely complex linework with many holes\n",
    "###  Simplify command in ArcPro\n",
    "```\n",
    "arcpy.EnvManager(transferGDBAttributeProperties=\"NOT_TRANSFER_GDB_ATTRIBUTE_PROPERTIES\"):\n",
    "    arcpy.cartography.SimplifyPolygon(\n",
    "        in_features=\"footprints_gliht_chm_2014_3338\",\n",
    "        out_feature_class=r\"W:\\gis_projects\\2021\\21-347_NASA_SmallSat\\sample_points\\footprints_gliht.gdb\\footprints_gliht_chm_2014_3338_simp5m\",\n",
    "        algorithm=\"POINT_REMOVE\",\n",
    "        tolerance=\"5 Meters\",\n",
    "        minimum_area=\"5 SquareMeters\",\n",
    "        error_option=\"NO_CHECK\",\n",
    "        collapsed_point_option=\"KEEP_COLLAPSED_POINTS\",\n",
    "        in_barriers=None\n",
    "    )\n",
    "```\n",
    "\n",
    "### Pairwise Buffer in ArcPro (highly parallel, though it crashed computer on non-simplified inputs)\n",
    "```\n",
    "arcpy.analysis.PairwiseBuffer(\n",
    "    in_features=\"footprints_gliht_chm_2014_3338_simp5m\",\n",
    "    out_feature_class=r\"W:\\gis_projects\\2021\\21-347_NASA_SmallSat\\sample_points\\footprints_gliht.gdb\\footprints_gliht_chm_2014_3338_simp5m_antibuff90p5m\",\n",
    "    buffer_distance_or_field=\"-90.5 Meters\",\n",
    "    dissolve_option=\"NONE\",\n",
    "    dissolve_field=None,\n",
    "    method=\"PLANAR\",\n",
    "    max_deviation=\"0 Meters\"\n",
    ")\n",
    "```\n",
    "\n",
    "### Pairwise Intersect in ArcPro (highly parallel), grid points vs. antibuffered gliht footprints\n",
    "Yields one point for each gliht footprint intersection (multiple points on top of each other if multiple footprints)\n",
    "```\n",
    "arcpy.analysis.PairwiseIntersect(\n",
    "    in_features=\"alaska_ifsar_128m_pts;footprints_gliht_chm_2014_3338_simp5m_antibuff90p5m\",\n",
    "    out_feature_class=r\"W:\\gis_projects\\2021\\21-347_NASA_SmallSat\\sample_points\\footprints_gliht.gdb\\ak128_x_footprints_gliht_chm_2014_3338_simp5m_antibuff90p5m\",\n",
    "    join_attributes=\"ALL\",\n",
    "    cluster_tolerance=None,\n",
    "    output_type=\"INPUT\"\n",
    ")\n",
    "```\n",
    "\n",
    "## Pairwise anti-buffer of VHR cloudmasks for 128m grid spacing (90.5 m)\n",
    "```\n",
    "arcpy.analysis.PairwiseBuffer(\n",
    "    in_features=\"footprints_vhr_cloudmask_alaska_20230720_3338\",\n",
    "    out_feature_class=r\"W:\\gis_projects\\2021\\21-347_NASA_SmallSat\\20230825_srlite_ak\\arcpro_intersect.gdb\\footprints_vhr_cloudmask_alaska_20230720_3338_buff_minus90p5m_fgdb\",\n",
    "    buffer_distance_or_field=\"-90.5 Meters\",\n",
    "    dissolve_option=\"NONE\",\n",
    "    dissolve_field=None,\n",
    "    method=\"PLANAR\",\n",
    "    max_deviation=\"0 Meters\"\n",
    ")\n",
    "```\n",
    "\n",
    "## Pairwise intersect of sample points from grid vs. GLIHT  with anti-buffered VHR cloudmasks\n",
    "```\n",
    "arcpy.analysis.PairwiseIntersect(\n",
    "    in_features=\"ak128_x_footprints_gliht_chm_2014_3338_simp5m_antibuff90p5m;footprints_vhr_cloudmask_alaska_20230720_3338_buff_minus90p5m_fgdb\",\n",
    "    out_feature_class=r\"W:\\gis_projects\\2021\\21-347_NASA_SmallSat\\sample_points\\footprints_gliht.gdb\\ak128_x_vhr_x_footprints_gliht_chm_2014_3338_simp5m_antibuff90p5m\",\n",
    "    join_attributes=\"ALL\",\n",
    "    cluster_tolerance=None,\n",
    "    output_type=\"INPUT\"\n",
    ")\n",
    "```\n",
    "\n",
    "\n",
    "### Calculate lat/lon on table if needed\n",
    "### Export to CSV\n",
    "### tar.gz and send to ADAPT\n",
    "### Unpack on ADAPT\n",
    "\n"
   ]
  },
  {
   "cell_type": "markdown",
   "id": "f69c8cf0-ba6d-4209-8469-c95274edd3b6",
   "metadata": {},
   "source": [
    "## On ADAPT PRISM JupyterHub\n",
    "Initialize R"
   ]
  },
  {
   "cell_type": "code",
   "execution_count": 1,
   "id": "bb66d5a1-c74b-4ac6-8e06-1040118d8177",
   "metadata": {
    "tags": []
   },
   "outputs": [
    {
     "name": "stderr",
     "output_type": "stream",
     "text": [
      "Linking to GEOS 3.11.1, GDAL 3.6.1, PROJ 9.1.0; sf_use_s2() is TRUE\n",
      "\n",
      "── \u001b[1mAttaching packages\u001b[22m ─────────────────────────────────────── tidyverse 1.3.2 ──\n",
      "\u001b[32m✔\u001b[39m \u001b[34mggplot2\u001b[39m 3.4.0      \u001b[32m✔\u001b[39m \u001b[34mpurrr  \u001b[39m 1.0.0 \n",
      "\u001b[32m✔\u001b[39m \u001b[34mtibble \u001b[39m 3.1.8      \u001b[32m✔\u001b[39m \u001b[34mdplyr  \u001b[39m 1.0.10\n",
      "\u001b[32m✔\u001b[39m \u001b[34mtidyr  \u001b[39m 1.2.1      \u001b[32m✔\u001b[39m \u001b[34mstringr\u001b[39m 1.5.0 \n",
      "\u001b[32m✔\u001b[39m \u001b[34mreadr  \u001b[39m 2.1.3      \u001b[32m✔\u001b[39m \u001b[34mforcats\u001b[39m 0.5.2 \n",
      "── \u001b[1mConflicts\u001b[22m ────────────────────────────────────────── tidyverse_conflicts() ──\n",
      "\u001b[31m✖\u001b[39m \u001b[34mdplyr\u001b[39m::\u001b[32mfilter()\u001b[39m masks \u001b[34mstats\u001b[39m::filter()\n",
      "\u001b[31m✖\u001b[39m \u001b[34mdplyr\u001b[39m::\u001b[32mlag()\u001b[39m    masks \u001b[34mstats\u001b[39m::lag()\n",
      "\n",
      "Attaching package: ‘janitor’\n",
      "\n",
      "\n",
      "The following objects are masked from ‘package:stats’:\n",
      "\n",
      "    chisq.test, fisher.test\n",
      "\n",
      "\n",
      "\n",
      "Attaching package: ‘magrittr’\n",
      "\n",
      "\n",
      "The following object is masked from ‘package:purrr’:\n",
      "\n",
      "    set_names\n",
      "\n",
      "\n",
      "The following object is masked from ‘package:tidyr’:\n",
      "\n",
      "    extract\n",
      "\n",
      "\n",
      "Loading required package: timechange\n",
      "\n",
      "\n",
      "Attaching package: ‘lubridate’\n",
      "\n",
      "\n",
      "The following objects are masked from ‘package:base’:\n",
      "\n",
      "    date, intersect, setdiff, union\n",
      "\n",
      "\n",
      "terra 1.5.21\n",
      "\n",
      "\n",
      "Attaching package: ‘terra’\n",
      "\n",
      "\n",
      "The following object is masked from ‘package:glue’:\n",
      "\n",
      "    trim\n",
      "\n",
      "\n",
      "The following objects are masked from ‘package:magrittr’:\n",
      "\n",
      "    extract, inset\n",
      "\n",
      "\n",
      "The following object is masked from ‘package:janitor’:\n",
      "\n",
      "    crosstab\n",
      "\n",
      "\n",
      "The following object is masked from ‘package:dplyr’:\n",
      "\n",
      "    src\n",
      "\n",
      "\n",
      "The following object is masked from ‘package:tidyr’:\n",
      "\n",
      "    extract\n",
      "\n",
      "\n",
      "The following object is masked from ‘package:ggplot2’:\n",
      "\n",
      "    arrow\n",
      "\n",
      "\n",
      "Loading required package: future\n",
      "\n"
     ]
    }
   ],
   "source": [
    "#v2023-09-16 all valid chips (650k)\n",
    "#v2023-09-19 1% subset, use local terrain as predictor instead of DTM\n",
    "#v2023-09-25 GLIHT and IFSAR CHM, local terrain as predictor instead of DTM\n",
    "#v2023-09-26 GLIHT and IFSAR CHM, DTM as predictor for comparison and because pipeline not set up for rDTM yet\n",
    "library(sf)\n",
    "library(tidyverse)\n",
    "library(janitor)\n",
    "library(magrittr)\n",
    "library(lubridate)\n",
    "library(fs)\n",
    "library(glue)\n",
    "library(readxl)\n",
    "library(terra)\n",
    "library(furrr)\n",
    "library(exactextractr)\n",
    "# library(spatialEco)\n",
    "# library(gfcanalysis)\n",
    "basePath <- path('/explore/nobackup/people/mmacande/srlite/chm_model')\n",
    "# outPath <- path('/explore/nobackup/people/mmacande/srlite/chm_model/20230926_chm_dtm')\n",
    "outPath <- path('/explore/nobackup/people/mmacande/srlite/chm_model/20230928_chm')\n",
    "dir_create(outPath)"
   ]
  },
  {
   "cell_type": "markdown",
   "id": "db5a22f0-1438-487a-abdd-c7583786e2f8",
   "metadata": {
    "tags": []
   },
   "source": [
    "## Fix Jupyter / R / GDAL\n",
    "Code blocks below are dealing with gdal path issue on adapt. Still needed as of 2023-08-31\n",
    "\n",
    "Run once"
   ]
  },
  {
   "cell_type": "code",
   "execution_count": 2,
   "id": "cafbc368-e870-43f6-9874-6c34cbe5a4a9",
   "metadata": {},
   "outputs": [
    {
     "data": {
      "text/html": [
       "'/home/mmacande/.conda/envs/r4-base-20230102/share/proj'"
      ],
      "text/latex": [
       "'/home/mmacande/.conda/envs/r4-base-20230102/share/proj'"
      ],
      "text/markdown": [
       "'/home/mmacande/.conda/envs/r4-base-20230102/share/proj'"
      ],
      "text/plain": [
       "[1] \"/home/mmacande/.conda/envs/r4-base-20230102/share/proj\""
      ]
     },
     "metadata": {},
     "output_type": "display_data"
    }
   ],
   "source": [
    "secondPath <- sf_proj_search_paths()[[2]]\n",
    "sf_proj_search_paths(secondPath)\n",
    "\n",
    "# sf_proj_search_paths('/explore/nobackup/people/mmacande/proj')\n",
    "# Uncomment line below to see proj search paths\n",
    "# dir_ls(sf_proj_search_paths())"
   ]
  },
  {
   "cell_type": "markdown",
   "id": "99029011-d75d-4ad1-a3c3-aa281d7fed22",
   "metadata": {},
   "source": [
    "# Ingest CSV with intersection of regular grid points and footprints\n",
    "Load point file generated at ABR using SRLite cloud masks eroded (or anti-buffered) by 128 pixel diagonals to ensure all points had full 256x256 chip"
   ]
  },
  {
   "cell_type": "code",
   "execution_count": 8,
   "id": "48b12d53-841b-427a-b433-a04f4c363a02",
   "metadata": {},
   "outputs": [
    {
     "data": {
      "text/html": [
       "<style>\n",
       ".list-inline {list-style: none; margin:0; padding: 0}\n",
       ".list-inline>li {display: inline-block}\n",
       ".list-inline>li:not(:last-child)::after {content: \"\\00b7\"; padding: 0 .5ex}\n",
       "</style>\n",
       "<ol class=list-inline><li>'pointid'</li><li>'lidar_fp_path'</li><li>'BUFF_DIST'</li><li>'lat84'</li><li>'lon84'</li><li>'file_vhr'</li><li>'file_lidar'</li><li>'path_lidar'</li><li>'geometry'</li></ol>\n"
      ],
      "text/latex": [
       "\\begin{enumerate*}\n",
       "\\item 'pointid'\n",
       "\\item 'lidar\\_fp\\_path'\n",
       "\\item 'BUFF\\_DIST'\n",
       "\\item 'lat84'\n",
       "\\item 'lon84'\n",
       "\\item 'file\\_vhr'\n",
       "\\item 'file\\_lidar'\n",
       "\\item 'path\\_lidar'\n",
       "\\item 'geometry'\n",
       "\\end{enumerate*}\n"
      ],
      "text/markdown": [
       "1. 'pointid'\n",
       "2. 'lidar_fp_path'\n",
       "3. 'BUFF_DIST'\n",
       "4. 'lat84'\n",
       "5. 'lon84'\n",
       "6. 'file_vhr'\n",
       "7. 'file_lidar'\n",
       "8. 'path_lidar'\n",
       "9. 'geometry'\n",
       "\n",
       "\n"
      ],
      "text/plain": [
       "[1] \"pointid\"       \"lidar_fp_path\" \"BUFF_DIST\"     \"lat84\"        \n",
       "[5] \"lon84\"         \"file_vhr\"      \"file_lidar\"    \"path_lidar\"   \n",
       "[9] \"geometry\"     "
      ]
     },
     "metadata": {},
     "output_type": "display_data"
    },
    {
     "data": {
      "text/html": [
       "<table class=\"dataframe\">\n",
       "<caption>A tibble: 6 × 8</caption>\n",
       "<thead>\n",
       "\t<tr><th scope=col>pointid</th><th scope=col>lidar_fp_path</th><th scope=col>BUFF_DIST</th><th scope=col>lat84</th><th scope=col>lon84</th><th scope=col>file_vhr</th><th scope=col>file_lidar</th><th scope=col>path_lidar</th></tr>\n",
       "\t<tr><th scope=col>&lt;chr&gt;</th><th scope=col>&lt;chr&gt;</th><th scope=col>&lt;chr&gt;</th><th scope=col>&lt;chr&gt;</th><th scope=col>&lt;chr&gt;</th><th scope=col>&lt;chr&gt;</th><th scope=col>&lt;chr&gt;</th><th scope=col>&lt;chr&gt;</th></tr>\n",
       "</thead>\n",
       "<tbody>\n",
       "\t<tr><td>25600792</td><td>/explore/nobackup/projects/dem/AK_IFSAR/dggs.alaska.gov/public_lidar/yukon_flats_2009/yukon_flats_2009_chm_fp.gpkg</td><td>-90.500000000000000</td><td>66.5027313</td><td>-145.1144409</td><td>WV02_20190601_M1BS_1030010091224E00-toa.cloudmask.tif</td><td>yukon_flats_2009_chm_fp.gpkg</td><td>/explore/nobackup/projects/dem/AK_IFSAR/dggs.alaska.gov/public_lidar/yukon_flats_2009</td></tr>\n",
       "\t<tr><td>25600793</td><td>/explore/nobackup/projects/dem/AK_IFSAR/dggs.alaska.gov/public_lidar/yukon_flats_2009/yukon_flats_2009_chm_fp.gpkg</td><td>-90.500000000000000</td><td>66.5025787</td><td>-145.1116028</td><td>WV02_20190601_M1BS_1030010091224E00-toa.cloudmask.tif</td><td>yukon_flats_2009_chm_fp.gpkg</td><td>/explore/nobackup/projects/dem/AK_IFSAR/dggs.alaska.gov/public_lidar/yukon_flats_2009</td></tr>\n",
       "\t<tr><td>25600794</td><td>/explore/nobackup/projects/dem/AK_IFSAR/dggs.alaska.gov/public_lidar/yukon_flats_2009/yukon_flats_2009_chm_fp.gpkg</td><td>-90.500000000000000</td><td>66.5024261</td><td>-145.1087646</td><td>WV02_20190601_M1BS_1030010091224E00-toa.cloudmask.tif</td><td>yukon_flats_2009_chm_fp.gpkg</td><td>/explore/nobackup/projects/dem/AK_IFSAR/dggs.alaska.gov/public_lidar/yukon_flats_2009</td></tr>\n",
       "\t<tr><td>25600795</td><td>/explore/nobackup/projects/dem/AK_IFSAR/dggs.alaska.gov/public_lidar/yukon_flats_2009/yukon_flats_2009_chm_fp.gpkg</td><td>-90.500000000000000</td><td>66.5022659</td><td>-145.1059265</td><td>WV02_20190601_M1BS_1030010091224E00-toa.cloudmask.tif</td><td>yukon_flats_2009_chm_fp.gpkg</td><td>/explore/nobackup/projects/dem/AK_IFSAR/dggs.alaska.gov/public_lidar/yukon_flats_2009</td></tr>\n",
       "\t<tr><td>25609012</td><td>/explore/nobackup/projects/dem/AK_IFSAR/dggs.alaska.gov/public_lidar/yukon_flats_2009/yukon_flats_2009_chm_fp.gpkg</td><td>-90.500000000000000</td><td>66.5015869</td><td>-145.1148224</td><td>WV02_20190601_M1BS_1030010091224E00-toa.cloudmask.tif</td><td>yukon_flats_2009_chm_fp.gpkg</td><td>/explore/nobackup/projects/dem/AK_IFSAR/dggs.alaska.gov/public_lidar/yukon_flats_2009</td></tr>\n",
       "\t<tr><td>25609013</td><td>/explore/nobackup/projects/dem/AK_IFSAR/dggs.alaska.gov/public_lidar/yukon_flats_2009/yukon_flats_2009_chm_fp.gpkg</td><td>-90.500000000000000</td><td>66.5014343</td><td>-145.1119843</td><td>WV02_20190601_M1BS_1030010091224E00-toa.cloudmask.tif</td><td>yukon_flats_2009_chm_fp.gpkg</td><td>/explore/nobackup/projects/dem/AK_IFSAR/dggs.alaska.gov/public_lidar/yukon_flats_2009</td></tr>\n",
       "</tbody>\n",
       "</table>\n"
      ],
      "text/latex": [
       "A tibble: 6 × 8\n",
       "\\begin{tabular}{llllllll}\n",
       " pointid & lidar\\_fp\\_path & BUFF\\_DIST & lat84 & lon84 & file\\_vhr & file\\_lidar & path\\_lidar\\\\\n",
       " <chr> & <chr> & <chr> & <chr> & <chr> & <chr> & <chr> & <chr>\\\\\n",
       "\\hline\n",
       "\t 25600792 & /explore/nobackup/projects/dem/AK\\_IFSAR/dggs.alaska.gov/public\\_lidar/yukon\\_flats\\_2009/yukon\\_flats\\_2009\\_chm\\_fp.gpkg & -90.500000000000000 & 66.5027313 & -145.1144409 & WV02\\_20190601\\_M1BS\\_1030010091224E00-toa.cloudmask.tif & yukon\\_flats\\_2009\\_chm\\_fp.gpkg & /explore/nobackup/projects/dem/AK\\_IFSAR/dggs.alaska.gov/public\\_lidar/yukon\\_flats\\_2009\\\\\n",
       "\t 25600793 & /explore/nobackup/projects/dem/AK\\_IFSAR/dggs.alaska.gov/public\\_lidar/yukon\\_flats\\_2009/yukon\\_flats\\_2009\\_chm\\_fp.gpkg & -90.500000000000000 & 66.5025787 & -145.1116028 & WV02\\_20190601\\_M1BS\\_1030010091224E00-toa.cloudmask.tif & yukon\\_flats\\_2009\\_chm\\_fp.gpkg & /explore/nobackup/projects/dem/AK\\_IFSAR/dggs.alaska.gov/public\\_lidar/yukon\\_flats\\_2009\\\\\n",
       "\t 25600794 & /explore/nobackup/projects/dem/AK\\_IFSAR/dggs.alaska.gov/public\\_lidar/yukon\\_flats\\_2009/yukon\\_flats\\_2009\\_chm\\_fp.gpkg & -90.500000000000000 & 66.5024261 & -145.1087646 & WV02\\_20190601\\_M1BS\\_1030010091224E00-toa.cloudmask.tif & yukon\\_flats\\_2009\\_chm\\_fp.gpkg & /explore/nobackup/projects/dem/AK\\_IFSAR/dggs.alaska.gov/public\\_lidar/yukon\\_flats\\_2009\\\\\n",
       "\t 25600795 & /explore/nobackup/projects/dem/AK\\_IFSAR/dggs.alaska.gov/public\\_lidar/yukon\\_flats\\_2009/yukon\\_flats\\_2009\\_chm\\_fp.gpkg & -90.500000000000000 & 66.5022659 & -145.1059265 & WV02\\_20190601\\_M1BS\\_1030010091224E00-toa.cloudmask.tif & yukon\\_flats\\_2009\\_chm\\_fp.gpkg & /explore/nobackup/projects/dem/AK\\_IFSAR/dggs.alaska.gov/public\\_lidar/yukon\\_flats\\_2009\\\\\n",
       "\t 25609012 & /explore/nobackup/projects/dem/AK\\_IFSAR/dggs.alaska.gov/public\\_lidar/yukon\\_flats\\_2009/yukon\\_flats\\_2009\\_chm\\_fp.gpkg & -90.500000000000000 & 66.5015869 & -145.1148224 & WV02\\_20190601\\_M1BS\\_1030010091224E00-toa.cloudmask.tif & yukon\\_flats\\_2009\\_chm\\_fp.gpkg & /explore/nobackup/projects/dem/AK\\_IFSAR/dggs.alaska.gov/public\\_lidar/yukon\\_flats\\_2009\\\\\n",
       "\t 25609013 & /explore/nobackup/projects/dem/AK\\_IFSAR/dggs.alaska.gov/public\\_lidar/yukon\\_flats\\_2009/yukon\\_flats\\_2009\\_chm\\_fp.gpkg & -90.500000000000000 & 66.5014343 & -145.1119843 & WV02\\_20190601\\_M1BS\\_1030010091224E00-toa.cloudmask.tif & yukon\\_flats\\_2009\\_chm\\_fp.gpkg & /explore/nobackup/projects/dem/AK\\_IFSAR/dggs.alaska.gov/public\\_lidar/yukon\\_flats\\_2009\\\\\n",
       "\\end{tabular}\n"
      ],
      "text/markdown": [
       "\n",
       "A tibble: 6 × 8\n",
       "\n",
       "| pointid &lt;chr&gt; | lidar_fp_path &lt;chr&gt; | BUFF_DIST &lt;chr&gt; | lat84 &lt;chr&gt; | lon84 &lt;chr&gt; | file_vhr &lt;chr&gt; | file_lidar &lt;chr&gt; | path_lidar &lt;chr&gt; |\n",
       "|---|---|---|---|---|---|---|---|\n",
       "| 25600792 | /explore/nobackup/projects/dem/AK_IFSAR/dggs.alaska.gov/public_lidar/yukon_flats_2009/yukon_flats_2009_chm_fp.gpkg | -90.500000000000000 | 66.5027313 | -145.1144409 | WV02_20190601_M1BS_1030010091224E00-toa.cloudmask.tif | yukon_flats_2009_chm_fp.gpkg | /explore/nobackup/projects/dem/AK_IFSAR/dggs.alaska.gov/public_lidar/yukon_flats_2009 |\n",
       "| 25600793 | /explore/nobackup/projects/dem/AK_IFSAR/dggs.alaska.gov/public_lidar/yukon_flats_2009/yukon_flats_2009_chm_fp.gpkg | -90.500000000000000 | 66.5025787 | -145.1116028 | WV02_20190601_M1BS_1030010091224E00-toa.cloudmask.tif | yukon_flats_2009_chm_fp.gpkg | /explore/nobackup/projects/dem/AK_IFSAR/dggs.alaska.gov/public_lidar/yukon_flats_2009 |\n",
       "| 25600794 | /explore/nobackup/projects/dem/AK_IFSAR/dggs.alaska.gov/public_lidar/yukon_flats_2009/yukon_flats_2009_chm_fp.gpkg | -90.500000000000000 | 66.5024261 | -145.1087646 | WV02_20190601_M1BS_1030010091224E00-toa.cloudmask.tif | yukon_flats_2009_chm_fp.gpkg | /explore/nobackup/projects/dem/AK_IFSAR/dggs.alaska.gov/public_lidar/yukon_flats_2009 |\n",
       "| 25600795 | /explore/nobackup/projects/dem/AK_IFSAR/dggs.alaska.gov/public_lidar/yukon_flats_2009/yukon_flats_2009_chm_fp.gpkg | -90.500000000000000 | 66.5022659 | -145.1059265 | WV02_20190601_M1BS_1030010091224E00-toa.cloudmask.tif | yukon_flats_2009_chm_fp.gpkg | /explore/nobackup/projects/dem/AK_IFSAR/dggs.alaska.gov/public_lidar/yukon_flats_2009 |\n",
       "| 25609012 | /explore/nobackup/projects/dem/AK_IFSAR/dggs.alaska.gov/public_lidar/yukon_flats_2009/yukon_flats_2009_chm_fp.gpkg | -90.500000000000000 | 66.5015869 | -145.1148224 | WV02_20190601_M1BS_1030010091224E00-toa.cloudmask.tif | yukon_flats_2009_chm_fp.gpkg | /explore/nobackup/projects/dem/AK_IFSAR/dggs.alaska.gov/public_lidar/yukon_flats_2009 |\n",
       "| 25609013 | /explore/nobackup/projects/dem/AK_IFSAR/dggs.alaska.gov/public_lidar/yukon_flats_2009/yukon_flats_2009_chm_fp.gpkg | -90.500000000000000 | 66.5014343 | -145.1119843 | WV02_20190601_M1BS_1030010091224E00-toa.cloudmask.tif | yukon_flats_2009_chm_fp.gpkg | /explore/nobackup/projects/dem/AK_IFSAR/dggs.alaska.gov/public_lidar/yukon_flats_2009 |\n",
       "\n"
      ],
      "text/plain": [
       "  pointid \n",
       "1 25600792\n",
       "2 25600793\n",
       "3 25600794\n",
       "4 25600795\n",
       "5 25609012\n",
       "6 25609013\n",
       "  lidar_fp_path                                                                                                     \n",
       "1 /explore/nobackup/projects/dem/AK_IFSAR/dggs.alaska.gov/public_lidar/yukon_flats_2009/yukon_flats_2009_chm_fp.gpkg\n",
       "2 /explore/nobackup/projects/dem/AK_IFSAR/dggs.alaska.gov/public_lidar/yukon_flats_2009/yukon_flats_2009_chm_fp.gpkg\n",
       "3 /explore/nobackup/projects/dem/AK_IFSAR/dggs.alaska.gov/public_lidar/yukon_flats_2009/yukon_flats_2009_chm_fp.gpkg\n",
       "4 /explore/nobackup/projects/dem/AK_IFSAR/dggs.alaska.gov/public_lidar/yukon_flats_2009/yukon_flats_2009_chm_fp.gpkg\n",
       "5 /explore/nobackup/projects/dem/AK_IFSAR/dggs.alaska.gov/public_lidar/yukon_flats_2009/yukon_flats_2009_chm_fp.gpkg\n",
       "6 /explore/nobackup/projects/dem/AK_IFSAR/dggs.alaska.gov/public_lidar/yukon_flats_2009/yukon_flats_2009_chm_fp.gpkg\n",
       "  BUFF_DIST           lat84      lon84       \n",
       "1 -90.500000000000000 66.5027313 -145.1144409\n",
       "2 -90.500000000000000 66.5025787 -145.1116028\n",
       "3 -90.500000000000000 66.5024261 -145.1087646\n",
       "4 -90.500000000000000 66.5022659 -145.1059265\n",
       "5 -90.500000000000000 66.5015869 -145.1148224\n",
       "6 -90.500000000000000 66.5014343 -145.1119843\n",
       "  file_vhr                                             \n",
       "1 WV02_20190601_M1BS_1030010091224E00-toa.cloudmask.tif\n",
       "2 WV02_20190601_M1BS_1030010091224E00-toa.cloudmask.tif\n",
       "3 WV02_20190601_M1BS_1030010091224E00-toa.cloudmask.tif\n",
       "4 WV02_20190601_M1BS_1030010091224E00-toa.cloudmask.tif\n",
       "5 WV02_20190601_M1BS_1030010091224E00-toa.cloudmask.tif\n",
       "6 WV02_20190601_M1BS_1030010091224E00-toa.cloudmask.tif\n",
       "  file_lidar                  \n",
       "1 yukon_flats_2009_chm_fp.gpkg\n",
       "2 yukon_flats_2009_chm_fp.gpkg\n",
       "3 yukon_flats_2009_chm_fp.gpkg\n",
       "4 yukon_flats_2009_chm_fp.gpkg\n",
       "5 yukon_flats_2009_chm_fp.gpkg\n",
       "6 yukon_flats_2009_chm_fp.gpkg\n",
       "  path_lidar                                                                           \n",
       "1 /explore/nobackup/projects/dem/AK_IFSAR/dggs.alaska.gov/public_lidar/yukon_flats_2009\n",
       "2 /explore/nobackup/projects/dem/AK_IFSAR/dggs.alaska.gov/public_lidar/yukon_flats_2009\n",
       "3 /explore/nobackup/projects/dem/AK_IFSAR/dggs.alaska.gov/public_lidar/yukon_flats_2009\n",
       "4 /explore/nobackup/projects/dem/AK_IFSAR/dggs.alaska.gov/public_lidar/yukon_flats_2009\n",
       "5 /explore/nobackup/projects/dem/AK_IFSAR/dggs.alaska.gov/public_lidar/yukon_flats_2009\n",
       "6 /explore/nobackup/projects/dem/AK_IFSAR/dggs.alaska.gov/public_lidar/yukon_flats_2009"
      ]
     },
     "metadata": {},
     "output_type": "display_data"
    }
   ],
   "source": [
    "# import os; os.environ['PROJ_LIB'] = '/home/mmacande/.conda/envs/r4-base-20230102/share/proj'\n",
    "# proj error fix above, below did not work\n",
    "# cp -r /home/mmacande/.conda/envs/r4-base-20230102/share/proj /explore/nobackup/people/mmacande/proj\n",
    "\n",
    "# points <- read_sf('/explore/nobackup/people/mmacande/srlite/chm_model/chm_sample_100k_chm_1kPerBin_p1_v20230329.csv') %>%\n",
    "# points <- read_sf(path(basePath, 'sample_points', 'ak128_x_vhr_x_footprints_gliht_chm_2014_3338_simp5m_antibuff90p5m_v20230925.csv')) %>%\n",
    "    # select(pointid, file_lidar=file, path_lidar=path, BUFF_DIST, lat84, lon84, file_vhr = file_1)\n",
    "\n",
    "points <- read_sf(path(basePath, 'sample_points', 'ak128_x_vhr_x_dggs_lidar_fp_v20230927_3338_antibuff90p5m_v20230928.csv')) %>%\n",
    "    select(pointid, lidar_fp_path, BUFF_DIST, lat84, lon84, file_vhr = file) %>%\n",
    "    mutate(file_lidar = path_file(lidar_fp_path), \n",
    "           file_lidar = str_replace(file_lidar, '_fp.gkp', '.tif'),\n",
    "           path_lidar = path_dir(lidar_fp_path)) %>%\n",
    "    st_as_sf(coords=c('lon84','lat84'), crs=4326, agr=\"constant\", remove=F)\n",
    "# mutate(epsg = as.integer(epsg))\n",
    "      # chipName = str_replace(chipName, 'v20230523', 'v20230829'))\n",
    "\n",
    "colnames(points)\n",
    "head(points %>% st_drop_geometry())\n",
    "# print(points %>% group_by(epsg) %>% tally())\n",
    "# st_crs(points)"
   ]
  },
  {
   "cell_type": "markdown",
   "id": "d0124523-a5e6-43d6-93d8-381ccec7d6a5",
   "metadata": {},
   "source": [
    "## Ancillary layers for spatial joins used to attribute and filter points"
   ]
  },
  {
   "cell_type": "code",
   "execution_count": 9,
   "id": "5960988c-0f48-435d-a6d7-a642fef4964d",
   "metadata": {},
   "outputs": [],
   "source": [
    "ak_yukon_boreal_arctic <- read_sf(path(basePath, 'gis_layers/AKVEG_Regions.gpkg'),\n",
    "                                  layer='NorthAmericanBeringia_ModelArea_3338')\n",
    "mrfy <- rast(path(basePath, 'gis_layers', 'mrfy_ak_1940_2022_30m_3338_u16.tif'))\n",
    "\n",
    "ifsar_metadata <- read_sf(path(basePath, 'gis_layers','ifsar_metadata_x_ifsar_extent_wOcean.shp')) %>%\n",
    "  rename(ifsar_year = year,\n",
    "         ifsar_cell = cell) %>%\n",
    "  mutate(ifsar_year = as.integer(ifsar_year),\n",
    "         ifsar_year = if_else(is.na(ifsar_year), 0L, ifsar_year)) %>%\n",
    "  select(ifsar_year, ifsar_cell) %>%\n",
    "  st_make_valid()\n"
   ]
  },
  {
   "cell_type": "code",
   "execution_count": 12,
   "id": "c99ef4ba-3770-4e09-8c93-652496a2d7a6",
   "metadata": {},
   "outputs": [
    {
     "data": {
      "text/html": [
       "2369914"
      ],
      "text/latex": [
       "2369914"
      ],
      "text/markdown": [
       "2369914"
      ],
      "text/plain": [
       "[1] 2369914"
      ]
     },
     "metadata": {},
     "output_type": "display_data"
    }
   ],
   "source": [
    "# st_crs(ak_yukon_boreal_arctic)\n",
    "# st_crs(mrfy)\n",
    "# st_crs(ifsar_metadata)\n",
    "nrow(points)"
   ]
  },
  {
   "cell_type": "markdown",
   "id": "c0e04026-9bce-406e-a35a-ca6d7a7d6c2c",
   "metadata": {},
   "source": [
    "### Spatial joins"
   ]
  },
  {
   "cell_type": "code",
   "execution_count": 11,
   "id": "e465b376-4fe2-4720-8d5b-5a9771855ac5",
   "metadata": {},
   "outputs": [
    {
     "name": "stderr",
     "output_type": "stream",
     "text": [
      "st_as_s2(): dropping Z and/or M coordinate\n",
      "\n"
     ]
    }
   ],
   "source": [
    "points_x_ifsar <- st_join(points, ifsar_metadata, join=st_within)\n",
    "points_x_ifsar_sa <- st_join(points_x_ifsar, ak_yukon_boreal_arctic %>% st_transform(4326), join=st_within)"
   ]
  },
  {
   "cell_type": "code",
   "execution_count": 13,
   "id": "ac9bbd7d-a499-4d97-8541-00284bca96a4",
   "metadata": {},
   "outputs": [
    {
     "name": "stderr",
     "output_type": "stream",
     "text": [
      "Cannot preload entire working area of 1332937329 cells with max_cells_in_memory = 3e+07. Raster values will be read for each feature individually.\n",
      "\n"
     ]
    },
    {
     "name": "stdout",
     "output_type": "stream",
     "text": [
      "  |======================================================================| 100%\n"
     ]
    }
   ],
   "source": [
    "mrfy_max = tibble(mrfy_max = exact_extract(mrfy, points %>% st_transform(3338) %>% st_buffer(64), fun='max'))\n",
    "\n",
    "mrfy_max <- mrfy_max %>%\n",
    "  mutate(mrfy_max = if_else(is.na(mrfy_max), 1900, mrfy_max))"
   ]
  },
  {
   "cell_type": "code",
   "execution_count": 14,
   "id": "f3834635-3d58-451e-b051-fcdad60f1572",
   "metadata": {},
   "outputs": [],
   "source": [
    "points_x_ifsar_sa_fire <- bind_cols(points_x_ifsar_sa, mrfy_max)"
   ]
  },
  {
   "cell_type": "code",
   "execution_count": 15,
   "id": "0dbd74f5-fa40-4611-99cb-4dbfdb901403",
   "metadata": {},
   "outputs": [
    {
     "data": {
      "text/html": [
       "<style>\n",
       ".list-inline {list-style: none; margin:0; padding: 0}\n",
       ".list-inline>li {display: inline-block}\n",
       ".list-inline>li:not(:last-child)::after {content: \"\\00b7\"; padding: 0 .5ex}\n",
       "</style>\n",
       "<ol class=list-inline><li>'pointid'</li><li>'lidar_fp_path'</li><li>'BUFF_DIST'</li><li>'lat84'</li><li>'lon84'</li><li>'file_vhr'</li><li>'file_lidar'</li><li>'path_lidar'</li><li>'geometry'</li><li>'ifsar_year'</li><li>'ifsar_cell'</li><li>'Region'</li><li>'Shape_Length'</li><li>'Shape_Area'</li><li>'mrfy_max'</li></ol>\n"
      ],
      "text/latex": [
       "\\begin{enumerate*}\n",
       "\\item 'pointid'\n",
       "\\item 'lidar\\_fp\\_path'\n",
       "\\item 'BUFF\\_DIST'\n",
       "\\item 'lat84'\n",
       "\\item 'lon84'\n",
       "\\item 'file\\_vhr'\n",
       "\\item 'file\\_lidar'\n",
       "\\item 'path\\_lidar'\n",
       "\\item 'geometry'\n",
       "\\item 'ifsar\\_year'\n",
       "\\item 'ifsar\\_cell'\n",
       "\\item 'Region'\n",
       "\\item 'Shape\\_Length'\n",
       "\\item 'Shape\\_Area'\n",
       "\\item 'mrfy\\_max'\n",
       "\\end{enumerate*}\n"
      ],
      "text/markdown": [
       "1. 'pointid'\n",
       "2. 'lidar_fp_path'\n",
       "3. 'BUFF_DIST'\n",
       "4. 'lat84'\n",
       "5. 'lon84'\n",
       "6. 'file_vhr'\n",
       "7. 'file_lidar'\n",
       "8. 'path_lidar'\n",
       "9. 'geometry'\n",
       "10. 'ifsar_year'\n",
       "11. 'ifsar_cell'\n",
       "12. 'Region'\n",
       "13. 'Shape_Length'\n",
       "14. 'Shape_Area'\n",
       "15. 'mrfy_max'\n",
       "\n",
       "\n"
      ],
      "text/plain": [
       " [1] \"pointid\"       \"lidar_fp_path\" \"BUFF_DIST\"     \"lat84\"        \n",
       " [5] \"lon84\"         \"file_vhr\"      \"file_lidar\"    \"path_lidar\"   \n",
       " [9] \"geometry\"      \"ifsar_year\"    \"ifsar_cell\"    \"Region\"       \n",
       "[13] \"Shape_Length\"  \"Shape_Area\"    \"mrfy_max\"     "
      ]
     },
     "metadata": {},
     "output_type": "display_data"
    }
   ],
   "source": [
    "# points_x_ifsar_sa_fire %>% st_drop_geometry() %>% group_by(ifsar_year) %>% tally()\n",
    "# points_x_ifsar_sa_fire %>% st_drop_geometry() %>% group_by(Region) %>% tally()\n",
    "# points_x_ifsar_sa_fire %>% st_drop_geometry() %>% group_by(mrfy_max) %>% tally()\n",
    "colnames(points_x_ifsar_sa_fire)"
   ]
  },
  {
   "cell_type": "markdown",
   "id": "dc673d03-a118-469a-9a9c-2f9263a74d66",
   "metadata": {},
   "source": [
    "## Get Paths of SRLite inputs to join on catid"
   ]
  },
  {
   "cell_type": "code",
   "execution_count": 16,
   "id": "4ba3c912-6c43-46c6-bb75-b20ff4493f2d",
   "metadata": {},
   "outputs": [
    {
     "data": {
      "text/html": [
       "<style>\n",
       ".list-inline {list-style: none; margin:0; padding: 0}\n",
       ".list-inline>li {display: inline-block}\n",
       ".list-inline>li:not(:last-child)::after {content: \"\\00b7\"; padding: 0 .5ex}\n",
       "</style>\n",
       "<ol class=list-inline><li>'file'</li><li>'footprint_name'</li><li>'path'</li><li>'area_km2'</li><li>'area_ha'</li><li>'subdir'</li><li>'type'</li><li>'catid'</li><li>'sensor'</li><li>'year'</li><li>'month'</li><li>'date'</li><li>'satid'</li><li>'el'</li><li>'az'</li><li>'sunel'</li><li>'sunaz'</li><li>'geom'</li><li>'srlitePath'</li></ol>\n"
      ],
      "text/latex": [
       "\\begin{enumerate*}\n",
       "\\item 'file'\n",
       "\\item 'footprint\\_name'\n",
       "\\item 'path'\n",
       "\\item 'area\\_km2'\n",
       "\\item 'area\\_ha'\n",
       "\\item 'subdir'\n",
       "\\item 'type'\n",
       "\\item 'catid'\n",
       "\\item 'sensor'\n",
       "\\item 'year'\n",
       "\\item 'month'\n",
       "\\item 'date'\n",
       "\\item 'satid'\n",
       "\\item 'el'\n",
       "\\item 'az'\n",
       "\\item 'sunel'\n",
       "\\item 'sunaz'\n",
       "\\item 'geom'\n",
       "\\item 'srlitePath'\n",
       "\\end{enumerate*}\n"
      ],
      "text/markdown": [
       "1. 'file'\n",
       "2. 'footprint_name'\n",
       "3. 'path'\n",
       "4. 'area_km2'\n",
       "5. 'area_ha'\n",
       "6. 'subdir'\n",
       "7. 'type'\n",
       "8. 'catid'\n",
       "9. 'sensor'\n",
       "10. 'year'\n",
       "11. 'month'\n",
       "12. 'date'\n",
       "13. 'satid'\n",
       "14. 'el'\n",
       "15. 'az'\n",
       "16. 'sunel'\n",
       "17. 'sunaz'\n",
       "18. 'geom'\n",
       "19. 'srlitePath'\n",
       "\n",
       "\n"
      ],
      "text/plain": [
       " [1] \"file\"           \"footprint_name\" \"path\"           \"area_km2\"      \n",
       " [5] \"area_ha\"        \"subdir\"         \"type\"           \"catid\"         \n",
       " [9] \"sensor\"         \"year\"           \"month\"          \"date\"          \n",
       "[13] \"satid\"          \"el\"             \"az\"             \"sunel\"         \n",
       "[17] \"sunaz\"          \"geom\"           \"srlitePath\"    "
      ]
     },
     "metadata": {},
     "output_type": "display_data"
    },
    {
     "data": {
      "text/html": [
       "2963"
      ],
      "text/latex": [
       "2963"
      ],
      "text/markdown": [
       "2963"
      ],
      "text/plain": [
       "[1] 2963"
      ]
     },
     "metadata": {},
     "output_type": "display_data"
    },
    {
     "data": {
      "text/html": [
       "3226"
      ],
      "text/latex": [
       "3226"
      ],
      "text/markdown": [
       "3226"
      ],
      "text/plain": [
       "[1] 3226"
      ]
     },
     "metadata": {},
     "output_type": "display_data"
    },
    {
     "data": {
      "text/html": [
       "<table class=\"dataframe\">\n",
       "<caption>A tibble: 6 × 2</caption>\n",
       "<thead>\n",
       "\t<tr><th scope=col>catid</th><th scope=col>n</th></tr>\n",
       "\t<tr><th scope=col>&lt;chr&gt;</th><th scope=col>&lt;int&gt;</th></tr>\n",
       "</thead>\n",
       "<tbody>\n",
       "\t<tr><td>1030010024CC3100</td><td>2</td></tr>\n",
       "\t<tr><td>1030010092635900</td><td>2</td></tr>\n",
       "\t<tr><td>103001009367EC00</td><td>2</td></tr>\n",
       "\t<tr><td>103001009409EB00</td><td>2</td></tr>\n",
       "\t<tr><td>103001009561CF00</td><td>2</td></tr>\n",
       "\t<tr><td>10300100A622DE00</td><td>2</td></tr>\n",
       "</tbody>\n",
       "</table>\n"
      ],
      "text/latex": [
       "A tibble: 6 × 2\n",
       "\\begin{tabular}{ll}\n",
       " catid & n\\\\\n",
       " <chr> & <int>\\\\\n",
       "\\hline\n",
       "\t 1030010024CC3100 & 2\\\\\n",
       "\t 1030010092635900 & 2\\\\\n",
       "\t 103001009367EC00 & 2\\\\\n",
       "\t 103001009409EB00 & 2\\\\\n",
       "\t 103001009561CF00 & 2\\\\\n",
       "\t 10300100A622DE00 & 2\\\\\n",
       "\\end{tabular}\n"
      ],
      "text/markdown": [
       "\n",
       "A tibble: 6 × 2\n",
       "\n",
       "| catid &lt;chr&gt; | n &lt;int&gt; |\n",
       "|---|---|\n",
       "| 1030010024CC3100 | 2 |\n",
       "| 1030010092635900 | 2 |\n",
       "| 103001009367EC00 | 2 |\n",
       "| 103001009409EB00 | 2 |\n",
       "| 103001009561CF00 | 2 |\n",
       "| 10300100A622DE00 | 2 |\n",
       "\n"
      ],
      "text/plain": [
       "  catid            n\n",
       "1 1030010024CC3100 2\n",
       "2 1030010092635900 2\n",
       "3 103001009367EC00 2\n",
       "4 103001009409EB00 2\n",
       "5 103001009561CF00 2\n",
       "6 10300100A622DE00 2"
      ]
     },
     "metadata": {},
     "output_type": "display_data"
    },
    {
     "data": {
      "text/html": [
       "3220"
      ],
      "text/latex": [
       "3220"
      ],
      "text/markdown": [
       "3220"
      ],
      "text/plain": [
       "[1] 3220"
      ]
     },
     "metadata": {},
     "output_type": "display_data"
    }
   ],
   "source": [
    "#This is out of date\n",
    "srlite_fp <- read_sf('/explore/nobackup/people/pmontesa/srlite/footprints_vhrmeta_SR_alaska.gpkg') %>%\n",
    "  mutate(srlitePath = path(path, file))\n",
    "colnames(srlite_fp)\n",
    "\n",
    "srlite_fp_fs <- tibble(srlitePath = dir_ls('/explore/nobackup/projects/ilab/data/srlite/products/srlite_1.0.1/srlite/alaska', recurse=T, glob='*csv*/*-sr-02m.tif')) %>%\n",
    "\n",
    "#Get list off file system\n",
    "#Remove dups with OLS processing\n",
    "filter(!str_detect(srlitePath, '/ols/')) %>%\n",
    "mutate(srliteFile = path_file(srlitePath),\n",
    "       catid = str_sub(srliteFile, 20, 35))\n",
    "nrow(srlite_fp)\n",
    "nrow(srlite_fp_fs)\n",
    "\n",
    "srlite_fp_fs %>% group_by(catid) %>% tally() %>% filter(n>1)\n",
    "#Remove dups, keeping the last generated path in alphabetical order\n",
    "srlite_fp_fs <- srlite_fp_fs %>% group_by(catid) %>% arrange(desc(srlitePath)) %>% slice_head(n=1)\n",
    "nrow(srlite_fp_fs)\n",
    "\n"
   ]
  },
  {
   "cell_type": "markdown",
   "id": "6390f253-173d-4e56-ab4a-e6780e57db98",
   "metadata": {},
   "source": [
    "## Ingest SRLite metrics"
   ]
  },
  {
   "cell_type": "code",
   "execution_count": null,
   "id": "252a4af6-764f-4d57-9a1c-d01c5dd1f9f5",
   "metadata": {},
   "outputs": [],
   "source": [
    "srlite_metrics <- read_csv('/explore/nobackup/people/pmontesa/userfs02/projects/ilab/above_shrubs/data/tables/srlite_metrics_alaska_202308291350.csv') %>%\n",
    "  select(-`...1`)\n",
    "dups <- srlite_metrics %>%\n",
    "  dplyr::group_by(model, file, type, footprint_name, catid, sensor, year, month, date, band_name) %>%\n",
    "  dplyr::summarise(n = dplyr::n(), .groups = \"drop\") %>%\n",
    "  dplyr::filter(n > 1L) \n",
    "\n",
    "\n",
    "srlite_metrics_wide <- srlite_metrics %>%\n",
    "  filter(band_name %in% c('Blue','Green','Red','NIR')) %>%\n",
    "  pivot_wider(id_cols=c(model, file, type, footprint_name, catid, sensor, year, month, date), names_from=band_name, values_from=intercept:rmse_norm, values_fn=mean) #%>%\n",
    "\n",
    "colnames(srlite_metrics_wide)\n"
   ]
  },
  {
   "cell_type": "markdown",
   "id": "7feae04a-e06f-482a-af81-ec03b55b0bb5",
   "metadata": {},
   "source": [
    "## Calculate attributes and join SRLite info\n",
    "## Generate names for image chips"
   ]
  },
  {
   "cell_type": "code",
   "execution_count": null,
   "id": "0a558f97-f737-4aaa-b67a-1edd313996fb",
   "metadata": {},
   "outputs": [],
   "source": [
    "points_fortified <- points_x_ifsar_sa_fire %>%\n",
    "  st_drop_geometry() %>%\n",
    "  select(-starts_with('Shape_')) %>%\n",
    "  mutate(lidarPath = path(path_lidar, file_lidar),\n",
    "         baseName = str_sub(file_vhr, 0, 35),\n",
    "         baseNameLidar = path_ext_remove(file_lidar),\n",
    "         vhr_year = as.integer(str_sub(baseName, 6, 9)),\n",
    "         vhr_mm = as.integer(str_sub(baseName, 10, 11)),\n",
    "         vhr_dd = as.integer(str_sub(baseName, 12, 13)),\n",
    "         sensor = str_sub(baseName, 1, 4),\n",
    "         catid = str_sub(baseName, 20, 35),\n",
    "         .before=file_vhr) %>%\n",
    "  group_by(baseName, baseNameLidar) %>%\n",
    "  # mutate(chip_gran_id = row_number(FID_fishnet_512m_label),\n",
    "  mutate(chip_gran_id = row_number(pointid),\n",
    "         chipName = glue('chip_{baseName}_CHM_{baseNameLidar}_{str_pad(chip_gran_id, 5, \"left\", \"0\")}_v20230925'),\n",
    "         .before=file_vhr) %>%\n",
    "  mutate(imageYear_minus_ifsarYear = vhr_year - ifsar_year,\n",
    "         fireYear_minus_imageYear = mrfy_max - vhr_year,\n",
    "         fireYear_minus_ifsarYear = mrfy_max - ifsar_year,\n",
    "         fireYear_minus_lidarYear = mrfy_max - 2014,\n",
    "         imageYear_minus_lidarYear = vhr_year - 2014) %>%\n",
    "         # fireFlag = between(fireYear_minus_imageYear, -1, 0) | between(fireYear_minus_ifsarYear, -1, 0) | between(mrfy_max, pmin(vhr_year, ifsar_year), pmax(vhr_year, ifsar_year))) %>%\n",
    "  relocate(starts_with('ifsar'), .before=file_vhr) %>%\n",
    "  relocate(starts_with('fire'), .before=file_vhr) %>%\n",
    "  relocate(starts_with('mrfy'), .before=file_vhr) %>%\n",
    "  ungroup() %>%\n",
    "  left_join(srlite_fp_fs %>% select(catid, srlitePath)) %>%\n",
    "  left_join(srlite_metrics_wide %>% select(catid, r2_score_NIR)) %>%\n",
    "  mutate(random = runif(n()), .before=chipName,\n",
    "         trainTest = case_when(\n",
    "            random < 0.90 ~ 'train',\n",
    "            T ~ 'test'))\n"
   ]
  },
  {
   "cell_type": "code",
   "execution_count": null,
   "id": "edb6423c-9946-4a68-aa16-283874b32ce8",
   "metadata": {
    "tags": []
   },
   "outputs": [],
   "source": [
    "points_fortified %>% group_by(vhr_mm) %>% tally()\n",
    "points_fortified %>% group_by(imageYear_minus_lidarYear) %>% tally()\n",
    "# points_fortified %>% group_by(fireYear_minus_lidarYear) %>% tally()\n",
    "points_fortified %>% group_by(mrfy_max) %>% tally()\n",
    "# points_fortified %>% group_by(group) %>% tally()\n",
    "\n",
    "write_csv(points_fortified, path(outPath,'fortified_ak128_x_vhr_x_footprints_gliht_chm_2014_3338_simp5m_antibuff90p5m_v20230925.csv'))"
   ]
  },
  {
   "cell_type": "markdown",
   "id": "5da02504-7216-403c-bb48-03ea99f173de",
   "metadata": {},
   "source": [
    "## Filter points (July, August, no recent fires) and save CSV"
   ]
  },
  {
   "cell_type": "code",
   "execution_count": null,
   "id": "bffa2e9e-dfc0-4f88-bba1-2c4376faeba5",
   "metadata": {},
   "outputs": [],
   "source": [
    "filtered_points <- points_fortified %>%\n",
    "filter(vhr_mm %in% c(7,8), r2_score_NIR >= 0.75, !between(mrfy_max, 2012, 2014)) %>%\n",
    "mutate(group = glue('gliht_78_{trainTest}_v20230925'))\n",
    "\n",
    "nrow(points_fortified)\n",
    "nrow(filtered_points)\n",
    "colnames(filtered_points)\n",
    "\n",
    "write_csv(filtered_points, path(outPath,'fortified_filtered_ak128_x_vhr_x_footprints_gliht_chm_2014_3338_simp5m_antibuff90p5m_v20230925.csv'))"
   ]
  },
  {
   "cell_type": "markdown",
   "id": "7648f6aa-a022-42da-9cab-e7ad09a689cb",
   "metadata": {},
   "source": [
    "## Start from here if CSVs for chip generation are already saved"
   ]
  },
  {
   "cell_type": "code",
   "execution_count": 5,
   "id": "a89ddd5c-13ae-490e-84ec-769912c1527d",
   "metadata": {
    "tags": []
   },
   "outputs": [
    {
     "name": "stderr",
     "output_type": "stream",
     "text": [
      "\u001b[1mRows: \u001b[22m\u001b[34m61677\u001b[39m \u001b[1mColumns: \u001b[22m\u001b[34m31\u001b[39m\n",
      "\u001b[36m──\u001b[39m \u001b[1mColumn specification\u001b[22m \u001b[36m────────────────────────────────────────────────────────\u001b[39m\n",
      "\u001b[1mDelimiter:\u001b[22m \",\"\n",
      "\u001b[31mchr\u001b[39m (13): file_lidar, path_lidar, lidarPath, baseName, baseNameLidar, sensor...\n",
      "\u001b[32mdbl\u001b[39m (18): pointid, BUFF_DIST, lat84, lon84, vhr_year, vhr_mm, vhr_dd, chip_g...\n",
      "\n",
      "\u001b[36mℹ\u001b[39m Use `spec()` to retrieve the full column specification for this data.\n",
      "\u001b[36mℹ\u001b[39m Specify the column types or set `show_col_types = FALSE` to quiet this message.\n"
     ]
    }
   ],
   "source": [
    "filtered_points <- read_csv(path(basePath, '20230925_chm','fortified_filtered_ak128_x_vhr_x_footprints_gliht_chm_2014_3338_simp5m_antibuff90p5m_v20230925.csv'))"
   ]
  },
  {
   "cell_type": "code",
   "execution_count": 6,
   "id": "2acafbf3-6130-4972-8edd-356026b92795",
   "metadata": {},
   "outputs": [
    {
     "data": {
      "text/html": [
       "<table class=\"dataframe\">\n",
       "<caption>A grouped_df: 0 × 4</caption>\n",
       "<thead>\n",
       "\t<tr><th scope=col>catid</th><th scope=col>srlitePath</th><th scope=col>file_vhr</th><th scope=col>n</th></tr>\n",
       "\t<tr><th scope=col>&lt;chr&gt;</th><th scope=col>&lt;chr&gt;</th><th scope=col>&lt;chr&gt;</th><th scope=col>&lt;int&gt;</th></tr>\n",
       "</thead>\n",
       "<tbody>\n",
       "</tbody>\n",
       "</table>\n"
      ],
      "text/latex": [
       "A grouped\\_df: 0 × 4\n",
       "\\begin{tabular}{llll}\n",
       " catid & srlitePath & file\\_vhr & n\\\\\n",
       " <chr> & <chr> & <chr> & <int>\\\\\n",
       "\\hline\n",
       "\\end{tabular}\n"
      ],
      "text/markdown": [
       "\n",
       "A grouped_df: 0 × 4\n",
       "\n",
       "| catid &lt;chr&gt; | srlitePath &lt;chr&gt; | file_vhr &lt;chr&gt; | n &lt;int&gt; |\n",
       "|---|---|---|---|\n",
       "\n"
      ],
      "text/plain": [
       "     catid srlitePath file_vhr n"
      ]
     },
     "metadata": {},
     "output_type": "display_data"
    }
   ],
   "source": [
    "#Check for missing srlite path\n",
    "filtered_points %>% group_by(catid, srlitePath, file_vhr) %>% filter(is.na(srlitePath)) %>% tally()"
   ]
  },
  {
   "cell_type": "markdown",
   "id": "c187f8d1-9e10-47bb-9583-cbcd6737912e",
   "metadata": {},
   "source": [
    "Filtered points to include only July/August, high NIR R2 score, and exclude 2012-2014 fires. For now including all image years (VHR up to 4 years before 2014, and 6 years after)"
   ]
  },
  {
   "cell_type": "markdown",
   "id": "736dfd5d-d1b9-423f-bb2f-0d627932c913",
   "metadata": {},
   "source": [
    "Function to Load SRLite, IFSAR DSM/DTM/CHM and crop by bounding box.\n",
    "\n",
    "Save out to image and label geotiffs.\n",
    "\n",
    "Save index gpkg of chips"
   ]
  },
  {
   "cell_type": "code",
   "execution_count": 7,
   "id": "74085c82-5f57-431f-b50f-0945029813e8",
   "metadata": {},
   "outputs": [],
   "source": [
    "# filtered_points %>% st_drop_geometry() %>% head()\n",
    "# srlitePath = '/explore/nobackup/projects/ilab/data/srlite/products/srlite_1.0.1/srlite/alaska/batch_1/8_band_csv/split_8/WV02_20130820_M1BS_10300100260A9600-sr-02m.tif'\n",
    "# sr_2m_strip <- rast(srlitePath)\n",
    "# crs(sr_2m_strip, describe=T)$code"
   ]
  },
  {
   "cell_type": "markdown",
   "id": "6cf6603b-f5b1-4721-8e25-f23f998152e4",
   "metadata": {},
   "source": [
    "## Function to generate train/val chips"
   ]
  },
  {
   "cell_type": "code",
   "execution_count": 8,
   "id": "2deca5d3-2d3d-4304-83b5-6b5b9e30d968",
   "metadata": {},
   "outputs": [],
   "source": [
    "crop_by_point_chm <- function(geometry, baseName, chipName, outPrefix, srlitePath, lidarPath, group) {\n",
    "    sr_2m_strip <- rast(srlitePath)\n",
    "    epsg <- as.integer(crs(sr_2m_strip, describe=T)$code)\n",
    "    \n",
    "    point <- st_sfc(geometry, crs=4326)\n",
    "    utmPoint = st_transform(point, epsg)\n",
    " \n",
    "    utmBuff = st_buffer(utmPoint, 64)\n",
    "    # utmBuff = st_buffer(utmPoint, 256)\n",
    "    utmBB = st_as_sfc(st_bbox(utmBuff))\n",
    "    BB3338 = st_transform(utmBB, 3338)\n",
    "    # sr_2m_strip <- rast(path(alaska_2m, glue('{baseName}-sr-02m.tif')))\n",
    "\n",
    "    \n",
    "    if (nlyr(sr_2m_strip) == 8) { sr_2m_strip <- subset(sr_2m_strip, c(2,3,5,7)) }\n",
    "    sr_2m <- crop(sr_2m_strip, utmBB)#, filename=path(outPath, glue('{epsg}_{long}_{lat}.tif')))\n",
    "    \n",
    "    names(sr_2m) <- c('01_blue','02_green','03_red','04_nir')\n",
    "    ifsar_dtm_2m <- project(ifsar_dtm, sr_2m, method='bilinear')\n",
    "    ifsar_dsm_2m <- project(ifsar_dsm, sr_2m, method='bilinear')\n",
    "    ifsar_dtm_min <- global(ifsar_dtm_2m, 'min')[[1]]\n",
    "    local_dem_2m <- ifsar_dtm_2m - ifsar_dtm_min\n",
    "    names(ifsar_dtm_2m) <- c('05_ifsar_dtm_m')\n",
    "    names(local_dem_2m) <- c('05_local_dem_m')\n",
    "    predictor_stack_2m <- c(sr_2m, local_dem_2m)\n",
    "    predictor_stack_2m <- c(sr_2m, ifsar_dtm_2m)\n",
    "\n",
    "    ifsar_chm_2m <- ifsar_dsm_2m - ifsar_dtm_2m\n",
    "    ifsar_chm_2m <- clamp(ifsar_chm_2m, 0, 100)\n",
    "    names(ifsar_chm_2m) <- c('06_ifsar_chm_m')\n",
    "\n",
    "    lidar_chm_2m <- project(rast(lidarPath), sr_2m, method='average')\n",
    "    lidar_chm_2m <- clamp(lidar_chm_2m, 0, 100)\n",
    "    names(lidar_chm_2m) <- c('06_lidar_chm_m')\n",
    "    \n",
    "    #TODO optimize to run once and get all stats\n",
    "    predictor_isNA <- sum(global(predictor_stack_2m, 'isNA')[[1]])\n",
    "    ifsar_chm_isNA = global(ifsar_chm_2m, 'isNA')[[1]]\n",
    "    ifsar_chm_percentiles = global(ifsar_chm_2m, fun=quantile, probs=c(0.00,0.50,0.90,0.98,1.00))\n",
    "    ifsar_chm_min = ifsar_chm_percentiles[[1]]\n",
    "    ifsar_chm_p50 = ifsar_chm_percentiles[[2]]\n",
    "    ifsar_chm_p90 = ifsar_chm_percentiles[[3]]\n",
    "    ifsar_chm_p98 = ifsar_chm_percentiles[[4]]\n",
    "    ifsar_chm_max = ifsar_chm_percentiles[[5]]\n",
    "    ifsar_chm_range = ifsar_chm_max - ifsar_chm_min\n",
    "    \n",
    "    lidar_chm_isNA = global(lidar_chm_2m, 'isNA')[[1]]\n",
    "    lidar_chm_percentiles = global(lidar_chm_2m, fun=quantile, probs=c(0.00,0.50,0.90,0.98,1.00))\n",
    "    lidar_chm_min = lidar_chm_percentiles[[1]]\n",
    "    lidar_chm_p50 = lidar_chm_percentiles[[2]]\n",
    "    lidar_chm_p90 = lidar_chm_percentiles[[3]]\n",
    "    lidar_chm_p98 = lidar_chm_percentiles[[4]]\n",
    "    lidar_chm_max = lidar_chm_percentiles[[5]]\n",
    "    lidar_chm_range = lidar_chm_max - lidar_chm_min\n",
    "    \n",
    "    # print(glue('{chm_min}, {chm_p50}, {chm_p90}, {chm_p98}, {chm_max}, {chm_range}'))\n",
    "    if(ifsar_chm_isNA > 0) {\n",
    "        # print(glue('{chipName} includes {chm_isNA} nodata pixels in CHM, not exported')) \n",
    "        chipStatus = glue('Chip dropped, nodata in CHM')\n",
    "        } else if (lidar_chm_isNA > 0) {\n",
    "        chipStatus = glue('Chip dropped, nodata in lidar CHM')\n",
    "        } else if (predictor_isNA > 0) {\n",
    "        chipStatus = glue('Chip dropped, nodata in predictor stack')\n",
    "        # } else if (chm_range <= 0.01) {   \n",
    "        # print(glue('{chipName} is a constant or near constant chm of {chm_min}, not exported')) \n",
    "        # chipStatus = glue('Chip dropped, CHM constant or near constant at {chm_min}')\n",
    "        } else {\n",
    "        # print(glue('Exporting {chipName}'))\n",
    "        writeRaster(predictor_stack_2m, filename=path(outPath, glue('{outPrefix}_images'), glue('{chipName}.tif')), overwrite=T)\n",
    "        writeRaster(ifsar_chm_2m, filename=path(outPath, glue('{outPrefix}_ifsar_chm'), glue('{chipName}.tif')), overwrite=T)\n",
    "        writeRaster(lidar_chm_2m, filename=path(outPath, glue('{outPrefix}_lidar_chm'), glue('{chipName}.tif')), overwrite=T)\n",
    "        chipStatus = 'Chip exported'\n",
    "    }\n",
    "\n",
    "    return(tibble(BB3338, baseName, chipName, outPrefix, srlitePath, lidarPath, group, chipStatus, \n",
    "                  ifsar_chm_min, ifsar_chm_p50, ifsar_chm_p90, ifsar_chm_p98, ifsar_chm_max, \n",
    "                  lidar_chm_min, lidar_chm_p50, lidar_chm_p90, lidar_chm_p98, lidar_chm_max,\n",
    "                  predictor_isNA, ifsar_chm_isNA, lidar_chm_isNA))\n",
    "}"
   ]
  },
  {
   "cell_type": "markdown",
   "id": "df0cd7d5-5b6c-4b94-90f8-ce917236a035",
   "metadata": {},
   "source": [
    "## Optional to look at chips that failed to export\n",
    "Needs to be fixed"
   ]
  },
  {
   "cell_type": "code",
   "execution_count": 9,
   "id": "b523a5bb-cf63-4c1d-a625-f898622b65b7",
   "metadata": {},
   "outputs": [],
   "source": [
    "#BB Only for chips that errored\n",
    "bb_by_point <- function(geometry, baseName, chipName, outPrefix, srlitePath, lidarPath, group) {\n",
    "    # print(epsg)\n",
    "    # print(geometry)\n",
    "    point <- st_sfc(geometry, crs=4326)\n",
    "    # print(point)\n",
    "    utmPoint = st_transform(point, epsg)\n",
    "    # print(utmPoint)\n",
    "    utmBuff = st_buffer(utmPoint, 64)\n",
    "    utmBB = st_as_sfc(st_bbox(utmBuff))\n",
    "    BB3338 = st_transform(utmBB, 3338)\n",
    "\n",
    "    chipStatus = 'Error during chip processing, not exported'\n",
    "\n",
    "    return(tibble(epsg, BB3338, baseName, chipName, outPrefix, srlitePath, lidarPath, chm_mean_cm, group, chipStatus))\n",
    "}"
   ]
  },
  {
   "cell_type": "markdown",
   "id": "f95de2e2-2402-4e8e-8319-9f1ff0a2c30f",
   "metadata": {},
   "source": [
    "## Setup DEM sources and output folders"
   ]
  },
  {
   "cell_type": "code",
   "execution_count": 10,
   "id": "04f98a35-1e71-4a79-b613-cffecdfc43a0",
   "metadata": {},
   "outputs": [],
   "source": [
    "ifsar_dtm <- rast('/explore/nobackup/projects/dem/AK_IFSAR/alaska_ifsar_dtm_20221222.tif')\n",
    "ifsar_dsm <- rast('/explore/nobackup/projects/dem/AK_IFSAR/alaska_ifsar_dsm_20221222.tif')\n",
    "\n",
    "dir_create(path(outPath, 'train_images'))\n",
    "dir_create(path(outPath, 'train_ifsar_chm'))\n",
    "dir_create(path(outPath, 'train_lidar_chm'))\n",
    "\n",
    "dir_create(path(outPath, 'test_images'))\n",
    "dir_create(path(outPath, 'test_ifsar_chm'))\n",
    "dir_create(path(outPath, 'test_lidar_chm'))\n"
   ]
  },
  {
   "cell_type": "markdown",
   "id": "5b630c93-9ded-44da-8030-2df86b881b6a",
   "metadata": {},
   "source": [
    "## Create geometries from lat/lon table"
   ]
  },
  {
   "cell_type": "code",
   "execution_count": 11,
   "id": "9a8b2a1b-7189-4600-a04d-e7dc5e545ec5",
   "metadata": {
    "tags": []
   },
   "outputs": [],
   "source": [
    "filtered_points_gis <- filtered_points %>%\n",
    "st_as_sf(coords=c('lon84','lat84'), crs=4326, agr=\"constant\", remove=F)\n"
   ]
  },
  {
   "cell_type": "markdown",
   "id": "04095d45-4771-49c9-836f-95145eab4cfc",
   "metadata": {
    "tags": []
   },
   "source": [
    "## Small scale testing trials"
   ]
  },
  {
   "cell_type": "code",
   "execution_count": 12,
   "id": "3824298e-c50a-4f23-b2f6-f27128fbcd7a",
   "metadata": {
    "tags": []
   },
   "outputs": [
    {
     "data": {
      "text/html": [
       "<table class=\"dataframe\">\n",
       "<caption>A tibble: 2 × 6</caption>\n",
       "<thead>\n",
       "\t<tr><th scope=col>baseName</th><th scope=col>chipName</th><th scope=col>srlitePath</th><th scope=col>lidarPath</th><th scope=col>group</th><th scope=col>outPrefix</th></tr>\n",
       "\t<tr><th scope=col>&lt;chr&gt;</th><th scope=col>&lt;chr&gt;</th><th scope=col>&lt;chr&gt;</th><th scope=col>&lt;chr&gt;</th><th scope=col>&lt;chr&gt;</th><th scope=col>&lt;chr&gt;</th></tr>\n",
       "</thead>\n",
       "<tbody>\n",
       "\t<tr><td>WV02_20150804_M1BS_1030010047414C00</td><td>chip_WV02_20150804_M1BS_1030010047414C00_CHM_AK_20140712_DoD1_l11s580_CHM_00002_v20230925</td><td>/explore/nobackup/projects/ilab/data/srlite/products/srlite_1.0.1/srlite/alaska/batch_1/8_band_csv/split_5/WV02_20150804_M1BS_1030010047414C00-sr-02m.tif</td><td>/explore/nobackup/people/pmontesa/userfs02/data/gliht/chm/2014/AK_20140712_DoD1_l11s580_CHM.tif</td><td>gliht_78_train_v20230925</td><td>train</td></tr>\n",
       "\t<tr><td>WV02_20150815_M1BS_1030010046200300</td><td>chip_WV02_20150815_M1BS_1030010046200300_CHM_AK_10Jul2014_l11s627_CHM_00007_v20230925    </td><td>/explore/nobackup/projects/ilab/data/srlite/products/srlite_1.0.1/srlite/alaska/batch_1/8_band_csv/split_4/WV02_20150815_M1BS_1030010046200300-sr-02m.tif</td><td>/explore/nobackup/people/pmontesa/userfs02/data/gliht/chm/2014/AK_10Jul2014_l11s627_CHM.tif    </td><td>gliht_78_train_v20230925</td><td>train</td></tr>\n",
       "</tbody>\n",
       "</table>\n"
      ],
      "text/latex": [
       "A tibble: 2 × 6\n",
       "\\begin{tabular}{llllll}\n",
       " baseName & chipName & srlitePath & lidarPath & group & outPrefix\\\\\n",
       " <chr> & <chr> & <chr> & <chr> & <chr> & <chr>\\\\\n",
       "\\hline\n",
       "\t WV02\\_20150804\\_M1BS\\_1030010047414C00 & chip\\_WV02\\_20150804\\_M1BS\\_1030010047414C00\\_CHM\\_AK\\_20140712\\_DoD1\\_l11s580\\_CHM\\_00002\\_v20230925 & /explore/nobackup/projects/ilab/data/srlite/products/srlite\\_1.0.1/srlite/alaska/batch\\_1/8\\_band\\_csv/split\\_5/WV02\\_20150804\\_M1BS\\_1030010047414C00-sr-02m.tif & /explore/nobackup/people/pmontesa/userfs02/data/gliht/chm/2014/AK\\_20140712\\_DoD1\\_l11s580\\_CHM.tif & gliht\\_78\\_train\\_v20230925 & train\\\\\n",
       "\t WV02\\_20150815\\_M1BS\\_1030010046200300 & chip\\_WV02\\_20150815\\_M1BS\\_1030010046200300\\_CHM\\_AK\\_10Jul2014\\_l11s627\\_CHM\\_00007\\_v20230925     & /explore/nobackup/projects/ilab/data/srlite/products/srlite\\_1.0.1/srlite/alaska/batch\\_1/8\\_band\\_csv/split\\_4/WV02\\_20150815\\_M1BS\\_1030010046200300-sr-02m.tif & /explore/nobackup/people/pmontesa/userfs02/data/gliht/chm/2014/AK\\_10Jul2014\\_l11s627\\_CHM.tif     & gliht\\_78\\_train\\_v20230925 & train\\\\\n",
       "\\end{tabular}\n"
      ],
      "text/markdown": [
       "\n",
       "A tibble: 2 × 6\n",
       "\n",
       "| baseName &lt;chr&gt; | chipName &lt;chr&gt; | srlitePath &lt;chr&gt; | lidarPath &lt;chr&gt; | group &lt;chr&gt; | outPrefix &lt;chr&gt; |\n",
       "|---|---|---|---|---|---|\n",
       "| WV02_20150804_M1BS_1030010047414C00 | chip_WV02_20150804_M1BS_1030010047414C00_CHM_AK_20140712_DoD1_l11s580_CHM_00002_v20230925 | /explore/nobackup/projects/ilab/data/srlite/products/srlite_1.0.1/srlite/alaska/batch_1/8_band_csv/split_5/WV02_20150804_M1BS_1030010047414C00-sr-02m.tif | /explore/nobackup/people/pmontesa/userfs02/data/gliht/chm/2014/AK_20140712_DoD1_l11s580_CHM.tif | gliht_78_train_v20230925 | train |\n",
       "| WV02_20150815_M1BS_1030010046200300 | chip_WV02_20150815_M1BS_1030010046200300_CHM_AK_10Jul2014_l11s627_CHM_00007_v20230925     | /explore/nobackup/projects/ilab/data/srlite/products/srlite_1.0.1/srlite/alaska/batch_1/8_band_csv/split_4/WV02_20150815_M1BS_1030010046200300-sr-02m.tif | /explore/nobackup/people/pmontesa/userfs02/data/gliht/chm/2014/AK_10Jul2014_l11s627_CHM.tif     | gliht_78_train_v20230925 | train |\n",
       "\n"
      ],
      "text/plain": [
       "  baseName                           \n",
       "1 WV02_20150804_M1BS_1030010047414C00\n",
       "2 WV02_20150815_M1BS_1030010046200300\n",
       "  chipName                                                                                 \n",
       "1 chip_WV02_20150804_M1BS_1030010047414C00_CHM_AK_20140712_DoD1_l11s580_CHM_00002_v20230925\n",
       "2 chip_WV02_20150815_M1BS_1030010046200300_CHM_AK_10Jul2014_l11s627_CHM_00007_v20230925    \n",
       "  srlitePath                                                                                                                                               \n",
       "1 /explore/nobackup/projects/ilab/data/srlite/products/srlite_1.0.1/srlite/alaska/batch_1/8_band_csv/split_5/WV02_20150804_M1BS_1030010047414C00-sr-02m.tif\n",
       "2 /explore/nobackup/projects/ilab/data/srlite/products/srlite_1.0.1/srlite/alaska/batch_1/8_band_csv/split_4/WV02_20150815_M1BS_1030010046200300-sr-02m.tif\n",
       "  lidarPath                                                                                      \n",
       "1 /explore/nobackup/people/pmontesa/userfs02/data/gliht/chm/2014/AK_20140712_DoD1_l11s580_CHM.tif\n",
       "2 /explore/nobackup/people/pmontesa/userfs02/data/gliht/chm/2014/AK_10Jul2014_l11s627_CHM.tif    \n",
       "  group                    outPrefix\n",
       "1 gliht_78_train_v20230925 train    \n",
       "2 gliht_78_train_v20230925 train    "
      ]
     },
     "metadata": {},
     "output_type": "display_data"
    }
   ],
   "source": [
    "test2 <- T\n",
    "if(test2) {\n",
    "# filtered_points_train %>% select(epsg, geometry, baseName, chipName, srlitePath, chm_mean_cm) %>% \n",
    "filtered_points_gis %>% select(geometry, baseName, chipName, srlitePath, lidarPath, group, outPrefix = trainTest) %>% \n",
    "# mutate(group = 'subset trial', outPrefix = 'train') %>% \n",
    "st_drop_geometry() %>% \n",
    "ungroup() %>% \n",
    "slice_sample(n=2)\n",
    "}"
   ]
  },
  {
   "cell_type": "code",
   "execution_count": 13,
   "id": "7f1db2dc-451d-476f-a71a-a5f5fffa5c9a",
   "metadata": {
    "tags": []
   },
   "outputs": [],
   "source": [
    "if(test2) {\n",
    "pwalk(filtered_points_gis %>% select(geometry, baseName, chipName, srlitePath, lidarPath, group, outPrefix = trainTest) %>% \n",
    "      # mutate(group = 'subset trial', outPrefix = 'train') %>% \n",
    "      # st_drop_geometry() %>% \n",
    "      ungroup() %>% \n",
    "      slice_sample(n=2),\n",
    "      crop_by_point_chm)\n",
    "}"
   ]
  },
  {
   "cell_type": "code",
   "execution_count": 14,
   "id": "71130ba1-cdd4-459a-9d85-303ded58763e",
   "metadata": {},
   "outputs": [
    {
     "data": {
      "text/html": [
       "<table class=\"dataframe\">\n",
       "<caption>A tibble: 2 × 21</caption>\n",
       "<thead>\n",
       "\t<tr><th scope=col>BB3338</th><th scope=col>baseName</th><th scope=col>chipName</th><th scope=col>outPrefix</th><th scope=col>srlitePath</th><th scope=col>lidarPath</th><th scope=col>group</th><th scope=col>chipStatus</th><th scope=col>ifsar_chm_min</th><th scope=col>ifsar_chm_p50</th><th scope=col>⋯</th><th scope=col>ifsar_chm_p98</th><th scope=col>ifsar_chm_max</th><th scope=col>lidar_chm_min</th><th scope=col>lidar_chm_p50</th><th scope=col>lidar_chm_p90</th><th scope=col>lidar_chm_p98</th><th scope=col>lidar_chm_max</th><th scope=col>predictor_isNA</th><th scope=col>ifsar_chm_isNA</th><th scope=col>lidar_chm_isNA</th></tr>\n",
       "\t<tr><th scope=col>&lt;POLYGON [m]&gt;</th><th scope=col>&lt;chr&gt;</th><th scope=col>&lt;chr&gt;</th><th scope=col>&lt;chr&gt;</th><th scope=col>&lt;chr&gt;</th><th scope=col>&lt;chr&gt;</th><th scope=col>&lt;chr&gt;</th><th scope=col>&lt;chr&gt;</th><th scope=col>&lt;dbl&gt;</th><th scope=col>&lt;dbl&gt;</th><th scope=col>⋯</th><th scope=col>&lt;dbl&gt;</th><th scope=col>&lt;dbl&gt;</th><th scope=col>&lt;dbl&gt;</th><th scope=col>&lt;dbl&gt;</th><th scope=col>&lt;dbl&gt;</th><th scope=col>&lt;dbl&gt;</th><th scope=col>&lt;dbl&gt;</th><th scope=col>&lt;dbl&gt;</th><th scope=col>&lt;dbl&gt;</th><th scope=col>&lt;dbl&gt;</th></tr>\n",
       "</thead>\n",
       "<tbody>\n",
       "\t<tr><td>POLYGON ((591531.6 1489362,...</td><td>WV02_20150815_M1BS_103001004769F300</td><td>chip_WV02_20150815_M1BS_103001004769F300_CHM_AK_11Jul2014_l1s564_CHM_00054_v20230925</td><td>train</td><td>/explore/nobackup/projects/ilab/data/srlite/products/srlite_1.0.1/srlite/alaska/batch_1/8_band_csv/split_4/WV02_20150815_M1BS_103001004769F300-sr-02m.tif  </td><td>/explore/nobackup/people/pmontesa/userfs02/data/gliht/chm/2014/AK_11Jul2014_l1s564_CHM.tif</td><td>gliht_78_train_v20230925</td><td>Chip exported</td><td>0</td><td>0.5371399</td><td>⋯</td><td> 2.175189</td><td> 2.688477</td><td>0</td><td>0.32000</td><td> 2.25625</td><td> 4.04150</td><td> 7.980</td><td>0</td><td>0</td><td>0</td></tr>\n",
       "\t<tr><td>POLYGON ((114334.6 1674460,...</td><td>WV02_20130807_M1BS_10300100243DE900</td><td>chip_WV02_20130807_M1BS_10300100243DE900_CHM_AK_20140725_l4s617_CHM_00007_v20230925 </td><td>train</td><td>/explore/nobackup/projects/ilab/data/srlite/products/srlite_1.0.1/srlite/alaska/batch_1/8_band_csv/split_6_1/WV02_20130807_M1BS_10300100243DE900-sr-02m.tif</td><td>/explore/nobackup/people/pmontesa/userfs02/data/gliht/chm/2014/AK_20140725_l4s617_CHM.tif </td><td>gliht_78_train_v20230925</td><td>Chip exported</td><td>0</td><td>5.3354607</td><td>⋯</td><td>13.878938</td><td>19.416756</td><td>0</td><td>6.99125</td><td>11.76250</td><td>15.39125</td><td>26.695</td><td>0</td><td>0</td><td>0</td></tr>\n",
       "</tbody>\n",
       "</table>\n"
      ],
      "text/latex": [
       "A tibble: 2 × 21\n",
       "\\begin{tabular}{lllllllllllllllllllll}\n",
       " BB3338 & baseName & chipName & outPrefix & srlitePath & lidarPath & group & chipStatus & ifsar\\_chm\\_min & ifsar\\_chm\\_p50 & ⋯ & ifsar\\_chm\\_p98 & ifsar\\_chm\\_max & lidar\\_chm\\_min & lidar\\_chm\\_p50 & lidar\\_chm\\_p90 & lidar\\_chm\\_p98 & lidar\\_chm\\_max & predictor\\_isNA & ifsar\\_chm\\_isNA & lidar\\_chm\\_isNA\\\\\n",
       " <POLYGON {[}m{]}> & <chr> & <chr> & <chr> & <chr> & <chr> & <chr> & <chr> & <dbl> & <dbl> & ⋯ & <dbl> & <dbl> & <dbl> & <dbl> & <dbl> & <dbl> & <dbl> & <dbl> & <dbl> & <dbl>\\\\\n",
       "\\hline\n",
       "\t POLYGON ((591531.6 1489362,... & WV02\\_20150815\\_M1BS\\_103001004769F300 & chip\\_WV02\\_20150815\\_M1BS\\_103001004769F300\\_CHM\\_AK\\_11Jul2014\\_l1s564\\_CHM\\_00054\\_v20230925 & train & /explore/nobackup/projects/ilab/data/srlite/products/srlite\\_1.0.1/srlite/alaska/batch\\_1/8\\_band\\_csv/split\\_4/WV02\\_20150815\\_M1BS\\_103001004769F300-sr-02m.tif   & /explore/nobackup/people/pmontesa/userfs02/data/gliht/chm/2014/AK\\_11Jul2014\\_l1s564\\_CHM.tif & gliht\\_78\\_train\\_v20230925 & Chip exported & 0 & 0.5371399 & ⋯ &  2.175189 &  2.688477 & 0 & 0.32000 &  2.25625 &  4.04150 &  7.980 & 0 & 0 & 0\\\\\n",
       "\t POLYGON ((114334.6 1674460,... & WV02\\_20130807\\_M1BS\\_10300100243DE900 & chip\\_WV02\\_20130807\\_M1BS\\_10300100243DE900\\_CHM\\_AK\\_20140725\\_l4s617\\_CHM\\_00007\\_v20230925  & train & /explore/nobackup/projects/ilab/data/srlite/products/srlite\\_1.0.1/srlite/alaska/batch\\_1/8\\_band\\_csv/split\\_6\\_1/WV02\\_20130807\\_M1BS\\_10300100243DE900-sr-02m.tif & /explore/nobackup/people/pmontesa/userfs02/data/gliht/chm/2014/AK\\_20140725\\_l4s617\\_CHM.tif  & gliht\\_78\\_train\\_v20230925 & Chip exported & 0 & 5.3354607 & ⋯ & 13.878938 & 19.416756 & 0 & 6.99125 & 11.76250 & 15.39125 & 26.695 & 0 & 0 & 0\\\\\n",
       "\\end{tabular}\n"
      ],
      "text/markdown": [
       "\n",
       "A tibble: 2 × 21\n",
       "\n",
       "| BB3338 &lt;POLYGON [m]&gt; | baseName &lt;chr&gt; | chipName &lt;chr&gt; | outPrefix &lt;chr&gt; | srlitePath &lt;chr&gt; | lidarPath &lt;chr&gt; | group &lt;chr&gt; | chipStatus &lt;chr&gt; | ifsar_chm_min &lt;dbl&gt; | ifsar_chm_p50 &lt;dbl&gt; | ⋯ ⋯ | ifsar_chm_p98 &lt;dbl&gt; | ifsar_chm_max &lt;dbl&gt; | lidar_chm_min &lt;dbl&gt; | lidar_chm_p50 &lt;dbl&gt; | lidar_chm_p90 &lt;dbl&gt; | lidar_chm_p98 &lt;dbl&gt; | lidar_chm_max &lt;dbl&gt; | predictor_isNA &lt;dbl&gt; | ifsar_chm_isNA &lt;dbl&gt; | lidar_chm_isNA &lt;dbl&gt; |\n",
       "|---|---|---|---|---|---|---|---|---|---|---|---|---|---|---|---|---|---|---|---|---|\n",
       "| POLYGON ((591531.6 1489362,... | WV02_20150815_M1BS_103001004769F300 | chip_WV02_20150815_M1BS_103001004769F300_CHM_AK_11Jul2014_l1s564_CHM_00054_v20230925 | train | /explore/nobackup/projects/ilab/data/srlite/products/srlite_1.0.1/srlite/alaska/batch_1/8_band_csv/split_4/WV02_20150815_M1BS_103001004769F300-sr-02m.tif   | /explore/nobackup/people/pmontesa/userfs02/data/gliht/chm/2014/AK_11Jul2014_l1s564_CHM.tif | gliht_78_train_v20230925 | Chip exported | 0 | 0.5371399 | ⋯ |  2.175189 |  2.688477 | 0 | 0.32000 |  2.25625 |  4.04150 |  7.980 | 0 | 0 | 0 |\n",
       "| POLYGON ((114334.6 1674460,... | WV02_20130807_M1BS_10300100243DE900 | chip_WV02_20130807_M1BS_10300100243DE900_CHM_AK_20140725_l4s617_CHM_00007_v20230925  | train | /explore/nobackup/projects/ilab/data/srlite/products/srlite_1.0.1/srlite/alaska/batch_1/8_band_csv/split_6_1/WV02_20130807_M1BS_10300100243DE900-sr-02m.tif | /explore/nobackup/people/pmontesa/userfs02/data/gliht/chm/2014/AK_20140725_l4s617_CHM.tif  | gliht_78_train_v20230925 | Chip exported | 0 | 5.3354607 | ⋯ | 13.878938 | 19.416756 | 0 | 6.99125 | 11.76250 | 15.39125 | 26.695 | 0 | 0 | 0 |\n",
       "\n"
      ],
      "text/plain": [
       "  BB3338                         baseName                           \n",
       "1 POLYGON ((591531.6 1489362,... WV02_20150815_M1BS_103001004769F300\n",
       "2 POLYGON ((114334.6 1674460,... WV02_20130807_M1BS_10300100243DE900\n",
       "  chipName                                                                            \n",
       "1 chip_WV02_20150815_M1BS_103001004769F300_CHM_AK_11Jul2014_l1s564_CHM_00054_v20230925\n",
       "2 chip_WV02_20130807_M1BS_10300100243DE900_CHM_AK_20140725_l4s617_CHM_00007_v20230925 \n",
       "  outPrefix\n",
       "1 train    \n",
       "2 train    \n",
       "  srlitePath                                                                                                                                                 \n",
       "1 /explore/nobackup/projects/ilab/data/srlite/products/srlite_1.0.1/srlite/alaska/batch_1/8_band_csv/split_4/WV02_20150815_M1BS_103001004769F300-sr-02m.tif  \n",
       "2 /explore/nobackup/projects/ilab/data/srlite/products/srlite_1.0.1/srlite/alaska/batch_1/8_band_csv/split_6_1/WV02_20130807_M1BS_10300100243DE900-sr-02m.tif\n",
       "  lidarPath                                                                                 \n",
       "1 /explore/nobackup/people/pmontesa/userfs02/data/gliht/chm/2014/AK_11Jul2014_l1s564_CHM.tif\n",
       "2 /explore/nobackup/people/pmontesa/userfs02/data/gliht/chm/2014/AK_20140725_l4s617_CHM.tif \n",
       "  group                    chipStatus    ifsar_chm_min ifsar_chm_p50 ⋯\n",
       "1 gliht_78_train_v20230925 Chip exported 0             0.5371399     ⋯\n",
       "2 gliht_78_train_v20230925 Chip exported 0             5.3354607     ⋯\n",
       "  ifsar_chm_p98 ifsar_chm_max lidar_chm_min lidar_chm_p50 lidar_chm_p90\n",
       "1  2.175189      2.688477     0             0.32000        2.25625     \n",
       "2 13.878938     19.416756     0             6.99125       11.76250     \n",
       "  lidar_chm_p98 lidar_chm_max predictor_isNA ifsar_chm_isNA lidar_chm_isNA\n",
       "1  4.04150       7.980        0              0              0             \n",
       "2 15.39125      26.695        0              0              0             "
      ]
     },
     "metadata": {},
     "output_type": "display_data"
    }
   ],
   "source": [
    "if(test2) {\n",
    "result <- pmap_dfr(filtered_points_gis %>% select(geometry, baseName, chipName, srlitePath, lidarPath, group, outPrefix = trainTest) %>% \n",
    "      # st_drop_geometry() %>% \n",
    "      ungroup() %>% \n",
    "      slice_sample(n=2),\n",
    "      crop_by_point_chm)\n",
    "result\n",
    "}\n"
   ]
  },
  {
   "cell_type": "markdown",
   "id": "e2f38ed2-b3cf-4eef-95af-0139ce601fd4",
   "metadata": {},
   "source": [
    "## Set up parallel environment"
   ]
  },
  {
   "cell_type": "code",
   "execution_count": 15,
   "id": "1e455c6a-4482-4675-a65f-a2e3eedf66fb",
   "metadata": {
    "tags": []
   },
   "outputs": [],
   "source": [
    "plan(multicore, workers=36)"
   ]
  },
  {
   "cell_type": "code",
   "execution_count": 16,
   "id": "49549ddd-dcc2-4799-86f3-d26b5c0b0a58",
   "metadata": {},
   "outputs": [
    {
     "data": {
      "text/html": [
       "<pre class=language-r><code>structure(function (..., workers = 36, envir = parent.frame()) \n",
       "strategy(..., workers = workers, envir = envir), class = c(\"FutureStrategy\", \n",
       "\"tweaked\", \"multicore\", \"multiprocess\", \"future\", \"function\"), call = plan(multicore, \n",
       "<span style=white-space:pre-wrap>    workers = 36))</span></code></pre>"
      ],
      "text/latex": [
       "\\begin{minted}{r}\n",
       "structure(function (..., workers = 36, envir = parent.frame()) \n",
       "strategy(..., workers = workers, envir = envir), class = c(\"FutureStrategy\", \n",
       "\"tweaked\", \"multicore\", \"multiprocess\", \"future\", \"function\"), call = plan(multicore, \n",
       "    workers = 36))\n",
       "\\end{minted}"
      ],
      "text/markdown": [
       "```r\n",
       "structure(function (..., workers = 36, envir = parent.frame()) \n",
       "strategy(..., workers = workers, envir = envir), class = c(\"FutureStrategy\", \n",
       "\"tweaked\", \"multicore\", \"multiprocess\", \"future\", \"function\"), call = plan(multicore, \n",
       "    workers = 36))\n",
       "```"
      ],
      "text/plain": [
       "multicore:\n",
       "- args: function (..., workers = 36, envir = parent.frame())\n",
       "- tweaked: TRUE\n",
       "- call: plan(multicore, workers = 36)"
      ]
     },
     "metadata": {},
     "output_type": "display_data"
    }
   ],
   "source": [
    "plan()"
   ]
  },
  {
   "cell_type": "code",
   "execution_count": 17,
   "id": "1c561281-da45-4b99-beb9-a8e01dc41575",
   "metadata": {},
   "outputs": [],
   "source": [
    "#Don't think random number generation within parallel is an issue here so quiet the warnings. See below\n",
    "#https://www.r-bloggers.com/2020/09/future-1-19-1-making-sure-proper-random-numbers-are-produced-in-parallel-processing/\n",
    "options(future.rng.onMisuse = \"ignore\")\n",
    "# options()"
   ]
  },
  {
   "cell_type": "code",
   "execution_count": 18,
   "id": "e95caace-3c78-4c6a-ac6f-5f52fc0a5480",
   "metadata": {
    "tags": []
   },
   "outputs": [
    {
     "data": {
      "text/html": [
       "61677"
      ],
      "text/latex": [
       "61677"
      ],
      "text/markdown": [
       "61677"
      ],
      "text/plain": [
       "[1] 61677"
      ]
     },
     "metadata": {},
     "output_type": "display_data"
    }
   ],
   "source": [
    "nrow(filtered_points_gis)"
   ]
  },
  {
   "cell_type": "markdown",
   "id": "1ddc7ae4-288b-4e81-b095-20066cca6d85",
   "metadata": {},
   "source": [
    "## Batch testing trial (run rm -fr test_* train_* afterwards and run fresh export with testSubset = F)"
   ]
  },
  {
   "cell_type": "code",
   "execution_count": 19,
   "id": "2b62cec0-34c0-4fcc-8453-25bcc2dd3c09",
   "metadata": {
    "tags": []
   },
   "outputs": [],
   "source": [
    "testSubset = F\n",
    "if(testSubset) {\n",
    "    nrow(filtered_points_gis)\n",
    "    filtered_points_gis <- filtered_points_gis %>%\n",
    "    slice_sample(n = 1000)\n",
    "    nrow(filtered_points_gis)\n",
    "}\n"
   ]
  },
  {
   "cell_type": "markdown",
   "id": "e2e561e9-81b8-48f2-b05e-269db9c56282",
   "metadata": {},
   "source": [
    "## Run full batch parallel chip generation"
   ]
  },
  {
   "cell_type": "code",
   "execution_count": 20,
   "id": "9301982a-4f8a-4781-9d35-b92b37dc25f0",
   "metadata": {},
   "outputs": [],
   "source": [
    "chips_df <- future_pmap_dfr(filtered_points_gis %>% select(geometry, baseName, chipName, srlitePath, lidarPath, group, outPrefix = trainTest) %>% \n",
    "                            ungroup(), \n",
    "                            possibly(crop_by_point_chm, otherwise=NULL))"
   ]
  },
  {
   "cell_type": "code",
   "execution_count": 21,
   "id": "16423f86-acbe-4e2b-8f05-a2b6030b9f48",
   "metadata": {
    "tags": []
   },
   "outputs": [
    {
     "data": {
      "text/html": [
       "61674"
      ],
      "text/latex": [
       "61674"
      ],
      "text/markdown": [
       "61674"
      ],
      "text/plain": [
       "[1] 61674"
      ]
     },
     "metadata": {},
     "output_type": "display_data"
    }
   ],
   "source": [
    "nrow(chips_df)"
   ]
  },
  {
   "cell_type": "markdown",
   "id": "609e3c42-5a44-4822-94c5-15bf4819c715",
   "metadata": {},
   "source": [
    "## Save gpkg of chips with metadata including CHM stats"
   ]
  },
  {
   "cell_type": "code",
   "execution_count": 22,
   "id": "7638439c-33b0-447a-a4a4-c40b083d1716",
   "metadata": {},
   "outputs": [],
   "source": [
    "write_sf(chips_df %>% rename(groupName = group), path(outPath, 'chips_df_v20230926.gpkg'))"
   ]
  },
  {
   "cell_type": "markdown",
   "id": "32d4f68d-219f-4c3e-a953-9472d416293f",
   "metadata": {
    "tags": []
   },
   "source": [
    "## Generate bounding box for chips that did not process due to error\n",
    "Needs to be fixed"
   ]
  },
  {
   "cell_type": "code",
   "execution_count": null,
   "id": "5f6d11d9-f2ee-43d1-aacc-1651fed2f276",
   "metadata": {
    "tags": []
   },
   "outputs": [],
   "source": [
    "chips_df_dropped <- filtered_points_gis %>% anti_join(chips_df, by='chipName')\n",
    "nrow(filtered_points_gis)\n",
    "nrow(chips_df)\n",
    "nrow(chips_df_dropped)"
   ]
  },
  {
   "cell_type": "code",
   "execution_count": null,
   "id": "ad67d17c-839d-44a0-a09f-9677ba0e4218",
   "metadata": {},
   "outputs": [],
   "source": [
    "chips_df_dropped_wBB <- future_pmap_dfr(chips_df_dropped %>% \n",
    "                               select(geometry, baseName, chipName, srlitePath, lidarPath, group, outPrefix = trainTest) %>% \n",
    "                               ungroup(), \n",
    "      possibly(bb_by_point))#, otherwise=NULL))\n",
    "nrow(chips_df_dropped_wBB)"
   ]
  },
  {
   "cell_type": "code",
   "execution_count": null,
   "id": "42a5ccd5-0bcb-4c34-a106-71bb84300530",
   "metadata": {},
   "outputs": [],
   "source": [
    "if(nrow(chips_df_dropped_wBB) > 0) {\n",
    "    chips_df_full <- bind_rows(\n",
    "        chips_df,\n",
    "        chips_df_dropped_wBB) \n",
    "    } else { chips_df_full <- chips_df }\n",
    "\n",
    "nrow(chips_df_full)"
   ]
  },
  {
   "cell_type": "code",
   "execution_count": null,
   "id": "bdfb996a-2cc2-4a15-a194-0a73a96936d9",
   "metadata": {},
   "outputs": [],
   "source": [
    "# file_delete('/explore/nobackup/people/mmacande/srlite/chm_model/20230829_chm/chips_df_v20230829_full.gpkg')\n",
    "write_sf(chips_df_full, path(outPath, 'chips_df_v20230919_full.gpkg'))"
   ]
  },
  {
   "cell_type": "markdown",
   "id": "d66df8c7-e3fd-432b-b1a8-7fd2b035daf4",
   "metadata": {},
   "source": [
    "## Generate List of strips that were used in training / test chips"
   ]
  },
  {
   "cell_type": "code",
   "execution_count": 23,
   "id": "5133689f-bccc-40aa-a1a9-bd4c60e260a1",
   "metadata": {},
   "outputs": [
    {
     "data": {
      "text/html": [
       "<table class=\"dataframe\">\n",
       "<caption>A tibble: 53 × 2</caption>\n",
       "<thead>\n",
       "\t<tr><th scope=col>srlitePath</th><th scope=col>n</th></tr>\n",
       "\t<tr><th scope=col>&lt;chr&gt;</th><th scope=col>&lt;int&gt;</th></tr>\n",
       "</thead>\n",
       "<tbody>\n",
       "\t<tr><td>/explore/nobackup/projects/ilab/data/srlite/products/srlite_1.0.1/srlite/alaska/batch_1/4_band_csv/WV02_20100815_M1BS_10300100068BF600-sr-02m.tif          </td><td>1123</td></tr>\n",
       "\t<tr><td>/explore/nobackup/projects/ilab/data/srlite/products/srlite_1.0.1/srlite/alaska/batch_1/4_band_csv/WV02_20110707_M1BS_103001000CA39000-sr-02m.tif          </td><td> 292</td></tr>\n",
       "\t<tr><td>/explore/nobackup/projects/ilab/data/srlite/products/srlite_1.0.1/srlite/alaska/batch_1/8_band_csv/split_4/WV02_20100804_M1BS_103001000617C000-sr-02m.tif  </td><td> 427</td></tr>\n",
       "\t<tr><td>/explore/nobackup/projects/ilab/data/srlite/products/srlite_1.0.1/srlite/alaska/batch_1/8_band_csv/split_4/WV02_20130814_M1BS_103001002688EB00-sr-02m.tif  </td><td>2876</td></tr>\n",
       "\t<tr><td>/explore/nobackup/projects/ilab/data/srlite/products/srlite_1.0.1/srlite/alaska/batch_1/8_band_csv/split_4/WV02_20130826_M1BS_1030010027974900-sr-02m.tif  </td><td>2652</td></tr>\n",
       "\t<tr><td>/explore/nobackup/projects/ilab/data/srlite/products/srlite_1.0.1/srlite/alaska/batch_1/8_band_csv/split_4/WV02_20140721_M1BS_103001003407EB00-sr-02m.tif  </td><td>5859</td></tr>\n",
       "\t<tr><td>/explore/nobackup/projects/ilab/data/srlite/products/srlite_1.0.1/srlite/alaska/batch_1/8_band_csv/split_4/WV02_20150815_M1BS_1030010046200300-sr-02m.tif  </td><td>2664</td></tr>\n",
       "\t<tr><td>/explore/nobackup/projects/ilab/data/srlite/products/srlite_1.0.1/srlite/alaska/batch_1/8_band_csv/split_4/WV02_20150815_M1BS_103001004769F300-sr-02m.tif  </td><td>2578</td></tr>\n",
       "\t<tr><td>/explore/nobackup/projects/ilab/data/srlite/products/srlite_1.0.1/srlite/alaska/batch_1/8_band_csv/split_4/WV02_20200708_M1BS_10300100AA782A00-sr-02m.tif  </td><td>2247</td></tr>\n",
       "\t<tr><td>/explore/nobackup/projects/ilab/data/srlite/products/srlite_1.0.1/srlite/alaska/batch_1/8_band_csv/split_5/WV02_20110812_M1BS_103001000C8BBA00-sr-02m.tif  </td><td> 740</td></tr>\n",
       "\t<tr><td>/explore/nobackup/projects/ilab/data/srlite/products/srlite_1.0.1/srlite/alaska/batch_1/8_band_csv/split_5/WV02_20150804_M1BS_1030010047414C00-sr-02m.tif  </td><td>1466</td></tr>\n",
       "\t<tr><td>/explore/nobackup/projects/ilab/data/srlite/products/srlite_1.0.1/srlite/alaska/batch_1/8_band_csv/split_5/WV02_20200805_M1BS_10300100ABC88800-sr-02m.tif  </td><td> 710</td></tr>\n",
       "\t<tr><td>/explore/nobackup/projects/ilab/data/srlite/products/srlite_1.0.1/srlite/alaska/batch_1/8_band_csv/split_5/WV02_20200806_M1BS_10300100A902DC00-sr-02m.tif  </td><td> 661</td></tr>\n",
       "\t<tr><td>/explore/nobackup/projects/ilab/data/srlite/products/srlite_1.0.1/srlite/alaska/batch_1/8_band_csv/split_5/WV03_20160818_M1BS_10400100209F8E00-sr-02m.tif  </td><td> 509</td></tr>\n",
       "\t<tr><td>/explore/nobackup/projects/ilab/data/srlite/products/srlite_1.0.1/srlite/alaska/batch_1/8_band_csv/split_5/WV03_20160818_M1BS_10400100223EA600-sr-02m.tif  </td><td>1367</td></tr>\n",
       "\t<tr><td>/explore/nobackup/projects/ilab/data/srlite/products/srlite_1.0.1/srlite/alaska/batch_1/8_band_csv/split_5/WV03_20190706_M1BS_104001004EC28300-sr-02m.tif  </td><td> 660</td></tr>\n",
       "\t<tr><td>/explore/nobackup/projects/ilab/data/srlite/products/srlite_1.0.1/srlite/alaska/batch_1/8_band_csv/split_6_0/WV02_20110811_M1BS_103001000D6CEA00-sr-02m.tif</td><td> 396</td></tr>\n",
       "\t<tr><td>/explore/nobackup/projects/ilab/data/srlite/products/srlite_1.0.1/srlite/alaska/batch_1/8_band_csv/split_6_0/WV02_20110812_M1BS_103001000D56BA00-sr-02m.tif</td><td> 291</td></tr>\n",
       "\t<tr><td>/explore/nobackup/projects/ilab/data/srlite/products/srlite_1.0.1/srlite/alaska/batch_1/8_band_csv/split_6_1/WV02_20130729_M1BS_1030010025899A00-sr-02m.tif</td><td>  85</td></tr>\n",
       "\t<tr><td>/explore/nobackup/projects/ilab/data/srlite/products/srlite_1.0.1/srlite/alaska/batch_1/8_band_csv/split_6_1/WV02_20130807_M1BS_10300100243DE900-sr-02m.tif</td><td> 714</td></tr>\n",
       "\t<tr><td>/explore/nobackup/projects/ilab/data/srlite/products/srlite_1.0.1/srlite/alaska/batch_1/8_band_csv/split_6_1/WV02_20130807_M1BS_1030010025484800-sr-02m.tif</td><td> 467</td></tr>\n",
       "\t<tr><td>/explore/nobackup/projects/ilab/data/srlite/products/srlite_1.0.1/srlite/alaska/batch_1/8_band_csv/split_6_1/WV02_20130807_M1BS_1030010025B7D300-sr-02m.tif</td><td>1319</td></tr>\n",
       "\t<tr><td>/explore/nobackup/projects/ilab/data/srlite/products/srlite_1.0.1/srlite/alaska/batch_1/8_band_csv/split_6_1/WV02_20150819_M1BS_103001004837F300-sr-02m.tif</td><td> 412</td></tr>\n",
       "\t<tr><td>/explore/nobackup/projects/ilab/data/srlite/products/srlite_1.0.1/srlite/alaska/batch_1/8_band_csv/split_6_1/WV02_20150822_M1BS_1030010049338D00-sr-02m.tif</td><td> 413</td></tr>\n",
       "\t<tr><td>/explore/nobackup/projects/ilab/data/srlite/products/srlite_1.0.1/srlite/alaska/batch_1/8_band_csv/split_6_1/WV02_20150824_M1BS_10300100470C9800-sr-02m.tif</td><td> 600</td></tr>\n",
       "\t<tr><td>/explore/nobackup/projects/ilab/data/srlite/products/srlite_1.0.1/srlite/alaska/batch_1/8_band_csv/split_6_1/WV02_20160830_M1BS_103001005C905200-sr-02m.tif</td><td>  50</td></tr>\n",
       "\t<tr><td>/explore/nobackup/projects/ilab/data/srlite/products/srlite_1.0.1/srlite/alaska/batch_1/8_band_csv/split_6_2/WV02_20180731_M1BS_1030010082980000-sr-02m.tif</td><td>1753</td></tr>\n",
       "\t<tr><td>/explore/nobackup/projects/ilab/data/srlite/products/srlite_1.0.1/srlite/alaska/batch_1/8_band_csv/split_6_2/WV02_20180731_M1BS_1030010082C94A00-sr-02m.tif</td><td>2273</td></tr>\n",
       "\t<tr><td>/explore/nobackup/projects/ilab/data/srlite/products/srlite_1.0.1/srlite/alaska/batch_1/8_band_csv/split_6_2/WV02_20180731_M1BS_1030010083BC9800-sr-02m.tif</td><td>2047</td></tr>\n",
       "\t<tr><td>/explore/nobackup/projects/ilab/data/srlite/products/srlite_1.0.1/srlite/alaska/batch_2/8_band_csv/split_4/WV02_20190817_M1BS_10300100972EDD00-sr-02m.tif  </td><td>1703</td></tr>\n",
       "\t<tr><td>/explore/nobackup/projects/ilab/data/srlite/products/srlite_1.0.1/srlite/alaska/batch_2/8_band_csv/split_4/WV03_20190830_M1BS_104001004FC15B00-sr-02m.tif  </td><td> 406</td></tr>\n",
       "\t<tr><td>/explore/nobackup/projects/ilab/data/srlite/products/srlite_1.0.1/srlite/alaska/batch_2/8_band_csv/split_5/WV02_20190706_M1BS_1030010097543E00-sr-02m.tif  </td><td> 331</td></tr>\n",
       "\t<tr><td>/explore/nobackup/projects/ilab/data/srlite/products/srlite_1.0.1/srlite/alaska/batch_2/8_band_csv/split_5/WV02_20190714_M1BS_103001009698CC00-sr-02m.tif  </td><td> 467</td></tr>\n",
       "\t<tr><td>/explore/nobackup/projects/ilab/data/srlite/products/srlite_1.0.1/srlite/alaska/batch_2/8_band_csv/split_5/WV02_20190715_M1BS_1030010095B52E00-sr-02m.tif  </td><td>1801</td></tr>\n",
       "\t<tr><td>/explore/nobackup/projects/ilab/data/srlite/products/srlite_1.0.1/srlite/alaska/batch_2/8_band_csv/split_5/WV02_20190715_M1BS_1030010095B7DF00-sr-02m.tif  </td><td>2959</td></tr>\n",
       "\t<tr><td>/explore/nobackup/projects/ilab/data/srlite/products/srlite_1.0.1/srlite/alaska/batch_2/8_band_csv/split_5/WV02_20190830_M1BS_10300100966ED400-sr-02m.tif  </td><td>6016</td></tr>\n",
       "\t<tr><td>/explore/nobackup/projects/ilab/data/srlite/products/srlite_1.0.1/srlite/alaska/batch_2/8_band_csv/split_5/WV02_20190830_M1BS_103001009AB5B200-sr-02m.tif  </td><td> 406</td></tr>\n",
       "\t<tr><td>/explore/nobackup/projects/ilab/data/srlite/products/srlite_1.0.1/srlite/alaska/batch_2/8_band_csv/split_5/WV03_20190723_M1BS_10400100501FDA00-sr-02m.tif  </td><td>1317</td></tr>\n",
       "\t<tr><td>/explore/nobackup/projects/ilab/data/srlite/products/srlite_1.0.1/srlite/alaska/batch_2/8_band_csv/split_5/WV03_20190723_M1BS_10400100506ED100-sr-02m.tif  </td><td> 442</td></tr>\n",
       "\t<tr><td>/explore/nobackup/projects/ilab/data/srlite/products/srlite_1.0.1/srlite/alaska/batch_2/8_band_csv/split_6/WV02_20140807_M1BS_1030010035778E00-sr-02m.tif  </td><td>3943</td></tr>\n",
       "\t<tr><td>/explore/nobackup/projects/ilab/data/srlite/products/srlite_1.0.1/srlite/alaska/batch_2/8_band_csv/split_6/WV02_20180824_M1BS_10300100829F0000-sr-02m.tif  </td><td>  75</td></tr>\n",
       "\t<tr><td>/explore/nobackup/projects/ilab/data/srlite/products/srlite_1.0.1/srlite/alaska/batch_2/8_band_csv/split_6/WV02_20190703_M1BS_10300100933E4400-sr-02m.tif  </td><td> 574</td></tr>\n",
       "\t<tr><td>/explore/nobackup/projects/ilab/data/srlite/products/srlite_1.0.1/srlite/alaska/batch_2/8_band_csv/split_6/WV02_20190805_M1BS_1030010097080800-sr-02m.tif  </td><td> 258</td></tr>\n",
       "\t<tr><td>/explore/nobackup/projects/ilab/data/srlite/products/srlite_1.0.1/srlite/alaska/batch_2/8_band_csv/split_6/WV02_20190808_M1BS_1030010095660200-sr-02m.tif  </td><td> 481</td></tr>\n",
       "\t<tr><td>/explore/nobackup/projects/ilab/data/srlite/products/srlite_1.0.1/srlite/alaska/batch_2/8_band_csv/split_6/WV02_20190810_M1BS_10300100965B7000-sr-02m.tif  </td><td> 522</td></tr>\n",
       "\t<tr><td>/explore/nobackup/projects/ilab/data/srlite/products/srlite_1.0.1/srlite/alaska/batch_2/8_band_csv/split_6/WV02_20190818_M1BS_1030010097303600-sr-02m.tif  </td><td> 417</td></tr>\n",
       "\t<tr><td>/explore/nobackup/projects/ilab/data/srlite/products/srlite_1.0.1/srlite/alaska/batch_2/8_band_csv/split_6/WV02_20190818_M1BS_10300100982CF100-sr-02m.tif  </td><td> 496</td></tr>\n",
       "\t<tr><td>/explore/nobackup/projects/ilab/data/srlite/products/srlite_1.0.1/srlite/alaska/batch_2/8_band_csv/split_6/WV02_20190822_M1BS_10300100976F8400-sr-02m.tif  </td><td> 128</td></tr>\n",
       "\t<tr><td>/explore/nobackup/projects/ilab/data/srlite/products/srlite_1.0.1/srlite/alaska/batch_2/8_band_csv/split_6/WV02_20200702_M1BS_10300100A8270900-sr-02m.tif  </td><td> 298</td></tr>\n",
       "\t<tr><td>/explore/nobackup/projects/ilab/data/srlite/products/srlite_1.0.1/srlite/alaska/batch_2/8_band_csv/split_6/WV03_20190710_M1BS_104001004F082400-sr-02m.tif  </td><td> 307</td></tr>\n",
       "\t<tr><td>/explore/nobackup/projects/ilab/data/srlite/products/srlite_1.0.1/srlite/alaska/batch_2/8_band_csv/split_6/WV03_20190718_M1BS_104001005023EB00-sr-02m.tif  </td><td> 251</td></tr>\n",
       "\t<tr><td>/explore/nobackup/projects/ilab/data/srlite/products/srlite_1.0.1/srlite/alaska/batch_2/8_band_csv/split_6/WV03_20190730_M1BS_104001004E864300-sr-02m.tif  </td><td> 272</td></tr>\n",
       "\t<tr><td>/explore/nobackup/projects/ilab/data/srlite/products/srlite_1.0.1/srlite/alaska/batch_2/8_band_csv/split_6/WV03_20190818_M1BS_1040010051090F00-sr-02m.tif  </td><td> 156</td></tr>\n",
       "</tbody>\n",
       "</table>\n"
      ],
      "text/latex": [
       "A tibble: 53 × 2\n",
       "\\begin{tabular}{ll}\n",
       " srlitePath & n\\\\\n",
       " <chr> & <int>\\\\\n",
       "\\hline\n",
       "\t /explore/nobackup/projects/ilab/data/srlite/products/srlite\\_1.0.1/srlite/alaska/batch\\_1/4\\_band\\_csv/WV02\\_20100815\\_M1BS\\_10300100068BF600-sr-02m.tif           & 1123\\\\\n",
       "\t /explore/nobackup/projects/ilab/data/srlite/products/srlite\\_1.0.1/srlite/alaska/batch\\_1/4\\_band\\_csv/WV02\\_20110707\\_M1BS\\_103001000CA39000-sr-02m.tif           &  292\\\\\n",
       "\t /explore/nobackup/projects/ilab/data/srlite/products/srlite\\_1.0.1/srlite/alaska/batch\\_1/8\\_band\\_csv/split\\_4/WV02\\_20100804\\_M1BS\\_103001000617C000-sr-02m.tif   &  427\\\\\n",
       "\t /explore/nobackup/projects/ilab/data/srlite/products/srlite\\_1.0.1/srlite/alaska/batch\\_1/8\\_band\\_csv/split\\_4/WV02\\_20130814\\_M1BS\\_103001002688EB00-sr-02m.tif   & 2876\\\\\n",
       "\t /explore/nobackup/projects/ilab/data/srlite/products/srlite\\_1.0.1/srlite/alaska/batch\\_1/8\\_band\\_csv/split\\_4/WV02\\_20130826\\_M1BS\\_1030010027974900-sr-02m.tif   & 2652\\\\\n",
       "\t /explore/nobackup/projects/ilab/data/srlite/products/srlite\\_1.0.1/srlite/alaska/batch\\_1/8\\_band\\_csv/split\\_4/WV02\\_20140721\\_M1BS\\_103001003407EB00-sr-02m.tif   & 5859\\\\\n",
       "\t /explore/nobackup/projects/ilab/data/srlite/products/srlite\\_1.0.1/srlite/alaska/batch\\_1/8\\_band\\_csv/split\\_4/WV02\\_20150815\\_M1BS\\_1030010046200300-sr-02m.tif   & 2664\\\\\n",
       "\t /explore/nobackup/projects/ilab/data/srlite/products/srlite\\_1.0.1/srlite/alaska/batch\\_1/8\\_band\\_csv/split\\_4/WV02\\_20150815\\_M1BS\\_103001004769F300-sr-02m.tif   & 2578\\\\\n",
       "\t /explore/nobackup/projects/ilab/data/srlite/products/srlite\\_1.0.1/srlite/alaska/batch\\_1/8\\_band\\_csv/split\\_4/WV02\\_20200708\\_M1BS\\_10300100AA782A00-sr-02m.tif   & 2247\\\\\n",
       "\t /explore/nobackup/projects/ilab/data/srlite/products/srlite\\_1.0.1/srlite/alaska/batch\\_1/8\\_band\\_csv/split\\_5/WV02\\_20110812\\_M1BS\\_103001000C8BBA00-sr-02m.tif   &  740\\\\\n",
       "\t /explore/nobackup/projects/ilab/data/srlite/products/srlite\\_1.0.1/srlite/alaska/batch\\_1/8\\_band\\_csv/split\\_5/WV02\\_20150804\\_M1BS\\_1030010047414C00-sr-02m.tif   & 1466\\\\\n",
       "\t /explore/nobackup/projects/ilab/data/srlite/products/srlite\\_1.0.1/srlite/alaska/batch\\_1/8\\_band\\_csv/split\\_5/WV02\\_20200805\\_M1BS\\_10300100ABC88800-sr-02m.tif   &  710\\\\\n",
       "\t /explore/nobackup/projects/ilab/data/srlite/products/srlite\\_1.0.1/srlite/alaska/batch\\_1/8\\_band\\_csv/split\\_5/WV02\\_20200806\\_M1BS\\_10300100A902DC00-sr-02m.tif   &  661\\\\\n",
       "\t /explore/nobackup/projects/ilab/data/srlite/products/srlite\\_1.0.1/srlite/alaska/batch\\_1/8\\_band\\_csv/split\\_5/WV03\\_20160818\\_M1BS\\_10400100209F8E00-sr-02m.tif   &  509\\\\\n",
       "\t /explore/nobackup/projects/ilab/data/srlite/products/srlite\\_1.0.1/srlite/alaska/batch\\_1/8\\_band\\_csv/split\\_5/WV03\\_20160818\\_M1BS\\_10400100223EA600-sr-02m.tif   & 1367\\\\\n",
       "\t /explore/nobackup/projects/ilab/data/srlite/products/srlite\\_1.0.1/srlite/alaska/batch\\_1/8\\_band\\_csv/split\\_5/WV03\\_20190706\\_M1BS\\_104001004EC28300-sr-02m.tif   &  660\\\\\n",
       "\t /explore/nobackup/projects/ilab/data/srlite/products/srlite\\_1.0.1/srlite/alaska/batch\\_1/8\\_band\\_csv/split\\_6\\_0/WV02\\_20110811\\_M1BS\\_103001000D6CEA00-sr-02m.tif &  396\\\\\n",
       "\t /explore/nobackup/projects/ilab/data/srlite/products/srlite\\_1.0.1/srlite/alaska/batch\\_1/8\\_band\\_csv/split\\_6\\_0/WV02\\_20110812\\_M1BS\\_103001000D56BA00-sr-02m.tif &  291\\\\\n",
       "\t /explore/nobackup/projects/ilab/data/srlite/products/srlite\\_1.0.1/srlite/alaska/batch\\_1/8\\_band\\_csv/split\\_6\\_1/WV02\\_20130729\\_M1BS\\_1030010025899A00-sr-02m.tif &   85\\\\\n",
       "\t /explore/nobackup/projects/ilab/data/srlite/products/srlite\\_1.0.1/srlite/alaska/batch\\_1/8\\_band\\_csv/split\\_6\\_1/WV02\\_20130807\\_M1BS\\_10300100243DE900-sr-02m.tif &  714\\\\\n",
       "\t /explore/nobackup/projects/ilab/data/srlite/products/srlite\\_1.0.1/srlite/alaska/batch\\_1/8\\_band\\_csv/split\\_6\\_1/WV02\\_20130807\\_M1BS\\_1030010025484800-sr-02m.tif &  467\\\\\n",
       "\t /explore/nobackup/projects/ilab/data/srlite/products/srlite\\_1.0.1/srlite/alaska/batch\\_1/8\\_band\\_csv/split\\_6\\_1/WV02\\_20130807\\_M1BS\\_1030010025B7D300-sr-02m.tif & 1319\\\\\n",
       "\t /explore/nobackup/projects/ilab/data/srlite/products/srlite\\_1.0.1/srlite/alaska/batch\\_1/8\\_band\\_csv/split\\_6\\_1/WV02\\_20150819\\_M1BS\\_103001004837F300-sr-02m.tif &  412\\\\\n",
       "\t /explore/nobackup/projects/ilab/data/srlite/products/srlite\\_1.0.1/srlite/alaska/batch\\_1/8\\_band\\_csv/split\\_6\\_1/WV02\\_20150822\\_M1BS\\_1030010049338D00-sr-02m.tif &  413\\\\\n",
       "\t /explore/nobackup/projects/ilab/data/srlite/products/srlite\\_1.0.1/srlite/alaska/batch\\_1/8\\_band\\_csv/split\\_6\\_1/WV02\\_20150824\\_M1BS\\_10300100470C9800-sr-02m.tif &  600\\\\\n",
       "\t /explore/nobackup/projects/ilab/data/srlite/products/srlite\\_1.0.1/srlite/alaska/batch\\_1/8\\_band\\_csv/split\\_6\\_1/WV02\\_20160830\\_M1BS\\_103001005C905200-sr-02m.tif &   50\\\\\n",
       "\t /explore/nobackup/projects/ilab/data/srlite/products/srlite\\_1.0.1/srlite/alaska/batch\\_1/8\\_band\\_csv/split\\_6\\_2/WV02\\_20180731\\_M1BS\\_1030010082980000-sr-02m.tif & 1753\\\\\n",
       "\t /explore/nobackup/projects/ilab/data/srlite/products/srlite\\_1.0.1/srlite/alaska/batch\\_1/8\\_band\\_csv/split\\_6\\_2/WV02\\_20180731\\_M1BS\\_1030010082C94A00-sr-02m.tif & 2273\\\\\n",
       "\t /explore/nobackup/projects/ilab/data/srlite/products/srlite\\_1.0.1/srlite/alaska/batch\\_1/8\\_band\\_csv/split\\_6\\_2/WV02\\_20180731\\_M1BS\\_1030010083BC9800-sr-02m.tif & 2047\\\\\n",
       "\t /explore/nobackup/projects/ilab/data/srlite/products/srlite\\_1.0.1/srlite/alaska/batch\\_2/8\\_band\\_csv/split\\_4/WV02\\_20190817\\_M1BS\\_10300100972EDD00-sr-02m.tif   & 1703\\\\\n",
       "\t /explore/nobackup/projects/ilab/data/srlite/products/srlite\\_1.0.1/srlite/alaska/batch\\_2/8\\_band\\_csv/split\\_4/WV03\\_20190830\\_M1BS\\_104001004FC15B00-sr-02m.tif   &  406\\\\\n",
       "\t /explore/nobackup/projects/ilab/data/srlite/products/srlite\\_1.0.1/srlite/alaska/batch\\_2/8\\_band\\_csv/split\\_5/WV02\\_20190706\\_M1BS\\_1030010097543E00-sr-02m.tif   &  331\\\\\n",
       "\t /explore/nobackup/projects/ilab/data/srlite/products/srlite\\_1.0.1/srlite/alaska/batch\\_2/8\\_band\\_csv/split\\_5/WV02\\_20190714\\_M1BS\\_103001009698CC00-sr-02m.tif   &  467\\\\\n",
       "\t /explore/nobackup/projects/ilab/data/srlite/products/srlite\\_1.0.1/srlite/alaska/batch\\_2/8\\_band\\_csv/split\\_5/WV02\\_20190715\\_M1BS\\_1030010095B52E00-sr-02m.tif   & 1801\\\\\n",
       "\t /explore/nobackup/projects/ilab/data/srlite/products/srlite\\_1.0.1/srlite/alaska/batch\\_2/8\\_band\\_csv/split\\_5/WV02\\_20190715\\_M1BS\\_1030010095B7DF00-sr-02m.tif   & 2959\\\\\n",
       "\t /explore/nobackup/projects/ilab/data/srlite/products/srlite\\_1.0.1/srlite/alaska/batch\\_2/8\\_band\\_csv/split\\_5/WV02\\_20190830\\_M1BS\\_10300100966ED400-sr-02m.tif   & 6016\\\\\n",
       "\t /explore/nobackup/projects/ilab/data/srlite/products/srlite\\_1.0.1/srlite/alaska/batch\\_2/8\\_band\\_csv/split\\_5/WV02\\_20190830\\_M1BS\\_103001009AB5B200-sr-02m.tif   &  406\\\\\n",
       "\t /explore/nobackup/projects/ilab/data/srlite/products/srlite\\_1.0.1/srlite/alaska/batch\\_2/8\\_band\\_csv/split\\_5/WV03\\_20190723\\_M1BS\\_10400100501FDA00-sr-02m.tif   & 1317\\\\\n",
       "\t /explore/nobackup/projects/ilab/data/srlite/products/srlite\\_1.0.1/srlite/alaska/batch\\_2/8\\_band\\_csv/split\\_5/WV03\\_20190723\\_M1BS\\_10400100506ED100-sr-02m.tif   &  442\\\\\n",
       "\t /explore/nobackup/projects/ilab/data/srlite/products/srlite\\_1.0.1/srlite/alaska/batch\\_2/8\\_band\\_csv/split\\_6/WV02\\_20140807\\_M1BS\\_1030010035778E00-sr-02m.tif   & 3943\\\\\n",
       "\t /explore/nobackup/projects/ilab/data/srlite/products/srlite\\_1.0.1/srlite/alaska/batch\\_2/8\\_band\\_csv/split\\_6/WV02\\_20180824\\_M1BS\\_10300100829F0000-sr-02m.tif   &   75\\\\\n",
       "\t /explore/nobackup/projects/ilab/data/srlite/products/srlite\\_1.0.1/srlite/alaska/batch\\_2/8\\_band\\_csv/split\\_6/WV02\\_20190703\\_M1BS\\_10300100933E4400-sr-02m.tif   &  574\\\\\n",
       "\t /explore/nobackup/projects/ilab/data/srlite/products/srlite\\_1.0.1/srlite/alaska/batch\\_2/8\\_band\\_csv/split\\_6/WV02\\_20190805\\_M1BS\\_1030010097080800-sr-02m.tif   &  258\\\\\n",
       "\t /explore/nobackup/projects/ilab/data/srlite/products/srlite\\_1.0.1/srlite/alaska/batch\\_2/8\\_band\\_csv/split\\_6/WV02\\_20190808\\_M1BS\\_1030010095660200-sr-02m.tif   &  481\\\\\n",
       "\t /explore/nobackup/projects/ilab/data/srlite/products/srlite\\_1.0.1/srlite/alaska/batch\\_2/8\\_band\\_csv/split\\_6/WV02\\_20190810\\_M1BS\\_10300100965B7000-sr-02m.tif   &  522\\\\\n",
       "\t /explore/nobackup/projects/ilab/data/srlite/products/srlite\\_1.0.1/srlite/alaska/batch\\_2/8\\_band\\_csv/split\\_6/WV02\\_20190818\\_M1BS\\_1030010097303600-sr-02m.tif   &  417\\\\\n",
       "\t /explore/nobackup/projects/ilab/data/srlite/products/srlite\\_1.0.1/srlite/alaska/batch\\_2/8\\_band\\_csv/split\\_6/WV02\\_20190818\\_M1BS\\_10300100982CF100-sr-02m.tif   &  496\\\\\n",
       "\t /explore/nobackup/projects/ilab/data/srlite/products/srlite\\_1.0.1/srlite/alaska/batch\\_2/8\\_band\\_csv/split\\_6/WV02\\_20190822\\_M1BS\\_10300100976F8400-sr-02m.tif   &  128\\\\\n",
       "\t /explore/nobackup/projects/ilab/data/srlite/products/srlite\\_1.0.1/srlite/alaska/batch\\_2/8\\_band\\_csv/split\\_6/WV02\\_20200702\\_M1BS\\_10300100A8270900-sr-02m.tif   &  298\\\\\n",
       "\t /explore/nobackup/projects/ilab/data/srlite/products/srlite\\_1.0.1/srlite/alaska/batch\\_2/8\\_band\\_csv/split\\_6/WV03\\_20190710\\_M1BS\\_104001004F082400-sr-02m.tif   &  307\\\\\n",
       "\t /explore/nobackup/projects/ilab/data/srlite/products/srlite\\_1.0.1/srlite/alaska/batch\\_2/8\\_band\\_csv/split\\_6/WV03\\_20190718\\_M1BS\\_104001005023EB00-sr-02m.tif   &  251\\\\\n",
       "\t /explore/nobackup/projects/ilab/data/srlite/products/srlite\\_1.0.1/srlite/alaska/batch\\_2/8\\_band\\_csv/split\\_6/WV03\\_20190730\\_M1BS\\_104001004E864300-sr-02m.tif   &  272\\\\\n",
       "\t /explore/nobackup/projects/ilab/data/srlite/products/srlite\\_1.0.1/srlite/alaska/batch\\_2/8\\_band\\_csv/split\\_6/WV03\\_20190818\\_M1BS\\_1040010051090F00-sr-02m.tif   &  156\\\\\n",
       "\\end{tabular}\n"
      ],
      "text/markdown": [
       "\n",
       "A tibble: 53 × 2\n",
       "\n",
       "| srlitePath &lt;chr&gt; | n &lt;int&gt; |\n",
       "|---|---|\n",
       "| /explore/nobackup/projects/ilab/data/srlite/products/srlite_1.0.1/srlite/alaska/batch_1/4_band_csv/WV02_20100815_M1BS_10300100068BF600-sr-02m.tif           | 1123 |\n",
       "| /explore/nobackup/projects/ilab/data/srlite/products/srlite_1.0.1/srlite/alaska/batch_1/4_band_csv/WV02_20110707_M1BS_103001000CA39000-sr-02m.tif           |  292 |\n",
       "| /explore/nobackup/projects/ilab/data/srlite/products/srlite_1.0.1/srlite/alaska/batch_1/8_band_csv/split_4/WV02_20100804_M1BS_103001000617C000-sr-02m.tif   |  427 |\n",
       "| /explore/nobackup/projects/ilab/data/srlite/products/srlite_1.0.1/srlite/alaska/batch_1/8_band_csv/split_4/WV02_20130814_M1BS_103001002688EB00-sr-02m.tif   | 2876 |\n",
       "| /explore/nobackup/projects/ilab/data/srlite/products/srlite_1.0.1/srlite/alaska/batch_1/8_band_csv/split_4/WV02_20130826_M1BS_1030010027974900-sr-02m.tif   | 2652 |\n",
       "| /explore/nobackup/projects/ilab/data/srlite/products/srlite_1.0.1/srlite/alaska/batch_1/8_band_csv/split_4/WV02_20140721_M1BS_103001003407EB00-sr-02m.tif   | 5859 |\n",
       "| /explore/nobackup/projects/ilab/data/srlite/products/srlite_1.0.1/srlite/alaska/batch_1/8_band_csv/split_4/WV02_20150815_M1BS_1030010046200300-sr-02m.tif   | 2664 |\n",
       "| /explore/nobackup/projects/ilab/data/srlite/products/srlite_1.0.1/srlite/alaska/batch_1/8_band_csv/split_4/WV02_20150815_M1BS_103001004769F300-sr-02m.tif   | 2578 |\n",
       "| /explore/nobackup/projects/ilab/data/srlite/products/srlite_1.0.1/srlite/alaska/batch_1/8_band_csv/split_4/WV02_20200708_M1BS_10300100AA782A00-sr-02m.tif   | 2247 |\n",
       "| /explore/nobackup/projects/ilab/data/srlite/products/srlite_1.0.1/srlite/alaska/batch_1/8_band_csv/split_5/WV02_20110812_M1BS_103001000C8BBA00-sr-02m.tif   |  740 |\n",
       "| /explore/nobackup/projects/ilab/data/srlite/products/srlite_1.0.1/srlite/alaska/batch_1/8_band_csv/split_5/WV02_20150804_M1BS_1030010047414C00-sr-02m.tif   | 1466 |\n",
       "| /explore/nobackup/projects/ilab/data/srlite/products/srlite_1.0.1/srlite/alaska/batch_1/8_band_csv/split_5/WV02_20200805_M1BS_10300100ABC88800-sr-02m.tif   |  710 |\n",
       "| /explore/nobackup/projects/ilab/data/srlite/products/srlite_1.0.1/srlite/alaska/batch_1/8_band_csv/split_5/WV02_20200806_M1BS_10300100A902DC00-sr-02m.tif   |  661 |\n",
       "| /explore/nobackup/projects/ilab/data/srlite/products/srlite_1.0.1/srlite/alaska/batch_1/8_band_csv/split_5/WV03_20160818_M1BS_10400100209F8E00-sr-02m.tif   |  509 |\n",
       "| /explore/nobackup/projects/ilab/data/srlite/products/srlite_1.0.1/srlite/alaska/batch_1/8_band_csv/split_5/WV03_20160818_M1BS_10400100223EA600-sr-02m.tif   | 1367 |\n",
       "| /explore/nobackup/projects/ilab/data/srlite/products/srlite_1.0.1/srlite/alaska/batch_1/8_band_csv/split_5/WV03_20190706_M1BS_104001004EC28300-sr-02m.tif   |  660 |\n",
       "| /explore/nobackup/projects/ilab/data/srlite/products/srlite_1.0.1/srlite/alaska/batch_1/8_band_csv/split_6_0/WV02_20110811_M1BS_103001000D6CEA00-sr-02m.tif |  396 |\n",
       "| /explore/nobackup/projects/ilab/data/srlite/products/srlite_1.0.1/srlite/alaska/batch_1/8_band_csv/split_6_0/WV02_20110812_M1BS_103001000D56BA00-sr-02m.tif |  291 |\n",
       "| /explore/nobackup/projects/ilab/data/srlite/products/srlite_1.0.1/srlite/alaska/batch_1/8_band_csv/split_6_1/WV02_20130729_M1BS_1030010025899A00-sr-02m.tif |   85 |\n",
       "| /explore/nobackup/projects/ilab/data/srlite/products/srlite_1.0.1/srlite/alaska/batch_1/8_band_csv/split_6_1/WV02_20130807_M1BS_10300100243DE900-sr-02m.tif |  714 |\n",
       "| /explore/nobackup/projects/ilab/data/srlite/products/srlite_1.0.1/srlite/alaska/batch_1/8_band_csv/split_6_1/WV02_20130807_M1BS_1030010025484800-sr-02m.tif |  467 |\n",
       "| /explore/nobackup/projects/ilab/data/srlite/products/srlite_1.0.1/srlite/alaska/batch_1/8_band_csv/split_6_1/WV02_20130807_M1BS_1030010025B7D300-sr-02m.tif | 1319 |\n",
       "| /explore/nobackup/projects/ilab/data/srlite/products/srlite_1.0.1/srlite/alaska/batch_1/8_band_csv/split_6_1/WV02_20150819_M1BS_103001004837F300-sr-02m.tif |  412 |\n",
       "| /explore/nobackup/projects/ilab/data/srlite/products/srlite_1.0.1/srlite/alaska/batch_1/8_band_csv/split_6_1/WV02_20150822_M1BS_1030010049338D00-sr-02m.tif |  413 |\n",
       "| /explore/nobackup/projects/ilab/data/srlite/products/srlite_1.0.1/srlite/alaska/batch_1/8_band_csv/split_6_1/WV02_20150824_M1BS_10300100470C9800-sr-02m.tif |  600 |\n",
       "| /explore/nobackup/projects/ilab/data/srlite/products/srlite_1.0.1/srlite/alaska/batch_1/8_band_csv/split_6_1/WV02_20160830_M1BS_103001005C905200-sr-02m.tif |   50 |\n",
       "| /explore/nobackup/projects/ilab/data/srlite/products/srlite_1.0.1/srlite/alaska/batch_1/8_band_csv/split_6_2/WV02_20180731_M1BS_1030010082980000-sr-02m.tif | 1753 |\n",
       "| /explore/nobackup/projects/ilab/data/srlite/products/srlite_1.0.1/srlite/alaska/batch_1/8_band_csv/split_6_2/WV02_20180731_M1BS_1030010082C94A00-sr-02m.tif | 2273 |\n",
       "| /explore/nobackup/projects/ilab/data/srlite/products/srlite_1.0.1/srlite/alaska/batch_1/8_band_csv/split_6_2/WV02_20180731_M1BS_1030010083BC9800-sr-02m.tif | 2047 |\n",
       "| /explore/nobackup/projects/ilab/data/srlite/products/srlite_1.0.1/srlite/alaska/batch_2/8_band_csv/split_4/WV02_20190817_M1BS_10300100972EDD00-sr-02m.tif   | 1703 |\n",
       "| /explore/nobackup/projects/ilab/data/srlite/products/srlite_1.0.1/srlite/alaska/batch_2/8_band_csv/split_4/WV03_20190830_M1BS_104001004FC15B00-sr-02m.tif   |  406 |\n",
       "| /explore/nobackup/projects/ilab/data/srlite/products/srlite_1.0.1/srlite/alaska/batch_2/8_band_csv/split_5/WV02_20190706_M1BS_1030010097543E00-sr-02m.tif   |  331 |\n",
       "| /explore/nobackup/projects/ilab/data/srlite/products/srlite_1.0.1/srlite/alaska/batch_2/8_band_csv/split_5/WV02_20190714_M1BS_103001009698CC00-sr-02m.tif   |  467 |\n",
       "| /explore/nobackup/projects/ilab/data/srlite/products/srlite_1.0.1/srlite/alaska/batch_2/8_band_csv/split_5/WV02_20190715_M1BS_1030010095B52E00-sr-02m.tif   | 1801 |\n",
       "| /explore/nobackup/projects/ilab/data/srlite/products/srlite_1.0.1/srlite/alaska/batch_2/8_band_csv/split_5/WV02_20190715_M1BS_1030010095B7DF00-sr-02m.tif   | 2959 |\n",
       "| /explore/nobackup/projects/ilab/data/srlite/products/srlite_1.0.1/srlite/alaska/batch_2/8_band_csv/split_5/WV02_20190830_M1BS_10300100966ED400-sr-02m.tif   | 6016 |\n",
       "| /explore/nobackup/projects/ilab/data/srlite/products/srlite_1.0.1/srlite/alaska/batch_2/8_band_csv/split_5/WV02_20190830_M1BS_103001009AB5B200-sr-02m.tif   |  406 |\n",
       "| /explore/nobackup/projects/ilab/data/srlite/products/srlite_1.0.1/srlite/alaska/batch_2/8_band_csv/split_5/WV03_20190723_M1BS_10400100501FDA00-sr-02m.tif   | 1317 |\n",
       "| /explore/nobackup/projects/ilab/data/srlite/products/srlite_1.0.1/srlite/alaska/batch_2/8_band_csv/split_5/WV03_20190723_M1BS_10400100506ED100-sr-02m.tif   |  442 |\n",
       "| /explore/nobackup/projects/ilab/data/srlite/products/srlite_1.0.1/srlite/alaska/batch_2/8_band_csv/split_6/WV02_20140807_M1BS_1030010035778E00-sr-02m.tif   | 3943 |\n",
       "| /explore/nobackup/projects/ilab/data/srlite/products/srlite_1.0.1/srlite/alaska/batch_2/8_band_csv/split_6/WV02_20180824_M1BS_10300100829F0000-sr-02m.tif   |   75 |\n",
       "| /explore/nobackup/projects/ilab/data/srlite/products/srlite_1.0.1/srlite/alaska/batch_2/8_band_csv/split_6/WV02_20190703_M1BS_10300100933E4400-sr-02m.tif   |  574 |\n",
       "| /explore/nobackup/projects/ilab/data/srlite/products/srlite_1.0.1/srlite/alaska/batch_2/8_band_csv/split_6/WV02_20190805_M1BS_1030010097080800-sr-02m.tif   |  258 |\n",
       "| /explore/nobackup/projects/ilab/data/srlite/products/srlite_1.0.1/srlite/alaska/batch_2/8_band_csv/split_6/WV02_20190808_M1BS_1030010095660200-sr-02m.tif   |  481 |\n",
       "| /explore/nobackup/projects/ilab/data/srlite/products/srlite_1.0.1/srlite/alaska/batch_2/8_band_csv/split_6/WV02_20190810_M1BS_10300100965B7000-sr-02m.tif   |  522 |\n",
       "| /explore/nobackup/projects/ilab/data/srlite/products/srlite_1.0.1/srlite/alaska/batch_2/8_band_csv/split_6/WV02_20190818_M1BS_1030010097303600-sr-02m.tif   |  417 |\n",
       "| /explore/nobackup/projects/ilab/data/srlite/products/srlite_1.0.1/srlite/alaska/batch_2/8_band_csv/split_6/WV02_20190818_M1BS_10300100982CF100-sr-02m.tif   |  496 |\n",
       "| /explore/nobackup/projects/ilab/data/srlite/products/srlite_1.0.1/srlite/alaska/batch_2/8_band_csv/split_6/WV02_20190822_M1BS_10300100976F8400-sr-02m.tif   |  128 |\n",
       "| /explore/nobackup/projects/ilab/data/srlite/products/srlite_1.0.1/srlite/alaska/batch_2/8_band_csv/split_6/WV02_20200702_M1BS_10300100A8270900-sr-02m.tif   |  298 |\n",
       "| /explore/nobackup/projects/ilab/data/srlite/products/srlite_1.0.1/srlite/alaska/batch_2/8_band_csv/split_6/WV03_20190710_M1BS_104001004F082400-sr-02m.tif   |  307 |\n",
       "| /explore/nobackup/projects/ilab/data/srlite/products/srlite_1.0.1/srlite/alaska/batch_2/8_band_csv/split_6/WV03_20190718_M1BS_104001005023EB00-sr-02m.tif   |  251 |\n",
       "| /explore/nobackup/projects/ilab/data/srlite/products/srlite_1.0.1/srlite/alaska/batch_2/8_band_csv/split_6/WV03_20190730_M1BS_104001004E864300-sr-02m.tif   |  272 |\n",
       "| /explore/nobackup/projects/ilab/data/srlite/products/srlite_1.0.1/srlite/alaska/batch_2/8_band_csv/split_6/WV03_20190818_M1BS_1040010051090F00-sr-02m.tif   |  156 |\n",
       "\n"
      ],
      "text/plain": [
       "   srlitePath                                                                                                                                                 \n",
       "1  /explore/nobackup/projects/ilab/data/srlite/products/srlite_1.0.1/srlite/alaska/batch_1/4_band_csv/WV02_20100815_M1BS_10300100068BF600-sr-02m.tif          \n",
       "2  /explore/nobackup/projects/ilab/data/srlite/products/srlite_1.0.1/srlite/alaska/batch_1/4_band_csv/WV02_20110707_M1BS_103001000CA39000-sr-02m.tif          \n",
       "3  /explore/nobackup/projects/ilab/data/srlite/products/srlite_1.0.1/srlite/alaska/batch_1/8_band_csv/split_4/WV02_20100804_M1BS_103001000617C000-sr-02m.tif  \n",
       "4  /explore/nobackup/projects/ilab/data/srlite/products/srlite_1.0.1/srlite/alaska/batch_1/8_band_csv/split_4/WV02_20130814_M1BS_103001002688EB00-sr-02m.tif  \n",
       "5  /explore/nobackup/projects/ilab/data/srlite/products/srlite_1.0.1/srlite/alaska/batch_1/8_band_csv/split_4/WV02_20130826_M1BS_1030010027974900-sr-02m.tif  \n",
       "6  /explore/nobackup/projects/ilab/data/srlite/products/srlite_1.0.1/srlite/alaska/batch_1/8_band_csv/split_4/WV02_20140721_M1BS_103001003407EB00-sr-02m.tif  \n",
       "7  /explore/nobackup/projects/ilab/data/srlite/products/srlite_1.0.1/srlite/alaska/batch_1/8_band_csv/split_4/WV02_20150815_M1BS_1030010046200300-sr-02m.tif  \n",
       "8  /explore/nobackup/projects/ilab/data/srlite/products/srlite_1.0.1/srlite/alaska/batch_1/8_band_csv/split_4/WV02_20150815_M1BS_103001004769F300-sr-02m.tif  \n",
       "9  /explore/nobackup/projects/ilab/data/srlite/products/srlite_1.0.1/srlite/alaska/batch_1/8_band_csv/split_4/WV02_20200708_M1BS_10300100AA782A00-sr-02m.tif  \n",
       "10 /explore/nobackup/projects/ilab/data/srlite/products/srlite_1.0.1/srlite/alaska/batch_1/8_band_csv/split_5/WV02_20110812_M1BS_103001000C8BBA00-sr-02m.tif  \n",
       "11 /explore/nobackup/projects/ilab/data/srlite/products/srlite_1.0.1/srlite/alaska/batch_1/8_band_csv/split_5/WV02_20150804_M1BS_1030010047414C00-sr-02m.tif  \n",
       "12 /explore/nobackup/projects/ilab/data/srlite/products/srlite_1.0.1/srlite/alaska/batch_1/8_band_csv/split_5/WV02_20200805_M1BS_10300100ABC88800-sr-02m.tif  \n",
       "13 /explore/nobackup/projects/ilab/data/srlite/products/srlite_1.0.1/srlite/alaska/batch_1/8_band_csv/split_5/WV02_20200806_M1BS_10300100A902DC00-sr-02m.tif  \n",
       "14 /explore/nobackup/projects/ilab/data/srlite/products/srlite_1.0.1/srlite/alaska/batch_1/8_band_csv/split_5/WV03_20160818_M1BS_10400100209F8E00-sr-02m.tif  \n",
       "15 /explore/nobackup/projects/ilab/data/srlite/products/srlite_1.0.1/srlite/alaska/batch_1/8_band_csv/split_5/WV03_20160818_M1BS_10400100223EA600-sr-02m.tif  \n",
       "16 /explore/nobackup/projects/ilab/data/srlite/products/srlite_1.0.1/srlite/alaska/batch_1/8_band_csv/split_5/WV03_20190706_M1BS_104001004EC28300-sr-02m.tif  \n",
       "17 /explore/nobackup/projects/ilab/data/srlite/products/srlite_1.0.1/srlite/alaska/batch_1/8_band_csv/split_6_0/WV02_20110811_M1BS_103001000D6CEA00-sr-02m.tif\n",
       "18 /explore/nobackup/projects/ilab/data/srlite/products/srlite_1.0.1/srlite/alaska/batch_1/8_band_csv/split_6_0/WV02_20110812_M1BS_103001000D56BA00-sr-02m.tif\n",
       "19 /explore/nobackup/projects/ilab/data/srlite/products/srlite_1.0.1/srlite/alaska/batch_1/8_band_csv/split_6_1/WV02_20130729_M1BS_1030010025899A00-sr-02m.tif\n",
       "20 /explore/nobackup/projects/ilab/data/srlite/products/srlite_1.0.1/srlite/alaska/batch_1/8_band_csv/split_6_1/WV02_20130807_M1BS_10300100243DE900-sr-02m.tif\n",
       "21 /explore/nobackup/projects/ilab/data/srlite/products/srlite_1.0.1/srlite/alaska/batch_1/8_band_csv/split_6_1/WV02_20130807_M1BS_1030010025484800-sr-02m.tif\n",
       "22 /explore/nobackup/projects/ilab/data/srlite/products/srlite_1.0.1/srlite/alaska/batch_1/8_band_csv/split_6_1/WV02_20130807_M1BS_1030010025B7D300-sr-02m.tif\n",
       "23 /explore/nobackup/projects/ilab/data/srlite/products/srlite_1.0.1/srlite/alaska/batch_1/8_band_csv/split_6_1/WV02_20150819_M1BS_103001004837F300-sr-02m.tif\n",
       "24 /explore/nobackup/projects/ilab/data/srlite/products/srlite_1.0.1/srlite/alaska/batch_1/8_band_csv/split_6_1/WV02_20150822_M1BS_1030010049338D00-sr-02m.tif\n",
       "25 /explore/nobackup/projects/ilab/data/srlite/products/srlite_1.0.1/srlite/alaska/batch_1/8_band_csv/split_6_1/WV02_20150824_M1BS_10300100470C9800-sr-02m.tif\n",
       "26 /explore/nobackup/projects/ilab/data/srlite/products/srlite_1.0.1/srlite/alaska/batch_1/8_band_csv/split_6_1/WV02_20160830_M1BS_103001005C905200-sr-02m.tif\n",
       "27 /explore/nobackup/projects/ilab/data/srlite/products/srlite_1.0.1/srlite/alaska/batch_1/8_band_csv/split_6_2/WV02_20180731_M1BS_1030010082980000-sr-02m.tif\n",
       "28 /explore/nobackup/projects/ilab/data/srlite/products/srlite_1.0.1/srlite/alaska/batch_1/8_band_csv/split_6_2/WV02_20180731_M1BS_1030010082C94A00-sr-02m.tif\n",
       "29 /explore/nobackup/projects/ilab/data/srlite/products/srlite_1.0.1/srlite/alaska/batch_1/8_band_csv/split_6_2/WV02_20180731_M1BS_1030010083BC9800-sr-02m.tif\n",
       "30 /explore/nobackup/projects/ilab/data/srlite/products/srlite_1.0.1/srlite/alaska/batch_2/8_band_csv/split_4/WV02_20190817_M1BS_10300100972EDD00-sr-02m.tif  \n",
       "31 /explore/nobackup/projects/ilab/data/srlite/products/srlite_1.0.1/srlite/alaska/batch_2/8_band_csv/split_4/WV03_20190830_M1BS_104001004FC15B00-sr-02m.tif  \n",
       "32 /explore/nobackup/projects/ilab/data/srlite/products/srlite_1.0.1/srlite/alaska/batch_2/8_band_csv/split_5/WV02_20190706_M1BS_1030010097543E00-sr-02m.tif  \n",
       "33 /explore/nobackup/projects/ilab/data/srlite/products/srlite_1.0.1/srlite/alaska/batch_2/8_band_csv/split_5/WV02_20190714_M1BS_103001009698CC00-sr-02m.tif  \n",
       "34 /explore/nobackup/projects/ilab/data/srlite/products/srlite_1.0.1/srlite/alaska/batch_2/8_band_csv/split_5/WV02_20190715_M1BS_1030010095B52E00-sr-02m.tif  \n",
       "35 /explore/nobackup/projects/ilab/data/srlite/products/srlite_1.0.1/srlite/alaska/batch_2/8_band_csv/split_5/WV02_20190715_M1BS_1030010095B7DF00-sr-02m.tif  \n",
       "36 /explore/nobackup/projects/ilab/data/srlite/products/srlite_1.0.1/srlite/alaska/batch_2/8_band_csv/split_5/WV02_20190830_M1BS_10300100966ED400-sr-02m.tif  \n",
       "37 /explore/nobackup/projects/ilab/data/srlite/products/srlite_1.0.1/srlite/alaska/batch_2/8_band_csv/split_5/WV02_20190830_M1BS_103001009AB5B200-sr-02m.tif  \n",
       "38 /explore/nobackup/projects/ilab/data/srlite/products/srlite_1.0.1/srlite/alaska/batch_2/8_band_csv/split_5/WV03_20190723_M1BS_10400100501FDA00-sr-02m.tif  \n",
       "39 /explore/nobackup/projects/ilab/data/srlite/products/srlite_1.0.1/srlite/alaska/batch_2/8_band_csv/split_5/WV03_20190723_M1BS_10400100506ED100-sr-02m.tif  \n",
       "40 /explore/nobackup/projects/ilab/data/srlite/products/srlite_1.0.1/srlite/alaska/batch_2/8_band_csv/split_6/WV02_20140807_M1BS_1030010035778E00-sr-02m.tif  \n",
       "41 /explore/nobackup/projects/ilab/data/srlite/products/srlite_1.0.1/srlite/alaska/batch_2/8_band_csv/split_6/WV02_20180824_M1BS_10300100829F0000-sr-02m.tif  \n",
       "42 /explore/nobackup/projects/ilab/data/srlite/products/srlite_1.0.1/srlite/alaska/batch_2/8_band_csv/split_6/WV02_20190703_M1BS_10300100933E4400-sr-02m.tif  \n",
       "43 /explore/nobackup/projects/ilab/data/srlite/products/srlite_1.0.1/srlite/alaska/batch_2/8_band_csv/split_6/WV02_20190805_M1BS_1030010097080800-sr-02m.tif  \n",
       "44 /explore/nobackup/projects/ilab/data/srlite/products/srlite_1.0.1/srlite/alaska/batch_2/8_band_csv/split_6/WV02_20190808_M1BS_1030010095660200-sr-02m.tif  \n",
       "45 /explore/nobackup/projects/ilab/data/srlite/products/srlite_1.0.1/srlite/alaska/batch_2/8_band_csv/split_6/WV02_20190810_M1BS_10300100965B7000-sr-02m.tif  \n",
       "46 /explore/nobackup/projects/ilab/data/srlite/products/srlite_1.0.1/srlite/alaska/batch_2/8_band_csv/split_6/WV02_20190818_M1BS_1030010097303600-sr-02m.tif  \n",
       "47 /explore/nobackup/projects/ilab/data/srlite/products/srlite_1.0.1/srlite/alaska/batch_2/8_band_csv/split_6/WV02_20190818_M1BS_10300100982CF100-sr-02m.tif  \n",
       "48 /explore/nobackup/projects/ilab/data/srlite/products/srlite_1.0.1/srlite/alaska/batch_2/8_band_csv/split_6/WV02_20190822_M1BS_10300100976F8400-sr-02m.tif  \n",
       "49 /explore/nobackup/projects/ilab/data/srlite/products/srlite_1.0.1/srlite/alaska/batch_2/8_band_csv/split_6/WV02_20200702_M1BS_10300100A8270900-sr-02m.tif  \n",
       "50 /explore/nobackup/projects/ilab/data/srlite/products/srlite_1.0.1/srlite/alaska/batch_2/8_band_csv/split_6/WV03_20190710_M1BS_104001004F082400-sr-02m.tif  \n",
       "51 /explore/nobackup/projects/ilab/data/srlite/products/srlite_1.0.1/srlite/alaska/batch_2/8_band_csv/split_6/WV03_20190718_M1BS_104001005023EB00-sr-02m.tif  \n",
       "52 /explore/nobackup/projects/ilab/data/srlite/products/srlite_1.0.1/srlite/alaska/batch_2/8_band_csv/split_6/WV03_20190730_M1BS_104001004E864300-sr-02m.tif  \n",
       "53 /explore/nobackup/projects/ilab/data/srlite/products/srlite_1.0.1/srlite/alaska/batch_2/8_band_csv/split_6/WV03_20190818_M1BS_1040010051090F00-sr-02m.tif  \n",
       "   n   \n",
       "1  1123\n",
       "2   292\n",
       "3   427\n",
       "4  2876\n",
       "5  2652\n",
       "6  5859\n",
       "7  2664\n",
       "8  2578\n",
       "9  2247\n",
       "10  740\n",
       "11 1466\n",
       "12  710\n",
       "13  661\n",
       "14  509\n",
       "15 1367\n",
       "16  660\n",
       "17  396\n",
       "18  291\n",
       "19   85\n",
       "20  714\n",
       "21  467\n",
       "22 1319\n",
       "23  412\n",
       "24  413\n",
       "25  600\n",
       "26   50\n",
       "27 1753\n",
       "28 2273\n",
       "29 2047\n",
       "30 1703\n",
       "31  406\n",
       "32  331\n",
       "33  467\n",
       "34 1801\n",
       "35 2959\n",
       "36 6016\n",
       "37  406\n",
       "38 1317\n",
       "39  442\n",
       "40 3943\n",
       "41   75\n",
       "42  574\n",
       "43  258\n",
       "44  481\n",
       "45  522\n",
       "46  417\n",
       "47  496\n",
       "48  128\n",
       "49  298\n",
       "50  307\n",
       "51  251\n",
       "52  272\n",
       "53  156"
      ]
     },
     "metadata": {},
     "output_type": "display_data"
    }
   ],
   "source": [
    "train_strips <- filtered_points %>%\n",
    "group_by(srlitePath) %>% tally()\n",
    "train_strips\n",
    "write_csv(train_strips %>% select(srlitePath), path(outPath, 'training_strips_gliht_20230926.csv'))"
   ]
  },
  {
   "cell_type": "markdown",
   "id": "6bdbf3b5-6a0d-4ed4-a576-1fae255174cd",
   "metadata": {},
   "source": [
    "## Make it all readable by others"
   ]
  },
  {
   "cell_type": "code",
   "execution_count": null,
   "id": "9453c15b-e36c-4394-ae03-e954257bff8c",
   "metadata": {},
   "outputs": [],
   "source": [
    "file_chmod(dir_ls(outPath, recurse=T), mode='755')\n",
    "# file_chmod(dir_ls('/explore/nobackup/people/mmacande/srlite/phys_model/20230131_phys', recurse=T), mode='755')\n"
   ]
  },
  {
   "cell_type": "code",
   "execution_count": null,
   "id": "a9f57855-e565-4275-81fd-1d2fc27d2f94",
   "metadata": {},
   "outputs": [],
   "source": [
    "outPath\n"
   ]
  },
  {
   "cell_type": "markdown",
   "id": "5f938663-0f84-4587-8b20-fb850803501a",
   "metadata": {
    "tags": []
   },
   "source": [
    "# ADAPT GPU workflow once chips exist\n",
    "```{bash ADAPT GPU}\n",
    "\n",
    "ssh adaptlogin\n",
    "screen (or screen -r)\n",
    "ssh gpulogin1\n",
    "salloc -N1 -t05-00:00:00 -J chm_cnn\n",
    "\n",
    "#Run once after gpu salloc is successful\n",
    "module load singularity;\n",
    "mkdir -p /lscratch/$USER/container\n",
    "singularity build --sandbox /lscratch/$USER/container/above-shrubs docker://nasanccs/above-shrubs:dev\n",
    "\n",
    "#AK SRLite through approx 2023-08-29, inv sqrt weighting with 100% 0 CHM tiles removed\n",
    "cd /explore/nobackup/people/mmacande/srlite/chm_model/20230916_chm\n",
    "\n",
    "#setup preprocess\n",
    "singularity exec --env PYTHONPATH=\"$NOBACKUP/development/above-shrubs\" --nv -B $NOBACKUP,/lscratch,/explore/nobackup/people,/explore/nobackup/projects /lscratch/$USER/container/above-shrubs python $NOBACKUP/development/above-shrubs/above_shrubs/view/chm_pipeline_cnn.py -c /explore/nobackup/people/mmacande/srlite/chm_model/20230926_chm_dtm/above_shrubs_gliht_cnn_v20230926.yaml -s setup preprocess\n",
    "\n",
    "singularity exec --env PYTHONPATH=\"$NOBACKUP/development/above-shrubs\" --nv -B $NOBACKUP,/lscratch,/explore/nobackup/people,/explore/nobackup/projects /lscratch/$USER/container/above-shrubs python $NOBACKUP/development/above-shrubs/above_shrubs/view/chm_pipeline_cnn.py -c /explore/nobackup/people/mmacande/srlite/chm_model/20230916_chm/above_shrubs_cnn_v20230916.yaml -s train\n",
    "\n",
    "singularity exec --env PYTHONPATH=\"$NOBACKUP/development/above-shrubs\" --nv -B $NOBACKUP,/lscratch,/explore/nobackup/people,/explore/nobackup/projects /lscratch/$USER/container/above-shrubs python $NOBACKUP/development/above-shrubs/above_shrubs/view/chm_pipeline_cnn.py -c /explore/nobackup/people/mmacande/srlite/chm_model/20230916_chm/above_shrubs_cnn_v20230916.yaml -s validate\n",
    "\n",
    "#reorganize validate chips into subfolder\n",
    "mkdir products/validate\n",
    "mv products/*.npy products/validate/.\n",
    "\n",
    "singularity exec --env PYTHONPATH=\"$NOBACKUP/development/above-shrubs\" --nv -B $NOBACKUP,/lscratch,/explore/nobackup/people,/explore/nobackup/projects /lscratch/$USER/container/above-shrubs python $NOBACKUP/development/above-shrubs/above_shrubs/view/chm_pipeline_cnn.py -c /explore/nobackup/people/mmacande/srlite/chm_model/20230829_chm/above_shrubs_cnn_v1.yaml -s predict\n",
    "\n",
    "singularity exec --env PYTHONPATH=\"$NOBACKUP/development/above-shrubs\" --nv -B $NOBACKUP,/lscratch,/explore/nobackup/people,/explore/nobackup/projects /lscratch/$USER/container/above-shrubs python $NOBACKUP/development/above-shrubs/above_shrubs/view/chm_pipeline_cnn.py -c /explore/nobackup/people/mmacande/srlite/chm_model/20230916_chm/above_shrubs_cnn_v20230916.yaml -s predict\n",
    "\n",
    "#Parallel inference across the cluster using Slurm:\n",
    "\n",
    "for i in {1..20}; do sbatch scripts/slurm_predict.sh; done\n",
    "\n",
    "```"
   ]
  },
  {
   "cell_type": "markdown",
   "id": "e81d957e-ba22-44ea-9518-e7c18d4f0186",
   "metadata": {},
   "source": [
    "## ADAPT cleanup outputs to re-run\n",
    "```\n",
    "cd /explore/nobackup/people/mmacande/srlite/chm_model/20230829_chm\n",
    "\n",
    "find products -type d -name WV03* |less\n",
    "find products -type d -name WV03* -exec rm -rf {} +\n",
    "\n",
    "find products -type d -name WV02* |less\n",
    "find products -type d -name WV02* -exec rm -rf {} +\n",
    "\n",
    "find products -type f -name '*.lock'\n",
    "find products -type f -name '*.lock' -delete\n",
    "\n",
    "find products -empty -type d\n",
    "find products -empty -type d -delete\n",
    "```"
   ]
  },
  {
   "cell_type": "markdown",
   "id": "52430ab9-303b-47e6-ab97-84a93cfc5fc7",
   "metadata": {},
   "source": [
    "# Generate table of CHMs for viewer"
   ]
  },
  {
   "cell_type": "code",
   "execution_count": 20,
   "id": "170dcf66-450e-4f86-bf25-7efa3ccd61e0",
   "metadata": {
    "tags": []
   },
   "outputs": [
    {
     "data": {
      "text/html": [
       "3297"
      ],
      "text/latex": [
       "3297"
      ],
      "text/markdown": [
       "3297"
      ],
      "text/plain": [
       "[1] 3297"
      ]
     },
     "metadata": {},
     "output_type": "display_data"
    },
    {
     "data": {
      "text/html": [
       "<table class=\"dataframe\">\n",
       "<caption>A tibble: 6 × 3</caption>\n",
       "<thead>\n",
       "\t<tr><th scope=col>cloudmask_path</th><th scope=col>cloudmask_file</th><th scope=col>catid</th></tr>\n",
       "\t<tr><th scope=col>&lt;fs::path&gt;</th><th scope=col>&lt;chr&gt;</th><th scope=col>&lt;chr&gt;</th></tr>\n",
       "</thead>\n",
       "<tbody>\n",
       "\t<tr><td>/explore/nobackup/projects/ilab/data/srlite/products/srlite_1.0.1/cloudmask/alaska_batch_1/4_bands/WV02_20100502_M1BS_10300100045FA300-toa.cloudmask.tif</td><td>WV02_20100502_M1BS_10300100045FA300-toa.cloudmask.tif</td><td>10300100045FA300</td></tr>\n",
       "\t<tr><td>/explore/nobackup/projects/ilab/data/srlite/products/srlite_1.0.1/cloudmask/alaska_batch_1/4_bands/WV02_20100505_M1BS_1030010005215900-toa.cloudmask.tif</td><td>WV02_20100505_M1BS_1030010005215900-toa.cloudmask.tif</td><td>1030010005215900</td></tr>\n",
       "\t<tr><td>/explore/nobackup/projects/ilab/data/srlite/products/srlite_1.0.1/cloudmask/alaska_batch_1/4_bands/WV02_20100526_M1BS_1030010005890800-toa.cloudmask.tif</td><td>WV02_20100526_M1BS_1030010005890800-toa.cloudmask.tif</td><td>1030010005890800</td></tr>\n",
       "\t<tr><td>/explore/nobackup/projects/ilab/data/srlite/products/srlite_1.0.1/cloudmask/alaska_batch_1/4_bands/WV02_20100529_M1BS_10300100054FCA00-toa.cloudmask.tif</td><td>WV02_20100529_M1BS_10300100054FCA00-toa.cloudmask.tif</td><td>10300100054FCA00</td></tr>\n",
       "\t<tr><td>/explore/nobackup/projects/ilab/data/srlite/products/srlite_1.0.1/cloudmask/alaska_batch_1/4_bands/WV02_20100531_M1BS_10300100053C1900-toa.cloudmask.tif</td><td>WV02_20100531_M1BS_10300100053C1900-toa.cloudmask.tif</td><td>10300100053C1900</td></tr>\n",
       "\t<tr><td>/explore/nobackup/projects/ilab/data/srlite/products/srlite_1.0.1/cloudmask/alaska_batch_1/4_bands/WV02_20100607_M1BS_10300100056B1D00-toa.cloudmask.tif</td><td>WV02_20100607_M1BS_10300100056B1D00-toa.cloudmask.tif</td><td>10300100056B1D00</td></tr>\n",
       "</tbody>\n",
       "</table>\n"
      ],
      "text/latex": [
       "A tibble: 6 × 3\n",
       "\\begin{tabular}{lll}\n",
       " cloudmask\\_path & cloudmask\\_file & catid\\\\\n",
       " <fs::path> & <chr> & <chr>\\\\\n",
       "\\hline\n",
       "\t /explore/nobackup/projects/ilab/data/srlite/products/srlite\\_1.0.1/cloudmask/alaska\\_batch\\_1/4\\_bands/WV02\\_20100502\\_M1BS\\_10300100045FA300-toa.cloudmask.tif & WV02\\_20100502\\_M1BS\\_10300100045FA300-toa.cloudmask.tif & 10300100045FA300\\\\\n",
       "\t /explore/nobackup/projects/ilab/data/srlite/products/srlite\\_1.0.1/cloudmask/alaska\\_batch\\_1/4\\_bands/WV02\\_20100505\\_M1BS\\_1030010005215900-toa.cloudmask.tif & WV02\\_20100505\\_M1BS\\_1030010005215900-toa.cloudmask.tif & 1030010005215900\\\\\n",
       "\t /explore/nobackup/projects/ilab/data/srlite/products/srlite\\_1.0.1/cloudmask/alaska\\_batch\\_1/4\\_bands/WV02\\_20100526\\_M1BS\\_1030010005890800-toa.cloudmask.tif & WV02\\_20100526\\_M1BS\\_1030010005890800-toa.cloudmask.tif & 1030010005890800\\\\\n",
       "\t /explore/nobackup/projects/ilab/data/srlite/products/srlite\\_1.0.1/cloudmask/alaska\\_batch\\_1/4\\_bands/WV02\\_20100529\\_M1BS\\_10300100054FCA00-toa.cloudmask.tif & WV02\\_20100529\\_M1BS\\_10300100054FCA00-toa.cloudmask.tif & 10300100054FCA00\\\\\n",
       "\t /explore/nobackup/projects/ilab/data/srlite/products/srlite\\_1.0.1/cloudmask/alaska\\_batch\\_1/4\\_bands/WV02\\_20100531\\_M1BS\\_10300100053C1900-toa.cloudmask.tif & WV02\\_20100531\\_M1BS\\_10300100053C1900-toa.cloudmask.tif & 10300100053C1900\\\\\n",
       "\t /explore/nobackup/projects/ilab/data/srlite/products/srlite\\_1.0.1/cloudmask/alaska\\_batch\\_1/4\\_bands/WV02\\_20100607\\_M1BS\\_10300100056B1D00-toa.cloudmask.tif & WV02\\_20100607\\_M1BS\\_10300100056B1D00-toa.cloudmask.tif & 10300100056B1D00\\\\\n",
       "\\end{tabular}\n"
      ],
      "text/markdown": [
       "\n",
       "A tibble: 6 × 3\n",
       "\n",
       "| cloudmask_path &lt;fs::path&gt; | cloudmask_file &lt;chr&gt; | catid &lt;chr&gt; |\n",
       "|---|---|---|\n",
       "| /explore/nobackup/projects/ilab/data/srlite/products/srlite_1.0.1/cloudmask/alaska_batch_1/4_bands/WV02_20100502_M1BS_10300100045FA300-toa.cloudmask.tif | WV02_20100502_M1BS_10300100045FA300-toa.cloudmask.tif | 10300100045FA300 |\n",
       "| /explore/nobackup/projects/ilab/data/srlite/products/srlite_1.0.1/cloudmask/alaska_batch_1/4_bands/WV02_20100505_M1BS_1030010005215900-toa.cloudmask.tif | WV02_20100505_M1BS_1030010005215900-toa.cloudmask.tif | 1030010005215900 |\n",
       "| /explore/nobackup/projects/ilab/data/srlite/products/srlite_1.0.1/cloudmask/alaska_batch_1/4_bands/WV02_20100526_M1BS_1030010005890800-toa.cloudmask.tif | WV02_20100526_M1BS_1030010005890800-toa.cloudmask.tif | 1030010005890800 |\n",
       "| /explore/nobackup/projects/ilab/data/srlite/products/srlite_1.0.1/cloudmask/alaska_batch_1/4_bands/WV02_20100529_M1BS_10300100054FCA00-toa.cloudmask.tif | WV02_20100529_M1BS_10300100054FCA00-toa.cloudmask.tif | 10300100054FCA00 |\n",
       "| /explore/nobackup/projects/ilab/data/srlite/products/srlite_1.0.1/cloudmask/alaska_batch_1/4_bands/WV02_20100531_M1BS_10300100053C1900-toa.cloudmask.tif | WV02_20100531_M1BS_10300100053C1900-toa.cloudmask.tif | 10300100053C1900 |\n",
       "| /explore/nobackup/projects/ilab/data/srlite/products/srlite_1.0.1/cloudmask/alaska_batch_1/4_bands/WV02_20100607_M1BS_10300100056B1D00-toa.cloudmask.tif | WV02_20100607_M1BS_10300100056B1D00-toa.cloudmask.tif | 10300100056B1D00 |\n",
       "\n"
      ],
      "text/plain": [
       "  cloudmask_path                                                                                                                                          \n",
       "1 /explore/nobackup/projects/ilab/data/srlite/products/srlite_1.0.1/cloudmask/alaska_batch_1/4_bands/WV02_20100502_M1BS_10300100045FA300-toa.cloudmask.tif\n",
       "2 /explore/nobackup/projects/ilab/data/srlite/products/srlite_1.0.1/cloudmask/alaska_batch_1/4_bands/WV02_20100505_M1BS_1030010005215900-toa.cloudmask.tif\n",
       "3 /explore/nobackup/projects/ilab/data/srlite/products/srlite_1.0.1/cloudmask/alaska_batch_1/4_bands/WV02_20100526_M1BS_1030010005890800-toa.cloudmask.tif\n",
       "4 /explore/nobackup/projects/ilab/data/srlite/products/srlite_1.0.1/cloudmask/alaska_batch_1/4_bands/WV02_20100529_M1BS_10300100054FCA00-toa.cloudmask.tif\n",
       "5 /explore/nobackup/projects/ilab/data/srlite/products/srlite_1.0.1/cloudmask/alaska_batch_1/4_bands/WV02_20100531_M1BS_10300100053C1900-toa.cloudmask.tif\n",
       "6 /explore/nobackup/projects/ilab/data/srlite/products/srlite_1.0.1/cloudmask/alaska_batch_1/4_bands/WV02_20100607_M1BS_10300100056B1D00-toa.cloudmask.tif\n",
       "  cloudmask_file                                        catid           \n",
       "1 WV02_20100502_M1BS_10300100045FA300-toa.cloudmask.tif 10300100045FA300\n",
       "2 WV02_20100505_M1BS_1030010005215900-toa.cloudmask.tif 1030010005215900\n",
       "3 WV02_20100526_M1BS_1030010005890800-toa.cloudmask.tif 1030010005890800\n",
       "4 WV02_20100529_M1BS_10300100054FCA00-toa.cloudmask.tif 10300100054FCA00\n",
       "5 WV02_20100531_M1BS_10300100053C1900-toa.cloudmask.tif 10300100053C1900\n",
       "6 WV02_20100607_M1BS_10300100056B1D00-toa.cloudmask.tif 10300100056B1D00"
      ]
     },
     "metadata": {},
     "output_type": "display_data"
    }
   ],
   "source": [
    "cloudmasks <- tibble(cloudmask_path = dir_ls('/explore/nobackup/projects/ilab/data/srlite/products/srlite_1.0.1/cloudmask', glob='*/*cloudmask.tif', recurse=T)) %>%\n",
    "mutate(cloudmask_file = path_file(cloudmask_path),\n",
    "       catid = str_sub(cloudmask_file, 20, 35))\n",
    "nrow(cloudmasks)\n",
    "cloudmasks %>% head()"
   ]
  },
  {
   "cell_type": "code",
   "execution_count": 21,
   "id": "d90d963e-d19e-4ad7-b52f-a73a7fe3758e",
   "metadata": {},
   "outputs": [
    {
     "data": {
      "text/html": [
       "4993"
      ],
      "text/latex": [
       "4993"
      ],
      "text/markdown": [
       "4993"
      ],
      "text/plain": [
       "[1] 4993"
      ]
     },
     "metadata": {},
     "output_type": "display_data"
    },
    {
     "name": "stdout",
     "output_type": "stream",
     "text": [
      "[1] \"duplicates:\"\n"
     ]
    },
    {
     "data": {
      "text/html": [
       "92"
      ],
      "text/latex": [
       "92"
      ],
      "text/markdown": [
       "92"
      ],
      "text/plain": [
       "[1] 92"
      ]
     },
     "metadata": {},
     "output_type": "display_data"
    },
    {
     "name": "stderr",
     "output_type": "stream",
     "text": [
      "\u001b[1m\u001b[22mJoining, by = \"catid\"\n"
     ]
    },
    {
     "data": {
      "text/html": [
       "4901"
      ],
      "text/latex": [
       "4901"
      ],
      "text/markdown": [
       "4901"
      ],
      "text/plain": [
       "[1] 4901"
      ]
     },
     "metadata": {},
     "output_type": "display_data"
    }
   ],
   "source": [
    "# ccdc <- tibble(ccdc_path = dir_ls('/explore/nobackup/projects/ilab/data/srlite/products/srlite_1.0.1/ccdc', glob='*/*ccdc.tif', recurse=T)) %>%\n",
    "ccdc <- bind_rows(\n",
    "    tibble(ccdc_path = dir_ls('/explore/nobackup/people/mmacande/srlite/srlite_shared/ccdc_20230214/alaska/', glob='*/*ccdc.tif', recurse=T),\n",
    "           source = '/explore/nobackup/people/mmacande/srlite/srlite_shared/ccdc_20230214/alaska'),\n",
    "    tibble(ccdc_path = dir_ls('/explore/nobackup/people/mmacande/srlite/srlite_shared/ccdc_20230807_alaska_batch23/alaska', glob='*/*ccdc.tif', recurse=T),\n",
    "           source = '/explore/nobackup/people/mmacande/srlite/srlite_shared/ccdc_20230807_alaska_batch23') ) %>%\n",
    "mutate(ccdc_file = path_file(ccdc_path),\n",
    "       catid = str_sub(ccdc_file, 20, 35))\n",
    "\n",
    "nrow(ccdc)\n",
    "# ccdc %>% head()\n",
    "dups <- ccdc %>% group_by(catid) %>% tally() %>% filter(n > 1)\n",
    "print('duplicates:')\n",
    "nrow(dups)\n",
    "      \n",
    "ccdc <- bind_rows(\n",
    "    ccdc %>% filter(source == '/explore/nobackup/people/mmacande/srlite/srlite_shared/ccdc_20230214/alaska') %>% anti_join(dups),\n",
    "    ccdc %>% filter(source == '/explore/nobackup/people/mmacande/srlite/srlite_shared/ccdc_20230807_alaska_batch23'))\n",
    "nrow(ccdc)\n"
   ]
  },
  {
   "cell_type": "code",
   "execution_count": 22,
   "id": "ead72bbf-5c27-45e7-b013-49e4b3c8665d",
   "metadata": {},
   "outputs": [
    {
     "data": {
      "text/html": [
       "3343"
      ],
      "text/latex": [
       "3343"
      ],
      "text/markdown": [
       "3343"
      ],
      "text/plain": [
       "[1] 3343"
      ]
     },
     "metadata": {},
     "output_type": "display_data"
    },
    {
     "data": {
      "text/html": [
       "<table class=\"dataframe\">\n",
       "<caption>A tibble: 6 × 3</caption>\n",
       "<thead>\n",
       "\t<tr><th scope=col>toa_path</th><th scope=col>toa_file</th><th scope=col>catid</th></tr>\n",
       "\t<tr><th scope=col>&lt;fs::path&gt;</th><th scope=col>&lt;chr&gt;</th><th scope=col>&lt;chr&gt;</th></tr>\n",
       "</thead>\n",
       "<tbody>\n",
       "\t<tr><td>/explore/nobackup/projects/ilab/data/srlite/products/srlite_1.0.1/toa/alaska/4_bands/WV02_20100502_M1BS_10300100045FA300-toa.tif</td><td>WV02_20100502_M1BS_10300100045FA300-toa.tif</td><td>10300100045FA300</td></tr>\n",
       "\t<tr><td>/explore/nobackup/projects/ilab/data/srlite/products/srlite_1.0.1/toa/alaska/4_bands/WV02_20100505_M1BS_1030010005215900-toa.tif</td><td>WV02_20100505_M1BS_1030010005215900-toa.tif</td><td>1030010005215900</td></tr>\n",
       "\t<tr><td>/explore/nobackup/projects/ilab/data/srlite/products/srlite_1.0.1/toa/alaska/4_bands/WV02_20100526_M1BS_1030010005890800-toa.tif</td><td>WV02_20100526_M1BS_1030010005890800-toa.tif</td><td>1030010005890800</td></tr>\n",
       "\t<tr><td>/explore/nobackup/projects/ilab/data/srlite/products/srlite_1.0.1/toa/alaska/4_bands/WV02_20100529_M1BS_10300100054FCA00-toa.tif</td><td>WV02_20100529_M1BS_10300100054FCA00-toa.tif</td><td>10300100054FCA00</td></tr>\n",
       "\t<tr><td>/explore/nobackup/projects/ilab/data/srlite/products/srlite_1.0.1/toa/alaska/4_bands/WV02_20100531_M1BS_10300100053C1900-toa.tif</td><td>WV02_20100531_M1BS_10300100053C1900-toa.tif</td><td>10300100053C1900</td></tr>\n",
       "\t<tr><td>/explore/nobackup/projects/ilab/data/srlite/products/srlite_1.0.1/toa/alaska/4_bands/WV02_20100607_M1BS_10300100056B1D00-toa.tif</td><td>WV02_20100607_M1BS_10300100056B1D00-toa.tif</td><td>10300100056B1D00</td></tr>\n",
       "</tbody>\n",
       "</table>\n"
      ],
      "text/latex": [
       "A tibble: 6 × 3\n",
       "\\begin{tabular}{lll}\n",
       " toa\\_path & toa\\_file & catid\\\\\n",
       " <fs::path> & <chr> & <chr>\\\\\n",
       "\\hline\n",
       "\t /explore/nobackup/projects/ilab/data/srlite/products/srlite\\_1.0.1/toa/alaska/4\\_bands/WV02\\_20100502\\_M1BS\\_10300100045FA300-toa.tif & WV02\\_20100502\\_M1BS\\_10300100045FA300-toa.tif & 10300100045FA300\\\\\n",
       "\t /explore/nobackup/projects/ilab/data/srlite/products/srlite\\_1.0.1/toa/alaska/4\\_bands/WV02\\_20100505\\_M1BS\\_1030010005215900-toa.tif & WV02\\_20100505\\_M1BS\\_1030010005215900-toa.tif & 1030010005215900\\\\\n",
       "\t /explore/nobackup/projects/ilab/data/srlite/products/srlite\\_1.0.1/toa/alaska/4\\_bands/WV02\\_20100526\\_M1BS\\_1030010005890800-toa.tif & WV02\\_20100526\\_M1BS\\_1030010005890800-toa.tif & 1030010005890800\\\\\n",
       "\t /explore/nobackup/projects/ilab/data/srlite/products/srlite\\_1.0.1/toa/alaska/4\\_bands/WV02\\_20100529\\_M1BS\\_10300100054FCA00-toa.tif & WV02\\_20100529\\_M1BS\\_10300100054FCA00-toa.tif & 10300100054FCA00\\\\\n",
       "\t /explore/nobackup/projects/ilab/data/srlite/products/srlite\\_1.0.1/toa/alaska/4\\_bands/WV02\\_20100531\\_M1BS\\_10300100053C1900-toa.tif & WV02\\_20100531\\_M1BS\\_10300100053C1900-toa.tif & 10300100053C1900\\\\\n",
       "\t /explore/nobackup/projects/ilab/data/srlite/products/srlite\\_1.0.1/toa/alaska/4\\_bands/WV02\\_20100607\\_M1BS\\_10300100056B1D00-toa.tif & WV02\\_20100607\\_M1BS\\_10300100056B1D00-toa.tif & 10300100056B1D00\\\\\n",
       "\\end{tabular}\n"
      ],
      "text/markdown": [
       "\n",
       "A tibble: 6 × 3\n",
       "\n",
       "| toa_path &lt;fs::path&gt; | toa_file &lt;chr&gt; | catid &lt;chr&gt; |\n",
       "|---|---|---|\n",
       "| /explore/nobackup/projects/ilab/data/srlite/products/srlite_1.0.1/toa/alaska/4_bands/WV02_20100502_M1BS_10300100045FA300-toa.tif | WV02_20100502_M1BS_10300100045FA300-toa.tif | 10300100045FA300 |\n",
       "| /explore/nobackup/projects/ilab/data/srlite/products/srlite_1.0.1/toa/alaska/4_bands/WV02_20100505_M1BS_1030010005215900-toa.tif | WV02_20100505_M1BS_1030010005215900-toa.tif | 1030010005215900 |\n",
       "| /explore/nobackup/projects/ilab/data/srlite/products/srlite_1.0.1/toa/alaska/4_bands/WV02_20100526_M1BS_1030010005890800-toa.tif | WV02_20100526_M1BS_1030010005890800-toa.tif | 1030010005890800 |\n",
       "| /explore/nobackup/projects/ilab/data/srlite/products/srlite_1.0.1/toa/alaska/4_bands/WV02_20100529_M1BS_10300100054FCA00-toa.tif | WV02_20100529_M1BS_10300100054FCA00-toa.tif | 10300100054FCA00 |\n",
       "| /explore/nobackup/projects/ilab/data/srlite/products/srlite_1.0.1/toa/alaska/4_bands/WV02_20100531_M1BS_10300100053C1900-toa.tif | WV02_20100531_M1BS_10300100053C1900-toa.tif | 10300100053C1900 |\n",
       "| /explore/nobackup/projects/ilab/data/srlite/products/srlite_1.0.1/toa/alaska/4_bands/WV02_20100607_M1BS_10300100056B1D00-toa.tif | WV02_20100607_M1BS_10300100056B1D00-toa.tif | 10300100056B1D00 |\n",
       "\n"
      ],
      "text/plain": [
       "  toa_path                                                                                                                        \n",
       "1 /explore/nobackup/projects/ilab/data/srlite/products/srlite_1.0.1/toa/alaska/4_bands/WV02_20100502_M1BS_10300100045FA300-toa.tif\n",
       "2 /explore/nobackup/projects/ilab/data/srlite/products/srlite_1.0.1/toa/alaska/4_bands/WV02_20100505_M1BS_1030010005215900-toa.tif\n",
       "3 /explore/nobackup/projects/ilab/data/srlite/products/srlite_1.0.1/toa/alaska/4_bands/WV02_20100526_M1BS_1030010005890800-toa.tif\n",
       "4 /explore/nobackup/projects/ilab/data/srlite/products/srlite_1.0.1/toa/alaska/4_bands/WV02_20100529_M1BS_10300100054FCA00-toa.tif\n",
       "5 /explore/nobackup/projects/ilab/data/srlite/products/srlite_1.0.1/toa/alaska/4_bands/WV02_20100531_M1BS_10300100053C1900-toa.tif\n",
       "6 /explore/nobackup/projects/ilab/data/srlite/products/srlite_1.0.1/toa/alaska/4_bands/WV02_20100607_M1BS_10300100056B1D00-toa.tif\n",
       "  toa_file                                    catid           \n",
       "1 WV02_20100502_M1BS_10300100045FA300-toa.tif 10300100045FA300\n",
       "2 WV02_20100505_M1BS_1030010005215900-toa.tif 1030010005215900\n",
       "3 WV02_20100526_M1BS_1030010005890800-toa.tif 1030010005890800\n",
       "4 WV02_20100529_M1BS_10300100054FCA00-toa.tif 10300100054FCA00\n",
       "5 WV02_20100531_M1BS_10300100053C1900-toa.tif 10300100053C1900\n",
       "6 WV02_20100607_M1BS_10300100056B1D00-toa.tif 10300100056B1D00"
      ]
     },
     "metadata": {},
     "output_type": "display_data"
    }
   ],
   "source": [
    "toas <- tibble(toa_path = dir_ls('/explore/nobackup/projects/ilab/data/srlite/products/srlite_1.0.1/toa', glob='*/*toa.tif', recurse=T)) %>%\n",
    "mutate(toa_file = path_file(toa_path),\n",
    "       catid = str_sub(toa_file, 20, 35))\n",
    "\n",
    "nrow(toas)\n",
    "toas %>% head()"
   ]
  },
  {
   "cell_type": "code",
   "execution_count": 30,
   "id": "55703cd6-74f6-458c-8946-f23fb06bba3c",
   "metadata": {
    "tags": []
   },
   "outputs": [
    {
     "name": "stderr",
     "output_type": "stream",
     "text": [
      "\u001b[1m\u001b[22mJoining, by = \"catid\"\n",
      "\u001b[1m\u001b[22mJoining, by = \"catid\"\n",
      "\u001b[1m\u001b[22mJoining, by = \"catid\"\n",
      "\u001b[1m\u001b[22mJoining, by = \"catid\"\n"
     ]
    },
    {
     "data": {
      "text/html": [
       "53"
      ],
      "text/latex": [
       "53"
      ],
      "text/markdown": [
       "53"
      ],
      "text/plain": [
       "[1] 53"
      ]
     },
     "metadata": {},
     "output_type": "display_data"
    },
    {
     "data": {
      "text/html": [
       "<table class=\"dataframe\">\n",
       "<caption>A tibble: 6 × 7</caption>\n",
       "<thead>\n",
       "\t<tr><th scope=col>catid</th><th scope=col>chm_file</th><th scope=col>chm_path</th><th scope=col>srlite_path</th><th scope=col>cloudmask_path</th><th scope=col>toa_path</th><th scope=col>ccdc_path</th></tr>\n",
       "\t<tr><th scope=col>&lt;chr&gt;</th><th scope=col>&lt;chr&gt;</th><th scope=col>&lt;fs::path&gt;</th><th scope=col>&lt;fs::path&gt;</th><th scope=col>&lt;fs::path&gt;</th><th scope=col>&lt;fs::path&gt;</th><th scope=col>&lt;fs::path&gt;</th></tr>\n",
       "</thead>\n",
       "<tbody>\n",
       "\t<tr><td>103001000617C000</td><td>WV02_20100804_M1BS_103001000617C000-sr-02m.cnn-chm-v1.tif</td><td>/explore/nobackup/people/mmacande/srlite/chm_model/20230926_chm_dtm/products_train_strips/WV02_20100804_M1BS_103001000617C000-sr-02m/WV02_20100804_M1BS_103001000617C000-sr-02m.cnn-chm-v1.tif</td><td>/explore/nobackup/projects/ilab/data/srlite/products/srlite_1.0.1/srlite/alaska/batch_1/8_band_csv/split_4/WV02_20100804_M1BS_103001000617C000-sr-02m.tif  </td><td>/explore/nobackup/projects/ilab/data/srlite/products/srlite_1.0.1/cloudmask/alaska_batch_1/split_4/WV02_20100804_M1BS_103001000617C000-toa.cloudmask.tif</td><td>/explore/nobackup/projects/ilab/data/srlite/products/srlite_1.0.1/toa/alaska/split_4/WV02_20100804_M1BS_103001000617C000-toa.tif  </td><td>/explore/nobackup/people/mmacande/srlite/srlite_shared/ccdc_20230214/alaska/WV02_20100804_M1BS_103001000617C000-ccdc.tif</td></tr>\n",
       "\t<tr><td>10300100068BF600</td><td>WV02_20100815_M1BS_10300100068BF600-sr-02m.cnn-chm-v1.tif</td><td>/explore/nobackup/people/mmacande/srlite/chm_model/20230926_chm_dtm/products_train_strips/WV02_20100815_M1BS_10300100068BF600-sr-02m/WV02_20100815_M1BS_10300100068BF600-sr-02m.cnn-chm-v1.tif</td><td>/explore/nobackup/projects/ilab/data/srlite/products/srlite_1.0.1/srlite/alaska/batch_1/4_band_csv/WV02_20100815_M1BS_10300100068BF600-sr-02m.tif          </td><td>/explore/nobackup/projects/ilab/data/srlite/products/srlite_1.0.1/cloudmask/alaska_batch_1/4_bands/WV02_20100815_M1BS_10300100068BF600-toa.cloudmask.tif</td><td>/explore/nobackup/projects/ilab/data/srlite/products/srlite_1.0.1/toa/alaska/4_bands/WV02_20100815_M1BS_10300100068BF600-toa.tif  </td><td>/explore/nobackup/people/mmacande/srlite/srlite_shared/ccdc_20230214/alaska/WV02_20100815_M1BS_10300100068BF600-ccdc.tif</td></tr>\n",
       "\t<tr><td>103001000CA39000</td><td>WV02_20110707_M1BS_103001000CA39000-sr-02m.cnn-chm-v1.tif</td><td>/explore/nobackup/people/mmacande/srlite/chm_model/20230926_chm_dtm/products_train_strips/WV02_20110707_M1BS_103001000CA39000-sr-02m/WV02_20110707_M1BS_103001000CA39000-sr-02m.cnn-chm-v1.tif</td><td>/explore/nobackup/projects/ilab/data/srlite/products/srlite_1.0.1/srlite/alaska/batch_1/4_band_csv/WV02_20110707_M1BS_103001000CA39000-sr-02m.tif          </td><td>/explore/nobackup/projects/ilab/data/srlite/products/srlite_1.0.1/cloudmask/alaska_batch_1/4_bands/WV02_20110707_M1BS_103001000CA39000-toa.cloudmask.tif</td><td>/explore/nobackup/projects/ilab/data/srlite/products/srlite_1.0.1/toa/alaska/4_bands/WV02_20110707_M1BS_103001000CA39000-toa.tif  </td><td>/explore/nobackup/people/mmacande/srlite/srlite_shared/ccdc_20230214/alaska/WV02_20110707_M1BS_103001000CA39000-ccdc.tif</td></tr>\n",
       "\t<tr><td>103001000D6CEA00</td><td>WV02_20110811_M1BS_103001000D6CEA00-sr-02m.cnn-chm-v1.tif</td><td>/explore/nobackup/people/mmacande/srlite/chm_model/20230926_chm_dtm/products_train_strips/WV02_20110811_M1BS_103001000D6CEA00-sr-02m/WV02_20110811_M1BS_103001000D6CEA00-sr-02m.cnn-chm-v1.tif</td><td>/explore/nobackup/projects/ilab/data/srlite/products/srlite_1.0.1/srlite/alaska/batch_1/8_band_csv/split_6_0/WV02_20110811_M1BS_103001000D6CEA00-sr-02m.tif</td><td>/explore/nobackup/projects/ilab/data/srlite/products/srlite_1.0.1/cloudmask/alaska_batch_1/split_6/WV02_20110811_M1BS_103001000D6CEA00-toa.cloudmask.tif</td><td>/explore/nobackup/projects/ilab/data/srlite/products/srlite_1.0.1/toa/alaska/split_6_0/WV02_20110811_M1BS_103001000D6CEA00-toa.tif</td><td>/explore/nobackup/people/mmacande/srlite/srlite_shared/ccdc_20230214/alaska/WV02_20110811_M1BS_103001000D6CEA00-ccdc.tif</td></tr>\n",
       "\t<tr><td>103001000C8BBA00</td><td>WV02_20110812_M1BS_103001000C8BBA00-sr-02m.cnn-chm-v1.tif</td><td>/explore/nobackup/people/mmacande/srlite/chm_model/20230926_chm_dtm/products_train_strips/WV02_20110812_M1BS_103001000C8BBA00-sr-02m/WV02_20110812_M1BS_103001000C8BBA00-sr-02m.cnn-chm-v1.tif</td><td>/explore/nobackup/projects/ilab/data/srlite/products/srlite_1.0.1/srlite/alaska/batch_1/8_band_csv/split_5/WV02_20110812_M1BS_103001000C8BBA00-sr-02m.tif  </td><td>/explore/nobackup/projects/ilab/data/srlite/products/srlite_1.0.1/cloudmask/alaska_batch_1/split_5/WV02_20110812_M1BS_103001000C8BBA00-toa.cloudmask.tif</td><td>/explore/nobackup/projects/ilab/data/srlite/products/srlite_1.0.1/toa/alaska/split_5/WV02_20110812_M1BS_103001000C8BBA00-toa.tif  </td><td>/explore/nobackup/people/mmacande/srlite/srlite_shared/ccdc_20230214/alaska/WV02_20110812_M1BS_103001000C8BBA00-ccdc.tif</td></tr>\n",
       "\t<tr><td>103001000D56BA00</td><td>WV02_20110812_M1BS_103001000D56BA00-sr-02m.cnn-chm-v1.tif</td><td>/explore/nobackup/people/mmacande/srlite/chm_model/20230926_chm_dtm/products_train_strips/WV02_20110812_M1BS_103001000D56BA00-sr-02m/WV02_20110812_M1BS_103001000D56BA00-sr-02m.cnn-chm-v1.tif</td><td>/explore/nobackup/projects/ilab/data/srlite/products/srlite_1.0.1/srlite/alaska/batch_1/8_band_csv/split_6_0/WV02_20110812_M1BS_103001000D56BA00-sr-02m.tif</td><td>/explore/nobackup/projects/ilab/data/srlite/products/srlite_1.0.1/cloudmask/alaska_batch_1/split_6/WV02_20110812_M1BS_103001000D56BA00-toa.cloudmask.tif</td><td>/explore/nobackup/projects/ilab/data/srlite/products/srlite_1.0.1/toa/alaska/split_6_0/WV02_20110812_M1BS_103001000D56BA00-toa.tif</td><td>/explore/nobackup/people/mmacande/srlite/srlite_shared/ccdc_20230214/alaska/WV02_20110812_M1BS_103001000D56BA00-ccdc.tif</td></tr>\n",
       "</tbody>\n",
       "</table>\n"
      ],
      "text/latex": [
       "A tibble: 6 × 7\n",
       "\\begin{tabular}{lllllll}\n",
       " catid & chm\\_file & chm\\_path & srlite\\_path & cloudmask\\_path & toa\\_path & ccdc\\_path\\\\\n",
       " <chr> & <chr> & <fs::path> & <fs::path> & <fs::path> & <fs::path> & <fs::path>\\\\\n",
       "\\hline\n",
       "\t 103001000617C000 & WV02\\_20100804\\_M1BS\\_103001000617C000-sr-02m.cnn-chm-v1.tif & /explore/nobackup/people/mmacande/srlite/chm\\_model/20230926\\_chm\\_dtm/products\\_train\\_strips/WV02\\_20100804\\_M1BS\\_103001000617C000-sr-02m/WV02\\_20100804\\_M1BS\\_103001000617C000-sr-02m.cnn-chm-v1.tif & /explore/nobackup/projects/ilab/data/srlite/products/srlite\\_1.0.1/srlite/alaska/batch\\_1/8\\_band\\_csv/split\\_4/WV02\\_20100804\\_M1BS\\_103001000617C000-sr-02m.tif   & /explore/nobackup/projects/ilab/data/srlite/products/srlite\\_1.0.1/cloudmask/alaska\\_batch\\_1/split\\_4/WV02\\_20100804\\_M1BS\\_103001000617C000-toa.cloudmask.tif & /explore/nobackup/projects/ilab/data/srlite/products/srlite\\_1.0.1/toa/alaska/split\\_4/WV02\\_20100804\\_M1BS\\_103001000617C000-toa.tif   & /explore/nobackup/people/mmacande/srlite/srlite\\_shared/ccdc\\_20230214/alaska/WV02\\_20100804\\_M1BS\\_103001000617C000-ccdc.tif\\\\\n",
       "\t 10300100068BF600 & WV02\\_20100815\\_M1BS\\_10300100068BF600-sr-02m.cnn-chm-v1.tif & /explore/nobackup/people/mmacande/srlite/chm\\_model/20230926\\_chm\\_dtm/products\\_train\\_strips/WV02\\_20100815\\_M1BS\\_10300100068BF600-sr-02m/WV02\\_20100815\\_M1BS\\_10300100068BF600-sr-02m.cnn-chm-v1.tif & /explore/nobackup/projects/ilab/data/srlite/products/srlite\\_1.0.1/srlite/alaska/batch\\_1/4\\_band\\_csv/WV02\\_20100815\\_M1BS\\_10300100068BF600-sr-02m.tif           & /explore/nobackup/projects/ilab/data/srlite/products/srlite\\_1.0.1/cloudmask/alaska\\_batch\\_1/4\\_bands/WV02\\_20100815\\_M1BS\\_10300100068BF600-toa.cloudmask.tif & /explore/nobackup/projects/ilab/data/srlite/products/srlite\\_1.0.1/toa/alaska/4\\_bands/WV02\\_20100815\\_M1BS\\_10300100068BF600-toa.tif   & /explore/nobackup/people/mmacande/srlite/srlite\\_shared/ccdc\\_20230214/alaska/WV02\\_20100815\\_M1BS\\_10300100068BF600-ccdc.tif\\\\\n",
       "\t 103001000CA39000 & WV02\\_20110707\\_M1BS\\_103001000CA39000-sr-02m.cnn-chm-v1.tif & /explore/nobackup/people/mmacande/srlite/chm\\_model/20230926\\_chm\\_dtm/products\\_train\\_strips/WV02\\_20110707\\_M1BS\\_103001000CA39000-sr-02m/WV02\\_20110707\\_M1BS\\_103001000CA39000-sr-02m.cnn-chm-v1.tif & /explore/nobackup/projects/ilab/data/srlite/products/srlite\\_1.0.1/srlite/alaska/batch\\_1/4\\_band\\_csv/WV02\\_20110707\\_M1BS\\_103001000CA39000-sr-02m.tif           & /explore/nobackup/projects/ilab/data/srlite/products/srlite\\_1.0.1/cloudmask/alaska\\_batch\\_1/4\\_bands/WV02\\_20110707\\_M1BS\\_103001000CA39000-toa.cloudmask.tif & /explore/nobackup/projects/ilab/data/srlite/products/srlite\\_1.0.1/toa/alaska/4\\_bands/WV02\\_20110707\\_M1BS\\_103001000CA39000-toa.tif   & /explore/nobackup/people/mmacande/srlite/srlite\\_shared/ccdc\\_20230214/alaska/WV02\\_20110707\\_M1BS\\_103001000CA39000-ccdc.tif\\\\\n",
       "\t 103001000D6CEA00 & WV02\\_20110811\\_M1BS\\_103001000D6CEA00-sr-02m.cnn-chm-v1.tif & /explore/nobackup/people/mmacande/srlite/chm\\_model/20230926\\_chm\\_dtm/products\\_train\\_strips/WV02\\_20110811\\_M1BS\\_103001000D6CEA00-sr-02m/WV02\\_20110811\\_M1BS\\_103001000D6CEA00-sr-02m.cnn-chm-v1.tif & /explore/nobackup/projects/ilab/data/srlite/products/srlite\\_1.0.1/srlite/alaska/batch\\_1/8\\_band\\_csv/split\\_6\\_0/WV02\\_20110811\\_M1BS\\_103001000D6CEA00-sr-02m.tif & /explore/nobackup/projects/ilab/data/srlite/products/srlite\\_1.0.1/cloudmask/alaska\\_batch\\_1/split\\_6/WV02\\_20110811\\_M1BS\\_103001000D6CEA00-toa.cloudmask.tif & /explore/nobackup/projects/ilab/data/srlite/products/srlite\\_1.0.1/toa/alaska/split\\_6\\_0/WV02\\_20110811\\_M1BS\\_103001000D6CEA00-toa.tif & /explore/nobackup/people/mmacande/srlite/srlite\\_shared/ccdc\\_20230214/alaska/WV02\\_20110811\\_M1BS\\_103001000D6CEA00-ccdc.tif\\\\\n",
       "\t 103001000C8BBA00 & WV02\\_20110812\\_M1BS\\_103001000C8BBA00-sr-02m.cnn-chm-v1.tif & /explore/nobackup/people/mmacande/srlite/chm\\_model/20230926\\_chm\\_dtm/products\\_train\\_strips/WV02\\_20110812\\_M1BS\\_103001000C8BBA00-sr-02m/WV02\\_20110812\\_M1BS\\_103001000C8BBA00-sr-02m.cnn-chm-v1.tif & /explore/nobackup/projects/ilab/data/srlite/products/srlite\\_1.0.1/srlite/alaska/batch\\_1/8\\_band\\_csv/split\\_5/WV02\\_20110812\\_M1BS\\_103001000C8BBA00-sr-02m.tif   & /explore/nobackup/projects/ilab/data/srlite/products/srlite\\_1.0.1/cloudmask/alaska\\_batch\\_1/split\\_5/WV02\\_20110812\\_M1BS\\_103001000C8BBA00-toa.cloudmask.tif & /explore/nobackup/projects/ilab/data/srlite/products/srlite\\_1.0.1/toa/alaska/split\\_5/WV02\\_20110812\\_M1BS\\_103001000C8BBA00-toa.tif   & /explore/nobackup/people/mmacande/srlite/srlite\\_shared/ccdc\\_20230214/alaska/WV02\\_20110812\\_M1BS\\_103001000C8BBA00-ccdc.tif\\\\\n",
       "\t 103001000D56BA00 & WV02\\_20110812\\_M1BS\\_103001000D56BA00-sr-02m.cnn-chm-v1.tif & /explore/nobackup/people/mmacande/srlite/chm\\_model/20230926\\_chm\\_dtm/products\\_train\\_strips/WV02\\_20110812\\_M1BS\\_103001000D56BA00-sr-02m/WV02\\_20110812\\_M1BS\\_103001000D56BA00-sr-02m.cnn-chm-v1.tif & /explore/nobackup/projects/ilab/data/srlite/products/srlite\\_1.0.1/srlite/alaska/batch\\_1/8\\_band\\_csv/split\\_6\\_0/WV02\\_20110812\\_M1BS\\_103001000D56BA00-sr-02m.tif & /explore/nobackup/projects/ilab/data/srlite/products/srlite\\_1.0.1/cloudmask/alaska\\_batch\\_1/split\\_6/WV02\\_20110812\\_M1BS\\_103001000D56BA00-toa.cloudmask.tif & /explore/nobackup/projects/ilab/data/srlite/products/srlite\\_1.0.1/toa/alaska/split\\_6\\_0/WV02\\_20110812\\_M1BS\\_103001000D56BA00-toa.tif & /explore/nobackup/people/mmacande/srlite/srlite\\_shared/ccdc\\_20230214/alaska/WV02\\_20110812\\_M1BS\\_103001000D56BA00-ccdc.tif\\\\\n",
       "\\end{tabular}\n"
      ],
      "text/markdown": [
       "\n",
       "A tibble: 6 × 7\n",
       "\n",
       "| catid &lt;chr&gt; | chm_file &lt;chr&gt; | chm_path &lt;fs::path&gt; | srlite_path &lt;fs::path&gt; | cloudmask_path &lt;fs::path&gt; | toa_path &lt;fs::path&gt; | ccdc_path &lt;fs::path&gt; |\n",
       "|---|---|---|---|---|---|---|\n",
       "| 103001000617C000 | WV02_20100804_M1BS_103001000617C000-sr-02m.cnn-chm-v1.tif | /explore/nobackup/people/mmacande/srlite/chm_model/20230926_chm_dtm/products_train_strips/WV02_20100804_M1BS_103001000617C000-sr-02m/WV02_20100804_M1BS_103001000617C000-sr-02m.cnn-chm-v1.tif | /explore/nobackup/projects/ilab/data/srlite/products/srlite_1.0.1/srlite/alaska/batch_1/8_band_csv/split_4/WV02_20100804_M1BS_103001000617C000-sr-02m.tif   | /explore/nobackup/projects/ilab/data/srlite/products/srlite_1.0.1/cloudmask/alaska_batch_1/split_4/WV02_20100804_M1BS_103001000617C000-toa.cloudmask.tif | /explore/nobackup/projects/ilab/data/srlite/products/srlite_1.0.1/toa/alaska/split_4/WV02_20100804_M1BS_103001000617C000-toa.tif   | /explore/nobackup/people/mmacande/srlite/srlite_shared/ccdc_20230214/alaska/WV02_20100804_M1BS_103001000617C000-ccdc.tif |\n",
       "| 10300100068BF600 | WV02_20100815_M1BS_10300100068BF600-sr-02m.cnn-chm-v1.tif | /explore/nobackup/people/mmacande/srlite/chm_model/20230926_chm_dtm/products_train_strips/WV02_20100815_M1BS_10300100068BF600-sr-02m/WV02_20100815_M1BS_10300100068BF600-sr-02m.cnn-chm-v1.tif | /explore/nobackup/projects/ilab/data/srlite/products/srlite_1.0.1/srlite/alaska/batch_1/4_band_csv/WV02_20100815_M1BS_10300100068BF600-sr-02m.tif           | /explore/nobackup/projects/ilab/data/srlite/products/srlite_1.0.1/cloudmask/alaska_batch_1/4_bands/WV02_20100815_M1BS_10300100068BF600-toa.cloudmask.tif | /explore/nobackup/projects/ilab/data/srlite/products/srlite_1.0.1/toa/alaska/4_bands/WV02_20100815_M1BS_10300100068BF600-toa.tif   | /explore/nobackup/people/mmacande/srlite/srlite_shared/ccdc_20230214/alaska/WV02_20100815_M1BS_10300100068BF600-ccdc.tif |\n",
       "| 103001000CA39000 | WV02_20110707_M1BS_103001000CA39000-sr-02m.cnn-chm-v1.tif | /explore/nobackup/people/mmacande/srlite/chm_model/20230926_chm_dtm/products_train_strips/WV02_20110707_M1BS_103001000CA39000-sr-02m/WV02_20110707_M1BS_103001000CA39000-sr-02m.cnn-chm-v1.tif | /explore/nobackup/projects/ilab/data/srlite/products/srlite_1.0.1/srlite/alaska/batch_1/4_band_csv/WV02_20110707_M1BS_103001000CA39000-sr-02m.tif           | /explore/nobackup/projects/ilab/data/srlite/products/srlite_1.0.1/cloudmask/alaska_batch_1/4_bands/WV02_20110707_M1BS_103001000CA39000-toa.cloudmask.tif | /explore/nobackup/projects/ilab/data/srlite/products/srlite_1.0.1/toa/alaska/4_bands/WV02_20110707_M1BS_103001000CA39000-toa.tif   | /explore/nobackup/people/mmacande/srlite/srlite_shared/ccdc_20230214/alaska/WV02_20110707_M1BS_103001000CA39000-ccdc.tif |\n",
       "| 103001000D6CEA00 | WV02_20110811_M1BS_103001000D6CEA00-sr-02m.cnn-chm-v1.tif | /explore/nobackup/people/mmacande/srlite/chm_model/20230926_chm_dtm/products_train_strips/WV02_20110811_M1BS_103001000D6CEA00-sr-02m/WV02_20110811_M1BS_103001000D6CEA00-sr-02m.cnn-chm-v1.tif | /explore/nobackup/projects/ilab/data/srlite/products/srlite_1.0.1/srlite/alaska/batch_1/8_band_csv/split_6_0/WV02_20110811_M1BS_103001000D6CEA00-sr-02m.tif | /explore/nobackup/projects/ilab/data/srlite/products/srlite_1.0.1/cloudmask/alaska_batch_1/split_6/WV02_20110811_M1BS_103001000D6CEA00-toa.cloudmask.tif | /explore/nobackup/projects/ilab/data/srlite/products/srlite_1.0.1/toa/alaska/split_6_0/WV02_20110811_M1BS_103001000D6CEA00-toa.tif | /explore/nobackup/people/mmacande/srlite/srlite_shared/ccdc_20230214/alaska/WV02_20110811_M1BS_103001000D6CEA00-ccdc.tif |\n",
       "| 103001000C8BBA00 | WV02_20110812_M1BS_103001000C8BBA00-sr-02m.cnn-chm-v1.tif | /explore/nobackup/people/mmacande/srlite/chm_model/20230926_chm_dtm/products_train_strips/WV02_20110812_M1BS_103001000C8BBA00-sr-02m/WV02_20110812_M1BS_103001000C8BBA00-sr-02m.cnn-chm-v1.tif | /explore/nobackup/projects/ilab/data/srlite/products/srlite_1.0.1/srlite/alaska/batch_1/8_band_csv/split_5/WV02_20110812_M1BS_103001000C8BBA00-sr-02m.tif   | /explore/nobackup/projects/ilab/data/srlite/products/srlite_1.0.1/cloudmask/alaska_batch_1/split_5/WV02_20110812_M1BS_103001000C8BBA00-toa.cloudmask.tif | /explore/nobackup/projects/ilab/data/srlite/products/srlite_1.0.1/toa/alaska/split_5/WV02_20110812_M1BS_103001000C8BBA00-toa.tif   | /explore/nobackup/people/mmacande/srlite/srlite_shared/ccdc_20230214/alaska/WV02_20110812_M1BS_103001000C8BBA00-ccdc.tif |\n",
       "| 103001000D56BA00 | WV02_20110812_M1BS_103001000D56BA00-sr-02m.cnn-chm-v1.tif | /explore/nobackup/people/mmacande/srlite/chm_model/20230926_chm_dtm/products_train_strips/WV02_20110812_M1BS_103001000D56BA00-sr-02m/WV02_20110812_M1BS_103001000D56BA00-sr-02m.cnn-chm-v1.tif | /explore/nobackup/projects/ilab/data/srlite/products/srlite_1.0.1/srlite/alaska/batch_1/8_band_csv/split_6_0/WV02_20110812_M1BS_103001000D56BA00-sr-02m.tif | /explore/nobackup/projects/ilab/data/srlite/products/srlite_1.0.1/cloudmask/alaska_batch_1/split_6/WV02_20110812_M1BS_103001000D56BA00-toa.cloudmask.tif | /explore/nobackup/projects/ilab/data/srlite/products/srlite_1.0.1/toa/alaska/split_6_0/WV02_20110812_M1BS_103001000D56BA00-toa.tif | /explore/nobackup/people/mmacande/srlite/srlite_shared/ccdc_20230214/alaska/WV02_20110812_M1BS_103001000D56BA00-ccdc.tif |\n",
       "\n"
      ],
      "text/plain": [
       "  catid            chm_file                                                 \n",
       "1 103001000617C000 WV02_20100804_M1BS_103001000617C000-sr-02m.cnn-chm-v1.tif\n",
       "2 10300100068BF600 WV02_20100815_M1BS_10300100068BF600-sr-02m.cnn-chm-v1.tif\n",
       "3 103001000CA39000 WV02_20110707_M1BS_103001000CA39000-sr-02m.cnn-chm-v1.tif\n",
       "4 103001000D6CEA00 WV02_20110811_M1BS_103001000D6CEA00-sr-02m.cnn-chm-v1.tif\n",
       "5 103001000C8BBA00 WV02_20110812_M1BS_103001000C8BBA00-sr-02m.cnn-chm-v1.tif\n",
       "6 103001000D56BA00 WV02_20110812_M1BS_103001000D56BA00-sr-02m.cnn-chm-v1.tif\n",
       "  chm_path                                                                                                                                                                                      \n",
       "1 /explore/nobackup/people/mmacande/srlite/chm_model/20230926_chm_dtm/products_train_strips/WV02_20100804_M1BS_103001000617C000-sr-02m/WV02_20100804_M1BS_103001000617C000-sr-02m.cnn-chm-v1.tif\n",
       "2 /explore/nobackup/people/mmacande/srlite/chm_model/20230926_chm_dtm/products_train_strips/WV02_20100815_M1BS_10300100068BF600-sr-02m/WV02_20100815_M1BS_10300100068BF600-sr-02m.cnn-chm-v1.tif\n",
       "3 /explore/nobackup/people/mmacande/srlite/chm_model/20230926_chm_dtm/products_train_strips/WV02_20110707_M1BS_103001000CA39000-sr-02m/WV02_20110707_M1BS_103001000CA39000-sr-02m.cnn-chm-v1.tif\n",
       "4 /explore/nobackup/people/mmacande/srlite/chm_model/20230926_chm_dtm/products_train_strips/WV02_20110811_M1BS_103001000D6CEA00-sr-02m/WV02_20110811_M1BS_103001000D6CEA00-sr-02m.cnn-chm-v1.tif\n",
       "5 /explore/nobackup/people/mmacande/srlite/chm_model/20230926_chm_dtm/products_train_strips/WV02_20110812_M1BS_103001000C8BBA00-sr-02m/WV02_20110812_M1BS_103001000C8BBA00-sr-02m.cnn-chm-v1.tif\n",
       "6 /explore/nobackup/people/mmacande/srlite/chm_model/20230926_chm_dtm/products_train_strips/WV02_20110812_M1BS_103001000D56BA00-sr-02m/WV02_20110812_M1BS_103001000D56BA00-sr-02m.cnn-chm-v1.tif\n",
       "  srlite_path                                                                                                                                                \n",
       "1 /explore/nobackup/projects/ilab/data/srlite/products/srlite_1.0.1/srlite/alaska/batch_1/8_band_csv/split_4/WV02_20100804_M1BS_103001000617C000-sr-02m.tif  \n",
       "2 /explore/nobackup/projects/ilab/data/srlite/products/srlite_1.0.1/srlite/alaska/batch_1/4_band_csv/WV02_20100815_M1BS_10300100068BF600-sr-02m.tif          \n",
       "3 /explore/nobackup/projects/ilab/data/srlite/products/srlite_1.0.1/srlite/alaska/batch_1/4_band_csv/WV02_20110707_M1BS_103001000CA39000-sr-02m.tif          \n",
       "4 /explore/nobackup/projects/ilab/data/srlite/products/srlite_1.0.1/srlite/alaska/batch_1/8_band_csv/split_6_0/WV02_20110811_M1BS_103001000D6CEA00-sr-02m.tif\n",
       "5 /explore/nobackup/projects/ilab/data/srlite/products/srlite_1.0.1/srlite/alaska/batch_1/8_band_csv/split_5/WV02_20110812_M1BS_103001000C8BBA00-sr-02m.tif  \n",
       "6 /explore/nobackup/projects/ilab/data/srlite/products/srlite_1.0.1/srlite/alaska/batch_1/8_band_csv/split_6_0/WV02_20110812_M1BS_103001000D56BA00-sr-02m.tif\n",
       "  cloudmask_path                                                                                                                                          \n",
       "1 /explore/nobackup/projects/ilab/data/srlite/products/srlite_1.0.1/cloudmask/alaska_batch_1/split_4/WV02_20100804_M1BS_103001000617C000-toa.cloudmask.tif\n",
       "2 /explore/nobackup/projects/ilab/data/srlite/products/srlite_1.0.1/cloudmask/alaska_batch_1/4_bands/WV02_20100815_M1BS_10300100068BF600-toa.cloudmask.tif\n",
       "3 /explore/nobackup/projects/ilab/data/srlite/products/srlite_1.0.1/cloudmask/alaska_batch_1/4_bands/WV02_20110707_M1BS_103001000CA39000-toa.cloudmask.tif\n",
       "4 /explore/nobackup/projects/ilab/data/srlite/products/srlite_1.0.1/cloudmask/alaska_batch_1/split_6/WV02_20110811_M1BS_103001000D6CEA00-toa.cloudmask.tif\n",
       "5 /explore/nobackup/projects/ilab/data/srlite/products/srlite_1.0.1/cloudmask/alaska_batch_1/split_5/WV02_20110812_M1BS_103001000C8BBA00-toa.cloudmask.tif\n",
       "6 /explore/nobackup/projects/ilab/data/srlite/products/srlite_1.0.1/cloudmask/alaska_batch_1/split_6/WV02_20110812_M1BS_103001000D56BA00-toa.cloudmask.tif\n",
       "  toa_path                                                                                                                          \n",
       "1 /explore/nobackup/projects/ilab/data/srlite/products/srlite_1.0.1/toa/alaska/split_4/WV02_20100804_M1BS_103001000617C000-toa.tif  \n",
       "2 /explore/nobackup/projects/ilab/data/srlite/products/srlite_1.0.1/toa/alaska/4_bands/WV02_20100815_M1BS_10300100068BF600-toa.tif  \n",
       "3 /explore/nobackup/projects/ilab/data/srlite/products/srlite_1.0.1/toa/alaska/4_bands/WV02_20110707_M1BS_103001000CA39000-toa.tif  \n",
       "4 /explore/nobackup/projects/ilab/data/srlite/products/srlite_1.0.1/toa/alaska/split_6_0/WV02_20110811_M1BS_103001000D6CEA00-toa.tif\n",
       "5 /explore/nobackup/projects/ilab/data/srlite/products/srlite_1.0.1/toa/alaska/split_5/WV02_20110812_M1BS_103001000C8BBA00-toa.tif  \n",
       "6 /explore/nobackup/projects/ilab/data/srlite/products/srlite_1.0.1/toa/alaska/split_6_0/WV02_20110812_M1BS_103001000D56BA00-toa.tif\n",
       "  ccdc_path                                                                                                               \n",
       "1 /explore/nobackup/people/mmacande/srlite/srlite_shared/ccdc_20230214/alaska/WV02_20100804_M1BS_103001000617C000-ccdc.tif\n",
       "2 /explore/nobackup/people/mmacande/srlite/srlite_shared/ccdc_20230214/alaska/WV02_20100815_M1BS_10300100068BF600-ccdc.tif\n",
       "3 /explore/nobackup/people/mmacande/srlite/srlite_shared/ccdc_20230214/alaska/WV02_20110707_M1BS_103001000CA39000-ccdc.tif\n",
       "4 /explore/nobackup/people/mmacande/srlite/srlite_shared/ccdc_20230214/alaska/WV02_20110811_M1BS_103001000D6CEA00-ccdc.tif\n",
       "5 /explore/nobackup/people/mmacande/srlite/srlite_shared/ccdc_20230214/alaska/WV02_20110812_M1BS_103001000C8BBA00-ccdc.tif\n",
       "6 /explore/nobackup/people/mmacande/srlite/srlite_shared/ccdc_20230214/alaska/WV02_20110812_M1BS_103001000D56BA00-ccdc.tif"
      ]
     },
     "metadata": {},
     "output_type": "display_data"
    }
   ],
   "source": [
    "chms_predicted <- tibble(\n",
    "    chm_path = dir_ls('/explore/nobackup/people/mmacande/srlite/chm_model/20230926_chm_dtm/products_train_strips', glob='*/*.tif', recurse=T)) %>%\n",
    "    mutate(chm_file = path_file(chm_path),\n",
    "           catid = str_sub(chm_file,20,35)) %>%\n",
    "select(catid, chm_file, chm_path) %>%\n",
    "left_join(srlite_fp %>% select(catid, srlitePath)) %>% #, arcBor)) %>%\n",
    "rename(srlite_path = srlitePath) %>%\n",
    "left_join(cloudmasks %>% select(catid, cloudmask_path)) %>%\n",
    "left_join(toas %>% select(catid, toa_path)) %>%\n",
    "left_join(ccdc %>% select(catid, ccdc_path)) %>%\n",
    "st_as_sf()\n",
    " \n",
    "nrow(chms_predicted)\n",
    "head(chms_predicted %>% st_drop_geometry())\n",
    "write_csv(chms_predicted %>% st_drop_geometry(), '/explore/nobackup/people/mmacande/srlite/chm_model/20230926_chm_dtm/chm_srlite_list_20230926.csv')\n",
    "write_sf(chms_predicted, '/explore/nobackup/people/mmacande/srlite/chm_model/20230926_chm_dtm/chm_srlite_list_20230926.gpkg')"
   ]
  },
  {
   "cell_type": "markdown",
   "id": "d3643a3a-ee6e-4c88-9ec9-2ec401287cd6",
   "metadata": {},
   "source": [
    "# Get footprints of Other Lidar"
   ]
  },
  {
   "cell_type": "code",
   "execution_count": 33,
   "id": "4f614bc4-eae4-46ec-8056-fd7ef0a06b03",
   "metadata": {},
   "outputs": [
    {
     "data": {
      "text/html": [
       "<table class=\"dataframe\">\n",
       "<caption>A tibble: 9 × 3</caption>\n",
       "<thead>\n",
       "\t<tr><th scope=col>lidar_fp_path</th><th scope=col>lidar_fp_file</th><th scope=col>lidar_base</th></tr>\n",
       "\t<tr><th scope=col>&lt;fs::path&gt;</th><th scope=col>&lt;chr&gt;</th><th scope=col>&lt;chr&gt;</th></tr>\n",
       "</thead>\n",
       "<tbody>\n",
       "\t<tr><td>/explore/nobackup/projects/dem/AK_IFSAR/dggs.alaska.gov/public_lidar/Kenai_2008/Kenai_2008_chm_fp.gpkg                                      </td><td>Kenai_2008_chm_fp.gpkg                   </td><td>Kenai_2008                   </td></tr>\n",
       "\t<tr><td>/explore/nobackup/projects/dem/AK_IFSAR/dggs.alaska.gov/public_lidar/NSB_lidar_Anaktuvuk_Pass_2019/NSB_lidar_Anaktuvuk_Pass_2019_chm_fp.gpkg</td><td>NSB_lidar_Anaktuvuk_Pass_2019_chm_fp.gpkg</td><td>NSB_lidar_Anaktuvuk_Pass_2019</td></tr>\n",
       "\t<tr><td>/explore/nobackup/projects/dem/AK_IFSAR/dggs.alaska.gov/public_lidar/Unalakleet_2019/Unalakleet_2019_chm_fp.gpkg                            </td><td>Unalakleet_2019_chm_fp.gpkg              </td><td>Unalakleet_2019              </td></tr>\n",
       "\t<tr><td>/explore/nobackup/projects/dem/AK_IFSAR/dggs.alaska.gov/public_lidar/fairbanks_ql1_2017/fairbanks_ql1_2017_chm_fp.gpkg                      </td><td>fairbanks_ql1_2017_chm_fp.gpkg           </td><td>fairbanks_ql1_2017           </td></tr>\n",
       "\t<tr><td>/explore/nobackup/projects/dem/AK_IFSAR/dggs.alaska.gov/public_lidar/fairbanks_ql2_2017/fairbanks_ql2_2017_chm_fp.gpkg                      </td><td>fairbanks_ql2_2017_chm_fp.gpkg           </td><td>fairbanks_ql2_2017           </td></tr>\n",
       "\t<tr><td>/explore/nobackup/projects/dem/AK_IFSAR/dggs.alaska.gov/public_lidar/infrastructure_2011/infrastructure_2011_26905_chm_fp.gpkg              </td><td>infrastructure_2011_26905_chm_fp.gpkg    </td><td>infrastructure_2011_26905    </td></tr>\n",
       "\t<tr><td>/explore/nobackup/projects/dem/AK_IFSAR/dggs.alaska.gov/public_lidar/infrastructure_2011/infrastructure_2011_26906_chm_fp.gpkg              </td><td>infrastructure_2011_26906_chm_fp.gpkg    </td><td>infrastructure_2011_26906    </td></tr>\n",
       "\t<tr><td>/explore/nobackup/projects/dem/AK_IFSAR/dggs.alaska.gov/public_lidar/infrastructure_2011/infrastructure_2011_26907_chm_fp.gpkg              </td><td>infrastructure_2011_26907_chm_fp.gpkg    </td><td>infrastructure_2011_26907    </td></tr>\n",
       "\t<tr><td>/explore/nobackup/projects/dem/AK_IFSAR/dggs.alaska.gov/public_lidar/yukon_flats_2009/yukon_flats_2009_chm_fp.gpkg                          </td><td>yukon_flats_2009_chm_fp.gpkg             </td><td>yukon_flats_2009             </td></tr>\n",
       "</tbody>\n",
       "</table>\n"
      ],
      "text/latex": [
       "A tibble: 9 × 3\n",
       "\\begin{tabular}{lll}\n",
       " lidar\\_fp\\_path & lidar\\_fp\\_file & lidar\\_base\\\\\n",
       " <fs::path> & <chr> & <chr>\\\\\n",
       "\\hline\n",
       "\t /explore/nobackup/projects/dem/AK\\_IFSAR/dggs.alaska.gov/public\\_lidar/Kenai\\_2008/Kenai\\_2008\\_chm\\_fp.gpkg                                       & Kenai\\_2008\\_chm\\_fp.gpkg                    & Kenai\\_2008                   \\\\\n",
       "\t /explore/nobackup/projects/dem/AK\\_IFSAR/dggs.alaska.gov/public\\_lidar/NSB\\_lidar\\_Anaktuvuk\\_Pass\\_2019/NSB\\_lidar\\_Anaktuvuk\\_Pass\\_2019\\_chm\\_fp.gpkg & NSB\\_lidar\\_Anaktuvuk\\_Pass\\_2019\\_chm\\_fp.gpkg & NSB\\_lidar\\_Anaktuvuk\\_Pass\\_2019\\\\\n",
       "\t /explore/nobackup/projects/dem/AK\\_IFSAR/dggs.alaska.gov/public\\_lidar/Unalakleet\\_2019/Unalakleet\\_2019\\_chm\\_fp.gpkg                             & Unalakleet\\_2019\\_chm\\_fp.gpkg               & Unalakleet\\_2019              \\\\\n",
       "\t /explore/nobackup/projects/dem/AK\\_IFSAR/dggs.alaska.gov/public\\_lidar/fairbanks\\_ql1\\_2017/fairbanks\\_ql1\\_2017\\_chm\\_fp.gpkg                       & fairbanks\\_ql1\\_2017\\_chm\\_fp.gpkg            & fairbanks\\_ql1\\_2017           \\\\\n",
       "\t /explore/nobackup/projects/dem/AK\\_IFSAR/dggs.alaska.gov/public\\_lidar/fairbanks\\_ql2\\_2017/fairbanks\\_ql2\\_2017\\_chm\\_fp.gpkg                       & fairbanks\\_ql2\\_2017\\_chm\\_fp.gpkg            & fairbanks\\_ql2\\_2017           \\\\\n",
       "\t /explore/nobackup/projects/dem/AK\\_IFSAR/dggs.alaska.gov/public\\_lidar/infrastructure\\_2011/infrastructure\\_2011\\_26905\\_chm\\_fp.gpkg               & infrastructure\\_2011\\_26905\\_chm\\_fp.gpkg     & infrastructure\\_2011\\_26905    \\\\\n",
       "\t /explore/nobackup/projects/dem/AK\\_IFSAR/dggs.alaska.gov/public\\_lidar/infrastructure\\_2011/infrastructure\\_2011\\_26906\\_chm\\_fp.gpkg               & infrastructure\\_2011\\_26906\\_chm\\_fp.gpkg     & infrastructure\\_2011\\_26906    \\\\\n",
       "\t /explore/nobackup/projects/dem/AK\\_IFSAR/dggs.alaska.gov/public\\_lidar/infrastructure\\_2011/infrastructure\\_2011\\_26907\\_chm\\_fp.gpkg               & infrastructure\\_2011\\_26907\\_chm\\_fp.gpkg     & infrastructure\\_2011\\_26907    \\\\\n",
       "\t /explore/nobackup/projects/dem/AK\\_IFSAR/dggs.alaska.gov/public\\_lidar/yukon\\_flats\\_2009/yukon\\_flats\\_2009\\_chm\\_fp.gpkg                           & yukon\\_flats\\_2009\\_chm\\_fp.gpkg              & yukon\\_flats\\_2009             \\\\\n",
       "\\end{tabular}\n"
      ],
      "text/markdown": [
       "\n",
       "A tibble: 9 × 3\n",
       "\n",
       "| lidar_fp_path &lt;fs::path&gt; | lidar_fp_file &lt;chr&gt; | lidar_base &lt;chr&gt; |\n",
       "|---|---|---|\n",
       "| /explore/nobackup/projects/dem/AK_IFSAR/dggs.alaska.gov/public_lidar/Kenai_2008/Kenai_2008_chm_fp.gpkg                                       | Kenai_2008_chm_fp.gpkg                    | Kenai_2008                    |\n",
       "| /explore/nobackup/projects/dem/AK_IFSAR/dggs.alaska.gov/public_lidar/NSB_lidar_Anaktuvuk_Pass_2019/NSB_lidar_Anaktuvuk_Pass_2019_chm_fp.gpkg | NSB_lidar_Anaktuvuk_Pass_2019_chm_fp.gpkg | NSB_lidar_Anaktuvuk_Pass_2019 |\n",
       "| /explore/nobackup/projects/dem/AK_IFSAR/dggs.alaska.gov/public_lidar/Unalakleet_2019/Unalakleet_2019_chm_fp.gpkg                             | Unalakleet_2019_chm_fp.gpkg               | Unalakleet_2019               |\n",
       "| /explore/nobackup/projects/dem/AK_IFSAR/dggs.alaska.gov/public_lidar/fairbanks_ql1_2017/fairbanks_ql1_2017_chm_fp.gpkg                       | fairbanks_ql1_2017_chm_fp.gpkg            | fairbanks_ql1_2017            |\n",
       "| /explore/nobackup/projects/dem/AK_IFSAR/dggs.alaska.gov/public_lidar/fairbanks_ql2_2017/fairbanks_ql2_2017_chm_fp.gpkg                       | fairbanks_ql2_2017_chm_fp.gpkg            | fairbanks_ql2_2017            |\n",
       "| /explore/nobackup/projects/dem/AK_IFSAR/dggs.alaska.gov/public_lidar/infrastructure_2011/infrastructure_2011_26905_chm_fp.gpkg               | infrastructure_2011_26905_chm_fp.gpkg     | infrastructure_2011_26905     |\n",
       "| /explore/nobackup/projects/dem/AK_IFSAR/dggs.alaska.gov/public_lidar/infrastructure_2011/infrastructure_2011_26906_chm_fp.gpkg               | infrastructure_2011_26906_chm_fp.gpkg     | infrastructure_2011_26906     |\n",
       "| /explore/nobackup/projects/dem/AK_IFSAR/dggs.alaska.gov/public_lidar/infrastructure_2011/infrastructure_2011_26907_chm_fp.gpkg               | infrastructure_2011_26907_chm_fp.gpkg     | infrastructure_2011_26907     |\n",
       "| /explore/nobackup/projects/dem/AK_IFSAR/dggs.alaska.gov/public_lidar/yukon_flats_2009/yukon_flats_2009_chm_fp.gpkg                           | yukon_flats_2009_chm_fp.gpkg              | yukon_flats_2009              |\n",
       "\n"
      ],
      "text/plain": [
       "  lidar_fp_path                                                                                                                               \n",
       "1 /explore/nobackup/projects/dem/AK_IFSAR/dggs.alaska.gov/public_lidar/Kenai_2008/Kenai_2008_chm_fp.gpkg                                      \n",
       "2 /explore/nobackup/projects/dem/AK_IFSAR/dggs.alaska.gov/public_lidar/NSB_lidar_Anaktuvuk_Pass_2019/NSB_lidar_Anaktuvuk_Pass_2019_chm_fp.gpkg\n",
       "3 /explore/nobackup/projects/dem/AK_IFSAR/dggs.alaska.gov/public_lidar/Unalakleet_2019/Unalakleet_2019_chm_fp.gpkg                            \n",
       "4 /explore/nobackup/projects/dem/AK_IFSAR/dggs.alaska.gov/public_lidar/fairbanks_ql1_2017/fairbanks_ql1_2017_chm_fp.gpkg                      \n",
       "5 /explore/nobackup/projects/dem/AK_IFSAR/dggs.alaska.gov/public_lidar/fairbanks_ql2_2017/fairbanks_ql2_2017_chm_fp.gpkg                      \n",
       "6 /explore/nobackup/projects/dem/AK_IFSAR/dggs.alaska.gov/public_lidar/infrastructure_2011/infrastructure_2011_26905_chm_fp.gpkg              \n",
       "7 /explore/nobackup/projects/dem/AK_IFSAR/dggs.alaska.gov/public_lidar/infrastructure_2011/infrastructure_2011_26906_chm_fp.gpkg              \n",
       "8 /explore/nobackup/projects/dem/AK_IFSAR/dggs.alaska.gov/public_lidar/infrastructure_2011/infrastructure_2011_26907_chm_fp.gpkg              \n",
       "9 /explore/nobackup/projects/dem/AK_IFSAR/dggs.alaska.gov/public_lidar/yukon_flats_2009/yukon_flats_2009_chm_fp.gpkg                          \n",
       "  lidar_fp_file                             lidar_base                   \n",
       "1 Kenai_2008_chm_fp.gpkg                    Kenai_2008                   \n",
       "2 NSB_lidar_Anaktuvuk_Pass_2019_chm_fp.gpkg NSB_lidar_Anaktuvuk_Pass_2019\n",
       "3 Unalakleet_2019_chm_fp.gpkg               Unalakleet_2019              \n",
       "4 fairbanks_ql1_2017_chm_fp.gpkg            fairbanks_ql1_2017           \n",
       "5 fairbanks_ql2_2017_chm_fp.gpkg            fairbanks_ql2_2017           \n",
       "6 infrastructure_2011_26905_chm_fp.gpkg     infrastructure_2011_26905    \n",
       "7 infrastructure_2011_26906_chm_fp.gpkg     infrastructure_2011_26906    \n",
       "8 infrastructure_2011_26907_chm_fp.gpkg     infrastructure_2011_26907    \n",
       "9 yukon_flats_2009_chm_fp.gpkg              yukon_flats_2009             "
      ]
     },
     "metadata": {},
     "output_type": "display_data"
    }
   ],
   "source": [
    "lidar_fp <- tibble(lidar_fp_path = dir_ls('/explore/nobackup/projects/dem/AK_IFSAR/dggs.alaska.gov/public_lidar', glob='*.gpkg', recurse=T),\n",
    "                   lidar_fp_file = path_file(lidar_fp_path),\n",
    "                   lidar_base = str_sub(lidar_fp_file, 0, -13))\n",
    "lidar_fp\n",
    "read_sf_add_path <- function(path) {\n",
    "    fp <- read_sf(path) %>%\n",
    "    mutate(lidar_fp_path = path) %>%\n",
    "    st_transform(4326)\n",
    "    }\n",
    "\n",
    "lidar_fps <- map_dfr(dir_ls('/explore/nobackup/projects/dem/AK_IFSAR/dggs.alaska.gov/public_lidar', glob='*.gpkg', recurse=T), read_sf_add_path) %>%\n",
    "group_by(lidar_fp_path) %>%\n",
    "summarize() %>%\n",
    "mutate(lidar_fp_file = path_file(lidar_fp_path),\n",
    "       lidar_base = str_sub(lidar_fp_file, 0, -13))\n"
   ]
  },
  {
   "cell_type": "code",
   "execution_count": 36,
   "id": "5dd87338-52e9-4fd7-8775-6513eec0722c",
   "metadata": {},
   "outputs": [],
   "source": [
    "lidar_fps <- lidar_fps %>%\n",
    "st_transform(3338) %>%\n",
    "mutate(area = st_area(geom),\n",
    "      area_sqkm = as.numeric(area) / 1000000) %>%\n",
    "st_transform(4326)"
   ]
  },
  {
   "cell_type": "code",
   "execution_count": 38,
   "id": "b96363d6-24bf-4250-bd30-be4fc4e9273c",
   "metadata": {},
   "outputs": [
    {
     "data": {
      "text/html": [
       "<table class=\"dataframe\">\n",
       "<caption>A tibble: 9 × 5</caption>\n",
       "<thead>\n",
       "\t<tr><th></th><th scope=col>lidar_fp_path</th><th scope=col>lidar_fp_file</th><th scope=col>lidar_base</th><th scope=col>area</th><th scope=col>area_sqkm</th></tr>\n",
       "\t<tr><th></th><th scope=col>&lt;fs::path&gt;</th><th scope=col>&lt;chr&gt;</th><th scope=col>&lt;chr&gt;</th><th scope=col>&lt;[m^2]&gt;</th><th scope=col>&lt;dbl&gt;</th></tr>\n",
       "</thead>\n",
       "<tbody>\n",
       "\t<tr><th scope=row>1</th><td>/explore/nobackup/projects/dem/AK_IFSAR/dggs.alaska.gov/public_lidar/fairbanks_ql1_2017/fairbanks_ql1_2017_chm_fp.gpkg                      </td><td>fairbanks_ql1_2017_chm_fp.gpkg           </td><td>fairbanks_ql1_2017           </td><td> 1005917390 [m^2]</td><td> 1005.91739</td></tr>\n",
       "\t<tr><th scope=row>2</th><td>/explore/nobackup/projects/dem/AK_IFSAR/dggs.alaska.gov/public_lidar/fairbanks_ql2_2017/fairbanks_ql2_2017_chm_fp.gpkg                      </td><td>fairbanks_ql2_2017_chm_fp.gpkg           </td><td>fairbanks_ql2_2017           </td><td> 4805728376 [m^2]</td><td> 4805.72838</td></tr>\n",
       "\t<tr><th scope=row>3</th><td>/explore/nobackup/projects/dem/AK_IFSAR/dggs.alaska.gov/public_lidar/infrastructure_2011/infrastructure_2011_26905_chm_fp.gpkg              </td><td>infrastructure_2011_26905_chm_fp.gpkg    </td><td>infrastructure_2011_26905    </td><td>  958302097 [m^2]</td><td>  958.30210</td></tr>\n",
       "\t<tr><th scope=row>4</th><td>/explore/nobackup/projects/dem/AK_IFSAR/dggs.alaska.gov/public_lidar/infrastructure_2011/infrastructure_2011_26906_chm_fp.gpkg              </td><td>infrastructure_2011_26906_chm_fp.gpkg    </td><td>infrastructure_2011_26906    </td><td> 6417262908 [m^2]</td><td> 6417.26291</td></tr>\n",
       "\t<tr><th scope=row>5</th><td>/explore/nobackup/projects/dem/AK_IFSAR/dggs.alaska.gov/public_lidar/infrastructure_2011/infrastructure_2011_26907_chm_fp.gpkg              </td><td>infrastructure_2011_26907_chm_fp.gpkg    </td><td>infrastructure_2011_26907    </td><td>  990567400 [m^2]</td><td>  990.56740</td></tr>\n",
       "\t<tr><th scope=row>6</th><td>/explore/nobackup/projects/dem/AK_IFSAR/dggs.alaska.gov/public_lidar/Kenai_2008/Kenai_2008_chm_fp.gpkg                                      </td><td>Kenai_2008_chm_fp.gpkg                   </td><td>Kenai_2008                   </td><td>11374106688 [m^2]</td><td>11374.10669</td></tr>\n",
       "\t<tr><th scope=row>7</th><td>/explore/nobackup/projects/dem/AK_IFSAR/dggs.alaska.gov/public_lidar/NSB_lidar_Anaktuvuk_Pass_2019/NSB_lidar_Anaktuvuk_Pass_2019_chm_fp.gpkg</td><td>NSB_lidar_Anaktuvuk_Pass_2019_chm_fp.gpkg</td><td>NSB_lidar_Anaktuvuk_Pass_2019</td><td>  140384482 [m^2]</td><td>  140.38448</td></tr>\n",
       "\t<tr><th scope=row>8</th><td>/explore/nobackup/projects/dem/AK_IFSAR/dggs.alaska.gov/public_lidar/Unalakleet_2019/Unalakleet_2019_chm_fp.gpkg                            </td><td>Unalakleet_2019_chm_fp.gpkg              </td><td>Unalakleet_2019              </td><td>   67332086 [m^2]</td><td>   67.33209</td></tr>\n",
       "\t<tr><th scope=row>9</th><td>/explore/nobackup/projects/dem/AK_IFSAR/dggs.alaska.gov/public_lidar/yukon_flats_2009/yukon_flats_2009_chm_fp.gpkg                          </td><td>yukon_flats_2009_chm_fp.gpkg             </td><td>yukon_flats_2009             </td><td> 2600500090 [m^2]</td><td> 2600.50009</td></tr>\n",
       "</tbody>\n",
       "</table>\n"
      ],
      "text/latex": [
       "A tibble: 9 × 5\n",
       "\\begin{tabular}{r|lllll}\n",
       "  & lidar\\_fp\\_path & lidar\\_fp\\_file & lidar\\_base & area & area\\_sqkm\\\\\n",
       "  & <fs::path> & <chr> & <chr> & <{[}m\\textasciicircum{}2{]}> & <dbl>\\\\\n",
       "\\hline\n",
       "\t1 & /explore/nobackup/projects/dem/AK\\_IFSAR/dggs.alaska.gov/public\\_lidar/fairbanks\\_ql1\\_2017/fairbanks\\_ql1\\_2017\\_chm\\_fp.gpkg                       & fairbanks\\_ql1\\_2017\\_chm\\_fp.gpkg            & fairbanks\\_ql1\\_2017            &  1005917390 {[}m\\textasciicircum{}2{]} &  1005.91739\\\\\n",
       "\t2 & /explore/nobackup/projects/dem/AK\\_IFSAR/dggs.alaska.gov/public\\_lidar/fairbanks\\_ql2\\_2017/fairbanks\\_ql2\\_2017\\_chm\\_fp.gpkg                       & fairbanks\\_ql2\\_2017\\_chm\\_fp.gpkg            & fairbanks\\_ql2\\_2017            &  4805728376 {[}m\\textasciicircum{}2{]} &  4805.72838\\\\\n",
       "\t3 & /explore/nobackup/projects/dem/AK\\_IFSAR/dggs.alaska.gov/public\\_lidar/infrastructure\\_2011/infrastructure\\_2011\\_26905\\_chm\\_fp.gpkg               & infrastructure\\_2011\\_26905\\_chm\\_fp.gpkg     & infrastructure\\_2011\\_26905     &   958302097 {[}m\\textasciicircum{}2{]} &   958.30210\\\\\n",
       "\t4 & /explore/nobackup/projects/dem/AK\\_IFSAR/dggs.alaska.gov/public\\_lidar/infrastructure\\_2011/infrastructure\\_2011\\_26906\\_chm\\_fp.gpkg               & infrastructure\\_2011\\_26906\\_chm\\_fp.gpkg     & infrastructure\\_2011\\_26906     &  6417262908 {[}m\\textasciicircum{}2{]} &  6417.26291\\\\\n",
       "\t5 & /explore/nobackup/projects/dem/AK\\_IFSAR/dggs.alaska.gov/public\\_lidar/infrastructure\\_2011/infrastructure\\_2011\\_26907\\_chm\\_fp.gpkg               & infrastructure\\_2011\\_26907\\_chm\\_fp.gpkg     & infrastructure\\_2011\\_26907     &   990567400 {[}m\\textasciicircum{}2{]} &   990.56740\\\\\n",
       "\t6 & /explore/nobackup/projects/dem/AK\\_IFSAR/dggs.alaska.gov/public\\_lidar/Kenai\\_2008/Kenai\\_2008\\_chm\\_fp.gpkg                                       & Kenai\\_2008\\_chm\\_fp.gpkg                    & Kenai\\_2008                    & 11374106688 {[}m\\textasciicircum{}2{]} & 11374.10669\\\\\n",
       "\t7 & /explore/nobackup/projects/dem/AK\\_IFSAR/dggs.alaska.gov/public\\_lidar/NSB\\_lidar\\_Anaktuvuk\\_Pass\\_2019/NSB\\_lidar\\_Anaktuvuk\\_Pass\\_2019\\_chm\\_fp.gpkg & NSB\\_lidar\\_Anaktuvuk\\_Pass\\_2019\\_chm\\_fp.gpkg & NSB\\_lidar\\_Anaktuvuk\\_Pass\\_2019 &   140384482 {[}m\\textasciicircum{}2{]} &   140.38448\\\\\n",
       "\t8 & /explore/nobackup/projects/dem/AK\\_IFSAR/dggs.alaska.gov/public\\_lidar/Unalakleet\\_2019/Unalakleet\\_2019\\_chm\\_fp.gpkg                             & Unalakleet\\_2019\\_chm\\_fp.gpkg               & Unalakleet\\_2019               &    67332086 {[}m\\textasciicircum{}2{]} &    67.33209\\\\\n",
       "\t9 & /explore/nobackup/projects/dem/AK\\_IFSAR/dggs.alaska.gov/public\\_lidar/yukon\\_flats\\_2009/yukon\\_flats\\_2009\\_chm\\_fp.gpkg                           & yukon\\_flats\\_2009\\_chm\\_fp.gpkg              & yukon\\_flats\\_2009              &  2600500090 {[}m\\textasciicircum{}2{]} &  2600.50009\\\\\n",
       "\\end{tabular}\n"
      ],
      "text/markdown": [
       "\n",
       "A tibble: 9 × 5\n",
       "\n",
       "| <!--/--> | lidar_fp_path &lt;fs::path&gt; | lidar_fp_file &lt;chr&gt; | lidar_base &lt;chr&gt; | area &lt;[m^2]&gt; | area_sqkm &lt;dbl&gt; |\n",
       "|---|---|---|---|---|---|\n",
       "| 1 | /explore/nobackup/projects/dem/AK_IFSAR/dggs.alaska.gov/public_lidar/fairbanks_ql1_2017/fairbanks_ql1_2017_chm_fp.gpkg                       | fairbanks_ql1_2017_chm_fp.gpkg            | fairbanks_ql1_2017            |  1005917390 [m^2] |  1005.91739 |\n",
       "| 2 | /explore/nobackup/projects/dem/AK_IFSAR/dggs.alaska.gov/public_lidar/fairbanks_ql2_2017/fairbanks_ql2_2017_chm_fp.gpkg                       | fairbanks_ql2_2017_chm_fp.gpkg            | fairbanks_ql2_2017            |  4805728376 [m^2] |  4805.72838 |\n",
       "| 3 | /explore/nobackup/projects/dem/AK_IFSAR/dggs.alaska.gov/public_lidar/infrastructure_2011/infrastructure_2011_26905_chm_fp.gpkg               | infrastructure_2011_26905_chm_fp.gpkg     | infrastructure_2011_26905     |   958302097 [m^2] |   958.30210 |\n",
       "| 4 | /explore/nobackup/projects/dem/AK_IFSAR/dggs.alaska.gov/public_lidar/infrastructure_2011/infrastructure_2011_26906_chm_fp.gpkg               | infrastructure_2011_26906_chm_fp.gpkg     | infrastructure_2011_26906     |  6417262908 [m^2] |  6417.26291 |\n",
       "| 5 | /explore/nobackup/projects/dem/AK_IFSAR/dggs.alaska.gov/public_lidar/infrastructure_2011/infrastructure_2011_26907_chm_fp.gpkg               | infrastructure_2011_26907_chm_fp.gpkg     | infrastructure_2011_26907     |   990567400 [m^2] |   990.56740 |\n",
       "| 6 | /explore/nobackup/projects/dem/AK_IFSAR/dggs.alaska.gov/public_lidar/Kenai_2008/Kenai_2008_chm_fp.gpkg                                       | Kenai_2008_chm_fp.gpkg                    | Kenai_2008                    | 11374106688 [m^2] | 11374.10669 |\n",
       "| 7 | /explore/nobackup/projects/dem/AK_IFSAR/dggs.alaska.gov/public_lidar/NSB_lidar_Anaktuvuk_Pass_2019/NSB_lidar_Anaktuvuk_Pass_2019_chm_fp.gpkg | NSB_lidar_Anaktuvuk_Pass_2019_chm_fp.gpkg | NSB_lidar_Anaktuvuk_Pass_2019 |   140384482 [m^2] |   140.38448 |\n",
       "| 8 | /explore/nobackup/projects/dem/AK_IFSAR/dggs.alaska.gov/public_lidar/Unalakleet_2019/Unalakleet_2019_chm_fp.gpkg                             | Unalakleet_2019_chm_fp.gpkg               | Unalakleet_2019               |    67332086 [m^2] |    67.33209 |\n",
       "| 9 | /explore/nobackup/projects/dem/AK_IFSAR/dggs.alaska.gov/public_lidar/yukon_flats_2009/yukon_flats_2009_chm_fp.gpkg                           | yukon_flats_2009_chm_fp.gpkg              | yukon_flats_2009              |  2600500090 [m^2] |  2600.50009 |\n",
       "\n"
      ],
      "text/plain": [
       "  lidar_fp_path                                                                                                                               \n",
       "1 /explore/nobackup/projects/dem/AK_IFSAR/dggs.alaska.gov/public_lidar/fairbanks_ql1_2017/fairbanks_ql1_2017_chm_fp.gpkg                      \n",
       "2 /explore/nobackup/projects/dem/AK_IFSAR/dggs.alaska.gov/public_lidar/fairbanks_ql2_2017/fairbanks_ql2_2017_chm_fp.gpkg                      \n",
       "3 /explore/nobackup/projects/dem/AK_IFSAR/dggs.alaska.gov/public_lidar/infrastructure_2011/infrastructure_2011_26905_chm_fp.gpkg              \n",
       "4 /explore/nobackup/projects/dem/AK_IFSAR/dggs.alaska.gov/public_lidar/infrastructure_2011/infrastructure_2011_26906_chm_fp.gpkg              \n",
       "5 /explore/nobackup/projects/dem/AK_IFSAR/dggs.alaska.gov/public_lidar/infrastructure_2011/infrastructure_2011_26907_chm_fp.gpkg              \n",
       "6 /explore/nobackup/projects/dem/AK_IFSAR/dggs.alaska.gov/public_lidar/Kenai_2008/Kenai_2008_chm_fp.gpkg                                      \n",
       "7 /explore/nobackup/projects/dem/AK_IFSAR/dggs.alaska.gov/public_lidar/NSB_lidar_Anaktuvuk_Pass_2019/NSB_lidar_Anaktuvuk_Pass_2019_chm_fp.gpkg\n",
       "8 /explore/nobackup/projects/dem/AK_IFSAR/dggs.alaska.gov/public_lidar/Unalakleet_2019/Unalakleet_2019_chm_fp.gpkg                            \n",
       "9 /explore/nobackup/projects/dem/AK_IFSAR/dggs.alaska.gov/public_lidar/yukon_flats_2009/yukon_flats_2009_chm_fp.gpkg                          \n",
       "  lidar_fp_file                             lidar_base                   \n",
       "1 fairbanks_ql1_2017_chm_fp.gpkg            fairbanks_ql1_2017           \n",
       "2 fairbanks_ql2_2017_chm_fp.gpkg            fairbanks_ql2_2017           \n",
       "3 infrastructure_2011_26905_chm_fp.gpkg     infrastructure_2011_26905    \n",
       "4 infrastructure_2011_26906_chm_fp.gpkg     infrastructure_2011_26906    \n",
       "5 infrastructure_2011_26907_chm_fp.gpkg     infrastructure_2011_26907    \n",
       "6 Kenai_2008_chm_fp.gpkg                    Kenai_2008                   \n",
       "7 NSB_lidar_Anaktuvuk_Pass_2019_chm_fp.gpkg NSB_lidar_Anaktuvuk_Pass_2019\n",
       "8 Unalakleet_2019_chm_fp.gpkg               Unalakleet_2019              \n",
       "9 yukon_flats_2009_chm_fp.gpkg              yukon_flats_2009             \n",
       "  area              area_sqkm  \n",
       "1  1005917390 [m^2]  1005.91739\n",
       "2  4805728376 [m^2]  4805.72838\n",
       "3   958302097 [m^2]   958.30210\n",
       "4  6417262908 [m^2]  6417.26291\n",
       "5   990567400 [m^2]   990.56740\n",
       "6 11374106688 [m^2] 11374.10669\n",
       "7   140384482 [m^2]   140.38448\n",
       "8    67332086 [m^2]    67.33209\n",
       "9  2600500090 [m^2]  2600.50009"
      ]
     },
     "metadata": {},
     "output_type": "display_data"
    }
   ],
   "source": [
    "lidar_fps %>% st_drop_geometry()\n",
    "write_sf(lidar_fps, '/explore/nobackup/projects/dem/AK_IFSAR/dggs.alaska.gov/dggs_lidar_fp_v20230927.gpkg')"
   ]
  },
  {
   "cell_type": "markdown",
   "id": "f340a54c-97e6-4561-998c-6b11a147639a",
   "metadata": {},
   "source": [
    "## get raw chm summary vat of chips\n",
    "```\n",
    "#JupyterLinks/nobackup/srlite/chm_model/20230829_chm/extract_chip_samples.ipynb\n",
    "# scp chm_train_chip_tbl.csv.tar.gz mason:/data/gis/gis_projects/2021/.\n",
    "# On Mason\n",
    "# mv ../../chm_train_chip_tbl.csv.tar.gz .\n",
    "# tar xzvf chm_train_chip_tbl.csv.tar.gz \n",
    "chm_chips_freq <- read_csv(path(gis, 'gis_projects/2021/21-347_NASA_SmallSat/20230825_srlite_ak/chm_train_chip_tbl_transposed.csv'),\n",
    "                           col_names=c('chm_m', 'count'), skip=0) %>%\n",
    "  mutate(chm_cm = round(chm_m * 100),\n",
    "         chm_dm = round(chm_m * 10),\n",
    "         chm_m = round(chm_m))\n",
    "\n",
    "chm_chips_x_cm <- chm_chips_freq %>%\n",
    "  group_by(chm_cm) %>%\n",
    "  summarize(count = sum(count)) %>%\n",
    "  mutate(freq = count / sum(count))\n",
    "\n",
    "chm_chips_x_dm <- chm_chips_freq %>%\n",
    "  group_by(chm_dm) %>%\n",
    "  summarize(count = sum(count)) %>%\n",
    "  mutate(freq = count / sum(count))\n",
    "\n",
    "chm_chips_x_m <- chm_chips_freq %>%\n",
    "  group_by(chm_m) %>%\n",
    "  summarize(count = sum(count)) %>%\n",
    "  mutate(freq = count / sum(count))\n",
    "\n",
    "```"
   ]
  },
  {
   "cell_type": "markdown",
   "id": "09561e16-b69c-469b-9117-0b7ffeb4040a",
   "metadata": {},
   "source": [
    "# OLD Working below here"
   ]
  },
  {
   "cell_type": "code",
   "execution_count": null,
   "id": "8c8f3ce6-9730-4d1f-a29f-255000b02756",
   "metadata": {},
   "outputs": [],
   "source": []
  },
  {
   "cell_type": "code",
   "execution_count": null,
   "id": "b0643863-fef7-46d7-a15b-60a947002d7c",
   "metadata": {},
   "outputs": [],
   "source": [
    "sceneList <- chips_df_full %>% select(srlitePath) %>% distinct() %>% arrange(srlitePath) %>% rename(srlite_path = srlitePath)\n",
    "write_csv(sceneList, '/explore/nobackup/people/mmacande/srlite/chm_model/20230829_chm/list_srlite_path_for_predstack_v20230829.csv')"
   ]
  },
  {
   "cell_type": "markdown",
   "id": "fba3528c-bd71-4f6a-99dc-943d391492d0",
   "metadata": {},
   "source": [
    "Review Outputs and Construct Table for interactive viz"
   ]
  },
  {
   "cell_type": "code",
   "execution_count": null,
   "id": "dc4720d2-8d60-4bc5-84ab-996c5f06bab8",
   "metadata": {},
   "outputs": [],
   "source": [
    "srlite_fp <- read_sf('/explore/nobackup/people/pmontesa/srlite/footprints_vhrmeta_SR_alaska.gpkg') %>%\n",
    "  mutate(srlite_path = path(path, file))\n"
   ]
  },
  {
   "cell_type": "code",
   "execution_count": null,
   "id": "c43fd7e8-c99a-4bb8-801a-eeaab56e898d",
   "metadata": {},
   "outputs": [],
   "source": [
    "srlite_summer <- srlite_fp %>% st_drop_geometry() %>% filter(month %in% c(6,7,8,9))\n",
    "srlite_summer %>% group_by(month) %>% tally()\n",
    "srlite_summer %>% head()"
   ]
  },
  {
   "cell_type": "code",
   "execution_count": null,
   "id": "bbed681f-3ab3-466e-85cd-0174e547634c",
   "metadata": {},
   "outputs": [],
   "source": [
    "srlite_metrics <- read_csv('/explore/nobackup/people/pmontesa/userfs02/projects/ilab/above_shrubs/data/tables/srlite_metrics_alaska_202308291350.csv') %>%\n",
    "  select(-`...1`)\n",
    "dups <- srlite_metrics %>%\n",
    "  dplyr::group_by(model, file, type, footprint_name, catid, sensor, year, month, date, band_name) %>%\n",
    "  dplyr::summarise(n = dplyr::n(), .groups = \"drop\") %>%\n",
    "  dplyr::filter(n > 1L) \n",
    "\n",
    "\n",
    "srlite_metrics_wide <- srlite_metrics %>%\n",
    "  filter(band_name %in% c('Blue','Green','Red','NIR')) %>%\n",
    "  pivot_wider(id_cols=c(model, file, type, footprint_name, catid, sensor, year, month, date), names_from=band_name, values_from=intercept:rmse_norm, values_fn=mean) #%>%\n",
    "\n",
    "srlite_metrics_wide_78 <- srlite_metrics_wide %>%\n",
    "  filter(month %in% c(7,8))\n",
    "\n",
    "srlite_metrics_wide_78_r2filt <- srlite_metrics_wide_78 %>%\n",
    "  filter(r2_score_NIR >= 0.75)\n",
    "\n",
    "srlite_metrics_wide_r2filt <- srlite_metrics_wide %>%\n",
    "  filter(r2_score_NIR >= 0.75)\n",
    "\n",
    "nrow(srlite_metrics_wide_78_r2filt)\n",
    "\n",
    "srlite_metrics_wide_r2filt %>% head()"
   ]
  },
  {
   "cell_type": "code",
   "execution_count": null,
   "id": "97ef756a-c02a-4eee-9344-0d8c52f1cb91",
   "metadata": {},
   "outputs": [],
   "source": [
    "srlite_summer_r2_filt <- srlite_summer %>%\n",
    "semi_join(srlite_metrics_wide_r2filt, by='catid')\n",
    "\n",
    "# srlite_summer %>% head()\n",
    "# srlite_metrics_wide_r2filt %>% head()\n",
    "\n",
    "srlite_summer_r2_filt %>% group_by(month) %>% tally()"
   ]
  },
  {
   "cell_type": "code",
   "execution_count": null,
   "id": "d52f4b36-5966-48cf-aa30-51ed6422f745",
   "metadata": {},
   "outputs": [],
   "source": [
    "predicted_set1 <- read_csv('/explore/nobackup/people/mmacande/srlite/chm_model/20230829_chm/list_srlite_path_for_predstack_v20230829.csv') %>%\n",
    "mutate(srlite_file = path_file(srlite_path),\n",
    "       catid = str_sub(srlite_file,20,35))\n",
    "\n",
    "predicted_set1 %>% head()\n",
    "\n",
    "srlite_batch2 <- srlite_summer_r2_filt %>%\n",
    "anti_join(predicted_set1)\n",
    "\n",
    "srlite_batch2 %>% group_by(month) %>% tally()\n"
   ]
  },
  {
   "cell_type": "code",
   "execution_count": null,
   "id": "078e147c-c1d9-46c5-8d9c-284cf14d34b9",
   "metadata": {},
   "outputs": [],
   "source": [
    "chms_predicted <- tibble(\n",
    "    chm_path = dir_ls('/explore/nobackup/people/mmacande/srlite/chm_model/20230829_chm/products', glob='*/*.tif', recurse=T))\n",
    "nrow(chms_predicted)\n",
    "chms_predicted %>% head()"
   ]
  }
 ],
 "metadata": {
  "kernelspec": {
   "display_name": "ILAB Kernel",
   "language": "python",
   "name": "ilab-kernel"
  },
  "language_info": {
   "codemirror_mode": {
    "name": "ipython",
    "version": 3
   },
   "file_extension": ".py",
   "mimetype": "text/x-python",
   "name": "python",
   "nbconvert_exporter": "python",
   "pygments_lexer": "ipython3",
   "version": "3.8.16"
  }
 },
 "nbformat": 4,
 "nbformat_minor": 5
}
