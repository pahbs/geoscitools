{
 "cells": [
  {
   "cell_type": "code",
   "execution_count": 1,
   "id": "cb1115b3-b7d8-43e1-b9fd-b97abcc249cc",
   "metadata": {
    "tags": []
   },
   "outputs": [],
   "source": [
    "# install.packages('here')\n",
    "# install.packages('sf')\n",
    "# install.packages('janitor')\n",
    "# install.packages('spatialEco')\n",
    "# install.packages('gfcanalysis')\n",
    "# install.packages('geojsonio')"
   ]
  },
  {
   "cell_type": "code",
   "execution_count": null,
   "id": "039b954d-56e4-4130-b4e4-83a3395379a9",
   "metadata": {},
   "outputs": [],
   "source": []
  },
  {
   "cell_type": "code",
   "execution_count": null,
   "id": "60b071ca-7e73-4b30-81bc-0d51e9c02f3c",
   "metadata": {},
   "outputs": [],
   "source": []
  },
  {
   "cell_type": "code",
   "execution_count": 2,
   "id": "bb66d5a1-c74b-4ac6-8e06-1040118d8177",
   "metadata": {
    "tags": []
   },
   "outputs": [
    {
     "name": "stderr",
     "output_type": "stream",
     "text": [
      "Linking to GEOS 3.11.2, GDAL 3.7.0, PROJ 9.2.0; sf_use_s2() is TRUE\n",
      "\n",
      "── \u001b[1mAttaching core tidyverse packages\u001b[22m ──────────────────────── tidyverse 2.0.0 ──\n",
      "\u001b[32m✔\u001b[39m \u001b[34mdplyr    \u001b[39m 1.1.2     \u001b[32m✔\u001b[39m \u001b[34mreadr    \u001b[39m 2.1.4\n",
      "\u001b[32m✔\u001b[39m \u001b[34mforcats  \u001b[39m 1.0.0     \u001b[32m✔\u001b[39m \u001b[34mstringr  \u001b[39m 1.5.0\n",
      "\u001b[32m✔\u001b[39m \u001b[34mggplot2  \u001b[39m 3.4.2     \u001b[32m✔\u001b[39m \u001b[34mtibble   \u001b[39m 3.2.1\n",
      "\u001b[32m✔\u001b[39m \u001b[34mlubridate\u001b[39m 1.9.2     \u001b[32m✔\u001b[39m \u001b[34mtidyr    \u001b[39m 1.3.0\n",
      "\u001b[32m✔\u001b[39m \u001b[34mpurrr    \u001b[39m 1.0.1     \n",
      "── \u001b[1mConflicts\u001b[22m ────────────────────────────────────────── tidyverse_conflicts() ──\n",
      "\u001b[31m✖\u001b[39m \u001b[34mdplyr\u001b[39m::\u001b[32mfilter()\u001b[39m masks \u001b[34mstats\u001b[39m::filter()\n",
      "\u001b[31m✖\u001b[39m \u001b[34mdplyr\u001b[39m::\u001b[32mlag()\u001b[39m    masks \u001b[34mstats\u001b[39m::lag()\n",
      "\u001b[36mℹ\u001b[39m Use the conflicted package (\u001b[3m\u001b[34m<http://conflicted.r-lib.org/>\u001b[39m\u001b[23m) to force all conflicts to become errors\n",
      "\n",
      "Attaching package: ‘magrittr’\n",
      "\n",
      "\n",
      "The following object is masked from ‘package:purrr’:\n",
      "\n",
      "    set_names\n",
      "\n",
      "\n",
      "The following object is masked from ‘package:tidyr’:\n",
      "\n",
      "    extract\n",
      "\n",
      "\n"
     ]
    }
   ],
   "source": [
    "# library(here)\n",
    "# source(here('init.R'))\n",
    "# source(here('../nasa-airborne/init.R'))\n",
    "# library(raster)\n",
    "library(sf)\n",
    "library(tidyverse)\n",
    "###library(janitor)\n",
    "library(magrittr)\n",
    "# library(RPostgres)\n",
    "library(lubridate)\n",
    "library(fs)\n",
    "# library(mapview)\n",
    "library(glue)\n",
    "library(readxl)\n",
    "####library(furrr)\n",
    "\n",
    "# library(fs)\n",
    "###library(terra)\n",
    "# library(spatialEco)\n",
    "# library(gfcanalysis)\n",
    "# outPath <- path('/explore/nobackup/people/mmacande/srlite/chm_model/20230329_chm')\n",
    "outPath <- path('/explore/nobackup/people/mmacande/srlite/chm_model/20230515d_chm')\n",
    "outPath <- path('/explore/nobackup/people/pmontesa/userfs02/projects/ilab/above_shrubs/cnn_chm_model/20230515d_chm')\n",
    "dir_create(outPath)\n"
   ]
  },
  {
   "cell_type": "markdown",
   "id": "db5a22f0-1438-487a-abdd-c7583786e2f8",
   "metadata": {},
   "source": [
    "Code blocks below are dealing with gdal path issue on adapt. Still needed?"
   ]
  },
  {
   "cell_type": "code",
   "execution_count": 3,
   "id": "cafbc368-e870-43f6-9874-6c34cbe5a4a9",
   "metadata": {},
   "outputs": [
    {
     "data": {
      "text/html": [
       "'/panfs/ccds02/app/modules/jupyter/ilab/R-kernel/share/proj'"
      ],
      "text/latex": [
       "'/panfs/ccds02/app/modules/jupyter/ilab/R-kernel/share/proj'"
      ],
      "text/markdown": [
       "'/panfs/ccds02/app/modules/jupyter/ilab/R-kernel/share/proj'"
      ],
      "text/plain": [
       "[1] \"/panfs/ccds02/app/modules/jupyter/ilab/R-kernel/share/proj\""
      ]
     },
     "metadata": {},
     "output_type": "display_data"
    },
    {
     "data": {
      "text/html": [
       "'/panfs/ccds02/app/modules/jupyter/ilab/R-kernel/share/proj'"
      ],
      "text/latex": [
       "'/panfs/ccds02/app/modules/jupyter/ilab/R-kernel/share/proj'"
      ],
      "text/markdown": [
       "'/panfs/ccds02/app/modules/jupyter/ilab/R-kernel/share/proj'"
      ],
      "text/plain": [
       "[1] \"/panfs/ccds02/app/modules/jupyter/ilab/R-kernel/share/proj\""
      ]
     },
     "metadata": {},
     "output_type": "display_data"
    }
   ],
   "source": [
    "secondPath <- sf_proj_search_paths()[[2]]\n",
    "secondPath\n",
    "sf_proj_search_paths(secondPath)"
   ]
  },
  {
   "cell_type": "code",
   "execution_count": 4,
   "id": "bd002c53-8347-4262-a6d3-d6a48339c9a7",
   "metadata": {},
   "outputs": [],
   "source": [
    "#Reflectance only\n",
    "\n",
    "# crop_by_bbox <- function(epsg, utmBB, long, lat) {\n",
    "#     vrt <- rast(path(outPath, glue('alaska-sr-02m_{epsg}_v20221219.vrt')))\n",
    "#     crop(vrt, utmBB, filename=path(outPath, glue('{epsg}_{long}_{lat}.tif')))\n",
    "#     }\n",
    "\n",
    "# pwalk(points_32603 %>% select(epsg, utmBB, long, lat) %>% st_drop_geometry(), crop_by_bbox)"
   ]
  },
  {
   "cell_type": "code",
   "execution_count": 5,
   "id": "eeeb7793-0133-46ed-b294-4b9a0bb2a7bb",
   "metadata": {},
   "outputs": [
    {
     "data": {
      "text/html": [
       "<style>\n",
       ".dl-inline {width: auto; margin:0; padding: 0}\n",
       ".dl-inline>dt, .dl-inline>dd {float: none; width: auto; display: inline-block}\n",
       ".dl-inline>dt::after {content: \":\\0020\"; padding-right: .5ex}\n",
       ".dl-inline>dt:not(:first-of-type) {padding-left: .5ex}\n",
       "</style><dl class=dl-inline><dt>/panfs/ccds02/app/modules/jupyter/ilab/R-kernel/share/proj/CH</dt><dd>'/panfs/ccds02/app/modules/jupyter/ilab/R-kernel/share/proj/CH'</dd><dt>/panfs/ccds02/app/modules/jupyter/ilab/R-kernel/share/proj/GL27</dt><dd>'/panfs/ccds02/app/modules/jupyter/ilab/R-kernel/share/proj/GL27'</dd><dt>/panfs/ccds02/app/modules/jupyter/ilab/R-kernel/share/proj/ITRF2000</dt><dd>'/panfs/ccds02/app/modules/jupyter/ilab/R-kernel/share/proj/ITRF2000'</dd><dt>/panfs/ccds02/app/modules/jupyter/ilab/R-kernel/share/proj/ITRF2008</dt><dd>'/panfs/ccds02/app/modules/jupyter/ilab/R-kernel/share/proj/ITRF2008'</dd><dt>/panfs/ccds02/app/modules/jupyter/ilab/R-kernel/share/proj/ITRF2014</dt><dd>'/panfs/ccds02/app/modules/jupyter/ilab/R-kernel/share/proj/ITRF2014'</dd><dt>/panfs/ccds02/app/modules/jupyter/ilab/R-kernel/share/proj/deformation_model.schema.json</dt><dd>'/panfs/ccds02/app/modules/jupyter/ilab/R-kernel/share/proj/deformation_model.schema.json'</dd><dt>/panfs/ccds02/app/modules/jupyter/ilab/R-kernel/share/proj/nad.lst</dt><dd>'/panfs/ccds02/app/modules/jupyter/ilab/R-kernel/share/proj/nad.lst'</dd><dt>/panfs/ccds02/app/modules/jupyter/ilab/R-kernel/share/proj/nad27</dt><dd>'/panfs/ccds02/app/modules/jupyter/ilab/R-kernel/share/proj/nad27'</dd><dt>/panfs/ccds02/app/modules/jupyter/ilab/R-kernel/share/proj/nad83</dt><dd>'/panfs/ccds02/app/modules/jupyter/ilab/R-kernel/share/proj/nad83'</dd><dt>/panfs/ccds02/app/modules/jupyter/ilab/R-kernel/share/proj/other.extra</dt><dd>'/panfs/ccds02/app/modules/jupyter/ilab/R-kernel/share/proj/other.extra'</dd><dt>/panfs/ccds02/app/modules/jupyter/ilab/R-kernel/share/proj/proj.db</dt><dd>'/panfs/ccds02/app/modules/jupyter/ilab/R-kernel/share/proj/proj.db'</dd><dt>/panfs/ccds02/app/modules/jupyter/ilab/R-kernel/share/proj/proj.ini</dt><dd>'/panfs/ccds02/app/modules/jupyter/ilab/R-kernel/share/proj/proj.ini'</dd><dt>/panfs/ccds02/app/modules/jupyter/ilab/R-kernel/share/proj/projjson.schema.json</dt><dd>'/panfs/ccds02/app/modules/jupyter/ilab/R-kernel/share/proj/projjson.schema.json'</dd><dt>/panfs/ccds02/app/modules/jupyter/ilab/R-kernel/share/proj/triangulation.schema.json</dt><dd>'/panfs/ccds02/app/modules/jupyter/ilab/R-kernel/share/proj/triangulation.schema.json'</dd><dt>/panfs/ccds02/app/modules/jupyter/ilab/R-kernel/share/proj/world</dt><dd>'/panfs/ccds02/app/modules/jupyter/ilab/R-kernel/share/proj/world'</dd></dl>\n"
      ],
      "text/latex": [
       "\\begin{description*}\n",
       "\\item[/panfs/ccds02/app/modules/jupyter/ilab/R-kernel/share/proj/CH] '/panfs/ccds02/app/modules/jupyter/ilab/R-kernel/share/proj/CH'\n",
       "\\item[/panfs/ccds02/app/modules/jupyter/ilab/R-kernel/share/proj/GL27] '/panfs/ccds02/app/modules/jupyter/ilab/R-kernel/share/proj/GL27'\n",
       "\\item[/panfs/ccds02/app/modules/jupyter/ilab/R-kernel/share/proj/ITRF2000] '/panfs/ccds02/app/modules/jupyter/ilab/R-kernel/share/proj/ITRF2000'\n",
       "\\item[/panfs/ccds02/app/modules/jupyter/ilab/R-kernel/share/proj/ITRF2008] '/panfs/ccds02/app/modules/jupyter/ilab/R-kernel/share/proj/ITRF2008'\n",
       "\\item[/panfs/ccds02/app/modules/jupyter/ilab/R-kernel/share/proj/ITRF2014] '/panfs/ccds02/app/modules/jupyter/ilab/R-kernel/share/proj/ITRF2014'\n",
       "\\item[/panfs/ccds02/app/modules/jupyter/ilab/R-kernel/share/proj/deformation\\textbackslash{}\\_model.schema.json] '/panfs/ccds02/app/modules/jupyter/ilab/R-kernel/share/proj/deformation\\_model.schema.json'\n",
       "\\item[/panfs/ccds02/app/modules/jupyter/ilab/R-kernel/share/proj/nad.lst] '/panfs/ccds02/app/modules/jupyter/ilab/R-kernel/share/proj/nad.lst'\n",
       "\\item[/panfs/ccds02/app/modules/jupyter/ilab/R-kernel/share/proj/nad27] '/panfs/ccds02/app/modules/jupyter/ilab/R-kernel/share/proj/nad27'\n",
       "\\item[/panfs/ccds02/app/modules/jupyter/ilab/R-kernel/share/proj/nad83] '/panfs/ccds02/app/modules/jupyter/ilab/R-kernel/share/proj/nad83'\n",
       "\\item[/panfs/ccds02/app/modules/jupyter/ilab/R-kernel/share/proj/other.extra] '/panfs/ccds02/app/modules/jupyter/ilab/R-kernel/share/proj/other.extra'\n",
       "\\item[/panfs/ccds02/app/modules/jupyter/ilab/R-kernel/share/proj/proj.db] '/panfs/ccds02/app/modules/jupyter/ilab/R-kernel/share/proj/proj.db'\n",
       "\\item[/panfs/ccds02/app/modules/jupyter/ilab/R-kernel/share/proj/proj.ini] '/panfs/ccds02/app/modules/jupyter/ilab/R-kernel/share/proj/proj.ini'\n",
       "\\item[/panfs/ccds02/app/modules/jupyter/ilab/R-kernel/share/proj/projjson.schema.json] '/panfs/ccds02/app/modules/jupyter/ilab/R-kernel/share/proj/projjson.schema.json'\n",
       "\\item[/panfs/ccds02/app/modules/jupyter/ilab/R-kernel/share/proj/triangulation.schema.json] '/panfs/ccds02/app/modules/jupyter/ilab/R-kernel/share/proj/triangulation.schema.json'\n",
       "\\item[/panfs/ccds02/app/modules/jupyter/ilab/R-kernel/share/proj/world] '/panfs/ccds02/app/modules/jupyter/ilab/R-kernel/share/proj/world'\n",
       "\\end{description*}\n"
      ],
      "text/markdown": [
       "/panfs/ccds02/app/modules/jupyter/ilab/R-kernel/share/proj/CH\n",
       ":   '/panfs/ccds02/app/modules/jupyter/ilab/R-kernel/share/proj/CH'/panfs/ccds02/app/modules/jupyter/ilab/R-kernel/share/proj/GL27\n",
       ":   '/panfs/ccds02/app/modules/jupyter/ilab/R-kernel/share/proj/GL27'/panfs/ccds02/app/modules/jupyter/ilab/R-kernel/share/proj/ITRF2000\n",
       ":   '/panfs/ccds02/app/modules/jupyter/ilab/R-kernel/share/proj/ITRF2000'/panfs/ccds02/app/modules/jupyter/ilab/R-kernel/share/proj/ITRF2008\n",
       ":   '/panfs/ccds02/app/modules/jupyter/ilab/R-kernel/share/proj/ITRF2008'/panfs/ccds02/app/modules/jupyter/ilab/R-kernel/share/proj/ITRF2014\n",
       ":   '/panfs/ccds02/app/modules/jupyter/ilab/R-kernel/share/proj/ITRF2014'/panfs/ccds02/app/modules/jupyter/ilab/R-kernel/share/proj/deformation_model.schema.json\n",
       ":   '/panfs/ccds02/app/modules/jupyter/ilab/R-kernel/share/proj/deformation_model.schema.json'/panfs/ccds02/app/modules/jupyter/ilab/R-kernel/share/proj/nad.lst\n",
       ":   '/panfs/ccds02/app/modules/jupyter/ilab/R-kernel/share/proj/nad.lst'/panfs/ccds02/app/modules/jupyter/ilab/R-kernel/share/proj/nad27\n",
       ":   '/panfs/ccds02/app/modules/jupyter/ilab/R-kernel/share/proj/nad27'/panfs/ccds02/app/modules/jupyter/ilab/R-kernel/share/proj/nad83\n",
       ":   '/panfs/ccds02/app/modules/jupyter/ilab/R-kernel/share/proj/nad83'/panfs/ccds02/app/modules/jupyter/ilab/R-kernel/share/proj/other.extra\n",
       ":   '/panfs/ccds02/app/modules/jupyter/ilab/R-kernel/share/proj/other.extra'/panfs/ccds02/app/modules/jupyter/ilab/R-kernel/share/proj/proj.db\n",
       ":   '/panfs/ccds02/app/modules/jupyter/ilab/R-kernel/share/proj/proj.db'/panfs/ccds02/app/modules/jupyter/ilab/R-kernel/share/proj/proj.ini\n",
       ":   '/panfs/ccds02/app/modules/jupyter/ilab/R-kernel/share/proj/proj.ini'/panfs/ccds02/app/modules/jupyter/ilab/R-kernel/share/proj/projjson.schema.json\n",
       ":   '/panfs/ccds02/app/modules/jupyter/ilab/R-kernel/share/proj/projjson.schema.json'/panfs/ccds02/app/modules/jupyter/ilab/R-kernel/share/proj/triangulation.schema.json\n",
       ":   '/panfs/ccds02/app/modules/jupyter/ilab/R-kernel/share/proj/triangulation.schema.json'/panfs/ccds02/app/modules/jupyter/ilab/R-kernel/share/proj/world\n",
       ":   '/panfs/ccds02/app/modules/jupyter/ilab/R-kernel/share/proj/world'\n",
       "\n"
      ],
      "text/plain": [
       "/panfs/ccds02/app/modules/jupyter/ilab/R-kernel/share/proj/CH\n",
       "/panfs/ccds02/app/modules/jupyter/ilab/R-kernel/share/proj/GL27\n",
       "/panfs/ccds02/app/modules/jupyter/ilab/R-kernel/share/proj/ITRF2000\n",
       "/panfs/ccds02/app/modules/jupyter/ilab/R-kernel/share/proj/ITRF2008\n",
       "/panfs/ccds02/app/modules/jupyter/ilab/R-kernel/share/proj/ITRF2014\n",
       "/panfs/ccds02/app/modules/jupyter/ilab/R-kernel/share/proj/deformation_model.schema.json\n",
       "/panfs/ccds02/app/modules/jupyter/ilab/R-kernel/share/proj/nad.lst\n",
       "/panfs/ccds02/app/modules/jupyter/ilab/R-kernel/share/proj/nad27\n",
       "/panfs/ccds02/app/modules/jupyter/ilab/R-kernel/share/proj/nad83\n",
       "/panfs/ccds02/app/modules/jupyter/ilab/R-kernel/share/proj/other.extra\n",
       "/panfs/ccds02/app/modules/jupyter/ilab/R-kernel/share/proj/proj.db\n",
       "/panfs/ccds02/app/modules/jupyter/ilab/R-kernel/share/proj/proj.ini\n",
       "/panfs/ccds02/app/modules/jupyter/ilab/R-kernel/share/proj/projjson.schema.json\n",
       "/panfs/ccds02/app/modules/jupyter/ilab/R-kernel/share/proj/triangulation.schema.json\n",
       "/panfs/ccds02/app/modules/jupyter/ilab/R-kernel/share/proj/world"
      ]
     },
     "metadata": {},
     "output_type": "display_data"
    }
   ],
   "source": [
    "# sf_proj_search_paths('/explore/nobackup/people/mmacande/proj')\n",
    "dir_ls(sf_proj_search_paths())"
   ]
  },
  {
   "cell_type": "markdown",
   "id": "99029011-d75d-4ad1-a3c3-aa281d7fed22",
   "metadata": {},
   "source": [
    "Load point file generated at ABR using SRLite cloud masks eroded (or anti-buffered) by 128 pixel diagonals to ensure all points had full 256x256 chip  \n",
    "\n",
    "pmm read in : point_overlay_srlite_gliht_buf.gpkg"
   ]
  },
  {
   "cell_type": "code",
   "execution_count": 6,
   "id": "4f2254c7-420e-497c-b74f-3bf4a8ef06b9",
   "metadata": {},
   "outputs": [
    {
     "name": "stderr",
     "output_type": "stream",
     "text": [
      "Warning message in CPL_read_ogr(dsn, layer, query, as.character(options), quiet, :\n",
      "“GDAL Message 1: organizePolygons() received a polygon with more than 100 parts. The processing may be really slow.  You can skip the processing by setting METHOD=SKIP, or only make it analyze counter-clock wise parts by setting METHOD=ONLY_CCW if you can assume that the outline of holes is counter-clock wise defined”\n"
     ]
    }
   ],
   "source": [
    "fires = read_sf('/explore/nobackup/projects/ilab/projects/ABoVE-Shrubs/data/alaska-fire-scars/AlaskaFireHistory_Polygons.gdb') %>% st_transform(4326)\n",
    "fires$geom = fires$Shape"
   ]
  },
  {
   "cell_type": "markdown",
   "id": "1830b34e-79a9-4eb2-9c81-5f7017d11eeb",
   "metadata": {},
   "source": [
    "## Bring in points (filtered)\n",
    "overlaid with extents from:  \n",
    "1. cloudmasked srlite  \n",
    "2. gliht  \n",
    "3. alaska fire polygons"
   ]
  },
  {
   "cell_type": "code",
   "execution_count": 38,
   "id": "c77dc63c-a458-493a-bfc7-0ade0a2b9c91",
   "metadata": {},
   "outputs": [],
   "source": [
    "OUTDIR = '/explore/nobackup/people/pmontesa/userfs02/projects/ilab/above_shrubs/data/arc'\n",
    "foot_intersect_srlite_gliht_buf = read_sf(path(OUTDIR, 'footprints_intersect_srlitevalid_gliht_for_tiles_buf.gpkg')) %>% st_transform(4326)\n",
    "points_srlite_gliht = read_sf(path(OUTDIR, 'point_overlay_srlite_gliht_buf.gpkg')) %>% st_transform(4326)"
   ]
  },
  {
   "cell_type": "markdown",
   "id": "3c5cfe67-145d-4b67-9870-42daa986ff6e",
   "metadata": {},
   "source": [
    "## Prep points\n",
    "1. Get yearDiff between srlite, gliht (this isnt good enough - multiple srlite for gliht, and vice versa  \n",
    "2. Get fire year  \n",
    "3. get lat/lon  \n",
    "4. get utm zone and epsg code info"
   ]
  },
  {
   "cell_type": "code",
   "execution_count": 46,
   "id": "a879bd4f-bcfb-4caa-8ac0-0d72e16d94e5",
   "metadata": {},
   "outputs": [],
   "source": [
    "points_srlite_gliht = points_srlite_gliht %>% \n",
    "                        mutate(yearDiff = year_1 - year_2) %>%\n",
    "                        mutate(YEAR_FIRE = format(as.Date(PERIMETERDATE, format=\"%Y-%m-%d\"),\"%Y\")) %>%\n",
    "                        dplyr::mutate(lon = sf::st_coordinates(.)[,1],\n",
    "                                    lat = sf::st_coordinates(.)[,2]) %>%\n",
    "                        mutate(epsg = factor(32600 + floor((lon + 180) / 6) + 1)) %>% \n",
    "                        mutate(utm = factor(paste0(\"+init=epsg:\", epsg)))"
   ]
  },
  {
   "cell_type": "code",
   "execution_count": 47,
   "id": "595bf55d-50ca-4865-bf95-d977255bc09f",
   "metadata": {},
   "outputs": [
    {
     "data": {
      "text/html": [
       "<style>\n",
       ".list-inline {list-style: none; margin:0; padding: 0}\n",
       ".list-inline>li {display: inline-block}\n",
       ".list-inline>li:not(:last-child)::after {content: \"\\00b7\"; padding: 0 .5ex}\n",
       "</style>\n",
       "<ol class=list-inline><li>'+init=epsg:32605'</li><li>'+init=epsg:32606'</li><li>'+init=epsg:32607'</li></ol>\n"
      ],
      "text/latex": [
       "\\begin{enumerate*}\n",
       "\\item '+init=epsg:32605'\n",
       "\\item '+init=epsg:32606'\n",
       "\\item '+init=epsg:32607'\n",
       "\\end{enumerate*}\n"
      ],
      "text/markdown": [
       "1. '+init=epsg:32605'\n",
       "2. '+init=epsg:32606'\n",
       "3. '+init=epsg:32607'\n",
       "\n",
       "\n"
      ],
      "text/plain": [
       "[1] \"+init=epsg:32605\" \"+init=epsg:32606\" \"+init=epsg:32607\""
      ]
     },
     "metadata": {},
     "output_type": "display_data"
    }
   ],
   "source": [
    "levels(points_srlite_gliht$utm)"
   ]
  },
  {
   "cell_type": "code",
   "execution_count": 48,
   "id": "85ee9d5d-eba8-4261-ba07-5b2a9f0696b6",
   "metadata": {},
   "outputs": [
    {
     "data": {
      "image/png": "[encoded data removed]",
      "text/plain": [
       "plot without title"
      ]
     },
     "metadata": {
      "image/png": {
       "height": 420,
       "width": 420
      }
     },
     "output_type": "display_data"
    }
   ],
   "source": [
    "ggplot() + \n",
    "    geom_sf(data = fires, color='red') +\n",
    "    geom_sf(data = foot_intersect_srlite_gliht_buf, color='blue') +\n",
    "    geom_sf(data = points_srlite_gliht, size=0.5) +\n",
    "    theme_bw()"
   ]
  },
  {
   "cell_type": "code",
   "execution_count": 50,
   "id": "e905f474-bec5-420b-ae60-44ae1fa4218d",
   "metadata": {},
   "outputs": [
    {
     "data": {
      "application/geo+json": {
       "features": [
        {
         "geometry": {
          "coordinates": [
           -150.8125,
           60.6422
          ],
          "type": "Point"
         },
         "properties": {
          "ACREAGEMETHOD": null,
          "ACRES": 85306.01,
          "ADDNUMBER": null,
          "AFSNUMBER": "9311",
          "AGENCYACRES": "NA",
          "COMMENTS": "Updated perimeter submitted by Kenai Borough.",
          "DOFNUMBER": null,
          "FIREID": 25750,
          "FIRESEASONS": "1960 - 1969",
          "FIREYEAR": "1969",
          "FPMERGEDDATE": null,
          "FPOUTDATE": null,
          "IRWINID": null,
          "LATESTPERIMETER": "Yes",
          "NAME": "SWANSON RIVER",
          "PERIMETERDATE": "1969-11-01 12:00:00",
          "PRESCRIBED": "N",
          "RECORDNUMBER": null,
          "SOURCE": "Not Recorded",
          "SOURCECLASS": null,
          "SOURCEMETHOD": null,
          "Shape_Area": 345221185.2204,
          "Shape_Length": 159886.2555,
          "UPDATETIME": "2010-02-23 10:17:00",
          "UPDATEUSER": "jnorthway",
          "USEDONFINALREPORT": "No",
          "USFSNUMBER": null,
          "YEAR_FIRE": "1969",
          "area_ha": 701.5021,
          "area_km2": 7.015,
          "area_sqkm": 24.5479,
          "epsg": "32605",
          "file_1": "WV02_20120622_M1BS_103001001AB8DB00-toa.cloudmask.tif",
          "file_2": "AK_20180703_Kenai_FHP1_mosaic_all_p50.tif",
          "index": null,
          "lat": 60.6422,
          "lon": -150.8125,
          "path": "/explore/nobackup/people/wcwagne1/data/gliht/_tifs/_unzipped",
          "raster_val": 0,
          "sensor_1": "WV02",
          "sensor_2": "GLiHT",
          "utm": "+init=epsg:32605",
          "yearDiff": -6,
          "year_1": 2012,
          "year_2": 2018
         },
         "type": "Feature"
        },
        {
         "geometry": {
          "coordinates": [
           -150.8125,
           60.6422
          ],
          "type": "Point"
         },
         "properties": {
          "ACREAGEMETHOD": null,
          "ACRES": 85306.01,
          "ADDNUMBER": null,
          "AFSNUMBER": "9311",
          "AGENCYACRES": "NA",
          "COMMENTS": "Updated perimeter submitted by Kenai Borough.",
          "DOFNUMBER": null,
          "FIREID": 25750,
          "FIRESEASONS": "1960 - 1969",
          "FIREYEAR": "1969",
          "FPMERGEDDATE": null,
          "FPOUTDATE": null,
          "IRWINID": null,
          "LATESTPERIMETER": "Yes",
          "NAME": "SWANSON RIVER",
          "PERIMETERDATE": "1969-11-01 12:00:00",
          "PRESCRIBED": "N",
          "RECORDNUMBER": null,
          "SOURCE": "Not Recorded",
          "SOURCECLASS": null,
          "SOURCEMETHOD": null,
          "Shape_Area": 345221185.2204,
          "Shape_Length": 159886.2555,
          "UPDATETIME": "2010-02-23 10:17:00",
          "UPDATEUSER": "jnorthway",
          "USEDONFINALREPORT": "No",
          "USFSNUMBER": null,
          "YEAR_FIRE": "1969",
          "area_ha": 701.5021,
          "area_km2": 7.015,
          "area_sqkm": 27.2061,
          "epsg": "32605",
          "file_1": "WV02_20150527_M1BS_10300100429D0200-toa.cloudmask.tif",
          "file_2": "AK_20180703_Kenai_FHP1_mosaic_all_p50.tif",
          "index": null,
          "lat": 60.6422,
          "lon": -150.8125,
          "path": "/explore/nobackup/people/wcwagne1/data/gliht/_tifs/_unzipped",
          "raster_val": 0,
          "sensor_1": "WV02",
          "sensor_2": "GLiHT",
          "utm": "+init=epsg:32605",
          "yearDiff": -3,
          "year_1": 2015,
          "year_2": 2018
         },
         "type": "Feature"
        },
        {
         "geometry": {
          "coordinates": [
           -150.8125,
           60.6422
          ],
          "type": "Point"
         },
         "properties": {
          "ACREAGEMETHOD": null,
          "ACRES": 85306.01,
          "ADDNUMBER": null,
          "AFSNUMBER": "9311",
          "AGENCYACRES": "NA",
          "COMMENTS": "Updated perimeter submitted by Kenai Borough.",
          "DOFNUMBER": null,
          "FIREID": 25750,
          "FIRESEASONS": "1960 - 1969",
          "FIREYEAR": "1969",
          "FPMERGEDDATE": null,
          "FPOUTDATE": null,
          "IRWINID": null,
          "LATESTPERIMETER": "Yes",
          "NAME": "SWANSON RIVER",
          "PERIMETERDATE": "1969-11-01 12:00:00",
          "PRESCRIBED": "N",
          "RECORDNUMBER": null,
          "SOURCE": "Not Recorded",
          "SOURCECLASS": null,
          "SOURCEMETHOD": null,
          "Shape_Area": 345221185.2204,
          "Shape_Length": 159886.2555,
          "UPDATETIME": "2010-02-23 10:17:00",
          "UPDATEUSER": "jnorthway",
          "USEDONFINALREPORT": "No",
          "USFSNUMBER": null,
          "YEAR_FIRE": "1969",
          "area_ha": 20.6687,
          "area_km2": 0.2067,
          "area_sqkm": 0.8567,
          "epsg": "32605",
          "file_1": "WV02_20120622_M1BS_103001001AB8DB00-toa.cloudmask.tif",
          "file_2": "AK_20180703_Kenai_FHP1_l0s10_all_p50.tif",
          "index": null,
          "lat": 60.6422,
          "lon": -150.8125,
          "path": "/explore/nobackup/people/wcwagne1/data/gliht/_tifs/_unzipped",
          "raster_val": 0,
          "sensor_1": "WV02",
          "sensor_2": "GLiHT",
          "utm": "+init=epsg:32605",
          "yearDiff": -6,
          "year_1": 2012,
          "year_2": 2018
         },
         "type": "Feature"
        },
        {
         "geometry": {
          "coordinates": [
           -150.8125,
           60.6422
          ],
          "type": "Point"
         },
         "properties": {
          "ACREAGEMETHOD": null,
          "ACRES": 85306.01,
          "ADDNUMBER": null,
          "AFSNUMBER": "9311",
          "AGENCYACRES": "NA",
          "COMMENTS": "Updated perimeter submitted by Kenai Borough.",
          "DOFNUMBER": null,
          "FIREID": 25750,
          "FIRESEASONS": "1960 - 1969",
          "FIREYEAR": "1969",
          "FPMERGEDDATE": null,
          "FPOUTDATE": null,
          "IRWINID": null,
          "LATESTPERIMETER": "Yes",
          "NAME": "SWANSON RIVER",
          "PERIMETERDATE": "1969-11-01 12:00:00",
          "PRESCRIBED": "N",
          "RECORDNUMBER": null,
          "SOURCE": "Not Recorded",
          "SOURCECLASS": null,
          "SOURCEMETHOD": null,
          "Shape_Area": 345221185.2204,
          "Shape_Length": 159886.2555,
          "UPDATETIME": "2010-02-23 10:17:00",
          "UPDATEUSER": "jnorthway",
          "USEDONFINALREPORT": "No",
          "USFSNUMBER": null,
          "YEAR_FIRE": "1969",
          "area_ha": 20.6687,
          "area_km2": 0.2067,
          "area_sqkm": 0.8567,
          "epsg": "32605",
          "file_1": "WV02_20150527_M1BS_10300100429D0200-toa.cloudmask.tif",
          "file_2": "AK_20180703_Kenai_FHP1_l0s10_all_p50.tif",
          "index": null,
          "lat": 60.6422,
          "lon": -150.8125,
          "path": "/explore/nobackup/people/wcwagne1/data/gliht/_tifs/_unzipped",
          "raster_val": 0,
          "sensor_1": "WV02",
          "sensor_2": "GLiHT",
          "utm": "+init=epsg:32605",
          "yearDiff": -3,
          "year_1": 2015,
          "year_2": 2018
         },
         "type": "Feature"
        },
        {
         "geometry": {
          "coordinates": [
           -150.7902,
           60.5821
          ],
          "type": "Point"
         },
         "properties": {
          "ACREAGEMETHOD": null,
          "ACRES": 318090.94,
          "ADDNUMBER": null,
          "AFSNUMBER": "54",
          "AGENCYACRES": "NA",
          "COMMENTS": "Perimeter submitted by Kenai Borough GIS Specialist.",
          "DOFNUMBER": null,
          "FIREID": 27825,
          "FIRESEASONS": "1940 - 1949",
          "FIREYEAR": "1947",
          "FPMERGEDDATE": null,
          "FPOUTDATE": null,
          "IRWINID": null,
          "LATESTPERIMETER": "Yes",
          "NAME": "Kenai",
          "PERIMETERDATE": "1947-11-01 04:00:00",
          "PRESCRIBED": "N",
          "RECORDNUMBER": null,
          "SOURCE": "Not Recorded",
          "SOURCECLASS": null,
          "SOURCEMETHOD": null,
          "Shape_Area": 1287268715.6314,
          "Shape_Length": 417772.5924,
          "UPDATETIME": "2010-02-23 04:39:00",
          "UPDATEUSER": "jnorthway",
          "USEDONFINALREPORT": "No",
          "USFSNUMBER": null,
          "YEAR_FIRE": "1947",
          "area_ha": 701.5021,
          "area_km2": 7.015,
          "area_sqkm": 24.5479,
          "epsg": "32605",
          "file_1": "WV02_20120622_M1BS_103001001AB8DB00-toa.cloudmask.tif",
          "file_2": "AK_20180703_Kenai_FHP1_mosaic_all_p50.tif",
          "index": null,
          "lat": 60.5821,
          "lon": -150.7902,
          "path": "/explore/nobackup/people/wcwagne1/data/gliht/_tifs/_unzipped",
          "raster_val": 0,
          "sensor_1": "WV02",
          "sensor_2": "GLiHT",
          "utm": "+init=epsg:32605",
          "yearDiff": -6,
          "year_1": 2012,
          "year_2": 2018
         },
         "type": "Feature"
        },
        {
         "geometry": {
          "coordinates": [
           -150.7902,
           60.5821
          ],
          "type": "Point"
         },
         "properties": {
          "ACREAGEMETHOD": null,
          "ACRES": 318090.94,
          "ADDNUMBER": null,
          "AFSNUMBER": "54",
          "AGENCYACRES": "NA",
          "COMMENTS": "Perimeter submitted by Kenai Borough GIS Specialist.",
          "DOFNUMBER": null,
          "FIREID": 27825,
          "FIRESEASONS": "1940 - 1949",
          "FIREYEAR": "1947",
          "FPMERGEDDATE": null,
          "FPOUTDATE": null,
          "IRWINID": null,
          "LATESTPERIMETER": "Yes",
          "NAME": "Kenai",
          "PERIMETERDATE": "1947-11-01 04:00:00",
          "PRESCRIBED": "N",
          "RECORDNUMBER": null,
          "SOURCE": "Not Recorded",
          "SOURCECLASS": null,
          "SOURCEMETHOD": null,
          "Shape_Area": 1287268715.6314,
          "Shape_Length": 417772.5924,
          "UPDATETIME": "2010-02-23 04:39:00",
          "UPDATEUSER": "jnorthway",
          "USEDONFINALREPORT": "No",
          "USFSNUMBER": null,
          "YEAR_FIRE": "1947",
          "area_ha": 701.5021,
          "area_km2": 7.015,
          "area_sqkm": 27.2061,
          "epsg": "32605",
          "file_1": "WV02_20150527_M1BS_10300100429D0200-toa.cloudmask.tif",
          "file_2": "AK_20180703_Kenai_FHP1_mosaic_all_p50.tif",
          "index": null,
          "lat": 60.5821,
          "lon": -150.7902,
          "path": "/explore/nobackup/people/wcwagne1/data/gliht/_tifs/_unzipped",
          "raster_val": 0,
          "sensor_1": "WV02",
          "sensor_2": "GLiHT",
          "utm": "+init=epsg:32605",
          "yearDiff": -3,
          "year_1": 2015,
          "year_2": 2018
         },
         "type": "Feature"
        }
       ],
       "type": "FeatureCollection"
      },
      "text/html": [
       "<table class=\"dataframe\">\n",
       "<caption>A sf: 6 × 46</caption>\n",
       "<thead>\n",
       "\t<tr><th scope=col>raster_val</th><th scope=col>file_1</th><th scope=col>index</th><th scope=col>year_1</th><th scope=col>sensor_1</th><th scope=col>file_2</th><th scope=col>path</th><th scope=col>area_km2</th><th scope=col>area_ha</th><th scope=col>sensor_2</th><th scope=col>geom</th><th scope=col>⋯</th><th scope=col>FIRESEASONS</th><th scope=col>Shape_Length</th><th scope=col>Shape_Area</th><th scope=col>geom</th><th scope=col>yearDiff</th><th scope=col>YEAR_FIRE</th><th scope=col>lon</th><th scope=col>lat</th><th scope=col>epsg</th><th scope=col>utm</th></tr>\n",
       "\t<tr><th scope=col>&lt;dbl&gt;</th><th scope=col>&lt;chr&gt;</th><th scope=col>&lt;chr&gt;</th><th scope=col>&lt;dbl&gt;</th><th scope=col>&lt;chr&gt;</th><th scope=col>&lt;chr&gt;</th><th scope=col>&lt;chr&gt;</th><th scope=col>&lt;dbl&gt;</th><th scope=col>&lt;dbl&gt;</th><th scope=col>&lt;chr&gt;</th><th scope=col>⋯</th><th scope=col>&lt;chr&gt;</th><th scope=col>&lt;dbl&gt;</th><th scope=col>&lt;dbl&gt;</th><th scope=col>&lt;POINT [°]&gt;</th><th scope=col>&lt;dbl&gt;</th><th scope=col>&lt;chr&gt;</th><th scope=col>&lt;dbl&gt;</th><th scope=col>&lt;dbl&gt;</th><th scope=col>&lt;fct&gt;</th><th scope=col>&lt;fct&gt;</th></tr>\n",
       "</thead>\n",
       "<tbody>\n",
       "\t<tr><td>0</td><td>WV02_20120622_M1BS_103001001AB8DB00-toa.cloudmask.tif</td><td>NA</td><td>2012</td><td>WV02</td><td>AK_20180703_Kenai_FHP1_mosaic_all_p50.tif</td><td>/explore/nobackup/people/wcwagne1/data/gliht/_tifs/_unzipped</td><td>7.015021</td><td>701.5021</td><td>GLiHT</td><td>POINT (-150.8125 60.64224)</td><td>⋯</td><td>1960 - 1969</td><td>159886.3</td><td> 345221185</td><td>POINT (-150.8125 60.64224)</td><td>-6</td><td>1969</td><td>-150.8125</td><td>60.64224</td><td>32605</td><td>+init=epsg:32605</td></tr>\n",
       "\t<tr><td>0</td><td>WV02_20150527_M1BS_10300100429D0200-toa.cloudmask.tif</td><td>NA</td><td>2015</td><td>WV02</td><td>AK_20180703_Kenai_FHP1_mosaic_all_p50.tif</td><td>/explore/nobackup/people/wcwagne1/data/gliht/_tifs/_unzipped</td><td>7.015021</td><td>701.5021</td><td>GLiHT</td><td>POINT (-150.8125 60.64224)</td><td>⋯</td><td>1960 - 1969</td><td>159886.3</td><td> 345221185</td><td>POINT (-150.8125 60.64224)</td><td>-3</td><td>1969</td><td>-150.8125</td><td>60.64224</td><td>32605</td><td>+init=epsg:32605</td></tr>\n",
       "\t<tr><td>0</td><td>WV02_20120622_M1BS_103001001AB8DB00-toa.cloudmask.tif</td><td>NA</td><td>2012</td><td>WV02</td><td>AK_20180703_Kenai_FHP1_l0s10_all_p50.tif </td><td>/explore/nobackup/people/wcwagne1/data/gliht/_tifs/_unzipped</td><td>0.206687</td><td> 20.6687</td><td>GLiHT</td><td>POINT (-150.8125 60.64224)</td><td>⋯</td><td>1960 - 1969</td><td>159886.3</td><td> 345221185</td><td>POINT (-150.8125 60.64224)</td><td>-6</td><td>1969</td><td>-150.8125</td><td>60.64224</td><td>32605</td><td>+init=epsg:32605</td></tr>\n",
       "\t<tr><td>0</td><td>WV02_20150527_M1BS_10300100429D0200-toa.cloudmask.tif</td><td>NA</td><td>2015</td><td>WV02</td><td>AK_20180703_Kenai_FHP1_l0s10_all_p50.tif </td><td>/explore/nobackup/people/wcwagne1/data/gliht/_tifs/_unzipped</td><td>0.206687</td><td> 20.6687</td><td>GLiHT</td><td>POINT (-150.8125 60.64224)</td><td>⋯</td><td>1960 - 1969</td><td>159886.3</td><td> 345221185</td><td>POINT (-150.8125 60.64224)</td><td>-3</td><td>1969</td><td>-150.8125</td><td>60.64224</td><td>32605</td><td>+init=epsg:32605</td></tr>\n",
       "\t<tr><td>0</td><td>WV02_20120622_M1BS_103001001AB8DB00-toa.cloudmask.tif</td><td>NA</td><td>2012</td><td>WV02</td><td>AK_20180703_Kenai_FHP1_mosaic_all_p50.tif</td><td>/explore/nobackup/people/wcwagne1/data/gliht/_tifs/_unzipped</td><td>7.015021</td><td>701.5021</td><td>GLiHT</td><td>POINT (-150.7902 60.58214)</td><td>⋯</td><td>1940 - 1949</td><td>417772.6</td><td>1287268716</td><td>POINT (-150.7902 60.58214)</td><td>-6</td><td>1947</td><td>-150.7902</td><td>60.58214</td><td>32605</td><td>+init=epsg:32605</td></tr>\n",
       "\t<tr><td>0</td><td>WV02_20150527_M1BS_10300100429D0200-toa.cloudmask.tif</td><td>NA</td><td>2015</td><td>WV02</td><td>AK_20180703_Kenai_FHP1_mosaic_all_p50.tif</td><td>/explore/nobackup/people/wcwagne1/data/gliht/_tifs/_unzipped</td><td>7.015021</td><td>701.5021</td><td>GLiHT</td><td>POINT (-150.7902 60.58214)</td><td>⋯</td><td>1940 - 1949</td><td>417772.6</td><td>1287268716</td><td>POINT (-150.7902 60.58214)</td><td>-3</td><td>1947</td><td>-150.7902</td><td>60.58214</td><td>32605</td><td>+init=epsg:32605</td></tr>\n",
       "</tbody>\n",
       "</table>\n"
      ],
      "text/latex": [
       "A sf: 6 × 46\n",
       "\\begin{tabular}{lllllllllllllllllllll}\n",
       " raster\\_val & file\\_1 & index & year\\_1 & sensor\\_1 & file\\_2 & path & area\\_km2 & area\\_ha & sensor\\_2 & geom & ⋯ & FIRESEASONS & Shape\\_Length & Shape\\_Area & geom & yearDiff & YEAR\\_FIRE & lon & lat & epsg & utm\\\\\n",
       " <dbl> & <chr> & <chr> & <dbl> & <chr> & <chr> & <chr> & <dbl> & <dbl> & <chr> & ⋯ & <chr> & <dbl> & <dbl> & <POINT {[}°{]}> & <dbl> & <chr> & <dbl> & <dbl> & <fct> & <fct>\\\\\n",
       "\\hline\n",
       "\t 0 & WV02\\_20120622\\_M1BS\\_103001001AB8DB00-toa.cloudmask.tif & NA & 2012 & WV02 & AK\\_20180703\\_Kenai\\_FHP1\\_mosaic\\_all\\_p50.tif & /explore/nobackup/people/wcwagne1/data/gliht/\\_tifs/\\_unzipped & 7.015021 & 701.5021 & GLiHT & POINT (-150.8125 60.64224) & ⋯ & 1960 - 1969 & 159886.3 &  345221185 & POINT (-150.8125 60.64224) & -6 & 1969 & -150.8125 & 60.64224 & 32605 & +init=epsg:32605\\\\\n",
       "\t 0 & WV02\\_20150527\\_M1BS\\_10300100429D0200-toa.cloudmask.tif & NA & 2015 & WV02 & AK\\_20180703\\_Kenai\\_FHP1\\_mosaic\\_all\\_p50.tif & /explore/nobackup/people/wcwagne1/data/gliht/\\_tifs/\\_unzipped & 7.015021 & 701.5021 & GLiHT & POINT (-150.8125 60.64224) & ⋯ & 1960 - 1969 & 159886.3 &  345221185 & POINT (-150.8125 60.64224) & -3 & 1969 & -150.8125 & 60.64224 & 32605 & +init=epsg:32605\\\\\n",
       "\t 0 & WV02\\_20120622\\_M1BS\\_103001001AB8DB00-toa.cloudmask.tif & NA & 2012 & WV02 & AK\\_20180703\\_Kenai\\_FHP1\\_l0s10\\_all\\_p50.tif  & /explore/nobackup/people/wcwagne1/data/gliht/\\_tifs/\\_unzipped & 0.206687 &  20.6687 & GLiHT & POINT (-150.8125 60.64224) & ⋯ & 1960 - 1969 & 159886.3 &  345221185 & POINT (-150.8125 60.64224) & -6 & 1969 & -150.8125 & 60.64224 & 32605 & +init=epsg:32605\\\\\n",
       "\t 0 & WV02\\_20150527\\_M1BS\\_10300100429D0200-toa.cloudmask.tif & NA & 2015 & WV02 & AK\\_20180703\\_Kenai\\_FHP1\\_l0s10\\_all\\_p50.tif  & /explore/nobackup/people/wcwagne1/data/gliht/\\_tifs/\\_unzipped & 0.206687 &  20.6687 & GLiHT & POINT (-150.8125 60.64224) & ⋯ & 1960 - 1969 & 159886.3 &  345221185 & POINT (-150.8125 60.64224) & -3 & 1969 & -150.8125 & 60.64224 & 32605 & +init=epsg:32605\\\\\n",
       "\t 0 & WV02\\_20120622\\_M1BS\\_103001001AB8DB00-toa.cloudmask.tif & NA & 2012 & WV02 & AK\\_20180703\\_Kenai\\_FHP1\\_mosaic\\_all\\_p50.tif & /explore/nobackup/people/wcwagne1/data/gliht/\\_tifs/\\_unzipped & 7.015021 & 701.5021 & GLiHT & POINT (-150.7902 60.58214) & ⋯ & 1940 - 1949 & 417772.6 & 1287268716 & POINT (-150.7902 60.58214) & -6 & 1947 & -150.7902 & 60.58214 & 32605 & +init=epsg:32605\\\\\n",
       "\t 0 & WV02\\_20150527\\_M1BS\\_10300100429D0200-toa.cloudmask.tif & NA & 2015 & WV02 & AK\\_20180703\\_Kenai\\_FHP1\\_mosaic\\_all\\_p50.tif & /explore/nobackup/people/wcwagne1/data/gliht/\\_tifs/\\_unzipped & 7.015021 & 701.5021 & GLiHT & POINT (-150.7902 60.58214) & ⋯ & 1940 - 1949 & 417772.6 & 1287268716 & POINT (-150.7902 60.58214) & -3 & 1947 & -150.7902 & 60.58214 & 32605 & +init=epsg:32605\\\\\n",
       "\\end{tabular}\n"
      ],
      "text/markdown": [
       "\n",
       "A sf: 6 × 46\n",
       "\n",
       "| raster_val &lt;dbl&gt; | file_1 &lt;chr&gt; | index &lt;chr&gt; | year_1 &lt;dbl&gt; | sensor_1 &lt;chr&gt; | file_2 &lt;chr&gt; | path &lt;chr&gt; | area_km2 &lt;dbl&gt; | area_ha &lt;dbl&gt; | sensor_2 &lt;chr&gt; | geom ⋯ | ⋯ &lt;chr&gt; | FIRESEASONS &lt;dbl&gt; | Shape_Length &lt;dbl&gt; | Shape_Area &lt;POINT [°]&gt; | geom &lt;dbl&gt; | yearDiff &lt;chr&gt; | YEAR_FIRE &lt;dbl&gt; | lon &lt;dbl&gt; | lat &lt;fct&gt; | epsg &lt;fct&gt; | utm &lt;dbl&gt; |\n",
       "|---|---|---|---|---|---|---|---|---|---|---|---|---|---|---|---|---|---|---|---|---|\n",
       "| 0 | WV02_20120622_M1BS_103001001AB8DB00-toa.cloudmask.tif | NA | 2012 | WV02 | AK_20180703_Kenai_FHP1_mosaic_all_p50.tif | /explore/nobackup/people/wcwagne1/data/gliht/_tifs/_unzipped | 7.015021 | 701.5021 | GLiHT | POINT (-150.8125 60.64224) | ⋯ | 1960 - 1969 | 159886.3 |  345221185 | POINT (-150.8125 60.64224) | -6 | 1969 | -150.8125 | 60.64224 | 32605 | +init=epsg:32605 |\n",
       "| 0 | WV02_20150527_M1BS_10300100429D0200-toa.cloudmask.tif | NA | 2015 | WV02 | AK_20180703_Kenai_FHP1_mosaic_all_p50.tif | /explore/nobackup/people/wcwagne1/data/gliht/_tifs/_unzipped | 7.015021 | 701.5021 | GLiHT | POINT (-150.8125 60.64224) | ⋯ | 1960 - 1969 | 159886.3 |  345221185 | POINT (-150.8125 60.64224) | -3 | 1969 | -150.8125 | 60.64224 | 32605 | +init=epsg:32605 |\n",
       "| 0 | WV02_20120622_M1BS_103001001AB8DB00-toa.cloudmask.tif | NA | 2012 | WV02 | AK_20180703_Kenai_FHP1_l0s10_all_p50.tif  | /explore/nobackup/people/wcwagne1/data/gliht/_tifs/_unzipped | 0.206687 |  20.6687 | GLiHT | POINT (-150.8125 60.64224) | ⋯ | 1960 - 1969 | 159886.3 |  345221185 | POINT (-150.8125 60.64224) | -6 | 1969 | -150.8125 | 60.64224 | 32605 | +init=epsg:32605 |\n",
       "| 0 | WV02_20150527_M1BS_10300100429D0200-toa.cloudmask.tif | NA | 2015 | WV02 | AK_20180703_Kenai_FHP1_l0s10_all_p50.tif  | /explore/nobackup/people/wcwagne1/data/gliht/_tifs/_unzipped | 0.206687 |  20.6687 | GLiHT | POINT (-150.8125 60.64224) | ⋯ | 1960 - 1969 | 159886.3 |  345221185 | POINT (-150.8125 60.64224) | -3 | 1969 | -150.8125 | 60.64224 | 32605 | +init=epsg:32605 |\n",
       "| 0 | WV02_20120622_M1BS_103001001AB8DB00-toa.cloudmask.tif | NA | 2012 | WV02 | AK_20180703_Kenai_FHP1_mosaic_all_p50.tif | /explore/nobackup/people/wcwagne1/data/gliht/_tifs/_unzipped | 7.015021 | 701.5021 | GLiHT | POINT (-150.7902 60.58214) | ⋯ | 1940 - 1949 | 417772.6 | 1287268716 | POINT (-150.7902 60.58214) | -6 | 1947 | -150.7902 | 60.58214 | 32605 | +init=epsg:32605 |\n",
       "| 0 | WV02_20150527_M1BS_10300100429D0200-toa.cloudmask.tif | NA | 2015 | WV02 | AK_20180703_Kenai_FHP1_mosaic_all_p50.tif | /explore/nobackup/people/wcwagne1/data/gliht/_tifs/_unzipped | 7.015021 | 701.5021 | GLiHT | POINT (-150.7902 60.58214) | ⋯ | 1940 - 1949 | 417772.6 | 1287268716 | POINT (-150.7902 60.58214) | -3 | 1947 | -150.7902 | 60.58214 | 32605 | +init=epsg:32605 |\n",
       "\n"
      ],
      "text/plain": [
       "  raster_val file_1                                                index year_1\n",
       "1 0          WV02_20120622_M1BS_103001001AB8DB00-toa.cloudmask.tif NA    2012  \n",
       "2 0          WV02_20150527_M1BS_10300100429D0200-toa.cloudmask.tif NA    2015  \n",
       "3 0          WV02_20120622_M1BS_103001001AB8DB00-toa.cloudmask.tif NA    2012  \n",
       "4 0          WV02_20150527_M1BS_10300100429D0200-toa.cloudmask.tif NA    2015  \n",
       "5 0          WV02_20120622_M1BS_103001001AB8DB00-toa.cloudmask.tif NA    2012  \n",
       "6 0          WV02_20150527_M1BS_10300100429D0200-toa.cloudmask.tif NA    2015  \n",
       "  sensor_1 file_2                                   \n",
       "1 WV02     AK_20180703_Kenai_FHP1_mosaic_all_p50.tif\n",
       "2 WV02     AK_20180703_Kenai_FHP1_mosaic_all_p50.tif\n",
       "3 WV02     AK_20180703_Kenai_FHP1_l0s10_all_p50.tif \n",
       "4 WV02     AK_20180703_Kenai_FHP1_l0s10_all_p50.tif \n",
       "5 WV02     AK_20180703_Kenai_FHP1_mosaic_all_p50.tif\n",
       "6 WV02     AK_20180703_Kenai_FHP1_mosaic_all_p50.tif\n",
       "  path                                                         area_km2\n",
       "1 /explore/nobackup/people/wcwagne1/data/gliht/_tifs/_unzipped 7.015021\n",
       "2 /explore/nobackup/people/wcwagne1/data/gliht/_tifs/_unzipped 7.015021\n",
       "3 /explore/nobackup/people/wcwagne1/data/gliht/_tifs/_unzipped 0.206687\n",
       "4 /explore/nobackup/people/wcwagne1/data/gliht/_tifs/_unzipped 0.206687\n",
       "5 /explore/nobackup/people/wcwagne1/data/gliht/_tifs/_unzipped 7.015021\n",
       "6 /explore/nobackup/people/wcwagne1/data/gliht/_tifs/_unzipped 7.015021\n",
       "  area_ha  sensor_2 ⋯ FIRESEASONS Shape_Length Shape_Area\n",
       "1 701.5021 GLiHT    ⋯ 1960 - 1969 159886.3      345221185\n",
       "2 701.5021 GLiHT    ⋯ 1960 - 1969 159886.3      345221185\n",
       "3  20.6687 GLiHT    ⋯ 1960 - 1969 159886.3      345221185\n",
       "4  20.6687 GLiHT    ⋯ 1960 - 1969 159886.3      345221185\n",
       "5 701.5021 GLiHT    ⋯ 1940 - 1949 417772.6     1287268716\n",
       "6 701.5021 GLiHT    ⋯ 1940 - 1949 417772.6     1287268716\n",
       "  geom                       yearDiff YEAR_FIRE lon       lat      epsg \n",
       "1 POINT (-150.8125 60.64224) -6       1969      -150.8125 60.64224 32605\n",
       "2 POINT (-150.8125 60.64224) -3       1969      -150.8125 60.64224 32605\n",
       "3 POINT (-150.8125 60.64224) -6       1969      -150.8125 60.64224 32605\n",
       "4 POINT (-150.8125 60.64224) -3       1969      -150.8125 60.64224 32605\n",
       "5 POINT (-150.7902 60.58214) -6       1947      -150.7902 60.58214 32605\n",
       "6 POINT (-150.7902 60.58214) -3       1947      -150.7902 60.58214 32605\n",
       "  utm             \n",
       "1 +init=epsg:32605\n",
       "2 +init=epsg:32605\n",
       "3 +init=epsg:32605\n",
       "4 +init=epsg:32605\n",
       "5 +init=epsg:32605\n",
       "6 +init=epsg:32605"
      ]
     },
     "metadata": {},
     "output_type": "display_data"
    }
   ],
   "source": [
    "head(points_srlite_gliht)"
   ]
  },
  {
   "cell_type": "code",
   "execution_count": 51,
   "id": "35966738-782e-4d02-a774-c5bf437388be",
   "metadata": {},
   "outputs": [
    {
     "data": {
      "text/html": [
       "<table class=\"dataframe\">\n",
       "<caption>A tibble: 62 × 2</caption>\n",
       "<thead>\n",
       "\t<tr><th scope=col>YEAR_FIRE</th><th scope=col>n</th></tr>\n",
       "\t<tr><th scope=col>&lt;chr&gt;</th><th scope=col>&lt;int&gt;</th></tr>\n",
       "</thead>\n",
       "<tbody>\n",
       "\t<tr><td>1942</td><td>  1</td></tr>\n",
       "\t<tr><td>1944</td><td>  2</td></tr>\n",
       "\t<tr><td>1946</td><td>  2</td></tr>\n",
       "\t<tr><td>1947</td><td> 36</td></tr>\n",
       "\t<tr><td>1948</td><td>  3</td></tr>\n",
       "\t<tr><td>1950</td><td> 10</td></tr>\n",
       "\t<tr><td>1951</td><td>128</td></tr>\n",
       "\t<tr><td>1953</td><td> 18</td></tr>\n",
       "\t<tr><td>1954</td><td> 27</td></tr>\n",
       "\t<tr><td>1956</td><td>  1</td></tr>\n",
       "\t<tr><td>1957</td><td> 33</td></tr>\n",
       "\t<tr><td>1958</td><td>128</td></tr>\n",
       "\t<tr><td>1966</td><td>230</td></tr>\n",
       "\t<tr><td>1967</td><td>  1</td></tr>\n",
       "\t<tr><td>1968</td><td>129</td></tr>\n",
       "\t<tr><td>1969</td><td>362</td></tr>\n",
       "\t<tr><td>1970</td><td>  1</td></tr>\n",
       "\t<tr><td>1971</td><td> 48</td></tr>\n",
       "\t<tr><td>1972</td><td>  2</td></tr>\n",
       "\t<tr><td>1973</td><td>  1</td></tr>\n",
       "\t<tr><td>1974</td><td> 17</td></tr>\n",
       "\t<tr><td>1975</td><td> 17</td></tr>\n",
       "\t<tr><td>1976</td><td>  8</td></tr>\n",
       "\t<tr><td>1979</td><td> 11</td></tr>\n",
       "\t<tr><td>1980</td><td>  8</td></tr>\n",
       "\t<tr><td>1981</td><td> 33</td></tr>\n",
       "\t<tr><td>1983</td><td> 11</td></tr>\n",
       "\t<tr><td>1986</td><td>220</td></tr>\n",
       "\t<tr><td>1987</td><td> 29</td></tr>\n",
       "\t<tr><td>1988</td><td>  8</td></tr>\n",
       "\t<tr><td>⋮</td><td>⋮</td></tr>\n",
       "\t<tr><td>1992</td><td>   2</td></tr>\n",
       "\t<tr><td>1993</td><td>  13</td></tr>\n",
       "\t<tr><td>1994</td><td>  26</td></tr>\n",
       "\t<tr><td>1995</td><td>  11</td></tr>\n",
       "\t<tr><td>1996</td><td>  51</td></tr>\n",
       "\t<tr><td>1998</td><td>   1</td></tr>\n",
       "\t<tr><td>1999</td><td> 191</td></tr>\n",
       "\t<tr><td>2000</td><td>  38</td></tr>\n",
       "\t<tr><td>2001</td><td>  46</td></tr>\n",
       "\t<tr><td>2002</td><td>  40</td></tr>\n",
       "\t<tr><td>2003</td><td>   4</td></tr>\n",
       "\t<tr><td>2004</td><td>1056</td></tr>\n",
       "\t<tr><td>2005</td><td> 336</td></tr>\n",
       "\t<tr><td>2006</td><td>  47</td></tr>\n",
       "\t<tr><td>2007</td><td> 286</td></tr>\n",
       "\t<tr><td>2008</td><td> 191</td></tr>\n",
       "\t<tr><td>2009</td><td> 974</td></tr>\n",
       "\t<tr><td>2010</td><td> 163</td></tr>\n",
       "\t<tr><td>2011</td><td>  44</td></tr>\n",
       "\t<tr><td>2012</td><td>   8</td></tr>\n",
       "\t<tr><td>2013</td><td> 119</td></tr>\n",
       "\t<tr><td>2014</td><td>  93</td></tr>\n",
       "\t<tr><td>2015</td><td> 268</td></tr>\n",
       "\t<tr><td>2016</td><td>  70</td></tr>\n",
       "\t<tr><td>2017</td><td>  25</td></tr>\n",
       "\t<tr><td>2018</td><td>  62</td></tr>\n",
       "\t<tr><td>2019</td><td> 147</td></tr>\n",
       "\t<tr><td>2020</td><td>   2</td></tr>\n",
       "\t<tr><td>2021</td><td>  71</td></tr>\n",
       "\t<tr><td>2022</td><td> 183</td></tr>\n",
       "</tbody>\n",
       "</table>\n"
      ],
      "text/latex": [
       "A tibble: 62 × 2\n",
       "\\begin{tabular}{ll}\n",
       " YEAR\\_FIRE & n\\\\\n",
       " <chr> & <int>\\\\\n",
       "\\hline\n",
       "\t 1942 &   1\\\\\n",
       "\t 1944 &   2\\\\\n",
       "\t 1946 &   2\\\\\n",
       "\t 1947 &  36\\\\\n",
       "\t 1948 &   3\\\\\n",
       "\t 1950 &  10\\\\\n",
       "\t 1951 & 128\\\\\n",
       "\t 1953 &  18\\\\\n",
       "\t 1954 &  27\\\\\n",
       "\t 1956 &   1\\\\\n",
       "\t 1957 &  33\\\\\n",
       "\t 1958 & 128\\\\\n",
       "\t 1966 & 230\\\\\n",
       "\t 1967 &   1\\\\\n",
       "\t 1968 & 129\\\\\n",
       "\t 1969 & 362\\\\\n",
       "\t 1970 &   1\\\\\n",
       "\t 1971 &  48\\\\\n",
       "\t 1972 &   2\\\\\n",
       "\t 1973 &   1\\\\\n",
       "\t 1974 &  17\\\\\n",
       "\t 1975 &  17\\\\\n",
       "\t 1976 &   8\\\\\n",
       "\t 1979 &  11\\\\\n",
       "\t 1980 &   8\\\\\n",
       "\t 1981 &  33\\\\\n",
       "\t 1983 &  11\\\\\n",
       "\t 1986 & 220\\\\\n",
       "\t 1987 &  29\\\\\n",
       "\t 1988 &   8\\\\\n",
       "\t ⋮ & ⋮\\\\\n",
       "\t 1992 &    2\\\\\n",
       "\t 1993 &   13\\\\\n",
       "\t 1994 &   26\\\\\n",
       "\t 1995 &   11\\\\\n",
       "\t 1996 &   51\\\\\n",
       "\t 1998 &    1\\\\\n",
       "\t 1999 &  191\\\\\n",
       "\t 2000 &   38\\\\\n",
       "\t 2001 &   46\\\\\n",
       "\t 2002 &   40\\\\\n",
       "\t 2003 &    4\\\\\n",
       "\t 2004 & 1056\\\\\n",
       "\t 2005 &  336\\\\\n",
       "\t 2006 &   47\\\\\n",
       "\t 2007 &  286\\\\\n",
       "\t 2008 &  191\\\\\n",
       "\t 2009 &  974\\\\\n",
       "\t 2010 &  163\\\\\n",
       "\t 2011 &   44\\\\\n",
       "\t 2012 &    8\\\\\n",
       "\t 2013 &  119\\\\\n",
       "\t 2014 &   93\\\\\n",
       "\t 2015 &  268\\\\\n",
       "\t 2016 &   70\\\\\n",
       "\t 2017 &   25\\\\\n",
       "\t 2018 &   62\\\\\n",
       "\t 2019 &  147\\\\\n",
       "\t 2020 &    2\\\\\n",
       "\t 2021 &   71\\\\\n",
       "\t 2022 &  183\\\\\n",
       "\\end{tabular}\n"
      ],
      "text/markdown": [
       "\n",
       "A tibble: 62 × 2\n",
       "\n",
       "| YEAR_FIRE &lt;chr&gt; | n &lt;int&gt; |\n",
       "|---|---|\n",
       "| 1942 |   1 |\n",
       "| 1944 |   2 |\n",
       "| 1946 |   2 |\n",
       "| 1947 |  36 |\n",
       "| 1948 |   3 |\n",
       "| 1950 |  10 |\n",
       "| 1951 | 128 |\n",
       "| 1953 |  18 |\n",
       "| 1954 |  27 |\n",
       "| 1956 |   1 |\n",
       "| 1957 |  33 |\n",
       "| 1958 | 128 |\n",
       "| 1966 | 230 |\n",
       "| 1967 |   1 |\n",
       "| 1968 | 129 |\n",
       "| 1969 | 362 |\n",
       "| 1970 |   1 |\n",
       "| 1971 |  48 |\n",
       "| 1972 |   2 |\n",
       "| 1973 |   1 |\n",
       "| 1974 |  17 |\n",
       "| 1975 |  17 |\n",
       "| 1976 |   8 |\n",
       "| 1979 |  11 |\n",
       "| 1980 |   8 |\n",
       "| 1981 |  33 |\n",
       "| 1983 |  11 |\n",
       "| 1986 | 220 |\n",
       "| 1987 |  29 |\n",
       "| 1988 |   8 |\n",
       "| ⋮ | ⋮ |\n",
       "| 1992 |    2 |\n",
       "| 1993 |   13 |\n",
       "| 1994 |   26 |\n",
       "| 1995 |   11 |\n",
       "| 1996 |   51 |\n",
       "| 1998 |    1 |\n",
       "| 1999 |  191 |\n",
       "| 2000 |   38 |\n",
       "| 2001 |   46 |\n",
       "| 2002 |   40 |\n",
       "| 2003 |    4 |\n",
       "| 2004 | 1056 |\n",
       "| 2005 |  336 |\n",
       "| 2006 |   47 |\n",
       "| 2007 |  286 |\n",
       "| 2008 |  191 |\n",
       "| 2009 |  974 |\n",
       "| 2010 |  163 |\n",
       "| 2011 |   44 |\n",
       "| 2012 |    8 |\n",
       "| 2013 |  119 |\n",
       "| 2014 |   93 |\n",
       "| 2015 |  268 |\n",
       "| 2016 |   70 |\n",
       "| 2017 |   25 |\n",
       "| 2018 |   62 |\n",
       "| 2019 |  147 |\n",
       "| 2020 |    2 |\n",
       "| 2021 |   71 |\n",
       "| 2022 |  183 |\n",
       "\n"
      ],
      "text/plain": [
       "   YEAR_FIRE n   \n",
       "1  1942        1 \n",
       "2  1944        2 \n",
       "3  1946        2 \n",
       "4  1947       36 \n",
       "5  1948        3 \n",
       "6  1950       10 \n",
       "7  1951      128 \n",
       "8  1953       18 \n",
       "9  1954       27 \n",
       "10 1956        1 \n",
       "11 1957       33 \n",
       "12 1958      128 \n",
       "13 1966      230 \n",
       "14 1967        1 \n",
       "15 1968      129 \n",
       "16 1969      362 \n",
       "17 1970        1 \n",
       "18 1971       48 \n",
       "19 1972        2 \n",
       "20 1973        1 \n",
       "21 1974       17 \n",
       "22 1975       17 \n",
       "23 1976        8 \n",
       "24 1979       11 \n",
       "25 1980        8 \n",
       "26 1981       33 \n",
       "27 1983       11 \n",
       "28 1986      220 \n",
       "29 1987       29 \n",
       "30 1988        8 \n",
       "⋮  ⋮         ⋮   \n",
       "33 1992         2\n",
       "34 1993        13\n",
       "35 1994        26\n",
       "36 1995        11\n",
       "37 1996        51\n",
       "38 1998         1\n",
       "39 1999       191\n",
       "40 2000        38\n",
       "41 2001        46\n",
       "42 2002        40\n",
       "43 2003         4\n",
       "44 2004      1056\n",
       "45 2005       336\n",
       "46 2006        47\n",
       "47 2007       286\n",
       "48 2008       191\n",
       "49 2009       974\n",
       "50 2010       163\n",
       "51 2011        44\n",
       "52 2012         8\n",
       "53 2013       119\n",
       "54 2014        93\n",
       "55 2015       268\n",
       "56 2016        70\n",
       "57 2017        25\n",
       "58 2018        62\n",
       "59 2019       147\n",
       "60 2020         2\n",
       "61 2021        71\n",
       "62 2022       183"
      ]
     },
     "metadata": {},
     "output_type": "display_data"
    },
    {
     "data": {
      "text/html": [
       "<table class=\"dataframe\">\n",
       "<caption>A tibble: 15 × 2</caption>\n",
       "<thead>\n",
       "\t<tr><th scope=col>yearDiff</th><th scope=col>n</th></tr>\n",
       "\t<tr><th scope=col>&lt;dbl&gt;</th><th scope=col>&lt;int&gt;</th></tr>\n",
       "</thead>\n",
       "<tbody>\n",
       "\t<tr><td>-10</td><td>   2</td></tr>\n",
       "\t<tr><td> -8</td><td> 106</td></tr>\n",
       "\t<tr><td> -7</td><td>   2</td></tr>\n",
       "\t<tr><td> -6</td><td>   4</td></tr>\n",
       "\t<tr><td> -4</td><td> 165</td></tr>\n",
       "\t<tr><td> -3</td><td> 161</td></tr>\n",
       "\t<tr><td> -2</td><td> 229</td></tr>\n",
       "\t<tr><td> -1</td><td> 185</td></tr>\n",
       "\t<tr><td>  0</td><td> 947</td></tr>\n",
       "\t<tr><td>  1</td><td> 670</td></tr>\n",
       "\t<tr><td>  2</td><td>1508</td></tr>\n",
       "\t<tr><td>  3</td><td> 416</td></tr>\n",
       "\t<tr><td>  4</td><td> 910</td></tr>\n",
       "\t<tr><td>  5</td><td> 249</td></tr>\n",
       "\t<tr><td>  6</td><td> 715</td></tr>\n",
       "</tbody>\n",
       "</table>\n"
      ],
      "text/latex": [
       "A tibble: 15 × 2\n",
       "\\begin{tabular}{ll}\n",
       " yearDiff & n\\\\\n",
       " <dbl> & <int>\\\\\n",
       "\\hline\n",
       "\t -10 &    2\\\\\n",
       "\t  -8 &  106\\\\\n",
       "\t  -7 &    2\\\\\n",
       "\t  -6 &    4\\\\\n",
       "\t  -4 &  165\\\\\n",
       "\t  -3 &  161\\\\\n",
       "\t  -2 &  229\\\\\n",
       "\t  -1 &  185\\\\\n",
       "\t   0 &  947\\\\\n",
       "\t   1 &  670\\\\\n",
       "\t   2 & 1508\\\\\n",
       "\t   3 &  416\\\\\n",
       "\t   4 &  910\\\\\n",
       "\t   5 &  249\\\\\n",
       "\t   6 &  715\\\\\n",
       "\\end{tabular}\n"
      ],
      "text/markdown": [
       "\n",
       "A tibble: 15 × 2\n",
       "\n",
       "| yearDiff &lt;dbl&gt; | n &lt;int&gt; |\n",
       "|---|---|\n",
       "| -10 |    2 |\n",
       "|  -8 |  106 |\n",
       "|  -7 |    2 |\n",
       "|  -6 |    4 |\n",
       "|  -4 |  165 |\n",
       "|  -3 |  161 |\n",
       "|  -2 |  229 |\n",
       "|  -1 |  185 |\n",
       "|   0 |  947 |\n",
       "|   1 |  670 |\n",
       "|   2 | 1508 |\n",
       "|   3 |  416 |\n",
       "|   4 |  910 |\n",
       "|   5 |  249 |\n",
       "|   6 |  715 |\n",
       "\n"
      ],
      "text/plain": [
       "   yearDiff n   \n",
       "1  -10         2\n",
       "2   -8       106\n",
       "3   -7         2\n",
       "4   -6         4\n",
       "5   -4       165\n",
       "6   -3       161\n",
       "7   -2       229\n",
       "8   -1       185\n",
       "9    0       947\n",
       "10   1       670\n",
       "11   2      1508\n",
       "12   3       416\n",
       "13   4       910\n",
       "14   5       249\n",
       "15   6       715"
      ]
     },
     "metadata": {},
     "output_type": "display_data"
    }
   ],
   "source": [
    "#points_srlite_gliht %>% st_drop_geometry() %>% group_by(mm) %>% tally()\n",
    "points_srlite_gliht %>% st_drop_geometry() %>% group_by(YEAR_FIRE) %>% tally()\n",
    "points_srlite_gliht %>% st_drop_geometry() %>% group_by(yearDiff) %>% tally()"
   ]
  },
  {
   "cell_type": "code",
   "execution_count": 4,
   "id": "48b12d53-841b-427a-b433-a04f4c363a02",
   "metadata": {},
   "outputs": [
    {
     "name": "stderr",
     "output_type": "stream",
     "text": [
      "although coordinates are longitude/latitude, st_union assumes that they are planar\n",
      "although coordinates are longitude/latitude, st_union assumes that they are planar\n",
      "although coordinates are longitude/latitude, st_union assumes that they are planar\n",
      "although coordinates are longitude/latitude, st_union assumes that they are planar\n",
      "although coordinates are longitude/latitude, st_union assumes that they are planar\n"
     ]
    },
    {
     "name": "stdout",
     "output_type": "stream",
     "text": [
      "Simple feature collection with 5 features and 2 fields\n",
      "Geometry type: MULTIPOINT\n",
      "Dimension:     XY\n",
      "Bounding box:  xmin: -166.0372 ymin: 56.58549 xmax: -140.8615 ymax: 71.01012\n",
      "Geodetic CRS:  WGS 84\n",
      "# A tibble: 5 × 3\n",
      "   epsg      n                                                          geometry\n",
      "  <int>  <int>                                                  <MULTIPOINT [°]>\n",
      "1 32603 131916 ((-166.0372 65.56413), (-166.0371 65.51273), (-166.0363 65.58756…\n",
      "2 32604 249568 ((-162 62.99359), (-162 65.62792), (-162 62.26927), (-161.9999 6…\n",
      "3 32605 242088 ((-156 60.3347), (-156 66.57936), (-156 64.28936), (-156 62.7669…\n",
      "4 32606 315967 ((-150 69.46897), (-150 62.50546), (-149.9999 61.97332), (-149.9…\n",
      "5 32607  77446 ((-144 64.10774), (-143.9999 68.1593), (-143.9999 68.83919), (-1…\n"
     ]
    },
    {
     "name": "stderr",
     "output_type": "stream",
     "text": [
      "Warning message in fun(libname, pkgname):\n",
      "“rgeos: versions of GEOS runtime 3.9.1-CAPI-1.14.2\n",
      "and GEOS at installation 3.9.1dev-CAPI-1.14.1differ”Registered S3 method overwritten by 'geojsonsf':\n",
      "  method        from   \n",
      "  print.geojson geojson\n"
     ]
    },
    {
     "data": {
      "application/geo+json": {
       "features": [
        {
         "geometry": {
          "coordinates": [
           -158.0003,
           56.5855
          ],
          "type": "Point"
         },
         "properties": {
          "BUFF_DIST": "-362",
          "Category": "1",
          "CenterX": "-236798.560722612",
          "CenterY": "754740.6887123293",
          "FID_Alaska_srlite_fp_detailed_buff_minus362m": "9",
          "FID_fishnet_512m_label": "755",
          "GroupName": "",
          "HighPS": "30",
          "ItemTS": "44901.826124374995",
          "LowPS": "30",
          "MaxPS": "90",
          "MinPS": "0",
          "Name": "GE01_20180908_M1BS_105001001217FE00-srlite-rma-4band-cloudmasked-30m",
          "ORIG_FID": "9",
          "ProductName": "",
          "Shape__Are": "NA",
          "Shape__Len": "NA",
          "Tag": "Dataset",
          "TypeID": "1",
          "UriHash": "4FC4CD87C2DC5676FA969C5C68F76BA2",
          "ZOrder": "NA",
          "baseName": "GE01_20180908_M1BS_105001001217FE00",
          "cell": "NA",
          "chipName": "chip_GE01_20180908_M1BS_105001001217FE00_00001_v20230331_32604",
          "chip_gran_id": "1",
          "chm_mean": "0",
          "chm_mean_dm_i": "0",
          "collector": "NA",
          "created_da": "NA",
          "created_us": "NA",
          "date_end": "NA",
          "date_pub": "NA",
          "date_start": "NA",
          "dd": "8",
          "epsg": 32604,
          "fireFlag": "NA",
          "fireYear_minus_ifsarYear": "NA",
          "fireYear_minus_imageYear": "-118",
          "globalid": "NA",
          "granuleID": "105001001217FE00",
          "ifsar_year": "NA",
          "last_edi_1": "NA",
          "last_edite": "NA",
          "lat": "56.58549100730233",
          "long": "-158.0002740246949",
          "mm": "9",
          "mrfy_max": "1900",
          "mrfy_min": "1900",
          "random": "0.47105917055159807",
          "sensor": "GE01",
          "sq_miles": "NA",
          "status": "NA",
          "task_order": "NA",
          "utm": "+init=epsg:32604",
          "year": "2018",
          "yearDiff": "NA"
         },
         "type": "Feature"
        },
        {
         "geometry": {
          "coordinates": [
           -157.9919,
           56.5858
          ],
          "type": "Point"
         },
         "properties": {
          "BUFF_DIST": "-362",
          "Category": "1",
          "CenterX": "-236798.560722612",
          "CenterY": "754740.6887123293",
          "FID_Alaska_srlite_fp_detailed_buff_minus362m": "9",
          "FID_fishnet_512m_label": "756",
          "GroupName": "",
          "HighPS": "30",
          "ItemTS": "44901.826124374995",
          "LowPS": "30",
          "MaxPS": "90",
          "MinPS": "0",
          "Name": "GE01_20180908_M1BS_105001001217FE00-srlite-rma-4band-cloudmasked-30m",
          "ORIG_FID": "9",
          "ProductName": "",
          "Shape__Are": "NA",
          "Shape__Len": "NA",
          "Tag": "Dataset",
          "TypeID": "1",
          "UriHash": "4FC4CD87C2DC5676FA969C5C68F76BA2",
          "ZOrder": "NA",
          "baseName": "GE01_20180908_M1BS_105001001217FE00",
          "cell": "NA",
          "chipName": "chip_GE01_20180908_M1BS_105001001217FE00_00002_v20230331_32604",
          "chip_gran_id": "2",
          "chm_mean": "0",
          "chm_mean_dm_i": "0",
          "collector": "NA",
          "created_da": "NA",
          "created_us": "NA",
          "date_end": "NA",
          "date_pub": "NA",
          "date_start": "NA",
          "dd": "8",
          "epsg": 32604,
          "fireFlag": "NA",
          "fireYear_minus_ifsarYear": "NA",
          "fireYear_minus_imageYear": "-118",
          "globalid": "NA",
          "granuleID": "105001001217FE00",
          "ifsar_year": "NA",
          "last_edi_1": "NA",
          "last_edite": "NA",
          "lat": "56.585767006198346",
          "long": "-157.99194129711498",
          "mm": "9",
          "mrfy_max": "1900",
          "mrfy_min": "1900",
          "random": "0.1891293111257255",
          "sensor": "GE01",
          "sq_miles": "NA",
          "status": "NA",
          "task_order": "NA",
          "utm": "+init=epsg:32604",
          "year": "2018",
          "yearDiff": "NA"
         },
         "type": "Feature"
        },
        {
         "geometry": {
          "coordinates": [
           -157.9836,
           56.586
          ],
          "type": "Point"
         },
         "properties": {
          "BUFF_DIST": "-362",
          "Category": "1",
          "CenterX": "-236798.560722612",
          "CenterY": "754740.6887123293",
          "FID_Alaska_srlite_fp_detailed_buff_minus362m": "9",
          "FID_fishnet_512m_label": "757",
          "GroupName": "",
          "HighPS": "30",
          "ItemTS": "44901.826124374995",
          "LowPS": "30",
          "MaxPS": "90",
          "MinPS": "0",
          "Name": "GE01_20180908_M1BS_105001001217FE00-srlite-rma-4band-cloudmasked-30m",
          "ORIG_FID": "9",
          "ProductName": "",
          "Shape__Are": "NA",
          "Shape__Len": "NA",
          "Tag": "Dataset",
          "TypeID": "1",
          "UriHash": "4FC4CD87C2DC5676FA969C5C68F76BA2",
          "ZOrder": "NA",
          "baseName": "GE01_20180908_M1BS_105001001217FE00",
          "cell": "NA",
          "chipName": "chip_GE01_20180908_M1BS_105001001217FE00_00003_v20230331_32604",
          "chip_gran_id": "3",
          "chm_mean": "0",
          "chm_mean_dm_i": "0",
          "collector": "NA",
          "created_da": "NA",
          "created_us": "NA",
          "date_end": "NA",
          "date_pub": "NA",
          "date_start": "NA",
          "dd": "8",
          "epsg": 32604,
          "fireFlag": "NA",
          "fireYear_minus_ifsarYear": "NA",
          "fireYear_minus_imageYear": "-118",
          "globalid": "NA",
          "granuleID": "105001001217FE00",
          "ifsar_year": "NA",
          "last_edi_1": "NA",
          "last_edite": "NA",
          "lat": "56.586042430179475",
          "long": "-157.98360844368952",
          "mm": "9",
          "mrfy_max": "1900",
          "mrfy_min": "1900",
          "random": "0.14509187685325742",
          "sensor": "GE01",
          "sq_miles": "NA",
          "status": "NA",
          "task_order": "NA",
          "utm": "+init=epsg:32604",
          "year": "2018",
          "yearDiff": "NA"
         },
         "type": "Feature"
        },
        {
         "geometry": {
          "coordinates": [
           -157.9753,
           56.5863
          ],
          "type": "Point"
         },
         "properties": {
          "BUFF_DIST": "-362",
          "Category": "1",
          "CenterX": "-236798.560722612",
          "CenterY": "754740.6887123293",
          "FID_Alaska_srlite_fp_detailed_buff_minus362m": "9",
          "FID_fishnet_512m_label": "758",
          "GroupName": "",
          "HighPS": "30",
          "ItemTS": "44901.826124374995",
          "LowPS": "30",
          "MaxPS": "90",
          "MinPS": "0",
          "Name": "GE01_20180908_M1BS_105001001217FE00-srlite-rma-4band-cloudmasked-30m",
          "ORIG_FID": "9",
          "ProductName": "",
          "Shape__Are": "NA",
          "Shape__Len": "NA",
          "Tag": "Dataset",
          "TypeID": "1",
          "UriHash": "4FC4CD87C2DC5676FA969C5C68F76BA2",
          "ZOrder": "NA",
          "baseName": "GE01_20180908_M1BS_105001001217FE00",
          "cell": "NA",
          "chipName": "chip_GE01_20180908_M1BS_105001001217FE00_00004_v20230331_32604",
          "chip_gran_id": "4",
          "chm_mean": "0",
          "chm_mean_dm_i": "0",
          "collector": "NA",
          "created_da": "NA",
          "created_us": "NA",
          "date_end": "NA",
          "date_pub": "NA",
          "date_start": "NA",
          "dd": "8",
          "epsg": 32604,
          "fireFlag": "NA",
          "fireYear_minus_ifsarYear": "NA",
          "fireYear_minus_imageYear": "-118",
          "globalid": "NA",
          "granuleID": "105001001217FE00",
          "ifsar_year": "NA",
          "last_edi_1": "NA",
          "last_edite": "NA",
          "lat": "56.586317279233185",
          "long": "-157.97527546467805",
          "mm": "9",
          "mrfy_max": "1900",
          "mrfy_min": "1900",
          "random": "0.42629770236089826",
          "sensor": "GE01",
          "sq_miles": "NA",
          "status": "NA",
          "task_order": "NA",
          "utm": "+init=epsg:32604",
          "year": "2018",
          "yearDiff": "NA"
         },
         "type": "Feature"
        },
        {
         "geometry": {
          "coordinates": [
           -157.9669,
           56.5866
          ],
          "type": "Point"
         },
         "properties": {
          "BUFF_DIST": "-362",
          "Category": "1",
          "CenterX": "-236798.560722612",
          "CenterY": "754740.6887123293",
          "FID_Alaska_srlite_fp_detailed_buff_minus362m": "9",
          "FID_fishnet_512m_label": "759",
          "GroupName": "",
          "HighPS": "30",
          "ItemTS": "44901.826124374995",
          "LowPS": "30",
          "MaxPS": "90",
          "MinPS": "0",
          "Name": "GE01_20180908_M1BS_105001001217FE00-srlite-rma-4band-cloudmasked-30m",
          "ORIG_FID": "9",
          "ProductName": "",
          "Shape__Are": "NA",
          "Shape__Len": "NA",
          "Tag": "Dataset",
          "TypeID": "1",
          "UriHash": "4FC4CD87C2DC5676FA969C5C68F76BA2",
          "ZOrder": "NA",
          "baseName": "GE01_20180908_M1BS_105001001217FE00",
          "cell": "NA",
          "chipName": "chip_GE01_20180908_M1BS_105001001217FE00_00005_v20230331_32604",
          "chip_gran_id": "5",
          "chm_mean": "0",
          "chm_mean_dm_i": "0",
          "collector": "NA",
          "created_da": "NA",
          "created_us": "NA",
          "date_end": "NA",
          "date_pub": "NA",
          "date_start": "NA",
          "dd": "8",
          "epsg": 32604,
          "fireFlag": "NA",
          "fireYear_minus_ifsarYear": "NA",
          "fireYear_minus_imageYear": "-118",
          "globalid": "NA",
          "granuleID": "105001001217FE00",
          "ifsar_year": "NA",
          "last_edi_1": "NA",
          "last_edite": "NA",
          "lat": "56.586591553347134",
          "long": "-157.96694236034017",
          "mm": "9",
          "mrfy_max": "1900",
          "mrfy_min": "1900",
          "random": "0.7562144696712494",
          "sensor": "GE01",
          "sq_miles": "NA",
          "status": "NA",
          "task_order": "NA",
          "utm": "+init=epsg:32604",
          "year": "2018",
          "yearDiff": "NA"
         },
         "type": "Feature"
        },
        {
         "geometry": {
          "coordinates": [
           -157.9586,
           56.5869
          ],
          "type": "Point"
         },
         "properties": {
          "BUFF_DIST": "-362",
          "Category": "1",
          "CenterX": "-236798.560722612",
          "CenterY": "754740.6887123293",
          "FID_Alaska_srlite_fp_detailed_buff_minus362m": "9",
          "FID_fishnet_512m_label": "760",
          "GroupName": "",
          "HighPS": "30",
          "ItemTS": "44901.826124374995",
          "LowPS": "30",
          "MaxPS": "90",
          "MinPS": "0",
          "Name": "GE01_20180908_M1BS_105001001217FE00-srlite-rma-4band-cloudmasked-30m",
          "ORIG_FID": "9",
          "ProductName": "",
          "Shape__Are": "NA",
          "Shape__Len": "NA",
          "Tag": "Dataset",
          "TypeID": "1",
          "UriHash": "4FC4CD87C2DC5676FA969C5C68F76BA2",
          "ZOrder": "NA",
          "baseName": "GE01_20180908_M1BS_105001001217FE00",
          "cell": "NA",
          "chipName": "chip_GE01_20180908_M1BS_105001001217FE00_00006_v20230331_32604",
          "chip_gran_id": "6",
          "chm_mean": "0",
          "chm_mean_dm_i": "0",
          "collector": "NA",
          "created_da": "NA",
          "created_us": "NA",
          "date_end": "NA",
          "date_pub": "NA",
          "date_start": "NA",
          "dd": "8",
          "epsg": 32604,
          "fireFlag": "NA",
          "fireYear_minus_ifsarYear": "NA",
          "fireYear_minus_imageYear": "-118",
          "globalid": "NA",
          "granuleID": "105001001217FE00",
          "ifsar_year": "NA",
          "last_edi_1": "NA",
          "last_edite": "NA",
          "lat": "56.586865252508794",
          "long": "-157.95860913093537",
          "mm": "9",
          "mrfy_max": "1900",
          "mrfy_min": "1900",
          "random": "0.37968392693437636",
          "sensor": "GE01",
          "sq_miles": "NA",
          "status": "NA",
          "task_order": "NA",
          "utm": "+init=epsg:32604",
          "year": "2018",
          "yearDiff": "NA"
         },
         "type": "Feature"
        }
       ],
       "type": "FeatureCollection"
      },
      "text/html": [
       "<table>\n",
       "<thead><tr><th scope=col>FID_fishnet_512m_label</th><th scope=col>FID_Alaska_srlite_fp_detailed_buff_minus362m</th><th scope=col>utm</th><th scope=col>epsg</th><th scope=col>baseName</th><th scope=col>year</th><th scope=col>mm</th><th scope=col>dd</th><th scope=col>sensor</th><th scope=col>granuleID</th><th scope=col>geometry</th><th scope=col>...</th><th scope=col>created_us</th><th scope=col>created_da</th><th scope=col>last_edite</th><th scope=col>last_edi_1</th><th scope=col>Shape__Are</th><th scope=col>Shape__Len</th><th scope=col>yearDiff</th><th scope=col>lat</th><th scope=col>long</th><th scope=col>geometry</th></tr></thead>\n",
       "<tbody>\n",
       "\t<tr><td>755                                </td><td>9                                  </td><td>+init=epsg:32604                   </td><td>32604                              </td><td>GE01_20180908_M1BS_105001001217FE00</td><td>2018                               </td><td>9                                  </td><td>8                                  </td><td>GE01                               </td><td>105001001217FE00                   </td><td>POINT (-158.0003 56.58549)         </td><td>...                                </td><td>NA                                 </td><td>NA                                 </td><td>NA                                 </td><td>NA                                 </td><td>NA                                 </td><td>NA                                 </td><td>NA                                 </td><td>56.58549100730233                  </td><td>-158.0002740246949                 </td><td>POINT (-158.0003 56.58549)         </td></tr>\n",
       "\t<tr><td>756                                </td><td>9                                  </td><td>+init=epsg:32604                   </td><td>32604                              </td><td>GE01_20180908_M1BS_105001001217FE00</td><td>2018                               </td><td>9                                  </td><td>8                                  </td><td>GE01                               </td><td>105001001217FE00                   </td><td>POINT (-157.9919 56.58577)         </td><td>...                                </td><td>NA                                 </td><td>NA                                 </td><td>NA                                 </td><td>NA                                 </td><td>NA                                 </td><td>NA                                 </td><td>NA                                 </td><td>56.585767006198346                 </td><td>-157.99194129711498                </td><td>POINT (-157.9919 56.58577)         </td></tr>\n",
       "\t<tr><td>757                                </td><td>9                                  </td><td>+init=epsg:32604                   </td><td>32604                              </td><td>GE01_20180908_M1BS_105001001217FE00</td><td>2018                               </td><td>9                                  </td><td>8                                  </td><td>GE01                               </td><td>105001001217FE00                   </td><td>POINT (-157.9836 56.58604)         </td><td>...                                </td><td>NA                                 </td><td>NA                                 </td><td>NA                                 </td><td>NA                                 </td><td>NA                                 </td><td>NA                                 </td><td>NA                                 </td><td>56.586042430179475                 </td><td>-157.98360844368952                </td><td>POINT (-157.9836 56.58604)         </td></tr>\n",
       "\t<tr><td>758                                </td><td>9                                  </td><td>+init=epsg:32604                   </td><td>32604                              </td><td>GE01_20180908_M1BS_105001001217FE00</td><td>2018                               </td><td>9                                  </td><td>8                                  </td><td>GE01                               </td><td>105001001217FE00                   </td><td>POINT (-157.9753 56.58632)         </td><td>...                                </td><td>NA                                 </td><td>NA                                 </td><td>NA                                 </td><td>NA                                 </td><td>NA                                 </td><td>NA                                 </td><td>NA                                 </td><td>56.586317279233185                 </td><td>-157.97527546467805                </td><td>POINT (-157.9753 56.58632)         </td></tr>\n",
       "\t<tr><td>759                                </td><td>9                                  </td><td>+init=epsg:32604                   </td><td>32604                              </td><td>GE01_20180908_M1BS_105001001217FE00</td><td>2018                               </td><td>9                                  </td><td>8                                  </td><td>GE01                               </td><td>105001001217FE00                   </td><td>POINT (-157.9669 56.58659)         </td><td>...                                </td><td>NA                                 </td><td>NA                                 </td><td>NA                                 </td><td>NA                                 </td><td>NA                                 </td><td>NA                                 </td><td>NA                                 </td><td>56.586591553347134                 </td><td>-157.96694236034017                </td><td>POINT (-157.9669 56.58659)         </td></tr>\n",
       "\t<tr><td>760                                </td><td>9                                  </td><td>+init=epsg:32604                   </td><td>32604                              </td><td>GE01_20180908_M1BS_105001001217FE00</td><td>2018                               </td><td>9                                  </td><td>8                                  </td><td>GE01                               </td><td>105001001217FE00                   </td><td>POINT (-157.9586 56.58687)         </td><td>...                                </td><td>NA                                 </td><td>NA                                 </td><td>NA                                 </td><td>NA                                 </td><td>NA                                 </td><td>NA                                 </td><td>NA                                 </td><td>56.586865252508794                 </td><td>-157.95860913093537                </td><td>POINT (-157.9586 56.58687)         </td></tr>\n",
       "</tbody>\n",
       "</table>\n"
      ],
      "text/latex": [
       "\\begin{tabular}{r|lllllllllllllllllllllllllllllllllllllllllllllllllllllllll}\n",
       " FID\\_fishnet\\_512m\\_label & FID\\_Alaska\\_srlite\\_fp\\_detailed\\_buff\\_minus362m & utm & epsg & baseName & year & mm & dd & sensor & granuleID & geometry & ... & created\\_us & created\\_da & last\\_edite & last\\_edi\\_1 & Shape\\_\\_Are & Shape\\_\\_Len & yearDiff & lat & long & geometry\\\\\n",
       "\\hline\n",
       "\t 755                                       & 9                                         & +init=epsg:32604                          & 32604                                     & GE01\\_20180908\\_M1BS\\_105001001217FE00 & 2018                                      & 9                                         & 8                                         & GE01                                      & 105001001217FE00                          & POINT (-158.0003 56.58549)                & ...                                       & NA                                        & NA                                        & NA                                        & NA                                        & NA                                        & NA                                        & NA                                        & 56.58549100730233                         & -158.0002740246949                        & POINT (-158.0003 56.58549)               \\\\\n",
       "\t 756                                       & 9                                         & +init=epsg:32604                          & 32604                                     & GE01\\_20180908\\_M1BS\\_105001001217FE00 & 2018                                      & 9                                         & 8                                         & GE01                                      & 105001001217FE00                          & POINT (-157.9919 56.58577)                & ...                                       & NA                                        & NA                                        & NA                                        & NA                                        & NA                                        & NA                                        & NA                                        & 56.585767006198346                        & -157.99194129711498                       & POINT (-157.9919 56.58577)               \\\\\n",
       "\t 757                                       & 9                                         & +init=epsg:32604                          & 32604                                     & GE01\\_20180908\\_M1BS\\_105001001217FE00 & 2018                                      & 9                                         & 8                                         & GE01                                      & 105001001217FE00                          & POINT (-157.9836 56.58604)                & ...                                       & NA                                        & NA                                        & NA                                        & NA                                        & NA                                        & NA                                        & NA                                        & 56.586042430179475                        & -157.98360844368952                       & POINT (-157.9836 56.58604)               \\\\\n",
       "\t 758                                       & 9                                         & +init=epsg:32604                          & 32604                                     & GE01\\_20180908\\_M1BS\\_105001001217FE00 & 2018                                      & 9                                         & 8                                         & GE01                                      & 105001001217FE00                          & POINT (-157.9753 56.58632)                & ...                                       & NA                                        & NA                                        & NA                                        & NA                                        & NA                                        & NA                                        & NA                                        & 56.586317279233185                        & -157.97527546467805                       & POINT (-157.9753 56.58632)               \\\\\n",
       "\t 759                                       & 9                                         & +init=epsg:32604                          & 32604                                     & GE01\\_20180908\\_M1BS\\_105001001217FE00 & 2018                                      & 9                                         & 8                                         & GE01                                      & 105001001217FE00                          & POINT (-157.9669 56.58659)                & ...                                       & NA                                        & NA                                        & NA                                        & NA                                        & NA                                        & NA                                        & NA                                        & 56.586591553347134                        & -157.96694236034017                       & POINT (-157.9669 56.58659)               \\\\\n",
       "\t 760                                       & 9                                         & +init=epsg:32604                          & 32604                                     & GE01\\_20180908\\_M1BS\\_105001001217FE00 & 2018                                      & 9                                         & 8                                         & GE01                                      & 105001001217FE00                          & POINT (-157.9586 56.58687)                & ...                                       & NA                                        & NA                                        & NA                                        & NA                                        & NA                                        & NA                                        & NA                                        & 56.586865252508794                        & -157.95860913093537                       & POINT (-157.9586 56.58687)               \\\\\n",
       "\\end{tabular}\n"
      ],
      "text/markdown": [
       "\n",
       "| FID_fishnet_512m_label | FID_Alaska_srlite_fp_detailed_buff_minus362m | utm | epsg | baseName | year | mm | dd | sensor | granuleID | geometry | ... | created_us | created_da | last_edite | last_edi_1 | Shape__Are | Shape__Len | yearDiff | lat | long | geometry |\n",
       "|---|---|---|---|---|---|---|---|---|---|---|---|---|---|---|---|---|---|---|---|---|\n",
       "| 755                                 | 9                                   | +init=epsg:32604                    | 32604                               | GE01_20180908_M1BS_105001001217FE00 | 2018                                | 9                                   | 8                                   | GE01                                | 105001001217FE00                    | POINT (-158.0003 56.58549)          | ...                                 | NA                                  | NA                                  | NA                                  | NA                                  | NA                                  | NA                                  | NA                                  | 56.58549100730233                   | -158.0002740246949                  | POINT (-158.0003 56.58549)          |\n",
       "| 756                                 | 9                                   | +init=epsg:32604                    | 32604                               | GE01_20180908_M1BS_105001001217FE00 | 2018                                | 9                                   | 8                                   | GE01                                | 105001001217FE00                    | POINT (-157.9919 56.58577)          | ...                                 | NA                                  | NA                                  | NA                                  | NA                                  | NA                                  | NA                                  | NA                                  | 56.585767006198346                  | -157.99194129711498                 | POINT (-157.9919 56.58577)          |\n",
       "| 757                                 | 9                                   | +init=epsg:32604                    | 32604                               | GE01_20180908_M1BS_105001001217FE00 | 2018                                | 9                                   | 8                                   | GE01                                | 105001001217FE00                    | POINT (-157.9836 56.58604)          | ...                                 | NA                                  | NA                                  | NA                                  | NA                                  | NA                                  | NA                                  | NA                                  | 56.586042430179475                  | -157.98360844368952                 | POINT (-157.9836 56.58604)          |\n",
       "| 758                                 | 9                                   | +init=epsg:32604                    | 32604                               | GE01_20180908_M1BS_105001001217FE00 | 2018                                | 9                                   | 8                                   | GE01                                | 105001001217FE00                    | POINT (-157.9753 56.58632)          | ...                                 | NA                                  | NA                                  | NA                                  | NA                                  | NA                                  | NA                                  | NA                                  | 56.586317279233185                  | -157.97527546467805                 | POINT (-157.9753 56.58632)          |\n",
       "| 759                                 | 9                                   | +init=epsg:32604                    | 32604                               | GE01_20180908_M1BS_105001001217FE00 | 2018                                | 9                                   | 8                                   | GE01                                | 105001001217FE00                    | POINT (-157.9669 56.58659)          | ...                                 | NA                                  | NA                                  | NA                                  | NA                                  | NA                                  | NA                                  | NA                                  | 56.586591553347134                  | -157.96694236034017                 | POINT (-157.9669 56.58659)          |\n",
       "| 760                                 | 9                                   | +init=epsg:32604                    | 32604                               | GE01_20180908_M1BS_105001001217FE00 | 2018                                | 9                                   | 8                                   | GE01                                | 105001001217FE00                    | POINT (-157.9586 56.58687)          | ...                                 | NA                                  | NA                                  | NA                                  | NA                                  | NA                                  | NA                                  | NA                                  | 56.586865252508794                  | -157.95860913093537                 | POINT (-157.9586 56.58687)          |\n",
       "\n"
      ],
      "text/plain": [
       "  FID_fishnet_512m_label FID_Alaska_srlite_fp_detailed_buff_minus362m\n",
       "1 755                    9                                           \n",
       "2 756                    9                                           \n",
       "3 757                    9                                           \n",
       "4 758                    9                                           \n",
       "5 759                    9                                           \n",
       "6 760                    9                                           \n",
       "  utm              epsg  baseName                            year mm dd sensor\n",
       "1 +init=epsg:32604 32604 GE01_20180908_M1BS_105001001217FE00 2018 9  8  GE01  \n",
       "2 +init=epsg:32604 32604 GE01_20180908_M1BS_105001001217FE00 2018 9  8  GE01  \n",
       "3 +init=epsg:32604 32604 GE01_20180908_M1BS_105001001217FE00 2018 9  8  GE01  \n",
       "4 +init=epsg:32604 32604 GE01_20180908_M1BS_105001001217FE00 2018 9  8  GE01  \n",
       "5 +init=epsg:32604 32604 GE01_20180908_M1BS_105001001217FE00 2018 9  8  GE01  \n",
       "6 +init=epsg:32604 32604 GE01_20180908_M1BS_105001001217FE00 2018 9  8  GE01  \n",
       "  granuleID        ... created_us created_da last_edite last_edi_1 Shape__Are\n",
       "1 105001001217FE00 ... NA         NA         NA         NA         NA        \n",
       "2 105001001217FE00 ... NA         NA         NA         NA         NA        \n",
       "3 105001001217FE00 ... NA         NA         NA         NA         NA        \n",
       "4 105001001217FE00 ... NA         NA         NA         NA         NA        \n",
       "5 105001001217FE00 ... NA         NA         NA         NA         NA        \n",
       "6 105001001217FE00 ... NA         NA         NA         NA         NA        \n",
       "  Shape__Len yearDiff lat                long               \n",
       "1 NA         NA       56.58549100730233  -158.0002740246949 \n",
       "2 NA         NA       56.585767006198346 -157.99194129711498\n",
       "3 NA         NA       56.586042430179475 -157.98360844368952\n",
       "4 NA         NA       56.586317279233185 -157.97527546467805\n",
       "5 NA         NA       56.586591553347134 -157.96694236034017\n",
       "6 NA         NA       56.586865252508794 -157.95860913093537\n",
       "  geometry                  \n",
       "1 POINT (-158.0003 56.58549)\n",
       "2 POINT (-157.9919 56.58577)\n",
       "3 POINT (-157.9836 56.58604)\n",
       "4 POINT (-157.9753 56.58632)\n",
       "5 POINT (-157.9669 56.58659)\n",
       "6 POINT (-157.9586 56.58687)"
      ]
     },
     "metadata": {},
     "output_type": "display_data"
    }
   ],
   "source": [
    "# import os; os.environ['PROJ_LIB'] = '/home/mmacande/.conda/envs/r4-base-20230102/share/proj'\n",
    "# proj error fix above, below did not work\n",
    "# cp -r /home/mmacande/.conda/envs/r4-base-20230102/share/proj /explore/nobackup/people/mmacande/proj\n",
    "\n",
    "# points <- read_sf('/explore/nobackup/people/mmacande/srlite/chm_model/chm_sample_100k_chm_1kPerBin_p1_v20230329.csv') %>%\n",
    "points <- read_sf('/explore/nobackup/people/mmacande/srlite/chm_model/ifsarChm_x_srlite_alaska_v20230401.csv') %>%\n",
    "st_as_sf(coords=c('long','lat'), crs=4326, agr=\"constant\", remove=F) %>%\n",
    "mutate(epsg = as.integer(epsg))\n",
    "\n",
    "print(points %>% group_by(epsg) %>% tally())\n",
    "head(points)"
   ]
  },
  {
   "cell_type": "code",
   "execution_count": 5,
   "id": "8742b5e6-3cea-4d90-9d6a-9e2d3e55785f",
   "metadata": {},
   "outputs": [],
   "source": [
    "#ggplot(points) + geom_sf()"
   ]
  },
  {
   "cell_type": "code",
   "execution_count": 11,
   "id": "fcebb691-7126-4278-8076-5fcda29ad014",
   "metadata": {},
   "outputs": [],
   "source": [
    "# gdal(lib='all')\n",
    "# file_info('/home/mmacande/.conda/envs/r4-base-20230102/share/proj/proj.db')\n",
    "# dir_ls('/home/mmacande/.conda/envs/r4-base-20230102/share/proj')\n",
    "# read_csv('/home/mmacande/.conda/envs/r4-base-20230102/share/proj/proj.ini')"
   ]
  },
  {
   "cell_type": "code",
   "execution_count": 6,
   "id": "edb6423c-9946-4a68-aa16-283874b32ce8",
   "metadata": {},
   "outputs": [
    {
     "data": {
      "text/html": [
       "<table>\n",
       "<thead><tr><th scope=col>mm</th><th scope=col>n</th></tr></thead>\n",
       "<tbody>\n",
       "\t<tr><td>5     </td><td> 73554</td></tr>\n",
       "\t<tr><td>6     </td><td>366706</td></tr>\n",
       "\t<tr><td>7     </td><td>167007</td></tr>\n",
       "\t<tr><td>8     </td><td>171823</td></tr>\n",
       "\t<tr><td>9     </td><td>237895</td></tr>\n",
       "</tbody>\n",
       "</table>\n"
      ],
      "text/latex": [
       "\\begin{tabular}{r|ll}\n",
       " mm & n\\\\\n",
       "\\hline\n",
       "\t 5      &  73554\\\\\n",
       "\t 6      & 366706\\\\\n",
       "\t 7      & 167007\\\\\n",
       "\t 8      & 171823\\\\\n",
       "\t 9      & 237895\\\\\n",
       "\\end{tabular}\n"
      ],
      "text/markdown": [
       "\n",
       "| mm | n |\n",
       "|---|---|\n",
       "| 5      |  73554 |\n",
       "| 6      | 366706 |\n",
       "| 7      | 167007 |\n",
       "| 8      | 171823 |\n",
       "| 9      | 237895 |\n",
       "\n"
      ],
      "text/plain": [
       "  mm n     \n",
       "1 5   73554\n",
       "2 6  366706\n",
       "3 7  167007\n",
       "4 8  171823\n",
       "5 9  237895"
      ]
     },
     "metadata": {},
     "output_type": "display_data"
    },
    {
     "data": {
      "text/html": [
       "<table>\n",
       "<thead><tr><th scope=col>fireFlag</th><th scope=col>n</th></tr></thead>\n",
       "<tbody>\n",
       "\t<tr><td>FALSE </td><td>957426</td></tr>\n",
       "\t<tr><td>NA    </td><td> 38593</td></tr>\n",
       "\t<tr><td>TRUE  </td><td> 20966</td></tr>\n",
       "</tbody>\n",
       "</table>\n"
      ],
      "text/latex": [
       "\\begin{tabular}{r|ll}\n",
       " fireFlag & n\\\\\n",
       "\\hline\n",
       "\t FALSE  & 957426\\\\\n",
       "\t NA     &  38593\\\\\n",
       "\t TRUE   &  20966\\\\\n",
       "\\end{tabular}\n"
      ],
      "text/markdown": [
       "\n",
       "| fireFlag | n |\n",
       "|---|---|\n",
       "| FALSE  | 957426 |\n",
       "| NA     |  38593 |\n",
       "| TRUE   |  20966 |\n",
       "\n"
      ],
      "text/plain": [
       "  fireFlag n     \n",
       "1 FALSE    957426\n",
       "2 NA        38593\n",
       "3 TRUE      20966"
      ]
     },
     "metadata": {},
     "output_type": "display_data"
    },
    {
     "data": {
      "text/html": [
       "<table>\n",
       "<thead><tr><th scope=col>yearDiff</th><th scope=col>n</th></tr></thead>\n",
       "<tbody>\n",
       "\t<tr><td>-1    </td><td> 56110</td></tr>\n",
       "\t<tr><td>-2    </td><td> 62825</td></tr>\n",
       "\t<tr><td>-3    </td><td> 82930</td></tr>\n",
       "\t<tr><td>-4    </td><td> 13609</td></tr>\n",
       "\t<tr><td>-6    </td><td> 13874</td></tr>\n",
       "\t<tr><td>-7    </td><td>  7520</td></tr>\n",
       "\t<tr><td>-8    </td><td> 14827</td></tr>\n",
       "\t<tr><td>0     </td><td> 86061</td></tr>\n",
       "\t<tr><td>1     </td><td>123880</td></tr>\n",
       "\t<tr><td>10    </td><td>   124</td></tr>\n",
       "\t<tr><td>2     </td><td> 40500</td></tr>\n",
       "\t<tr><td>3     </td><td> 41112</td></tr>\n",
       "\t<tr><td>4     </td><td>126312</td></tr>\n",
       "\t<tr><td>5     </td><td> 57323</td></tr>\n",
       "\t<tr><td>6     </td><td> 67424</td></tr>\n",
       "\t<tr><td>7     </td><td> 49737</td></tr>\n",
       "\t<tr><td>8     </td><td>134224</td></tr>\n",
       "\t<tr><td>NA    </td><td> 38593</td></tr>\n",
       "</tbody>\n",
       "</table>\n"
      ],
      "text/latex": [
       "\\begin{tabular}{r|ll}\n",
       " yearDiff & n\\\\\n",
       "\\hline\n",
       "\t -1     &  56110\\\\\n",
       "\t -2     &  62825\\\\\n",
       "\t -3     &  82930\\\\\n",
       "\t -4     &  13609\\\\\n",
       "\t -6     &  13874\\\\\n",
       "\t -7     &   7520\\\\\n",
       "\t -8     &  14827\\\\\n",
       "\t 0      &  86061\\\\\n",
       "\t 1      & 123880\\\\\n",
       "\t 10     &    124\\\\\n",
       "\t 2      &  40500\\\\\n",
       "\t 3      &  41112\\\\\n",
       "\t 4      & 126312\\\\\n",
       "\t 5      &  57323\\\\\n",
       "\t 6      &  67424\\\\\n",
       "\t 7      &  49737\\\\\n",
       "\t 8      & 134224\\\\\n",
       "\t NA     &  38593\\\\\n",
       "\\end{tabular}\n"
      ],
      "text/markdown": [
       "\n",
       "| yearDiff | n |\n",
       "|---|---|\n",
       "| -1     |  56110 |\n",
       "| -2     |  62825 |\n",
       "| -3     |  82930 |\n",
       "| -4     |  13609 |\n",
       "| -6     |  13874 |\n",
       "| -7     |   7520 |\n",
       "| -8     |  14827 |\n",
       "| 0      |  86061 |\n",
       "| 1      | 123880 |\n",
       "| 10     |    124 |\n",
       "| 2      |  40500 |\n",
       "| 3      |  41112 |\n",
       "| 4      | 126312 |\n",
       "| 5      |  57323 |\n",
       "| 6      |  67424 |\n",
       "| 7      |  49737 |\n",
       "| 8      | 134224 |\n",
       "| NA     |  38593 |\n",
       "\n"
      ],
      "text/plain": [
       "   yearDiff n     \n",
       "1  -1        56110\n",
       "2  -2        62825\n",
       "3  -3        82930\n",
       "4  -4        13609\n",
       "5  -6        13874\n",
       "6  -7         7520\n",
       "7  -8        14827\n",
       "8  0         86061\n",
       "9  1        123880\n",
       "10 10          124\n",
       "11 2         40500\n",
       "12 3         41112\n",
       "13 4        126312\n",
       "14 5         57323\n",
       "15 6         67424\n",
       "16 7         49737\n",
       "17 8        134224\n",
       "18 NA        38593"
      ]
     },
     "metadata": {},
     "output_type": "display_data"
    }
   ],
   "source": [
    "# points %>% st_drop_geometry()\n",
    "# points$mm\n",
    "points %>% st_drop_geometry() %>% group_by(mm) %>% tally()\n",
    "points %>% st_drop_geometry() %>% group_by(fireFlag) %>% tally()\n",
    "points %>% st_drop_geometry() %>% group_by(yearDiff) %>% tally()"
   ]
  },
  {
   "cell_type": "markdown",
   "id": "c187f8d1-9e10-47bb-9583-cbcd6737912e",
   "metadata": {},
   "source": [
    "Filter points to include only July/August, exclude points with very recent fire or fire between image and ifsar acquisition, and points with > 3 years between image and ifsar acquisition."
   ]
  },
  {
   "cell_type": "code",
   "execution_count": 7,
   "id": "e993ea8a-f57d-4956-b7fc-e0d8d72cc762",
   "metadata": {},
   "outputs": [
    {
     "name": "stderr",
     "output_type": "stream",
     "text": [
      "Warning message in between(as.integer(yearDiff), -3, 3):\n",
      "“NAs introduced by coercion”"
     ]
    },
    {
     "data": {
      "text/html": [
       "<table>\n",
       "<thead><tr><th scope=col>trainValTest</th><th scope=col>n</th></tr></thead>\n",
       "<tbody>\n",
       "\t<tr><td>test </td><td>19603</td></tr>\n",
       "\t<tr><td>train</td><td>85478</td></tr>\n",
       "\t<tr><td>val  </td><td>85132</td></tr>\n",
       "</tbody>\n",
       "</table>\n"
      ],
      "text/latex": [
       "\\begin{tabular}{r|ll}\n",
       " trainValTest & n\\\\\n",
       "\\hline\n",
       "\t test  & 19603\\\\\n",
       "\t train & 85478\\\\\n",
       "\t val   & 85132\\\\\n",
       "\\end{tabular}\n"
      ],
      "text/markdown": [
       "\n",
       "| trainValTest | n |\n",
       "|---|---|\n",
       "| test  | 19603 |\n",
       "| train | 85478 |\n",
       "| val   | 85132 |\n",
       "\n"
      ],
      "text/plain": [
       "  trainValTest n    \n",
       "1 test         19603\n",
       "2 train        85478\n",
       "3 val          85132"
      ]
     },
     "metadata": {},
     "output_type": "display_data"
    },
    {
     "data": {
      "text/html": [
       "1016985"
      ],
      "text/latex": [
       "1016985"
      ],
      "text/markdown": [
       "1016985"
      ],
      "text/plain": [
       "[1] 1016985"
      ]
     },
     "metadata": {},
     "output_type": "display_data"
    },
    {
     "data": {
      "text/html": [
       "190213"
      ],
      "text/latex": [
       "190213"
      ],
      "text/markdown": [
       "190213"
      ],
      "text/plain": [
       "[1] 190213"
      ]
     },
     "metadata": {},
     "output_type": "display_data"
    }
   ],
   "source": [
    "filtered_points <- points %>%\n",
    "dplyr::filter(between(mm, 7, 8),\n",
    "       fireFlag == 'FALSE',\n",
    "       between(as.integer(yearDiff), -3, 3)) %>%\n",
    "mutate(trainValTest = case_when(\n",
    "    random < 0.45 ~ 'train',\n",
    "    random < 0.90 ~ 'val',\n",
    "    T ~ 'test'))\n",
    "\n",
    "filtered_points %>% st_drop_geometry() %>% group_by(trainValTest) %>% tally()\n",
    "\n",
    "# filtered_points %>% st_drop_geometry()\n",
    "nrow(points)\n",
    "nrow(filtered_points)"
   ]
  },
  {
   "cell_type": "code",
   "execution_count": 41,
   "id": "c010b653-d85b-4806-945d-85cb0a1041e5",
   "metadata": {},
   "outputs": [],
   "source": [
    "filtered_points_rebal_sqrt <- filtered_points %>%\n",
    "  mutate(chm_mean_dm_i = as.integer(chm_mean_dm_i)) %>%\n",
    "  filter(!is.na(chm_mean_dm_i)) %>%\n",
    "  # filter(trainValTest %in% c('train','val')) %>%\n",
    "  group_by(chm_mean_dm_i) %>%\n",
    "  mutate(n = n(),\n",
    "         freq = n / sum(n),\n",
    "         sqrt_n = sqrt(n),\n",
    "         swrt_freq = sqrt_n / sum(sqrt_n)) %>%\n",
    "  ungroup() %>%\n",
    "  # slice_sample(n=33333, weight_by=1/sqrt_n)\n",
    "  slice_sample(n=33333, weight_by=1/sqrt_n)\n",
    "\n",
    "sqrtByChm <- filtered_points_rebal_sqrt %>%\n",
    "  st_drop_geometry() %>%\n",
    "  group_by(chm_mean_dm_i) %>%\n",
    "  summarize(n = n()) %>%\n",
    "  mutate(freq = n / sum(n))\n",
    "\n",
    "sqrtByTrainTest <- filtered_points_rebal_sqrt %>%\n",
    "  st_drop_geometry() %>%\n",
    "  group_by(trainValTest) %>%\n",
    "  tally()\n",
    "\n",
    "sqrtByBaseName <- filtered_points_rebal_sqrt %>%\n",
    "  st_drop_geometry() %>%\n",
    "  group_by(baseName) %>%\n",
    "  tally()\n",
    "\n",
    "# mapview(filtered_points_rebal_sqrt, zcol='chm_mean_dm_i')\n",
    "# mapview(filtered_points_rebal_sqrt %>% select(trainValTest), zcol='trainValTest')\n",
    "\n",
    "trainLte1mCHM <- filtered_points_rebal_sqrt %>%\n",
    "  filter(chm_mean_dm_i <= 10)\n",
    "# mapview(trainLte1mCHM %>% select(chm_mean_dm_i), zcol='chm_mean_dm_i')\n",
    "\n",
    "write_csv(filtered_points_rebal_sqrt %>% st_drop_geometry(), \n",
    "          path(outPath, 'ifsarChm_x_srlite_alaska_v20230401_filt78_33k.csv'))\n",
    "       \n",
    "# nrow(filtered_points_train)\n",
    "\n",
    "# filtered_points_train %>% st_drop_geometry() %>% group_by(epsg) %>% tally()"
   ]
  },
  {
   "cell_type": "code",
   "execution_count": 42,
   "id": "a0f1920e-0138-45ad-afa9-e3569639dd1e",
   "metadata": {},
   "outputs": [
    {
     "data": {
      "text/html": [
       "<style>\n",
       ".list-inline {list-style: none; margin:0; padding: 0}\n",
       ".list-inline>li {display: inline-block}\n",
       ".list-inline>li:not(:last-child)::after {content: \"\\00b7\"; padding: 0 .5ex}\n",
       "</style>\n",
       "<ol class=list-inline><li>'FID_fishnet_512m_label'</li><li>'FID_Alaska_srlite_fp_detailed_buff_minus362m'</li><li>'utm'</li><li>'epsg'</li><li>'baseName'</li><li>'year'</li><li>'mm'</li><li>'dd'</li><li>'sensor'</li><li>'granuleID'</li><li>'chip_gran_id'</li><li>'random'</li><li>'chipName'</li><li>'chm_mean'</li><li>'chm_mean_dm_i'</li><li>'ifsar_year'</li><li>'fireYear_minus_imageYear'</li><li>'fireYear_minus_ifsarYear'</li><li>'fireFlag'</li><li>'mrfy_min'</li><li>'mrfy_max'</li><li>'Name'</li><li>'MinPS'</li><li>'MaxPS'</li><li>'LowPS'</li><li>'HighPS'</li><li>'Category'</li><li>'Tag'</li><li>'GroupName'</li><li>'ProductName'</li><li>'CenterX'</li><li>'CenterY'</li><li>'ZOrder'</li><li>'TypeID'</li><li>'ItemTS'</li><li>'UriHash'</li><li>'BUFF_DIST'</li><li>'ORIG_FID'</li><li>'cell'</li><li>'status'</li><li>'date_start'</li><li>'date_end'</li><li>'date_pub'</li><li>'collector'</li><li>'sq_miles'</li><li>'task_order'</li><li>'globalid'</li><li>'created_us'</li><li>'created_da'</li><li>'last_edite'</li><li>'last_edi_1'</li><li>'Shape__Are'</li><li>'Shape__Len'</li><li>'yearDiff'</li><li>'lat'</li><li>'long'</li><li>'geometry'</li><li>'trainValTest'</li><li>'n'</li><li>'freq'</li><li>'sqrt_n'</li><li>'swrt_freq'</li></ol>\n"
      ],
      "text/latex": [
       "\\begin{enumerate*}\n",
       "\\item 'FID\\_fishnet\\_512m\\_label'\n",
       "\\item 'FID\\_Alaska\\_srlite\\_fp\\_detailed\\_buff\\_minus362m'\n",
       "\\item 'utm'\n",
       "\\item 'epsg'\n",
       "\\item 'baseName'\n",
       "\\item 'year'\n",
       "\\item 'mm'\n",
       "\\item 'dd'\n",
       "\\item 'sensor'\n",
       "\\item 'granuleID'\n",
       "\\item 'chip\\_gran\\_id'\n",
       "\\item 'random'\n",
       "\\item 'chipName'\n",
       "\\item 'chm\\_mean'\n",
       "\\item 'chm\\_mean\\_dm\\_i'\n",
       "\\item 'ifsar\\_year'\n",
       "\\item 'fireYear\\_minus\\_imageYear'\n",
       "\\item 'fireYear\\_minus\\_ifsarYear'\n",
       "\\item 'fireFlag'\n",
       "\\item 'mrfy\\_min'\n",
       "\\item 'mrfy\\_max'\n",
       "\\item 'Name'\n",
       "\\item 'MinPS'\n",
       "\\item 'MaxPS'\n",
       "\\item 'LowPS'\n",
       "\\item 'HighPS'\n",
       "\\item 'Category'\n",
       "\\item 'Tag'\n",
       "\\item 'GroupName'\n",
       "\\item 'ProductName'\n",
       "\\item 'CenterX'\n",
       "\\item 'CenterY'\n",
       "\\item 'ZOrder'\n",
       "\\item 'TypeID'\n",
       "\\item 'ItemTS'\n",
       "\\item 'UriHash'\n",
       "\\item 'BUFF\\_DIST'\n",
       "\\item 'ORIG\\_FID'\n",
       "\\item 'cell'\n",
       "\\item 'status'\n",
       "\\item 'date\\_start'\n",
       "\\item 'date\\_end'\n",
       "\\item 'date\\_pub'\n",
       "\\item 'collector'\n",
       "\\item 'sq\\_miles'\n",
       "\\item 'task\\_order'\n",
       "\\item 'globalid'\n",
       "\\item 'created\\_us'\n",
       "\\item 'created\\_da'\n",
       "\\item 'last\\_edite'\n",
       "\\item 'last\\_edi\\_1'\n",
       "\\item 'Shape\\_\\_Are'\n",
       "\\item 'Shape\\_\\_Len'\n",
       "\\item 'yearDiff'\n",
       "\\item 'lat'\n",
       "\\item 'long'\n",
       "\\item 'geometry'\n",
       "\\item 'trainValTest'\n",
       "\\item 'n'\n",
       "\\item 'freq'\n",
       "\\item 'sqrt\\_n'\n",
       "\\item 'swrt\\_freq'\n",
       "\\end{enumerate*}\n"
      ],
      "text/markdown": [
       "1. 'FID_fishnet_512m_label'\n",
       "2. 'FID_Alaska_srlite_fp_detailed_buff_minus362m'\n",
       "3. 'utm'\n",
       "4. 'epsg'\n",
       "5. 'baseName'\n",
       "6. 'year'\n",
       "7. 'mm'\n",
       "8. 'dd'\n",
       "9. 'sensor'\n",
       "10. 'granuleID'\n",
       "11. 'chip_gran_id'\n",
       "12. 'random'\n",
       "13. 'chipName'\n",
       "14. 'chm_mean'\n",
       "15. 'chm_mean_dm_i'\n",
       "16. 'ifsar_year'\n",
       "17. 'fireYear_minus_imageYear'\n",
       "18. 'fireYear_minus_ifsarYear'\n",
       "19. 'fireFlag'\n",
       "20. 'mrfy_min'\n",
       "21. 'mrfy_max'\n",
       "22. 'Name'\n",
       "23. 'MinPS'\n",
       "24. 'MaxPS'\n",
       "25. 'LowPS'\n",
       "26. 'HighPS'\n",
       "27. 'Category'\n",
       "28. 'Tag'\n",
       "29. 'GroupName'\n",
       "30. 'ProductName'\n",
       "31. 'CenterX'\n",
       "32. 'CenterY'\n",
       "33. 'ZOrder'\n",
       "34. 'TypeID'\n",
       "35. 'ItemTS'\n",
       "36. 'UriHash'\n",
       "37. 'BUFF_DIST'\n",
       "38. 'ORIG_FID'\n",
       "39. 'cell'\n",
       "40. 'status'\n",
       "41. 'date_start'\n",
       "42. 'date_end'\n",
       "43. 'date_pub'\n",
       "44. 'collector'\n",
       "45. 'sq_miles'\n",
       "46. 'task_order'\n",
       "47. 'globalid'\n",
       "48. 'created_us'\n",
       "49. 'created_da'\n",
       "50. 'last_edite'\n",
       "51. 'last_edi_1'\n",
       "52. 'Shape__Are'\n",
       "53. 'Shape__Len'\n",
       "54. 'yearDiff'\n",
       "55. 'lat'\n",
       "56. 'long'\n",
       "57. 'geometry'\n",
       "58. 'trainValTest'\n",
       "59. 'n'\n",
       "60. 'freq'\n",
       "61. 'sqrt_n'\n",
       "62. 'swrt_freq'\n",
       "\n",
       "\n"
      ],
      "text/plain": [
       " [1] \"FID_fishnet_512m_label\"                      \n",
       " [2] \"FID_Alaska_srlite_fp_detailed_buff_minus362m\"\n",
       " [3] \"utm\"                                         \n",
       " [4] \"epsg\"                                        \n",
       " [5] \"baseName\"                                    \n",
       " [6] \"year\"                                        \n",
       " [7] \"mm\"                                          \n",
       " [8] \"dd\"                                          \n",
       " [9] \"sensor\"                                      \n",
       "[10] \"granuleID\"                                   \n",
       "[11] \"chip_gran_id\"                                \n",
       "[12] \"random\"                                      \n",
       "[13] \"chipName\"                                    \n",
       "[14] \"chm_mean\"                                    \n",
       "[15] \"chm_mean_dm_i\"                               \n",
       "[16] \"ifsar_year\"                                  \n",
       "[17] \"fireYear_minus_imageYear\"                    \n",
       "[18] \"fireYear_minus_ifsarYear\"                    \n",
       "[19] \"fireFlag\"                                    \n",
       "[20] \"mrfy_min\"                                    \n",
       "[21] \"mrfy_max\"                                    \n",
       "[22] \"Name\"                                        \n",
       "[23] \"MinPS\"                                       \n",
       "[24] \"MaxPS\"                                       \n",
       "[25] \"LowPS\"                                       \n",
       "[26] \"HighPS\"                                      \n",
       "[27] \"Category\"                                    \n",
       "[28] \"Tag\"                                         \n",
       "[29] \"GroupName\"                                   \n",
       "[30] \"ProductName\"                                 \n",
       "[31] \"CenterX\"                                     \n",
       "[32] \"CenterY\"                                     \n",
       "[33] \"ZOrder\"                                      \n",
       "[34] \"TypeID\"                                      \n",
       "[35] \"ItemTS\"                                      \n",
       "[36] \"UriHash\"                                     \n",
       "[37] \"BUFF_DIST\"                                   \n",
       "[38] \"ORIG_FID\"                                    \n",
       "[39] \"cell\"                                        \n",
       "[40] \"status\"                                      \n",
       "[41] \"date_start\"                                  \n",
       "[42] \"date_end\"                                    \n",
       "[43] \"date_pub\"                                    \n",
       "[44] \"collector\"                                   \n",
       "[45] \"sq_miles\"                                    \n",
       "[46] \"task_order\"                                  \n",
       "[47] \"globalid\"                                    \n",
       "[48] \"created_us\"                                  \n",
       "[49] \"created_da\"                                  \n",
       "[50] \"last_edite\"                                  \n",
       "[51] \"last_edi_1\"                                  \n",
       "[52] \"Shape__Are\"                                  \n",
       "[53] \"Shape__Len\"                                  \n",
       "[54] \"yearDiff\"                                    \n",
       "[55] \"lat\"                                         \n",
       "[56] \"long\"                                        \n",
       "[57] \"geometry\"                                    \n",
       "[58] \"trainValTest\"                                \n",
       "[59] \"n\"                                           \n",
       "[60] \"freq\"                                        \n",
       "[61] \"sqrt_n\"                                      \n",
       "[62] \"swrt_freq\"                                   "
      ]
     },
     "metadata": {},
     "output_type": "display_data"
    }
   ],
   "source": [
    "# filtered_points %>% st_drop_geometry()\n",
    "filtered_points_rebal_sqrt %>% colnames()\n",
    "filtered_points_rebal_sqrt %>% st_drop_geometry() %>% group_by(chm_mean_dm_i) %>% mutate(chm_mean_dm_i = as.integer(chm_mean_dm_i)) %>% tally() %>%\n",
    "write_csv(path(outPath, 'ifsarChm_x_srlite_alaska_v20230401_filt78_33k_chm_mean_dm_i_summary.csv'))\n",
    "\n"
   ]
  },
  {
   "cell_type": "code",
   "execution_count": 43,
   "id": "b265211f-355a-4be3-9118-65186fe1e069",
   "metadata": {},
   "outputs": [
    {
     "data": {
      "text/html": [
       "5000"
      ],
      "text/latex": [
       "5000"
      ],
      "text/markdown": [
       "5000"
      ],
      "text/plain": [
       "[1] 5000"
      ]
     },
     "metadata": {},
     "output_type": "display_data"
    },
    {
     "data": {
      "text/html": [
       "<table class=\"dataframe\">\n",
       "<caption>A tibble: 89 × 3</caption>\n",
       "<thead>\n",
       "\t<tr><th scope=col>chm_mean_dm_i</th><th scope=col>n</th><th scope=col>freq</th></tr>\n",
       "\t<tr><th scope=col>&lt;int&gt;</th><th scope=col>&lt;int&gt;</th><th scope=col>&lt;dbl&gt;</th></tr>\n",
       "</thead>\n",
       "<tbody>\n",
       "\t<tr><td> 0</td><td>3052</td><td>0.6104</td></tr>\n",
       "\t<tr><td> 1</td><td> 275</td><td>0.0550</td></tr>\n",
       "\t<tr><td> 2</td><td> 108</td><td>0.0216</td></tr>\n",
       "\t<tr><td> 3</td><td>  88</td><td>0.0176</td></tr>\n",
       "\t<tr><td> 4</td><td>  78</td><td>0.0156</td></tr>\n",
       "\t<tr><td> 5</td><td>  60</td><td>0.0120</td></tr>\n",
       "\t<tr><td> 6</td><td>  50</td><td>0.0100</td></tr>\n",
       "\t<tr><td> 7</td><td>  49</td><td>0.0098</td></tr>\n",
       "\t<tr><td> 8</td><td>  43</td><td>0.0086</td></tr>\n",
       "\t<tr><td> 9</td><td>  48</td><td>0.0096</td></tr>\n",
       "\t<tr><td>10</td><td>  53</td><td>0.0106</td></tr>\n",
       "\t<tr><td>11</td><td>  39</td><td>0.0078</td></tr>\n",
       "\t<tr><td>12</td><td>  37</td><td>0.0074</td></tr>\n",
       "\t<tr><td>13</td><td>  42</td><td>0.0084</td></tr>\n",
       "\t<tr><td>14</td><td>  51</td><td>0.0102</td></tr>\n",
       "\t<tr><td>15</td><td>  35</td><td>0.0070</td></tr>\n",
       "\t<tr><td>16</td><td>  35</td><td>0.0070</td></tr>\n",
       "\t<tr><td>17</td><td>  27</td><td>0.0054</td></tr>\n",
       "\t<tr><td>18</td><td>  41</td><td>0.0082</td></tr>\n",
       "\t<tr><td>19</td><td>  39</td><td>0.0078</td></tr>\n",
       "\t<tr><td>20</td><td>  49</td><td>0.0098</td></tr>\n",
       "\t<tr><td>21</td><td>  37</td><td>0.0074</td></tr>\n",
       "\t<tr><td>22</td><td>  34</td><td>0.0068</td></tr>\n",
       "\t<tr><td>23</td><td>  31</td><td>0.0062</td></tr>\n",
       "\t<tr><td>24</td><td>  34</td><td>0.0068</td></tr>\n",
       "\t<tr><td>25</td><td>  33</td><td>0.0066</td></tr>\n",
       "\t<tr><td>26</td><td>  28</td><td>0.0056</td></tr>\n",
       "\t<tr><td>27</td><td>  26</td><td>0.0052</td></tr>\n",
       "\t<tr><td>28</td><td>  32</td><td>0.0064</td></tr>\n",
       "\t<tr><td>29</td><td>  25</td><td>0.0050</td></tr>\n",
       "\t<tr><td>⋮</td><td>⋮</td><td>⋮</td></tr>\n",
       "\t<tr><td> 59</td><td>3</td><td>6e-04</td></tr>\n",
       "\t<tr><td> 60</td><td>4</td><td>8e-04</td></tr>\n",
       "\t<tr><td> 61</td><td>5</td><td>1e-03</td></tr>\n",
       "\t<tr><td> 62</td><td>1</td><td>2e-04</td></tr>\n",
       "\t<tr><td> 63</td><td>2</td><td>4e-04</td></tr>\n",
       "\t<tr><td> 64</td><td>3</td><td>6e-04</td></tr>\n",
       "\t<tr><td> 65</td><td>1</td><td>2e-04</td></tr>\n",
       "\t<tr><td> 66</td><td>1</td><td>2e-04</td></tr>\n",
       "\t<tr><td> 68</td><td>3</td><td>6e-04</td></tr>\n",
       "\t<tr><td> 71</td><td>3</td><td>6e-04</td></tr>\n",
       "\t<tr><td> 73</td><td>1</td><td>2e-04</td></tr>\n",
       "\t<tr><td> 74</td><td>1</td><td>2e-04</td></tr>\n",
       "\t<tr><td> 75</td><td>2</td><td>4e-04</td></tr>\n",
       "\t<tr><td> 76</td><td>2</td><td>4e-04</td></tr>\n",
       "\t<tr><td> 78</td><td>3</td><td>6e-04</td></tr>\n",
       "\t<tr><td> 79</td><td>2</td><td>4e-04</td></tr>\n",
       "\t<tr><td> 80</td><td>1</td><td>2e-04</td></tr>\n",
       "\t<tr><td> 82</td><td>3</td><td>6e-04</td></tr>\n",
       "\t<tr><td> 83</td><td>2</td><td>4e-04</td></tr>\n",
       "\t<tr><td> 86</td><td>1</td><td>2e-04</td></tr>\n",
       "\t<tr><td> 88</td><td>1</td><td>2e-04</td></tr>\n",
       "\t<tr><td> 90</td><td>1</td><td>2e-04</td></tr>\n",
       "\t<tr><td> 91</td><td>1</td><td>2e-04</td></tr>\n",
       "\t<tr><td> 94</td><td>1</td><td>2e-04</td></tr>\n",
       "\t<tr><td> 95</td><td>1</td><td>2e-04</td></tr>\n",
       "\t<tr><td> 96</td><td>2</td><td>4e-04</td></tr>\n",
       "\t<tr><td> 98</td><td>2</td><td>4e-04</td></tr>\n",
       "\t<tr><td>100</td><td>1</td><td>2e-04</td></tr>\n",
       "\t<tr><td>119</td><td>1</td><td>2e-04</td></tr>\n",
       "\t<tr><td>140</td><td>1</td><td>2e-04</td></tr>\n",
       "</tbody>\n",
       "</table>\n"
      ],
      "text/latex": [
       "A tibble: 89 × 3\n",
       "\\begin{tabular}{lll}\n",
       " chm\\_mean\\_dm\\_i & n & freq\\\\\n",
       " <int> & <int> & <dbl>\\\\\n",
       "\\hline\n",
       "\t  0 & 3052 & 0.6104\\\\\n",
       "\t  1 &  275 & 0.0550\\\\\n",
       "\t  2 &  108 & 0.0216\\\\\n",
       "\t  3 &   88 & 0.0176\\\\\n",
       "\t  4 &   78 & 0.0156\\\\\n",
       "\t  5 &   60 & 0.0120\\\\\n",
       "\t  6 &   50 & 0.0100\\\\\n",
       "\t  7 &   49 & 0.0098\\\\\n",
       "\t  8 &   43 & 0.0086\\\\\n",
       "\t  9 &   48 & 0.0096\\\\\n",
       "\t 10 &   53 & 0.0106\\\\\n",
       "\t 11 &   39 & 0.0078\\\\\n",
       "\t 12 &   37 & 0.0074\\\\\n",
       "\t 13 &   42 & 0.0084\\\\\n",
       "\t 14 &   51 & 0.0102\\\\\n",
       "\t 15 &   35 & 0.0070\\\\\n",
       "\t 16 &   35 & 0.0070\\\\\n",
       "\t 17 &   27 & 0.0054\\\\\n",
       "\t 18 &   41 & 0.0082\\\\\n",
       "\t 19 &   39 & 0.0078\\\\\n",
       "\t 20 &   49 & 0.0098\\\\\n",
       "\t 21 &   37 & 0.0074\\\\\n",
       "\t 22 &   34 & 0.0068\\\\\n",
       "\t 23 &   31 & 0.0062\\\\\n",
       "\t 24 &   34 & 0.0068\\\\\n",
       "\t 25 &   33 & 0.0066\\\\\n",
       "\t 26 &   28 & 0.0056\\\\\n",
       "\t 27 &   26 & 0.0052\\\\\n",
       "\t 28 &   32 & 0.0064\\\\\n",
       "\t 29 &   25 & 0.0050\\\\\n",
       "\t ⋮ & ⋮ & ⋮\\\\\n",
       "\t  59 & 3 & 6e-04\\\\\n",
       "\t  60 & 4 & 8e-04\\\\\n",
       "\t  61 & 5 & 1e-03\\\\\n",
       "\t  62 & 1 & 2e-04\\\\\n",
       "\t  63 & 2 & 4e-04\\\\\n",
       "\t  64 & 3 & 6e-04\\\\\n",
       "\t  65 & 1 & 2e-04\\\\\n",
       "\t  66 & 1 & 2e-04\\\\\n",
       "\t  68 & 3 & 6e-04\\\\\n",
       "\t  71 & 3 & 6e-04\\\\\n",
       "\t  73 & 1 & 2e-04\\\\\n",
       "\t  74 & 1 & 2e-04\\\\\n",
       "\t  75 & 2 & 4e-04\\\\\n",
       "\t  76 & 2 & 4e-04\\\\\n",
       "\t  78 & 3 & 6e-04\\\\\n",
       "\t  79 & 2 & 4e-04\\\\\n",
       "\t  80 & 1 & 2e-04\\\\\n",
       "\t  82 & 3 & 6e-04\\\\\n",
       "\t  83 & 2 & 4e-04\\\\\n",
       "\t  86 & 1 & 2e-04\\\\\n",
       "\t  88 & 1 & 2e-04\\\\\n",
       "\t  90 & 1 & 2e-04\\\\\n",
       "\t  91 & 1 & 2e-04\\\\\n",
       "\t  94 & 1 & 2e-04\\\\\n",
       "\t  95 & 1 & 2e-04\\\\\n",
       "\t  96 & 2 & 4e-04\\\\\n",
       "\t  98 & 2 & 4e-04\\\\\n",
       "\t 100 & 1 & 2e-04\\\\\n",
       "\t 119 & 1 & 2e-04\\\\\n",
       "\t 140 & 1 & 2e-04\\\\\n",
       "\\end{tabular}\n"
      ],
      "text/markdown": [
       "\n",
       "A tibble: 89 × 3\n",
       "\n",
       "| chm_mean_dm_i &lt;int&gt; | n &lt;int&gt; | freq &lt;dbl&gt; |\n",
       "|---|---|---|\n",
       "|  0 | 3052 | 0.6104 |\n",
       "|  1 |  275 | 0.0550 |\n",
       "|  2 |  108 | 0.0216 |\n",
       "|  3 |   88 | 0.0176 |\n",
       "|  4 |   78 | 0.0156 |\n",
       "|  5 |   60 | 0.0120 |\n",
       "|  6 |   50 | 0.0100 |\n",
       "|  7 |   49 | 0.0098 |\n",
       "|  8 |   43 | 0.0086 |\n",
       "|  9 |   48 | 0.0096 |\n",
       "| 10 |   53 | 0.0106 |\n",
       "| 11 |   39 | 0.0078 |\n",
       "| 12 |   37 | 0.0074 |\n",
       "| 13 |   42 | 0.0084 |\n",
       "| 14 |   51 | 0.0102 |\n",
       "| 15 |   35 | 0.0070 |\n",
       "| 16 |   35 | 0.0070 |\n",
       "| 17 |   27 | 0.0054 |\n",
       "| 18 |   41 | 0.0082 |\n",
       "| 19 |   39 | 0.0078 |\n",
       "| 20 |   49 | 0.0098 |\n",
       "| 21 |   37 | 0.0074 |\n",
       "| 22 |   34 | 0.0068 |\n",
       "| 23 |   31 | 0.0062 |\n",
       "| 24 |   34 | 0.0068 |\n",
       "| 25 |   33 | 0.0066 |\n",
       "| 26 |   28 | 0.0056 |\n",
       "| 27 |   26 | 0.0052 |\n",
       "| 28 |   32 | 0.0064 |\n",
       "| 29 |   25 | 0.0050 |\n",
       "| ⋮ | ⋮ | ⋮ |\n",
       "|  59 | 3 | 6e-04 |\n",
       "|  60 | 4 | 8e-04 |\n",
       "|  61 | 5 | 1e-03 |\n",
       "|  62 | 1 | 2e-04 |\n",
       "|  63 | 2 | 4e-04 |\n",
       "|  64 | 3 | 6e-04 |\n",
       "|  65 | 1 | 2e-04 |\n",
       "|  66 | 1 | 2e-04 |\n",
       "|  68 | 3 | 6e-04 |\n",
       "|  71 | 3 | 6e-04 |\n",
       "|  73 | 1 | 2e-04 |\n",
       "|  74 | 1 | 2e-04 |\n",
       "|  75 | 2 | 4e-04 |\n",
       "|  76 | 2 | 4e-04 |\n",
       "|  78 | 3 | 6e-04 |\n",
       "|  79 | 2 | 4e-04 |\n",
       "|  80 | 1 | 2e-04 |\n",
       "|  82 | 3 | 6e-04 |\n",
       "|  83 | 2 | 4e-04 |\n",
       "|  86 | 1 | 2e-04 |\n",
       "|  88 | 1 | 2e-04 |\n",
       "|  90 | 1 | 2e-04 |\n",
       "|  91 | 1 | 2e-04 |\n",
       "|  94 | 1 | 2e-04 |\n",
       "|  95 | 1 | 2e-04 |\n",
       "|  96 | 2 | 4e-04 |\n",
       "|  98 | 2 | 4e-04 |\n",
       "| 100 | 1 | 2e-04 |\n",
       "| 119 | 1 | 2e-04 |\n",
       "| 140 | 1 | 2e-04 |\n",
       "\n"
      ],
      "text/plain": [
       "   chm_mean_dm_i n    freq  \n",
       "1   0            3052 0.6104\n",
       "2   1             275 0.0550\n",
       "3   2             108 0.0216\n",
       "4   3              88 0.0176\n",
       "5   4              78 0.0156\n",
       "6   5              60 0.0120\n",
       "7   6              50 0.0100\n",
       "8   7              49 0.0098\n",
       "9   8              43 0.0086\n",
       "10  9              48 0.0096\n",
       "11 10              53 0.0106\n",
       "12 11              39 0.0078\n",
       "13 12              37 0.0074\n",
       "14 13              42 0.0084\n",
       "15 14              51 0.0102\n",
       "16 15              35 0.0070\n",
       "17 16              35 0.0070\n",
       "18 17              27 0.0054\n",
       "19 18              41 0.0082\n",
       "20 19              39 0.0078\n",
       "21 20              49 0.0098\n",
       "22 21              37 0.0074\n",
       "23 22              34 0.0068\n",
       "24 23              31 0.0062\n",
       "25 24              34 0.0068\n",
       "26 25              33 0.0066\n",
       "27 26              28 0.0056\n",
       "28 27              26 0.0052\n",
       "29 28              32 0.0064\n",
       "30 29              25 0.0050\n",
       "⋮  ⋮             ⋮    ⋮     \n",
       "60  59           3    6e-04 \n",
       "61  60           4    8e-04 \n",
       "62  61           5    1e-03 \n",
       "63  62           1    2e-04 \n",
       "64  63           2    4e-04 \n",
       "65  64           3    6e-04 \n",
       "66  65           1    2e-04 \n",
       "67  66           1    2e-04 \n",
       "68  68           3    6e-04 \n",
       "69  71           3    6e-04 \n",
       "70  73           1    2e-04 \n",
       "71  74           1    2e-04 \n",
       "72  75           2    4e-04 \n",
       "73  76           2    4e-04 \n",
       "74  78           3    6e-04 \n",
       "75  79           2    4e-04 \n",
       "76  80           1    2e-04 \n",
       "77  82           3    6e-04 \n",
       "78  83           2    4e-04 \n",
       "79  86           1    2e-04 \n",
       "80  88           1    2e-04 \n",
       "81  90           1    2e-04 \n",
       "82  91           1    2e-04 \n",
       "83  94           1    2e-04 \n",
       "84  95           1    2e-04 \n",
       "85  96           2    4e-04 \n",
       "86  98           2    4e-04 \n",
       "87 100           1    2e-04 \n",
       "88 119           1    2e-04 \n",
       "89 140           1    2e-04 "
      ]
     },
     "metadata": {},
     "output_type": "display_data"
    }
   ],
   "source": [
    "#Don't rebalance for test set\n",
    "filtered_points_test <- filtered_points %>%\n",
    "  mutate(chm_mean_dm_i = as.integer(chm_mean_dm_i)) %>%\n",
    "  filter(!is.na(chm_mean_dm_i)) %>%\n",
    "  filter(trainValTest %in% c('test')) %>%\n",
    "  ungroup() %>%\n",
    "  slice_sample(n=5000)\n",
    "\n",
    "# mapview(filtered_points_test %>% select(chm_mean_dm_i), zcol='chm_mean_dm_i')\n",
    "\n",
    "nrow(filtered_points_test)\n",
    "\n",
    "testByChm <- filtered_points_test %>%\n",
    "  st_drop_geometry() %>%\n",
    "  group_by(chm_mean_dm_i) %>%\n",
    "  summarize(n = n()) %>%\n",
    "  mutate(freq = n / sum(n))\n",
    "\n",
    "testByChm\n",
    "write_csv(filtered_points_test %>% st_drop_geometry(), \n",
    "          path(outPath, 'ifsarChm_x_srlite_alaska_v20230401_filt78_5k_test_noBal.csv'))\n"
   ]
  },
  {
   "cell_type": "markdown",
   "id": "83485437-3925-4c61-a7a1-5a693b4eede1",
   "metadata": {},
   "source": [
    "#slice_sample hacky fix\n",
    "\n",
    "https://github.com/tidyverse/dplyr/issues/6185#issuecomment-1330766323\n",
    "\n",
    "@erydit FWIW if you need this right away and can't install the dev package, this is pretty easy to \"patch\" by redefining dplyr:::sample_int with the code below. This is of course a bad idea in general, but may be useful as a temporary fix for development while waiting for the new release.\n",
    "\n",
    "I should probably mention I don't work at Rstudio and this hacky patch is not recommended by them I'd guess :)\n",
    "\n"
   ]
  },
  {
   "cell_type": "code",
   "execution_count": 44,
   "id": "4f43c351-5409-47f1-b174-7779bccdfebf",
   "metadata": {},
   "outputs": [],
   "source": [
    "\n",
    "# sample_int <- function(n, size, replace = FALSE, wt = NULL, call = caller_env()) {\n",
    "#   if (!replace && n < size) {\n",
    "#    size <- n\n",
    "#   }\n",
    "\n",
    "#   if (size == 0L) {\n",
    "#     integer(0)\n",
    "#   } else {\n",
    "#     sample.int(n, size, prob = wt, replace = replace)\n",
    "#   }\n",
    "# }\n",
    "\n",
    "# assignInNamespace('sample_int', sample_int, 'dplyr')\n"
   ]
  },
  {
   "cell_type": "code",
   "execution_count": 45,
   "id": "796ba141-3458-4c3a-954f-b2b3d658df36",
   "metadata": {},
   "outputs": [
    {
     "data": {
      "text/html": [
       "33333"
      ],
      "text/latex": [
       "33333"
      ],
      "text/markdown": [
       "33333"
      ],
      "text/plain": [
       "[1] 33333"
      ]
     },
     "metadata": {},
     "output_type": "display_data"
    },
    {
     "data": {
      "text/html": [
       "<table class=\"dataframe\">\n",
       "<caption>A tibble: 5 × 2</caption>\n",
       "<thead>\n",
       "\t<tr><th scope=col>epsg</th><th scope=col>n</th></tr>\n",
       "\t<tr><th scope=col>&lt;int&gt;</th><th scope=col>&lt;int&gt;</th></tr>\n",
       "</thead>\n",
       "<tbody>\n",
       "\t<tr><td>32603</td><td> 1973</td></tr>\n",
       "\t<tr><td>32604</td><td>16730</td></tr>\n",
       "\t<tr><td>32605</td><td> 1280</td></tr>\n",
       "\t<tr><td>32606</td><td> 9638</td></tr>\n",
       "\t<tr><td>32607</td><td>  300</td></tr>\n",
       "</tbody>\n",
       "</table>\n"
      ],
      "text/latex": [
       "A tibble: 5 × 2\n",
       "\\begin{tabular}{ll}\n",
       " epsg & n\\\\\n",
       " <int> & <int>\\\\\n",
       "\\hline\n",
       "\t 32603 &  1973\\\\\n",
       "\t 32604 & 16730\\\\\n",
       "\t 32605 &  1280\\\\\n",
       "\t 32606 &  9638\\\\\n",
       "\t 32607 &   300\\\\\n",
       "\\end{tabular}\n"
      ],
      "text/markdown": [
       "\n",
       "A tibble: 5 × 2\n",
       "\n",
       "| epsg &lt;int&gt; | n &lt;int&gt; |\n",
       "|---|---|\n",
       "| 32603 |  1973 |\n",
       "| 32604 | 16730 |\n",
       "| 32605 |  1280 |\n",
       "| 32606 |  9638 |\n",
       "| 32607 |   300 |\n",
       "\n"
      ],
      "text/plain": [
       "  epsg  n    \n",
       "1 32603  1973\n",
       "2 32604 16730\n",
       "3 32605  1280\n",
       "4 32606  9638\n",
       "5 32607   300"
      ]
     },
     "metadata": {},
     "output_type": "display_data"
    },
    {
     "data": {
      "text/html": [
       "29921"
      ],
      "text/latex": [
       "29921"
      ],
      "text/markdown": [
       "29921"
      ],
      "text/plain": [
       "[1] 29921"
      ]
     },
     "metadata": {},
     "output_type": "display_data"
    }
   ],
   "source": [
    "# filtered_points_rebal <- filtered_points %>%\n",
    "#   mutate(chm_mean_dm_i = as.integer(chm_mean_dm_i)) %>%\n",
    "#   group_by(chm_mean_dm_i) %>%\n",
    "#   slice_sample(n=500)\n",
    "\n",
    "# filtered_points_rebal %>% st_drop_geometry() %>% group_by(chm_mean_dm_i) %>% mutate(chm_mean_dm_i = as.integer(chm_mean_dm_i)) %>% tally()\n",
    "nrow(filtered_points_rebal_sqrt)\n",
    "\n",
    "filtered_points_train <- filtered_points_rebal_sqrt %>%\n",
    "    filter(trainValTest %in% c('train','val'))\n",
    "\n",
    "filtered_points_train %>% st_drop_geometry() %>% group_by(epsg) %>% tally()\n",
    "\n",
    "nrow(filtered_points_train)\n"
   ]
  },
  {
   "cell_type": "markdown",
   "id": "ec1bb6ba-51c0-440f-94f1-37d89faeb673",
   "metadata": {},
   "source": [
    "Turn sample points into 256x256 pixel bounding box in approrpriate UTM zone"
   ]
  },
  {
   "cell_type": "code",
   "execution_count": 46,
   "id": "f3f8c779-a3fc-4163-97e7-e903d913381c",
   "metadata": {},
   "outputs": [],
   "source": [
    "# plot(points)\n",
    "\n",
    "# point <- head(points %>% filter(epsg==32606), n=2)\n",
    "# point %>% st_drop_geometry()\n",
    "# point_bb <- point %>%\n",
    "\n",
    "# points_32603 <- points %>%\n",
    "# filter(epsg == 32603) %>%\n",
    "# rowwise() %>%\n",
    "# mutate(utmPoint = st_transform(geometry, epsg),\n",
    "#        utmBuff = st_buffer(utmPoint, 256),\n",
    "#        utmBB = st_as_sfc(st_bbox(utmBuff)))\n",
    "\n",
    "points_bbox_epsg <- function(epsgCode, points) {\n",
    "    points_epsg <- points %>%\n",
    "    filter(epsg == epsgCode) %>%\n",
    "    rowwise() %>%\n",
    "    mutate(utmPoint = st_transform(geometry, epsgCode),\n",
    "           utmBuff = st_buffer(utmPoint, 256),\n",
    "           utmBB = st_as_sfc(st_bbox(utmBuff)))\n",
    "    }"
   ]
  },
  {
   "cell_type": "code",
   "execution_count": 47,
   "id": "0fb809a7-1c65-4b7a-ab84-20cae3fa7321",
   "metadata": {},
   "outputs": [
    {
     "name": "stdout",
     "output_type": "stream",
     "text": [
      "[1] 32603\n",
      "[1] 32604\n",
      "[1] 32605\n",
      "[1] 32606\n",
      "[1] 32607\n"
     ]
    }
   ],
   "source": [
    "print(32603)\n",
    "points_32603 <- points_bbox_epsg(32603, filtered_points_train)\n",
    "print(32604)\n",
    "points_32604 <- points_bbox_epsg(32604, filtered_points_train)\n",
    "print(32605)\n",
    "points_32605 <- points_bbox_epsg(32605, filtered_points_train)\n",
    "print(32606)\n",
    "points_32606 <- points_bbox_epsg(32606, filtered_points_train)\n",
    "print(32607)\n",
    "points_32607 <- points_bbox_epsg(32607, filtered_points_train)\n",
    "# points_32608 <- points_bbox_epsg(32608, points)\n",
    "# points_32609 <- points_bbox_epsg(32609, points)\n",
    "   \n",
    "# plot(points_32607$utmBB)\n",
    "# str(points_32603)"
   ]
  },
  {
   "cell_type": "code",
   "execution_count": 48,
   "id": "e63b172d-5228-44bc-a677-f8729927c662",
   "metadata": {},
   "outputs": [
    {
     "data": {
      "text/html": [
       "5000"
      ],
      "text/latex": [
       "5000"
      ],
      "text/markdown": [
       "5000"
      ],
      "text/plain": [
       "[1] 5000"
      ]
     },
     "metadata": {},
     "output_type": "display_data"
    },
    {
     "data": {
      "text/html": [
       "<table class=\"dataframe\">\n",
       "<caption>A tibble: 5 × 2</caption>\n",
       "<thead>\n",
       "\t<tr><th scope=col>epsg</th><th scope=col>n</th></tr>\n",
       "\t<tr><th scope=col>&lt;int&gt;</th><th scope=col>&lt;int&gt;</th></tr>\n",
       "</thead>\n",
       "<tbody>\n",
       "\t<tr><td>32603</td><td> 262</td></tr>\n",
       "\t<tr><td>32604</td><td>1898</td></tr>\n",
       "\t<tr><td>32605</td><td> 360</td></tr>\n",
       "\t<tr><td>32606</td><td>2437</td></tr>\n",
       "\t<tr><td>32607</td><td>  43</td></tr>\n",
       "</tbody>\n",
       "</table>\n"
      ],
      "text/latex": [
       "A tibble: 5 × 2\n",
       "\\begin{tabular}{ll}\n",
       " epsg & n\\\\\n",
       " <int> & <int>\\\\\n",
       "\\hline\n",
       "\t 32603 &  262\\\\\n",
       "\t 32604 & 1898\\\\\n",
       "\t 32605 &  360\\\\\n",
       "\t 32606 & 2437\\\\\n",
       "\t 32607 &   43\\\\\n",
       "\\end{tabular}\n"
      ],
      "text/markdown": [
       "\n",
       "A tibble: 5 × 2\n",
       "\n",
       "| epsg &lt;int&gt; | n &lt;int&gt; |\n",
       "|---|---|\n",
       "| 32603 |  262 |\n",
       "| 32604 | 1898 |\n",
       "| 32605 |  360 |\n",
       "| 32606 | 2437 |\n",
       "| 32607 |   43 |\n",
       "\n"
      ],
      "text/plain": [
       "  epsg  n   \n",
       "1 32603  262\n",
       "2 32604 1898\n",
       "3 32605  360\n",
       "4 32606 2437\n",
       "5 32607   43"
      ]
     },
     "metadata": {},
     "output_type": "display_data"
    }
   ],
   "source": [
    "# filtered_points_test <- filtered_points_rebal_sqrt %>%\n",
    "#     filter(trainValTest == 'test') %>%\n",
    "#     slice_sample(n=5000)\n",
    "       \n",
    "nrow(filtered_points_test)\n",
    "\n",
    "filtered_points_test %>% st_drop_geometry() %>% group_by(epsg) %>% tally()\n"
   ]
  },
  {
   "cell_type": "code",
   "execution_count": 49,
   "id": "29353a4b-c76a-4e1b-992b-d6c95d4da8b4",
   "metadata": {},
   "outputs": [
    {
     "name": "stdout",
     "output_type": "stream",
     "text": [
      "[1] 32603\n",
      "[1] 32604\n",
      "[1] 32605\n",
      "[1] 32606\n",
      "[1] 32607\n"
     ]
    }
   ],
   "source": [
    "print(32603)\n",
    "points_32603_test <- points_bbox_epsg(32603, filtered_points_test)\n",
    "print(32604)\n",
    "points_32604_test <- points_bbox_epsg(32604, filtered_points_test)\n",
    "print(32605)\n",
    "points_32605_test <- points_bbox_epsg(32605, filtered_points_test)\n",
    "print(32606)\n",
    "points_32606_test <- points_bbox_epsg(32606, filtered_points_test)\n",
    "print(32607)\n",
    "points_32607_test <- points_bbox_epsg(32607, filtered_points_test)\n"
   ]
  },
  {
   "cell_type": "markdown",
   "id": "028fd3a3-92e8-4109-989c-6c2017021a96",
   "metadata": {},
   "source": [
    "Get list of SRLite scenes"
   ]
  },
  {
   "cell_type": "code",
   "execution_count": 50,
   "id": "161d114e-4f57-44a0-afb0-c2cb1f7d4f10",
   "metadata": {},
   "outputs": [
    {
     "data": {
      "text/html": [
       "<style>\n",
       ".dl-inline {width: auto; margin:0; padding: 0}\n",
       ".dl-inline>dt, .dl-inline>dd {float: none; width: auto; display: inline-block}\n",
       ".dl-inline>dt::after {content: \":\\0020\"; padding-right: .5ex}\n",
       ".dl-inline>dt:not(:first-of-type) {padding-left: .5ex}\n",
       "</style><dl class=dl-inline><dt>/explore/nobackup/people/mmacande/srlite/srlite_ilab_data_srlite/products/srlite-0.9.15-10282022-qa/10282022-all/Alaska/GE01_20140705_M1BS_1050410010CD1600-sr-02m.tif</dt><dd>'/explore/nobackup/people/mmacande/srlite/srlite_ilab_data_srlite/products/srlite-0.9.15-10282022-qa/10282022-all/Alaska/GE01_20140705_M1BS_1050410010CD1600-sr-02m.tif'</dd><dt>/explore/nobackup/people/mmacande/srlite/srlite_ilab_data_srlite/products/srlite-0.9.15-10282022-qa/10282022-all/Alaska/GE01_20150731_M1BS_1050010001163300-sr-02m.tif</dt><dd>'/explore/nobackup/people/mmacande/srlite/srlite_ilab_data_srlite/products/srlite-0.9.15-10282022-qa/10282022-all/Alaska/GE01_20150731_M1BS_1050010001163300-sr-02m.tif'</dd><dt>/explore/nobackup/people/mmacande/srlite/srlite_ilab_data_srlite/products/srlite-0.9.15-10282022-qa/10282022-all/Alaska/GE01_20160801_M1BS_105001000598DB00-sr-02m.tif</dt><dd>'/explore/nobackup/people/mmacande/srlite/srlite_ilab_data_srlite/products/srlite-0.9.15-10282022-qa/10282022-all/Alaska/GE01_20160801_M1BS_105001000598DB00-sr-02m.tif'</dd><dt>/explore/nobackup/people/mmacande/srlite/srlite_ilab_data_srlite/products/srlite-0.9.15-10282022-qa/10282022-all/Alaska/GE01_20160903_M1BS_1050010006273D00-sr-02m.tif</dt><dd>'/explore/nobackup/people/mmacande/srlite/srlite_ilab_data_srlite/products/srlite-0.9.15-10282022-qa/10282022-all/Alaska/GE01_20160903_M1BS_1050010006273D00-sr-02m.tif'</dd><dt>/explore/nobackup/people/mmacande/srlite/srlite_ilab_data_srlite/products/srlite-0.9.15-10282022-qa/10282022-all/Alaska/GE01_20180611_M1BS_1050010010757600-sr-02m.tif</dt><dd>'/explore/nobackup/people/mmacande/srlite/srlite_ilab_data_srlite/products/srlite-0.9.15-10282022-qa/10282022-all/Alaska/GE01_20180611_M1BS_1050010010757600-sr-02m.tif'</dd><dt>/explore/nobackup/people/mmacande/srlite/srlite_ilab_data_srlite/products/srlite-0.9.15-10282022-qa/10282022-all/Alaska/GE01_20180822_M1BS_1050010011B34400-sr-02m.tif</dt><dd>'/explore/nobackup/people/mmacande/srlite/srlite_ilab_data_srlite/products/srlite-0.9.15-10282022-qa/10282022-all/Alaska/GE01_20180822_M1BS_1050010011B34400-sr-02m.tif'</dd></dl>\n"
      ],
      "text/latex": [
       "\\begin{description*}\n",
       "\\item[/explore/nobackup/people/mmacande/srlite/srlite\\textbackslash{}\\_ilab\\textbackslash{}\\_data\\textbackslash{}\\_srlite/products/srlite-0.9.15-10282022-qa/10282022-all/Alaska/GE01\\textbackslash{}\\_20140705\\textbackslash{}\\_M1BS\\textbackslash{}\\_1050410010CD1600-sr-02m.tif] '/explore/nobackup/people/mmacande/srlite/srlite\\_ilab\\_data\\_srlite/products/srlite-0.9.15-10282022-qa/10282022-all/Alaska/GE01\\_20140705\\_M1BS\\_1050410010CD1600-sr-02m.tif'\n",
       "\\item[/explore/nobackup/people/mmacande/srlite/srlite\\textbackslash{}\\_ilab\\textbackslash{}\\_data\\textbackslash{}\\_srlite/products/srlite-0.9.15-10282022-qa/10282022-all/Alaska/GE01\\textbackslash{}\\_20150731\\textbackslash{}\\_M1BS\\textbackslash{}\\_1050010001163300-sr-02m.tif] '/explore/nobackup/people/mmacande/srlite/srlite\\_ilab\\_data\\_srlite/products/srlite-0.9.15-10282022-qa/10282022-all/Alaska/GE01\\_20150731\\_M1BS\\_1050010001163300-sr-02m.tif'\n",
       "\\item[/explore/nobackup/people/mmacande/srlite/srlite\\textbackslash{}\\_ilab\\textbackslash{}\\_data\\textbackslash{}\\_srlite/products/srlite-0.9.15-10282022-qa/10282022-all/Alaska/GE01\\textbackslash{}\\_20160801\\textbackslash{}\\_M1BS\\textbackslash{}\\_105001000598DB00-sr-02m.tif] '/explore/nobackup/people/mmacande/srlite/srlite\\_ilab\\_data\\_srlite/products/srlite-0.9.15-10282022-qa/10282022-all/Alaska/GE01\\_20160801\\_M1BS\\_105001000598DB00-sr-02m.tif'\n",
       "\\item[/explore/nobackup/people/mmacande/srlite/srlite\\textbackslash{}\\_ilab\\textbackslash{}\\_data\\textbackslash{}\\_srlite/products/srlite-0.9.15-10282022-qa/10282022-all/Alaska/GE01\\textbackslash{}\\_20160903\\textbackslash{}\\_M1BS\\textbackslash{}\\_1050010006273D00-sr-02m.tif] '/explore/nobackup/people/mmacande/srlite/srlite\\_ilab\\_data\\_srlite/products/srlite-0.9.15-10282022-qa/10282022-all/Alaska/GE01\\_20160903\\_M1BS\\_1050010006273D00-sr-02m.tif'\n",
       "\\item[/explore/nobackup/people/mmacande/srlite/srlite\\textbackslash{}\\_ilab\\textbackslash{}\\_data\\textbackslash{}\\_srlite/products/srlite-0.9.15-10282022-qa/10282022-all/Alaska/GE01\\textbackslash{}\\_20180611\\textbackslash{}\\_M1BS\\textbackslash{}\\_1050010010757600-sr-02m.tif] '/explore/nobackup/people/mmacande/srlite/srlite\\_ilab\\_data\\_srlite/products/srlite-0.9.15-10282022-qa/10282022-all/Alaska/GE01\\_20180611\\_M1BS\\_1050010010757600-sr-02m.tif'\n",
       "\\item[/explore/nobackup/people/mmacande/srlite/srlite\\textbackslash{}\\_ilab\\textbackslash{}\\_data\\textbackslash{}\\_srlite/products/srlite-0.9.15-10282022-qa/10282022-all/Alaska/GE01\\textbackslash{}\\_20180822\\textbackslash{}\\_M1BS\\textbackslash{}\\_1050010011B34400-sr-02m.tif] '/explore/nobackup/people/mmacande/srlite/srlite\\_ilab\\_data\\_srlite/products/srlite-0.9.15-10282022-qa/10282022-all/Alaska/GE01\\_20180822\\_M1BS\\_1050010011B34400-sr-02m.tif'\n",
       "\\end{description*}\n"
      ],
      "text/markdown": [
       "/explore/nobackup/people/mmacande/srlite/srlite_ilab_data_srlite/products/srlite-0.9.15-10282022-qa/10282022-all/Alaska/GE01_20140705_M1BS_1050410010CD1600-sr-02m.tif\n",
       ":   '/explore/nobackup/people/mmacande/srlite/srlite_ilab_data_srlite/products/srlite-0.9.15-10282022-qa/10282022-all/Alaska/GE01_20140705_M1BS_1050410010CD1600-sr-02m.tif'/explore/nobackup/people/mmacande/srlite/srlite_ilab_data_srlite/products/srlite-0.9.15-10282022-qa/10282022-all/Alaska/GE01_20150731_M1BS_1050010001163300-sr-02m.tif\n",
       ":   '/explore/nobackup/people/mmacande/srlite/srlite_ilab_data_srlite/products/srlite-0.9.15-10282022-qa/10282022-all/Alaska/GE01_20150731_M1BS_1050010001163300-sr-02m.tif'/explore/nobackup/people/mmacande/srlite/srlite_ilab_data_srlite/products/srlite-0.9.15-10282022-qa/10282022-all/Alaska/GE01_20160801_M1BS_105001000598DB00-sr-02m.tif\n",
       ":   '/explore/nobackup/people/mmacande/srlite/srlite_ilab_data_srlite/products/srlite-0.9.15-10282022-qa/10282022-all/Alaska/GE01_20160801_M1BS_105001000598DB00-sr-02m.tif'/explore/nobackup/people/mmacande/srlite/srlite_ilab_data_srlite/products/srlite-0.9.15-10282022-qa/10282022-all/Alaska/GE01_20160903_M1BS_1050010006273D00-sr-02m.tif\n",
       ":   '/explore/nobackup/people/mmacande/srlite/srlite_ilab_data_srlite/products/srlite-0.9.15-10282022-qa/10282022-all/Alaska/GE01_20160903_M1BS_1050010006273D00-sr-02m.tif'/explore/nobackup/people/mmacande/srlite/srlite_ilab_data_srlite/products/srlite-0.9.15-10282022-qa/10282022-all/Alaska/GE01_20180611_M1BS_1050010010757600-sr-02m.tif\n",
       ":   '/explore/nobackup/people/mmacande/srlite/srlite_ilab_data_srlite/products/srlite-0.9.15-10282022-qa/10282022-all/Alaska/GE01_20180611_M1BS_1050010010757600-sr-02m.tif'/explore/nobackup/people/mmacande/srlite/srlite_ilab_data_srlite/products/srlite-0.9.15-10282022-qa/10282022-all/Alaska/GE01_20180822_M1BS_1050010011B34400-sr-02m.tif\n",
       ":   '/explore/nobackup/people/mmacande/srlite/srlite_ilab_data_srlite/products/srlite-0.9.15-10282022-qa/10282022-all/Alaska/GE01_20180822_M1BS_1050010011B34400-sr-02m.tif'\n",
       "\n"
      ],
      "text/plain": [
       "\u001b[01;32m/explore/nobackup/people/mmacande/srlite/srlite_ilab_data_srlite/products/srlite-0.9.15-10282022-qa/10282022-all/Alaska/GE01_20140705_M1BS_1050410010CD1600-sr-02m.tif\u001b[0m\n",
       "\u001b[01;32m/explore/nobackup/people/mmacande/srlite/srlite_ilab_data_srlite/products/srlite-0.9.15-10282022-qa/10282022-all/Alaska/GE01_20150731_M1BS_1050010001163300-sr-02m.tif\u001b[0m\n",
       "\u001b[01;32m/explore/nobackup/people/mmacande/srlite/srlite_ilab_data_srlite/products/srlite-0.9.15-10282022-qa/10282022-all/Alaska/GE01_20160801_M1BS_105001000598DB00-sr-02m.tif\u001b[0m\n",
       "\u001b[01;32m/explore/nobackup/people/mmacande/srlite/srlite_ilab_data_srlite/products/srlite-0.9.15-10282022-qa/10282022-all/Alaska/GE01_20160903_M1BS_1050010006273D00-sr-02m.tif\u001b[0m\n",
       "\u001b[01;32m/explore/nobackup/people/mmacande/srlite/srlite_ilab_data_srlite/products/srlite-0.9.15-10282022-qa/10282022-all/Alaska/GE01_20180611_M1BS_1050010010757600-sr-02m.tif\u001b[0m\n",
       "\u001b[01;32m/explore/nobackup/people/mmacande/srlite/srlite_ilab_data_srlite/products/srlite-0.9.15-10282022-qa/10282022-all/Alaska/GE01_20180822_M1BS_1050010011B34400-sr-02m.tif\u001b[0m"
      ]
     },
     "metadata": {},
     "output_type": "display_data"
    },
    {
     "data": {
      "text/html": [
       "<table class=\"dataframe\">\n",
       "<caption>A tibble: 7 × 2</caption>\n",
       "<thead>\n",
       "\t<tr><th scope=col>epsg</th><th scope=col>n</th></tr>\n",
       "\t<tr><th scope=col>&lt;chr&gt;</th><th scope=col>&lt;int&gt;</th></tr>\n",
       "</thead>\n",
       "<tbody>\n",
       "\t<tr><td>32603</td><td>19</td></tr>\n",
       "\t<tr><td>32604</td><td>35</td></tr>\n",
       "\t<tr><td>32605</td><td>37</td></tr>\n",
       "\t<tr><td>32606</td><td>59</td></tr>\n",
       "\t<tr><td>32607</td><td>13</td></tr>\n",
       "\t<tr><td>32608</td><td> 7</td></tr>\n",
       "\t<tr><td>32609</td><td> 2</td></tr>\n",
       "</tbody>\n",
       "</table>\n"
      ],
      "text/latex": [
       "A tibble: 7 × 2\n",
       "\\begin{tabular}{ll}\n",
       " epsg & n\\\\\n",
       " <chr> & <int>\\\\\n",
       "\\hline\n",
       "\t 32603 & 19\\\\\n",
       "\t 32604 & 35\\\\\n",
       "\t 32605 & 37\\\\\n",
       "\t 32606 & 59\\\\\n",
       "\t 32607 & 13\\\\\n",
       "\t 32608 &  7\\\\\n",
       "\t 32609 &  2\\\\\n",
       "\\end{tabular}\n"
      ],
      "text/markdown": [
       "\n",
       "A tibble: 7 × 2\n",
       "\n",
       "| epsg &lt;chr&gt; | n &lt;int&gt; |\n",
       "|---|---|\n",
       "| 32603 | 19 |\n",
       "| 32604 | 35 |\n",
       "| 32605 | 37 |\n",
       "| 32606 | 59 |\n",
       "| 32607 | 13 |\n",
       "| 32608 |  7 |\n",
       "| 32609 |  2 |\n",
       "\n"
      ],
      "text/plain": [
       "  epsg  n \n",
       "1 32603 19\n",
       "2 32604 35\n",
       "3 32605 37\n",
       "4 32606 59\n",
       "5 32607 13\n",
       "6 32608  7\n",
       "7 32609  2"
      ]
     },
     "metadata": {},
     "output_type": "display_data"
    }
   ],
   "source": [
    "alaska_2m <- path('/explore/nobackup/people/mmacande/srlite/srlite_ilab_data_srlite/products/srlite-0.9.15-10282022-qa/10282022-all/Alaska')\n",
    "dir_ls(alaska_2m, glob='*sr-02m.tif') %>%\n",
    "head()\n",
    "\n",
    "# rast <- rast(path(alaska_2m, 'GE01_20140705_M1BS_1050410010CD1600-sr-02m.tif'))\n",
    "# # nlyr(rast)\n",
    "# rast\n",
    "# crs(rast, describe=T)$code\n",
    "\n",
    "rast_df <- tibble(\n",
    "    # rastPath = dir_ls(alaska_2m, glob='*noncog.tif')) %>%\n",
    "    rastPath = dir_ls(alaska_2m, glob='*sr-02m.tif')) %>%\n",
    "rowwise() %>%\n",
    "mutate(nlyr = nlyr(rast(rastPath)),\n",
    "      epsg = crs(rast(rastPath), describe=T)$code)\n",
    "\n",
    "rast_df %>%\n",
    "group_by(epsg) %>%\n",
    "tally()\n"
   ]
  },
  {
   "cell_type": "code",
   "execution_count": 51,
   "id": "0a4c6931-b8ac-4df6-91fd-6317a95696db",
   "metadata": {},
   "outputs": [],
   "source": [
    "# rast_df"
   ]
  },
  {
   "cell_type": "code",
   "execution_count": 52,
   "id": "abda29c1-4e61-4314-9435-ecdea72d0798",
   "metadata": {
    "tags": []
   },
   "outputs": [],
   "source": [
    "# rast_vrt_epsg <- function(epsgCode, rast_df, outPath) {\n",
    "#     vrt((rast_df %>% filter(epsg == epsgCode))$rastPath, path(outPath, glue('alaska-sr-02m_{epsgCode}_v20221219.vrt')), overwrite=T)\n",
    "# }\n",
    "\n",
    "# seq(32603,32609)\n",
    "# vrts <- walk(seq(32603,32609), rast_vrt_epsg, rast_df=rast_df, outPath=outPath)"
   ]
  },
  {
   "cell_type": "code",
   "execution_count": 53,
   "id": "7d60c4fd-d3e2-493d-af19-d1b1db7fc19b",
   "metadata": {},
   "outputs": [
    {
     "data": {
      "text/html": [
       "5050"
      ],
      "text/latex": [
       "5050"
      ],
      "text/markdown": [
       "5050"
      ],
      "text/plain": [
       "[1] 5050"
      ]
     },
     "metadata": {},
     "output_type": "display_data"
    }
   ],
   "source": [
    "r <- rast(ncols=10, nrows=10)\n",
    "values(r) <- 1:ncell(r)\n",
    "global(r, \"sum\")[[1]]\n",
    "# global(r, \"mean\", na.rm=TRUE)\n",
    "# x <- c(r, r/10)\n",
    "# global(x, c(\"sum\", \"mean\", \"sd\"), na.rm=TRUE)"
   ]
  },
  {
   "cell_type": "markdown",
   "id": "736dfd5d-d1b9-423f-bb2f-0d627932c913",
   "metadata": {},
   "source": [
    "Function to Load SRLite, IFSAR DSM/DTM/CHM and crop by bounding box\n",
    "Save out to image and label geotiffs"
   ]
  },
  {
   "cell_type": "code",
   "execution_count": 58,
   "id": "04f98a35-1e71-4a79-b613-cffecdfc43a0",
   "metadata": {},
   "outputs": [],
   "source": [
    "#Reflectance + DEM\n",
    "# ned <- rast('/explore/nobackup/projects/dem/alaskaned_mosaic_wgs84.tif')\n",
    "ifsar_dtm <- rast('/explore/nobackup/projects/dem/AK_IFSAR/alaska_ifsar_dtm_20221222.tif')\n",
    "ifsar_dsm <- rast('/explore/nobackup/projects/dem/AK_IFSAR/alaska_ifsar_dsm_20221222.tif')\n",
    "\n",
    "crop_by_bbox2_chm <- function(epsg, utmBB, baseName, chipName, outPrefix) {\n",
    "    sr_2m_strip <- rast(path(alaska_2m, glue('{baseName}-sr-02m.tif')))\n",
    "    sr_2m <- crop(sr_2m_strip, utmBB)#, filename=path(outPath, glue('{epsg}_{long}_{lat}.tif')))\n",
    "    names(sr_2m) <- c('01_blue','02_green','03_red','04_nir')\n",
    "    dtm_2m <- project(ifsar_dtm, sr_2m, method='bilinear')\n",
    "    dsm_2m <- project(ifsar_dsm, sr_2m, method='bilinear')\n",
    "    chm_2m <- dsm_2m - dtm_2m\n",
    "    chm_2m_clamp <- clamp(chm_2m, 0.0000001, 10000)\n",
    "    chm_dm_2m <- round(chm_2m_clamp * 10)\n",
    "    \n",
    "    # phys_2m <- project(phys, sr_2m, method='near')\n",
    "    # names(dem_2m) <- c('05_elev_m')\n",
    "    names(dtm_2m) <- c('05_dtm_m')\n",
    "    names(chm_2m) <- c('06_chm_m')\n",
    "\n",
    "    chm_sum = global(chm_dm_2m, 'sum')[[1]]\n",
    "    if(chm_sum > 0) {   \n",
    "        predictor_stack_2m <- c(sr_2m, dtm_2m)\n",
    "        writeRaster(predictor_stack_2m, filename=path(outPath, glue('{outPrefix}_images'), glue('{chipName}.tif')), overwrite=T)\n",
    "        label_stack_2m <- c(chm_dm_2m)\n",
    "        writeRaster(label_stack_2m, filename=path(outPath, glue('{outPrefix}_labels'), glue('{chipName}.tif')), overwrite=T)\n",
    "        } else {\n",
    "        print(glue('{chipName} is all zero canopy height, not exported')) }\n",
    "    return(baseName)\n",
    "}\n",
    "\n",
    "dir_create(path(outPath, 'train_images'))\n",
    "dir_create(path(outPath, 'train_labels'))\n",
    "\n",
    "dir_create(path(outPath, 'test_images'))\n",
    "dir_create(path(outPath, 'test_labels'))\n"
   ]
  },
  {
   "cell_type": "code",
   "execution_count": null,
   "id": "3824298e-c50a-4f23-b2f6-f27128fbcd7a",
   "metadata": {},
   "outputs": [],
   "source": [
    "points_32603 %>% select(epsg, utmBB, baseName, chipName) %>% st_drop_geometry() %>% ungroup() %>% slice_head(n=2)"
   ]
  },
  {
   "cell_type": "code",
   "execution_count": 59,
   "id": "2a50c7ad-bc0f-44f1-8df2-3ced4ce49218",
   "metadata": {},
   "outputs": [
    {
     "data": {
      "text/html": [
       "<style>\n",
       ".list-inline {list-style: none; margin:0; padding: 0}\n",
       ".list-inline>li {display: inline-block}\n",
       ".list-inline>li:not(:last-child)::after {content: \"\\00b7\"; padding: 0 .5ex}\n",
       "</style>\n",
       "<ol class=list-inline><li>'sf'</li><li>'rowwise_df'</li><li>'tbl_df'</li><li>'tbl'</li><li>'data.frame'</li></ol>\n"
      ],
      "text/latex": [
       "\\begin{enumerate*}\n",
       "\\item 'sf'\n",
       "\\item 'rowwise\\_df'\n",
       "\\item 'tbl\\_df'\n",
       "\\item 'tbl'\n",
       "\\item 'data.frame'\n",
       "\\end{enumerate*}\n"
      ],
      "text/markdown": [
       "1. 'sf'\n",
       "2. 'rowwise_df'\n",
       "3. 'tbl_df'\n",
       "4. 'tbl'\n",
       "5. 'data.frame'\n",
       "\n",
       "\n"
      ],
      "text/plain": [
       "[1] \"sf\"         \"rowwise_df\" \"tbl_df\"     \"tbl\"        \"data.frame\""
      ]
     },
     "metadata": {},
     "output_type": "display_data"
    }
   ],
   "source": [
    "class(points_32603)\n",
    "plan(multicore, workers=30)"
   ]
  },
  {
   "cell_type": "code",
   "execution_count": 63,
   "id": "464c63cd-3249-40ca-a987-b6c2b46e3f3a",
   "metadata": {},
   "outputs": [
    {
     "data": {
      "text/html": [
       "<pre class=language-r><code>structure(function (..., workers = 30, envir = parent.frame()) \n",
       "strategy(..., workers = workers, envir = envir), class = c(\"FutureStrategy\", \n",
       "\"tweaked\", \"multicore\", \"multiprocess\", \"future\", \"function\"), call = plan(multicore, \n",
       "<span style=white-space:pre-wrap>    workers = 30))</span></code></pre>"
      ],
      "text/latex": [
       "\\begin{minted}{r}\n",
       "structure(function (..., workers = 30, envir = parent.frame()) \n",
       "strategy(..., workers = workers, envir = envir), class = c(\"FutureStrategy\", \n",
       "\"tweaked\", \"multicore\", \"multiprocess\", \"future\", \"function\"), call = plan(multicore, \n",
       "    workers = 30))\n",
       "\\end{minted}"
      ],
      "text/markdown": [
       "```r\n",
       "structure(function (..., workers = 30, envir = parent.frame()) \n",
       "strategy(..., workers = workers, envir = envir), class = c(\"FutureStrategy\", \n",
       "\"tweaked\", \"multicore\", \"multiprocess\", \"future\", \"function\"), call = plan(multicore, \n",
       "    workers = 30))\n",
       "```"
      ],
      "text/plain": [
       "multicore:\n",
       "- args: function (..., workers = 30, envir = parent.frame())\n",
       "- tweaked: TRUE\n",
       "- call: plan(multicore, workers = 30)"
      ]
     },
     "metadata": {},
     "output_type": "display_data"
    }
   ],
   "source": [
    "plan()"
   ]
  },
  {
   "cell_type": "code",
   "execution_count": null,
   "id": "7f1db2dc-451d-476f-a71a-a5f5fffa5c9a",
   "metadata": {
    "tags": []
   },
   "outputs": [],
   "source": [
    "pwalk(points_32603 %>% select(epsg, utmBB, baseName, chipName) %>% st_drop_geometry() %>% ungroup() %>% slice_head(n=2), crop_by_bbox2_chm, 'train')"
   ]
  },
  {
   "cell_type": "code",
   "execution_count": null,
   "id": "b7a56723-5db8-4a16-8978-49d6d2e8fea6",
   "metadata": {
    "tags": []
   },
   "outputs": [],
   "source": [
    "points_32603_test %>% select(epsg, utmBB, baseName, chipName) %>% st_drop_geometry() %>% ungroup() %>% slice_head(n=2)"
   ]
  },
  {
   "cell_type": "code",
   "execution_count": null,
   "id": "23701af5-1fab-4cf0-8f36-ae06aacd1044",
   "metadata": {
    "tags": []
   },
   "outputs": [],
   "source": [
    "# pwalk(points_32603_test %>% select(epsg, utmBB, baseName, chipName) %>% st_drop_geometry() %>% ungroup() %>% slice_head(n=2), crop_by_bbox2_chm, 'test')\n",
    "pwalk(points_32603_test %>% select(epsg, utmBB, baseName, chipName) %>% st_drop_geometry() %>% ungroup(), crop_by_bbox2_chm, 'test')"
   ]
  },
  {
   "cell_type": "markdown",
   "id": "778bac5a-26f8-46bb-8e17-188911a91425",
   "metadata": {},
   "source": [
    "Generate all the image and label chips (batched up by UTM zone)"
   ]
  },
  {
   "cell_type": "code",
   "execution_count": null,
   "id": "7df376ea-5434-4d18-801a-7cac77198a4a",
   "metadata": {
    "tags": []
   },
   "outputs": [],
   "source": [
    "\n",
    "# # crop_by_bbox2(\n",
    "# print(32603)\n",
    "# pwalk(points_32603 %>% select(epsg, utmBB, baseName, chipName) %>% st_drop_geometry(), possibly(crop_by_bbox2_chm, otherwise=NULL), 'train')\n",
    "# pwalk(points_32603_test %>% select(epsg, utmBB, baseName, chipName) %>% st_drop_geometry(), possibly(crop_by_bbox2_chm, otherwise=NULL), 'test')\n",
    "# print(32604)\n",
    "# pwalk(points_32604 %>% select(epsg, utmBB, baseName, chipName) %>% st_drop_geometry(), possibly(crop_by_bbox2_chm, otherwise=NULL), 'train')\n",
    "# pwalk(points_32604_test %>% select(epsg, utmBB, baseName, chipName) %>% st_drop_geometry(), possibly(crop_by_bbox2_chm, otherwise=NULL), 'test')\n",
    "# print(32605)\n",
    "# pwalk(points_32605 %>% select(epsg, utmBB, baseName, chipName) %>% st_drop_geometry(), possibly(crop_by_bbox2_chm, otherwise=NULL), 'train')\n",
    "# pwalk(points_32605_test %>% select(epsg, utmBB, baseName, chipName) %>% st_drop_geometry(), possibly(crop_by_bbox2_chm, otherwise=NULL), 'test')\n",
    "# print(32606)\n",
    "# pwalk(points_32606 %>% select(epsg, utmBB, baseName, chipName) %>% st_drop_geometry(), possibly(crop_by_bbox2_chm, otherwise=NULL), 'train')\n",
    "# pwalk(points_32606_test %>% select(epsg, utmBB, baseName, chipName) %>% st_drop_geometry(), possibly(crop_by_bbox2_chm, otherwise=NULL), 'test')\n",
    "# print(32607)\n",
    "# pwalk(points_32607 %>% select(epsg, utmBB, baseName, chipName) %>% st_drop_geometry(), possibly(crop_by_bbox2_chm, otherwise=NULL), 'train')\n",
    "# pwalk(points_32607_test %>% select(epsg, utmBB, baseName, chipName) %>% st_drop_geometry(), possibly(crop_by_bbox2_chm, otherwise=NULL), 'test')\n",
    "# # print(32608)\n",
    "# # pwalk(points_32608 %>% select(epsg, utmBB, baseName, long, lat) %>% st_drop_geometry(), possibly(crop_by_bbox2_chm, otherwise=NULL))\n",
    "# # print(32609)\n",
    "# # pwalk(points_32609 %>% select(epsg, utmBB, baseName, long, lat) %>% st_drop_geometry(), possibly(crop_by_bbox2_chm, otherwise=NULL))"
   ]
  },
  {
   "cell_type": "code",
   "execution_count": 64,
   "id": "b48fec9c-092c-4079-8ce9-6a24c03fb7e6",
   "metadata": {},
   "outputs": [
    {
     "name": "stdout",
     "output_type": "stream",
     "text": [
      "[1] 32603\n"
     ]
    },
    {
     "name": "stderr",
     "output_type": "stream",
     "text": [
      "Warning message:\n",
      "“UNRELIABLE VALUE: Future (‘<none>’) unexpectedly generated random numbers without specifying argument 'seed'. There is a risk that those random numbers are not statistically sound and the overall results might be invalid. To fix this, specify 'seed=TRUE'. This ensures that proper, parallel-safe random numbers are produced via the L'Ecuyer-CMRG method. To disable this check, use 'seed=NULL', or set option 'future.rng.onMisuse' to \"ignore\".”\n",
      "Warning message:\n",
      "“UNRELIABLE VALUE: Future (‘<none>’) unexpectedly generated random numbers without specifying argument 'seed'. There is a risk that those random numbers are not statistically sound and the overall results might be invalid. To fix this, specify 'seed=TRUE'. This ensures that proper, parallel-safe random numbers are produced via the L'Ecuyer-CMRG method. To disable this check, use 'seed=NULL', or set option 'future.rng.onMisuse' to \"ignore\".”\n",
      "Warning message:\n",
      "“UNRELIABLE VALUE: Future (‘<none>’) unexpectedly generated random numbers without specifying argument 'seed'. There is a risk that those random numbers are not statistically sound and the overall results might be invalid. To fix this, specify 'seed=TRUE'. This ensures that proper, parallel-safe random numbers are produced via the L'Ecuyer-CMRG method. To disable this check, use 'seed=NULL', or set option 'future.rng.onMisuse' to \"ignore\".”\n",
      "Warning message:\n",
      "“UNRELIABLE VALUE: Future (‘<none>’) unexpectedly generated random numbers without specifying argument 'seed'. There is a risk that those random numbers are not statistically sound and the overall results might be invalid. To fix this, specify 'seed=TRUE'. This ensures that proper, parallel-safe random numbers are produced via the L'Ecuyer-CMRG method. To disable this check, use 'seed=NULL', or set option 'future.rng.onMisuse' to \"ignore\".”\n",
      "Warning message:\n",
      "“UNRELIABLE VALUE: Future (‘<none>’) unexpectedly generated random numbers without specifying argument 'seed'. There is a risk that those random numbers are not statistically sound and the overall results might be invalid. To fix this, specify 'seed=TRUE'. This ensures that proper, parallel-safe random numbers are produced via the L'Ecuyer-CMRG method. To disable this check, use 'seed=NULL', or set option 'future.rng.onMisuse' to \"ignore\".”\n",
      "Warning message:\n",
      "“UNRELIABLE VALUE: Future (‘<none>’) unexpectedly generated random numbers without specifying argument 'seed'. There is a risk that those random numbers are not statistically sound and the overall results might be invalid. To fix this, specify 'seed=TRUE'. This ensures that proper, parallel-safe random numbers are produced via the L'Ecuyer-CMRG method. To disable this check, use 'seed=NULL', or set option 'future.rng.onMisuse' to \"ignore\".”\n",
      "Warning message:\n",
      "“UNRELIABLE VALUE: Future (‘<none>’) unexpectedly generated random numbers without specifying argument 'seed'. There is a risk that those random numbers are not statistically sound and the overall results might be invalid. To fix this, specify 'seed=TRUE'. This ensures that proper, parallel-safe random numbers are produced via the L'Ecuyer-CMRG method. To disable this check, use 'seed=NULL', or set option 'future.rng.onMisuse' to \"ignore\".”\n"
     ]
    },
    {
     "name": "stdout",
     "output_type": "stream",
     "text": [
      "chip_WV02_20130818_M1BS_10300100269C9900_02672_v20230331_32603 is all zero canopy height, not exported\n"
     ]
    },
    {
     "name": "stderr",
     "output_type": "stream",
     "text": [
      "Warning message:\n",
      "“UNRELIABLE VALUE: Future (‘<none>’) unexpectedly generated random numbers without specifying argument 'seed'. There is a risk that those random numbers are not statistically sound and the overall results might be invalid. To fix this, specify 'seed=TRUE'. This ensures that proper, parallel-safe random numbers are produced via the L'Ecuyer-CMRG method. To disable this check, use 'seed=NULL', or set option 'future.rng.onMisuse' to \"ignore\".”\n",
      "Warning message:\n",
      "“UNRELIABLE VALUE: Future (‘<none>’) unexpectedly generated random numbers without specifying argument 'seed'. There is a risk that those random numbers are not statistically sound and the overall results might be invalid. To fix this, specify 'seed=TRUE'. This ensures that proper, parallel-safe random numbers are produced via the L'Ecuyer-CMRG method. To disable this check, use 'seed=NULL', or set option 'future.rng.onMisuse' to \"ignore\".”\n",
      "Warning message:\n",
      "“UNRELIABLE VALUE: Future (‘<none>’) unexpectedly generated random numbers without specifying argument 'seed'. There is a risk that those random numbers are not statistically sound and the overall results might be invalid. To fix this, specify 'seed=TRUE'. This ensures that proper, parallel-safe random numbers are produced via the L'Ecuyer-CMRG method. To disable this check, use 'seed=NULL', or set option 'future.rng.onMisuse' to \"ignore\".”\n",
      "Warning message:\n",
      "“UNRELIABLE VALUE: Future (‘<none>’) unexpectedly generated random numbers without specifying argument 'seed'. There is a risk that those random numbers are not statistically sound and the overall results might be invalid. To fix this, specify 'seed=TRUE'. This ensures that proper, parallel-safe random numbers are produced via the L'Ecuyer-CMRG method. To disable this check, use 'seed=NULL', or set option 'future.rng.onMisuse' to \"ignore\".”\n",
      "Warning message:\n",
      "“UNRELIABLE VALUE: Future (‘<none>’) unexpectedly generated random numbers without specifying argument 'seed'. There is a risk that those random numbers are not statistically sound and the overall results might be invalid. To fix this, specify 'seed=TRUE'. This ensures that proper, parallel-safe random numbers are produced via the L'Ecuyer-CMRG method. To disable this check, use 'seed=NULL', or set option 'future.rng.onMisuse' to \"ignore\".”\n",
      "Warning message:\n",
      "“UNRELIABLE VALUE: Future (‘<none>’) unexpectedly generated random numbers without specifying argument 'seed'. There is a risk that those random numbers are not statistically sound and the overall results might be invalid. To fix this, specify 'seed=TRUE'. This ensures that proper, parallel-safe random numbers are produced via the L'Ecuyer-CMRG method. To disable this check, use 'seed=NULL', or set option 'future.rng.onMisuse' to \"ignore\".”\n",
      "Warning message:\n",
      "“UNRELIABLE VALUE: Future (‘<none>’) unexpectedly generated random numbers without specifying argument 'seed'. There is a risk that those random numbers are not statistically sound and the overall results might be invalid. To fix this, specify 'seed=TRUE'. This ensures that proper, parallel-safe random numbers are produced via the L'Ecuyer-CMRG method. To disable this check, use 'seed=NULL', or set option 'future.rng.onMisuse' to \"ignore\".”\n",
      "Warning message:\n",
      "“UNRELIABLE VALUE: Future (‘<none>’) unexpectedly generated random numbers without specifying argument 'seed'. There is a risk that those random numbers are not statistically sound and the overall results might be invalid. To fix this, specify 'seed=TRUE'. This ensures that proper, parallel-safe random numbers are produced via the L'Ecuyer-CMRG method. To disable this check, use 'seed=NULL', or set option 'future.rng.onMisuse' to \"ignore\".”\n",
      "Warning message:\n",
      "“UNRELIABLE VALUE: Future (‘<none>’) unexpectedly generated random numbers without specifying argument 'seed'. There is a risk that those random numbers are not statistically sound and the overall results might be invalid. To fix this, specify 'seed=TRUE'. This ensures that proper, parallel-safe random numbers are produced via the L'Ecuyer-CMRG method. To disable this check, use 'seed=NULL', or set option 'future.rng.onMisuse' to \"ignore\".”\n",
      "Warning message:\n",
      "“UNRELIABLE VALUE: Future (‘<none>’) unexpectedly generated random numbers without specifying argument 'seed'. There is a risk that those random numbers are not statistically sound and the overall results might be invalid. To fix this, specify 'seed=TRUE'. This ensures that proper, parallel-safe random numbers are produced via the L'Ecuyer-CMRG method. To disable this check, use 'seed=NULL', or set option 'future.rng.onMisuse' to \"ignore\".”\n",
      "Warning message:\n",
      "“UNRELIABLE VALUE: Future (‘<none>’) unexpectedly generated random numbers without specifying argument 'seed'. There is a risk that those random numbers are not statistically sound and the overall results might be invalid. To fix this, specify 'seed=TRUE'. This ensures that proper, parallel-safe random numbers are produced via the L'Ecuyer-CMRG method. To disable this check, use 'seed=NULL', or set option 'future.rng.onMisuse' to \"ignore\".”\n",
      "Warning message:\n",
      "“UNRELIABLE VALUE: Future (‘<none>’) unexpectedly generated random numbers without specifying argument 'seed'. There is a risk that those random numbers are not statistically sound and the overall results might be invalid. To fix this, specify 'seed=TRUE'. This ensures that proper, parallel-safe random numbers are produced via the L'Ecuyer-CMRG method. To disable this check, use 'seed=NULL', or set option 'future.rng.onMisuse' to \"ignore\".”\n",
      "Warning message:\n",
      "“UNRELIABLE VALUE: Future (‘<none>’) unexpectedly generated random numbers without specifying argument 'seed'. There is a risk that those random numbers are not statistically sound and the overall results might be invalid. To fix this, specify 'seed=TRUE'. This ensures that proper, parallel-safe random numbers are produced via the L'Ecuyer-CMRG method. To disable this check, use 'seed=NULL', or set option 'future.rng.onMisuse' to \"ignore\".”\n",
      "Warning message:\n",
      "“UNRELIABLE VALUE: Future (‘<none>’) unexpectedly generated random numbers without specifying argument 'seed'. There is a risk that those random numbers are not statistically sound and the overall results might be invalid. To fix this, specify 'seed=TRUE'. This ensures that proper, parallel-safe random numbers are produced via the L'Ecuyer-CMRG method. To disable this check, use 'seed=NULL', or set option 'future.rng.onMisuse' to \"ignore\".”\n"
     ]
    },
    {
     "name": "stdout",
     "output_type": "stream",
     "text": [
      "chip_WV02_20130818_M1BS_10300100269C9900_00033_v20230331_32603 is all zero canopy height, not exported\n"
     ]
    },
    {
     "name": "stderr",
     "output_type": "stream",
     "text": [
      "Warning message:\n",
      "“UNRELIABLE VALUE: Future (‘<none>’) unexpectedly generated random numbers without specifying argument 'seed'. There is a risk that those random numbers are not statistically sound and the overall results might be invalid. To fix this, specify 'seed=TRUE'. This ensures that proper, parallel-safe random numbers are produced via the L'Ecuyer-CMRG method. To disable this check, use 'seed=NULL', or set option 'future.rng.onMisuse' to \"ignore\".”\n",
      "Warning message:\n",
      "“UNRELIABLE VALUE: Future (‘<none>’) unexpectedly generated random numbers without specifying argument 'seed'. There is a risk that those random numbers are not statistically sound and the overall results might be invalid. To fix this, specify 'seed=TRUE'. This ensures that proper, parallel-safe random numbers are produced via the L'Ecuyer-CMRG method. To disable this check, use 'seed=NULL', or set option 'future.rng.onMisuse' to \"ignore\".”\n",
      "Warning message:\n",
      "“UNRELIABLE VALUE: Future (‘<none>’) unexpectedly generated random numbers without specifying argument 'seed'. There is a risk that those random numbers are not statistically sound and the overall results might be invalid. To fix this, specify 'seed=TRUE'. This ensures that proper, parallel-safe random numbers are produced via the L'Ecuyer-CMRG method. To disable this check, use 'seed=NULL', or set option 'future.rng.onMisuse' to \"ignore\".”\n",
      "Warning message:\n",
      "“UNRELIABLE VALUE: Future (‘<none>’) unexpectedly generated random numbers without specifying argument 'seed'. There is a risk that those random numbers are not statistically sound and the overall results might be invalid. To fix this, specify 'seed=TRUE'. This ensures that proper, parallel-safe random numbers are produced via the L'Ecuyer-CMRG method. To disable this check, use 'seed=NULL', or set option 'future.rng.onMisuse' to \"ignore\".”\n"
     ]
    },
    {
     "name": "stdout",
     "output_type": "stream",
     "text": [
      "chip_WV02_20130818_M1BS_10300100269C9900_01625_v20230331_32603 is all zero canopy height, not exported\n"
     ]
    },
    {
     "name": "stderr",
     "output_type": "stream",
     "text": [
      "Warning message:\n",
      "“UNRELIABLE VALUE: Future (‘<none>’) unexpectedly generated random numbers without specifying argument 'seed'. There is a risk that those random numbers are not statistically sound and the overall results might be invalid. To fix this, specify 'seed=TRUE'. This ensures that proper, parallel-safe random numbers are produced via the L'Ecuyer-CMRG method. To disable this check, use 'seed=NULL', or set option 'future.rng.onMisuse' to \"ignore\".”\n",
      "Warning message:\n",
      "“UNRELIABLE VALUE: Future (‘<none>’) unexpectedly generated random numbers without specifying argument 'seed'. There is a risk that those random numbers are not statistically sound and the overall results might be invalid. To fix this, specify 'seed=TRUE'. This ensures that proper, parallel-safe random numbers are produced via the L'Ecuyer-CMRG method. To disable this check, use 'seed=NULL', or set option 'future.rng.onMisuse' to \"ignore\".”\n",
      "Warning message:\n",
      "“UNRELIABLE VALUE: Future (‘<none>’) unexpectedly generated random numbers without specifying argument 'seed'. There is a risk that those random numbers are not statistically sound and the overall results might be invalid. To fix this, specify 'seed=TRUE'. This ensures that proper, parallel-safe random numbers are produced via the L'Ecuyer-CMRG method. To disable this check, use 'seed=NULL', or set option 'future.rng.onMisuse' to \"ignore\".”\n",
      "Warning message:\n",
      "“UNRELIABLE VALUE: Future (‘<none>’) unexpectedly generated random numbers without specifying argument 'seed'. There is a risk that those random numbers are not statistically sound and the overall results might be invalid. To fix this, specify 'seed=TRUE'. This ensures that proper, parallel-safe random numbers are produced via the L'Ecuyer-CMRG method. To disable this check, use 'seed=NULL', or set option 'future.rng.onMisuse' to \"ignore\".”\n",
      "Warning message:\n",
      "“UNRELIABLE VALUE: Future (‘<none>’) unexpectedly generated random numbers without specifying argument 'seed'. There is a risk that those random numbers are not statistically sound and the overall results might be invalid. To fix this, specify 'seed=TRUE'. This ensures that proper, parallel-safe random numbers are produced via the L'Ecuyer-CMRG method. To disable this check, use 'seed=NULL', or set option 'future.rng.onMisuse' to \"ignore\".”\n",
      "Warning message:\n",
      "“UNRELIABLE VALUE: Future (‘<none>’) unexpectedly generated random numbers without specifying argument 'seed'. There is a risk that those random numbers are not statistically sound and the overall results might be invalid. To fix this, specify 'seed=TRUE'. This ensures that proper, parallel-safe random numbers are produced via the L'Ecuyer-CMRG method. To disable this check, use 'seed=NULL', or set option 'future.rng.onMisuse' to \"ignore\".”\n",
      "Warning message:\n",
      "“UNRELIABLE VALUE: Future (‘<none>’) unexpectedly generated random numbers without specifying argument 'seed'. There is a risk that those random numbers are not statistically sound and the overall results might be invalid. To fix this, specify 'seed=TRUE'. This ensures that proper, parallel-safe random numbers are produced via the L'Ecuyer-CMRG method. To disable this check, use 'seed=NULL', or set option 'future.rng.onMisuse' to \"ignore\".”\n",
      "Warning message:\n",
      "“UNRELIABLE VALUE: Future (‘<none>’) unexpectedly generated random numbers without specifying argument 'seed'. There is a risk that those random numbers are not statistically sound and the overall results might be invalid. To fix this, specify 'seed=TRUE'. This ensures that proper, parallel-safe random numbers are produced via the L'Ecuyer-CMRG method. To disable this check, use 'seed=NULL', or set option 'future.rng.onMisuse' to \"ignore\".”\n",
      "Warning message:\n",
      "“UNRELIABLE VALUE: Future (‘<none>’) unexpectedly generated random numbers without specifying argument 'seed'. There is a risk that those random numbers are not statistically sound and the overall results might be invalid. To fix this, specify 'seed=TRUE'. This ensures that proper, parallel-safe random numbers are produced via the L'Ecuyer-CMRG method. To disable this check, use 'seed=NULL', or set option 'future.rng.onMisuse' to \"ignore\".”\n",
      "Warning message:\n",
      "“UNRELIABLE VALUE: Future (‘<none>’) unexpectedly generated random numbers without specifying argument 'seed'. There is a risk that those random numbers are not statistically sound and the overall results might be invalid. To fix this, specify 'seed=TRUE'. This ensures that proper, parallel-safe random numbers are produced via the L'Ecuyer-CMRG method. To disable this check, use 'seed=NULL', or set option 'future.rng.onMisuse' to \"ignore\".”\n",
      "Warning message:\n",
      "“UNRELIABLE VALUE: Future (‘<none>’) unexpectedly generated random numbers without specifying argument 'seed'. There is a risk that those random numbers are not statistically sound and the overall results might be invalid. To fix this, specify 'seed=TRUE'. This ensures that proper, parallel-safe random numbers are produced via the L'Ecuyer-CMRG method. To disable this check, use 'seed=NULL', or set option 'future.rng.onMisuse' to \"ignore\".”\n",
      "Warning message:\n",
      "“UNRELIABLE VALUE: Future (‘<none>’) unexpectedly generated random numbers without specifying argument 'seed'. There is a risk that those random numbers are not statistically sound and the overall results might be invalid. To fix this, specify 'seed=TRUE'. This ensures that proper, parallel-safe random numbers are produced via the L'Ecuyer-CMRG method. To disable this check, use 'seed=NULL', or set option 'future.rng.onMisuse' to \"ignore\".”\n",
      "Warning message:\n",
      "“UNRELIABLE VALUE: Future (‘<none>’) unexpectedly generated random numbers without specifying argument 'seed'. There is a risk that those random numbers are not statistically sound and the overall results might be invalid. To fix this, specify 'seed=TRUE'. This ensures that proper, parallel-safe random numbers are produced via the L'Ecuyer-CMRG method. To disable this check, use 'seed=NULL', or set option 'future.rng.onMisuse' to \"ignore\".”\n",
      "Warning message:\n",
      "“UNRELIABLE VALUE: Future (‘<none>’) unexpectedly generated random numbers without specifying argument 'seed'. There is a risk that those random numbers are not statistically sound and the overall results might be invalid. To fix this, specify 'seed=TRUE'. This ensures that proper, parallel-safe random numbers are produced via the L'Ecuyer-CMRG method. To disable this check, use 'seed=NULL', or set option 'future.rng.onMisuse' to \"ignore\".”\n",
      "Warning message:\n",
      "“UNRELIABLE VALUE: Future (‘<none>’) unexpectedly generated random numbers without specifying argument 'seed'. There is a risk that those random numbers are not statistically sound and the overall results might be invalid. To fix this, specify 'seed=TRUE'. This ensures that proper, parallel-safe random numbers are produced via the L'Ecuyer-CMRG method. To disable this check, use 'seed=NULL', or set option 'future.rng.onMisuse' to \"ignore\".”\n",
      "Warning message:\n",
      "“UNRELIABLE VALUE: Future (‘<none>’) unexpectedly generated random numbers without specifying argument 'seed'. There is a risk that those random numbers are not statistically sound and the overall results might be invalid. To fix this, specify 'seed=TRUE'. This ensures that proper, parallel-safe random numbers are produced via the L'Ecuyer-CMRG method. To disable this check, use 'seed=NULL', or set option 'future.rng.onMisuse' to \"ignore\".”\n",
      "Warning message:\n",
      "“UNRELIABLE VALUE: Future (‘<none>’) unexpectedly generated random numbers without specifying argument 'seed'. There is a risk that those random numbers are not statistically sound and the overall results might be invalid. To fix this, specify 'seed=TRUE'. This ensures that proper, parallel-safe random numbers are produced via the L'Ecuyer-CMRG method. To disable this check, use 'seed=NULL', or set option 'future.rng.onMisuse' to \"ignore\".”\n",
      "Warning message:\n",
      "“UNRELIABLE VALUE: Future (‘<none>’) unexpectedly generated random numbers without specifying argument 'seed'. There is a risk that those random numbers are not statistically sound and the overall results might be invalid. To fix this, specify 'seed=TRUE'. This ensures that proper, parallel-safe random numbers are produced via the L'Ecuyer-CMRG method. To disable this check, use 'seed=NULL', or set option 'future.rng.onMisuse' to \"ignore\".”\n",
      "Warning message:\n",
      "“UNRELIABLE VALUE: Future (‘<none>’) unexpectedly generated random numbers without specifying argument 'seed'. There is a risk that those random numbers are not statistically sound and the overall results might be invalid. To fix this, specify 'seed=TRUE'. This ensures that proper, parallel-safe random numbers are produced via the L'Ecuyer-CMRG method. To disable this check, use 'seed=NULL', or set option 'future.rng.onMisuse' to \"ignore\".”\n",
      "Warning message:\n",
      "“UNRELIABLE VALUE: Future (‘<none>’) unexpectedly generated random numbers without specifying argument 'seed'. There is a risk that those random numbers are not statistically sound and the overall results might be invalid. To fix this, specify 'seed=TRUE'. This ensures that proper, parallel-safe random numbers are produced via the L'Ecuyer-CMRG method. To disable this check, use 'seed=NULL', or set option 'future.rng.onMisuse' to \"ignore\".”\n",
      "Warning message:\n",
      "“UNRELIABLE VALUE: Future (‘<none>’) unexpectedly generated random numbers without specifying argument 'seed'. There is a risk that those random numbers are not statistically sound and the overall results might be invalid. To fix this, specify 'seed=TRUE'. This ensures that proper, parallel-safe random numbers are produced via the L'Ecuyer-CMRG method. To disable this check, use 'seed=NULL', or set option 'future.rng.onMisuse' to \"ignore\".”\n",
      "Warning message:\n",
      "“UNRELIABLE VALUE: Future (‘<none>’) unexpectedly generated random numbers without specifying argument 'seed'. There is a risk that those random numbers are not statistically sound and the overall results might be invalid. To fix this, specify 'seed=TRUE'. This ensures that proper, parallel-safe random numbers are produced via the L'Ecuyer-CMRG method. To disable this check, use 'seed=NULL', or set option 'future.rng.onMisuse' to \"ignore\".”\n",
      "Warning message:\n",
      "“UNRELIABLE VALUE: Future (‘<none>’) unexpectedly generated random numbers without specifying argument 'seed'. There is a risk that those random numbers are not statistically sound and the overall results might be invalid. To fix this, specify 'seed=TRUE'. This ensures that proper, parallel-safe random numbers are produced via the L'Ecuyer-CMRG method. To disable this check, use 'seed=NULL', or set option 'future.rng.onMisuse' to \"ignore\".”\n",
      "Warning message:\n",
      "“UNRELIABLE VALUE: Future (‘<none>’) unexpectedly generated random numbers without specifying argument 'seed'. There is a risk that those random numbers are not statistically sound and the overall results might be invalid. To fix this, specify 'seed=TRUE'. This ensures that proper, parallel-safe random numbers are produced via the L'Ecuyer-CMRG method. To disable this check, use 'seed=NULL', or set option 'future.rng.onMisuse' to \"ignore\".”\n",
      "Warning message:\n",
      "“UNRELIABLE VALUE: Future (‘<none>’) unexpectedly generated random numbers without specifying argument 'seed'. There is a risk that those random numbers are not statistically sound and the overall results might be invalid. To fix this, specify 'seed=TRUE'. This ensures that proper, parallel-safe random numbers are produced via the L'Ecuyer-CMRG method. To disable this check, use 'seed=NULL', or set option 'future.rng.onMisuse' to \"ignore\".”\n",
      "Warning message:\n",
      "“UNRELIABLE VALUE: Future (‘<none>’) unexpectedly generated random numbers without specifying argument 'seed'. There is a risk that those random numbers are not statistically sound and the overall results might be invalid. To fix this, specify 'seed=TRUE'. This ensures that proper, parallel-safe random numbers are produced via the L'Ecuyer-CMRG method. To disable this check, use 'seed=NULL', or set option 'future.rng.onMisuse' to \"ignore\".”\n"
     ]
    },
    {
     "name": "stdout",
     "output_type": "stream",
     "text": [
      "chip_WV02_20130818_M1BS_10300100269C9900_02746_v20230331_32603 is all zero canopy height, not exported\n"
     ]
    },
    {
     "name": "stderr",
     "output_type": "stream",
     "text": [
      "Warning message:\n",
      "“UNRELIABLE VALUE: Future (‘<none>’) unexpectedly generated random numbers without specifying argument 'seed'. There is a risk that those random numbers are not statistically sound and the overall results might be invalid. To fix this, specify 'seed=TRUE'. This ensures that proper, parallel-safe random numbers are produced via the L'Ecuyer-CMRG method. To disable this check, use 'seed=NULL', or set option 'future.rng.onMisuse' to \"ignore\".”\n",
      "Warning message:\n",
      "“UNRELIABLE VALUE: Future (‘<none>’) unexpectedly generated random numbers without specifying argument 'seed'. There is a risk that those random numbers are not statistically sound and the overall results might be invalid. To fix this, specify 'seed=TRUE'. This ensures that proper, parallel-safe random numbers are produced via the L'Ecuyer-CMRG method. To disable this check, use 'seed=NULL', or set option 'future.rng.onMisuse' to \"ignore\".”\n",
      "Warning message:\n",
      "“UNRELIABLE VALUE: Future (‘<none>’) unexpectedly generated random numbers without specifying argument 'seed'. There is a risk that those random numbers are not statistically sound and the overall results might be invalid. To fix this, specify 'seed=TRUE'. This ensures that proper, parallel-safe random numbers are produced via the L'Ecuyer-CMRG method. To disable this check, use 'seed=NULL', or set option 'future.rng.onMisuse' to \"ignore\".”\n",
      "Warning message:\n",
      "“UNRELIABLE VALUE: Future (‘<none>’) unexpectedly generated random numbers without specifying argument 'seed'. There is a risk that those random numbers are not statistically sound and the overall results might be invalid. To fix this, specify 'seed=TRUE'. This ensures that proper, parallel-safe random numbers are produced via the L'Ecuyer-CMRG method. To disable this check, use 'seed=NULL', or set option 'future.rng.onMisuse' to \"ignore\".”\n",
      "Warning message:\n",
      "“UNRELIABLE VALUE: Future (‘<none>’) unexpectedly generated random numbers without specifying argument 'seed'. There is a risk that those random numbers are not statistically sound and the overall results might be invalid. To fix this, specify 'seed=TRUE'. This ensures that proper, parallel-safe random numbers are produced via the L'Ecuyer-CMRG method. To disable this check, use 'seed=NULL', or set option 'future.rng.onMisuse' to \"ignore\".”\n",
      "Warning message:\n",
      "“UNRELIABLE VALUE: Future (‘<none>’) unexpectedly generated random numbers without specifying argument 'seed'. There is a risk that those random numbers are not statistically sound and the overall results might be invalid. To fix this, specify 'seed=TRUE'. This ensures that proper, parallel-safe random numbers are produced via the L'Ecuyer-CMRG method. To disable this check, use 'seed=NULL', or set option 'future.rng.onMisuse' to \"ignore\".”\n",
      "Warning message:\n",
      "“UNRELIABLE VALUE: Future (‘<none>’) unexpectedly generated random numbers without specifying argument 'seed'. There is a risk that those random numbers are not statistically sound and the overall results might be invalid. To fix this, specify 'seed=TRUE'. This ensures that proper, parallel-safe random numbers are produced via the L'Ecuyer-CMRG method. To disable this check, use 'seed=NULL', or set option 'future.rng.onMisuse' to \"ignore\".”\n",
      "Warning message:\n",
      "“UNRELIABLE VALUE: Future (‘<none>’) unexpectedly generated random numbers without specifying argument 'seed'. There is a risk that those random numbers are not statistically sound and the overall results might be invalid. To fix this, specify 'seed=TRUE'. This ensures that proper, parallel-safe random numbers are produced via the L'Ecuyer-CMRG method. To disable this check, use 'seed=NULL', or set option 'future.rng.onMisuse' to \"ignore\".”\n",
      "Warning message:\n",
      "“UNRELIABLE VALUE: Future (‘<none>’) unexpectedly generated random numbers without specifying argument 'seed'. There is a risk that those random numbers are not statistically sound and the overall results might be invalid. To fix this, specify 'seed=TRUE'. This ensures that proper, parallel-safe random numbers are produced via the L'Ecuyer-CMRG method. To disable this check, use 'seed=NULL', or set option 'future.rng.onMisuse' to \"ignore\".”\n"
     ]
    },
    {
     "name": "stdout",
     "output_type": "stream",
     "text": [
      "[1] 32604\n"
     ]
    },
    {
     "name": "stderr",
     "output_type": "stream",
     "text": [
      "Warning message:\n",
      "“UNRELIABLE VALUE: Future (‘<none>’) unexpectedly generated random numbers without specifying argument 'seed'. There is a risk that those random numbers are not statistically sound and the overall results might be invalid. To fix this, specify 'seed=TRUE'. This ensures that proper, parallel-safe random numbers are produced via the L'Ecuyer-CMRG method. To disable this check, use 'seed=NULL', or set option 'future.rng.onMisuse' to \"ignore\".”\n",
      "Warning message:\n",
      "“UNRELIABLE VALUE: Future (‘<none>’) unexpectedly generated random numbers without specifying argument 'seed'. There is a risk that those random numbers are not statistically sound and the overall results might be invalid. To fix this, specify 'seed=TRUE'. This ensures that proper, parallel-safe random numbers are produced via the L'Ecuyer-CMRG method. To disable this check, use 'seed=NULL', or set option 'future.rng.onMisuse' to \"ignore\".”\n",
      "Warning message:\n",
      "“UNRELIABLE VALUE: Future (‘<none>’) unexpectedly generated random numbers without specifying argument 'seed'. There is a risk that those random numbers are not statistically sound and the overall results might be invalid. To fix this, specify 'seed=TRUE'. This ensures that proper, parallel-safe random numbers are produced via the L'Ecuyer-CMRG method. To disable this check, use 'seed=NULL', or set option 'future.rng.onMisuse' to \"ignore\".”\n",
      "Warning message:\n",
      "“UNRELIABLE VALUE: Future (‘<none>’) unexpectedly generated random numbers without specifying argument 'seed'. There is a risk that those random numbers are not statistically sound and the overall results might be invalid. To fix this, specify 'seed=TRUE'. This ensures that proper, parallel-safe random numbers are produced via the L'Ecuyer-CMRG method. To disable this check, use 'seed=NULL', or set option 'future.rng.onMisuse' to \"ignore\".”\n",
      "Warning message:\n",
      "“UNRELIABLE VALUE: Future (‘<none>’) unexpectedly generated random numbers without specifying argument 'seed'. There is a risk that those random numbers are not statistically sound and the overall results might be invalid. To fix this, specify 'seed=TRUE'. This ensures that proper, parallel-safe random numbers are produced via the L'Ecuyer-CMRG method. To disable this check, use 'seed=NULL', or set option 'future.rng.onMisuse' to \"ignore\".”\n",
      "Warning message:\n",
      "“UNRELIABLE VALUE: Future (‘<none>’) unexpectedly generated random numbers without specifying argument 'seed'. There is a risk that those random numbers are not statistically sound and the overall results might be invalid. To fix this, specify 'seed=TRUE'. This ensures that proper, parallel-safe random numbers are produced via the L'Ecuyer-CMRG method. To disable this check, use 'seed=NULL', or set option 'future.rng.onMisuse' to \"ignore\".”\n",
      "Warning message:\n",
      "“UNRELIABLE VALUE: Future (‘<none>’) unexpectedly generated random numbers without specifying argument 'seed'. There is a risk that those random numbers are not statistically sound and the overall results might be invalid. To fix this, specify 'seed=TRUE'. This ensures that proper, parallel-safe random numbers are produced via the L'Ecuyer-CMRG method. To disable this check, use 'seed=NULL', or set option 'future.rng.onMisuse' to \"ignore\".”\n",
      "Warning message:\n",
      "“UNRELIABLE VALUE: Future (‘<none>’) unexpectedly generated random numbers without specifying argument 'seed'. There is a risk that those random numbers are not statistically sound and the overall results might be invalid. To fix this, specify 'seed=TRUE'. This ensures that proper, parallel-safe random numbers are produced via the L'Ecuyer-CMRG method. To disable this check, use 'seed=NULL', or set option 'future.rng.onMisuse' to \"ignore\".”\n",
      "Warning message:\n",
      "“UNRELIABLE VALUE: Future (‘<none>’) unexpectedly generated random numbers without specifying argument 'seed'. There is a risk that those random numbers are not statistically sound and the overall results might be invalid. To fix this, specify 'seed=TRUE'. This ensures that proper, parallel-safe random numbers are produced via the L'Ecuyer-CMRG method. To disable this check, use 'seed=NULL', or set option 'future.rng.onMisuse' to \"ignore\".”\n",
      "Warning message:\n",
      "“UNRELIABLE VALUE: Future (‘<none>’) unexpectedly generated random numbers without specifying argument 'seed'. There is a risk that those random numbers are not statistically sound and the overall results might be invalid. To fix this, specify 'seed=TRUE'. This ensures that proper, parallel-safe random numbers are produced via the L'Ecuyer-CMRG method. To disable this check, use 'seed=NULL', or set option 'future.rng.onMisuse' to \"ignore\".”\n",
      "Warning message:\n",
      "“UNRELIABLE VALUE: Future (‘<none>’) unexpectedly generated random numbers without specifying argument 'seed'. There is a risk that those random numbers are not statistically sound and the overall results might be invalid. To fix this, specify 'seed=TRUE'. This ensures that proper, parallel-safe random numbers are produced via the L'Ecuyer-CMRG method. To disable this check, use 'seed=NULL', or set option 'future.rng.onMisuse' to \"ignore\".”\n",
      "Warning message:\n",
      "“UNRELIABLE VALUE: Future (‘<none>’) unexpectedly generated random numbers without specifying argument 'seed'. There is a risk that those random numbers are not statistically sound and the overall results might be invalid. To fix this, specify 'seed=TRUE'. This ensures that proper, parallel-safe random numbers are produced via the L'Ecuyer-CMRG method. To disable this check, use 'seed=NULL', or set option 'future.rng.onMisuse' to \"ignore\".”\n",
      "Warning message:\n",
      "“UNRELIABLE VALUE: Future (‘<none>’) unexpectedly generated random numbers without specifying argument 'seed'. There is a risk that those random numbers are not statistically sound and the overall results might be invalid. To fix this, specify 'seed=TRUE'. This ensures that proper, parallel-safe random numbers are produced via the L'Ecuyer-CMRG method. To disable this check, use 'seed=NULL', or set option 'future.rng.onMisuse' to \"ignore\".”\n",
      "Warning message:\n",
      "“UNRELIABLE VALUE: Future (‘<none>’) unexpectedly generated random numbers without specifying argument 'seed'. There is a risk that those random numbers are not statistically sound and the overall results might be invalid. To fix this, specify 'seed=TRUE'. This ensures that proper, parallel-safe random numbers are produced via the L'Ecuyer-CMRG method. To disable this check, use 'seed=NULL', or set option 'future.rng.onMisuse' to \"ignore\".”\n",
      "Warning message:\n",
      "“UNRELIABLE VALUE: Future (‘<none>’) unexpectedly generated random numbers without specifying argument 'seed'. There is a risk that those random numbers are not statistically sound and the overall results might be invalid. To fix this, specify 'seed=TRUE'. This ensures that proper, parallel-safe random numbers are produced via the L'Ecuyer-CMRG method. To disable this check, use 'seed=NULL', or set option 'future.rng.onMisuse' to \"ignore\".”\n",
      "Warning message:\n",
      "“UNRELIABLE VALUE: Future (‘<none>’) unexpectedly generated random numbers without specifying argument 'seed'. There is a risk that those random numbers are not statistically sound and the overall results might be invalid. To fix this, specify 'seed=TRUE'. This ensures that proper, parallel-safe random numbers are produced via the L'Ecuyer-CMRG method. To disable this check, use 'seed=NULL', or set option 'future.rng.onMisuse' to \"ignore\".”\n",
      "Warning message:\n",
      "“UNRELIABLE VALUE: Future (‘<none>’) unexpectedly generated random numbers without specifying argument 'seed'. There is a risk that those random numbers are not statistically sound and the overall results might be invalid. To fix this, specify 'seed=TRUE'. This ensures that proper, parallel-safe random numbers are produced via the L'Ecuyer-CMRG method. To disable this check, use 'seed=NULL', or set option 'future.rng.onMisuse' to \"ignore\".”\n",
      "Warning message:\n",
      "“UNRELIABLE VALUE: Future (‘<none>’) unexpectedly generated random numbers without specifying argument 'seed'. There is a risk that those random numbers are not statistically sound and the overall results might be invalid. To fix this, specify 'seed=TRUE'. This ensures that proper, parallel-safe random numbers are produced via the L'Ecuyer-CMRG method. To disable this check, use 'seed=NULL', or set option 'future.rng.onMisuse' to \"ignore\".”\n",
      "Warning message:\n",
      "“UNRELIABLE VALUE: Future (‘<none>’) unexpectedly generated random numbers without specifying argument 'seed'. There is a risk that those random numbers are not statistically sound and the overall results might be invalid. To fix this, specify 'seed=TRUE'. This ensures that proper, parallel-safe random numbers are produced via the L'Ecuyer-CMRG method. To disable this check, use 'seed=NULL', or set option 'future.rng.onMisuse' to \"ignore\".”\n",
      "Warning message:\n",
      "“UNRELIABLE VALUE: Future (‘<none>’) unexpectedly generated random numbers without specifying argument 'seed'. There is a risk that those random numbers are not statistically sound and the overall results might be invalid. To fix this, specify 'seed=TRUE'. This ensures that proper, parallel-safe random numbers are produced via the L'Ecuyer-CMRG method. To disable this check, use 'seed=NULL', or set option 'future.rng.onMisuse' to \"ignore\".”\n",
      "Warning message:\n",
      "“UNRELIABLE VALUE: Future (‘<none>’) unexpectedly generated random numbers without specifying argument 'seed'. There is a risk that those random numbers are not statistically sound and the overall results might be invalid. To fix this, specify 'seed=TRUE'. This ensures that proper, parallel-safe random numbers are produced via the L'Ecuyer-CMRG method. To disable this check, use 'seed=NULL', or set option 'future.rng.onMisuse' to \"ignore\".”\n",
      "Warning message:\n",
      "“UNRELIABLE VALUE: Future (‘<none>’) unexpectedly generated random numbers without specifying argument 'seed'. There is a risk that those random numbers are not statistically sound and the overall results might be invalid. To fix this, specify 'seed=TRUE'. This ensures that proper, parallel-safe random numbers are produced via the L'Ecuyer-CMRG method. To disable this check, use 'seed=NULL', or set option 'future.rng.onMisuse' to \"ignore\".”\n",
      "Warning message:\n",
      "“UNRELIABLE VALUE: Future (‘<none>’) unexpectedly generated random numbers without specifying argument 'seed'. There is a risk that those random numbers are not statistically sound and the overall results might be invalid. To fix this, specify 'seed=TRUE'. This ensures that proper, parallel-safe random numbers are produced via the L'Ecuyer-CMRG method. To disable this check, use 'seed=NULL', or set option 'future.rng.onMisuse' to \"ignore\".”\n",
      "Warning message:\n",
      "“UNRELIABLE VALUE: Future (‘<none>’) unexpectedly generated random numbers without specifying argument 'seed'. There is a risk that those random numbers are not statistically sound and the overall results might be invalid. To fix this, specify 'seed=TRUE'. This ensures that proper, parallel-safe random numbers are produced via the L'Ecuyer-CMRG method. To disable this check, use 'seed=NULL', or set option 'future.rng.onMisuse' to \"ignore\".”\n",
      "Warning message:\n",
      "“UNRELIABLE VALUE: Future (‘<none>’) unexpectedly generated random numbers without specifying argument 'seed'. There is a risk that those random numbers are not statistically sound and the overall results might be invalid. To fix this, specify 'seed=TRUE'. This ensures that proper, parallel-safe random numbers are produced via the L'Ecuyer-CMRG method. To disable this check, use 'seed=NULL', or set option 'future.rng.onMisuse' to \"ignore\".”\n",
      "Warning message:\n",
      "“UNRELIABLE VALUE: Future (‘<none>’) unexpectedly generated random numbers without specifying argument 'seed'. There is a risk that those random numbers are not statistically sound and the overall results might be invalid. To fix this, specify 'seed=TRUE'. This ensures that proper, parallel-safe random numbers are produced via the L'Ecuyer-CMRG method. To disable this check, use 'seed=NULL', or set option 'future.rng.onMisuse' to \"ignore\".”\n",
      "Warning message:\n",
      "“UNRELIABLE VALUE: Future (‘<none>’) unexpectedly generated random numbers without specifying argument 'seed'. There is a risk that those random numbers are not statistically sound and the overall results might be invalid. To fix this, specify 'seed=TRUE'. This ensures that proper, parallel-safe random numbers are produced via the L'Ecuyer-CMRG method. To disable this check, use 'seed=NULL', or set option 'future.rng.onMisuse' to \"ignore\".”\n",
      "Warning message:\n",
      "“UNRELIABLE VALUE: Future (‘<none>’) unexpectedly generated random numbers without specifying argument 'seed'. There is a risk that those random numbers are not statistically sound and the overall results might be invalid. To fix this, specify 'seed=TRUE'. This ensures that proper, parallel-safe random numbers are produced via the L'Ecuyer-CMRG method. To disable this check, use 'seed=NULL', or set option 'future.rng.onMisuse' to \"ignore\".”\n",
      "Warning message:\n",
      "“UNRELIABLE VALUE: Future (‘<none>’) unexpectedly generated random numbers without specifying argument 'seed'. There is a risk that those random numbers are not statistically sound and the overall results might be invalid. To fix this, specify 'seed=TRUE'. This ensures that proper, parallel-safe random numbers are produced via the L'Ecuyer-CMRG method. To disable this check, use 'seed=NULL', or set option 'future.rng.onMisuse' to \"ignore\".”\n",
      "Warning message:\n",
      "“UNRELIABLE VALUE: Future (‘<none>’) unexpectedly generated random numbers without specifying argument 'seed'. There is a risk that those random numbers are not statistically sound and the overall results might be invalid. To fix this, specify 'seed=TRUE'. This ensures that proper, parallel-safe random numbers are produced via the L'Ecuyer-CMRG method. To disable this check, use 'seed=NULL', or set option 'future.rng.onMisuse' to \"ignore\".”\n",
      "Warning message:\n",
      "“UNRELIABLE VALUE: Future (‘<none>’) unexpectedly generated random numbers without specifying argument 'seed'. There is a risk that those random numbers are not statistically sound and the overall results might be invalid. To fix this, specify 'seed=TRUE'. This ensures that proper, parallel-safe random numbers are produced via the L'Ecuyer-CMRG method. To disable this check, use 'seed=NULL', or set option 'future.rng.onMisuse' to \"ignore\".”\n",
      "Warning message:\n",
      "“UNRELIABLE VALUE: Future (‘<none>’) unexpectedly generated random numbers without specifying argument 'seed'. There is a risk that those random numbers are not statistically sound and the overall results might be invalid. To fix this, specify 'seed=TRUE'. This ensures that proper, parallel-safe random numbers are produced via the L'Ecuyer-CMRG method. To disable this check, use 'seed=NULL', or set option 'future.rng.onMisuse' to \"ignore\".”\n",
      "Warning message:\n",
      "“UNRELIABLE VALUE: Future (‘<none>’) unexpectedly generated random numbers without specifying argument 'seed'. There is a risk that those random numbers are not statistically sound and the overall results might be invalid. To fix this, specify 'seed=TRUE'. This ensures that proper, parallel-safe random numbers are produced via the L'Ecuyer-CMRG method. To disable this check, use 'seed=NULL', or set option 'future.rng.onMisuse' to \"ignore\".”\n",
      "Warning message:\n",
      "“UNRELIABLE VALUE: Future (‘<none>’) unexpectedly generated random numbers without specifying argument 'seed'. There is a risk that those random numbers are not statistically sound and the overall results might be invalid. To fix this, specify 'seed=TRUE'. This ensures that proper, parallel-safe random numbers are produced via the L'Ecuyer-CMRG method. To disable this check, use 'seed=NULL', or set option 'future.rng.onMisuse' to \"ignore\".”\n",
      "Warning message:\n",
      "“UNRELIABLE VALUE: Future (‘<none>’) unexpectedly generated random numbers without specifying argument 'seed'. There is a risk that those random numbers are not statistically sound and the overall results might be invalid. To fix this, specify 'seed=TRUE'. This ensures that proper, parallel-safe random numbers are produced via the L'Ecuyer-CMRG method. To disable this check, use 'seed=NULL', or set option 'future.rng.onMisuse' to \"ignore\".”\n",
      "Warning message:\n",
      "“UNRELIABLE VALUE: Future (‘<none>’) unexpectedly generated random numbers without specifying argument 'seed'. There is a risk that those random numbers are not statistically sound and the overall results might be invalid. To fix this, specify 'seed=TRUE'. This ensures that proper, parallel-safe random numbers are produced via the L'Ecuyer-CMRG method. To disable this check, use 'seed=NULL', or set option 'future.rng.onMisuse' to \"ignore\".”\n",
      "Warning message:\n",
      "“UNRELIABLE VALUE: Future (‘<none>’) unexpectedly generated random numbers without specifying argument 'seed'. There is a risk that those random numbers are not statistically sound and the overall results might be invalid. To fix this, specify 'seed=TRUE'. This ensures that proper, parallel-safe random numbers are produced via the L'Ecuyer-CMRG method. To disable this check, use 'seed=NULL', or set option 'future.rng.onMisuse' to \"ignore\".”\n",
      "Warning message:\n",
      "“UNRELIABLE VALUE: Future (‘<none>’) unexpectedly generated random numbers without specifying argument 'seed'. There is a risk that those random numbers are not statistically sound and the overall results might be invalid. To fix this, specify 'seed=TRUE'. This ensures that proper, parallel-safe random numbers are produced via the L'Ecuyer-CMRG method. To disable this check, use 'seed=NULL', or set option 'future.rng.onMisuse' to \"ignore\".”\n",
      "Warning message:\n",
      "“UNRELIABLE VALUE: Future (‘<none>’) unexpectedly generated random numbers without specifying argument 'seed'. There is a risk that those random numbers are not statistically sound and the overall results might be invalid. To fix this, specify 'seed=TRUE'. This ensures that proper, parallel-safe random numbers are produced via the L'Ecuyer-CMRG method. To disable this check, use 'seed=NULL', or set option 'future.rng.onMisuse' to \"ignore\".”\n",
      "Warning message:\n",
      "“UNRELIABLE VALUE: Future (‘<none>’) unexpectedly generated random numbers without specifying argument 'seed'. There is a risk that those random numbers are not statistically sound and the overall results might be invalid. To fix this, specify 'seed=TRUE'. This ensures that proper, parallel-safe random numbers are produced via the L'Ecuyer-CMRG method. To disable this check, use 'seed=NULL', or set option 'future.rng.onMisuse' to \"ignore\".”\n",
      "Warning message:\n",
      "“UNRELIABLE VALUE: Future (‘<none>’) unexpectedly generated random numbers without specifying argument 'seed'. There is a risk that those random numbers are not statistically sound and the overall results might be invalid. To fix this, specify 'seed=TRUE'. This ensures that proper, parallel-safe random numbers are produced via the L'Ecuyer-CMRG method. To disable this check, use 'seed=NULL', or set option 'future.rng.onMisuse' to \"ignore\".”\n",
      "Warning message:\n",
      "“UNRELIABLE VALUE: Future (‘<none>’) unexpectedly generated random numbers without specifying argument 'seed'. There is a risk that those random numbers are not statistically sound and the overall results might be invalid. To fix this, specify 'seed=TRUE'. This ensures that proper, parallel-safe random numbers are produced via the L'Ecuyer-CMRG method. To disable this check, use 'seed=NULL', or set option 'future.rng.onMisuse' to \"ignore\".”\n"
     ]
    },
    {
     "name": "stdout",
     "output_type": "stream",
     "text": [
      "chip_WV02_20160816_M1BS_103001005BCAAD00_05363_v20230331_32604 is all zero canopy height, not exported\n"
     ]
    },
    {
     "name": "stderr",
     "output_type": "stream",
     "text": [
      "Warning message:\n",
      "“UNRELIABLE VALUE: Future (‘<none>’) unexpectedly generated random numbers without specifying argument 'seed'. There is a risk that those random numbers are not statistically sound and the overall results might be invalid. To fix this, specify 'seed=TRUE'. This ensures that proper, parallel-safe random numbers are produced via the L'Ecuyer-CMRG method. To disable this check, use 'seed=NULL', or set option 'future.rng.onMisuse' to \"ignore\".”\n",
      "Warning message:\n",
      "“UNRELIABLE VALUE: Future (‘<none>’) unexpectedly generated random numbers without specifying argument 'seed'. There is a risk that those random numbers are not statistically sound and the overall results might be invalid. To fix this, specify 'seed=TRUE'. This ensures that proper, parallel-safe random numbers are produced via the L'Ecuyer-CMRG method. To disable this check, use 'seed=NULL', or set option 'future.rng.onMisuse' to \"ignore\".”\n"
     ]
    },
    {
     "name": "stdout",
     "output_type": "stream",
     "text": [
      "chip_WV02_20160816_M1BS_103001005BCAAD00_05260_v20230331_32604 is all zero canopy height, not exported\n"
     ]
    },
    {
     "name": "stderr",
     "output_type": "stream",
     "text": [
      "Warning message:\n",
      "“UNRELIABLE VALUE: Future (‘<none>’) unexpectedly generated random numbers without specifying argument 'seed'. There is a risk that those random numbers are not statistically sound and the overall results might be invalid. To fix this, specify 'seed=TRUE'. This ensures that proper, parallel-safe random numbers are produced via the L'Ecuyer-CMRG method. To disable this check, use 'seed=NULL', or set option 'future.rng.onMisuse' to \"ignore\".”\n",
      "Warning message:\n",
      "“UNRELIABLE VALUE: Future (‘<none>’) unexpectedly generated random numbers without specifying argument 'seed'. There is a risk that those random numbers are not statistically sound and the overall results might be invalid. To fix this, specify 'seed=TRUE'. This ensures that proper, parallel-safe random numbers are produced via the L'Ecuyer-CMRG method. To disable this check, use 'seed=NULL', or set option 'future.rng.onMisuse' to \"ignore\".”\n",
      "Warning message:\n",
      "“UNRELIABLE VALUE: Future (‘<none>’) unexpectedly generated random numbers without specifying argument 'seed'. There is a risk that those random numbers are not statistically sound and the overall results might be invalid. To fix this, specify 'seed=TRUE'. This ensures that proper, parallel-safe random numbers are produced via the L'Ecuyer-CMRG method. To disable this check, use 'seed=NULL', or set option 'future.rng.onMisuse' to \"ignore\".”\n",
      "Warning message:\n",
      "“UNRELIABLE VALUE: Future (‘<none>’) unexpectedly generated random numbers without specifying argument 'seed'. There is a risk that those random numbers are not statistically sound and the overall results might be invalid. To fix this, specify 'seed=TRUE'. This ensures that proper, parallel-safe random numbers are produced via the L'Ecuyer-CMRG method. To disable this check, use 'seed=NULL', or set option 'future.rng.onMisuse' to \"ignore\".”\n",
      "Warning message:\n",
      "“UNRELIABLE VALUE: Future (‘<none>’) unexpectedly generated random numbers without specifying argument 'seed'. There is a risk that those random numbers are not statistically sound and the overall results might be invalid. To fix this, specify 'seed=TRUE'. This ensures that proper, parallel-safe random numbers are produced via the L'Ecuyer-CMRG method. To disable this check, use 'seed=NULL', or set option 'future.rng.onMisuse' to \"ignore\".”\n",
      "Warning message:\n",
      "“UNRELIABLE VALUE: Future (‘<none>’) unexpectedly generated random numbers without specifying argument 'seed'. There is a risk that those random numbers are not statistically sound and the overall results might be invalid. To fix this, specify 'seed=TRUE'. This ensures that proper, parallel-safe random numbers are produced via the L'Ecuyer-CMRG method. To disable this check, use 'seed=NULL', or set option 'future.rng.onMisuse' to \"ignore\".”\n",
      "Warning message:\n",
      "“UNRELIABLE VALUE: Future (‘<none>’) unexpectedly generated random numbers without specifying argument 'seed'. There is a risk that those random numbers are not statistically sound and the overall results might be invalid. To fix this, specify 'seed=TRUE'. This ensures that proper, parallel-safe random numbers are produced via the L'Ecuyer-CMRG method. To disable this check, use 'seed=NULL', or set option 'future.rng.onMisuse' to \"ignore\".”\n",
      "Warning message:\n",
      "“UNRELIABLE VALUE: Future (‘<none>’) unexpectedly generated random numbers without specifying argument 'seed'. There is a risk that those random numbers are not statistically sound and the overall results might be invalid. To fix this, specify 'seed=TRUE'. This ensures that proper, parallel-safe random numbers are produced via the L'Ecuyer-CMRG method. To disable this check, use 'seed=NULL', or set option 'future.rng.onMisuse' to \"ignore\".”\n",
      "Warning message:\n",
      "“UNRELIABLE VALUE: Future (‘<none>’) unexpectedly generated random numbers without specifying argument 'seed'. There is a risk that those random numbers are not statistically sound and the overall results might be invalid. To fix this, specify 'seed=TRUE'. This ensures that proper, parallel-safe random numbers are produced via the L'Ecuyer-CMRG method. To disable this check, use 'seed=NULL', or set option 'future.rng.onMisuse' to \"ignore\".”\n",
      "Warning message:\n",
      "“UNRELIABLE VALUE: Future (‘<none>’) unexpectedly generated random numbers without specifying argument 'seed'. There is a risk that those random numbers are not statistically sound and the overall results might be invalid. To fix this, specify 'seed=TRUE'. This ensures that proper, parallel-safe random numbers are produced via the L'Ecuyer-CMRG method. To disable this check, use 'seed=NULL', or set option 'future.rng.onMisuse' to \"ignore\".”\n",
      "Warning message:\n",
      "“UNRELIABLE VALUE: Future (‘<none>’) unexpectedly generated random numbers without specifying argument 'seed'. There is a risk that those random numbers are not statistically sound and the overall results might be invalid. To fix this, specify 'seed=TRUE'. This ensures that proper, parallel-safe random numbers are produced via the L'Ecuyer-CMRG method. To disable this check, use 'seed=NULL', or set option 'future.rng.onMisuse' to \"ignore\".”\n",
      "Warning message:\n",
      "“UNRELIABLE VALUE: Future (‘<none>’) unexpectedly generated random numbers without specifying argument 'seed'. There is a risk that those random numbers are not statistically sound and the overall results might be invalid. To fix this, specify 'seed=TRUE'. This ensures that proper, parallel-safe random numbers are produced via the L'Ecuyer-CMRG method. To disable this check, use 'seed=NULL', or set option 'future.rng.onMisuse' to \"ignore\".”\n",
      "Warning message:\n",
      "“UNRELIABLE VALUE: Future (‘<none>’) unexpectedly generated random numbers without specifying argument 'seed'. There is a risk that those random numbers are not statistically sound and the overall results might be invalid. To fix this, specify 'seed=TRUE'. This ensures that proper, parallel-safe random numbers are produced via the L'Ecuyer-CMRG method. To disable this check, use 'seed=NULL', or set option 'future.rng.onMisuse' to \"ignore\".”\n",
      "Warning message:\n",
      "“UNRELIABLE VALUE: Future (‘<none>’) unexpectedly generated random numbers without specifying argument 'seed'. There is a risk that those random numbers are not statistically sound and the overall results might be invalid. To fix this, specify 'seed=TRUE'. This ensures that proper, parallel-safe random numbers are produced via the L'Ecuyer-CMRG method. To disable this check, use 'seed=NULL', or set option 'future.rng.onMisuse' to \"ignore\".”\n",
      "Warning message:\n",
      "“UNRELIABLE VALUE: Future (‘<none>’) unexpectedly generated random numbers without specifying argument 'seed'. There is a risk that those random numbers are not statistically sound and the overall results might be invalid. To fix this, specify 'seed=TRUE'. This ensures that proper, parallel-safe random numbers are produced via the L'Ecuyer-CMRG method. To disable this check, use 'seed=NULL', or set option 'future.rng.onMisuse' to \"ignore\".”\n",
      "Warning message:\n",
      "“UNRELIABLE VALUE: Future (‘<none>’) unexpectedly generated random numbers without specifying argument 'seed'. There is a risk that those random numbers are not statistically sound and the overall results might be invalid. To fix this, specify 'seed=TRUE'. This ensures that proper, parallel-safe random numbers are produced via the L'Ecuyer-CMRG method. To disable this check, use 'seed=NULL', or set option 'future.rng.onMisuse' to \"ignore\".”\n"
     ]
    },
    {
     "name": "stdout",
     "output_type": "stream",
     "text": [
      "[1] 32605\n"
     ]
    },
    {
     "name": "stderr",
     "output_type": "stream",
     "text": [
      "Warning message:\n",
      "“UNRELIABLE VALUE: Future (‘<none>’) unexpectedly generated random numbers without specifying argument 'seed'. There is a risk that those random numbers are not statistically sound and the overall results might be invalid. To fix this, specify 'seed=TRUE'. This ensures that proper, parallel-safe random numbers are produced via the L'Ecuyer-CMRG method. To disable this check, use 'seed=NULL', or set option 'future.rng.onMisuse' to \"ignore\".”\n",
      "Warning message:\n",
      "“UNRELIABLE VALUE: Future (‘<none>’) unexpectedly generated random numbers without specifying argument 'seed'. There is a risk that those random numbers are not statistically sound and the overall results might be invalid. To fix this, specify 'seed=TRUE'. This ensures that proper, parallel-safe random numbers are produced via the L'Ecuyer-CMRG method. To disable this check, use 'seed=NULL', or set option 'future.rng.onMisuse' to \"ignore\".”\n",
      "Warning message:\n",
      "“UNRELIABLE VALUE: Future (‘<none>’) unexpectedly generated random numbers without specifying argument 'seed'. There is a risk that those random numbers are not statistically sound and the overall results might be invalid. To fix this, specify 'seed=TRUE'. This ensures that proper, parallel-safe random numbers are produced via the L'Ecuyer-CMRG method. To disable this check, use 'seed=NULL', or set option 'future.rng.onMisuse' to \"ignore\".”\n",
      "Warning message:\n",
      "“UNRELIABLE VALUE: Future (‘<none>’) unexpectedly generated random numbers without specifying argument 'seed'. There is a risk that those random numbers are not statistically sound and the overall results might be invalid. To fix this, specify 'seed=TRUE'. This ensures that proper, parallel-safe random numbers are produced via the L'Ecuyer-CMRG method. To disable this check, use 'seed=NULL', or set option 'future.rng.onMisuse' to \"ignore\".”\n",
      "Warning message:\n",
      "“UNRELIABLE VALUE: Future (‘<none>’) unexpectedly generated random numbers without specifying argument 'seed'. There is a risk that those random numbers are not statistically sound and the overall results might be invalid. To fix this, specify 'seed=TRUE'. This ensures that proper, parallel-safe random numbers are produced via the L'Ecuyer-CMRG method. To disable this check, use 'seed=NULL', or set option 'future.rng.onMisuse' to \"ignore\".”\n",
      "Warning message:\n",
      "“UNRELIABLE VALUE: Future (‘<none>’) unexpectedly generated random numbers without specifying argument 'seed'. There is a risk that those random numbers are not statistically sound and the overall results might be invalid. To fix this, specify 'seed=TRUE'. This ensures that proper, parallel-safe random numbers are produced via the L'Ecuyer-CMRG method. To disable this check, use 'seed=NULL', or set option 'future.rng.onMisuse' to \"ignore\".”\n",
      "Warning message:\n",
      "“UNRELIABLE VALUE: Future (‘<none>’) unexpectedly generated random numbers without specifying argument 'seed'. There is a risk that those random numbers are not statistically sound and the overall results might be invalid. To fix this, specify 'seed=TRUE'. This ensures that proper, parallel-safe random numbers are produced via the L'Ecuyer-CMRG method. To disable this check, use 'seed=NULL', or set option 'future.rng.onMisuse' to \"ignore\".”\n",
      "Warning message:\n",
      "“UNRELIABLE VALUE: Future (‘<none>’) unexpectedly generated random numbers without specifying argument 'seed'. There is a risk that those random numbers are not statistically sound and the overall results might be invalid. To fix this, specify 'seed=TRUE'. This ensures that proper, parallel-safe random numbers are produced via the L'Ecuyer-CMRG method. To disable this check, use 'seed=NULL', or set option 'future.rng.onMisuse' to \"ignore\".”\n",
      "Warning message:\n",
      "“UNRELIABLE VALUE: Future (‘<none>’) unexpectedly generated random numbers without specifying argument 'seed'. There is a risk that those random numbers are not statistically sound and the overall results might be invalid. To fix this, specify 'seed=TRUE'. This ensures that proper, parallel-safe random numbers are produced via the L'Ecuyer-CMRG method. To disable this check, use 'seed=NULL', or set option 'future.rng.onMisuse' to \"ignore\".”\n",
      "Warning message:\n",
      "“UNRELIABLE VALUE: Future (‘<none>’) unexpectedly generated random numbers without specifying argument 'seed'. There is a risk that those random numbers are not statistically sound and the overall results might be invalid. To fix this, specify 'seed=TRUE'. This ensures that proper, parallel-safe random numbers are produced via the L'Ecuyer-CMRG method. To disable this check, use 'seed=NULL', or set option 'future.rng.onMisuse' to \"ignore\".”\n",
      "Warning message:\n",
      "“UNRELIABLE VALUE: Future (‘<none>’) unexpectedly generated random numbers without specifying argument 'seed'. There is a risk that those random numbers are not statistically sound and the overall results might be invalid. To fix this, specify 'seed=TRUE'. This ensures that proper, parallel-safe random numbers are produced via the L'Ecuyer-CMRG method. To disable this check, use 'seed=NULL', or set option 'future.rng.onMisuse' to \"ignore\".”\n",
      "Warning message:\n",
      "“UNRELIABLE VALUE: Future (‘<none>’) unexpectedly generated random numbers without specifying argument 'seed'. There is a risk that those random numbers are not statistically sound and the overall results might be invalid. To fix this, specify 'seed=TRUE'. This ensures that proper, parallel-safe random numbers are produced via the L'Ecuyer-CMRG method. To disable this check, use 'seed=NULL', or set option 'future.rng.onMisuse' to \"ignore\".”\n",
      "Warning message:\n",
      "“UNRELIABLE VALUE: Future (‘<none>’) unexpectedly generated random numbers without specifying argument 'seed'. There is a risk that those random numbers are not statistically sound and the overall results might be invalid. To fix this, specify 'seed=TRUE'. This ensures that proper, parallel-safe random numbers are produced via the L'Ecuyer-CMRG method. To disable this check, use 'seed=NULL', or set option 'future.rng.onMisuse' to \"ignore\".”\n",
      "Warning message:\n",
      "“UNRELIABLE VALUE: Future (‘<none>’) unexpectedly generated random numbers without specifying argument 'seed'. There is a risk that those random numbers are not statistically sound and the overall results might be invalid. To fix this, specify 'seed=TRUE'. This ensures that proper, parallel-safe random numbers are produced via the L'Ecuyer-CMRG method. To disable this check, use 'seed=NULL', or set option 'future.rng.onMisuse' to \"ignore\".”\n",
      "Warning message:\n",
      "“UNRELIABLE VALUE: Future (‘<none>’) unexpectedly generated random numbers without specifying argument 'seed'. There is a risk that those random numbers are not statistically sound and the overall results might be invalid. To fix this, specify 'seed=TRUE'. This ensures that proper, parallel-safe random numbers are produced via the L'Ecuyer-CMRG method. To disable this check, use 'seed=NULL', or set option 'future.rng.onMisuse' to \"ignore\".”\n",
      "Warning message:\n",
      "“UNRELIABLE VALUE: Future (‘<none>’) unexpectedly generated random numbers without specifying argument 'seed'. There is a risk that those random numbers are not statistically sound and the overall results might be invalid. To fix this, specify 'seed=TRUE'. This ensures that proper, parallel-safe random numbers are produced via the L'Ecuyer-CMRG method. To disable this check, use 'seed=NULL', or set option 'future.rng.onMisuse' to \"ignore\".”\n",
      "Warning message:\n",
      "“UNRELIABLE VALUE: Future (‘<none>’) unexpectedly generated random numbers without specifying argument 'seed'. There is a risk that those random numbers are not statistically sound and the overall results might be invalid. To fix this, specify 'seed=TRUE'. This ensures that proper, parallel-safe random numbers are produced via the L'Ecuyer-CMRG method. To disable this check, use 'seed=NULL', or set option 'future.rng.onMisuse' to \"ignore\".”\n",
      "Warning message:\n",
      "“UNRELIABLE VALUE: Future (‘<none>’) unexpectedly generated random numbers without specifying argument 'seed'. There is a risk that those random numbers are not statistically sound and the overall results might be invalid. To fix this, specify 'seed=TRUE'. This ensures that proper, parallel-safe random numbers are produced via the L'Ecuyer-CMRG method. To disable this check, use 'seed=NULL', or set option 'future.rng.onMisuse' to \"ignore\".”\n",
      "Warning message:\n",
      "“UNRELIABLE VALUE: Future (‘<none>’) unexpectedly generated random numbers without specifying argument 'seed'. There is a risk that those random numbers are not statistically sound and the overall results might be invalid. To fix this, specify 'seed=TRUE'. This ensures that proper, parallel-safe random numbers are produced via the L'Ecuyer-CMRG method. To disable this check, use 'seed=NULL', or set option 'future.rng.onMisuse' to \"ignore\".”\n",
      "Warning message:\n",
      "“UNRELIABLE VALUE: Future (‘<none>’) unexpectedly generated random numbers without specifying argument 'seed'. There is a risk that those random numbers are not statistically sound and the overall results might be invalid. To fix this, specify 'seed=TRUE'. This ensures that proper, parallel-safe random numbers are produced via the L'Ecuyer-CMRG method. To disable this check, use 'seed=NULL', or set option 'future.rng.onMisuse' to \"ignore\".”\n",
      "Warning message:\n",
      "“UNRELIABLE VALUE: Future (‘<none>’) unexpectedly generated random numbers without specifying argument 'seed'. There is a risk that those random numbers are not statistically sound and the overall results might be invalid. To fix this, specify 'seed=TRUE'. This ensures that proper, parallel-safe random numbers are produced via the L'Ecuyer-CMRG method. To disable this check, use 'seed=NULL', or set option 'future.rng.onMisuse' to \"ignore\".”\n",
      "Warning message:\n",
      "“UNRELIABLE VALUE: Future (‘<none>’) unexpectedly generated random numbers without specifying argument 'seed'. There is a risk that those random numbers are not statistically sound and the overall results might be invalid. To fix this, specify 'seed=TRUE'. This ensures that proper, parallel-safe random numbers are produced via the L'Ecuyer-CMRG method. To disable this check, use 'seed=NULL', or set option 'future.rng.onMisuse' to \"ignore\".”\n",
      "Warning message:\n",
      "“UNRELIABLE VALUE: Future (‘<none>’) unexpectedly generated random numbers without specifying argument 'seed'. There is a risk that those random numbers are not statistically sound and the overall results might be invalid. To fix this, specify 'seed=TRUE'. This ensures that proper, parallel-safe random numbers are produced via the L'Ecuyer-CMRG method. To disable this check, use 'seed=NULL', or set option 'future.rng.onMisuse' to \"ignore\".”\n",
      "Warning message:\n",
      "“UNRELIABLE VALUE: Future (‘<none>’) unexpectedly generated random numbers without specifying argument 'seed'. There is a risk that those random numbers are not statistically sound and the overall results might be invalid. To fix this, specify 'seed=TRUE'. This ensures that proper, parallel-safe random numbers are produced via the L'Ecuyer-CMRG method. To disable this check, use 'seed=NULL', or set option 'future.rng.onMisuse' to \"ignore\".”\n",
      "Warning message:\n",
      "“UNRELIABLE VALUE: Future (‘<none>’) unexpectedly generated random numbers without specifying argument 'seed'. There is a risk that those random numbers are not statistically sound and the overall results might be invalid. To fix this, specify 'seed=TRUE'. This ensures that proper, parallel-safe random numbers are produced via the L'Ecuyer-CMRG method. To disable this check, use 'seed=NULL', or set option 'future.rng.onMisuse' to \"ignore\".”\n",
      "Warning message:\n",
      "“UNRELIABLE VALUE: Future (‘<none>’) unexpectedly generated random numbers without specifying argument 'seed'. There is a risk that those random numbers are not statistically sound and the overall results might be invalid. To fix this, specify 'seed=TRUE'. This ensures that proper, parallel-safe random numbers are produced via the L'Ecuyer-CMRG method. To disable this check, use 'seed=NULL', or set option 'future.rng.onMisuse' to \"ignore\".”\n",
      "Warning message:\n",
      "“UNRELIABLE VALUE: Future (‘<none>’) unexpectedly generated random numbers without specifying argument 'seed'. There is a risk that those random numbers are not statistically sound and the overall results might be invalid. To fix this, specify 'seed=TRUE'. This ensures that proper, parallel-safe random numbers are produced via the L'Ecuyer-CMRG method. To disable this check, use 'seed=NULL', or set option 'future.rng.onMisuse' to \"ignore\".”\n",
      "Warning message:\n",
      "“UNRELIABLE VALUE: Future (‘<none>’) unexpectedly generated random numbers without specifying argument 'seed'. There is a risk that those random numbers are not statistically sound and the overall results might be invalid. To fix this, specify 'seed=TRUE'. This ensures that proper, parallel-safe random numbers are produced via the L'Ecuyer-CMRG method. To disable this check, use 'seed=NULL', or set option 'future.rng.onMisuse' to \"ignore\".”\n",
      "Warning message:\n",
      "“UNRELIABLE VALUE: Future (‘<none>’) unexpectedly generated random numbers without specifying argument 'seed'. There is a risk that those random numbers are not statistically sound and the overall results might be invalid. To fix this, specify 'seed=TRUE'. This ensures that proper, parallel-safe random numbers are produced via the L'Ecuyer-CMRG method. To disable this check, use 'seed=NULL', or set option 'future.rng.onMisuse' to \"ignore\".”\n",
      "Warning message:\n",
      "“UNRELIABLE VALUE: Future (‘<none>’) unexpectedly generated random numbers without specifying argument 'seed'. There is a risk that those random numbers are not statistically sound and the overall results might be invalid. To fix this, specify 'seed=TRUE'. This ensures that proper, parallel-safe random numbers are produced via the L'Ecuyer-CMRG method. To disable this check, use 'seed=NULL', or set option 'future.rng.onMisuse' to \"ignore\".”\n",
      "Warning message:\n",
      "“UNRELIABLE VALUE: Future (‘<none>’) unexpectedly generated random numbers without specifying argument 'seed'. There is a risk that those random numbers are not statistically sound and the overall results might be invalid. To fix this, specify 'seed=TRUE'. This ensures that proper, parallel-safe random numbers are produced via the L'Ecuyer-CMRG method. To disable this check, use 'seed=NULL', or set option 'future.rng.onMisuse' to \"ignore\".”\n",
      "Warning message:\n",
      "“UNRELIABLE VALUE: Future (‘<none>’) unexpectedly generated random numbers without specifying argument 'seed'. There is a risk that those random numbers are not statistically sound and the overall results might be invalid. To fix this, specify 'seed=TRUE'. This ensures that proper, parallel-safe random numbers are produced via the L'Ecuyer-CMRG method. To disable this check, use 'seed=NULL', or set option 'future.rng.onMisuse' to \"ignore\".”\n",
      "Warning message:\n",
      "“UNRELIABLE VALUE: Future (‘<none>’) unexpectedly generated random numbers without specifying argument 'seed'. There is a risk that those random numbers are not statistically sound and the overall results might be invalid. To fix this, specify 'seed=TRUE'. This ensures that proper, parallel-safe random numbers are produced via the L'Ecuyer-CMRG method. To disable this check, use 'seed=NULL', or set option 'future.rng.onMisuse' to \"ignore\".”\n",
      "Warning message:\n",
      "“UNRELIABLE VALUE: Future (‘<none>’) unexpectedly generated random numbers without specifying argument 'seed'. There is a risk that those random numbers are not statistically sound and the overall results might be invalid. To fix this, specify 'seed=TRUE'. This ensures that proper, parallel-safe random numbers are produced via the L'Ecuyer-CMRG method. To disable this check, use 'seed=NULL', or set option 'future.rng.onMisuse' to \"ignore\".”\n",
      "Warning message:\n",
      "“UNRELIABLE VALUE: Future (‘<none>’) unexpectedly generated random numbers without specifying argument 'seed'. There is a risk that those random numbers are not statistically sound and the overall results might be invalid. To fix this, specify 'seed=TRUE'. This ensures that proper, parallel-safe random numbers are produced via the L'Ecuyer-CMRG method. To disable this check, use 'seed=NULL', or set option 'future.rng.onMisuse' to \"ignore\".”\n",
      "Warning message:\n",
      "“UNRELIABLE VALUE: Future (‘<none>’) unexpectedly generated random numbers without specifying argument 'seed'. There is a risk that those random numbers are not statistically sound and the overall results might be invalid. To fix this, specify 'seed=TRUE'. This ensures that proper, parallel-safe random numbers are produced via the L'Ecuyer-CMRG method. To disable this check, use 'seed=NULL', or set option 'future.rng.onMisuse' to \"ignore\".”\n",
      "Warning message:\n",
      "“UNRELIABLE VALUE: Future (‘<none>’) unexpectedly generated random numbers without specifying argument 'seed'. There is a risk that those random numbers are not statistically sound and the overall results might be invalid. To fix this, specify 'seed=TRUE'. This ensures that proper, parallel-safe random numbers are produced via the L'Ecuyer-CMRG method. To disable this check, use 'seed=NULL', or set option 'future.rng.onMisuse' to \"ignore\".”\n",
      "Warning message:\n",
      "“UNRELIABLE VALUE: Future (‘<none>’) unexpectedly generated random numbers without specifying argument 'seed'. There is a risk that those random numbers are not statistically sound and the overall results might be invalid. To fix this, specify 'seed=TRUE'. This ensures that proper, parallel-safe random numbers are produced via the L'Ecuyer-CMRG method. To disable this check, use 'seed=NULL', or set option 'future.rng.onMisuse' to \"ignore\".”\n",
      "Warning message:\n",
      "“UNRELIABLE VALUE: Future (‘<none>’) unexpectedly generated random numbers without specifying argument 'seed'. There is a risk that those random numbers are not statistically sound and the overall results might be invalid. To fix this, specify 'seed=TRUE'. This ensures that proper, parallel-safe random numbers are produced via the L'Ecuyer-CMRG method. To disable this check, use 'seed=NULL', or set option 'future.rng.onMisuse' to \"ignore\".”\n",
      "Warning message:\n",
      "“UNRELIABLE VALUE: Future (‘<none>’) unexpectedly generated random numbers without specifying argument 'seed'. There is a risk that those random numbers are not statistically sound and the overall results might be invalid. To fix this, specify 'seed=TRUE'. This ensures that proper, parallel-safe random numbers are produced via the L'Ecuyer-CMRG method. To disable this check, use 'seed=NULL', or set option 'future.rng.onMisuse' to \"ignore\".”\n",
      "Warning message:\n",
      "“UNRELIABLE VALUE: Future (‘<none>’) unexpectedly generated random numbers without specifying argument 'seed'. There is a risk that those random numbers are not statistically sound and the overall results might be invalid. To fix this, specify 'seed=TRUE'. This ensures that proper, parallel-safe random numbers are produced via the L'Ecuyer-CMRG method. To disable this check, use 'seed=NULL', or set option 'future.rng.onMisuse' to \"ignore\".”\n",
      "Warning message:\n",
      "“UNRELIABLE VALUE: Future (‘<none>’) unexpectedly generated random numbers without specifying argument 'seed'. There is a risk that those random numbers are not statistically sound and the overall results might be invalid. To fix this, specify 'seed=TRUE'. This ensures that proper, parallel-safe random numbers are produced via the L'Ecuyer-CMRG method. To disable this check, use 'seed=NULL', or set option 'future.rng.onMisuse' to \"ignore\".”\n",
      "Warning message:\n",
      "“UNRELIABLE VALUE: Future (‘<none>’) unexpectedly generated random numbers without specifying argument 'seed'. There is a risk that those random numbers are not statistically sound and the overall results might be invalid. To fix this, specify 'seed=TRUE'. This ensures that proper, parallel-safe random numbers are produced via the L'Ecuyer-CMRG method. To disable this check, use 'seed=NULL', or set option 'future.rng.onMisuse' to \"ignore\".”\n",
      "Warning message:\n",
      "“UNRELIABLE VALUE: Future (‘<none>’) unexpectedly generated random numbers without specifying argument 'seed'. There is a risk that those random numbers are not statistically sound and the overall results might be invalid. To fix this, specify 'seed=TRUE'. This ensures that proper, parallel-safe random numbers are produced via the L'Ecuyer-CMRG method. To disable this check, use 'seed=NULL', or set option 'future.rng.onMisuse' to \"ignore\".”\n",
      "Warning message:\n",
      "“UNRELIABLE VALUE: Future (‘<none>’) unexpectedly generated random numbers without specifying argument 'seed'. There is a risk that those random numbers are not statistically sound and the overall results might be invalid. To fix this, specify 'seed=TRUE'. This ensures that proper, parallel-safe random numbers are produced via the L'Ecuyer-CMRG method. To disable this check, use 'seed=NULL', or set option 'future.rng.onMisuse' to \"ignore\".”\n",
      "Warning message:\n",
      "“UNRELIABLE VALUE: Future (‘<none>’) unexpectedly generated random numbers without specifying argument 'seed'. There is a risk that those random numbers are not statistically sound and the overall results might be invalid. To fix this, specify 'seed=TRUE'. This ensures that proper, parallel-safe random numbers are produced via the L'Ecuyer-CMRG method. To disable this check, use 'seed=NULL', or set option 'future.rng.onMisuse' to \"ignore\".”\n",
      "Warning message:\n",
      "“UNRELIABLE VALUE: Future (‘<none>’) unexpectedly generated random numbers without specifying argument 'seed'. There is a risk that those random numbers are not statistically sound and the overall results might be invalid. To fix this, specify 'seed=TRUE'. This ensures that proper, parallel-safe random numbers are produced via the L'Ecuyer-CMRG method. To disable this check, use 'seed=NULL', or set option 'future.rng.onMisuse' to \"ignore\".”\n",
      "Warning message:\n",
      "“UNRELIABLE VALUE: Future (‘<none>’) unexpectedly generated random numbers without specifying argument 'seed'. There is a risk that those random numbers are not statistically sound and the overall results might be invalid. To fix this, specify 'seed=TRUE'. This ensures that proper, parallel-safe random numbers are produced via the L'Ecuyer-CMRG method. To disable this check, use 'seed=NULL', or set option 'future.rng.onMisuse' to \"ignore\".”\n",
      "Warning message:\n",
      "“UNRELIABLE VALUE: Future (‘<none>’) unexpectedly generated random numbers without specifying argument 'seed'. There is a risk that those random numbers are not statistically sound and the overall results might be invalid. To fix this, specify 'seed=TRUE'. This ensures that proper, parallel-safe random numbers are produced via the L'Ecuyer-CMRG method. To disable this check, use 'seed=NULL', or set option 'future.rng.onMisuse' to \"ignore\".”\n",
      "Warning message:\n",
      "“UNRELIABLE VALUE: Future (‘<none>’) unexpectedly generated random numbers without specifying argument 'seed'. There is a risk that those random numbers are not statistically sound and the overall results might be invalid. To fix this, specify 'seed=TRUE'. This ensures that proper, parallel-safe random numbers are produced via the L'Ecuyer-CMRG method. To disable this check, use 'seed=NULL', or set option 'future.rng.onMisuse' to \"ignore\".”\n",
      "Warning message:\n",
      "“UNRELIABLE VALUE: Future (‘<none>’) unexpectedly generated random numbers without specifying argument 'seed'. There is a risk that those random numbers are not statistically sound and the overall results might be invalid. To fix this, specify 'seed=TRUE'. This ensures that proper, parallel-safe random numbers are produced via the L'Ecuyer-CMRG method. To disable this check, use 'seed=NULL', or set option 'future.rng.onMisuse' to \"ignore\".”\n",
      "Warning message:\n",
      "“UNRELIABLE VALUE: Future (‘<none>’) unexpectedly generated random numbers without specifying argument 'seed'. There is a risk that those random numbers are not statistically sound and the overall results might be invalid. To fix this, specify 'seed=TRUE'. This ensures that proper, parallel-safe random numbers are produced via the L'Ecuyer-CMRG method. To disable this check, use 'seed=NULL', or set option 'future.rng.onMisuse' to \"ignore\".”\n",
      "Warning message:\n",
      "“UNRELIABLE VALUE: Future (‘<none>’) unexpectedly generated random numbers without specifying argument 'seed'. There is a risk that those random numbers are not statistically sound and the overall results might be invalid. To fix this, specify 'seed=TRUE'. This ensures that proper, parallel-safe random numbers are produced via the L'Ecuyer-CMRG method. To disable this check, use 'seed=NULL', or set option 'future.rng.onMisuse' to \"ignore\".”\n",
      "Warning message:\n",
      "“UNRELIABLE VALUE: Future (‘<none>’) unexpectedly generated random numbers without specifying argument 'seed'. There is a risk that those random numbers are not statistically sound and the overall results might be invalid. To fix this, specify 'seed=TRUE'. This ensures that proper, parallel-safe random numbers are produced via the L'Ecuyer-CMRG method. To disable this check, use 'seed=NULL', or set option 'future.rng.onMisuse' to \"ignore\".”\n",
      "Warning message:\n",
      "“UNRELIABLE VALUE: Future (‘<none>’) unexpectedly generated random numbers without specifying argument 'seed'. There is a risk that those random numbers are not statistically sound and the overall results might be invalid. To fix this, specify 'seed=TRUE'. This ensures that proper, parallel-safe random numbers are produced via the L'Ecuyer-CMRG method. To disable this check, use 'seed=NULL', or set option 'future.rng.onMisuse' to \"ignore\".”\n",
      "Warning message:\n",
      "“UNRELIABLE VALUE: Future (‘<none>’) unexpectedly generated random numbers without specifying argument 'seed'. There is a risk that those random numbers are not statistically sound and the overall results might be invalid. To fix this, specify 'seed=TRUE'. This ensures that proper, parallel-safe random numbers are produced via the L'Ecuyer-CMRG method. To disable this check, use 'seed=NULL', or set option 'future.rng.onMisuse' to \"ignore\".”\n",
      "Warning message:\n",
      "“UNRELIABLE VALUE: Future (‘<none>’) unexpectedly generated random numbers without specifying argument 'seed'. There is a risk that those random numbers are not statistically sound and the overall results might be invalid. To fix this, specify 'seed=TRUE'. This ensures that proper, parallel-safe random numbers are produced via the L'Ecuyer-CMRG method. To disable this check, use 'seed=NULL', or set option 'future.rng.onMisuse' to \"ignore\".”\n",
      "Warning message:\n",
      "“UNRELIABLE VALUE: Future (‘<none>’) unexpectedly generated random numbers without specifying argument 'seed'. There is a risk that those random numbers are not statistically sound and the overall results might be invalid. To fix this, specify 'seed=TRUE'. This ensures that proper, parallel-safe random numbers are produced via the L'Ecuyer-CMRG method. To disable this check, use 'seed=NULL', or set option 'future.rng.onMisuse' to \"ignore\".”\n",
      "Warning message:\n",
      "“UNRELIABLE VALUE: Future (‘<none>’) unexpectedly generated random numbers without specifying argument 'seed'. There is a risk that those random numbers are not statistically sound and the overall results might be invalid. To fix this, specify 'seed=TRUE'. This ensures that proper, parallel-safe random numbers are produced via the L'Ecuyer-CMRG method. To disable this check, use 'seed=NULL', or set option 'future.rng.onMisuse' to \"ignore\".”\n",
      "Warning message:\n",
      "“UNRELIABLE VALUE: Future (‘<none>’) unexpectedly generated random numbers without specifying argument 'seed'. There is a risk that those random numbers are not statistically sound and the overall results might be invalid. To fix this, specify 'seed=TRUE'. This ensures that proper, parallel-safe random numbers are produced via the L'Ecuyer-CMRG method. To disable this check, use 'seed=NULL', or set option 'future.rng.onMisuse' to \"ignore\".”\n"
     ]
    },
    {
     "name": "stdout",
     "output_type": "stream",
     "text": [
      "[1] 32606\n",
      "chip_WV02_20140714_M1BS_10300100330BCE00_05334_v20230331_32606 is all zero canopy height, not exported\n",
      "chip_WV02_20140714_M1BS_10300100330BCE00_03267_v20230331_32606 is all zero canopy height, not exported\n"
     ]
    },
    {
     "name": "stderr",
     "output_type": "stream",
     "text": [
      "Warning message:\n",
      "“UNRELIABLE VALUE: Future (‘<none>’) unexpectedly generated random numbers without specifying argument 'seed'. There is a risk that those random numbers are not statistically sound and the overall results might be invalid. To fix this, specify 'seed=TRUE'. This ensures that proper, parallel-safe random numbers are produced via the L'Ecuyer-CMRG method. To disable this check, use 'seed=NULL', or set option 'future.rng.onMisuse' to \"ignore\".”\n"
     ]
    },
    {
     "name": "stdout",
     "output_type": "stream",
     "text": [
      "chip_WV02_20140714_M1BS_10300100330BCE00_02070_v20230331_32606 is all zero canopy height, not exported\n",
      "chip_WV02_20140714_M1BS_10300100330BCE00_01752_v20230331_32606 is all zero canopy height, not exported\n",
      "chip_WV02_20140714_M1BS_10300100330BCE00_02447_v20230331_32606 is all zero canopy height, not exported\n"
     ]
    },
    {
     "name": "stderr",
     "output_type": "stream",
     "text": [
      "Warning message:\n",
      "“UNRELIABLE VALUE: Future (‘<none>’) unexpectedly generated random numbers without specifying argument 'seed'. There is a risk that those random numbers are not statistically sound and the overall results might be invalid. To fix this, specify 'seed=TRUE'. This ensures that proper, parallel-safe random numbers are produced via the L'Ecuyer-CMRG method. To disable this check, use 'seed=NULL', or set option 'future.rng.onMisuse' to \"ignore\".”\n"
     ]
    },
    {
     "name": "stdout",
     "output_type": "stream",
     "text": [
      "chip_WV02_20140714_M1BS_10300100330BCE00_03201_v20230331_32606 is all zero canopy height, not exported\n",
      "chip_WV02_20140714_M1BS_10300100330BCE00_05398_v20230331_32606 is all zero canopy height, not exported\n"
     ]
    },
    {
     "name": "stderr",
     "output_type": "stream",
     "text": [
      "Warning message:\n",
      "“UNRELIABLE VALUE: Future (‘<none>’) unexpectedly generated random numbers without specifying argument 'seed'. There is a risk that those random numbers are not statistically sound and the overall results might be invalid. To fix this, specify 'seed=TRUE'. This ensures that proper, parallel-safe random numbers are produced via the L'Ecuyer-CMRG method. To disable this check, use 'seed=NULL', or set option 'future.rng.onMisuse' to \"ignore\".”\n"
     ]
    },
    {
     "name": "stdout",
     "output_type": "stream",
     "text": [
      "chip_WV02_20140714_M1BS_10300100330BCE00_01650_v20230331_32606 is all zero canopy height, not exported\n",
      "chip_WV02_20140714_M1BS_10300100330BCE00_01683_v20230331_32606 is all zero canopy height, not exported\n",
      "chip_WV02_20140714_M1BS_10300100330BCE00_03396_v20230331_32606 is all zero canopy height, not exported\n"
     ]
    },
    {
     "name": "stderr",
     "output_type": "stream",
     "text": [
      "Warning message:\n",
      "“UNRELIABLE VALUE: Future (‘<none>’) unexpectedly generated random numbers without specifying argument 'seed'. There is a risk that those random numbers are not statistically sound and the overall results might be invalid. To fix this, specify 'seed=TRUE'. This ensures that proper, parallel-safe random numbers are produced via the L'Ecuyer-CMRG method. To disable this check, use 'seed=NULL', or set option 'future.rng.onMisuse' to \"ignore\".”\n"
     ]
    },
    {
     "name": "stdout",
     "output_type": "stream",
     "text": [
      "chip_WV02_20140714_M1BS_10300100330BCE00_05209_v20230331_32606 is all zero canopy height, not exported\n",
      "chip_WV02_20140714_M1BS_10300100330BCE00_05274_v20230331_32606 is all zero canopy height, not exported\n"
     ]
    },
    {
     "name": "stderr",
     "output_type": "stream",
     "text": [
      "Warning message:\n",
      "“UNRELIABLE VALUE: Future (‘<none>’) unexpectedly generated random numbers without specifying argument 'seed'. There is a risk that those random numbers are not statistically sound and the overall results might be invalid. To fix this, specify 'seed=TRUE'. This ensures that proper, parallel-safe random numbers are produced via the L'Ecuyer-CMRG method. To disable this check, use 'seed=NULL', or set option 'future.rng.onMisuse' to \"ignore\".”\n"
     ]
    },
    {
     "name": "stdout",
     "output_type": "stream",
     "text": [
      "chip_WV02_20140714_M1BS_10300100330BCE00_03276_v20230331_32606 is all zero canopy height, not exported\n",
      "chip_WV02_20140714_M1BS_10300100330BCE00_01193_v20230331_32606 is all zero canopy height, not exported\n",
      "chip_WV02_20140714_M1BS_10300100330BCE00_00729_v20230331_32606 is all zero canopy height, not exported\n"
     ]
    },
    {
     "name": "stderr",
     "output_type": "stream",
     "text": [
      "Warning message:\n",
      "“UNRELIABLE VALUE: Future (‘<none>’) unexpectedly generated random numbers without specifying argument 'seed'. There is a risk that those random numbers are not statistically sound and the overall results might be invalid. To fix this, specify 'seed=TRUE'. This ensures that proper, parallel-safe random numbers are produced via the L'Ecuyer-CMRG method. To disable this check, use 'seed=NULL', or set option 'future.rng.onMisuse' to \"ignore\".”\n"
     ]
    },
    {
     "name": "stdout",
     "output_type": "stream",
     "text": [
      "chip_WV02_20140714_M1BS_10300100330BCE00_05690_v20230331_32606 is all zero canopy height, not exported\n"
     ]
    },
    {
     "name": "stderr",
     "output_type": "stream",
     "text": [
      "Warning message:\n",
      "“UNRELIABLE VALUE: Future (‘<none>’) unexpectedly generated random numbers without specifying argument 'seed'. There is a risk that those random numbers are not statistically sound and the overall results might be invalid. To fix this, specify 'seed=TRUE'. This ensures that proper, parallel-safe random numbers are produced via the L'Ecuyer-CMRG method. To disable this check, use 'seed=NULL', or set option 'future.rng.onMisuse' to \"ignore\".”\n"
     ]
    },
    {
     "name": "stdout",
     "output_type": "stream",
     "text": [
      "chip_WV02_20140714_M1BS_10300100330BCE00_01860_v20230331_32606 is all zero canopy height, not exported\n",
      "chip_WV02_20140714_M1BS_10300100330BCE00_00666_v20230331_32606 is all zero canopy height, not exported\n"
     ]
    },
    {
     "name": "stderr",
     "output_type": "stream",
     "text": [
      "Warning message:\n",
      "“UNRELIABLE VALUE: Future (‘<none>’) unexpectedly generated random numbers without specifying argument 'seed'. There is a risk that those random numbers are not statistically sound and the overall results might be invalid. To fix this, specify 'seed=TRUE'. This ensures that proper, parallel-safe random numbers are produced via the L'Ecuyer-CMRG method. To disable this check, use 'seed=NULL', or set option 'future.rng.onMisuse' to \"ignore\".”\n"
     ]
    },
    {
     "name": "stdout",
     "output_type": "stream",
     "text": [
      "chip_WV02_20140714_M1BS_10300100330BCE00_05311_v20230331_32606 is all zero canopy height, not exported\n"
     ]
    },
    {
     "name": "stderr",
     "output_type": "stream",
     "text": [
      "Warning message:\n",
      "“UNRELIABLE VALUE: Future (‘<none>’) unexpectedly generated random numbers without specifying argument 'seed'. There is a risk that those random numbers are not statistically sound and the overall results might be invalid. To fix this, specify 'seed=TRUE'. This ensures that proper, parallel-safe random numbers are produced via the L'Ecuyer-CMRG method. To disable this check, use 'seed=NULL', or set option 'future.rng.onMisuse' to \"ignore\".”\n"
     ]
    },
    {
     "name": "stdout",
     "output_type": "stream",
     "text": [
      "chip_WV02_20140714_M1BS_10300100330BCE00_01929_v20230331_32606 is all zero canopy height, not exported\n"
     ]
    },
    {
     "name": "stderr",
     "output_type": "stream",
     "text": [
      "Warning message:\n",
      "“UNRELIABLE VALUE: Future (‘<none>’) unexpectedly generated random numbers without specifying argument 'seed'. There is a risk that those random numbers are not statistically sound and the overall results might be invalid. To fix this, specify 'seed=TRUE'. This ensures that proper, parallel-safe random numbers are produced via the L'Ecuyer-CMRG method. To disable this check, use 'seed=NULL', or set option 'future.rng.onMisuse' to \"ignore\".”\n",
      "Warning message:\n",
      "“UNRELIABLE VALUE: Future (‘<none>’) unexpectedly generated random numbers without specifying argument 'seed'. There is a risk that those random numbers are not statistically sound and the overall results might be invalid. To fix this, specify 'seed=TRUE'. This ensures that proper, parallel-safe random numbers are produced via the L'Ecuyer-CMRG method. To disable this check, use 'seed=NULL', or set option 'future.rng.onMisuse' to \"ignore\".”\n"
     ]
    },
    {
     "name": "stdout",
     "output_type": "stream",
     "text": [
      "chip_WV02_20140714_M1BS_10300100330BCE00_01986_v20230331_32606 is all zero canopy height, not exported\n",
      "chip_WV02_20140714_M1BS_10300100330BCE00_00605_v20230331_32606 is all zero canopy height, not exported\n"
     ]
    },
    {
     "name": "stderr",
     "output_type": "stream",
     "text": [
      "Warning message:\n",
      "“UNRELIABLE VALUE: Future (‘<none>’) unexpectedly generated random numbers without specifying argument 'seed'. There is a risk that those random numbers are not statistically sound and the overall results might be invalid. To fix this, specify 'seed=TRUE'. This ensures that proper, parallel-safe random numbers are produced via the L'Ecuyer-CMRG method. To disable this check, use 'seed=NULL', or set option 'future.rng.onMisuse' to \"ignore\".”\n"
     ]
    },
    {
     "name": "stdout",
     "output_type": "stream",
     "text": [
      "chip_WV02_20140714_M1BS_10300100330BCE00_05865_v20230331_32606 is all zero canopy height, not exported\n"
     ]
    },
    {
     "name": "stderr",
     "output_type": "stream",
     "text": [
      "Warning message:\n",
      "“UNRELIABLE VALUE: Future (‘<none>’) unexpectedly generated random numbers without specifying argument 'seed'. There is a risk that those random numbers are not statistically sound and the overall results might be invalid. To fix this, specify 'seed=TRUE'. This ensures that proper, parallel-safe random numbers are produced via the L'Ecuyer-CMRG method. To disable this check, use 'seed=NULL', or set option 'future.rng.onMisuse' to \"ignore\".”\n"
     ]
    },
    {
     "name": "stdout",
     "output_type": "stream",
     "text": [
      "chip_WV02_20110819_M1BS_103001000DC1B400_07535_v20230331_32606 is all zero canopy height, not exported\n",
      "chip_WV02_20140714_M1BS_10300100330BCE00_01722_v20230331_32606 is all zero canopy height, not exported\n",
      "chip_WV02_20140714_M1BS_10300100330BCE00_01062_v20230331_32606 is all zero canopy height, not exported\n",
      "chip_WV02_20110819_M1BS_103001000DC1B400_06451_v20230331_32606 is all zero canopy height, not exported\n",
      "chip_WV02_20140714_M1BS_10300100330BCE00_02588_v20230331_32606 is all zero canopy height, not exported\n"
     ]
    },
    {
     "name": "stderr",
     "output_type": "stream",
     "text": [
      "Warning message:\n",
      "“UNRELIABLE VALUE: Future (‘<none>’) unexpectedly generated random numbers without specifying argument 'seed'. There is a risk that those random numbers are not statistically sound and the overall results might be invalid. To fix this, specify 'seed=TRUE'. This ensures that proper, parallel-safe random numbers are produced via the L'Ecuyer-CMRG method. To disable this check, use 'seed=NULL', or set option 'future.rng.onMisuse' to \"ignore\".”\n"
     ]
    },
    {
     "name": "stdout",
     "output_type": "stream",
     "text": [
      "chip_WV02_20140714_M1BS_10300100330BCE00_05915_v20230331_32606 is all zero canopy height, not exported\n",
      "chip_WV02_20140714_M1BS_10300100330BCE00_00872_v20230331_32606 is all zero canopy height, not exported\n",
      "chip_WV02_20140714_M1BS_10300100330BCE00_05730_v20230331_32606 is all zero canopy height, not exported\n",
      "chip_WV02_20140714_M1BS_10300100330BCE00_01956_v20230331_32606 is all zero canopy height, not exported\n"
     ]
    },
    {
     "name": "stderr",
     "output_type": "stream",
     "text": [
      "Warning message:\n",
      "“UNRELIABLE VALUE: Future (‘<none>’) unexpectedly generated random numbers without specifying argument 'seed'. There is a risk that those random numbers are not statistically sound and the overall results might be invalid. To fix this, specify 'seed=TRUE'. This ensures that proper, parallel-safe random numbers are produced via the L'Ecuyer-CMRG method. To disable this check, use 'seed=NULL', or set option 'future.rng.onMisuse' to \"ignore\".”\n"
     ]
    },
    {
     "name": "stdout",
     "output_type": "stream",
     "text": [
      "chip_WV02_20140714_M1BS_10300100330BCE00_05707_v20230331_32606 is all zero canopy height, not exported\n",
      "chip_WV02_20140714_M1BS_10300100330BCE00_03194_v20230331_32606 is all zero canopy height, not exported\n"
     ]
    },
    {
     "name": "stderr",
     "output_type": "stream",
     "text": [
      "Warning message:\n",
      "“UNRELIABLE VALUE: Future (‘<none>’) unexpectedly generated random numbers without specifying argument 'seed'. There is a risk that those random numbers are not statistically sound and the overall results might be invalid. To fix this, specify 'seed=TRUE'. This ensures that proper, parallel-safe random numbers are produced via the L'Ecuyer-CMRG method. To disable this check, use 'seed=NULL', or set option 'future.rng.onMisuse' to \"ignore\".”\n"
     ]
    },
    {
     "name": "stdout",
     "output_type": "stream",
     "text": [
      "chip_WV02_20140714_M1BS_10300100330BCE00_05340_v20230331_32606 is all zero canopy height, not exported\n",
      "chip_WV02_20140714_M1BS_10300100330BCE00_01710_v20230331_32606 is all zero canopy height, not exported\n"
     ]
    },
    {
     "name": "stderr",
     "output_type": "stream",
     "text": [
      "Warning message:\n",
      "“UNRELIABLE VALUE: Future (‘<none>’) unexpectedly generated random numbers without specifying argument 'seed'. There is a risk that those random numbers are not statistically sound and the overall results might be invalid. To fix this, specify 'seed=TRUE'. This ensures that proper, parallel-safe random numbers are produced via the L'Ecuyer-CMRG method. To disable this check, use 'seed=NULL', or set option 'future.rng.onMisuse' to \"ignore\".”\n"
     ]
    },
    {
     "name": "stdout",
     "output_type": "stream",
     "text": [
      "chip_WV02_20140714_M1BS_10300100330BCE00_05818_v20230331_32606 is all zero canopy height, not exported\n"
     ]
    },
    {
     "name": "stderr",
     "output_type": "stream",
     "text": [
      "Warning message:\n",
      "“UNRELIABLE VALUE: Future (‘<none>’) unexpectedly generated random numbers without specifying argument 'seed'. There is a risk that those random numbers are not statistically sound and the overall results might be invalid. To fix this, specify 'seed=TRUE'. This ensures that proper, parallel-safe random numbers are produced via the L'Ecuyer-CMRG method. To disable this check, use 'seed=NULL', or set option 'future.rng.onMisuse' to \"ignore\".”\n"
     ]
    },
    {
     "name": "stdout",
     "output_type": "stream",
     "text": [
      "chip_WV02_20140714_M1BS_10300100330BCE00_03074_v20230331_32606 is all zero canopy height, not exported\n",
      "chip_WV02_20140714_M1BS_10300100330BCE00_05426_v20230331_32606 is all zero canopy height, not exported\n",
      "chip_WV02_20140714_M1BS_10300100330BCE00_03265_v20230331_32606 is all zero canopy height, not exported\n"
     ]
    },
    {
     "name": "stderr",
     "output_type": "stream",
     "text": [
      "Warning message:\n",
      "“UNRELIABLE VALUE: Future (‘<none>’) unexpectedly generated random numbers without specifying argument 'seed'. There is a risk that those random numbers are not statistically sound and the overall results might be invalid. To fix this, specify 'seed=TRUE'. This ensures that proper, parallel-safe random numbers are produced via the L'Ecuyer-CMRG method. To disable this check, use 'seed=NULL', or set option 'future.rng.onMisuse' to \"ignore\".”\n"
     ]
    },
    {
     "name": "stdout",
     "output_type": "stream",
     "text": [
      "chip_WV02_20140714_M1BS_10300100330BCE00_02088_v20230331_32606 is all zero canopy height, not exported\n",
      "chip_WV02_20140714_M1BS_10300100330BCE00_05889_v20230331_32606 is all zero canopy height, not exported\n"
     ]
    },
    {
     "name": "stderr",
     "output_type": "stream",
     "text": [
      "Warning message:\n",
      "“UNRELIABLE VALUE: Future (‘<none>’) unexpectedly generated random numbers without specifying argument 'seed'. There is a risk that those random numbers are not statistically sound and the overall results might be invalid. To fix this, specify 'seed=TRUE'. This ensures that proper, parallel-safe random numbers are produced via the L'Ecuyer-CMRG method. To disable this check, use 'seed=NULL', or set option 'future.rng.onMisuse' to \"ignore\".”\n"
     ]
    },
    {
     "name": "stdout",
     "output_type": "stream",
     "text": [
      "chip_WV02_20140714_M1BS_10300100330BCE00_02750_v20230331_32606 is all zero canopy height, not exported\n",
      "chip_WV02_20140714_M1BS_10300100330BCE00_05896_v20230331_32606 is all zero canopy height, not exported\n",
      "chip_WV02_20140714_M1BS_10300100330BCE00_00726_v20230331_32606 is all zero canopy height, not exported\n"
     ]
    },
    {
     "name": "stderr",
     "output_type": "stream",
     "text": [
      "Warning message:\n",
      "“UNRELIABLE VALUE: Future (‘<none>’) unexpectedly generated random numbers without specifying argument 'seed'. There is a risk that those random numbers are not statistically sound and the overall results might be invalid. To fix this, specify 'seed=TRUE'. This ensures that proper, parallel-safe random numbers are produced via the L'Ecuyer-CMRG method. To disable this check, use 'seed=NULL', or set option 'future.rng.onMisuse' to \"ignore\".”\n"
     ]
    },
    {
     "name": "stdout",
     "output_type": "stream",
     "text": [
      "chip_WV02_20140714_M1BS_10300100330BCE00_05406_v20230331_32606 is all zero canopy height, not exported\n",
      "chip_WV02_20140714_M1BS_10300100330BCE00_05366_v20230331_32606 is all zero canopy height, not exported\n"
     ]
    },
    {
     "name": "stderr",
     "output_type": "stream",
     "text": [
      "Warning message:\n",
      "“UNRELIABLE VALUE: Future (‘<none>’) unexpectedly generated random numbers without specifying argument 'seed'. There is a risk that those random numbers are not statistically sound and the overall results might be invalid. To fix this, specify 'seed=TRUE'. This ensures that proper, parallel-safe random numbers are produced via the L'Ecuyer-CMRG method. To disable this check, use 'seed=NULL', or set option 'future.rng.onMisuse' to \"ignore\".”\n"
     ]
    },
    {
     "name": "stdout",
     "output_type": "stream",
     "text": [
      "chip_WV02_20140714_M1BS_10300100330BCE00_02056_v20230331_32606 is all zero canopy height, not exported\n",
      "chip_WV02_20140714_M1BS_10300100330BCE00_05879_v20230331_32606 is all zero canopy height, not exported\n",
      "chip_WV02_20140714_M1BS_10300100330BCE00_01807_v20230331_32606 is all zero canopy height, not exported\n"
     ]
    },
    {
     "name": "stderr",
     "output_type": "stream",
     "text": [
      "Warning message:\n",
      "“UNRELIABLE VALUE: Future (‘<none>’) unexpectedly generated random numbers without specifying argument 'seed'. There is a risk that those random numbers are not statistically sound and the overall results might be invalid. To fix this, specify 'seed=TRUE'. This ensures that proper, parallel-safe random numbers are produced via the L'Ecuyer-CMRG method. To disable this check, use 'seed=NULL', or set option 'future.rng.onMisuse' to \"ignore\".”\n"
     ]
    },
    {
     "name": "stdout",
     "output_type": "stream",
     "text": [
      "chip_WV02_20140714_M1BS_10300100330BCE00_01168_v20230331_32606 is all zero canopy height, not exported\n",
      "chip_WV02_20140714_M1BS_10300100330BCE00_00082_v20230331_32606 is all zero canopy height, not exported\n",
      "chip_WV02_20140714_M1BS_10300100330BCE00_03911_v20230331_32606 is all zero canopy height, not exported\n"
     ]
    },
    {
     "name": "stderr",
     "output_type": "stream",
     "text": [
      "Warning message:\n",
      "“UNRELIABLE VALUE: Future (‘<none>’) unexpectedly generated random numbers without specifying argument 'seed'. There is a risk that those random numbers are not statistically sound and the overall results might be invalid. To fix this, specify 'seed=TRUE'. This ensures that proper, parallel-safe random numbers are produced via the L'Ecuyer-CMRG method. To disable this check, use 'seed=NULL', or set option 'future.rng.onMisuse' to \"ignore\".”\n"
     ]
    },
    {
     "name": "stdout",
     "output_type": "stream",
     "text": [
      "chip_WV02_20140714_M1BS_10300100330BCE00_02555_v20230331_32606 is all zero canopy height, not exported\n",
      "chip_WV02_20140714_M1BS_10300100330BCE00_02211_v20230331_32606 is all zero canopy height, not exported\n"
     ]
    },
    {
     "name": "stderr",
     "output_type": "stream",
     "text": [
      "Warning message:\n",
      "“UNRELIABLE VALUE: Future (‘<none>’) unexpectedly generated random numbers without specifying argument 'seed'. There is a risk that those random numbers are not statistically sound and the overall results might be invalid. To fix this, specify 'seed=TRUE'. This ensures that proper, parallel-safe random numbers are produced via the L'Ecuyer-CMRG method. To disable this check, use 'seed=NULL', or set option 'future.rng.onMisuse' to \"ignore\".”\n"
     ]
    },
    {
     "name": "stdout",
     "output_type": "stream",
     "text": [
      "chip_WV02_20140714_M1BS_10300100330BCE00_05368_v20230331_32606 is all zero canopy height, not exported\n"
     ]
    },
    {
     "name": "stderr",
     "output_type": "stream",
     "text": [
      "Warning message:\n",
      "“UNRELIABLE VALUE: Future (‘<none>’) unexpectedly generated random numbers without specifying argument 'seed'. There is a risk that those random numbers are not statistically sound and the overall results might be invalid. To fix this, specify 'seed=TRUE'. This ensures that proper, parallel-safe random numbers are produced via the L'Ecuyer-CMRG method. To disable this check, use 'seed=NULL', or set option 'future.rng.onMisuse' to \"ignore\".”\n"
     ]
    },
    {
     "name": "stdout",
     "output_type": "stream",
     "text": [
      "chip_WV02_20140714_M1BS_10300100330BCE00_02558_v20230331_32606 is all zero canopy height, not exported\n",
      "chip_WV02_20140714_M1BS_10300100330BCE00_01611_v20230331_32606 is all zero canopy height, not exported\n",
      "chip_WV02_20140714_M1BS_10300100330BCE00_01845_v20230331_32606 is all zero canopy height, not exported\n",
      "chip_WV02_20140714_M1BS_10300100330BCE00_02054_v20230331_32606 is all zero canopy height, not exported\n",
      "chip_WV02_20140714_M1BS_10300100330BCE00_05858_v20230331_32606 is all zero canopy height, not exported\n"
     ]
    },
    {
     "name": "stderr",
     "output_type": "stream",
     "text": [
      "Warning message:\n",
      "“UNRELIABLE VALUE: Future (‘<none>’) unexpectedly generated random numbers without specifying argument 'seed'. There is a risk that those random numbers are not statistically sound and the overall results might be invalid. To fix this, specify 'seed=TRUE'. This ensures that proper, parallel-safe random numbers are produced via the L'Ecuyer-CMRG method. To disable this check, use 'seed=NULL', or set option 'future.rng.onMisuse' to \"ignore\".”\n"
     ]
    },
    {
     "name": "stdout",
     "output_type": "stream",
     "text": [
      "chip_WV02_20140714_M1BS_10300100330BCE00_05246_v20230331_32606 is all zero canopy height, not exported\n"
     ]
    },
    {
     "name": "stderr",
     "output_type": "stream",
     "text": [
      "Warning message:\n",
      "“UNRELIABLE VALUE: Future (‘<none>’) unexpectedly generated random numbers without specifying argument 'seed'. There is a risk that those random numbers are not statistically sound and the overall results might be invalid. To fix this, specify 'seed=TRUE'. This ensures that proper, parallel-safe random numbers are produced via the L'Ecuyer-CMRG method. To disable this check, use 'seed=NULL', or set option 'future.rng.onMisuse' to \"ignore\".”\n"
     ]
    },
    {
     "name": "stdout",
     "output_type": "stream",
     "text": [
      "chip_WV02_20140714_M1BS_10300100330BCE00_03294_v20230331_32606 is all zero canopy height, not exported\n",
      "chip_WV02_20140714_M1BS_10300100330BCE00_05268_v20230331_32606 is all zero canopy height, not exported\n",
      "chip_WV02_20140714_M1BS_10300100330BCE00_05431_v20230331_32606 is all zero canopy height, not exported\n",
      "chip_WV02_20140714_M1BS_10300100330BCE00_00785_v20230331_32606 is all zero canopy height, not exported\n",
      "chip_WV02_20140714_M1BS_10300100330BCE00_05401_v20230331_32606 is all zero canopy height, not exported\n"
     ]
    },
    {
     "name": "stderr",
     "output_type": "stream",
     "text": [
      "Warning message:\n",
      "“UNRELIABLE VALUE: Future (‘<none>’) unexpectedly generated random numbers without specifying argument 'seed'. There is a risk that those random numbers are not statistically sound and the overall results might be invalid. To fix this, specify 'seed=TRUE'. This ensures that proper, parallel-safe random numbers are produced via the L'Ecuyer-CMRG method. To disable this check, use 'seed=NULL', or set option 'future.rng.onMisuse' to \"ignore\".”\n"
     ]
    },
    {
     "name": "stdout",
     "output_type": "stream",
     "text": [
      "chip_WV02_20140714_M1BS_10300100330BCE00_01776_v20230331_32606 is all zero canopy height, not exported\n"
     ]
    },
    {
     "name": "stderr",
     "output_type": "stream",
     "text": [
      "Warning message:\n",
      "“UNRELIABLE VALUE: Future (‘<none>’) unexpectedly generated random numbers without specifying argument 'seed'. There is a risk that those random numbers are not statistically sound and the overall results might be invalid. To fix this, specify 'seed=TRUE'. This ensures that proper, parallel-safe random numbers are produced via the L'Ecuyer-CMRG method. To disable this check, use 'seed=NULL', or set option 'future.rng.onMisuse' to \"ignore\".”\n",
      "Warning message:\n",
      "“UNRELIABLE VALUE: Future (‘<none>’) unexpectedly generated random numbers without specifying argument 'seed'. There is a risk that those random numbers are not statistically sound and the overall results might be invalid. To fix this, specify 'seed=TRUE'. This ensures that proper, parallel-safe random numbers are produced via the L'Ecuyer-CMRG method. To disable this check, use 'seed=NULL', or set option 'future.rng.onMisuse' to \"ignore\".”\n",
      "Warning message:\n",
      "“UNRELIABLE VALUE: Future (‘<none>’) unexpectedly generated random numbers without specifying argument 'seed'. There is a risk that those random numbers are not statistically sound and the overall results might be invalid. To fix this, specify 'seed=TRUE'. This ensures that proper, parallel-safe random numbers are produced via the L'Ecuyer-CMRG method. To disable this check, use 'seed=NULL', or set option 'future.rng.onMisuse' to \"ignore\".”\n",
      "Warning message:\n",
      "“UNRELIABLE VALUE: Future (‘<none>’) unexpectedly generated random numbers without specifying argument 'seed'. There is a risk that those random numbers are not statistically sound and the overall results might be invalid. To fix this, specify 'seed=TRUE'. This ensures that proper, parallel-safe random numbers are produced via the L'Ecuyer-CMRG method. To disable this check, use 'seed=NULL', or set option 'future.rng.onMisuse' to \"ignore\".”\n",
      "Warning message:\n",
      "“UNRELIABLE VALUE: Future (‘<none>’) unexpectedly generated random numbers without specifying argument 'seed'. There is a risk that those random numbers are not statistically sound and the overall results might be invalid. To fix this, specify 'seed=TRUE'. This ensures that proper, parallel-safe random numbers are produced via the L'Ecuyer-CMRG method. To disable this check, use 'seed=NULL', or set option 'future.rng.onMisuse' to \"ignore\".”\n"
     ]
    },
    {
     "name": "stdout",
     "output_type": "stream",
     "text": [
      "chip_WV02_20140714_M1BS_10300100330BCE00_05893_v20230331_32606 is all zero canopy height, not exported\n"
     ]
    },
    {
     "name": "stderr",
     "output_type": "stream",
     "text": [
      "Warning message:\n",
      "“UNRELIABLE VALUE: Future (‘<none>’) unexpectedly generated random numbers without specifying argument 'seed'. There is a risk that those random numbers are not statistically sound and the overall results might be invalid. To fix this, specify 'seed=TRUE'. This ensures that proper, parallel-safe random numbers are produced via the L'Ecuyer-CMRG method. To disable this check, use 'seed=NULL', or set option 'future.rng.onMisuse' to \"ignore\".”\n"
     ]
    },
    {
     "name": "stdout",
     "output_type": "stream",
     "text": [
      "chip_WV02_20140714_M1BS_10300100330BCE00_01871_v20230331_32606 is all zero canopy height, not exported\n"
     ]
    },
    {
     "name": "stderr",
     "output_type": "stream",
     "text": [
      "Warning message:\n",
      "“UNRELIABLE VALUE: Future (‘<none>’) unexpectedly generated random numbers without specifying argument 'seed'. There is a risk that those random numbers are not statistically sound and the overall results might be invalid. To fix this, specify 'seed=TRUE'. This ensures that proper, parallel-safe random numbers are produced via the L'Ecuyer-CMRG method. To disable this check, use 'seed=NULL', or set option 'future.rng.onMisuse' to \"ignore\".”\n",
      "Warning message:\n",
      "“UNRELIABLE VALUE: Future (‘<none>’) unexpectedly generated random numbers without specifying argument 'seed'. There is a risk that those random numbers are not statistically sound and the overall results might be invalid. To fix this, specify 'seed=TRUE'. This ensures that proper, parallel-safe random numbers are produced via the L'Ecuyer-CMRG method. To disable this check, use 'seed=NULL', or set option 'future.rng.onMisuse' to \"ignore\".”\n"
     ]
    },
    {
     "name": "stdout",
     "output_type": "stream",
     "text": [
      "chip_WV02_20140714_M1BS_10300100330BCE00_01609_v20230331_32606 is all zero canopy height, not exported\n",
      "chip_WV02_20140714_M1BS_10300100330BCE00_01932_v20230331_32606 is all zero canopy height, not exported\n"
     ]
    },
    {
     "name": "stderr",
     "output_type": "stream",
     "text": [
      "Warning message:\n",
      "“UNRELIABLE VALUE: Future (‘<none>’) unexpectedly generated random numbers without specifying argument 'seed'. There is a risk that those random numbers are not statistically sound and the overall results might be invalid. To fix this, specify 'seed=TRUE'. This ensures that proper, parallel-safe random numbers are produced via the L'Ecuyer-CMRG method. To disable this check, use 'seed=NULL', or set option 'future.rng.onMisuse' to \"ignore\".”\n"
     ]
    },
    {
     "name": "stdout",
     "output_type": "stream",
     "text": [
      "chip_WV02_20140714_M1BS_10300100330BCE00_03098_v20230331_32606 is all zero canopy height, not exported\n",
      "chip_WV02_20140714_M1BS_10300100330BCE00_00846_v20230331_32606 is all zero canopy height, not exported\n"
     ]
    },
    {
     "name": "stderr",
     "output_type": "stream",
     "text": [
      "Warning message:\n",
      "“UNRELIABLE VALUE: Future (‘<none>’) unexpectedly generated random numbers without specifying argument 'seed'. There is a risk that those random numbers are not statistically sound and the overall results might be invalid. To fix this, specify 'seed=TRUE'. This ensures that proper, parallel-safe random numbers are produced via the L'Ecuyer-CMRG method. To disable this check, use 'seed=NULL', or set option 'future.rng.onMisuse' to \"ignore\".”\n"
     ]
    },
    {
     "name": "stdout",
     "output_type": "stream",
     "text": [
      "chip_WV02_20140714_M1BS_10300100330BCE00_00032_v20230331_32606 is all zero canopy height, not exported\n",
      "chip_WV02_20140714_M1BS_10300100330BCE00_01684_v20230331_32606 is all zero canopy height, not exported\n"
     ]
    },
    {
     "name": "stderr",
     "output_type": "stream",
     "text": [
      "Warning message:\n",
      "“UNRELIABLE VALUE: Future (‘<none>’) unexpectedly generated random numbers without specifying argument 'seed'. There is a risk that those random numbers are not statistically sound and the overall results might be invalid. To fix this, specify 'seed=TRUE'. This ensures that proper, parallel-safe random numbers are produced via the L'Ecuyer-CMRG method. To disable this check, use 'seed=NULL', or set option 'future.rng.onMisuse' to \"ignore\".”\n"
     ]
    },
    {
     "name": "stdout",
     "output_type": "stream",
     "text": [
      "chip_WV02_20140714_M1BS_10300100330BCE00_05736_v20230331_32606 is all zero canopy height, not exported\n",
      "chip_WV02_20140714_M1BS_10300100330BCE00_01912_v20230331_32606 is all zero canopy height, not exported\n",
      "chip_WV02_20140714_M1BS_10300100330BCE00_01833_v20230331_32606 is all zero canopy height, not exported\n"
     ]
    },
    {
     "name": "stderr",
     "output_type": "stream",
     "text": [
      "Warning message:\n",
      "“UNRELIABLE VALUE: Future (‘<none>’) unexpectedly generated random numbers without specifying argument 'seed'. There is a risk that those random numbers are not statistically sound and the overall results might be invalid. To fix this, specify 'seed=TRUE'. This ensures that proper, parallel-safe random numbers are produced via the L'Ecuyer-CMRG method. To disable this check, use 'seed=NULL', or set option 'future.rng.onMisuse' to \"ignore\".”\n",
      "Warning message:\n",
      "“UNRELIABLE VALUE: Future (‘<none>’) unexpectedly generated random numbers without specifying argument 'seed'. There is a risk that those random numbers are not statistically sound and the overall results might be invalid. To fix this, specify 'seed=TRUE'. This ensures that proper, parallel-safe random numbers are produced via the L'Ecuyer-CMRG method. To disable this check, use 'seed=NULL', or set option 'future.rng.onMisuse' to \"ignore\".”\n",
      "Warning message:\n",
      "“UNRELIABLE VALUE: Future (‘<none>’) unexpectedly generated random numbers without specifying argument 'seed'. There is a risk that those random numbers are not statistically sound and the overall results might be invalid. To fix this, specify 'seed=TRUE'. This ensures that proper, parallel-safe random numbers are produced via the L'Ecuyer-CMRG method. To disable this check, use 'seed=NULL', or set option 'future.rng.onMisuse' to \"ignore\".”\n"
     ]
    },
    {
     "name": "stdout",
     "output_type": "stream",
     "text": [
      "chip_WV02_20140714_M1BS_10300100330BCE00_01747_v20230331_32606 is all zero canopy height, not exported\n"
     ]
    },
    {
     "name": "stderr",
     "output_type": "stream",
     "text": [
      "Warning message:\n",
      "“UNRELIABLE VALUE: Future (‘<none>’) unexpectedly generated random numbers without specifying argument 'seed'. There is a risk that those random numbers are not statistically sound and the overall results might be invalid. To fix this, specify 'seed=TRUE'. This ensures that proper, parallel-safe random numbers are produced via the L'Ecuyer-CMRG method. To disable this check, use 'seed=NULL', or set option 'future.rng.onMisuse' to \"ignore\".”\n"
     ]
    },
    {
     "name": "stdout",
     "output_type": "stream",
     "text": [
      "chip_WV02_20140714_M1BS_10300100330BCE00_01630_v20230331_32606 is all zero canopy height, not exported\n"
     ]
    },
    {
     "name": "stderr",
     "output_type": "stream",
     "text": [
      "Warning message:\n",
      "“UNRELIABLE VALUE: Future (‘<none>’) unexpectedly generated random numbers without specifying argument 'seed'. There is a risk that those random numbers are not statistically sound and the overall results might be invalid. To fix this, specify 'seed=TRUE'. This ensures that proper, parallel-safe random numbers are produced via the L'Ecuyer-CMRG method. To disable this check, use 'seed=NULL', or set option 'future.rng.onMisuse' to \"ignore\".”\n"
     ]
    },
    {
     "name": "stdout",
     "output_type": "stream",
     "text": [
      "chip_WV02_20140714_M1BS_10300100330BCE00_01167_v20230331_32606 is all zero canopy height, not exported\n"
     ]
    },
    {
     "name": "stderr",
     "output_type": "stream",
     "text": [
      "Warning message:\n",
      "“UNRELIABLE VALUE: Future (‘<none>’) unexpectedly generated random numbers without specifying argument 'seed'. There is a risk that those random numbers are not statistically sound and the overall results might be invalid. To fix this, specify 'seed=TRUE'. This ensures that proper, parallel-safe random numbers are produced via the L'Ecuyer-CMRG method. To disable this check, use 'seed=NULL', or set option 'future.rng.onMisuse' to \"ignore\".”\n",
      "Warning message:\n",
      "“UNRELIABLE VALUE: Future (‘<none>’) unexpectedly generated random numbers without specifying argument 'seed'. There is a risk that those random numbers are not statistically sound and the overall results might be invalid. To fix this, specify 'seed=TRUE'. This ensures that proper, parallel-safe random numbers are produced via the L'Ecuyer-CMRG method. To disable this check, use 'seed=NULL', or set option 'future.rng.onMisuse' to \"ignore\".”\n",
      "Warning message:\n",
      "“UNRELIABLE VALUE: Future (‘<none>’) unexpectedly generated random numbers without specifying argument 'seed'. There is a risk that those random numbers are not statistically sound and the overall results might be invalid. To fix this, specify 'seed=TRUE'. This ensures that proper, parallel-safe random numbers are produced via the L'Ecuyer-CMRG method. To disable this check, use 'seed=NULL', or set option 'future.rng.onMisuse' to \"ignore\".”\n",
      "Warning message:\n",
      "“UNRELIABLE VALUE: Future (‘<none>’) unexpectedly generated random numbers without specifying argument 'seed'. There is a risk that those random numbers are not statistically sound and the overall results might be invalid. To fix this, specify 'seed=TRUE'. This ensures that proper, parallel-safe random numbers are produced via the L'Ecuyer-CMRG method. To disable this check, use 'seed=NULL', or set option 'future.rng.onMisuse' to \"ignore\".”\n"
     ]
    },
    {
     "name": "stdout",
     "output_type": "stream",
     "text": [
      "chip_WV02_20140714_M1BS_10300100330BCE00_01847_v20230331_32606 is all zero canopy height, not exported\n"
     ]
    },
    {
     "name": "stderr",
     "output_type": "stream",
     "text": [
      "Warning message:\n",
      "“UNRELIABLE VALUE: Future (‘<none>’) unexpectedly generated random numbers without specifying argument 'seed'. There is a risk that those random numbers are not statistically sound and the overall results might be invalid. To fix this, specify 'seed=TRUE'. This ensures that proper, parallel-safe random numbers are produced via the L'Ecuyer-CMRG method. To disable this check, use 'seed=NULL', or set option 'future.rng.onMisuse' to \"ignore\".”\n"
     ]
    },
    {
     "name": "stdout",
     "output_type": "stream",
     "text": [
      "chip_WV02_20140714_M1BS_10300100330BCE00_05409_v20230331_32606 is all zero canopy height, not exported\n"
     ]
    },
    {
     "name": "stderr",
     "output_type": "stream",
     "text": [
      "Warning message:\n",
      "“UNRELIABLE VALUE: Future (‘<none>’) unexpectedly generated random numbers without specifying argument 'seed'. There is a risk that those random numbers are not statistically sound and the overall results might be invalid. To fix this, specify 'seed=TRUE'. This ensures that proper, parallel-safe random numbers are produced via the L'Ecuyer-CMRG method. To disable this check, use 'seed=NULL', or set option 'future.rng.onMisuse' to \"ignore\".”\n",
      "Warning message:\n",
      "“UNRELIABLE VALUE: Future (‘<none>’) unexpectedly generated random numbers without specifying argument 'seed'. There is a risk that those random numbers are not statistically sound and the overall results might be invalid. To fix this, specify 'seed=TRUE'. This ensures that proper, parallel-safe random numbers are produced via the L'Ecuyer-CMRG method. To disable this check, use 'seed=NULL', or set option 'future.rng.onMisuse' to \"ignore\".”\n"
     ]
    },
    {
     "name": "stdout",
     "output_type": "stream",
     "text": [
      "chip_WV02_20140714_M1BS_10300100330BCE00_02305_v20230331_32606 is all zero canopy height, not exported\n",
      "chip_WV02_20140714_M1BS_10300100330BCE00_02303_v20230331_32606 is all zero canopy height, not exported\n"
     ]
    },
    {
     "name": "stderr",
     "output_type": "stream",
     "text": [
      "Warning message:\n",
      "“UNRELIABLE VALUE: Future (‘<none>’) unexpectedly generated random numbers without specifying argument 'seed'. There is a risk that those random numbers are not statistically sound and the overall results might be invalid. To fix this, specify 'seed=TRUE'. This ensures that proper, parallel-safe random numbers are produced via the L'Ecuyer-CMRG method. To disable this check, use 'seed=NULL', or set option 'future.rng.onMisuse' to \"ignore\".”\n",
      "Warning message:\n",
      "“UNRELIABLE VALUE: Future (‘<none>’) unexpectedly generated random numbers without specifying argument 'seed'. There is a risk that those random numbers are not statistically sound and the overall results might be invalid. To fix this, specify 'seed=TRUE'. This ensures that proper, parallel-safe random numbers are produced via the L'Ecuyer-CMRG method. To disable this check, use 'seed=NULL', or set option 'future.rng.onMisuse' to \"ignore\".”\n"
     ]
    },
    {
     "name": "stdout",
     "output_type": "stream",
     "text": [
      "chip_WV02_20140714_M1BS_10300100330BCE00_01191_v20230331_32606 is all zero canopy height, not exported\n"
     ]
    },
    {
     "name": "stderr",
     "output_type": "stream",
     "text": [
      "Warning message:\n",
      "“UNRELIABLE VALUE: Future (‘<none>’) unexpectedly generated random numbers without specifying argument 'seed'. There is a risk that those random numbers are not statistically sound and the overall results might be invalid. To fix this, specify 'seed=TRUE'. This ensures that proper, parallel-safe random numbers are produced via the L'Ecuyer-CMRG method. To disable this check, use 'seed=NULL', or set option 'future.rng.onMisuse' to \"ignore\".”\n",
      "Warning message:\n",
      "“UNRELIABLE VALUE: Future (‘<none>’) unexpectedly generated random numbers without specifying argument 'seed'. There is a risk that those random numbers are not statistically sound and the overall results might be invalid. To fix this, specify 'seed=TRUE'. This ensures that proper, parallel-safe random numbers are produced via the L'Ecuyer-CMRG method. To disable this check, use 'seed=NULL', or set option 'future.rng.onMisuse' to \"ignore\".”\n",
      "Warning message:\n",
      "“UNRELIABLE VALUE: Future (‘<none>’) unexpectedly generated random numbers without specifying argument 'seed'. There is a risk that those random numbers are not statistically sound and the overall results might be invalid. To fix this, specify 'seed=TRUE'. This ensures that proper, parallel-safe random numbers are produced via the L'Ecuyer-CMRG method. To disable this check, use 'seed=NULL', or set option 'future.rng.onMisuse' to \"ignore\".”\n"
     ]
    },
    {
     "name": "stdout",
     "output_type": "stream",
     "text": [
      "chip_WV02_20140714_M1BS_10300100330BCE00_05277_v20230331_32606 is all zero canopy height, not exported\n"
     ]
    },
    {
     "name": "stderr",
     "output_type": "stream",
     "text": [
      "Warning message:\n",
      "“UNRELIABLE VALUE: Future (‘<none>’) unexpectedly generated random numbers without specifying argument 'seed'. There is a risk that those random numbers are not statistically sound and the overall results might be invalid. To fix this, specify 'seed=TRUE'. This ensures that proper, parallel-safe random numbers are produced via the L'Ecuyer-CMRG method. To disable this check, use 'seed=NULL', or set option 'future.rng.onMisuse' to \"ignore\".”\n"
     ]
    },
    {
     "name": "stdout",
     "output_type": "stream",
     "text": [
      "chip_WV02_20140714_M1BS_10300100330BCE00_01580_v20230331_32606 is all zero canopy height, not exported\n",
      "chip_WV02_20140714_M1BS_10300100330BCE00_05812_v20230331_32606 is all zero canopy height, not exported\n"
     ]
    },
    {
     "name": "stderr",
     "output_type": "stream",
     "text": [
      "Warning message:\n",
      "“UNRELIABLE VALUE: Future (‘<none>’) unexpectedly generated random numbers without specifying argument 'seed'. There is a risk that those random numbers are not statistically sound and the overall results might be invalid. To fix this, specify 'seed=TRUE'. This ensures that proper, parallel-safe random numbers are produced via the L'Ecuyer-CMRG method. To disable this check, use 'seed=NULL', or set option 'future.rng.onMisuse' to \"ignore\".”\n"
     ]
    },
    {
     "name": "stdout",
     "output_type": "stream",
     "text": [
      "chip_WV02_20140714_M1BS_10300100330BCE00_05773_v20230331_32606 is all zero canopy height, not exported\n",
      "chip_WV02_20140714_M1BS_10300100330BCE00_00756_v20230331_32606 is all zero canopy height, not exported\n"
     ]
    },
    {
     "name": "stderr",
     "output_type": "stream",
     "text": [
      "Warning message:\n",
      "“UNRELIABLE VALUE: Future (‘<none>’) unexpectedly generated random numbers without specifying argument 'seed'. There is a risk that those random numbers are not statistically sound and the overall results might be invalid. To fix this, specify 'seed=TRUE'. This ensures that proper, parallel-safe random numbers are produced via the L'Ecuyer-CMRG method. To disable this check, use 'seed=NULL', or set option 'future.rng.onMisuse' to \"ignore\".”\n"
     ]
    },
    {
     "name": "stdout",
     "output_type": "stream",
     "text": [
      "[1] 32607\n"
     ]
    },
    {
     "name": "stderr",
     "output_type": "stream",
     "text": [
      "Warning message:\n",
      "“UNRELIABLE VALUE: Future (‘<none>’) unexpectedly generated random numbers without specifying argument 'seed'. There is a risk that those random numbers are not statistically sound and the overall results might be invalid. To fix this, specify 'seed=TRUE'. This ensures that proper, parallel-safe random numbers are produced via the L'Ecuyer-CMRG method. To disable this check, use 'seed=NULL', or set option 'future.rng.onMisuse' to \"ignore\".”\n",
      "Warning message:\n",
      "“UNRELIABLE VALUE: Future (‘<none>’) unexpectedly generated random numbers without specifying argument 'seed'. There is a risk that those random numbers are not statistically sound and the overall results might be invalid. To fix this, specify 'seed=TRUE'. This ensures that proper, parallel-safe random numbers are produced via the L'Ecuyer-CMRG method. To disable this check, use 'seed=NULL', or set option 'future.rng.onMisuse' to \"ignore\".”\n",
      "Warning message:\n",
      "“UNRELIABLE VALUE: Future (‘<none>’) unexpectedly generated random numbers without specifying argument 'seed'. There is a risk that those random numbers are not statistically sound and the overall results might be invalid. To fix this, specify 'seed=TRUE'. This ensures that proper, parallel-safe random numbers are produced via the L'Ecuyer-CMRG method. To disable this check, use 'seed=NULL', or set option 'future.rng.onMisuse' to \"ignore\".”\n",
      "Warning message:\n",
      "“UNRELIABLE VALUE: Future (‘<none>’) unexpectedly generated random numbers without specifying argument 'seed'. There is a risk that those random numbers are not statistically sound and the overall results might be invalid. To fix this, specify 'seed=TRUE'. This ensures that proper, parallel-safe random numbers are produced via the L'Ecuyer-CMRG method. To disable this check, use 'seed=NULL', or set option 'future.rng.onMisuse' to \"ignore\".”\n",
      "Warning message:\n",
      "“UNRELIABLE VALUE: Future (‘<none>’) unexpectedly generated random numbers without specifying argument 'seed'. There is a risk that those random numbers are not statistically sound and the overall results might be invalid. To fix this, specify 'seed=TRUE'. This ensures that proper, parallel-safe random numbers are produced via the L'Ecuyer-CMRG method. To disable this check, use 'seed=NULL', or set option 'future.rng.onMisuse' to \"ignore\".”\n",
      "Warning message:\n",
      "“UNRELIABLE VALUE: Future (‘<none>’) unexpectedly generated random numbers without specifying argument 'seed'. There is a risk that those random numbers are not statistically sound and the overall results might be invalid. To fix this, specify 'seed=TRUE'. This ensures that proper, parallel-safe random numbers are produced via the L'Ecuyer-CMRG method. To disable this check, use 'seed=NULL', or set option 'future.rng.onMisuse' to \"ignore\".”\n",
      "Warning message:\n",
      "“UNRELIABLE VALUE: Future (‘<none>’) unexpectedly generated random numbers without specifying argument 'seed'. There is a risk that those random numbers are not statistically sound and the overall results might be invalid. To fix this, specify 'seed=TRUE'. This ensures that proper, parallel-safe random numbers are produced via the L'Ecuyer-CMRG method. To disable this check, use 'seed=NULL', or set option 'future.rng.onMisuse' to \"ignore\".”\n",
      "Warning message:\n",
      "“UNRELIABLE VALUE: Future (‘<none>’) unexpectedly generated random numbers without specifying argument 'seed'. There is a risk that those random numbers are not statistically sound and the overall results might be invalid. To fix this, specify 'seed=TRUE'. This ensures that proper, parallel-safe random numbers are produced via the L'Ecuyer-CMRG method. To disable this check, use 'seed=NULL', or set option 'future.rng.onMisuse' to \"ignore\".”\n",
      "Warning message:\n",
      "“UNRELIABLE VALUE: Future (‘<none>’) unexpectedly generated random numbers without specifying argument 'seed'. There is a risk that those random numbers are not statistically sound and the overall results might be invalid. To fix this, specify 'seed=TRUE'. This ensures that proper, parallel-safe random numbers are produced via the L'Ecuyer-CMRG method. To disable this check, use 'seed=NULL', or set option 'future.rng.onMisuse' to \"ignore\".”\n",
      "Warning message:\n",
      "“UNRELIABLE VALUE: Future (‘<none>’) unexpectedly generated random numbers without specifying argument 'seed'. There is a risk that those random numbers are not statistically sound and the overall results might be invalid. To fix this, specify 'seed=TRUE'. This ensures that proper, parallel-safe random numbers are produced via the L'Ecuyer-CMRG method. To disable this check, use 'seed=NULL', or set option 'future.rng.onMisuse' to \"ignore\".”\n",
      "Warning message:\n",
      "“UNRELIABLE VALUE: Future (‘<none>’) unexpectedly generated random numbers without specifying argument 'seed'. There is a risk that those random numbers are not statistically sound and the overall results might be invalid. To fix this, specify 'seed=TRUE'. This ensures that proper, parallel-safe random numbers are produced via the L'Ecuyer-CMRG method. To disable this check, use 'seed=NULL', or set option 'future.rng.onMisuse' to \"ignore\".”\n",
      "Warning message:\n",
      "“UNRELIABLE VALUE: Future (‘<none>’) unexpectedly generated random numbers without specifying argument 'seed'. There is a risk that those random numbers are not statistically sound and the overall results might be invalid. To fix this, specify 'seed=TRUE'. This ensures that proper, parallel-safe random numbers are produced via the L'Ecuyer-CMRG method. To disable this check, use 'seed=NULL', or set option 'future.rng.onMisuse' to \"ignore\".”\n",
      "Warning message:\n",
      "“UNRELIABLE VALUE: Future (‘<none>’) unexpectedly generated random numbers without specifying argument 'seed'. There is a risk that those random numbers are not statistically sound and the overall results might be invalid. To fix this, specify 'seed=TRUE'. This ensures that proper, parallel-safe random numbers are produced via the L'Ecuyer-CMRG method. To disable this check, use 'seed=NULL', or set option 'future.rng.onMisuse' to \"ignore\".”\n",
      "Warning message:\n",
      "“UNRELIABLE VALUE: Future (‘<none>’) unexpectedly generated random numbers without specifying argument 'seed'. There is a risk that those random numbers are not statistically sound and the overall results might be invalid. To fix this, specify 'seed=TRUE'. This ensures that proper, parallel-safe random numbers are produced via the L'Ecuyer-CMRG method. To disable this check, use 'seed=NULL', or set option 'future.rng.onMisuse' to \"ignore\".”\n",
      "Warning message:\n",
      "“UNRELIABLE VALUE: Future (‘<none>’) unexpectedly generated random numbers without specifying argument 'seed'. There is a risk that those random numbers are not statistically sound and the overall results might be invalid. To fix this, specify 'seed=TRUE'. This ensures that proper, parallel-safe random numbers are produced via the L'Ecuyer-CMRG method. To disable this check, use 'seed=NULL', or set option 'future.rng.onMisuse' to \"ignore\".”\n",
      "Warning message:\n",
      "“UNRELIABLE VALUE: Future (‘<none>’) unexpectedly generated random numbers without specifying argument 'seed'. There is a risk that those random numbers are not statistically sound and the overall results might be invalid. To fix this, specify 'seed=TRUE'. This ensures that proper, parallel-safe random numbers are produced via the L'Ecuyer-CMRG method. To disable this check, use 'seed=NULL', or set option 'future.rng.onMisuse' to \"ignore\".”\n",
      "Warning message:\n",
      "“UNRELIABLE VALUE: Future (‘<none>’) unexpectedly generated random numbers without specifying argument 'seed'. There is a risk that those random numbers are not statistically sound and the overall results might be invalid. To fix this, specify 'seed=TRUE'. This ensures that proper, parallel-safe random numbers are produced via the L'Ecuyer-CMRG method. To disable this check, use 'seed=NULL', or set option 'future.rng.onMisuse' to \"ignore\".”\n",
      "Warning message:\n",
      "“UNRELIABLE VALUE: Future (‘<none>’) unexpectedly generated random numbers without specifying argument 'seed'. There is a risk that those random numbers are not statistically sound and the overall results might be invalid. To fix this, specify 'seed=TRUE'. This ensures that proper, parallel-safe random numbers are produced via the L'Ecuyer-CMRG method. To disable this check, use 'seed=NULL', or set option 'future.rng.onMisuse' to \"ignore\".”\n",
      "Warning message:\n",
      "“UNRELIABLE VALUE: Future (‘<none>’) unexpectedly generated random numbers without specifying argument 'seed'. There is a risk that those random numbers are not statistically sound and the overall results might be invalid. To fix this, specify 'seed=TRUE'. This ensures that proper, parallel-safe random numbers are produced via the L'Ecuyer-CMRG method. To disable this check, use 'seed=NULL', or set option 'future.rng.onMisuse' to \"ignore\".”\n",
      "Warning message:\n",
      "“UNRELIABLE VALUE: Future (‘<none>’) unexpectedly generated random numbers without specifying argument 'seed'. There is a risk that those random numbers are not statistically sound and the overall results might be invalid. To fix this, specify 'seed=TRUE'. This ensures that proper, parallel-safe random numbers are produced via the L'Ecuyer-CMRG method. To disable this check, use 'seed=NULL', or set option 'future.rng.onMisuse' to \"ignore\".”\n",
      "Warning message:\n",
      "“UNRELIABLE VALUE: Future (‘<none>’) unexpectedly generated random numbers without specifying argument 'seed'. There is a risk that those random numbers are not statistically sound and the overall results might be invalid. To fix this, specify 'seed=TRUE'. This ensures that proper, parallel-safe random numbers are produced via the L'Ecuyer-CMRG method. To disable this check, use 'seed=NULL', or set option 'future.rng.onMisuse' to \"ignore\".”\n",
      "Warning message:\n",
      "“UNRELIABLE VALUE: Future (‘<none>’) unexpectedly generated random numbers without specifying argument 'seed'. There is a risk that those random numbers are not statistically sound and the overall results might be invalid. To fix this, specify 'seed=TRUE'. This ensures that proper, parallel-safe random numbers are produced via the L'Ecuyer-CMRG method. To disable this check, use 'seed=NULL', or set option 'future.rng.onMisuse' to \"ignore\".”\n",
      "Warning message:\n",
      "“UNRELIABLE VALUE: Future (‘<none>’) unexpectedly generated random numbers without specifying argument 'seed'. There is a risk that those random numbers are not statistically sound and the overall results might be invalid. To fix this, specify 'seed=TRUE'. This ensures that proper, parallel-safe random numbers are produced via the L'Ecuyer-CMRG method. To disable this check, use 'seed=NULL', or set option 'future.rng.onMisuse' to \"ignore\".”\n",
      "Warning message:\n",
      "“UNRELIABLE VALUE: Future (‘<none>’) unexpectedly generated random numbers without specifying argument 'seed'. There is a risk that those random numbers are not statistically sound and the overall results might be invalid. To fix this, specify 'seed=TRUE'. This ensures that proper, parallel-safe random numbers are produced via the L'Ecuyer-CMRG method. To disable this check, use 'seed=NULL', or set option 'future.rng.onMisuse' to \"ignore\".”\n",
      "Warning message:\n",
      "“UNRELIABLE VALUE: Future (‘<none>’) unexpectedly generated random numbers without specifying argument 'seed'. There is a risk that those random numbers are not statistically sound and the overall results might be invalid. To fix this, specify 'seed=TRUE'. This ensures that proper, parallel-safe random numbers are produced via the L'Ecuyer-CMRG method. To disable this check, use 'seed=NULL', or set option 'future.rng.onMisuse' to \"ignore\".”\n",
      "Warning message:\n",
      "“UNRELIABLE VALUE: Future (‘<none>’) unexpectedly generated random numbers without specifying argument 'seed'. There is a risk that those random numbers are not statistically sound and the overall results might be invalid. To fix this, specify 'seed=TRUE'. This ensures that proper, parallel-safe random numbers are produced via the L'Ecuyer-CMRG method. To disable this check, use 'seed=NULL', or set option 'future.rng.onMisuse' to \"ignore\".”\n",
      "Warning message:\n",
      "“UNRELIABLE VALUE: Future (‘<none>’) unexpectedly generated random numbers without specifying argument 'seed'. There is a risk that those random numbers are not statistically sound and the overall results might be invalid. To fix this, specify 'seed=TRUE'. This ensures that proper, parallel-safe random numbers are produced via the L'Ecuyer-CMRG method. To disable this check, use 'seed=NULL', or set option 'future.rng.onMisuse' to \"ignore\".”\n",
      "Warning message:\n",
      "“UNRELIABLE VALUE: Future (‘<none>’) unexpectedly generated random numbers without specifying argument 'seed'. There is a risk that those random numbers are not statistically sound and the overall results might be invalid. To fix this, specify 'seed=TRUE'. This ensures that proper, parallel-safe random numbers are produced via the L'Ecuyer-CMRG method. To disable this check, use 'seed=NULL', or set option 'future.rng.onMisuse' to \"ignore\".”\n",
      "Warning message:\n",
      "“UNRELIABLE VALUE: Future (‘<none>’) unexpectedly generated random numbers without specifying argument 'seed'. There is a risk that those random numbers are not statistically sound and the overall results might be invalid. To fix this, specify 'seed=TRUE'. This ensures that proper, parallel-safe random numbers are produced via the L'Ecuyer-CMRG method. To disable this check, use 'seed=NULL', or set option 'future.rng.onMisuse' to \"ignore\".”\n",
      "Warning message:\n",
      "“UNRELIABLE VALUE: Future (‘<none>’) unexpectedly generated random numbers without specifying argument 'seed'. There is a risk that those random numbers are not statistically sound and the overall results might be invalid. To fix this, specify 'seed=TRUE'. This ensures that proper, parallel-safe random numbers are produced via the L'Ecuyer-CMRG method. To disable this check, use 'seed=NULL', or set option 'future.rng.onMisuse' to \"ignore\".”\n",
      "Warning message:\n",
      "“UNRELIABLE VALUE: Future (‘<none>’) unexpectedly generated random numbers without specifying argument 'seed'. There is a risk that those random numbers are not statistically sound and the overall results might be invalid. To fix this, specify 'seed=TRUE'. This ensures that proper, parallel-safe random numbers are produced via the L'Ecuyer-CMRG method. To disable this check, use 'seed=NULL', or set option 'future.rng.onMisuse' to \"ignore\".”\n",
      "Warning message:\n",
      "“UNRELIABLE VALUE: Future (‘<none>’) unexpectedly generated random numbers without specifying argument 'seed'. There is a risk that those random numbers are not statistically sound and the overall results might be invalid. To fix this, specify 'seed=TRUE'. This ensures that proper, parallel-safe random numbers are produced via the L'Ecuyer-CMRG method. To disable this check, use 'seed=NULL', or set option 'future.rng.onMisuse' to \"ignore\".”\n",
      "Warning message:\n",
      "“UNRELIABLE VALUE: Future (‘<none>’) unexpectedly generated random numbers without specifying argument 'seed'. There is a risk that those random numbers are not statistically sound and the overall results might be invalid. To fix this, specify 'seed=TRUE'. This ensures that proper, parallel-safe random numbers are produced via the L'Ecuyer-CMRG method. To disable this check, use 'seed=NULL', or set option 'future.rng.onMisuse' to \"ignore\".”\n",
      "Warning message:\n",
      "“UNRELIABLE VALUE: Future (‘<none>’) unexpectedly generated random numbers without specifying argument 'seed'. There is a risk that those random numbers are not statistically sound and the overall results might be invalid. To fix this, specify 'seed=TRUE'. This ensures that proper, parallel-safe random numbers are produced via the L'Ecuyer-CMRG method. To disable this check, use 'seed=NULL', or set option 'future.rng.onMisuse' to \"ignore\".”\n",
      "Warning message:\n",
      "“UNRELIABLE VALUE: Future (‘<none>’) unexpectedly generated random numbers without specifying argument 'seed'. There is a risk that those random numbers are not statistically sound and the overall results might be invalid. To fix this, specify 'seed=TRUE'. This ensures that proper, parallel-safe random numbers are produced via the L'Ecuyer-CMRG method. To disable this check, use 'seed=NULL', or set option 'future.rng.onMisuse' to \"ignore\".”\n",
      "Warning message:\n",
      "“UNRELIABLE VALUE: Future (‘<none>’) unexpectedly generated random numbers without specifying argument 'seed'. There is a risk that those random numbers are not statistically sound and the overall results might be invalid. To fix this, specify 'seed=TRUE'. This ensures that proper, parallel-safe random numbers are produced via the L'Ecuyer-CMRG method. To disable this check, use 'seed=NULL', or set option 'future.rng.onMisuse' to \"ignore\".”\n",
      "Warning message:\n",
      "“UNRELIABLE VALUE: Future (‘<none>’) unexpectedly generated random numbers without specifying argument 'seed'. There is a risk that those random numbers are not statistically sound and the overall results might be invalid. To fix this, specify 'seed=TRUE'. This ensures that proper, parallel-safe random numbers are produced via the L'Ecuyer-CMRG method. To disable this check, use 'seed=NULL', or set option 'future.rng.onMisuse' to \"ignore\".”\n",
      "Warning message:\n",
      "“UNRELIABLE VALUE: Future (‘<none>’) unexpectedly generated random numbers without specifying argument 'seed'. There is a risk that those random numbers are not statistically sound and the overall results might be invalid. To fix this, specify 'seed=TRUE'. This ensures that proper, parallel-safe random numbers are produced via the L'Ecuyer-CMRG method. To disable this check, use 'seed=NULL', or set option 'future.rng.onMisuse' to \"ignore\".”\n",
      "Warning message:\n",
      "“UNRELIABLE VALUE: Future (‘<none>’) unexpectedly generated random numbers without specifying argument 'seed'. There is a risk that those random numbers are not statistically sound and the overall results might be invalid. To fix this, specify 'seed=TRUE'. This ensures that proper, parallel-safe random numbers are produced via the L'Ecuyer-CMRG method. To disable this check, use 'seed=NULL', or set option 'future.rng.onMisuse' to \"ignore\".”\n",
      "Warning message:\n",
      "“UNRELIABLE VALUE: Future (‘<none>’) unexpectedly generated random numbers without specifying argument 'seed'. There is a risk that those random numbers are not statistically sound and the overall results might be invalid. To fix this, specify 'seed=TRUE'. This ensures that proper, parallel-safe random numbers are produced via the L'Ecuyer-CMRG method. To disable this check, use 'seed=NULL', or set option 'future.rng.onMisuse' to \"ignore\".”\n",
      "Warning message:\n",
      "“UNRELIABLE VALUE: Future (‘<none>’) unexpectedly generated random numbers without specifying argument 'seed'. There is a risk that those random numbers are not statistically sound and the overall results might be invalid. To fix this, specify 'seed=TRUE'. This ensures that proper, parallel-safe random numbers are produced via the L'Ecuyer-CMRG method. To disable this check, use 'seed=NULL', or set option 'future.rng.onMisuse' to \"ignore\".”\n",
      "Warning message:\n",
      "“UNRELIABLE VALUE: Future (‘<none>’) unexpectedly generated random numbers without specifying argument 'seed'. There is a risk that those random numbers are not statistically sound and the overall results might be invalid. To fix this, specify 'seed=TRUE'. This ensures that proper, parallel-safe random numbers are produced via the L'Ecuyer-CMRG method. To disable this check, use 'seed=NULL', or set option 'future.rng.onMisuse' to \"ignore\".”\n",
      "Warning message:\n",
      "“UNRELIABLE VALUE: Future (‘<none>’) unexpectedly generated random numbers without specifying argument 'seed'. There is a risk that those random numbers are not statistically sound and the overall results might be invalid. To fix this, specify 'seed=TRUE'. This ensures that proper, parallel-safe random numbers are produced via the L'Ecuyer-CMRG method. To disable this check, use 'seed=NULL', or set option 'future.rng.onMisuse' to \"ignore\".”\n",
      "Warning message:\n",
      "“UNRELIABLE VALUE: Future (‘<none>’) unexpectedly generated random numbers without specifying argument 'seed'. There is a risk that those random numbers are not statistically sound and the overall results might be invalid. To fix this, specify 'seed=TRUE'. This ensures that proper, parallel-safe random numbers are produced via the L'Ecuyer-CMRG method. To disable this check, use 'seed=NULL', or set option 'future.rng.onMisuse' to \"ignore\".”\n",
      "Warning message:\n",
      "“UNRELIABLE VALUE: Future (‘<none>’) unexpectedly generated random numbers without specifying argument 'seed'. There is a risk that those random numbers are not statistically sound and the overall results might be invalid. To fix this, specify 'seed=TRUE'. This ensures that proper, parallel-safe random numbers are produced via the L'Ecuyer-CMRG method. To disable this check, use 'seed=NULL', or set option 'future.rng.onMisuse' to \"ignore\".”\n",
      "Warning message:\n",
      "“UNRELIABLE VALUE: Future (‘<none>’) unexpectedly generated random numbers without specifying argument 'seed'. There is a risk that those random numbers are not statistically sound and the overall results might be invalid. To fix this, specify 'seed=TRUE'. This ensures that proper, parallel-safe random numbers are produced via the L'Ecuyer-CMRG method. To disable this check, use 'seed=NULL', or set option 'future.rng.onMisuse' to \"ignore\".”\n",
      "Warning message:\n",
      "“UNRELIABLE VALUE: Future (‘<none>’) unexpectedly generated random numbers without specifying argument 'seed'. There is a risk that those random numbers are not statistically sound and the overall results might be invalid. To fix this, specify 'seed=TRUE'. This ensures that proper, parallel-safe random numbers are produced via the L'Ecuyer-CMRG method. To disable this check, use 'seed=NULL', or set option 'future.rng.onMisuse' to \"ignore\".”\n",
      "Warning message:\n",
      "“UNRELIABLE VALUE: Future (‘<none>’) unexpectedly generated random numbers without specifying argument 'seed'. There is a risk that those random numbers are not statistically sound and the overall results might be invalid. To fix this, specify 'seed=TRUE'. This ensures that proper, parallel-safe random numbers are produced via the L'Ecuyer-CMRG method. To disable this check, use 'seed=NULL', or set option 'future.rng.onMisuse' to \"ignore\".”\n",
      "Warning message:\n",
      "“UNRELIABLE VALUE: Future (‘<none>’) unexpectedly generated random numbers without specifying argument 'seed'. There is a risk that those random numbers are not statistically sound and the overall results might be invalid. To fix this, specify 'seed=TRUE'. This ensures that proper, parallel-safe random numbers are produced via the L'Ecuyer-CMRG method. To disable this check, use 'seed=NULL', or set option 'future.rng.onMisuse' to \"ignore\".”\n",
      "Warning message:\n",
      "“UNRELIABLE VALUE: Future (‘<none>’) unexpectedly generated random numbers without specifying argument 'seed'. There is a risk that those random numbers are not statistically sound and the overall results might be invalid. To fix this, specify 'seed=TRUE'. This ensures that proper, parallel-safe random numbers are produced via the L'Ecuyer-CMRG method. To disable this check, use 'seed=NULL', or set option 'future.rng.onMisuse' to \"ignore\".”\n",
      "Warning message:\n",
      "“UNRELIABLE VALUE: Future (‘<none>’) unexpectedly generated random numbers without specifying argument 'seed'. There is a risk that those random numbers are not statistically sound and the overall results might be invalid. To fix this, specify 'seed=TRUE'. This ensures that proper, parallel-safe random numbers are produced via the L'Ecuyer-CMRG method. To disable this check, use 'seed=NULL', or set option 'future.rng.onMisuse' to \"ignore\".”\n",
      "Warning message:\n",
      "“UNRELIABLE VALUE: Future (‘<none>’) unexpectedly generated random numbers without specifying argument 'seed'. There is a risk that those random numbers are not statistically sound and the overall results might be invalid. To fix this, specify 'seed=TRUE'. This ensures that proper, parallel-safe random numbers are produced via the L'Ecuyer-CMRG method. To disable this check, use 'seed=NULL', or set option 'future.rng.onMisuse' to \"ignore\".”\n",
      "Warning message:\n",
      "“UNRELIABLE VALUE: Future (‘<none>’) unexpectedly generated random numbers without specifying argument 'seed'. There is a risk that those random numbers are not statistically sound and the overall results might be invalid. To fix this, specify 'seed=TRUE'. This ensures that proper, parallel-safe random numbers are produced via the L'Ecuyer-CMRG method. To disable this check, use 'seed=NULL', or set option 'future.rng.onMisuse' to \"ignore\".”\n",
      "Warning message:\n",
      "“UNRELIABLE VALUE: Future (‘<none>’) unexpectedly generated random numbers without specifying argument 'seed'. There is a risk that those random numbers are not statistically sound and the overall results might be invalid. To fix this, specify 'seed=TRUE'. This ensures that proper, parallel-safe random numbers are produced via the L'Ecuyer-CMRG method. To disable this check, use 'seed=NULL', or set option 'future.rng.onMisuse' to \"ignore\".”\n",
      "Warning message:\n",
      "“UNRELIABLE VALUE: Future (‘<none>’) unexpectedly generated random numbers without specifying argument 'seed'. There is a risk that those random numbers are not statistically sound and the overall results might be invalid. To fix this, specify 'seed=TRUE'. This ensures that proper, parallel-safe random numbers are produced via the L'Ecuyer-CMRG method. To disable this check, use 'seed=NULL', or set option 'future.rng.onMisuse' to \"ignore\".”\n",
      "Warning message:\n",
      "“UNRELIABLE VALUE: Future (‘<none>’) unexpectedly generated random numbers without specifying argument 'seed'. There is a risk that those random numbers are not statistically sound and the overall results might be invalid. To fix this, specify 'seed=TRUE'. This ensures that proper, parallel-safe random numbers are produced via the L'Ecuyer-CMRG method. To disable this check, use 'seed=NULL', or set option 'future.rng.onMisuse' to \"ignore\".”\n",
      "Warning message:\n",
      "“UNRELIABLE VALUE: Future (‘<none>’) unexpectedly generated random numbers without specifying argument 'seed'. There is a risk that those random numbers are not statistically sound and the overall results might be invalid. To fix this, specify 'seed=TRUE'. This ensures that proper, parallel-safe random numbers are produced via the L'Ecuyer-CMRG method. To disable this check, use 'seed=NULL', or set option 'future.rng.onMisuse' to \"ignore\".”\n",
      "Warning message:\n",
      "“UNRELIABLE VALUE: Future (‘<none>’) unexpectedly generated random numbers without specifying argument 'seed'. There is a risk that those random numbers are not statistically sound and the overall results might be invalid. To fix this, specify 'seed=TRUE'. This ensures that proper, parallel-safe random numbers are produced via the L'Ecuyer-CMRG method. To disable this check, use 'seed=NULL', or set option 'future.rng.onMisuse' to \"ignore\".”\n",
      "Warning message:\n",
      "“UNRELIABLE VALUE: Future (‘<none>’) unexpectedly generated random numbers without specifying argument 'seed'. There is a risk that those random numbers are not statistically sound and the overall results might be invalid. To fix this, specify 'seed=TRUE'. This ensures that proper, parallel-safe random numbers are produced via the L'Ecuyer-CMRG method. To disable this check, use 'seed=NULL', or set option 'future.rng.onMisuse' to \"ignore\".”\n",
      "Warning message:\n",
      "“UNRELIABLE VALUE: Future (‘<none>’) unexpectedly generated random numbers without specifying argument 'seed'. There is a risk that those random numbers are not statistically sound and the overall results might be invalid. To fix this, specify 'seed=TRUE'. This ensures that proper, parallel-safe random numbers are produced via the L'Ecuyer-CMRG method. To disable this check, use 'seed=NULL', or set option 'future.rng.onMisuse' to \"ignore\".”\n"
     ]
    }
   ],
   "source": [
    "print(32603)\n",
    "future_pwalk(points_32603 %>% select(epsg, utmBB, baseName, chipName) %>% st_drop_geometry() %>% ungroup(), possibly(crop_by_bbox2_chm, otherwise=NULL), 'train')\n",
    "future_pwalk(points_32603_test %>% select(epsg, utmBB, baseName, chipName) %>% st_drop_geometry() %>% ungroup(), possibly(crop_by_bbox2_chm, otherwise=NULL), 'test')\n",
    "print(32604)\n",
    "future_pwalk(points_32604 %>% select(epsg, utmBB, baseName, chipName) %>% st_drop_geometry(), possibly(crop_by_bbox2_chm, otherwise=NULL), 'train')\n",
    "future_pwalk(points_32604_test %>% select(epsg, utmBB, baseName, chipName) %>% st_drop_geometry(), possibly(crop_by_bbox2_chm, otherwise=NULL), 'test')\n",
    "print(32605)\n",
    "future_pwalk(points_32605 %>% select(epsg, utmBB, baseName, chipName) %>% st_drop_geometry(), possibly(crop_by_bbox2_chm, otherwise=NULL), 'train')\n",
    "future_pwalk(points_32605_test %>% select(epsg, utmBB, baseName, chipName) %>% st_drop_geometry(), possibly(crop_by_bbox2_chm, otherwise=NULL), 'test')\n",
    "print(32606)\n",
    "future_pwalk(points_32606 %>% select(epsg, utmBB, baseName, chipName) %>% st_drop_geometry(), possibly(crop_by_bbox2_chm, otherwise=NULL), 'train')\n",
    "future_pwalk(points_32606_test %>% select(epsg, utmBB, baseName, chipName) %>% st_drop_geometry(), possibly(crop_by_bbox2_chm, otherwise=NULL), 'test')\n",
    "print(32607)\n",
    "future_pwalk(points_32607 %>% select(epsg, utmBB, baseName, chipName) %>% st_drop_geometry(), possibly(crop_by_bbox2_chm, otherwise=NULL), 'train')\n",
    "future_pwalk(points_32607_test %>% select(epsg, utmBB, baseName, chipName) %>% st_drop_geometry(), possibly(crop_by_bbox2_chm, otherwise=NULL), 'test')\n"
   ]
  },
  {
   "cell_type": "code",
   "execution_count": 65,
   "id": "f9900d1f-5649-455d-a336-3273a71f981e",
   "metadata": {},
   "outputs": [],
   "source": [
    "# outPath <- path('/explore/nobackup/people/mmacande/srlite/phys_model/20230329_chm')\n",
    "# dir_create(outPath)\n",
    "# dir_create(path(outPath, 'images'))\n",
    "# dir_create(path(outPath, 'labels'))\n",
    "\n",
    "# rast_vrt_epsg <- function(epsgCode, rast_df, outPath) {\n",
    "#     vrt((rast_df %>% filter(epsg == epsgCode))$rastPath, path(outPath, glue('alaska-sr-02m_{epsgCode}_v20221219.vrt')), overwrite=T)\n",
    "# }\n",
    "\n",
    "# seq(32603,32609)\n",
    "# vrts <- walk(seq(32603,32609), rast_vrt_epsg, rast_df=rast_df, outPath=outPath)\n",
    "\n",
    "# crop_by_bbox2_chm <- function(epsg, utmBB, long, lat) {\n",
    "#     vrt <- rast(path(outPath, glue('alaska-sr-02m_{epsg}_v20221219.vrt')))\n",
    "#     sr_2m <- crop(vrt, utmBB)#, filename=path(outPath, glue('{epsg}_{long}_{lat}.tif')))\n",
    "#     names(sr_2m) <- c('01_blue','02_green','03_red','04_nir')\n",
    "#     dtm_2m <- project(ifsar_dtm, sr_2m, method='bilinear')\n",
    "#     dsm_2m <- project(ifsar_dsm, sr_2m, method='bilinear')\n",
    "#     chm_2m <- dsm_2m - dtm_2m\n",
    "#     chm_dm_2m <- clamp(round(chm_2m * 10),0,1000)\n",
    "#     # phys_2m <- project(phys, sr_2m, method='near')\n",
    "#     # names(dem_2m) <- c('05_elev_m')\n",
    "#     names(dtm_2m) <- c('05_dtm_m')\n",
    "#     names(chm_2m) <- c('06_chm_m')\n",
    "#     # names(phys_2m) <- c('07_phys_code')\n",
    "#     # stack_2m <- c(sr_2m, dtm_2m, chm_2m, phys_2m)\n",
    "#     # writeRaster(stack_2m, filename=path(outPath, glue('{epsg}_{long}_{lat}.tif')), overwrite=T)\n",
    "#     # predictor_stack_2m <- c(sr_2m, dtm_2m)\n",
    "#     predictor_stack_2m <- c(sr_2m)\n",
    "#     writeRaster(predictor_stack_2m, filename=path(outPath, 'images', glue('{epsg}_{long}_{lat}.tif')), overwrite=T)\n",
    "#     label_stack_2m <- c(chm_dm_2m)\n",
    "#     writeRaster(label_stack_2m, filename=path(outPath, 'labels', glue('{epsg}_{long}_{lat}.tif')), overwrite=T)\n",
    "# }\n"
   ]
  },
  {
   "cell_type": "code",
   "execution_count": null,
   "id": "b9c1b2b7-89dc-4174-8816-d624ac65ee12",
   "metadata": {},
   "outputs": [],
   "source": []
  },
  {
   "cell_type": "code",
   "execution_count": 66,
   "id": "fb0ca8b1-dcaf-4e49-b7ad-bab2797f9f38",
   "metadata": {
    "tags": []
   },
   "outputs": [],
   "source": [
    "# pwalk(points_32603 %>% select(epsg, utmBB, long, lat) %>% st_drop_geometry() %>% ungroup() %>% slice_head(n=2), crop_by_bbox2_chm)"
   ]
  },
  {
   "cell_type": "code",
   "execution_count": 67,
   "id": "e86f32cf-c7a8-4376-834d-a0b26fb3f6b3",
   "metadata": {
    "tags": []
   },
   "outputs": [],
   "source": [
    "\n",
    "# # crop_by_bbox2(\n",
    "# pwalk(points_32603 %>% select(epsg, utmBB, long, lat) %>% st_drop_geometry(), possibly(crop_by_bbox2_chm, otherwise=NULL))\n",
    "# pwalk(points_32604 %>% select(epsg, utmBB, long, lat) %>% st_drop_geometry(), possibly(crop_by_bbox2_chm, otherwise=NULL))\n",
    "# pwalk(points_32605 %>% select(epsg, utmBB, long, lat) %>% st_drop_geometry(), possibly(crop_by_bbox2_chm, otherwise=NULL))\n",
    "# pwalk(points_32606 %>% select(epsg, utmBB, long, lat) %>% st_drop_geometry(), possibly(crop_by_bbox2_chm, otherwise=NULL))\n",
    "# pwalk(points_32607 %>% select(epsg, utmBB, long, lat) %>% st_drop_geometry(), possibly(crop_by_bbox2_chm, otherwise=NULL))\n",
    "# # pwalk(points_32608 %>% select(epsg, utmBB, long, lat) %>% st_drop_geometry(), possibly(crop_by_bbox2_chm, otherwise=NULL))\n",
    "# # pwalk(points_32609 %>% select(epsg, utmBB, long, lat) %>% st_drop_geometry(), possibly(crop_by_bbox2_chm, otherwise=NULL))"
   ]
  },
  {
   "cell_type": "markdown",
   "id": "6bdbf3b5-6a0d-4ed4-a576-1fae255174cd",
   "metadata": {},
   "source": [
    "Make it all readable by others"
   ]
  },
  {
   "cell_type": "code",
   "execution_count": 68,
   "id": "9453c15b-e36c-4394-ae03-e954257bff8c",
   "metadata": {},
   "outputs": [],
   "source": [
    "file_chmod(dir_ls(outPath, recurse=T), mode='755')\n",
    "# file_chmod(dir_ls('/explore/nobackup/people/mmacande/srlite/phys_model/20230131_phys', recurse=T), mode='755')\n"
   ]
  },
  {
   "cell_type": "code",
   "execution_count": 69,
   "id": "a9f57855-e565-4275-81fd-1d2fc27d2f94",
   "metadata": {},
   "outputs": [
    {
     "data": {
      "text/html": [
       "'/explore/nobackup/people/mmacande/srlite/chm_model/20230515d_chm'"
      ],
      "text/latex": [
       "'/explore/nobackup/people/mmacande/srlite/chm\\_model/20230515d\\_chm'"
      ],
      "text/markdown": [
       "'/explore/nobackup/people/mmacande/srlite/chm_model/20230515d_chm'"
      ],
      "text/plain": [
       "\u001b[01;34m/explore/nobackup/people/mmacande/srlite/chm_model/20230515d_chm\u001b[0m"
      ]
     },
     "metadata": {},
     "output_type": "display_data"
    }
   ],
   "source": [
    "outPath\n"
   ]
  },
  {
   "cell_type": "code",
   "execution_count": null,
   "id": "b0643863-fef7-46d7-a15b-60a947002d7c",
   "metadata": {},
   "outputs": [],
   "source": []
  }
 ],
 "metadata": {
  "kernelspec": {
   "display_name": "ILAB Kernel (R)",
   "language": "R",
   "name": "r-kernel"
  },
  "language_info": {
   "codemirror_mode": "r",
   "file_extension": ".r",
   "mimetype": "text/x-r-source",
   "name": "R",
   "pygments_lexer": "r",
   "version": "4.2.3"
  }
 },
 "nbformat": 4,
 "nbformat_minor": 5
}
