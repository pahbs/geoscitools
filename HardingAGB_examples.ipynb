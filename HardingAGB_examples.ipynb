{
 "cells": [
  {
   "cell_type": "markdown",
   "id": "f686bba2-e47f-45b1-ac1f-dad359724eb1",
   "metadata": {},
   "source": [
    "## Example of ways to calc requested layers from a DSM & DTM pair  \n",
    "\n",
    "input:  \n",
    "    `*dsm.tif`  \n",
    "    `*dtm.tif `  \n",
    "requested layers:  \n",
    "    `chm.tif`  : canopy height (m)  \n",
    "    `cc.tif` : canopy cover (proportion, 0-1)  \n",
    "    `rugosity.tif` : rugosity (m)"
   ]
  },
  {
   "cell_type": "code",
   "execution_count": 7,
   "id": "0aaf431c-512c-41cc-ba7c-54888e7eae31",
   "metadata": {},
   "outputs": [],
   "source": [
    "import numpy as np\n",
    "import sys\n",
    "sys.path.append('/home/pmontesa/code/pygeotools')\n",
    "from pygeotools.lib import iolib#, malib, geolib, filtlib, warplib"
   ]
  },
  {
   "cell_type": "code",
   "execution_count": null,
   "id": "c3f6a062-fc3a-4e79-932d-e3448e4b65d1",
   "metadata": {},
   "outputs": [],
   "source": [
    "# Get list of files\n",
    "dsm_fn = 'file path to DSM'\n",
    "dtm_fn = 'file path to DTM'\n",
    "fn_list = [dsm_fn, dtm_fn]"
   ]
  },
  {
   "cell_type": "code",
   "execution_count": null,
   "id": "cf3057a7-8295-481d-a394-5647d1de2295",
   "metadata": {},
   "outputs": [],
   "source": [
    "# Example of file open with gdal\n",
    "dsm_ds = gdal.Open(str(dsm_fn))\n",
    "dtm_ds = gdal.Open(str(dtm_fn))"
   ]
  },
  {
   "cell_type": "code",
   "execution_count": null,
   "id": "89d10dab-ae2e-4e71-ba69-ee29f14078f8",
   "metadata": {},
   "outputs": [],
   "source": [
    "# Example to get the masked arrays\n",
    "dsm_ma, dtm_ma  = [iolib.fn_getma(fn) for fn in fn_list]"
   ]
  },
  {
   "cell_type": "code",
   "execution_count": null,
   "id": "e9d4725e-43b1-4f5e-8419-7a0690eb0f68",
   "metadata": {},
   "outputs": [],
   "source": [
    "# Calc CHM\n",
    "chm_ma = dsm_ma - dtm_ma"
   ]
  },
  {
   "cell_type": "markdown",
   "id": "196ed1ff-d9d4-44be-86fe-eafc3bc921b2",
   "metadata": {},
   "source": [
    "#### This moving window function can be used for a few calcs"
   ]
  },
  {
   "cell_type": "code",
   "execution_count": null,
   "id": "7f7e900d-092d-4004-84fe-bfe4ee251ac3",
   "metadata": {},
   "outputs": [],
   "source": [
    "def moving_window(arr, func=np.mean, window_size=3):\n",
    "    \"\"\"moving_window(array, window_size, func=mean)\n",
    "    \"\"\"\n",
    "    from scipy.ndimage.filters import generic_filter\n",
    "    print \"\\tCheck array type INPUT to filter: %s\" %(arr.dtype)\n",
    "    return generic_filter(arr, func, size=window_size)"
   ]
  },
  {
   "cell_type": "code",
   "execution_count": null,
   "id": "6d5d4311-8ff9-4e87-bf09-639ed2f5fe19",
   "metadata": {},
   "outputs": [],
   "source": [
    "# Calc canopy cover from CHM\n",
    "# Lidar canopy cover fraction using CHM 3x3 pixel window, sliding by 1 pixel\n",
    "sz_window = 3\n",
    "threshold_height = 2 # check with team - what is correct threshold?\n",
    "canopy_ma = np.where(chm_ma < threshold_height, 0, 1)\n",
    "cc_ma = moving_window(canopy_ma, func=np.sum, window_size=sz_window) / (sz_window * sz_window)"
   ]
  },
  {
   "cell_type": "code",
   "execution_count": null,
   "id": "8720dd87-59f7-464b-a486-a4f9528dff92",
   "metadata": {},
   "outputs": [],
   "source": [
    "# Calc rugosity from CHM\n",
    "# Lidar rugosity using DSM 3x3 pixel window, sliding by 1 pixel\n",
    "rug_ma = moving_window(chm_ma, np.std, sz_window)"
   ]
  },
  {
   "cell_type": "code",
   "execution_count": null,
   "id": "7f34d53f-b7d3-4cc3-9451-68ccbd99a618",
   "metadata": {},
   "outputs": [],
   "source": [
    "# Not requested - but an alternative to rugosity\n",
    "# Calc roughness of CHM\n",
    "import osgeo\n",
    "from osgeo import gdal\n",
    "roughness_ds = gdal.DEMProcessing('', dem_ds, 'roughness', format='MEM')"
   ]
  },
  {
   "cell_type": "code",
   "execution_count": null,
   "id": "15a370fb-e7da-440b-8915-eeef95f196ac",
   "metadata": {},
   "outputs": [],
   "source": [
    "#Given input dataset, return a masked array for the input band\n",
    "def ds_getma(ds, bnum=1):\n",
    "    \"\"\"Get masked array from input GDAL Dataset\n",
    "    Parameters\n",
    "    ----------\n",
    "    ds : gdal.Dataset \n",
    "        Input GDAL Datset\n",
    "    bnum : int, optional\n",
    "        Band number\n",
    "    \n",
    "    Returns\n",
    "    -------\n",
    "    np.ma.array    \n",
    "        Masked array containing raster values\n",
    "    \"\"\"\n",
    "    b = ds.GetRasterBand(bnum)\n",
    "    return b_getma(b)\n"
   ]
  }
 ],
 "metadata": {
  "kernelspec": {
   "display_name": "ILAB Kernel",
   "language": "python",
   "name": "ilab-kernel"
  },
  "language_info": {
   "codemirror_mode": {
    "name": "ipython",
    "version": 3
   },
   "file_extension": ".py",
   "mimetype": "text/x-python",
   "name": "python",
   "nbconvert_exporter": "python",
   "pygments_lexer": "ipython3",
   "version": "3.9.13"
  }
 },
 "nbformat": 4,
 "nbformat_minor": 5
}
