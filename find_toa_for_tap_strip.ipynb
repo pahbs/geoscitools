{
 "cells": [
  {
   "cell_type": "code",
   "execution_count": 2,
   "id": "24d9fab1-9cd9-45fa-b9cc-7549069b3452",
   "metadata": {},
   "outputs": [],
   "source": [
    "import glob, os, sys\n",
    "import pandas as pd\n",
    "import geopandas as gpd"
   ]
  },
  {
   "cell_type": "code",
   "execution_count": 3,
   "id": "b4f4e0df-eb63-4665-89e9-634f82a0c892",
   "metadata": {},
   "outputs": [],
   "source": [
    "REGION = 'CAS'\n",
    "dir_strips_toa = f'/adapt/nobackup/projects/3sl/data/VHR/{REGION}/M1BS'\n",
    "dir_strips_tap = '/adapt/nobackup/projects/3sl/labels/landcover/tappan'"
   ]
  },
  {
   "cell_type": "code",
   "execution_count": 4,
   "id": "e69935ca-b9b3-41b8-89c7-d4ea32ec51de",
   "metadata": {},
   "outputs": [],
   "source": [
    "# Get strips used for tappan squares \n",
    "list_strips_tap = ['_'.join( os.path.basename(f).replace(\"_mask_segs_reclassified.tif\",\"\").split(\"_\")[1:] ) for f in glob.glob(dir_strips_tap + \"/*.tif\")]"
   ]
  },
  {
   "cell_type": "code",
   "execution_count": 5,
   "id": "68c22158-069a-4bd6-bd68-6ce044579362",
   "metadata": {},
   "outputs": [],
   "source": [
    "# Find the TOAs for these strips\n",
    "list_toa = glob.glob(dir_strips_toa + \"/*toa.tif\")"
   ]
  },
  {
   "cell_type": "code",
   "execution_count": 6,
   "id": "6384a109-58ae-4b56-91c0-7bbcca26c525",
   "metadata": {},
   "outputs": [],
   "source": [
    "list_strips_tap_toa = []\n",
    "for strip in list_strips_tap:\n",
    "    for toa in list_toa:\n",
    "        if strip in toa:\n",
    "            #print(toa)\n",
    "            list_strips_tap_toa.append(toa)"
   ]
  },
  {
   "cell_type": "code",
   "execution_count": 7,
   "id": "9a8d1676-37cb-4de4-ad0d-514f5d3a38e8",
   "metadata": {},
   "outputs": [
    {
     "data": {
      "text/plain": [
       "38"
      ]
     },
     "execution_count": 7,
     "metadata": {},
     "output_type": "execute_result"
    }
   ],
   "source": [
    "len(list_strips_tap)"
   ]
  },
  {
   "cell_type": "code",
   "execution_count": 8,
   "id": "f004b542-8ead-41a7-995a-65b4b76a6eb4",
   "metadata": {},
   "outputs": [
    {
     "data": {
      "text/plain": [
       "38"
      ]
     },
     "execution_count": 8,
     "metadata": {},
     "output_type": "execute_result"
    }
   ],
   "source": [
    "len(list_strips_tap_toa)"
   ]
  },
  {
   "cell_type": "markdown",
   "id": "10a70f0e-4c4b-4db1-b851-2a5dcf60820a",
   "metadata": {},
   "source": [
    "### We need CCDC for these"
   ]
  },
  {
   "cell_type": "code",
   "execution_count": 9,
   "id": "ad2d6e19-aa9f-4078-94cd-c4596f109616",
   "metadata": {},
   "outputs": [
    {
     "name": "stdout",
     "output_type": "stream",
     "text": [
      "We need CCDC for these TOAs...\n",
      "Here are the paths to the TOAs matching the strips associated with Tappan squares in CAS:\n",
      "\n",
      "/adapt/nobackup/projects/3sl/data/VHR/CAS/M1BS/WV03_20170226_M1BS_104001002802FF00-toa.tif\n",
      "/adapt/nobackup/projects/3sl/data/VHR/CAS/M1BS/WV02_20170126_M1BS_1030010062B12000-toa.tif\n",
      "/adapt/nobackup/projects/3sl/data/VHR/CAS/M1BS/WV02_20190207_M1BS_103001008ACFCA00-toa.tif\n",
      "/adapt/nobackup/projects/3sl/data/VHR/CAS/M1BS/WV02_20110130_M1BS_103001000899D600-toa.tif\n",
      "/adapt/nobackup/projects/3sl/data/VHR/CAS/M1BS/WV02_20181217_M1BS_1030010089CC6D00-toa.tif\n",
      "/adapt/nobackup/projects/3sl/data/VHR/CAS/M1BS/WV02_20131206_M1BS_10300100291F4300-toa.tif\n",
      "/adapt/nobackup/projects/3sl/data/VHR/CAS/M1BS/WV03_20160307_M1BS_10400100196AFB00-toa.tif\n",
      "/adapt/nobackup/projects/3sl/data/VHR/CAS/M1BS/WV03_20210209_M1BS_104001006477DB00-toa.tif\n",
      "/adapt/nobackup/projects/3sl/data/VHR/CAS/M1BS/WV03_20160123_M1BS_1040010018A59100-toa.tif\n",
      "/adapt/nobackup/projects/3sl/data/VHR/CAS/M1BS/WV03_20150325_M1BS_104001000970C400-toa.tif\n",
      "/adapt/nobackup/projects/3sl/data/VHR/CAS/M1BS/WV02_20120218_M1BS_103001001077BE00-toa.tif\n",
      "/adapt/nobackup/projects/3sl/data/VHR/CAS/M1BS/WV02_20120218_M1BS_103001001077BE00-toa.tif\n",
      "/adapt/nobackup/projects/3sl/data/VHR/CAS/M1BS/WV02_20110105_M1BS_1030010008ACD100-toa.tif\n",
      "/adapt/nobackup/projects/3sl/data/VHR/CAS/M1BS/WV03_20151209_M1BS_10400100156ADA00-toa.tif\n",
      "/adapt/nobackup/projects/3sl/data/VHR/CAS/M1BS/WV02_20130414_M1BS_103001001F227000-toa.tif\n",
      "/adapt/nobackup/projects/3sl/data/VHR/CAS/M1BS/WV02_20130530_M1BS_1030010022925500-toa.tif\n",
      "/adapt/nobackup/projects/3sl/data/VHR/CAS/M1BS/WV02_20180508_M1BS_103001007E750C00-toa.tif\n",
      "/adapt/nobackup/projects/3sl/data/VHR/CAS/M1BS/WV02_20180422_M1BS_103001007C78BC00-toa.tif\n",
      "/adapt/nobackup/projects/3sl/data/VHR/CAS/M1BS/WV02_20180422_M1BS_103001007C78BC00-toa.tif\n",
      "/adapt/nobackup/projects/3sl/data/VHR/CAS/M1BS/WV02_20110430_M1BS_103001000A27E100-toa.tif\n",
      "/adapt/nobackup/projects/3sl/data/VHR/CAS/M1BS/WV02_20110207_M1BS_1030010008B55200-toa.tif\n",
      "/adapt/nobackup/projects/3sl/data/VHR/CAS/M1BS/WV02_20181217_M1BS_1030010089CC6D00-toa.tif\n",
      "/adapt/nobackup/projects/3sl/data/VHR/CAS/M1BS/WV02_20180430_M1BS_103001007EB3E800-toa.tif\n",
      "/adapt/nobackup/projects/3sl/data/VHR/CAS/M1BS/WV03_20160617_M1BS_104001001E3B1600-toa.tif\n",
      "/adapt/nobackup/projects/3sl/data/VHR/CAS/M1BS/WV02_20111215_M1BS_103001000FA26B00-toa.tif\n",
      "/adapt/nobackup/projects/3sl/data/VHR/CAS/M1BS/WV02_20111005_M1BS_103001000D972F00-toa.tif\n",
      "/adapt/nobackup/projects/3sl/data/VHR/CAS/M1BS/WV02_20110430_M1BS_103001000A27E100-toa.tif\n",
      "/adapt/nobackup/projects/3sl/data/VHR/CAS/M1BS/WV03_20151209_M1BS_10400100156ADA00-toa.tif\n",
      "/adapt/nobackup/projects/3sl/data/VHR/CAS/M1BS/WV03_20160123_M1BS_1040010018A59100-toa.tif\n",
      "/adapt/nobackup/projects/3sl/data/VHR/CAS/M1BS/WV02_20181217_M1BS_103001008B8CEC00-toa.tif\n",
      "/adapt/nobackup/projects/3sl/data/VHR/CAS/M1BS/WV03_20141119_M1BS_1040010004CF8900-toa.tif\n",
      "/adapt/nobackup/projects/3sl/data/VHR/CAS/M1BS/WV03_20211115_M1BS_104001006E426400-toa.tif\n",
      "/adapt/nobackup/projects/3sl/data/VHR/CAS/M1BS/WV02_20210410_M1BS_10300100BC0C8900-toa.tif\n",
      "/adapt/nobackup/projects/3sl/data/VHR/CAS/M1BS/WV02_20161230_M1BS_10300100614AF600-toa.tif\n",
      "/adapt/nobackup/projects/3sl/data/VHR/CAS/M1BS/WV02_20181217_M1BS_1030010089CC6D00-toa.tif\n",
      "/adapt/nobackup/projects/3sl/data/VHR/CAS/M1BS/WV02_20141205_M1BS_103001003B68BC00-toa.tif\n",
      "/adapt/nobackup/projects/3sl/data/VHR/CAS/M1BS/WV02_20181217_M1BS_10300100867D5200-toa.tif\n",
      "/adapt/nobackup/projects/3sl/data/VHR/CAS/M1BS/WV02_20151125_M1BS_103001004C99E800-toa.tif\n",
      "[None, None, None, None, None, None, None, None, None, None, None, None, None, None, None, None, None, None, None, None, None, None, None, None, None, None, None, None, None, None, None, None, None, None, None, None, None, None]\n"
     ]
    }
   ],
   "source": [
    "print(\"We need CCDC for these TOAs...\")\n",
    "print(f\"Here are the paths to the TOAs matching the strips associated with Tappan squares in {REGION}:\\n\")\n",
    "print(f\"{[print(f) for f in list_strips_tap_toa]}\")"
   ]
  },
  {
   "cell_type": "markdown",
   "id": "abef77ef-f5fd-47c8-8d74-53d4951b66a3",
   "metadata": {},
   "source": [
    "### Footprint this list"
   ]
  },
  {
   "cell_type": "code",
   "execution_count": 11,
   "id": "dc022385-6d88-4c02-9ba0-6444be96e703",
   "metadata": {},
   "outputs": [],
   "source": [
    "import sys\n",
    "sys.path.append('/efs/pmontesa/code/geoscitools')\n",
    "sys.path.append('/home/pmontesa/code/geoscitools')\n",
    "import maplib\n",
    "import footprintlib\n",
    "from footprintlib import *\n",
    "\n",
    "r_fn_list = list_strips_tap_toa\n",
    "f_gdf_lst = [raster_footprint(r_fn, DO_DATAMASK=False, GET_ONLY_DATASETMASK=False, R_READ_MODE='r', MANY_CRS=True) for r_fn in r_fn_list]"
   ]
  },
  {
   "cell_type": "code",
   "execution_count": 18,
   "id": "fafb8647-47f7-48cd-b44c-8aad57cc0d0e",
   "metadata": {},
   "outputs": [
    {
     "name": "stdout",
     "output_type": "stream",
     "text": [
      "Building GDF from list...\n",
      "Wrote out spatial footprints to /adapt/nobackup/people/pmontesa/userfs02/_share/Senegal_LCLUC/footprint_strips_tap_toa.gpkg\n"
     ]
    }
   ],
   "source": [
    "outprint_fn = '/adapt/nobackup/people/pmontesa/userfs02/_share/Senegal_LCLUC/footprint_strips_tap_toa.gpkg'\n",
    "# Build a footprint database geodataframe from all rasters\n",
    "footprint_gdf = build_footprint_db(f_gdf_lst, TO_GCS=False, WRITE_GPKG=True, OUT_F_NAME=outprint_fn, OUT_LYR_NAME='toa')\n",
    "footprint_gdf['footprint_name'] = footprint_gdf['file'].str.split('_', expand=True)[0]\n",
    "\n",
    "footprint_gdf['batch_name'] = footprint_gdf['path'].apply(lambda x: os.path.splitext(os.path.basename(x))[0])\n"
   ]
  },
  {
   "cell_type": "code",
   "execution_count": 16,
   "id": "f490375c-bd2f-4382-8c32-4c37328ff142",
   "metadata": {},
   "outputs": [
    {
     "data": {
      "text/html": [
       "<div>\n",
       "<style scoped>\n",
       "    .dataframe tbody tr th:only-of-type {\n",
       "        vertical-align: middle;\n",
       "    }\n",
       "\n",
       "    .dataframe tbody tr th {\n",
       "        vertical-align: top;\n",
       "    }\n",
       "\n",
       "    .dataframe thead th {\n",
       "        text-align: right;\n",
       "    }\n",
       "</style>\n",
       "<table border=\"1\" class=\"dataframe\">\n",
       "  <thead>\n",
       "    <tr style=\"text-align: right;\">\n",
       "      <th></th>\n",
       "      <th>geometry</th>\n",
       "      <th>footprint_name</th>\n",
       "      <th>path</th>\n",
       "      <th>file</th>\n",
       "      <th>area_km2</th>\n",
       "      <th>area_ha</th>\n",
       "      <th>batch_name</th>\n",
       "    </tr>\n",
       "  </thead>\n",
       "  <tbody>\n",
       "    <tr>\n",
       "      <th>0</th>\n",
       "      <td>POLYGON ((-14.46377 12.46407, -14.46258 13.025...</td>\n",
       "      <td>WV03</td>\n",
       "      <td>/adapt/nobackup/projects/3sl/data/VHR/CAS/M1BS</td>\n",
       "      <td>WV03_20170226_M1BS_104001002802FF00-toa.tif</td>\n",
       "      <td>994.541200</td>\n",
       "      <td>99454.1200</td>\n",
       "      <td>M1BS</td>\n",
       "    </tr>\n",
       "    <tr>\n",
       "      <th>1</th>\n",
       "      <td>POLYGON ((-14.50624 12.95314, -14.50510 13.515...</td>\n",
       "      <td>WV02</td>\n",
       "      <td>/adapt/nobackup/projects/3sl/data/VHR/CAS/M1BS</td>\n",
       "      <td>WV02_20170126_M1BS_1030010062B12000-toa.tif</td>\n",
       "      <td>1267.819200</td>\n",
       "      <td>126781.9200</td>\n",
       "      <td>M1BS</td>\n",
       "    </tr>\n",
       "    <tr>\n",
       "      <th>2</th>\n",
       "      <td>POLYGON ((-13.65071 12.95832, -13.64655 13.707...</td>\n",
       "      <td>WV02</td>\n",
       "      <td>/adapt/nobackup/projects/3sl/data/VHR/CAS/M1BS</td>\n",
       "      <td>WV02_20190207_M1BS_103001008ACFCA00-toa.tif</td>\n",
       "      <td>1721.166944</td>\n",
       "      <td>172116.6944</td>\n",
       "      <td>M1BS</td>\n",
       "    </tr>\n",
       "    <tr>\n",
       "      <th>3</th>\n",
       "      <td>POLYGON ((-14.12320 12.54020, -14.12150 13.031...</td>\n",
       "      <td>WV02</td>\n",
       "      <td>/adapt/nobackup/projects/3sl/data/VHR/CAS/M1BS</td>\n",
       "      <td>WV02_20110130_M1BS_103001000899D600-toa.tif</td>\n",
       "      <td>1030.705628</td>\n",
       "      <td>103070.5628</td>\n",
       "      <td>M1BS</td>\n",
       "    </tr>\n",
       "    <tr>\n",
       "      <th>4</th>\n",
       "      <td>POLYGON ((-13.93051 12.95582, -13.92834 13.455...</td>\n",
       "      <td>WV02</td>\n",
       "      <td>/adapt/nobackup/projects/3sl/data/VHR/CAS/M1BS</td>\n",
       "      <td>WV02_20181217_M1BS_1030010089CC6D00-toa.tif</td>\n",
       "      <td>1156.328908</td>\n",
       "      <td>115632.8908</td>\n",
       "      <td>M1BS</td>\n",
       "    </tr>\n",
       "  </tbody>\n",
       "</table>\n",
       "</div>"
      ],
      "text/plain": [
       "                                            geometry footprint_name  \\\n",
       "0  POLYGON ((-14.46377 12.46407, -14.46258 13.025...           WV03   \n",
       "1  POLYGON ((-14.50624 12.95314, -14.50510 13.515...           WV02   \n",
       "2  POLYGON ((-13.65071 12.95832, -13.64655 13.707...           WV02   \n",
       "3  POLYGON ((-14.12320 12.54020, -14.12150 13.031...           WV02   \n",
       "4  POLYGON ((-13.93051 12.95582, -13.92834 13.455...           WV02   \n",
       "\n",
       "                                             path  \\\n",
       "0  /adapt/nobackup/projects/3sl/data/VHR/CAS/M1BS   \n",
       "1  /adapt/nobackup/projects/3sl/data/VHR/CAS/M1BS   \n",
       "2  /adapt/nobackup/projects/3sl/data/VHR/CAS/M1BS   \n",
       "3  /adapt/nobackup/projects/3sl/data/VHR/CAS/M1BS   \n",
       "4  /adapt/nobackup/projects/3sl/data/VHR/CAS/M1BS   \n",
       "\n",
       "                                          file     area_km2      area_ha  \\\n",
       "0  WV03_20170226_M1BS_104001002802FF00-toa.tif   994.541200   99454.1200   \n",
       "1  WV02_20170126_M1BS_1030010062B12000-toa.tif  1267.819200  126781.9200   \n",
       "2  WV02_20190207_M1BS_103001008ACFCA00-toa.tif  1721.166944  172116.6944   \n",
       "3  WV02_20110130_M1BS_103001000899D600-toa.tif  1030.705628  103070.5628   \n",
       "4  WV02_20181217_M1BS_1030010089CC6D00-toa.tif  1156.328908  115632.8908   \n",
       "\n",
       "  batch_name  \n",
       "0       M1BS  \n",
       "1       M1BS  \n",
       "2       M1BS  \n",
       "3       M1BS  \n",
       "4       M1BS  "
      ]
     },
     "execution_count": 16,
     "metadata": {},
     "output_type": "execute_result"
    }
   ],
   "source": [
    "footprint_gdf.head()"
   ]
  }
 ],
 "metadata": {
  "kernelspec": {
   "display_name": "ilab-kernel",
   "language": "python",
   "name": "python3"
  },
  "language_info": {
   "codemirror_mode": {
    "name": "ipython",
    "version": 3
   },
   "file_extension": ".py",
   "mimetype": "text/x-python",
   "name": "python",
   "nbconvert_exporter": "python",
   "pygments_lexer": "ipython3",
   "version": "3.7.12"
  }
 },
 "nbformat": 4,
 "nbformat_minor": 5
}
