{
 "cells": [
  {
   "cell_type": "markdown",
   "metadata": {},
   "source": [
    "# Footprint the extents of rasters"
   ]
  },
  {
   "cell_type": "code",
   "execution_count": 2,
   "metadata": {},
   "outputs": [],
   "source": [
    "import rasterio\n",
    "import rasterio.features\n",
    "import rasterio.warp\n",
    "from rasterio.plot import show\n",
    "from rasterio import Affine, MemoryFile\n",
    "from rasterio.enums import Resampling\n",
    "\n",
    "import pandas as pd\n",
    "import geopandas as gpd\n",
    "import shapely\n",
    "from shapely.geometry import box\n",
    "import fiona\n",
    "from fiona.crs import from_epsg\n",
    "import pprint\n",
    "\n",
    "import glob\n",
    "import os\n",
    "\n",
    "import sys\n",
    "sys.path.append('/efs/pmontesa/code/geoscitools')\n",
    "sys.path.append('/home/pmontesa/code/geoscitools')\n",
    "import maplib\n",
    "import footprintlib\n",
    "from footprintlib import *\n",
    "\n",
    "# https://gis.stackexchange.com/questions/375577/how-do-i-write-out-a-mixed-geometry-geodataframe-to-a-geopackage\n",
    "# https://gis.stackexchange.com/questions/187877/how-to-polygonize-raster-to-shapely-polygons"
   ]
  },
  {
   "cell_type": "markdown",
   "metadata": {},
   "source": [
    "### Set up dictionaries of parameters"
   ]
  },
  {
   "cell_type": "code",
   "execution_count": 32,
   "metadata": {},
   "outputs": [
    {
     "ename": "NameError",
     "evalue": "name 'credentials_fn' is not defined",
     "output_type": "error",
     "traceback": [
      "\u001b[0;31m---------------------------------------------------------------------------\u001b[0m",
      "\u001b[0;31mNameError\u001b[0m                                 Traceback (most recent call last)",
      "\u001b[0;32m/tmp/ipykernel_87623/4075076082.py\u001b[0m in \u001b[0;36m<module>\u001b[0;34m\u001b[0m\n\u001b[0;32m----> 1\u001b[0;31m \u001b[0mfootprintlib\u001b[0m\u001b[0;34m.\u001b[0m\u001b[0mget_s3_fs_from_creds\u001b[0m\u001b[0;34m(\u001b[0m\u001b[0;34m)\u001b[0m\u001b[0;34m\u001b[0m\u001b[0;34m\u001b[0m\u001b[0m\n\u001b[0m",
      "\u001b[0;32m/gpfsm/ccds01/home/pmontesa/code/geoscitools/footprintlib.py\u001b[0m in \u001b[0;36mget_s3_fs_from_creds\u001b[0;34m()\u001b[0m\n\u001b[1;32m     59\u001b[0m \u001b[0;32mdef\u001b[0m \u001b[0mget_s3_fs_from_creds\u001b[0m\u001b[0;34m(\u001b[0m\u001b[0;34m)\u001b[0m\u001b[0;34m:\u001b[0m\u001b[0;34m\u001b[0m\u001b[0;34m\u001b[0m\u001b[0m\n\u001b[1;32m     60\u001b[0m \u001b[0;34m\u001b[0m\u001b[0m\n\u001b[0;32m---> 61\u001b[0;31m     \u001b[0mprofile_name\u001b[0m\u001b[0;34m,\u001b[0m \u001b[0maws_access_key_id\u001b[0m\u001b[0;34m,\u001b[0m \u001b[0maws_secret_access_key\u001b[0m \u001b[0;34m=\u001b[0m \u001b[0mparse_aws_creds\u001b[0m\u001b[0;34m(\u001b[0m\u001b[0mcredentials_fn\u001b[0m\u001b[0;34m)\u001b[0m\u001b[0;34m\u001b[0m\u001b[0;34m\u001b[0m\u001b[0m\n\u001b[0m\u001b[1;32m     62\u001b[0m \u001b[0;34m\u001b[0m\u001b[0m\n\u001b[1;32m     63\u001b[0m     \u001b[0ms3_fs\u001b[0m \u001b[0;34m=\u001b[0m \u001b[0ms3fs\u001b[0m\u001b[0;34m.\u001b[0m\u001b[0mS3FileSystem\u001b[0m\u001b[0;34m(\u001b[0m\u001b[0mprofile\u001b[0m\u001b[0;34m=\u001b[0m\u001b[0mprofile_name\u001b[0m\u001b[0;34m,\u001b[0m \u001b[0mkey\u001b[0m\u001b[0;34m=\u001b[0m\u001b[0maws_access_key_id\u001b[0m\u001b[0;34m,\u001b[0m \u001b[0msecret\u001b[0m\u001b[0;34m=\u001b[0m\u001b[0maws_secret_access_key\u001b[0m\u001b[0;34m)\u001b[0m\u001b[0;34m\u001b[0m\u001b[0;34m\u001b[0m\u001b[0m\n",
      "\u001b[0;31mNameError\u001b[0m: name 'credentials_fn' is not defined"
     ]
    }
   ],
   "source": []
  },
  {
   "cell_type": "markdown",
   "metadata": {},
   "source": [
    "Set up an AWSSession"
   ]
  },
  {
   "cell_type": "code",
   "execution_count": 3,
   "metadata": {},
   "outputs": [
    {
     "ename": "IndexError",
     "evalue": "list index out of range",
     "output_type": "error",
     "traceback": [
      "\u001b[0;31m---------------------------------------------------------------------------\u001b[0m",
      "\u001b[0;31mIndexError\u001b[0m                                Traceback (most recent call last)",
      "\u001b[0;32m/tmp/ipykernel_90279/2151732247.py\u001b[0m in \u001b[0;36m<module>\u001b[0;34m\u001b[0m\n\u001b[1;32m      2\u001b[0m \u001b[0mconfig\u001b[0m \u001b[0;34m=\u001b[0m \u001b[0mconfigparser\u001b[0m\u001b[0;34m.\u001b[0m\u001b[0mConfigParser\u001b[0m\u001b[0;34m(\u001b[0m\u001b[0;34m)\u001b[0m\u001b[0;34m\u001b[0m\u001b[0;34m\u001b[0m\u001b[0m\n\u001b[1;32m      3\u001b[0m \u001b[0mconfig\u001b[0m\u001b[0;34m.\u001b[0m\u001b[0mread\u001b[0m\u001b[0;34m(\u001b[0m\u001b[0;34m'/efs/pmontesa/credentials'\u001b[0m\u001b[0;34m)\u001b[0m\u001b[0;34m\u001b[0m\u001b[0;34m\u001b[0m\u001b[0m\n\u001b[0;32m----> 4\u001b[0;31m \u001b[0mprint\u001b[0m\u001b[0;34m(\u001b[0m\u001b[0mconfig\u001b[0m\u001b[0;34m.\u001b[0m\u001b[0msections\u001b[0m\u001b[0;34m(\u001b[0m\u001b[0;34m)\u001b[0m\u001b[0;34m[\u001b[0m\u001b[0;36m0\u001b[0m\u001b[0;34m]\u001b[0m\u001b[0;34m)\u001b[0m\u001b[0;34m\u001b[0m\u001b[0;34m\u001b[0m\u001b[0m\n\u001b[0m\u001b[1;32m      5\u001b[0m \u001b[0;34m[\u001b[0m\u001b[0mprint\u001b[0m\u001b[0;34m(\u001b[0m\u001b[0mkey\u001b[0m\u001b[0;34m)\u001b[0m \u001b[0;32mfor\u001b[0m \u001b[0mkey\u001b[0m \u001b[0;32min\u001b[0m \u001b[0mconfig\u001b[0m\u001b[0;34m[\u001b[0m\u001b[0;34m'boreal_pub'\u001b[0m\u001b[0;34m]\u001b[0m\u001b[0;34m]\u001b[0m\u001b[0;34m\u001b[0m\u001b[0;34m\u001b[0m\u001b[0m\n",
      "\u001b[0;31mIndexError\u001b[0m: list index out of range"
     ]
    }
   ],
   "source": [
    "import configparser\n",
    "config = configparser.ConfigParser()\n",
    "config.read('/efs/pmontesa/credentials')\n",
    "print(config.sections()[0])\n",
    "[print(key) for key in config['boreal_pub']]\n"
   ]
  },
  {
   "cell_type": "code",
   "execution_count": 5,
   "metadata": {},
   "outputs": [
    {
     "data": {
      "text/plain": [
       "'boreal_pub'"
      ]
     },
     "execution_count": 5,
     "metadata": {},
     "output_type": "execute_result"
    }
   ],
   "source": [
    "parse_aws_creds(credentials_fn)[0]"
   ]
  },
  {
   "cell_type": "markdown",
   "metadata": {},
   "source": [
    "## Build a dictionary of the raster datasets for footprinting"
   ]
  },
  {
   "cell_type": "code",
   "execution_count": 51,
   "metadata": {},
   "outputs": [],
   "source": [
    "dict_list = [\n",
    "\n",
    "    {'location':'s3',  #'local' or 's3'\n",
    "     'data_dir': \"s3://terrapulse-pub-data/boreal-forest-data\",\n",
    "     'data_source': 'terrapulse-pub-data',\n",
    "     'image_type': 'tcc_2020',\n",
    "     'search_tail_string': '/**/*.tif',\n",
    "     'search_link_string': '',\n",
    "     'DO_DATAMASK': False,\n",
    "     'GET_ONLY_DATASETMASK': True,\n",
    "     'out_footprint_dir': '/efs/projects/forest_height/test_out',\n",
    "     'footprint_name_SPLIT_CHAR': '_',\n",
    "     'footprint_name_SPLIT_POS': 0,\n",
    "     'aws_credential_fn': '/efs/pmontesa/credentials'\n",
    "    },\n",
    "    {'location':'local', #'local' or 's3'\n",
    "     'data_dir': \"/efs/projects/data/hls_tiles\",\n",
    "     'data_source': 'hls_tiles',\n",
    "     'image_type': 'boreal_tiles_v0003',\n",
    "     'search_tail_string': '/*.tif',\n",
    "     'search_link_string': '',\n",
    "     'DO_DATAMASK': False,\n",
    "     'GET_ONLY_DATASETMASK': True,\n",
    "     'out_footprint_dir': '/efs/projects/forest_height/test_out',\n",
    "     'footprint_name_SPLIT_CHAR': '_',\n",
    "     'footprint_name_SPLIT_POS': 0,\n",
    "     'aws_credential_fn': None\n",
    "    },\n",
    "    {'location':'local', #'local' or 's3'\n",
    "     'data_dir': \"/att/nobackup/pmontesa/userfs02/data/worldclim/1km/bioclim\",\n",
    "     'data_source': 'worldclim',\n",
    "     'image_type': 'wc2.0_30s_bio',\n",
    "     'search_tail_string': '/wc2.0_bio_30s*.tif',\n",
    "     'search_link_string': '',\n",
    "     'DO_DATAMASK': False,\n",
    "     'GET_ONLY_DATASETMASK': True,\n",
    "     'out_footprint_dir': '/att/nobackup/pmontesa/userfs02/projects/ilab/boreal_height',\n",
    "     'footprint_name_SPLIT_CHAR': '_',\n",
    "     'footprint_name_SPLIT_POS': 0,\n",
    "     'aws_credential_fn': None\n",
    "    },   \n",
    "    {'location':'local', #'local' or 's3'\n",
    "     'data_dir': \"/att/nobackup/pmontesa/userfs02/data\",\n",
    "     'data_source': 'soil_grids',\n",
    "     'image_type': 'soil_grids',\n",
    "     'search_tail_string': '/*.tif',\n",
    "     'search_link_string': '',\n",
    "     'DO_DATAMASK': False,\n",
    "     'GET_ONLY_DATASETMASK': True,\n",
    "     'out_footprint_dir': '/att/nobackup/pmontesa/userfs02/projects/ilab/boreal_height',\n",
    "     'footprint_name_SPLIT_CHAR': '_',\n",
    "     'footprint_name_SPLIT_POS': 0,\n",
    "     'aws_credential_fn': None\n",
    "    }, \n",
    "    {'location':'local', #'local' or 's3'\n",
    "     'data_dir': \"/att/nobackup/pmontesa/userfs02/data\",\n",
    "     'data_source': 'awi',\n",
    "     'image_type': 'MAGT',\n",
    "     'search_tail_string': '/*PERPROB*.tif',\n",
    "     'search_link_string': '',\n",
    "     'DO_DATAMASK': False,\n",
    "     'GET_ONLY_DATASETMASK': True,\n",
    "     'out_footprint_dir': '/att/nobackup/pmontesa/userfs02/projects/ilab/boreal_height',\n",
    "     'footprint_name_SPLIT_CHAR': '_',\n",
    "     'footprint_name_SPLIT_POS': 0,\n",
    "     'aws_credential_fn': None\n",
    "    },    \n",
    "]"
   ]
  },
  {
   "cell_type": "code",
   "execution_count": 59,
   "metadata": {},
   "outputs": [],
   "source": [
    "if False:\n",
    "    for d in dict_list:\n",
    "        print('\\n', d['data_source'])\n",
    "\n",
    "        if d['location'] == 's3':\n",
    "            import s3fs\n",
    "            # Use s3fs to access file remote s3 system\n",
    "            s3 = footprintlib.get_s3_fs_from_creds('/home/pmontesa/credentials_test') # '/efs/pmontesa/credentials'\n",
    "            print(s3.ls(d['data_dir']))"
   ]
  },
  {
   "cell_type": "markdown",
   "metadata": {},
   "source": [
    "### Run the footprinting code over an s3 datalist to return and geodataframe and a geopackage **updated** \n",
    "\n",
    "https://stackoverflow.com/questions/67812512/rasterio-does-not-exist-in-the-file-system-and-is-not-recognized-as-a-support"
   ]
  },
  {
   "cell_type": "code",
   "execution_count": 52,
   "metadata": {},
   "outputs": [
    {
     "name": "stdout",
     "output_type": "stream",
     "text": [
      "/att/nobackup/pmontesa/userfs02/data/soil_grids/*.tif\n",
      "74 total inputs from soil_grids\n",
      "Building GDF from list...\n",
      "Converting to GCS...\n",
      "Wrote out spatial footprints to /att/nobackup/pmontesa/userfs02/projects/ilab/boreal_height/footprints_soil_grids_soil_grids.gpkg\n",
      "CPU times: user 2.99 s, sys: 314 ms, total: 3.3 s\n",
      "Wall time: 10.6 s\n"
     ]
    },
    {
     "name": "stderr",
     "output_type": "stream",
     "text": [
      "/gpfsm/ccds01/home/appmgr/app/jupyterhub/ilab/kernel/lib/python3.7/site-packages/pyproj/crs/crs.py:68: FutureWarning: '+init=<authority>:<code>' syntax is deprecated. '<authority>:<code>' is the preferred initialization method. When making the change, be mindful of axis order changes: https://pyproj4.github.io/pyproj/stable/gotchas.html#axis-order-changes-in-proj-6\n",
      "  return _prepare_from_string(\" \".join(pjargs))\n"
     ]
    }
   ],
   "source": [
    "%%time\n",
    "\n",
    "######################\n",
    "# Select a dictionary\n",
    "d = dict_list[3]\n",
    "TEST=False\n",
    "######################\n",
    "\n",
    "\n",
    "footprint_gdf_list = list() \n",
    "filename = 'footprints_' + d['data_source']+'_'+d['image_type']+'.gpkg'\n",
    "\n",
    "#SEARCH_STR_LIST = [\"/\", sensor, image_type, \".tif\"]\n",
    "SEARCH_STR_LIST = [\"/\", d['image_type'], d['search_tail_string']]\n",
    "keystring = d['search_link_string'].join(SEARCH_STR_LIST)\n",
    "print(d['data_dir'] + keystring)\n",
    "\n",
    "# Raster list\n",
    "if d['location'] == 'local':\n",
    "    r_fn_list = glob.glob(d['data_dir'] + keystring)\n",
    "else:\n",
    "    print('on s3...')\n",
    "    r_fn_list = s3.glob(d['data_dir'] + keystring)\n",
    "    r_fn_list = ['s3://' + f for f in r_fn_list]\n",
    "\n",
    "if TEST:\n",
    "    r_fn_list = r_fn_list[0:2]\n",
    "    print(r_fn_list)\n",
    "    filename = 'TEST_footprints_' + d['data_source']+'_'+d['image_type']+'.gpkg'\n",
    "\n",
    "\n",
    "outprint_fn = os.path.join(d['out_footprint_dir'], filename)\n",
    "\n",
    "print(f'{len(r_fn_list)} total inputs from ' + d['data_source'] )    \n",
    "\n",
    "if d['location'] == 'local':\n",
    "    # Raster files are local\n",
    "    # Get a list geodataframes of indiv raster footprint geometries (both data and mask)\n",
    "    f_gdf_lst = [raster_footprint(r_fn, DO_DATAMASK=d['DO_DATAMASK'], GET_ONLY_DATASETMASK=d['GET_ONLY_DATASETMASK'], R_READ_MODE='r') for r_fn in r_fn_list]\n",
    "if d['location'] == 's3':\n",
    "    # Raster files are on s3\n",
    "    # Get the rio AWS session needed to access the s3 rasters in order to footprint\n",
    "    aws_session = get_rio_aws_session_from_creds(d['aws_credential_fn'])\n",
    "    with rio.Env(aws_session):\n",
    "        # Get a list geodataframes of indiv raster footprint geometries (both data and mask)\n",
    "        f_gdf_lst = [raster_footprint(r_fn, DO_DATAMASK=d['DO_DATAMASK'], GET_ONLY_DATASETMASK=d['GET_ONLY_DATASETMASK'], R_READ_MODE='r') for r_fn in r_fn_list]\n",
    "if len(f_gdf_lst)==0:\n",
    "    print('\\nNothing was footprinted.\\n')\n",
    "else:\n",
    "    # Build a footprint database geodataframe from all rasters\n",
    "    footprint_gdf = build_footprint_db(f_gdf_lst, TO_GCS=True, WRITE_GPKG=True, OUT_F_NAME=outprint_fn, OUT_LYR_NAME=d['image_type'])\n",
    "    footprint_gdf['footprint_name'] = footprint_gdf['file'].str.split(d['footprint_name_SPLIT_CHAR'], expand=True)[d['footprint_name_SPLIT_POS']]\n",
    "    footprint_gdf_list.append(footprint_gdf)\n"
   ]
  },
  {
   "cell_type": "markdown",
   "metadata": {},
   "source": [
    "#### Test access to rasters on s3"
   ]
  },
  {
   "cell_type": "code",
   "execution_count": null,
   "metadata": {},
   "outputs": [],
   "source": [
    "test_terraPulse_file = r_fn_list[1]\n",
    "\n",
    "import rioxarray as rxr\n",
    "\n",
    "with rio.Env(aws_session):\n",
    "    #arr= rxr.open_rasterio(test_terraPulse_file,  masked=False)\n",
    "    \n",
    "    with rio.open(test_terraPulse_file) as src:\n",
    "        profile = src.profile\n",
    "        arr = src.read(1)\n",
    "        #arr.plot()\n",
    "        from rasterio.plot import show_hist\n",
    "        show_hist(\n",
    "            src, bins=50, lw=0.0, stacked=False, alpha=0.3,\n",
    "            histtype='stepfilled', title=\"Histogram\")"
   ]
  },
  {
   "cell_type": "markdown",
   "metadata": {},
   "source": [
    "### Select the footprints gdf"
   ]
  },
  {
   "cell_type": "code",
   "execution_count": 53,
   "metadata": {},
   "outputs": [
    {
     "data": {
      "text/html": [
       "<div>\n",
       "<style scoped>\n",
       "    .dataframe tbody tr th:only-of-type {\n",
       "        vertical-align: middle;\n",
       "    }\n",
       "\n",
       "    .dataframe tbody tr th {\n",
       "        vertical-align: top;\n",
       "    }\n",
       "\n",
       "    .dataframe thead th {\n",
       "        text-align: right;\n",
       "    }\n",
       "</style>\n",
       "<table border=\"1\" class=\"dataframe\">\n",
       "  <thead>\n",
       "    <tr style=\"text-align: right;\">\n",
       "      <th></th>\n",
       "      <th>geometry</th>\n",
       "      <th>footprint_name</th>\n",
       "      <th>path</th>\n",
       "      <th>file</th>\n",
       "    </tr>\n",
       "  </thead>\n",
       "  <tbody>\n",
       "    <tr>\n",
       "      <th>0</th>\n",
       "      <td>POLYGON ((179.99994 -56.00081, 179.99994 83.99...</td>\n",
       "      <td>BLDFIE</td>\n",
       "      <td>/att/nobackup/pmontesa/userfs02/data/soil_grids</td>\n",
       "      <td>BLDFIE_M_sl1_250m_ll.tif</td>\n",
       "    </tr>\n",
       "    <tr>\n",
       "      <th>1</th>\n",
       "      <td>POLYGON ((179.99994 -56.00081, 179.99994 83.99...</td>\n",
       "      <td>BLDFIE</td>\n",
       "      <td>/att/nobackup/pmontesa/userfs02/data/soil_grids</td>\n",
       "      <td>BLDFIE_M_sl5_250m_ll.tif</td>\n",
       "    </tr>\n",
       "    <tr>\n",
       "      <th>2</th>\n",
       "      <td>POLYGON ((179.99994 -56.00081, 179.99994 83.99...</td>\n",
       "      <td>BDRICM</td>\n",
       "      <td>/att/nobackup/pmontesa/userfs02/data/soil_grids</td>\n",
       "      <td>BDRICM_M_250m_ll.tif</td>\n",
       "    </tr>\n",
       "    <tr>\n",
       "      <th>3</th>\n",
       "      <td>POLYGON ((179.99994 -62.00081, 179.99994 87.37...</td>\n",
       "      <td>CLYPPT</td>\n",
       "      <td>/att/nobackup/pmontesa/userfs02/data/soil_grids</td>\n",
       "      <td>CLYPPT_M_sl3_250m_ll.tif</td>\n",
       "    </tr>\n",
       "    <tr>\n",
       "      <th>4</th>\n",
       "      <td>POLYGON ((179.99994 -56.00081, 179.99994 83.99...</td>\n",
       "      <td>AWCtS</td>\n",
       "      <td>/att/nobackup/pmontesa/userfs02/data/soil_grids</td>\n",
       "      <td>AWCtS_M_sl3_250m_ll.tif</td>\n",
       "    </tr>\n",
       "    <tr>\n",
       "      <th>...</th>\n",
       "      <td>...</td>\n",
       "      <td>...</td>\n",
       "      <td>...</td>\n",
       "      <td>...</td>\n",
       "    </tr>\n",
       "    <tr>\n",
       "      <th>69</th>\n",
       "      <td>POLYGON ((179.99994 -56.00081, 179.99994 83.99...</td>\n",
       "      <td>AWCh1</td>\n",
       "      <td>/att/nobackup/pmontesa/userfs02/data/soil_grids</td>\n",
       "      <td>AWCh1_M_sl6_250m_ll.tif</td>\n",
       "    </tr>\n",
       "    <tr>\n",
       "      <th>70</th>\n",
       "      <td>POLYGON ((179.99994 -56.00081, 179.99994 83.99...</td>\n",
       "      <td>AWCh1</td>\n",
       "      <td>/att/nobackup/pmontesa/userfs02/data/soil_grids</td>\n",
       "      <td>AWCh1_M_sl2_250m_ll.tif</td>\n",
       "    </tr>\n",
       "    <tr>\n",
       "      <th>71</th>\n",
       "      <td>POLYGON ((179.99994 -62.00081, 179.99994 87.37...</td>\n",
       "      <td>SLTPPT</td>\n",
       "      <td>/att/nobackup/pmontesa/userfs02/data/soil_grids</td>\n",
       "      <td>SLTPPT_M_sl4_250m_ll.tif</td>\n",
       "    </tr>\n",
       "    <tr>\n",
       "      <th>72</th>\n",
       "      <td>POLYGON ((179.99994 -56.00081, 179.99994 83.99...</td>\n",
       "      <td>WWP</td>\n",
       "      <td>/att/nobackup/pmontesa/userfs02/data/soil_grids</td>\n",
       "      <td>WWP_M_sl3_250m_ll.tif</td>\n",
       "    </tr>\n",
       "    <tr>\n",
       "      <th>73</th>\n",
       "      <td>POLYGON ((179.99994 -56.00081, 179.99994 83.99...</td>\n",
       "      <td>CECSOL</td>\n",
       "      <td>/att/nobackup/pmontesa/userfs02/data/soil_grids</td>\n",
       "      <td>CECSOL_M_sl6_250m_ll.tif</td>\n",
       "    </tr>\n",
       "  </tbody>\n",
       "</table>\n",
       "<p>74 rows × 4 columns</p>\n",
       "</div>"
      ],
      "text/plain": [
       "                                             geometry footprint_name  \\\n",
       "0   POLYGON ((179.99994 -56.00081, 179.99994 83.99...         BLDFIE   \n",
       "1   POLYGON ((179.99994 -56.00081, 179.99994 83.99...         BLDFIE   \n",
       "2   POLYGON ((179.99994 -56.00081, 179.99994 83.99...         BDRICM   \n",
       "3   POLYGON ((179.99994 -62.00081, 179.99994 87.37...         CLYPPT   \n",
       "4   POLYGON ((179.99994 -56.00081, 179.99994 83.99...          AWCtS   \n",
       "..                                                ...            ...   \n",
       "69  POLYGON ((179.99994 -56.00081, 179.99994 83.99...          AWCh1   \n",
       "70  POLYGON ((179.99994 -56.00081, 179.99994 83.99...          AWCh1   \n",
       "71  POLYGON ((179.99994 -62.00081, 179.99994 87.37...         SLTPPT   \n",
       "72  POLYGON ((179.99994 -56.00081, 179.99994 83.99...            WWP   \n",
       "73  POLYGON ((179.99994 -56.00081, 179.99994 83.99...         CECSOL   \n",
       "\n",
       "                                               path                      file  \n",
       "0   /att/nobackup/pmontesa/userfs02/data/soil_grids  BLDFIE_M_sl1_250m_ll.tif  \n",
       "1   /att/nobackup/pmontesa/userfs02/data/soil_grids  BLDFIE_M_sl5_250m_ll.tif  \n",
       "2   /att/nobackup/pmontesa/userfs02/data/soil_grids      BDRICM_M_250m_ll.tif  \n",
       "3   /att/nobackup/pmontesa/userfs02/data/soil_grids  CLYPPT_M_sl3_250m_ll.tif  \n",
       "4   /att/nobackup/pmontesa/userfs02/data/soil_grids   AWCtS_M_sl3_250m_ll.tif  \n",
       "..                                              ...                       ...  \n",
       "69  /att/nobackup/pmontesa/userfs02/data/soil_grids   AWCh1_M_sl6_250m_ll.tif  \n",
       "70  /att/nobackup/pmontesa/userfs02/data/soil_grids   AWCh1_M_sl2_250m_ll.tif  \n",
       "71  /att/nobackup/pmontesa/userfs02/data/soil_grids  SLTPPT_M_sl4_250m_ll.tif  \n",
       "72  /att/nobackup/pmontesa/userfs02/data/soil_grids     WWP_M_sl3_250m_ll.tif  \n",
       "73  /att/nobackup/pmontesa/userfs02/data/soil_grids  CECSOL_M_sl6_250m_ll.tif  \n",
       "\n",
       "[74 rows x 4 columns]"
      ]
     },
     "execution_count": 53,
     "metadata": {},
     "output_type": "execute_result"
    }
   ],
   "source": [
    "footprint_gdf = footprint_gdf_list[0]\n",
    "footprint_gdf"
   ]
  },
  {
   "cell_type": "markdown",
   "metadata": {},
   "source": [
    "## Map the footprints"
   ]
  },
  {
   "cell_type": "code",
   "execution_count": 55,
   "metadata": {
    "tags": []
   },
   "outputs": [
    {
     "data": {
      "text/html": [
       "<iframe src=\"about:blank\" width=\"1000\" height=\"400\"style=\"border:none !important;\" data-html=%3C%21DOCTYPE%20html%3E%0A%3Chead%3E%20%20%20%20%0A%20%20%20%20%3Cmeta%20http-equiv%3D%22content-type%22%20content%3D%22text/html%3B%20charset%3DUTF-8%22%20/%3E%0A%20%20%20%20%0A%20%20%20%20%20%20%20%20%3Cscript%3E%0A%20%20%20%20%20%20%20%20%20%20%20%20L_NO_TOUCH%20%3D%20false%3B%0A%20%20%20%20%20%20%20%20%20%20%20%20L_DISABLE_3D%20%3D%20false%3B%0A%20%20%20%20%20%20%20%20%3C/script%3E%0A%20%20%20%20%0A%20%20%20%20%3Cstyle%3Ehtml%2C%20body%20%7Bwidth%3A%20100%25%3Bheight%3A%20100%25%3Bmargin%3A%200%3Bpadding%3A%200%3B%7D%3C/style%3E%0A%20%20%20%20%3Cstyle%3E%23map%20%7Bposition%3Aabsolute%3Btop%3A0%3Bbottom%3A0%3Bright%3A0%3Bleft%3A0%3B%7D%3C/style%3E%0A%20%20%20%20%3Cscript%20src%3D%22https%3A//cdn.jsdelivr.net/npm/leaflet%401.6.0/dist/leaflet.js%22%3E%3C/script%3E%0A%20%20%20%20%3Cscript%20src%3D%22https%3A//code.jquery.com/jquery-1.12.4.min.js%22%3E%3C/script%3E%0A%20%20%20%20%3Cscript%20src%3D%22https%3A//maxcdn.bootstrapcdn.com/bootstrap/3.2.0/js/bootstrap.min.js%22%3E%3C/script%3E%0A%20%20%20%20%3Cscript%20src%3D%22https%3A//cdnjs.cloudflare.com/ajax/libs/Leaflet.awesome-markers/2.0.2/leaflet.awesome-markers.js%22%3E%3C/script%3E%0A%20%20%20%20%3Clink%20rel%3D%22stylesheet%22%20href%3D%22https%3A//cdn.jsdelivr.net/npm/leaflet%401.6.0/dist/leaflet.css%22/%3E%0A%20%20%20%20%3Clink%20rel%3D%22stylesheet%22%20href%3D%22https%3A//maxcdn.bootstrapcdn.com/bootstrap/3.2.0/css/bootstrap.min.css%22/%3E%0A%20%20%20%20%3Clink%20rel%3D%22stylesheet%22%20href%3D%22https%3A//maxcdn.bootstrapcdn.com/bootstrap/3.2.0/css/bootstrap-theme.min.css%22/%3E%0A%20%20%20%20%3Clink%20rel%3D%22stylesheet%22%20href%3D%22https%3A//maxcdn.bootstrapcdn.com/font-awesome/4.6.3/css/font-awesome.min.css%22/%3E%0A%20%20%20%20%3Clink%20rel%3D%22stylesheet%22%20href%3D%22https%3A//cdnjs.cloudflare.com/ajax/libs/Leaflet.awesome-markers/2.0.2/leaflet.awesome-markers.css%22/%3E%0A%20%20%20%20%3Clink%20rel%3D%22stylesheet%22%20href%3D%22https%3A//cdn.jsdelivr.net/gh/python-visualization/folium/folium/templates/leaflet.awesome.rotate.min.css%22/%3E%0A%20%20%20%20%0A%20%20%20%20%20%20%20%20%20%20%20%20%3Cmeta%20name%3D%22viewport%22%20content%3D%22width%3Ddevice-width%2C%0A%20%20%20%20%20%20%20%20%20%20%20%20%20%20%20%20initial-scale%3D1.0%2C%20maximum-scale%3D1.0%2C%20user-scalable%3Dno%22%20/%3E%0A%20%20%20%20%20%20%20%20%20%20%20%20%3Cstyle%3E%0A%20%20%20%20%20%20%20%20%20%20%20%20%20%20%20%20%23map_e5a2e48408ee466c9c854f10d161c289%20%7B%0A%20%20%20%20%20%20%20%20%20%20%20%20%20%20%20%20%20%20%20%20position%3A%20relative%3B%0A%20%20%20%20%20%20%20%20%20%20%20%20%20%20%20%20%20%20%20%20width%3A%20100.0%25%3B%0A%20%20%20%20%20%20%20%20%20%20%20%20%20%20%20%20%20%20%20%20height%3A%20100.0%25%3B%0A%20%20%20%20%20%20%20%20%20%20%20%20%20%20%20%20%20%20%20%20left%3A%200.0%25%3B%0A%20%20%20%20%20%20%20%20%20%20%20%20%20%20%20%20%20%20%20%20top%3A%200.0%25%3B%0A%20%20%20%20%20%20%20%20%20%20%20%20%20%20%20%20%7D%0A%20%20%20%20%20%20%20%20%20%20%20%20%3C/style%3E%0A%20%20%20%20%20%20%20%20%0A%20%20%20%20%0A%20%20%20%20%20%20%20%20%20%20%20%20%20%20%20%20%20%20%20%20%3Cstyle%3E%0A%20%20%20%20%20%20%20%20%20%20%20%20%20%20%20%20%20%20%20%20%20%20%20%20.foliumtooltip%20%7B%0A%20%20%20%20%20%20%20%20%20%20%20%20%20%20%20%20%20%20%20%20%20%20%20%20%20%20%20%20%0A%20%20%20%20%20%20%20%20%20%20%20%20%20%20%20%20%20%20%20%20%20%20%20%20%7D%0A%20%20%20%20%20%20%20%20%20%20%20%20%20%20%20%20%20%20%20%20%20%20%20.foliumtooltip%20table%7B%0A%20%20%20%20%20%20%20%20%20%20%20%20%20%20%20%20%20%20%20%20%20%20%20%20%20%20%20%20margin%3A%20auto%3B%0A%20%20%20%20%20%20%20%20%20%20%20%20%20%20%20%20%20%20%20%20%20%20%20%20%7D%0A%20%20%20%20%20%20%20%20%20%20%20%20%20%20%20%20%20%20%20%20%20%20%20%20.foliumtooltip%20tr%7B%0A%20%20%20%20%20%20%20%20%20%20%20%20%20%20%20%20%20%20%20%20%20%20%20%20%20%20%20%20text-align%3A%20left%3B%0A%20%20%20%20%20%20%20%20%20%20%20%20%20%20%20%20%20%20%20%20%20%20%20%20%7D%0A%20%20%20%20%20%20%20%20%20%20%20%20%20%20%20%20%20%20%20%20%20%20%20%20.foliumtooltip%20th%7B%0A%20%20%20%20%20%20%20%20%20%20%20%20%20%20%20%20%20%20%20%20%20%20%20%20%20%20%20%20padding%3A%202px%3B%20padding-right%3A%208px%3B%0A%20%20%20%20%20%20%20%20%20%20%20%20%20%20%20%20%20%20%20%20%20%20%20%20%7D%0A%20%20%20%20%20%20%20%20%20%20%20%20%20%20%20%20%20%20%20%20%3C/style%3E%0A%20%20%20%20%20%20%20%20%20%20%20%20%0A%20%20%20%20%3Cscript%20src%3D%22https%3A//unpkg.com/leaflet-control-geocoder/dist/Control.Geocoder.js%22%3E%3C/script%3E%0A%20%20%20%20%3Clink%20rel%3D%22stylesheet%22%20href%3D%22https%3A//unpkg.com/leaflet-control-geocoder/dist/Control.Geocoder.css%22/%3E%0A%20%20%20%20%3Cscript%20src%3D%22https%3A//cdn.jsdelivr.net/gh/ardhi/Leaflet.MousePosition/src/L.Control.MousePosition.min.js%22%3E%3C/script%3E%0A%20%20%20%20%3Clink%20rel%3D%22stylesheet%22%20href%3D%22https%3A//cdn.jsdelivr.net/gh/ardhi/Leaflet.MousePosition/src/L.Control.MousePosition.min.css%22/%3E%0A%20%20%20%20%3Cscript%20src%3D%22https%3A//cdnjs.cloudflare.com/ajax/libs/leaflet-minimap/3.6.1/Control.MiniMap.js%22%3E%3C/script%3E%0A%20%20%20%20%3Clink%20rel%3D%22stylesheet%22%20href%3D%22https%3A//cdnjs.cloudflare.com/ajax/libs/leaflet-minimap/3.6.1/Control.MiniMap.css%22/%3E%0A%3C/head%3E%0A%3Cbody%3E%20%20%20%20%0A%20%20%20%20%0A%20%20%20%20%20%20%20%20%20%20%20%20%3Cdiv%20class%3D%22folium-map%22%20id%3D%22map_e5a2e48408ee466c9c854f10d161c289%22%20%3E%3C/div%3E%0A%20%20%20%20%20%20%20%20%0A%3C/body%3E%0A%3Cscript%3E%20%20%20%20%0A%20%20%20%20%0A%20%20%20%20%20%20%20%20%20%20%20%20var%20map_e5a2e48408ee466c9c854f10d161c289%20%3D%20L.map%28%0A%20%20%20%20%20%20%20%20%20%20%20%20%20%20%20%20%22map_e5a2e48408ee466c9c854f10d161c289%22%2C%0A%20%20%20%20%20%20%20%20%20%20%20%20%20%20%20%20%7B%0A%20%20%20%20%20%20%20%20%20%20%20%20%20%20%20%20%20%20%20%20center%3A%20%5B60.0%2C%200.0%5D%2C%0A%20%20%20%20%20%20%20%20%20%20%20%20%20%20%20%20%20%20%20%20crs%3A%20L.CRS.EPSG3857%2C%0A%20%20%20%20%20%20%20%20%20%20%20%20%20%20%20%20%20%20%20%20zoom%3A%202%2C%0A%20%20%20%20%20%20%20%20%20%20%20%20%20%20%20%20%20%20%20%20zoomControl%3A%20true%2C%0A%20%20%20%20%20%20%20%20%20%20%20%20%20%20%20%20%20%20%20%20preferCanvas%3A%20false%2C%0A%20%20%20%20%20%20%20%20%20%20%20%20%20%20%20%20%7D%0A%20%20%20%20%20%20%20%20%20%20%20%20%29%3B%0A%20%20%20%20%20%20%20%20%20%20%20%20L.control.scale%28%29.addTo%28map_e5a2e48408ee466c9c854f10d161c289%29%3B%0A%0A%20%20%20%20%20%20%20%20%20%20%20%20%0A%0A%20%20%20%20%20%20%20%20%0A%20%20%20%20%0A%20%20%20%20%20%20%20%20function%20geo_json_7251a222fd9a4fb8b5a55825a809b227_styler%28feature%29%20%7B%0A%20%20%20%20%20%20%20%20%20%20%20%20switch%28feature.id%29%20%7B%0A%20%20%20%20%20%20%20%20%20%20%20%20%20%20%20%20default%3A%0A%20%20%20%20%20%20%20%20%20%20%20%20%20%20%20%20%20%20%20%20return%20%7B%22color%22%3A%20%22red%22%2C%20%22fillColor%22%3A%20%22gray%22%2C%20%22fillOpacity%22%3A%200.5%2C%20%22opacity%22%3A%201%2C%20%22weight%22%3A%200.75%7D%3B%0A%20%20%20%20%20%20%20%20%20%20%20%20%7D%0A%20%20%20%20%20%20%20%20%7D%0A%0A%20%20%20%20%20%20%20%20function%20geo_json_7251a222fd9a4fb8b5a55825a809b227_onEachFeature%28feature%2C%20layer%29%20%7B%0A%20%20%20%20%20%20%20%20%20%20%20%20layer.on%28%7B%0A%20%20%20%20%20%20%20%20%20%20%20%20%7D%29%3B%0A%20%20%20%20%20%20%20%20%7D%3B%0A%20%20%20%20%20%20%20%20var%20geo_json_7251a222fd9a4fb8b5a55825a809b227%20%3D%20L.geoJson%28null%2C%20%7B%0A%20%20%20%20%20%20%20%20%20%20%20%20%20%20%20%20onEachFeature%3A%20geo_json_7251a222fd9a4fb8b5a55825a809b227_onEachFeature%2C%0A%20%20%20%20%20%20%20%20%20%20%20%20%0A%20%20%20%20%20%20%20%20%20%20%20%20%20%20%20%20style%3A%20geo_json_7251a222fd9a4fb8b5a55825a809b227_styler%2C%0A%20%20%20%20%20%20%20%20%7D%29%3B%0A%0A%20%20%20%20%20%20%20%20function%20geo_json_7251a222fd9a4fb8b5a55825a809b227_add%20%28data%29%20%7B%0A%20%20%20%20%20%20%20%20%20%20%20%20geo_json_7251a222fd9a4fb8b5a55825a809b227%0A%20%20%20%20%20%20%20%20%20%20%20%20%20%20%20%20.addData%28data%29%0A%20%20%20%20%20%20%20%20%20%20%20%20%20%20%20%20.addTo%28map_e5a2e48408ee466c9c854f10d161c289%29%3B%0A%20%20%20%20%20%20%20%20%7D%0A%20%20%20%20%20%20%20%20%20%20%20%20geo_json_7251a222fd9a4fb8b5a55825a809b227_add%28%7B%22bbox%22%3A%20%5B-180.0%2C%20-62.00080943400002%2C%20179.99994240015582%2C%2087.37%5D%2C%20%22features%22%3A%20%5B%7B%22bbox%22%3A%20%5B-180.0%2C%20-56.00081039406058%2C%20179.99994240015582%2C%2083.99916720600001%5D%2C%20%22geometry%22%3A%20%7B%22coordinates%22%3A%20%5B%5B%5B179.99994240015582%2C%20-56.00081039406058%5D%2C%20%5B179.99994240015582%2C%2083.99916720600001%5D%2C%20%5B-180.0%2C%2083.99916720600001%5D%2C%20%5B-180.0%2C%20-56.00081039406058%5D%2C%20%5B179.99994240015582%2C%20-56.00081039406058%5D%5D%5D%2C%20%22type%22%3A%20%22Polygon%22%7D%2C%20%22id%22%3A%20%220%22%2C%20%22properties%22%3A%20%7B%22file%22%3A%20%22BLDFIE_M_sl1_250m_ll.tif%22%2C%20%22footprint_name%22%3A%20%22BLDFIE%22%2C%20%22path%22%3A%20%22/att/nobackup/pmontesa/userfs02/data/soil_grids%22%7D%2C%20%22type%22%3A%20%22Feature%22%7D%2C%20%7B%22bbox%22%3A%20%5B-180.0%2C%20-56.00081039406058%2C%20179.99994240015582%2C%2083.99916720600001%5D%2C%20%22geometry%22%3A%20%7B%22coordinates%22%3A%20%5B%5B%5B179.99994240015582%2C%20-56.00081039406058%5D%2C%20%5B179.99994240015582%2C%2083.99916720600001%5D%2C%20%5B-180.0%2C%2083.99916720600001%5D%2C%20%5B-180.0%2C%20-56.00081039406058%5D%2C%20%5B179.99994240015582%2C%20-56.00081039406058%5D%5D%5D%2C%20%22type%22%3A%20%22Polygon%22%7D%2C%20%22id%22%3A%20%221%22%2C%20%22properties%22%3A%20%7B%22file%22%3A%20%22BLDFIE_M_sl5_250m_ll.tif%22%2C%20%22footprint_name%22%3A%20%22BLDFIE%22%2C%20%22path%22%3A%20%22/att/nobackup/pmontesa/userfs02/data/soil_grids%22%7D%2C%20%22type%22%3A%20%22Feature%22%7D%2C%20%7B%22bbox%22%3A%20%5B-180.0%2C%20-56.00081039406058%2C%20179.99994240015582%2C%2083.99916720600001%5D%2C%20%22geometry%22%3A%20%7B%22coordinates%22%3A%20%5B%5B%5B179.99994240015582%2C%20-56.00081039406058%5D%2C%20%5B179.99994240015582%2C%2083.99916720600001%5D%2C%20%5B-180.0%2C%2083.99916720600001%5D%2C%20%5B-180.0%2C%20-56.00081039406058%5D%2C%20%5B179.99994240015582%2C%20-56.00081039406058%5D%5D%5D%2C%20%22type%22%3A%20%22Polygon%22%7D%2C%20%22id%22%3A%20%222%22%2C%20%22properties%22%3A%20%7B%22file%22%3A%20%22BDRICM_M_250m_ll.tif%22%2C%20%22footprint_name%22%3A%20%22BDRICM%22%2C%20%22path%22%3A%20%22/att/nobackup/pmontesa/userfs02/data/soil_grids%22%7D%2C%20%22type%22%3A%20%22Feature%22%7D%2C%20%7B%22bbox%22%3A%20%5B-180.0%2C%20-62.00080943400002%2C%20179.9999424%2C%2087.37%5D%2C%20%22geometry%22%3A%20%7B%22coordinates%22%3A%20%5B%5B%5B179.9999424%2C%20-62.00080943400002%5D%2C%20%5B179.9999424%2C%2087.37%5D%2C%20%5B-180.0%2C%2087.37%5D%2C%20%5B-180.0%2C%20-62.00080943400002%5D%2C%20%5B179.9999424%2C%20-62.00080943400002%5D%5D%5D%2C%20%22type%22%3A%20%22Polygon%22%7D%2C%20%22id%22%3A%20%223%22%2C%20%22properties%22%3A%20%7B%22file%22%3A%20%22CLYPPT_M_sl3_250m_ll.tif%22%2C%20%22footprint_name%22%3A%20%22CLYPPT%22%2C%20%22path%22%3A%20%22/att/nobackup/pmontesa/userfs02/data/soil_grids%22%7D%2C%20%22type%22%3A%20%22Feature%22%7D%2C%20%7B%22bbox%22%3A%20%5B-180.0%2C%20-56.00081039406058%2C%20179.99994240015582%2C%2083.99916720600001%5D%2C%20%22geometry%22%3A%20%7B%22coordinates%22%3A%20%5B%5B%5B179.99994240015582%2C%20-56.00081039406058%5D%2C%20%5B179.99994240015582%2C%2083.99916720600001%5D%2C%20%5B-180.0%2C%2083.99916720600001%5D%2C%20%5B-180.0%2C%20-56.00081039406058%5D%2C%20%5B179.99994240015582%2C%20-56.00081039406058%5D%5D%5D%2C%20%22type%22%3A%20%22Polygon%22%7D%2C%20%22id%22%3A%20%224%22%2C%20%22properties%22%3A%20%7B%22file%22%3A%20%22AWCtS_M_sl3_250m_ll.tif%22%2C%20%22footprint_name%22%3A%20%22AWCtS%22%2C%20%22path%22%3A%20%22/att/nobackup/pmontesa/userfs02/data/soil_grids%22%7D%2C%20%22type%22%3A%20%22Feature%22%7D%2C%20%7B%22bbox%22%3A%20%5B-180.0%2C%20-62.00080943400002%2C%20179.9999424%2C%2087.37%5D%2C%20%22geometry%22%3A%20%7B%22coordinates%22%3A%20%5B%5B%5B179.9999424%2C%20-62.00080943400002%5D%2C%20%5B179.9999424%2C%2087.37%5D%2C%20%5B-180.0%2C%2087.37%5D%2C%20%5B-180.0%2C%20-62.00080943400002%5D%2C%20%5B179.9999424%2C%20-62.00080943400002%5D%5D%5D%2C%20%22type%22%3A%20%22Polygon%22%7D%2C%20%22id%22%3A%20%225%22%2C%20%22properties%22%3A%20%7B%22file%22%3A%20%22ORCDRC_M_sl7_250m_ll.tif%22%2C%20%22footprint_name%22%3A%20%22ORCDRC%22%2C%20%22path%22%3A%20%22/att/nobackup/pmontesa/userfs02/data/soil_grids%22%7D%2C%20%22type%22%3A%20%22Feature%22%7D%2C%20%7B%22bbox%22%3A%20%5B-180.0%2C%20-56.00081039406058%2C%20179.99994240015582%2C%2083.99916720600001%5D%2C%20%22geometry%22%3A%20%7B%22coordinates%22%3A%20%5B%5B%5B179.99994240015582%2C%20-56.00081039406058%5D%2C%20%5B179.99994240015582%2C%2083.99916720600001%5D%2C%20%5B-180.0%2C%2083.99916720600001%5D%2C%20%5B-180.0%2C%20-56.00081039406058%5D%2C%20%5B179.99994240015582%2C%20-56.00081039406058%5D%5D%5D%2C%20%22type%22%3A%20%22Polygon%22%7D%2C%20%22id%22%3A%20%226%22%2C%20%22properties%22%3A%20%7B%22file%22%3A%20%22AWCtS_M_sl2_250m_ll.tif%22%2C%20%22footprint_name%22%3A%20%22AWCtS%22%2C%20%22path%22%3A%20%22/att/nobackup/pmontesa/userfs02/data/soil_grids%22%7D%2C%20%22type%22%3A%20%22Feature%22%7D%2C%20%7B%22bbox%22%3A%20%5B-180.0%2C%20-62.00080943400002%2C%20179.9999424%2C%2087.37%5D%2C%20%22geometry%22%3A%20%7B%22coordinates%22%3A%20%5B%5B%5B179.9999424%2C%20-62.00080943400002%5D%2C%20%5B179.9999424%2C%2087.37%5D%2C%20%5B-180.0%2C%2087.37%5D%2C%20%5B-180.0%2C%20-62.00080943400002%5D%2C%20%5B179.9999424%2C%20-62.00080943400002%5D%5D%5D%2C%20%22type%22%3A%20%22Polygon%22%7D%2C%20%22id%22%3A%20%227%22%2C%20%22properties%22%3A%20%7B%22file%22%3A%20%22CLYPPT_M_sl4_250m_ll.tif%22%2C%20%22footprint_name%22%3A%20%22CLYPPT%22%2C%20%22path%22%3A%20%22/att/nobackup/pmontesa/userfs02/data/soil_grids%22%7D%2C%20%22type%22%3A%20%22Feature%22%7D%2C%20%7B%22bbox%22%3A%20%5B-180.0%2C%20-56.00081039406058%2C%20179.99994240015582%2C%2083.99916720600001%5D%2C%20%22geometry%22%3A%20%7B%22coordinates%22%3A%20%5B%5B%5B179.99994240015582%2C%20-56.00081039406058%5D%2C%20%5B179.99994240015582%2C%2083.99916720600001%5D%2C%20%5B-180.0%2C%2083.99916720600001%5D%2C%20%5B-180.0%2C%20-56.00081039406058%5D%2C%20%5B179.99994240015582%2C%20-56.00081039406058%5D%5D%5D%2C%20%22type%22%3A%20%22Polygon%22%7D%2C%20%22id%22%3A%20%228%22%2C%20%22properties%22%3A%20%7B%22file%22%3A%20%22BDRICM_M_250m.tif%22%2C%20%22footprint_name%22%3A%20%22BDRICM%22%2C%20%22path%22%3A%20%22/att/nobackup/pmontesa/userfs02/data/soil_grids%22%7D%2C%20%22type%22%3A%20%22Feature%22%7D%2C%20%7B%22bbox%22%3A%20%5B-180.0%2C%20-56.00081039406058%2C%20179.99994240015582%2C%2083.99916720600001%5D%2C%20%22geometry%22%3A%20%7B%22coordinates%22%3A%20%5B%5B%5B179.99994240015582%2C%20-56.00081039406058%5D%2C%20%5B179.99994240015582%2C%2083.99916720600001%5D%2C%20%5B-180.0%2C%2083.99916720600001%5D%2C%20%5B-180.0%2C%20-56.00081039406058%5D%2C%20%5B179.99994240015582%2C%20-56.00081039406058%5D%5D%5D%2C%20%22type%22%3A%20%22Polygon%22%7D%2C%20%22id%22%3A%20%229%22%2C%20%22properties%22%3A%20%7B%22file%22%3A%20%22AWCtS_M_sl7_250m_ll.tif%22%2C%20%22footprint_name%22%3A%20%22AWCtS%22%2C%20%22path%22%3A%20%22/att/nobackup/pmontesa/userfs02/data/soil_grids%22%7D%2C%20%22type%22%3A%20%22Feature%22%7D%2C%20%7B%22bbox%22%3A%20%5B-180.0%2C%20-62.00080943400002%2C%20179.9999424%2C%2087.37%5D%2C%20%22geometry%22%3A%20%7B%22coordinates%22%3A%20%5B%5B%5B179.9999424%2C%20-62.00080943400002%5D%2C%20%5B179.9999424%2C%2087.37%5D%2C%20%5B-180.0%2C%2087.37%5D%2C%20%5B-180.0%2C%20-62.00080943400002%5D%2C%20%5B179.9999424%2C%20-62.00080943400002%5D%5D%5D%2C%20%22type%22%3A%20%22Polygon%22%7D%2C%20%22id%22%3A%20%2210%22%2C%20%22properties%22%3A%20%7B%22file%22%3A%20%22SLTPPT_M_sl2_250m_ll.tif%22%2C%20%22footprint_name%22%3A%20%22SLTPPT%22%2C%20%22path%22%3A%20%22/att/nobackup/pmontesa/userfs02/data/soil_grids%22%7D%2C%20%22type%22%3A%20%22Feature%22%7D%2C%20%7B%22bbox%22%3A%20%5B-180.0%2C%20-62.00080943400002%2C%20179.9999424%2C%2087.37%5D%2C%20%22geometry%22%3A%20%7B%22coordinates%22%3A%20%5B%5B%5B179.9999424%2C%20-62.00080943400002%5D%2C%20%5B179.9999424%2C%2087.37%5D%2C%20%5B-180.0%2C%2087.37%5D%2C%20%5B-180.0%2C%20-62.00080943400002%5D%2C%20%5B179.9999424%2C%20-62.00080943400002%5D%5D%5D%2C%20%22type%22%3A%20%22Polygon%22%7D%2C%20%22id%22%3A%20%2211%22%2C%20%22properties%22%3A%20%7B%22file%22%3A%20%22CLYPPT_M_sl1_250m_ll.tif%22%2C%20%22footprint_name%22%3A%20%22CLYPPT%22%2C%20%22path%22%3A%20%22/att/nobackup/pmontesa/userfs02/data/soil_grids%22%7D%2C%20%22type%22%3A%20%22Feature%22%7D%2C%20%7B%22bbox%22%3A%20%5B-180.0%2C%20-56.00081039406058%2C%20179.99994240015582%2C%2083.99916720600001%5D%2C%20%22geometry%22%3A%20%7B%22coordinates%22%3A%20%5B%5B%5B179.99994240015582%2C%20-56.00081039406058%5D%2C%20%5B179.99994240015582%2C%2083.99916720600001%5D%2C%20%5B-180.0%2C%2083.99916720600001%5D%2C%20%5B-180.0%2C%20-56.00081039406058%5D%2C%20%5B179.99994240015582%2C%20-56.00081039406058%5D%5D%5D%2C%20%22type%22%3A%20%22Polygon%22%7D%2C%20%22id%22%3A%20%2212%22%2C%20%22properties%22%3A%20%7B%22file%22%3A%20%22BLDFIE_M_sl6_250m_ll.tif%22%2C%20%22footprint_name%22%3A%20%22BLDFIE%22%2C%20%22path%22%3A%20%22/att/nobackup/pmontesa/userfs02/data/soil_grids%22%7D%2C%20%22type%22%3A%20%22Feature%22%7D%2C%20%7B%22bbox%22%3A%20%5B-180.0%2C%20-56.00081039406058%2C%20179.99994240015582%2C%2083.99916720600001%5D%2C%20%22geometry%22%3A%20%7B%22coordinates%22%3A%20%5B%5B%5B179.99994240015582%2C%20-56.00081039406058%5D%2C%20%5B179.99994240015582%2C%2083.99916720600001%5D%2C%20%5B-180.0%2C%2083.99916720600001%5D%2C%20%5B-180.0%2C%20-56.00081039406058%5D%2C%20%5B179.99994240015582%2C%20-56.00081039406058%5D%5D%5D%2C%20%22type%22%3A%20%22Polygon%22%7D%2C%20%22id%22%3A%20%2213%22%2C%20%22properties%22%3A%20%7B%22file%22%3A%20%22BDTICM_M_250m_ll.tif%22%2C%20%22footprint_name%22%3A%20%22BDTICM%22%2C%20%22path%22%3A%20%22/att/nobackup/pmontesa/userfs02/data/soil_grids%22%7D%2C%20%22type%22%3A%20%22Feature%22%7D%2C%20%7B%22bbox%22%3A%20%5B-180.0%2C%20-56.00081039406058%2C%20179.99994240015582%2C%2083.99916720600001%5D%2C%20%22geometry%22%3A%20%7B%22coordinates%22%3A%20%5B%5B%5B179.99994240015582%2C%20-56.00081039406058%5D%2C%20%5B179.99994240015582%2C%2083.99916720600001%5D%2C%20%5B-180.0%2C%2083.99916720600001%5D%2C%20%5B-180.0%2C%20-56.00081039406058%5D%2C%20%5B179.99994240015582%2C%20-56.00081039406058%5D%5D%5D%2C%20%22type%22%3A%20%22Polygon%22%7D%2C%20%22id%22%3A%20%2214%22%2C%20%22properties%22%3A%20%7B%22file%22%3A%20%22AWCh1_M_sl5_250m_ll.tif%22%2C%20%22footprint_name%22%3A%20%22AWCh1%22%2C%20%22path%22%3A%20%22/att/nobackup/pmontesa/userfs02/data/soil_grids%22%7D%2C%20%22type%22%3A%20%22Feature%22%7D%2C%20%7B%22bbox%22%3A%20%5B-180.0%2C%20-56.00081039406058%2C%20179.99994240015582%2C%2083.99916720600001%5D%2C%20%22geometry%22%3A%20%7B%22coordinates%22%3A%20%5B%5B%5B179.99994240015582%2C%20-56.00081039406058%5D%2C%20%5B179.99994240015582%2C%2083.99916720600001%5D%2C%20%5B-180.0%2C%2083.99916720600001%5D%2C%20%5B-180.0%2C%20-56.00081039406058%5D%2C%20%5B179.99994240015582%2C%20-56.00081039406058%5D%5D%5D%2C%20%22type%22%3A%20%22Polygon%22%7D%2C%20%22id%22%3A%20%2215%22%2C%20%22properties%22%3A%20%7B%22file%22%3A%20%22CECSOL_M_sl7_250m_ll.tif%22%2C%20%22footprint_name%22%3A%20%22CECSOL%22%2C%20%22path%22%3A%20%22/att/nobackup/pmontesa/userfs02/data/soil_grids%22%7D%2C%20%22type%22%3A%20%22Feature%22%7D%2C%20%7B%22bbox%22%3A%20%5B-180.0%2C%20-62.00080943400002%2C%20179.9999424%2C%2087.37%5D%2C%20%22geometry%22%3A%20%7B%22coordinates%22%3A%20%5B%5B%5B179.9999424%2C%20-62.00080943400002%5D%2C%20%5B179.9999424%2C%2087.37%5D%2C%20%5B-180.0%2C%2087.37%5D%2C%20%5B-180.0%2C%20-62.00080943400002%5D%2C%20%5B179.9999424%2C%20-62.00080943400002%5D%5D%5D%2C%20%22type%22%3A%20%22Polygon%22%7D%2C%20%22id%22%3A%20%2216%22%2C%20%22properties%22%3A%20%7B%22file%22%3A%20%22OCDENS_M_sl4_250m_ll.tif%22%2C%20%22footprint_name%22%3A%20%22OCDENS%22%2C%20%22path%22%3A%20%22/att/nobackup/pmontesa/userfs02/data/soil_grids%22%7D%2C%20%22type%22%3A%20%22Feature%22%7D%2C%20%7B%22bbox%22%3A%20%5B-180.0%2C%20-56.00081039406058%2C%20179.99994240015582%2C%2083.99916720600001%5D%2C%20%22geometry%22%3A%20%7B%22coordinates%22%3A%20%5B%5B%5B179.99994240015582%2C%20-56.00081039406058%5D%2C%20%5B179.99994240015582%2C%2083.99916720600001%5D%2C%20%5B-180.0%2C%2083.99916720600001%5D%2C%20%5B-180.0%2C%20-56.00081039406058%5D%2C%20%5B179.99994240015582%2C%20-56.00081039406058%5D%5D%5D%2C%20%22type%22%3A%20%22Polygon%22%7D%2C%20%22id%22%3A%20%2217%22%2C%20%22properties%22%3A%20%7B%22file%22%3A%20%22AWCtS_M_sl5_250m_ll.tif%22%2C%20%22footprint_name%22%3A%20%22AWCtS%22%2C%20%22path%22%3A%20%22/att/nobackup/pmontesa/userfs02/data/soil_grids%22%7D%2C%20%22type%22%3A%20%22Feature%22%7D%2C%20%7B%22bbox%22%3A%20%5B-180.0%2C%20-56.00081039406058%2C%20179.99994240015582%2C%2083.99916720600001%5D%2C%20%22geometry%22%3A%20%7B%22coordinates%22%3A%20%5B%5B%5B179.99994240015582%2C%20-56.00081039406058%5D%2C%20%5B179.99994240015582%2C%2083.99916720600001%5D%2C%20%5B-180.0%2C%2083.99916720600001%5D%2C%20%5B-180.0%2C%20-56.00081039406058%5D%2C%20%5B179.99994240015582%2C%20-56.00081039406058%5D%5D%5D%2C%20%22type%22%3A%20%22Polygon%22%7D%2C%20%22id%22%3A%20%2218%22%2C%20%22properties%22%3A%20%7B%22file%22%3A%20%22WWP_M_sl4_250m_ll.tif%22%2C%20%22footprint_name%22%3A%20%22WWP%22%2C%20%22path%22%3A%20%22/att/nobackup/pmontesa/userfs02/data/soil_grids%22%7D%2C%20%22type%22%3A%20%22Feature%22%7D%2C%20%7B%22bbox%22%3A%20%5B-180.0%2C%20-56.00081039406058%2C%20179.99994240015582%2C%2083.99916720600001%5D%2C%20%22geometry%22%3A%20%7B%22coordinates%22%3A%20%5B%5B%5B179.99994240015582%2C%20-56.00081039406058%5D%2C%20%5B179.99994240015582%2C%2083.99916720600001%5D%2C%20%5B-180.0%2C%2083.99916720600001%5D%2C%20%5B-180.0%2C%20-56.00081039406058%5D%2C%20%5B179.99994240015582%2C%20-56.00081039406058%5D%5D%5D%2C%20%22type%22%3A%20%22Polygon%22%7D%2C%20%22id%22%3A%20%2219%22%2C%20%22properties%22%3A%20%7B%22file%22%3A%20%22WWP_M_sl6_250m_ll.tif%22%2C%20%22footprint_name%22%3A%20%22WWP%22%2C%20%22path%22%3A%20%22/att/nobackup/pmontesa/userfs02/data/soil_grids%22%7D%2C%20%22type%22%3A%20%22Feature%22%7D%2C%20%7B%22bbox%22%3A%20%5B-180.0%2C%20-56.00081039406058%2C%20179.99994240015582%2C%2083.99916720600001%5D%2C%20%22geometry%22%3A%20%7B%22coordinates%22%3A%20%5B%5B%5B179.99994240015582%2C%20-56.00081039406058%5D%2C%20%5B179.99994240015582%2C%2083.99916720600001%5D%2C%20%5B-180.0%2C%2083.99916720600001%5D%2C%20%5B-180.0%2C%20-56.00081039406058%5D%2C%20%5B179.99994240015582%2C%20-56.00081039406058%5D%5D%5D%2C%20%22type%22%3A%20%22Polygon%22%7D%2C%20%22id%22%3A%20%2220%22%2C%20%22properties%22%3A%20%7B%22file%22%3A%20%22BLDFIE_M_sl2_250m_ll.tif%22%2C%20%22footprint_name%22%3A%20%22BLDFIE%22%2C%20%22path%22%3A%20%22/att/nobackup/pmontesa/userfs02/data/soil_grids%22%7D%2C%20%22type%22%3A%20%22Feature%22%7D%2C%20%7B%22bbox%22%3A%20%5B-180.0%2C%20-56.00081039406058%2C%20179.99994240015582%2C%2083.99916720600001%5D%2C%20%22geometry%22%3A%20%7B%22coordinates%22%3A%20%5B%5B%5B179.99994240015582%2C%20-56.00081039406058%5D%2C%20%5B179.99994240015582%2C%2083.99916720600001%5D%2C%20%5B-180.0%2C%2083.99916720600001%5D%2C%20%5B-180.0%2C%20-56.00081039406058%5D%2C%20%5B179.99994240015582%2C%20-56.00081039406058%5D%5D%5D%2C%20%22type%22%3A%20%22Polygon%22%7D%2C%20%22id%22%3A%20%2221%22%2C%20%22properties%22%3A%20%7B%22file%22%3A%20%22WWP_M_sl2_250m_ll.tif%22%2C%20%22footprint_name%22%3A%20%22WWP%22%2C%20%22path%22%3A%20%22/att/nobackup/pmontesa/userfs02/data/soil_grids%22%7D%2C%20%22type%22%3A%20%22Feature%22%7D%2C%20%7B%22bbox%22%3A%20%5B-180.0%2C%20-62.00080943400002%2C%20179.9999424%2C%2087.37%5D%2C%20%22geometry%22%3A%20%7B%22coordinates%22%3A%20%5B%5B%5B179.9999424%2C%20-62.00080943400002%5D%2C%20%5B179.9999424%2C%2087.37%5D%2C%20%5B-180.0%2C%2087.37%5D%2C%20%5B-180.0%2C%20-62.00080943400002%5D%2C%20%5B179.9999424%2C%20-62.00080943400002%5D%5D%5D%2C%20%22type%22%3A%20%22Polygon%22%7D%2C%20%22id%22%3A%20%2222%22%2C%20%22properties%22%3A%20%7B%22file%22%3A%20%22SNDPPT_M_sl5_250m_ll.tif%22%2C%20%22footprint_name%22%3A%20%22SNDPPT%22%2C%20%22path%22%3A%20%22/att/nobackup/pmontesa/userfs02/data/soil_grids%22%7D%2C%20%22type%22%3A%20%22Feature%22%7D%2C%20%7B%22bbox%22%3A%20%5B-180.0%2C%20-56.00081039406058%2C%20179.99994240015582%2C%2083.99916720600001%5D%2C%20%22geometry%22%3A%20%7B%22coordinates%22%3A%20%5B%5B%5B179.99994240015582%2C%20-56.00081039406058%5D%2C%20%5B179.99994240015582%2C%2083.99916720600001%5D%2C%20%5B-180.0%2C%2083.99916720600001%5D%2C%20%5B-180.0%2C%20-56.00081039406058%5D%2C%20%5B179.99994240015582%2C%20-56.00081039406058%5D%5D%5D%2C%20%22type%22%3A%20%22Polygon%22%7D%2C%20%22id%22%3A%20%2223%22%2C%20%22properties%22%3A%20%7B%22file%22%3A%20%22BDTICM_M_250m.tif%22%2C%20%22footprint_name%22%3A%20%22BDTICM%22%2C%20%22path%22%3A%20%22/att/nobackup/pmontesa/userfs02/data/soil_grids%22%7D%2C%20%22type%22%3A%20%22Feature%22%7D%2C%20%7B%22bbox%22%3A%20%5B-180.0%2C%20-62.00080943400002%2C%20179.9999424%2C%2087.37%5D%2C%20%22geometry%22%3A%20%7B%22coordinates%22%3A%20%5B%5B%5B179.9999424%2C%20-62.00080943400002%5D%2C%20%5B179.9999424%2C%2087.37%5D%2C%20%5B-180.0%2C%2087.37%5D%2C%20%5B-180.0%2C%20-62.00080943400002%5D%2C%20%5B179.9999424%2C%20-62.00080943400002%5D%5D%5D%2C%20%22type%22%3A%20%22Polygon%22%7D%2C%20%22id%22%3A%20%2224%22%2C%20%22properties%22%3A%20%7B%22file%22%3A%20%22OCDENS_M_sl6_250m_ll.tif%22%2C%20%22footprint_name%22%3A%20%22OCDENS%22%2C%20%22path%22%3A%20%22/att/nobackup/pmontesa/userfs02/data/soil_grids%22%7D%2C%20%22type%22%3A%20%22Feature%22%7D%2C%20%7B%22bbox%22%3A%20%5B-180.0%2C%20-62.00080943400002%2C%20179.9999424%2C%2087.37%5D%2C%20%22geometry%22%3A%20%7B%22coordinates%22%3A%20%5B%5B%5B179.9999424%2C%20-62.00080943400002%5D%2C%20%5B179.9999424%2C%2087.37%5D%2C%20%5B-180.0%2C%2087.37%5D%2C%20%5B-180.0%2C%20-62.00080943400002%5D%2C%20%5B179.9999424%2C%20-62.00080943400002%5D%5D%5D%2C%20%22type%22%3A%20%22Polygon%22%7D%2C%20%22id%22%3A%20%2225%22%2C%20%22properties%22%3A%20%7B%22file%22%3A%20%22SNDPPT_M_sl7_250m_ll.tif%22%2C%20%22footprint_name%22%3A%20%22SNDPPT%22%2C%20%22path%22%3A%20%22/att/nobackup/pmontesa/userfs02/data/soil_grids%22%7D%2C%20%22type%22%3A%20%22Feature%22%7D%2C%20%7B%22bbox%22%3A%20%5B-180.0%2C%20-62.00080943400002%2C%20179.9999424%2C%2087.37%5D%2C%20%22geometry%22%3A%20%7B%22coordinates%22%3A%20%5B%5B%5B179.9999424%2C%20-62.00080943400002%5D%2C%20%5B179.9999424%2C%2087.37%5D%2C%20%5B-180.0%2C%2087.37%5D%2C%20%5B-180.0%2C%20-62.00080943400002%5D%2C%20%5B179.9999424%2C%20-62.00080943400002%5D%5D%5D%2C%20%22type%22%3A%20%22Polygon%22%7D%2C%20%22id%22%3A%20%2226%22%2C%20%22properties%22%3A%20%7B%22file%22%3A%20%22OCDENS_M_sl1_250m_ll.tif%22%2C%20%22footprint_name%22%3A%20%22OCDENS%22%2C%20%22path%22%3A%20%22/att/nobackup/pmontesa/userfs02/data/soil_grids%22%7D%2C%20%22type%22%3A%20%22Feature%22%7D%2C%20%7B%22bbox%22%3A%20%5B-180.0%2C%20-56.00081039406058%2C%20179.99994240015582%2C%2083.99916720600001%5D%2C%20%22geometry%22%3A%20%7B%22coordinates%22%3A%20%5B%5B%5B179.99994240015582%2C%20-56.00081039406058%5D%2C%20%5B179.99994240015582%2C%2083.99916720600001%5D%2C%20%5B-180.0%2C%2083.99916720600001%5D%2C%20%5B-180.0%2C%20-56.00081039406058%5D%2C%20%5B179.99994240015582%2C%20-56.00081039406058%5D%5D%5D%2C%20%22type%22%3A%20%22Polygon%22%7D%2C%20%22id%22%3A%20%2227%22%2C%20%22properties%22%3A%20%7B%22file%22%3A%20%22AWCtS_M_sl4_250m_ll.tif%22%2C%20%22footprint_name%22%3A%20%22AWCtS%22%2C%20%22path%22%3A%20%22/att/nobackup/pmontesa/userfs02/data/soil_grids%22%7D%2C%20%22type%22%3A%20%22Feature%22%7D%2C%20%7B%22bbox%22%3A%20%5B-180.0%2C%20-62.00080943400002%2C%20179.9999424%2C%2087.37%5D%2C%20%22geometry%22%3A%20%7B%22coordinates%22%3A%20%5B%5B%5B179.9999424%2C%20-62.00080943400002%5D%2C%20%5B179.9999424%2C%2087.37%5D%2C%20%5B-180.0%2C%2087.37%5D%2C%20%5B-180.0%2C%20-62.00080943400002%5D%2C%20%5B179.9999424%2C%20-62.00080943400002%5D%5D%5D%2C%20%22type%22%3A%20%22Polygon%22%7D%2C%20%22id%22%3A%20%2228%22%2C%20%22properties%22%3A%20%7B%22file%22%3A%20%22OCDENS_M_sl2_250m_ll.tif%22%2C%20%22footprint_name%22%3A%20%22OCDENS%22%2C%20%22path%22%3A%20%22/att/nobackup/pmontesa/userfs02/data/soil_grids%22%7D%2C%20%22type%22%3A%20%22Feature%22%7D%2C%20%7B%22bbox%22%3A%20%5B-180.0%2C%20-62.00080943400002%2C%20179.9999424%2C%2087.37%5D%2C%20%22geometry%22%3A%20%7B%22coordinates%22%3A%20%5B%5B%5B179.9999424%2C%20-62.00080943400002%5D%2C%20%5B179.9999424%2C%2087.37%5D%2C%20%5B-180.0%2C%2087.37%5D%2C%20%5B-180.0%2C%20-62.00080943400002%5D%2C%20%5B179.9999424%2C%20-62.00080943400002%5D%5D%5D%2C%20%22type%22%3A%20%22Polygon%22%7D%2C%20%22id%22%3A%20%2229%22%2C%20%22properties%22%3A%20%7B%22file%22%3A%20%22CLYPPT_M_sl7_250m_ll.tif%22%2C%20%22footprint_name%22%3A%20%22CLYPPT%22%2C%20%22path%22%3A%20%22/att/nobackup/pmontesa/userfs02/data/soil_grids%22%7D%2C%20%22type%22%3A%20%22Feature%22%7D%2C%20%7B%22bbox%22%3A%20%5B-180.0%2C%20-56.00081039406058%2C%20179.99994240015582%2C%2083.99916720600001%5D%2C%20%22geometry%22%3A%20%7B%22coordinates%22%3A%20%5B%5B%5B179.99994240015582%2C%20-56.00081039406058%5D%2C%20%5B179.99994240015582%2C%2083.99916720600001%5D%2C%20%5B-180.0%2C%2083.99916720600001%5D%2C%20%5B-180.0%2C%20-56.00081039406058%5D%2C%20%5B179.99994240015582%2C%20-56.00081039406058%5D%5D%5D%2C%20%22type%22%3A%20%22Polygon%22%7D%2C%20%22id%22%3A%20%2230%22%2C%20%22properties%22%3A%20%7B%22file%22%3A%20%22WWP_M_sl7_250m_ll.tif%22%2C%20%22footprint_name%22%3A%20%22WWP%22%2C%20%22path%22%3A%20%22/att/nobackup/pmontesa/userfs02/data/soil_grids%22%7D%2C%20%22type%22%3A%20%22Feature%22%7D%2C%20%7B%22bbox%22%3A%20%5B-180.0%2C%20-56.00081039406058%2C%20179.99994240015582%2C%2083.99916720600001%5D%2C%20%22geometry%22%3A%20%7B%22coordinates%22%3A%20%5B%5B%5B179.99994240015582%2C%20-56.00081039406058%5D%2C%20%5B179.99994240015582%2C%2083.99916720600001%5D%2C%20%5B-180.0%2C%2083.99916720600001%5D%2C%20%5B-180.0%2C%20-56.00081039406058%5D%2C%20%5B179.99994240015582%2C%20-56.00081039406058%5D%5D%5D%2C%20%22type%22%3A%20%22Polygon%22%7D%2C%20%22id%22%3A%20%2231%22%2C%20%22properties%22%3A%20%7B%22file%22%3A%20%22AWCh1_M_sl3_250m_ll.tif%22%2C%20%22footprint_name%22%3A%20%22AWCh1%22%2C%20%22path%22%3A%20%22/att/nobackup/pmontesa/userfs02/data/soil_grids%22%7D%2C%20%22type%22%3A%20%22Feature%22%7D%2C%20%7B%22bbox%22%3A%20%5B-180.0%2C%20-62.00080943400002%2C%20179.9999424%2C%2087.37%5D%2C%20%22geometry%22%3A%20%7B%22coordinates%22%3A%20%5B%5B%5B179.9999424%2C%20-62.00080943400002%5D%2C%20%5B179.9999424%2C%2087.37%5D%2C%20%5B-180.0%2C%2087.37%5D%2C%20%5B-180.0%2C%20-62.00080943400002%5D%2C%20%5B179.9999424%2C%20-62.00080943400002%5D%5D%5D%2C%20%22type%22%3A%20%22Polygon%22%7D%2C%20%22id%22%3A%20%2232%22%2C%20%22properties%22%3A%20%7B%22file%22%3A%20%22CLYPPT_M_sl5_250m_ll.tif%22%2C%20%22footprint_name%22%3A%20%22CLYPPT%22%2C%20%22path%22%3A%20%22/att/nobackup/pmontesa/userfs02/data/soil_grids%22%7D%2C%20%22type%22%3A%20%22Feature%22%7D%2C%20%7B%22bbox%22%3A%20%5B-180.0%2C%20-62.00080943400002%2C%20179.9999424%2C%2087.37%5D%2C%20%22geometry%22%3A%20%7B%22coordinates%22%3A%20%5B%5B%5B179.9999424%2C%20-62.00080943400002%5D%2C%20%5B179.9999424%2C%2087.37%5D%2C%20%5B-180.0%2C%2087.37%5D%2C%20%5B-180.0%2C%20-62.00080943400002%5D%2C%20%5B179.9999424%2C%20-62.00080943400002%5D%5D%5D%2C%20%22type%22%3A%20%22Polygon%22%7D%2C%20%22id%22%3A%20%2233%22%2C%20%22properties%22%3A%20%7B%22file%22%3A%20%22SLTPPT_M_sl3_250m_ll.tif%22%2C%20%22footprint_name%22%3A%20%22SLTPPT%22%2C%20%22path%22%3A%20%22/att/nobackup/pmontesa/userfs02/data/soil_grids%22%7D%2C%20%22type%22%3A%20%22Feature%22%7D%2C%20%7B%22bbox%22%3A%20%5B-180.0%2C%20-56.00081039406058%2C%20179.99994240015582%2C%2083.99916720600001%5D%2C%20%22geometry%22%3A%20%7B%22coordinates%22%3A%20%5B%5B%5B179.99994240015582%2C%20-56.00081039406058%5D%2C%20%5B179.99994240015582%2C%2083.99916720600001%5D%2C%20%5B-180.0%2C%2083.99916720600001%5D%2C%20%5B-180.0%2C%20-56.00081039406058%5D%2C%20%5B179.99994240015582%2C%20-56.00081039406058%5D%5D%5D%2C%20%22type%22%3A%20%22Polygon%22%7D%2C%20%22id%22%3A%20%2234%22%2C%20%22properties%22%3A%20%7B%22file%22%3A%20%22AWCtS_M_sl1_250m_ll.tif%22%2C%20%22footprint_name%22%3A%20%22AWCtS%22%2C%20%22path%22%3A%20%22/att/nobackup/pmontesa/userfs02/data/soil_grids%22%7D%2C%20%22type%22%3A%20%22Feature%22%7D%2C%20%7B%22bbox%22%3A%20%5B-180.0%2C%20-56.00081039406058%2C%20179.99994240015582%2C%2083.99916720600001%5D%2C%20%22geometry%22%3A%20%7B%22coordinates%22%3A%20%5B%5B%5B179.99994240015582%2C%20-56.00081039406058%5D%2C%20%5B179.99994240015582%2C%2083.99916720600001%5D%2C%20%5B-180.0%2C%2083.99916720600001%5D%2C%20%5B-180.0%2C%20-56.00081039406058%5D%2C%20%5B179.99994240015582%2C%20-56.00081039406058%5D%5D%5D%2C%20%22type%22%3A%20%22Polygon%22%7D%2C%20%22id%22%3A%20%2235%22%2C%20%22properties%22%3A%20%7B%22file%22%3A%20%22CECSOL_M_sl4_250m_ll.tif%22%2C%20%22footprint_name%22%3A%20%22CECSOL%22%2C%20%22path%22%3A%20%22/att/nobackup/pmontesa/userfs02/data/soil_grids%22%7D%2C%20%22type%22%3A%20%22Feature%22%7D%2C%20%7B%22bbox%22%3A%20%5B-180.0%2C%20-56.00081039406058%2C%20179.99994240015582%2C%2083.99916720600001%5D%2C%20%22geometry%22%3A%20%7B%22coordinates%22%3A%20%5B%5B%5B179.99994240015582%2C%20-56.00081039406058%5D%2C%20%5B179.99994240015582%2C%2083.99916720600001%5D%2C%20%5B-180.0%2C%2083.99916720600001%5D%2C%20%5B-180.0%2C%20-56.00081039406058%5D%2C%20%5B179.99994240015582%2C%20-56.00081039406058%5D%5D%5D%2C%20%22type%22%3A%20%22Polygon%22%7D%2C%20%22id%22%3A%20%2236%22%2C%20%22properties%22%3A%20%7B%22file%22%3A%20%22BLDFIE_M_sl4_250m_ll.tif%22%2C%20%22footprint_name%22%3A%20%22BLDFIE%22%2C%20%22path%22%3A%20%22/att/nobackup/pmontesa/userfs02/data/soil_grids%22%7D%2C%20%22type%22%3A%20%22Feature%22%7D%2C%20%7B%22bbox%22%3A%20%5B-180.0%2C%20-62.00080943400002%2C%20179.9999424%2C%2087.37%5D%2C%20%22geometry%22%3A%20%7B%22coordinates%22%3A%20%5B%5B%5B179.9999424%2C%20-62.00080943400002%5D%2C%20%5B179.9999424%2C%2087.37%5D%2C%20%5B-180.0%2C%2087.37%5D%2C%20%5B-180.0%2C%20-62.00080943400002%5D%2C%20%5B179.9999424%2C%20-62.00080943400002%5D%5D%5D%2C%20%22type%22%3A%20%22Polygon%22%7D%2C%20%22id%22%3A%20%2237%22%2C%20%22properties%22%3A%20%7B%22file%22%3A%20%22SNDPPT_M_sl4_250m_ll.tif%22%2C%20%22footprint_name%22%3A%20%22SNDPPT%22%2C%20%22path%22%3A%20%22/att/nobackup/pmontesa/userfs02/data/soil_grids%22%7D%2C%20%22type%22%3A%20%22Feature%22%7D%2C%20%7B%22bbox%22%3A%20%5B-180.0%2C%20-62.00080943400002%2C%20179.9999424%2C%2087.37%5D%2C%20%22geometry%22%3A%20%7B%22coordinates%22%3A%20%5B%5B%5B179.9999424%2C%20-62.00080943400002%5D%2C%20%5B179.9999424%2C%2087.37%5D%2C%20%5B-180.0%2C%2087.37%5D%2C%20%5B-180.0%2C%20-62.00080943400002%5D%2C%20%5B179.9999424%2C%20-62.00080943400002%5D%5D%5D%2C%20%22type%22%3A%20%22Polygon%22%7D%2C%20%22id%22%3A%20%2238%22%2C%20%22properties%22%3A%20%7B%22file%22%3A%20%22ORCDRC_M_sl4_250m_ll.tif%22%2C%20%22footprint_name%22%3A%20%22ORCDRC%22%2C%20%22path%22%3A%20%22/att/nobackup/pmontesa/userfs02/data/soil_grids%22%7D%2C%20%22type%22%3A%20%22Feature%22%7D%2C%20%7B%22bbox%22%3A%20%5B-180.0%2C%20-56.00081039406058%2C%20179.99994240015582%2C%2083.99916720600001%5D%2C%20%22geometry%22%3A%20%7B%22coordinates%22%3A%20%5B%5B%5B179.99994240015582%2C%20-56.00081039406058%5D%2C%20%5B179.99994240015582%2C%2083.99916720600001%5D%2C%20%5B-180.0%2C%2083.99916720600001%5D%2C%20%5B-180.0%2C%20-56.00081039406058%5D%2C%20%5B179.99994240015582%2C%20-56.00081039406058%5D%5D%5D%2C%20%22type%22%3A%20%22Polygon%22%7D%2C%20%22id%22%3A%20%2239%22%2C%20%22properties%22%3A%20%7B%22file%22%3A%20%22CECSOL_M_sl3_250m_ll.tif%22%2C%20%22footprint_name%22%3A%20%22CECSOL%22%2C%20%22path%22%3A%20%22/att/nobackup/pmontesa/userfs02/data/soil_grids%22%7D%2C%20%22type%22%3A%20%22Feature%22%7D%2C%20%7B%22bbox%22%3A%20%5B-180.0%2C%20-62.00080943400002%2C%20179.9999424%2C%2087.37%5D%2C%20%22geometry%22%3A%20%7B%22coordinates%22%3A%20%5B%5B%5B179.9999424%2C%20-62.00080943400002%5D%2C%20%5B179.9999424%2C%2087.37%5D%2C%20%5B-180.0%2C%2087.37%5D%2C%20%5B-180.0%2C%20-62.00080943400002%5D%2C%20%5B179.9999424%2C%20-62.00080943400002%5D%5D%5D%2C%20%22type%22%3A%20%22Polygon%22%7D%2C%20%22id%22%3A%20%2240%22%2C%20%22properties%22%3A%20%7B%22file%22%3A%20%22SLTPPT_M_sl1_250m_ll.tif%22%2C%20%22footprint_name%22%3A%20%22SLTPPT%22%2C%20%22path%22%3A%20%22/att/nobackup/pmontesa/userfs02/data/soil_grids%22%7D%2C%20%22type%22%3A%20%22Feature%22%7D%2C%20%7B%22bbox%22%3A%20%5B-180.0%2C%20-62.00080943400002%2C%20179.9999424%2C%2087.37%5D%2C%20%22geometry%22%3A%20%7B%22coordinates%22%3A%20%5B%5B%5B179.9999424%2C%20-62.00080943400002%5D%2C%20%5B179.9999424%2C%2087.37%5D%2C%20%5B-180.0%2C%2087.37%5D%2C%20%5B-180.0%2C%20-62.00080943400002%5D%2C%20%5B179.9999424%2C%20-62.00080943400002%5D%5D%5D%2C%20%22type%22%3A%20%22Polygon%22%7D%2C%20%22id%22%3A%20%2241%22%2C%20%22properties%22%3A%20%7B%22file%22%3A%20%22ORCDRC_M_sl5_250m_ll.tif%22%2C%20%22footprint_name%22%3A%20%22ORCDRC%22%2C%20%22path%22%3A%20%22/att/nobackup/pmontesa/userfs02/data/soil_grids%22%7D%2C%20%22type%22%3A%20%22Feature%22%7D%2C%20%7B%22bbox%22%3A%20%5B-180.0%2C%20-56.00081039406058%2C%20179.99994240015582%2C%2083.99916720600001%5D%2C%20%22geometry%22%3A%20%7B%22coordinates%22%3A%20%5B%5B%5B179.99994240015582%2C%20-56.00081039406058%5D%2C%20%5B179.99994240015582%2C%2083.99916720600001%5D%2C%20%5B-180.0%2C%2083.99916720600001%5D%2C%20%5B-180.0%2C%20-56.00081039406058%5D%2C%20%5B179.99994240015582%2C%20-56.00081039406058%5D%5D%5D%2C%20%22type%22%3A%20%22Polygon%22%7D%2C%20%22id%22%3A%20%2242%22%2C%20%22properties%22%3A%20%7B%22file%22%3A%20%22WWP_M_sl1_250m_ll.tif%22%2C%20%22footprint_name%22%3A%20%22WWP%22%2C%20%22path%22%3A%20%22/att/nobackup/pmontesa/userfs02/data/soil_grids%22%7D%2C%20%22type%22%3A%20%22Feature%22%7D%2C%20%7B%22bbox%22%3A%20%5B-180.0%2C%20-62.00080943400002%2C%20179.9999424%2C%2087.37%5D%2C%20%22geometry%22%3A%20%7B%22coordinates%22%3A%20%5B%5B%5B179.9999424%2C%20-62.00080943400002%5D%2C%20%5B179.9999424%2C%2087.37%5D%2C%20%5B-180.0%2C%2087.37%5D%2C%20%5B-180.0%2C%20-62.00080943400002%5D%2C%20%5B179.9999424%2C%20-62.00080943400002%5D%5D%5D%2C%20%22type%22%3A%20%22Polygon%22%7D%2C%20%22id%22%3A%20%2243%22%2C%20%22properties%22%3A%20%7B%22file%22%3A%20%22ORCDRC_M_sl6_250m_ll.tif%22%2C%20%22footprint_name%22%3A%20%22ORCDRC%22%2C%20%22path%22%3A%20%22/att/nobackup/pmontesa/userfs02/data/soil_grids%22%7D%2C%20%22type%22%3A%20%22Feature%22%7D%2C%20%7B%22bbox%22%3A%20%5B-180.0%2C%20-62.00080943400002%2C%20179.9999424%2C%2087.37%5D%2C%20%22geometry%22%3A%20%7B%22coordinates%22%3A%20%5B%5B%5B179.9999424%2C%20-62.00080943400002%5D%2C%20%5B179.9999424%2C%2087.37%5D%2C%20%5B-180.0%2C%2087.37%5D%2C%20%5B-180.0%2C%20-62.00080943400002%5D%2C%20%5B179.9999424%2C%20-62.00080943400002%5D%5D%5D%2C%20%22type%22%3A%20%22Polygon%22%7D%2C%20%22id%22%3A%20%2244%22%2C%20%22properties%22%3A%20%7B%22file%22%3A%20%22CLYPPT_M_sl2_250m_ll.tif%22%2C%20%22footprint_name%22%3A%20%22CLYPPT%22%2C%20%22path%22%3A%20%22/att/nobackup/pmontesa/userfs02/data/soil_grids%22%7D%2C%20%22type%22%3A%20%22Feature%22%7D%2C%20%7B%22bbox%22%3A%20%5B-180.0%2C%20-62.00080943400002%2C%20179.9999424%2C%2087.37%5D%2C%20%22geometry%22%3A%20%7B%22coordinates%22%3A%20%5B%5B%5B179.9999424%2C%20-62.00080943400002%5D%2C%20%5B179.9999424%2C%2087.37%5D%2C%20%5B-180.0%2C%2087.37%5D%2C%20%5B-180.0%2C%20-62.00080943400002%5D%2C%20%5B179.9999424%2C%20-62.00080943400002%5D%5D%5D%2C%20%22type%22%3A%20%22Polygon%22%7D%2C%20%22id%22%3A%20%2245%22%2C%20%22properties%22%3A%20%7B%22file%22%3A%20%22ORCDRC_M_sl1_250m_ll.tif%22%2C%20%22footprint_name%22%3A%20%22ORCDRC%22%2C%20%22path%22%3A%20%22/att/nobackup/pmontesa/userfs02/data/soil_grids%22%7D%2C%20%22type%22%3A%20%22Feature%22%7D%2C%20%7B%22bbox%22%3A%20%5B-180.0%2C%20-56.00081039406058%2C%20179.99994240015582%2C%2083.99916720600001%5D%2C%20%22geometry%22%3A%20%7B%22coordinates%22%3A%20%5B%5B%5B179.99994240015582%2C%20-56.00081039406058%5D%2C%20%5B179.99994240015582%2C%2083.99916720600001%5D%2C%20%5B-180.0%2C%2083.99916720600001%5D%2C%20%5B-180.0%2C%20-56.00081039406058%5D%2C%20%5B179.99994240015582%2C%20-56.00081039406058%5D%5D%5D%2C%20%22type%22%3A%20%22Polygon%22%7D%2C%20%22id%22%3A%20%2246%22%2C%20%22properties%22%3A%20%7B%22file%22%3A%20%22WWP_M_sl5_250m_ll.tif%22%2C%20%22footprint_name%22%3A%20%22WWP%22%2C%20%22path%22%3A%20%22/att/nobackup/pmontesa/userfs02/data/soil_grids%22%7D%2C%20%22type%22%3A%20%22Feature%22%7D%2C%20%7B%22bbox%22%3A%20%5B-180.0%2C%20-62.00080943400002%2C%20179.9999424%2C%2087.37%5D%2C%20%22geometry%22%3A%20%7B%22coordinates%22%3A%20%5B%5B%5B179.9999424%2C%20-62.00080943400002%5D%2C%20%5B179.9999424%2C%2087.37%5D%2C%20%5B-180.0%2C%2087.37%5D%2C%20%5B-180.0%2C%20-62.00080943400002%5D%2C%20%5B179.9999424%2C%20-62.00080943400002%5D%5D%5D%2C%20%22type%22%3A%20%22Polygon%22%7D%2C%20%22id%22%3A%20%2247%22%2C%20%22properties%22%3A%20%7B%22file%22%3A%20%22SNDPPT_M_sl3_250m_ll.tif%22%2C%20%22footprint_name%22%3A%20%22SNDPPT%22%2C%20%22path%22%3A%20%22/att/nobackup/pmontesa/userfs02/data/soil_grids%22%7D%2C%20%22type%22%3A%20%22Feature%22%7D%2C%20%7B%22bbox%22%3A%20%5B-180.0%2C%20-62.00080943400002%2C%20179.9999424%2C%2087.37%5D%2C%20%22geometry%22%3A%20%7B%22coordinates%22%3A%20%5B%5B%5B179.9999424%2C%20-62.00080943400002%5D%2C%20%5B179.9999424%2C%2087.37%5D%2C%20%5B-180.0%2C%2087.37%5D%2C%20%5B-180.0%2C%20-62.00080943400002%5D%2C%20%5B179.9999424%2C%20-62.00080943400002%5D%5D%5D%2C%20%22type%22%3A%20%22Polygon%22%7D%2C%20%22id%22%3A%20%2248%22%2C%20%22properties%22%3A%20%7B%22file%22%3A%20%22ORCDRC_M_sl2_250m_ll.tif%22%2C%20%22footprint_name%22%3A%20%22ORCDRC%22%2C%20%22path%22%3A%20%22/att/nobackup/pmontesa/userfs02/data/soil_grids%22%7D%2C%20%22type%22%3A%20%22Feature%22%7D%2C%20%7B%22bbox%22%3A%20%5B-180.0%2C%20-62.00080943400002%2C%20179.9999424%2C%2087.37%5D%2C%20%22geometry%22%3A%20%7B%22coordinates%22%3A%20%5B%5B%5B179.9999424%2C%20-62.00080943400002%5D%2C%20%5B179.9999424%2C%2087.37%5D%2C%20%5B-180.0%2C%2087.37%5D%2C%20%5B-180.0%2C%20-62.00080943400002%5D%2C%20%5B179.9999424%2C%20-62.00080943400002%5D%5D%5D%2C%20%22type%22%3A%20%22Polygon%22%7D%2C%20%22id%22%3A%20%2249%22%2C%20%22properties%22%3A%20%7B%22file%22%3A%20%22SNDPPT_M_sl1_250m_ll.tif%22%2C%20%22footprint_name%22%3A%20%22SNDPPT%22%2C%20%22path%22%3A%20%22/att/nobackup/pmontesa/userfs02/data/soil_grids%22%7D%2C%20%22type%22%3A%20%22Feature%22%7D%2C%20%7B%22bbox%22%3A%20%5B-180.0%2C%20-56.00081039406058%2C%20179.99994240015582%2C%2083.99916720600001%5D%2C%20%22geometry%22%3A%20%7B%22coordinates%22%3A%20%5B%5B%5B179.99994240015582%2C%20-56.00081039406058%5D%2C%20%5B179.99994240015582%2C%2083.99916720600001%5D%2C%20%5B-180.0%2C%2083.99916720600001%5D%2C%20%5B-180.0%2C%20-56.00081039406058%5D%2C%20%5B179.99994240015582%2C%20-56.00081039406058%5D%5D%5D%2C%20%22type%22%3A%20%22Polygon%22%7D%2C%20%22id%22%3A%20%2250%22%2C%20%22properties%22%3A%20%7B%22file%22%3A%20%22CECSOL_M_sl2_250m_ll.tif%22%2C%20%22footprint_name%22%3A%20%22CECSOL%22%2C%20%22path%22%3A%20%22/att/nobackup/pmontesa/userfs02/data/soil_grids%22%7D%2C%20%22type%22%3A%20%22Feature%22%7D%2C%20%7B%22bbox%22%3A%20%5B-180.0%2C%20-62.00080943400002%2C%20179.9999424%2C%2087.37%5D%2C%20%22geometry%22%3A%20%7B%22coordinates%22%3A%20%5B%5B%5B179.9999424%2C%20-62.00080943400002%5D%2C%20%5B179.9999424%2C%2087.37%5D%2C%20%5B-180.0%2C%2087.37%5D%2C%20%5B-180.0%2C%20-62.00080943400002%5D%2C%20%5B179.9999424%2C%20-62.00080943400002%5D%5D%5D%2C%20%22type%22%3A%20%22Polygon%22%7D%2C%20%22id%22%3A%20%2251%22%2C%20%22properties%22%3A%20%7B%22file%22%3A%20%22ORCDRC_M_sl3_250m_ll.tif%22%2C%20%22footprint_name%22%3A%20%22ORCDRC%22%2C%20%22path%22%3A%20%22/att/nobackup/pmontesa/userfs02/data/soil_grids%22%7D%2C%20%22type%22%3A%20%22Feature%22%7D%2C%20%7B%22bbox%22%3A%20%5B-180.0%2C%20-62.00080943400002%2C%20179.9999424%2C%2087.37%5D%2C%20%22geometry%22%3A%20%7B%22coordinates%22%3A%20%5B%5B%5B179.9999424%2C%20-62.00080943400002%5D%2C%20%5B179.9999424%2C%2087.37%5D%2C%20%5B-180.0%2C%2087.37%5D%2C%20%5B-180.0%2C%20-62.00080943400002%5D%2C%20%5B179.9999424%2C%20-62.00080943400002%5D%5D%5D%2C%20%22type%22%3A%20%22Polygon%22%7D%2C%20%22id%22%3A%20%2252%22%2C%20%22properties%22%3A%20%7B%22file%22%3A%20%22SLTPPT_M_sl6_250m_ll.tif%22%2C%20%22footprint_name%22%3A%20%22SLTPPT%22%2C%20%22path%22%3A%20%22/att/nobackup/pmontesa/userfs02/data/soil_grids%22%7D%2C%20%22type%22%3A%20%22Feature%22%7D%2C%20%7B%22bbox%22%3A%20%5B-180.0%2C%20-62.00080943400002%2C%20179.9999424%2C%2087.37%5D%2C%20%22geometry%22%3A%20%7B%22coordinates%22%3A%20%5B%5B%5B179.9999424%2C%20-62.00080943400002%5D%2C%20%5B179.9999424%2C%2087.37%5D%2C%20%5B-180.0%2C%2087.37%5D%2C%20%5B-180.0%2C%20-62.00080943400002%5D%2C%20%5B179.9999424%2C%20-62.00080943400002%5D%5D%5D%2C%20%22type%22%3A%20%22Polygon%22%7D%2C%20%22id%22%3A%20%2253%22%2C%20%22properties%22%3A%20%7B%22file%22%3A%20%22OCDENS_M_sl7_250m_ll.tif%22%2C%20%22footprint_name%22%3A%20%22OCDENS%22%2C%20%22path%22%3A%20%22/att/nobackup/pmontesa/userfs02/data/soil_grids%22%7D%2C%20%22type%22%3A%20%22Feature%22%7D%2C%20%7B%22bbox%22%3A%20%5B-180.0%2C%20-56.00081039406058%2C%20179.99994240015582%2C%2083.99916720600001%5D%2C%20%22geometry%22%3A%20%7B%22coordinates%22%3A%20%5B%5B%5B179.99994240015582%2C%20-56.00081039406058%5D%2C%20%5B179.99994240015582%2C%2083.99916720600001%5D%2C%20%5B-180.0%2C%2083.99916720600001%5D%2C%20%5B-180.0%2C%20-56.00081039406058%5D%2C%20%5B179.99994240015582%2C%20-56.00081039406058%5D%5D%5D%2C%20%22type%22%3A%20%22Polygon%22%7D%2C%20%22id%22%3A%20%2254%22%2C%20%22properties%22%3A%20%7B%22file%22%3A%20%22AWCh1_M_sl7_250m_ll.tif%22%2C%20%22footprint_name%22%3A%20%22AWCh1%22%2C%20%22path%22%3A%20%22/att/nobackup/pmontesa/userfs02/data/soil_grids%22%7D%2C%20%22type%22%3A%20%22Feature%22%7D%2C%20%7B%22bbox%22%3A%20%5B-180.0%2C%20-62.00080943400002%2C%20179.9999424%2C%2087.37%5D%2C%20%22geometry%22%3A%20%7B%22coordinates%22%3A%20%5B%5B%5B179.9999424%2C%20-62.00080943400002%5D%2C%20%5B179.9999424%2C%2087.37%5D%2C%20%5B-180.0%2C%2087.37%5D%2C%20%5B-180.0%2C%20-62.00080943400002%5D%2C%20%5B179.9999424%2C%20-62.00080943400002%5D%5D%5D%2C%20%22type%22%3A%20%22Polygon%22%7D%2C%20%22id%22%3A%20%2255%22%2C%20%22properties%22%3A%20%7B%22file%22%3A%20%22OCDENS_M_sl3_250m_ll.tif%22%2C%20%22footprint_name%22%3A%20%22OCDENS%22%2C%20%22path%22%3A%20%22/att/nobackup/pmontesa/userfs02/data/soil_grids%22%7D%2C%20%22type%22%3A%20%22Feature%22%7D%2C%20%7B%22bbox%22%3A%20%5B-180.0%2C%20-56.00081039406058%2C%20179.99994240015582%2C%2083.99916720600001%5D%2C%20%22geometry%22%3A%20%7B%22coordinates%22%3A%20%5B%5B%5B179.99994240015582%2C%20-56.00081039406058%5D%2C%20%5B179.99994240015582%2C%2083.99916720600001%5D%2C%20%5B-180.0%2C%2083.99916720600001%5D%2C%20%5B-180.0%2C%20-56.00081039406058%5D%2C%20%5B179.99994240015582%2C%20-56.00081039406058%5D%5D%5D%2C%20%22type%22%3A%20%22Polygon%22%7D%2C%20%22id%22%3A%20%2256%22%2C%20%22properties%22%3A%20%7B%22file%22%3A%20%22BLDFIE_M_sl7_250m_ll.tif%22%2C%20%22footprint_name%22%3A%20%22BLDFIE%22%2C%20%22path%22%3A%20%22/att/nobackup/pmontesa/userfs02/data/soil_grids%22%7D%2C%20%22type%22%3A%20%22Feature%22%7D%2C%20%7B%22bbox%22%3A%20%5B-180.0%2C%20-62.00080943400002%2C%20179.9999424%2C%2087.37%5D%2C%20%22geometry%22%3A%20%7B%22coordinates%22%3A%20%5B%5B%5B179.9999424%2C%20-62.00080943400002%5D%2C%20%5B179.9999424%2C%2087.37%5D%2C%20%5B-180.0%2C%2087.37%5D%2C%20%5B-180.0%2C%20-62.00080943400002%5D%2C%20%5B179.9999424%2C%20-62.00080943400002%5D%5D%5D%2C%20%22type%22%3A%20%22Polygon%22%7D%2C%20%22id%22%3A%20%2257%22%2C%20%22properties%22%3A%20%7B%22file%22%3A%20%22SNDPPT_M_sl6_250m_ll.tif%22%2C%20%22footprint_name%22%3A%20%22SNDPPT%22%2C%20%22path%22%3A%20%22/att/nobackup/pmontesa/userfs02/data/soil_grids%22%7D%2C%20%22type%22%3A%20%22Feature%22%7D%2C%20%7B%22bbox%22%3A%20%5B-180.0%2C%20-56.00081039406058%2C%20179.99994240015582%2C%2083.99916720600001%5D%2C%20%22geometry%22%3A%20%7B%22coordinates%22%3A%20%5B%5B%5B179.99994240015582%2C%20-56.00081039406058%5D%2C%20%5B179.99994240015582%2C%2083.99916720600001%5D%2C%20%5B-180.0%2C%2083.99916720600001%5D%2C%20%5B-180.0%2C%20-56.00081039406058%5D%2C%20%5B179.99994240015582%2C%20-56.00081039406058%5D%5D%5D%2C%20%22type%22%3A%20%22Polygon%22%7D%2C%20%22id%22%3A%20%2258%22%2C%20%22properties%22%3A%20%7B%22file%22%3A%20%22AWCtS_M_sl6_250m_ll.tif%22%2C%20%22footprint_name%22%3A%20%22AWCtS%22%2C%20%22path%22%3A%20%22/att/nobackup/pmontesa/userfs02/data/soil_grids%22%7D%2C%20%22type%22%3A%20%22Feature%22%7D%2C%20%7B%22bbox%22%3A%20%5B-180.0%2C%20-62.00080943400002%2C%20179.9999424%2C%2087.37%5D%2C%20%22geometry%22%3A%20%7B%22coordinates%22%3A%20%5B%5B%5B179.9999424%2C%20-62.00080943400002%5D%2C%20%5B179.9999424%2C%2087.37%5D%2C%20%5B-180.0%2C%2087.37%5D%2C%20%5B-180.0%2C%20-62.00080943400002%5D%2C%20%5B179.9999424%2C%20-62.00080943400002%5D%5D%5D%2C%20%22type%22%3A%20%22Polygon%22%7D%2C%20%22id%22%3A%20%2259%22%2C%20%22properties%22%3A%20%7B%22file%22%3A%20%22SLTPPT_M_sl7_250m_ll.tif%22%2C%20%22footprint_name%22%3A%20%22SLTPPT%22%2C%20%22path%22%3A%20%22/att/nobackup/pmontesa/userfs02/data/soil_grids%22%7D%2C%20%22type%22%3A%20%22Feature%22%7D%2C%20%7B%22bbox%22%3A%20%5B-180.0%2C%20-62.00080943400002%2C%20179.9999424%2C%2087.37%5D%2C%20%22geometry%22%3A%20%7B%22coordinates%22%3A%20%5B%5B%5B179.9999424%2C%20-62.00080943400002%5D%2C%20%5B179.9999424%2C%2087.37%5D%2C%20%5B-180.0%2C%2087.37%5D%2C%20%5B-180.0%2C%20-62.00080943400002%5D%2C%20%5B179.9999424%2C%20-62.00080943400002%5D%5D%5D%2C%20%22type%22%3A%20%22Polygon%22%7D%2C%20%22id%22%3A%20%2260%22%2C%20%22properties%22%3A%20%7B%22file%22%3A%20%22SNDPPT_M_sl2_250m_ll.tif%22%2C%20%22footprint_name%22%3A%20%22SNDPPT%22%2C%20%22path%22%3A%20%22/att/nobackup/pmontesa/userfs02/data/soil_grids%22%7D%2C%20%22type%22%3A%20%22Feature%22%7D%2C%20%7B%22bbox%22%3A%20%5B-180.0%2C%20-62.00080943400002%2C%20179.9999424%2C%2087.37%5D%2C%20%22geometry%22%3A%20%7B%22coordinates%22%3A%20%5B%5B%5B179.9999424%2C%20-62.00080943400002%5D%2C%20%5B179.9999424%2C%2087.37%5D%2C%20%5B-180.0%2C%2087.37%5D%2C%20%5B-180.0%2C%20-62.00080943400002%5D%2C%20%5B179.9999424%2C%20-62.00080943400002%5D%5D%5D%2C%20%22type%22%3A%20%22Polygon%22%7D%2C%20%22id%22%3A%20%2261%22%2C%20%22properties%22%3A%20%7B%22file%22%3A%20%22OCDENS_M_sl5_250m_ll.tif%22%2C%20%22footprint_name%22%3A%20%22OCDENS%22%2C%20%22path%22%3A%20%22/att/nobackup/pmontesa/userfs02/data/soil_grids%22%7D%2C%20%22type%22%3A%20%22Feature%22%7D%2C%20%7B%22bbox%22%3A%20%5B-180.0%2C%20-56.00081039406058%2C%20179.99994240015582%2C%2083.99916720600001%5D%2C%20%22geometry%22%3A%20%7B%22coordinates%22%3A%20%5B%5B%5B179.99994240015582%2C%20-56.00081039406058%5D%2C%20%5B179.99994240015582%2C%2083.99916720600001%5D%2C%20%5B-180.0%2C%2083.99916720600001%5D%2C%20%5B-180.0%2C%20-56.00081039406058%5D%2C%20%5B179.99994240015582%2C%20-56.00081039406058%5D%5D%5D%2C%20%22type%22%3A%20%22Polygon%22%7D%2C%20%22id%22%3A%20%2262%22%2C%20%22properties%22%3A%20%7B%22file%22%3A%20%22CECSOL_M_sl1_250m_ll.tif%22%2C%20%22footprint_name%22%3A%20%22CECSOL%22%2C%20%22path%22%3A%20%22/att/nobackup/pmontesa/userfs02/data/soil_grids%22%7D%2C%20%22type%22%3A%20%22Feature%22%7D%2C%20%7B%22bbox%22%3A%20%5B-180.0%2C%20-56.00081039406058%2C%20179.99994240015582%2C%2083.99916720600001%5D%2C%20%22geometry%22%3A%20%7B%22coordinates%22%3A%20%5B%5B%5B179.99994240015582%2C%20-56.00081039406058%5D%2C%20%5B179.99994240015582%2C%2083.99916720600001%5D%2C%20%5B-180.0%2C%2083.99916720600001%5D%2C%20%5B-180.0%2C%20-56.00081039406058%5D%2C%20%5B179.99994240015582%2C%20-56.00081039406058%5D%5D%5D%2C%20%22type%22%3A%20%22Polygon%22%7D%2C%20%22id%22%3A%20%2263%22%2C%20%22properties%22%3A%20%7B%22file%22%3A%20%22AWCh1_M_sl4_250m_ll.tif%22%2C%20%22footprint_name%22%3A%20%22AWCh1%22%2C%20%22path%22%3A%20%22/att/nobackup/pmontesa/userfs02/data/soil_grids%22%7D%2C%20%22type%22%3A%20%22Feature%22%7D%2C%20%7B%22bbox%22%3A%20%5B-180.0%2C%20-56.00081039406058%2C%20179.99994240015582%2C%2083.99916720600001%5D%2C%20%22geometry%22%3A%20%7B%22coordinates%22%3A%20%5B%5B%5B179.99994240015582%2C%20-56.00081039406058%5D%2C%20%5B179.99994240015582%2C%2083.99916720600001%5D%2C%20%5B-180.0%2C%2083.99916720600001%5D%2C%20%5B-180.0%2C%20-56.00081039406058%5D%2C%20%5B179.99994240015582%2C%20-56.00081039406058%5D%5D%5D%2C%20%22type%22%3A%20%22Polygon%22%7D%2C%20%22id%22%3A%20%2264%22%2C%20%22properties%22%3A%20%7B%22file%22%3A%20%22CECSOL_M_sl5_250m_ll.tif%22%2C%20%22footprint_name%22%3A%20%22CECSOL%22%2C%20%22path%22%3A%20%22/att/nobackup/pmontesa/userfs02/data/soil_grids%22%7D%2C%20%22type%22%3A%20%22Feature%22%7D%2C%20%7B%22bbox%22%3A%20%5B-180.0%2C%20-62.00080943400002%2C%20179.9999424%2C%2087.37%5D%2C%20%22geometry%22%3A%20%7B%22coordinates%22%3A%20%5B%5B%5B179.9999424%2C%20-62.00080943400002%5D%2C%20%5B179.9999424%2C%2087.37%5D%2C%20%5B-180.0%2C%2087.37%5D%2C%20%5B-180.0%2C%20-62.00080943400002%5D%2C%20%5B179.9999424%2C%20-62.00080943400002%5D%5D%5D%2C%20%22type%22%3A%20%22Polygon%22%7D%2C%20%22id%22%3A%20%2265%22%2C%20%22properties%22%3A%20%7B%22file%22%3A%20%22CLYPPT_M_sl6_250m_ll.tif%22%2C%20%22footprint_name%22%3A%20%22CLYPPT%22%2C%20%22path%22%3A%20%22/att/nobackup/pmontesa/userfs02/data/soil_grids%22%7D%2C%20%22type%22%3A%20%22Feature%22%7D%2C%20%7B%22bbox%22%3A%20%5B-180.0%2C%20-56.00081039406058%2C%20179.99994240015582%2C%2083.99916720600001%5D%2C%20%22geometry%22%3A%20%7B%22coordinates%22%3A%20%5B%5B%5B179.99994240015582%2C%20-56.00081039406058%5D%2C%20%5B179.99994240015582%2C%2083.99916720600001%5D%2C%20%5B-180.0%2C%2083.99916720600001%5D%2C%20%5B-180.0%2C%20-56.00081039406058%5D%2C%20%5B179.99994240015582%2C%20-56.00081039406058%5D%5D%5D%2C%20%22type%22%3A%20%22Polygon%22%7D%2C%20%22id%22%3A%20%2266%22%2C%20%22properties%22%3A%20%7B%22file%22%3A%20%22AWCh1_M_sl1_250m_ll.tif%22%2C%20%22footprint_name%22%3A%20%22AWCh1%22%2C%20%22path%22%3A%20%22/att/nobackup/pmontesa/userfs02/data/soil_grids%22%7D%2C%20%22type%22%3A%20%22Feature%22%7D%2C%20%7B%22bbox%22%3A%20%5B-180.0%2C%20-56.00081039406058%2C%20179.99994240015582%2C%2083.99916720600001%5D%2C%20%22geometry%22%3A%20%7B%22coordinates%22%3A%20%5B%5B%5B179.99994240015582%2C%20-56.00081039406058%5D%2C%20%5B179.99994240015582%2C%2083.99916720600001%5D%2C%20%5B-180.0%2C%2083.99916720600001%5D%2C%20%5B-180.0%2C%20-56.00081039406058%5D%2C%20%5B179.99994240015582%2C%20-56.00081039406058%5D%5D%5D%2C%20%22type%22%3A%20%22Polygon%22%7D%2C%20%22id%22%3A%20%2267%22%2C%20%22properties%22%3A%20%7B%22file%22%3A%20%22BLDFIE_M_sl3_250m_ll.tif%22%2C%20%22footprint_name%22%3A%20%22BLDFIE%22%2C%20%22path%22%3A%20%22/att/nobackup/pmontesa/userfs02/data/soil_grids%22%7D%2C%20%22type%22%3A%20%22Feature%22%7D%2C%20%7B%22bbox%22%3A%20%5B-180.0%2C%20-62.00080943400002%2C%20179.9999424%2C%2087.37%5D%2C%20%22geometry%22%3A%20%7B%22coordinates%22%3A%20%5B%5B%5B179.9999424%2C%20-62.00080943400002%5D%2C%20%5B179.9999424%2C%2087.37%5D%2C%20%5B-180.0%2C%2087.37%5D%2C%20%5B-180.0%2C%20-62.00080943400002%5D%2C%20%5B179.9999424%2C%20-62.00080943400002%5D%5D%5D%2C%20%22type%22%3A%20%22Polygon%22%7D%2C%20%22id%22%3A%20%2268%22%2C%20%22properties%22%3A%20%7B%22file%22%3A%20%22SLTPPT_M_sl5_250m_ll.tif%22%2C%20%22footprint_name%22%3A%20%22SLTPPT%22%2C%20%22path%22%3A%20%22/att/nobackup/pmontesa/userfs02/data/soil_grids%22%7D%2C%20%22type%22%3A%20%22Feature%22%7D%2C%20%7B%22bbox%22%3A%20%5B-180.0%2C%20-56.00081039406058%2C%20179.99994240015582%2C%2083.99916720600001%5D%2C%20%22geometry%22%3A%20%7B%22coordinates%22%3A%20%5B%5B%5B179.99994240015582%2C%20-56.00081039406058%5D%2C%20%5B179.99994240015582%2C%2083.99916720600001%5D%2C%20%5B-180.0%2C%2083.99916720600001%5D%2C%20%5B-180.0%2C%20-56.00081039406058%5D%2C%20%5B179.99994240015582%2C%20-56.00081039406058%5D%5D%5D%2C%20%22type%22%3A%20%22Polygon%22%7D%2C%20%22id%22%3A%20%2269%22%2C%20%22properties%22%3A%20%7B%22file%22%3A%20%22AWCh1_M_sl6_250m_ll.tif%22%2C%20%22footprint_name%22%3A%20%22AWCh1%22%2C%20%22path%22%3A%20%22/att/nobackup/pmontesa/userfs02/data/soil_grids%22%7D%2C%20%22type%22%3A%20%22Feature%22%7D%2C%20%7B%22bbox%22%3A%20%5B-180.0%2C%20-56.00081039406058%2C%20179.99994240015582%2C%2083.99916720600001%5D%2C%20%22geometry%22%3A%20%7B%22coordinates%22%3A%20%5B%5B%5B179.99994240015582%2C%20-56.00081039406058%5D%2C%20%5B179.99994240015582%2C%2083.99916720600001%5D%2C%20%5B-180.0%2C%2083.99916720600001%5D%2C%20%5B-180.0%2C%20-56.00081039406058%5D%2C%20%5B179.99994240015582%2C%20-56.00081039406058%5D%5D%5D%2C%20%22type%22%3A%20%22Polygon%22%7D%2C%20%22id%22%3A%20%2270%22%2C%20%22properties%22%3A%20%7B%22file%22%3A%20%22AWCh1_M_sl2_250m_ll.tif%22%2C%20%22footprint_name%22%3A%20%22AWCh1%22%2C%20%22path%22%3A%20%22/att/nobackup/pmontesa/userfs02/data/soil_grids%22%7D%2C%20%22type%22%3A%20%22Feature%22%7D%2C%20%7B%22bbox%22%3A%20%5B-180.0%2C%20-62.00080943400002%2C%20179.9999424%2C%2087.37%5D%2C%20%22geometry%22%3A%20%7B%22coordinates%22%3A%20%5B%5B%5B179.9999424%2C%20-62.00080943400002%5D%2C%20%5B179.9999424%2C%2087.37%5D%2C%20%5B-180.0%2C%2087.37%5D%2C%20%5B-180.0%2C%20-62.00080943400002%5D%2C%20%5B179.9999424%2C%20-62.00080943400002%5D%5D%5D%2C%20%22type%22%3A%20%22Polygon%22%7D%2C%20%22id%22%3A%20%2271%22%2C%20%22properties%22%3A%20%7B%22file%22%3A%20%22SLTPPT_M_sl4_250m_ll.tif%22%2C%20%22footprint_name%22%3A%20%22SLTPPT%22%2C%20%22path%22%3A%20%22/att/nobackup/pmontesa/userfs02/data/soil_grids%22%7D%2C%20%22type%22%3A%20%22Feature%22%7D%2C%20%7B%22bbox%22%3A%20%5B-180.0%2C%20-56.00081039406058%2C%20179.99994240015582%2C%2083.99916720600001%5D%2C%20%22geometry%22%3A%20%7B%22coordinates%22%3A%20%5B%5B%5B179.99994240015582%2C%20-56.00081039406058%5D%2C%20%5B179.99994240015582%2C%2083.99916720600001%5D%2C%20%5B-180.0%2C%2083.99916720600001%5D%2C%20%5B-180.0%2C%20-56.00081039406058%5D%2C%20%5B179.99994240015582%2C%20-56.00081039406058%5D%5D%5D%2C%20%22type%22%3A%20%22Polygon%22%7D%2C%20%22id%22%3A%20%2272%22%2C%20%22properties%22%3A%20%7B%22file%22%3A%20%22WWP_M_sl3_250m_ll.tif%22%2C%20%22footprint_name%22%3A%20%22WWP%22%2C%20%22path%22%3A%20%22/att/nobackup/pmontesa/userfs02/data/soil_grids%22%7D%2C%20%22type%22%3A%20%22Feature%22%7D%2C%20%7B%22bbox%22%3A%20%5B-180.0%2C%20-56.00081039406058%2C%20179.99994240015582%2C%2083.99916720600001%5D%2C%20%22geometry%22%3A%20%7B%22coordinates%22%3A%20%5B%5B%5B179.99994240015582%2C%20-56.00081039406058%5D%2C%20%5B179.99994240015582%2C%2083.99916720600001%5D%2C%20%5B-180.0%2C%2083.99916720600001%5D%2C%20%5B-180.0%2C%20-56.00081039406058%5D%2C%20%5B179.99994240015582%2C%20-56.00081039406058%5D%5D%5D%2C%20%22type%22%3A%20%22Polygon%22%7D%2C%20%22id%22%3A%20%2273%22%2C%20%22properties%22%3A%20%7B%22file%22%3A%20%22CECSOL_M_sl6_250m_ll.tif%22%2C%20%22footprint_name%22%3A%20%22CECSOL%22%2C%20%22path%22%3A%20%22/att/nobackup/pmontesa/userfs02/data/soil_grids%22%7D%2C%20%22type%22%3A%20%22Feature%22%7D%5D%2C%20%22type%22%3A%20%22FeatureCollection%22%7D%29%3B%0A%0A%20%20%20%20%20%20%20%20%0A%20%20%20%20%0A%20%20%20%20geo_json_7251a222fd9a4fb8b5a55825a809b227.bindTooltip%28%0A%20%20%20%20function%28layer%29%7B%0A%20%20%20%20let%20div%20%3D%20L.DomUtil.create%28%27div%27%29%3B%0A%20%20%20%20%0A%20%20%20%20let%20handleObject%20%3D%20feature%3D%3Etypeof%28feature%29%3D%3D%27object%27%20%3F%20JSON.stringify%28feature%29%20%3A%20feature%3B%0A%20%20%20%20let%20fields%20%3D%20%5B%22file%22%5D%3B%0A%20%20%20%20let%20aliases%20%3D%20%5B%22file%3A%22%5D%3B%0A%20%20%20%20let%20table%20%3D%20%27%3Ctable%3E%27%20%2B%0A%20%20%20%20%20%20%20%20String%28%0A%20%20%20%20%20%20%20%20fields.map%28%0A%20%20%20%20%20%20%20%20%28v%2Ci%29%3D%3E%0A%20%20%20%20%20%20%20%20%60%3Ctr%3E%0A%20%20%20%20%20%20%20%20%20%20%20%20%3Cth%3E%24%7Baliases%5Bi%5D%7D%3C/th%3E%0A%20%20%20%20%20%20%20%20%20%20%20%20%0A%20%20%20%20%20%20%20%20%20%20%20%20%3Ctd%3E%24%7BhandleObject%28layer.feature.properties%5Bv%5D%29%7D%3C/td%3E%0A%20%20%20%20%20%20%20%20%3C/tr%3E%60%29.join%28%27%27%29%29%0A%20%20%20%20%2B%27%3C/table%3E%27%3B%0A%20%20%20%20div.innerHTML%3Dtable%3B%0A%20%20%20%20%0A%20%20%20%20return%20div%0A%20%20%20%20%7D%0A%20%20%20%20%2C%7B%22className%22%3A%20%22foliumtooltip%22%2C%20%22sticky%22%3A%20true%7D%29%3B%0A%20%20%20%20%20%20%20%20%20%20%20%20%20%20%20%20%20%20%20%20%20%0A%20%20%20%20%0A%20%20%20%20%20%20%20%20%20%20%20%20var%20tile_layer_e66a7286d3ba49ccab7dc048838691e2%20%3D%20L.tileLayer%28%0A%20%20%20%20%20%20%20%20%20%20%20%20%20%20%20%20%22https%3A//services.arcgisonline.com/arcgis/rest/services/World_Imagery/MapServer/tile/%7Bz%7D/%7By%7D/%7Bx%7D%22%2C%0A%20%20%20%20%20%20%20%20%20%20%20%20%20%20%20%20%7B%22attribution%22%3A%20%22ESRI%22%2C%20%22detectRetina%22%3A%20false%2C%20%22maxNativeZoom%22%3A%2018%2C%20%22maxZoom%22%3A%2018%2C%20%22minZoom%22%3A%200%2C%20%22noWrap%22%3A%20false%2C%20%22opacity%22%3A%201%2C%20%22subdomains%22%3A%20%22abc%22%2C%20%22tms%22%3A%20false%7D%0A%20%20%20%20%20%20%20%20%20%20%20%20%29.addTo%28map_e5a2e48408ee466c9c854f10d161c289%29%3B%0A%20%20%20%20%20%20%20%20%0A%20%20%20%20%0A%20%20%20%20%20%20%20%20%20%20%20%20var%20tile_layer_62fc25ad47444ba9bd95758acab54202%20%3D%20L.tileLayer%28%0A%20%20%20%20%20%20%20%20%20%20%20%20%20%20%20%20%22http%3A//services.arcgisonline.com/ArcGIS/rest/services/Canvas/World_Light_Gray_Base/MapServer/tile/%7Bz%7D/%7By%7D/%7Bx%7D%22%2C%0A%20%20%20%20%20%20%20%20%20%20%20%20%20%20%20%20%7B%22attribution%22%3A%20%22ESRI%22%2C%20%22detectRetina%22%3A%20false%2C%20%22maxNativeZoom%22%3A%2018%2C%20%22maxZoom%22%3A%2018%2C%20%22minZoom%22%3A%200%2C%20%22noWrap%22%3A%20false%2C%20%22opacity%22%3A%201%2C%20%22subdomains%22%3A%20%22abc%22%2C%20%22tms%22%3A%20false%7D%0A%20%20%20%20%20%20%20%20%20%20%20%20%29.addTo%28map_e5a2e48408ee466c9c854f10d161c289%29%3B%0A%20%20%20%20%20%20%20%20%0A%20%20%20%20%0A%20%20%20%20%20%20%20%20%20%20%20%20var%20tile_layer_391db6ca6c034172870e65864228a991%20%3D%20L.tileLayer%28%0A%20%20%20%20%20%20%20%20%20%20%20%20%20%20%20%20%22https%3A//server.arcgisonline.com/ArcGIS/rest/services/NatGeo_World_Map/MapServer/tile/%7Bz%7D/%7By%7D/%7Bx%7D%22%2C%0A%20%20%20%20%20%20%20%20%20%20%20%20%20%20%20%20%7B%22attribution%22%3A%20%22ESRI%22%2C%20%22detectRetina%22%3A%20false%2C%20%22maxNativeZoom%22%3A%2018%2C%20%22maxZoom%22%3A%2018%2C%20%22minZoom%22%3A%200%2C%20%22noWrap%22%3A%20false%2C%20%22opacity%22%3A%201%2C%20%22subdomains%22%3A%20%22abc%22%2C%20%22tms%22%3A%20false%7D%0A%20%20%20%20%20%20%20%20%20%20%20%20%29.addTo%28map_e5a2e48408ee466c9c854f10d161c289%29%3B%0A%20%20%20%20%20%20%20%20%0A%20%20%20%20%0A%20%20%20%20%20%20%20%20%20%20%20%20var%20layer_control_541a47ad73bd41f794b37173f6453dba%20%3D%20%7B%0A%20%20%20%20%20%20%20%20%20%20%20%20%20%20%20%20base_layers%20%3A%20%7B%0A%20%20%20%20%20%20%20%20%20%20%20%20%20%20%20%20%20%20%20%20%22World%20Imagery%22%20%3A%20tile_layer_e66a7286d3ba49ccab7dc048838691e2%2C%0A%20%20%20%20%20%20%20%20%20%20%20%20%20%20%20%20%20%20%20%20%22World%20gray%20basemap%22%20%3A%20tile_layer_62fc25ad47444ba9bd95758acab54202%2C%0A%20%20%20%20%20%20%20%20%20%20%20%20%20%20%20%20%20%20%20%20%22ESRI%20NatGeo%22%20%3A%20tile_layer_391db6ca6c034172870e65864228a991%2C%0A%20%20%20%20%20%20%20%20%20%20%20%20%20%20%20%20%7D%2C%0A%20%20%20%20%20%20%20%20%20%20%20%20%20%20%20%20overlays%20%3A%20%20%7B%0A%20%20%20%20%20%20%20%20%20%20%20%20%20%20%20%20%20%20%20%20%22footprints%22%20%3A%20geo_json_7251a222fd9a4fb8b5a55825a809b227%2C%0A%20%20%20%20%20%20%20%20%20%20%20%20%20%20%20%20%7D%2C%0A%20%20%20%20%20%20%20%20%20%20%20%20%7D%3B%0A%20%20%20%20%20%20%20%20%20%20%20%20L.control.layers%28%0A%20%20%20%20%20%20%20%20%20%20%20%20%20%20%20%20layer_control_541a47ad73bd41f794b37173f6453dba.base_layers%2C%0A%20%20%20%20%20%20%20%20%20%20%20%20%20%20%20%20layer_control_541a47ad73bd41f794b37173f6453dba.overlays%2C%0A%20%20%20%20%20%20%20%20%20%20%20%20%20%20%20%20%7B%22autoZIndex%22%3A%20true%2C%20%22collapsed%22%3A%20true%2C%20%22position%22%3A%20%22topright%22%7D%0A%20%20%20%20%20%20%20%20%20%20%20%20%29.addTo%28map_e5a2e48408ee466c9c854f10d161c289%29%3B%0A%20%20%20%20%20%20%20%20%20%20%20%20tile_layer_62fc25ad47444ba9bd95758acab54202.remove%28%29%3B%0A%20%20%20%20%20%20%20%20%20%20%20%20tile_layer_391db6ca6c034172870e65864228a991.remove%28%29%3B%0A%20%20%20%20%20%20%20%20%0A%20%20%20%20%0A%20%20%20%20%20%20%20%20%20%20%20%20L.Control.geocoder%28%0A%20%20%20%20%20%20%20%20%20%20%20%20%20%20%20%20%7B%22collapsed%22%3A%20false%2C%20%22defaultMarkGeocode%22%3A%20true%2C%20%22position%22%3A%20%22topright%22%7D%0A%20%20%20%20%20%20%20%20%20%20%20%20%29.on%28%27markgeocode%27%2C%20function%28e%29%20%7B%0A%20%20%20%20%20%20%20%20%20%20%20%20%20%20%20%20map_e5a2e48408ee466c9c854f10d161c289.setView%28e.geocode.center%2C%2011%29%3B%0A%20%20%20%20%20%20%20%20%20%20%20%20%7D%29.addTo%28map_e5a2e48408ee466c9c854f10d161c289%29%3B%0A%0A%20%20%20%20%20%20%20%20%0A%20%20%20%20%0A%20%20%20%20%20%20%20%20%20%20%20%20var%20mouse_position_080eb8903df849959bbd0dcbe97a90d6%20%3D%20new%20L.Control.MousePosition%28%0A%20%20%20%20%20%20%20%20%20%20%20%20%20%20%20%20%7B%22emptyString%22%3A%20%22Unavailable%22%2C%20%22lngFirst%22%3A%20false%2C%20%22numDigits%22%3A%205%2C%20%22position%22%3A%20%22bottomright%22%2C%20%22prefix%22%3A%20%22%22%2C%20%22separator%22%3A%20%22%20%3A%20%22%7D%0A%20%20%20%20%20%20%20%20%20%20%20%20%29%3B%0A%20%20%20%20%20%20%20%20%20%20%20%20mouse_position_080eb8903df849959bbd0dcbe97a90d6.options%5B%22latFormatter%22%5D%20%3D%0A%20%20%20%20%20%20%20%20%20%20%20%20%20%20%20%20undefined%3B%0A%20%20%20%20%20%20%20%20%20%20%20%20mouse_position_080eb8903df849959bbd0dcbe97a90d6.options%5B%22lngFormatter%22%5D%20%3D%0A%20%20%20%20%20%20%20%20%20%20%20%20%20%20%20%20undefined%3B%0A%20%20%20%20%20%20%20%20%20%20%20%20map_e5a2e48408ee466c9c854f10d161c289.addControl%28mouse_position_080eb8903df849959bbd0dcbe97a90d6%29%3B%0A%20%20%20%20%20%20%20%20%0A%20%20%20%20%0A%20%20%20%20%20%20%20%20%20%20%20%20var%20tile_layer_1b8a85123d964ee6bdc1e4547e80aa04%20%3D%20L.tileLayer%28%0A%20%20%20%20%20%20%20%20%20%20%20%20%20%20%20%20%22https%3A//%7Bs%7D.tile.openstreetmap.org/%7Bz%7D/%7Bx%7D/%7By%7D.png%22%2C%0A%20%20%20%20%20%20%20%20%20%20%20%20%20%20%20%20%7B%22attribution%22%3A%20%22Data%20by%20%5Cu0026copy%3B%20%5Cu003ca%20href%3D%5C%22http%3A//openstreetmap.org%5C%22%5Cu003eOpenStreetMap%5Cu003c/a%5Cu003e%2C%20under%20%5Cu003ca%20href%3D%5C%22http%3A//www.openstreetmap.org/copyright%5C%22%5Cu003eODbL%5Cu003c/a%5Cu003e.%22%2C%20%22detectRetina%22%3A%20false%2C%20%22maxNativeZoom%22%3A%2018%2C%20%22maxZoom%22%3A%2018%2C%20%22minZoom%22%3A%200%2C%20%22noWrap%22%3A%20false%2C%20%22opacity%22%3A%201%2C%20%22subdomains%22%3A%20%22abc%22%2C%20%22tms%22%3A%20false%7D%0A%20%20%20%20%20%20%20%20%20%20%20%20%29%3B%0A%20%20%20%20%20%20%20%20%20%20%20%20var%20mini_map_06ee25922e1e408db9b7acb67c0c5b2f%20%3D%20new%20L.Control.MiniMap%28%0A%20%20%20%20%20%20%20%20%20%20%20%20%20%20%20%20tile_layer_1b8a85123d964ee6bdc1e4547e80aa04%2C%0A%20%20%20%20%20%20%20%20%20%20%20%20%20%20%20%20%7B%22autoToggleDisplay%22%3A%20false%2C%20%22centerFixed%22%3A%20false%2C%20%22collapsedHeight%22%3A%2025%2C%20%22collapsedWidth%22%3A%2025%2C%20%22height%22%3A%20150%2C%20%22minimized%22%3A%20false%2C%20%22position%22%3A%20%22bottomright%22%2C%20%22toggleDisplay%22%3A%20false%2C%20%22width%22%3A%20150%2C%20%22zoomAnimation%22%3A%20false%2C%20%22zoomLevelOffset%22%3A%20-5%7D%0A%20%20%20%20%20%20%20%20%20%20%20%20%29%3B%0A%20%20%20%20%20%20%20%20%20%20%20%20map_e5a2e48408ee466c9c854f10d161c289.addControl%28mini_map_06ee25922e1e408db9b7acb67c0c5b2f%29%3B%0A%20%20%20%20%20%20%20%20%0A%3C/script%3E onload=\"this.contentDocument.open();this.contentDocument.write(    decodeURIComponent(this.getAttribute('data-html')));this.contentDocument.close();\" \"allowfullscreen\" \"webkitallowfullscreen\" \"mozallowfullscreen\"></iframe>"
      ],
      "text/plain": [
       "<folium.folium.Map at 0x2aefcd45d250>"
      ]
     },
     "execution_count": 55,
     "metadata": {},
     "output_type": "execute_result"
    }
   ],
   "source": [
    "#maplib.MAP_LAYER_FOLIUM(footprint_gdf.iloc[[3,5]], zoom_start=2)\n",
    "maplib.MAP_LAYER_FOLIUM(footprint_gdf, LAYER_COL_NAME='file', zoom_start=2, lon_start=0)"
   ]
  },
  {
   "cell_type": "markdown",
   "metadata": {
    "tags": []
   },
   "source": [
    "### Manually check footprint for a single image"
   ]
  },
  {
   "cell_type": "code",
   "execution_count": 30,
   "metadata": {},
   "outputs": [
    {
     "data": {
      "text/html": [
       "<iframe src=\"about:blank\" width=\"1000\" height=\"400\"style=\"border:none !important;\" data-html=%3C%21DOCTYPE%20html%3E%0A%3Chead%3E%20%20%20%20%0A%20%20%20%20%3Cmeta%20http-equiv%3D%22content-type%22%20content%3D%22text/html%3B%20charset%3DUTF-8%22%20/%3E%0A%20%20%20%20%0A%20%20%20%20%20%20%20%20%3Cscript%3E%0A%20%20%20%20%20%20%20%20%20%20%20%20L_NO_TOUCH%20%3D%20false%3B%0A%20%20%20%20%20%20%20%20%20%20%20%20L_DISABLE_3D%20%3D%20false%3B%0A%20%20%20%20%20%20%20%20%3C/script%3E%0A%20%20%20%20%0A%20%20%20%20%3Cstyle%3Ehtml%2C%20body%20%7Bwidth%3A%20100%25%3Bheight%3A%20100%25%3Bmargin%3A%200%3Bpadding%3A%200%3B%7D%3C/style%3E%0A%20%20%20%20%3Cstyle%3E%23map%20%7Bposition%3Aabsolute%3Btop%3A0%3Bbottom%3A0%3Bright%3A0%3Bleft%3A0%3B%7D%3C/style%3E%0A%20%20%20%20%3Cscript%20src%3D%22https%3A//cdn.jsdelivr.net/npm/leaflet%401.6.0/dist/leaflet.js%22%3E%3C/script%3E%0A%20%20%20%20%3Cscript%20src%3D%22https%3A//code.jquery.com/jquery-1.12.4.min.js%22%3E%3C/script%3E%0A%20%20%20%20%3Cscript%20src%3D%22https%3A//maxcdn.bootstrapcdn.com/bootstrap/3.2.0/js/bootstrap.min.js%22%3E%3C/script%3E%0A%20%20%20%20%3Cscript%20src%3D%22https%3A//cdnjs.cloudflare.com/ajax/libs/Leaflet.awesome-markers/2.0.2/leaflet.awesome-markers.js%22%3E%3C/script%3E%0A%20%20%20%20%3Clink%20rel%3D%22stylesheet%22%20href%3D%22https%3A//cdn.jsdelivr.net/npm/leaflet%401.6.0/dist/leaflet.css%22/%3E%0A%20%20%20%20%3Clink%20rel%3D%22stylesheet%22%20href%3D%22https%3A//maxcdn.bootstrapcdn.com/bootstrap/3.2.0/css/bootstrap.min.css%22/%3E%0A%20%20%20%20%3Clink%20rel%3D%22stylesheet%22%20href%3D%22https%3A//maxcdn.bootstrapcdn.com/bootstrap/3.2.0/css/bootstrap-theme.min.css%22/%3E%0A%20%20%20%20%3Clink%20rel%3D%22stylesheet%22%20href%3D%22https%3A//maxcdn.bootstrapcdn.com/font-awesome/4.6.3/css/font-awesome.min.css%22/%3E%0A%20%20%20%20%3Clink%20rel%3D%22stylesheet%22%20href%3D%22https%3A//cdnjs.cloudflare.com/ajax/libs/Leaflet.awesome-markers/2.0.2/leaflet.awesome-markers.css%22/%3E%0A%20%20%20%20%3Clink%20rel%3D%22stylesheet%22%20href%3D%22https%3A//cdn.jsdelivr.net/gh/python-visualization/folium/folium/templates/leaflet.awesome.rotate.min.css%22/%3E%0A%20%20%20%20%0A%20%20%20%20%20%20%20%20%20%20%20%20%3Cmeta%20name%3D%22viewport%22%20content%3D%22width%3Ddevice-width%2C%0A%20%20%20%20%20%20%20%20%20%20%20%20%20%20%20%20initial-scale%3D1.0%2C%20maximum-scale%3D1.0%2C%20user-scalable%3Dno%22%20/%3E%0A%20%20%20%20%20%20%20%20%20%20%20%20%3Cstyle%3E%0A%20%20%20%20%20%20%20%20%20%20%20%20%20%20%20%20%23map_6821777ecd7f42c488b936a1b2d1a5dd%20%7B%0A%20%20%20%20%20%20%20%20%20%20%20%20%20%20%20%20%20%20%20%20position%3A%20relative%3B%0A%20%20%20%20%20%20%20%20%20%20%20%20%20%20%20%20%20%20%20%20width%3A%20100.0%25%3B%0A%20%20%20%20%20%20%20%20%20%20%20%20%20%20%20%20%20%20%20%20height%3A%20100.0%25%3B%0A%20%20%20%20%20%20%20%20%20%20%20%20%20%20%20%20%20%20%20%20left%3A%200.0%25%3B%0A%20%20%20%20%20%20%20%20%20%20%20%20%20%20%20%20%20%20%20%20top%3A%200.0%25%3B%0A%20%20%20%20%20%20%20%20%20%20%20%20%20%20%20%20%7D%0A%20%20%20%20%20%20%20%20%20%20%20%20%3C/style%3E%0A%20%20%20%20%20%20%20%20%0A%20%20%20%20%0A%20%20%20%20%20%20%20%20%20%20%20%20%20%20%20%20%20%20%20%20%3Cstyle%3E%0A%20%20%20%20%20%20%20%20%20%20%20%20%20%20%20%20%20%20%20%20%20%20%20%20.foliumtooltip%20%7B%0A%20%20%20%20%20%20%20%20%20%20%20%20%20%20%20%20%20%20%20%20%20%20%20%20%20%20%20%20%0A%20%20%20%20%20%20%20%20%20%20%20%20%20%20%20%20%20%20%20%20%20%20%20%20%7D%0A%20%20%20%20%20%20%20%20%20%20%20%20%20%20%20%20%20%20%20%20%20%20%20.foliumtooltip%20table%7B%0A%20%20%20%20%20%20%20%20%20%20%20%20%20%20%20%20%20%20%20%20%20%20%20%20%20%20%20%20margin%3A%20auto%3B%0A%20%20%20%20%20%20%20%20%20%20%20%20%20%20%20%20%20%20%20%20%20%20%20%20%7D%0A%20%20%20%20%20%20%20%20%20%20%20%20%20%20%20%20%20%20%20%20%20%20%20%20.foliumtooltip%20tr%7B%0A%20%20%20%20%20%20%20%20%20%20%20%20%20%20%20%20%20%20%20%20%20%20%20%20%20%20%20%20text-align%3A%20left%3B%0A%20%20%20%20%20%20%20%20%20%20%20%20%20%20%20%20%20%20%20%20%20%20%20%20%7D%0A%20%20%20%20%20%20%20%20%20%20%20%20%20%20%20%20%20%20%20%20%20%20%20%20.foliumtooltip%20th%7B%0A%20%20%20%20%20%20%20%20%20%20%20%20%20%20%20%20%20%20%20%20%20%20%20%20%20%20%20%20padding%3A%202px%3B%20padding-right%3A%208px%3B%0A%20%20%20%20%20%20%20%20%20%20%20%20%20%20%20%20%20%20%20%20%20%20%20%20%7D%0A%20%20%20%20%20%20%20%20%20%20%20%20%20%20%20%20%20%20%20%20%3C/style%3E%0A%20%20%20%20%20%20%20%20%20%20%20%20%0A%20%20%20%20%3Cscript%20src%3D%22https%3A//unpkg.com/leaflet-control-geocoder/dist/Control.Geocoder.js%22%3E%3C/script%3E%0A%20%20%20%20%3Clink%20rel%3D%22stylesheet%22%20href%3D%22https%3A//unpkg.com/leaflet-control-geocoder/dist/Control.Geocoder.css%22/%3E%0A%20%20%20%20%3Cscript%20src%3D%22https%3A//cdn.jsdelivr.net/gh/ardhi/Leaflet.MousePosition/src/L.Control.MousePosition.min.js%22%3E%3C/script%3E%0A%20%20%20%20%3Clink%20rel%3D%22stylesheet%22%20href%3D%22https%3A//cdn.jsdelivr.net/gh/ardhi/Leaflet.MousePosition/src/L.Control.MousePosition.min.css%22/%3E%0A%20%20%20%20%3Cscript%20src%3D%22https%3A//cdnjs.cloudflare.com/ajax/libs/leaflet-minimap/3.6.1/Control.MiniMap.js%22%3E%3C/script%3E%0A%20%20%20%20%3Clink%20rel%3D%22stylesheet%22%20href%3D%22https%3A//cdnjs.cloudflare.com/ajax/libs/leaflet-minimap/3.6.1/Control.MiniMap.css%22/%3E%0A%3C/head%3E%0A%3Cbody%3E%20%20%20%20%0A%20%20%20%20%0A%20%20%20%20%20%20%20%20%20%20%20%20%3Cdiv%20class%3D%22folium-map%22%20id%3D%22map_6821777ecd7f42c488b936a1b2d1a5dd%22%20%3E%3C/div%3E%0A%20%20%20%20%20%20%20%20%0A%3C/body%3E%0A%3Cscript%3E%20%20%20%20%0A%20%20%20%20%0A%20%20%20%20%20%20%20%20%20%20%20%20var%20map_6821777ecd7f42c488b936a1b2d1a5dd%20%3D%20L.map%28%0A%20%20%20%20%20%20%20%20%20%20%20%20%20%20%20%20%22map_6821777ecd7f42c488b936a1b2d1a5dd%22%2C%0A%20%20%20%20%20%20%20%20%20%20%20%20%20%20%20%20%7B%0A%20%20%20%20%20%20%20%20%20%20%20%20%20%20%20%20%20%20%20%20center%3A%20%5B60.0%2C%200.0%5D%2C%0A%20%20%20%20%20%20%20%20%20%20%20%20%20%20%20%20%20%20%20%20crs%3A%20L.CRS.EPSG3857%2C%0A%20%20%20%20%20%20%20%20%20%20%20%20%20%20%20%20%20%20%20%20zoom%3A%202%2C%0A%20%20%20%20%20%20%20%20%20%20%20%20%20%20%20%20%20%20%20%20zoomControl%3A%20true%2C%0A%20%20%20%20%20%20%20%20%20%20%20%20%20%20%20%20%20%20%20%20preferCanvas%3A%20false%2C%0A%20%20%20%20%20%20%20%20%20%20%20%20%20%20%20%20%7D%0A%20%20%20%20%20%20%20%20%20%20%20%20%29%3B%0A%20%20%20%20%20%20%20%20%20%20%20%20L.control.scale%28%29.addTo%28map_6821777ecd7f42c488b936a1b2d1a5dd%29%3B%0A%0A%20%20%20%20%20%20%20%20%20%20%20%20%0A%0A%20%20%20%20%20%20%20%20%0A%20%20%20%20%0A%20%20%20%20%20%20%20%20function%20geo_json_ee52d864040344208646009b2a439fcc_styler%28feature%29%20%7B%0A%20%20%20%20%20%20%20%20%20%20%20%20switch%28feature.id%29%20%7B%0A%20%20%20%20%20%20%20%20%20%20%20%20%20%20%20%20default%3A%0A%20%20%20%20%20%20%20%20%20%20%20%20%20%20%20%20%20%20%20%20return%20%7B%22color%22%3A%20%22red%22%2C%20%22fillColor%22%3A%20%22gray%22%2C%20%22fillOpacity%22%3A%200.5%2C%20%22opacity%22%3A%201%2C%20%22weight%22%3A%200.75%7D%3B%0A%20%20%20%20%20%20%20%20%20%20%20%20%7D%0A%20%20%20%20%20%20%20%20%7D%0A%0A%20%20%20%20%20%20%20%20function%20geo_json_ee52d864040344208646009b2a439fcc_onEachFeature%28feature%2C%20layer%29%20%7B%0A%20%20%20%20%20%20%20%20%20%20%20%20layer.on%28%7B%0A%20%20%20%20%20%20%20%20%20%20%20%20%7D%29%3B%0A%20%20%20%20%20%20%20%20%7D%3B%0A%20%20%20%20%20%20%20%20var%20geo_json_ee52d864040344208646009b2a439fcc%20%3D%20L.geoJson%28null%2C%20%7B%0A%20%20%20%20%20%20%20%20%20%20%20%20%20%20%20%20onEachFeature%3A%20geo_json_ee52d864040344208646009b2a439fcc_onEachFeature%2C%0A%20%20%20%20%20%20%20%20%20%20%20%20%0A%20%20%20%20%20%20%20%20%20%20%20%20%20%20%20%20style%3A%20geo_json_ee52d864040344208646009b2a439fcc_styler%2C%0A%20%20%20%20%20%20%20%20%7D%29%3B%0A%0A%20%20%20%20%20%20%20%20function%20geo_json_ee52d864040344208646009b2a439fcc_add%20%28data%29%20%7B%0A%20%20%20%20%20%20%20%20%20%20%20%20geo_json_ee52d864040344208646009b2a439fcc%0A%20%20%20%20%20%20%20%20%20%20%20%20%20%20%20%20.addData%28data%29%0A%20%20%20%20%20%20%20%20%20%20%20%20%20%20%20%20.addTo%28map_6821777ecd7f42c488b936a1b2d1a5dd%29%3B%0A%20%20%20%20%20%20%20%20%7D%0A%20%20%20%20%20%20%20%20%20%20%20%20geo_json_ee52d864040344208646009b2a439fcc_add%28%7B%22bbox%22%3A%20%5B-180.0%2C%20-90.0%2C%20180.0%2C%2090.0%5D%2C%20%22features%22%3A%20%5B%7B%22bbox%22%3A%20%5B-180.0%2C%20-90.0%2C%20180.0%2C%2090.0%5D%2C%20%22geometry%22%3A%20%7B%22coordinates%22%3A%20%5B%5B%5B180.0%2C%20-90.0%5D%2C%20%5B180.0%2C%2090.0%5D%2C%20%5B-180.0%2C%2090.0%5D%2C%20%5B-180.0%2C%20-90.0%5D%2C%20%5B180.0%2C%20-90.0%5D%5D%5D%2C%20%22type%22%3A%20%22Polygon%22%7D%2C%20%22id%22%3A%20%220%22%2C%20%22properties%22%3A%20%7B%22file%22%3A%20%22wc2.0_bio_30s_01.tif%22%2C%20%22footprint_name%22%3A%20null%2C%20%22path%22%3A%20%22/att/nobackup/pmontesa/userfs02/data/worldclim/1km/bioclim/wc2.0_30s_bio%22%7D%2C%20%22type%22%3A%20%22Feature%22%7D%5D%2C%20%22type%22%3A%20%22FeatureCollection%22%7D%29%3B%0A%0A%20%20%20%20%20%20%20%20%0A%20%20%20%20%0A%20%20%20%20geo_json_ee52d864040344208646009b2a439fcc.bindTooltip%28%0A%20%20%20%20function%28layer%29%7B%0A%20%20%20%20let%20div%20%3D%20L.DomUtil.create%28%27div%27%29%3B%0A%20%20%20%20%0A%20%20%20%20let%20handleObject%20%3D%20feature%3D%3Etypeof%28feature%29%3D%3D%27object%27%20%3F%20JSON.stringify%28feature%29%20%3A%20feature%3B%0A%20%20%20%20let%20fields%20%3D%20%5B%22path%22%5D%3B%0A%20%20%20%20let%20aliases%20%3D%20%5B%22path%3A%22%5D%3B%0A%20%20%20%20let%20table%20%3D%20%27%3Ctable%3E%27%20%2B%0A%20%20%20%20%20%20%20%20String%28%0A%20%20%20%20%20%20%20%20fields.map%28%0A%20%20%20%20%20%20%20%20%28v%2Ci%29%3D%3E%0A%20%20%20%20%20%20%20%20%60%3Ctr%3E%0A%20%20%20%20%20%20%20%20%20%20%20%20%3Cth%3E%24%7Baliases%5Bi%5D%7D%3C/th%3E%0A%20%20%20%20%20%20%20%20%20%20%20%20%0A%20%20%20%20%20%20%20%20%20%20%20%20%3Ctd%3E%24%7BhandleObject%28layer.feature.properties%5Bv%5D%29%7D%3C/td%3E%0A%20%20%20%20%20%20%20%20%3C/tr%3E%60%29.join%28%27%27%29%29%0A%20%20%20%20%2B%27%3C/table%3E%27%3B%0A%20%20%20%20div.innerHTML%3Dtable%3B%0A%20%20%20%20%0A%20%20%20%20return%20div%0A%20%20%20%20%7D%0A%20%20%20%20%2C%7B%22className%22%3A%20%22foliumtooltip%22%2C%20%22sticky%22%3A%20true%7D%29%3B%0A%20%20%20%20%20%20%20%20%20%20%20%20%20%20%20%20%20%20%20%20%20%0A%20%20%20%20%0A%20%20%20%20%20%20%20%20%20%20%20%20var%20tile_layer_e66a7286d3ba49ccab7dc048838691e2%20%3D%20L.tileLayer%28%0A%20%20%20%20%20%20%20%20%20%20%20%20%20%20%20%20%22https%3A//services.arcgisonline.com/arcgis/rest/services/World_Imagery/MapServer/tile/%7Bz%7D/%7By%7D/%7Bx%7D%22%2C%0A%20%20%20%20%20%20%20%20%20%20%20%20%20%20%20%20%7B%22attribution%22%3A%20%22ESRI%22%2C%20%22detectRetina%22%3A%20false%2C%20%22maxNativeZoom%22%3A%2018%2C%20%22maxZoom%22%3A%2018%2C%20%22minZoom%22%3A%200%2C%20%22noWrap%22%3A%20false%2C%20%22opacity%22%3A%201%2C%20%22subdomains%22%3A%20%22abc%22%2C%20%22tms%22%3A%20false%7D%0A%20%20%20%20%20%20%20%20%20%20%20%20%29.addTo%28map_6821777ecd7f42c488b936a1b2d1a5dd%29%3B%0A%20%20%20%20%20%20%20%20%0A%20%20%20%20%0A%20%20%20%20%20%20%20%20%20%20%20%20var%20tile_layer_62fc25ad47444ba9bd95758acab54202%20%3D%20L.tileLayer%28%0A%20%20%20%20%20%20%20%20%20%20%20%20%20%20%20%20%22http%3A//services.arcgisonline.com/ArcGIS/rest/services/Canvas/World_Light_Gray_Base/MapServer/tile/%7Bz%7D/%7By%7D/%7Bx%7D%22%2C%0A%20%20%20%20%20%20%20%20%20%20%20%20%20%20%20%20%7B%22attribution%22%3A%20%22ESRI%22%2C%20%22detectRetina%22%3A%20false%2C%20%22maxNativeZoom%22%3A%2018%2C%20%22maxZoom%22%3A%2018%2C%20%22minZoom%22%3A%200%2C%20%22noWrap%22%3A%20false%2C%20%22opacity%22%3A%201%2C%20%22subdomains%22%3A%20%22abc%22%2C%20%22tms%22%3A%20false%7D%0A%20%20%20%20%20%20%20%20%20%20%20%20%29.addTo%28map_6821777ecd7f42c488b936a1b2d1a5dd%29%3B%0A%20%20%20%20%20%20%20%20%0A%20%20%20%20%0A%20%20%20%20%20%20%20%20%20%20%20%20var%20tile_layer_391db6ca6c034172870e65864228a991%20%3D%20L.tileLayer%28%0A%20%20%20%20%20%20%20%20%20%20%20%20%20%20%20%20%22https%3A//server.arcgisonline.com/ArcGIS/rest/services/NatGeo_World_Map/MapServer/tile/%7Bz%7D/%7By%7D/%7Bx%7D%22%2C%0A%20%20%20%20%20%20%20%20%20%20%20%20%20%20%20%20%7B%22attribution%22%3A%20%22ESRI%22%2C%20%22detectRetina%22%3A%20false%2C%20%22maxNativeZoom%22%3A%2018%2C%20%22maxZoom%22%3A%2018%2C%20%22minZoom%22%3A%200%2C%20%22noWrap%22%3A%20false%2C%20%22opacity%22%3A%201%2C%20%22subdomains%22%3A%20%22abc%22%2C%20%22tms%22%3A%20false%7D%0A%20%20%20%20%20%20%20%20%20%20%20%20%29.addTo%28map_6821777ecd7f42c488b936a1b2d1a5dd%29%3B%0A%20%20%20%20%20%20%20%20%0A%20%20%20%20%0A%20%20%20%20%20%20%20%20%20%20%20%20var%20layer_control_7182ed3952a84625ba4b0bffb97698ac%20%3D%20%7B%0A%20%20%20%20%20%20%20%20%20%20%20%20%20%20%20%20base_layers%20%3A%20%7B%0A%20%20%20%20%20%20%20%20%20%20%20%20%20%20%20%20%20%20%20%20%22World%20Imagery%22%20%3A%20tile_layer_e66a7286d3ba49ccab7dc048838691e2%2C%0A%20%20%20%20%20%20%20%20%20%20%20%20%20%20%20%20%20%20%20%20%22World%20gray%20basemap%22%20%3A%20tile_layer_62fc25ad47444ba9bd95758acab54202%2C%0A%20%20%20%20%20%20%20%20%20%20%20%20%20%20%20%20%20%20%20%20%22ESRI%20NatGeo%22%20%3A%20tile_layer_391db6ca6c034172870e65864228a991%2C%0A%20%20%20%20%20%20%20%20%20%20%20%20%20%20%20%20%7D%2C%0A%20%20%20%20%20%20%20%20%20%20%20%20%20%20%20%20overlays%20%3A%20%20%7B%0A%20%20%20%20%20%20%20%20%20%20%20%20%20%20%20%20%20%20%20%20%22footprints%22%20%3A%20geo_json_ee52d864040344208646009b2a439fcc%2C%0A%20%20%20%20%20%20%20%20%20%20%20%20%20%20%20%20%7D%2C%0A%20%20%20%20%20%20%20%20%20%20%20%20%7D%3B%0A%20%20%20%20%20%20%20%20%20%20%20%20L.control.layers%28%0A%20%20%20%20%20%20%20%20%20%20%20%20%20%20%20%20layer_control_7182ed3952a84625ba4b0bffb97698ac.base_layers%2C%0A%20%20%20%20%20%20%20%20%20%20%20%20%20%20%20%20layer_control_7182ed3952a84625ba4b0bffb97698ac.overlays%2C%0A%20%20%20%20%20%20%20%20%20%20%20%20%20%20%20%20%7B%22autoZIndex%22%3A%20true%2C%20%22collapsed%22%3A%20true%2C%20%22position%22%3A%20%22topright%22%7D%0A%20%20%20%20%20%20%20%20%20%20%20%20%29.addTo%28map_6821777ecd7f42c488b936a1b2d1a5dd%29%3B%0A%20%20%20%20%20%20%20%20%20%20%20%20tile_layer_62fc25ad47444ba9bd95758acab54202.remove%28%29%3B%0A%20%20%20%20%20%20%20%20%20%20%20%20tile_layer_391db6ca6c034172870e65864228a991.remove%28%29%3B%0A%20%20%20%20%20%20%20%20%0A%20%20%20%20%0A%20%20%20%20%20%20%20%20%20%20%20%20L.Control.geocoder%28%0A%20%20%20%20%20%20%20%20%20%20%20%20%20%20%20%20%7B%22collapsed%22%3A%20false%2C%20%22defaultMarkGeocode%22%3A%20true%2C%20%22position%22%3A%20%22topright%22%7D%0A%20%20%20%20%20%20%20%20%20%20%20%20%29.on%28%27markgeocode%27%2C%20function%28e%29%20%7B%0A%20%20%20%20%20%20%20%20%20%20%20%20%20%20%20%20map_6821777ecd7f42c488b936a1b2d1a5dd.setView%28e.geocode.center%2C%2011%29%3B%0A%20%20%20%20%20%20%20%20%20%20%20%20%7D%29.addTo%28map_6821777ecd7f42c488b936a1b2d1a5dd%29%3B%0A%0A%20%20%20%20%20%20%20%20%0A%20%20%20%20%0A%20%20%20%20%20%20%20%20%20%20%20%20var%20mouse_position_b055787bd0aa413f94efca6943b997d0%20%3D%20new%20L.Control.MousePosition%28%0A%20%20%20%20%20%20%20%20%20%20%20%20%20%20%20%20%7B%22emptyString%22%3A%20%22Unavailable%22%2C%20%22lngFirst%22%3A%20false%2C%20%22numDigits%22%3A%205%2C%20%22position%22%3A%20%22bottomright%22%2C%20%22prefix%22%3A%20%22%22%2C%20%22separator%22%3A%20%22%20%3A%20%22%7D%0A%20%20%20%20%20%20%20%20%20%20%20%20%29%3B%0A%20%20%20%20%20%20%20%20%20%20%20%20mouse_position_b055787bd0aa413f94efca6943b997d0.options%5B%22latFormatter%22%5D%20%3D%0A%20%20%20%20%20%20%20%20%20%20%20%20%20%20%20%20undefined%3B%0A%20%20%20%20%20%20%20%20%20%20%20%20mouse_position_b055787bd0aa413f94efca6943b997d0.options%5B%22lngFormatter%22%5D%20%3D%0A%20%20%20%20%20%20%20%20%20%20%20%20%20%20%20%20undefined%3B%0A%20%20%20%20%20%20%20%20%20%20%20%20map_6821777ecd7f42c488b936a1b2d1a5dd.addControl%28mouse_position_b055787bd0aa413f94efca6943b997d0%29%3B%0A%20%20%20%20%20%20%20%20%0A%20%20%20%20%0A%20%20%20%20%20%20%20%20%20%20%20%20var%20tile_layer_e9561c22de754a16937ee26789f97259%20%3D%20L.tileLayer%28%0A%20%20%20%20%20%20%20%20%20%20%20%20%20%20%20%20%22https%3A//%7Bs%7D.tile.openstreetmap.org/%7Bz%7D/%7Bx%7D/%7By%7D.png%22%2C%0A%20%20%20%20%20%20%20%20%20%20%20%20%20%20%20%20%7B%22attribution%22%3A%20%22Data%20by%20%5Cu0026copy%3B%20%5Cu003ca%20href%3D%5C%22http%3A//openstreetmap.org%5C%22%5Cu003eOpenStreetMap%5Cu003c/a%5Cu003e%2C%20under%20%5Cu003ca%20href%3D%5C%22http%3A//www.openstreetmap.org/copyright%5C%22%5Cu003eODbL%5Cu003c/a%5Cu003e.%22%2C%20%22detectRetina%22%3A%20false%2C%20%22maxNativeZoom%22%3A%2018%2C%20%22maxZoom%22%3A%2018%2C%20%22minZoom%22%3A%200%2C%20%22noWrap%22%3A%20false%2C%20%22opacity%22%3A%201%2C%20%22subdomains%22%3A%20%22abc%22%2C%20%22tms%22%3A%20false%7D%0A%20%20%20%20%20%20%20%20%20%20%20%20%29%3B%0A%20%20%20%20%20%20%20%20%20%20%20%20var%20mini_map_38c3204e1e42454a8e0a2d864ad7e488%20%3D%20new%20L.Control.MiniMap%28%0A%20%20%20%20%20%20%20%20%20%20%20%20%20%20%20%20tile_layer_e9561c22de754a16937ee26789f97259%2C%0A%20%20%20%20%20%20%20%20%20%20%20%20%20%20%20%20%7B%22autoToggleDisplay%22%3A%20false%2C%20%22centerFixed%22%3A%20false%2C%20%22collapsedHeight%22%3A%2025%2C%20%22collapsedWidth%22%3A%2025%2C%20%22height%22%3A%20150%2C%20%22minimized%22%3A%20false%2C%20%22position%22%3A%20%22bottomright%22%2C%20%22toggleDisplay%22%3A%20false%2C%20%22width%22%3A%20150%2C%20%22zoomAnimation%22%3A%20false%2C%20%22zoomLevelOffset%22%3A%20-5%7D%0A%20%20%20%20%20%20%20%20%20%20%20%20%29%3B%0A%20%20%20%20%20%20%20%20%20%20%20%20map_6821777ecd7f42c488b936a1b2d1a5dd.addControl%28mini_map_38c3204e1e42454a8e0a2d864ad7e488%29%3B%0A%20%20%20%20%20%20%20%20%0A%3C/script%3E onload=\"this.contentDocument.open();this.contentDocument.write(    decodeURIComponent(this.getAttribute('data-html')));this.contentDocument.close();\" \"allowfullscreen\" \"webkitallowfullscreen\" \"mozallowfullscreen\"></iframe>"
      ],
      "text/plain": [
       "<folium.folium.Map at 0x2af0e60a8910>"
      ]
     },
     "execution_count": 30,
     "metadata": {},
     "output_type": "execute_result"
    }
   ],
   "source": [
    "r_fn = '/att/nobackup/pmontesa/userfs02/data/MAGT/UiO_PEX_PERPROB_3.0_20171201_2000_2016.tif'\n",
    "r_fn = '/att/nobackup/pmontesa/userfs02/data/soil_grids/CECSOL_M_sl2_250m_ll.tif'\n",
    "r_fn = '/att/nobackup/pmontesa/userfs02/data/worldclim/1km/bioclim/wc2.0_30s_bio/wc2.0_bio_30s_01.tif'\n",
    "footprint_gdf = raster_footprint(r_fn, DO_DATAMASK=d['DO_DATAMASK'], GET_ONLY_DATASETMASK=d['GET_ONLY_DATASETMASK'], R_READ_MODE='r+')\n",
    "maplib.MAP_LAYER_FOLIUM(footprint_gdf, LAYER_COL_NAME='path', zoom_start=2, lon_start=0)"
   ]
  },
  {
   "cell_type": "code",
   "execution_count": null,
   "metadata": {},
   "outputs": [],
   "source": []
  }
 ],
 "metadata": {
  "kernelspec": {
   "display_name": "ilab-kernel",
   "language": "python",
   "name": "python3"
  },
  "language_info": {
   "codemirror_mode": {
    "name": "ipython",
    "version": 3
   },
   "file_extension": ".py",
   "mimetype": "text/x-python",
   "name": "python",
   "nbconvert_exporter": "python",
   "pygments_lexer": "ipython3",
   "version": "3.7.12"
  },
  "toc-autonumbering": false,
  "toc-showcode": true,
  "toc-showmarkdowntxt": true,
  "toc-showtags": false
 },
 "nbformat": 4,
 "nbformat_minor": 4
}
