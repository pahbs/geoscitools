{
 "cells": [
  {
   "cell_type": "markdown",
   "id": "79049aba-d675-47eb-af2b-4ec6b8774999",
   "metadata": {},
   "source": [
    "# Footprint TOA cloudmasks for use with SRLite\n",
    "cloudmasks can be very detailed - so need to be written out as individual (TOA-specific) geodataframes during multiprocessing - then concatenated"
   ]
  },
  {
   "cell_type": "code",
   "execution_count": 1,
   "id": "b6d9f8c3-9eb0-4885-bb10-a7638c9201eb",
   "metadata": {},
   "outputs": [
    {
     "name": "stderr",
     "output_type": "stream",
     "text": [
      "/tmp/ipykernel_244901/2629257221.py:1: UserWarning: Shapely 2.0 is installed, but because PyGEOS is also installed, GeoPandas will still use PyGEOS by default for now. To force to use and test Shapely 2.0, you have to set the environment variable USE_PYGEOS=0. You can do this before starting the Python process, or in your code before importing geopandas:\n",
      "\n",
      "import os\n",
      "os.environ['USE_PYGEOS'] = '0'\n",
      "import geopandas\n",
      "\n",
      "In a future release, GeoPandas will switch to using Shapely by default. If you are using PyGEOS directly (calling PyGEOS functions on geometries from GeoPandas), this will then stop working and you are encouraged to migrate from PyGEOS to Shapely 2.0 (https://shapely.readthedocs.io/en/latest/migration_pygeos.html).\n",
      "  import geopandas as gpd\n"
     ]
    }
   ],
   "source": [
    "import geopandas as gpd\n",
    "import pandas as pd\n",
    "import os, sys\n",
    "sys.path.append('/home/pmontesa/code/geoscitools')\n",
    "import footprintlib\n",
    "import geoscilib\n",
    "\n",
    "import matplotlib.pyplot as plt\n",
    "import contextily as ctx\n",
    "import re\n",
    "import fiona\n",
    "import math\n",
    "import glob"
   ]
  },
  {
   "cell_type": "code",
   "execution_count": 29,
   "id": "ec37754b-664d-43f4-9530-0c0205b573d4",
   "metadata": {},
   "outputs": [
    {
     "data": {
      "text/plain": [
       "<module 'footprintlib' from '/panfs/ccds02/home/pmontesa/code/geoscitools/footprintlib.py'>"
      ]
     },
     "execution_count": 29,
     "metadata": {},
     "output_type": "execute_result"
    }
   ],
   "source": [
    "import importlib\n",
    "import footprintlib\n",
    "importlib.reload(footprintlib)"
   ]
  },
  {
   "cell_type": "code",
   "execution_count": 3,
   "id": "a026876f-a144-4f59-9d0f-38a41f8f1e2f",
   "metadata": {},
   "outputs": [],
   "source": [
    "from multiprocessing import Pool\n",
    "from functools import partial"
   ]
  },
  {
   "cell_type": "markdown",
   "id": "e5c9c373-d943-43c4-821a-c0854ff56adf",
   "metadata": {},
   "source": [
    "### Dirs"
   ]
  },
  {
   "cell_type": "code",
   "execution_count": 13,
   "id": "5df988c1-517b-41f4-8d71-73b809a2e517",
   "metadata": {},
   "outputs": [],
   "source": [
    "MAINDIR = '/explore/nobackup/projects/ilab/data/srlite/products/srlite_1.0.1'\n",
    "OUTDIR = '/explore/nobackup/people/pmontesa/srlite'\n",
    "\n",
    "#TARGET = 'Alaska_ahri_20221004'\n",
    "#TARGET_DIR_TOA = f'/explore/nobackup/projects/ilab/data/srlite/toa/{TARGET}'\n",
    "\n",
    "TARGET = 'alaska/batch_*/4_band'\n",
    "TARGET_DIR_TOA = f'{MAINDIR}/toa/{TARGET}'\n",
    "\n",
    "# Cloudmask dir\n",
    "TARGET_DIR_CLOUDMASK = f'{MAINDIR}/cloudmask/{TARGET}'\n",
    "\n",
    "# Final SRLite output\n",
    "TARGET_DIR_SR = f'{MAINDIR}/srlite/{TARGET}'"
   ]
  },
  {
   "cell_type": "markdown",
   "id": "bb1193d9-dd8e-4553-95fd-a1873943fbc5",
   "metadata": {},
   "source": [
    "## SR: Build gdf"
   ]
  },
  {
   "cell_type": "code",
   "execution_count": 14,
   "id": "edd31e13-ca5c-44c5-bfbb-46aeaa5c262e",
   "metadata": {
    "tags": []
   },
   "outputs": [
    {
     "name": "stdout",
     "output_type": "stream",
     "text": [
      "/explore/nobackup/projects/ilab/data/srlite/products/srlite_1.0.1/srlite/alaska/batch_*/4_band\n",
      "Search returned 2075 SRs\n"
     ]
    }
   ],
   "source": [
    "# Get footprints gdf from a target dir\n",
    "TARGET_DIR_SR = TARGET_DIR_SR.rstrip('/')\n",
    "print(TARGET_DIR_SR)\n",
    "\n",
    "# Get the list of filenames\n",
    "#SEARTH_STRING = '/*/*/5-toas/*toa.tif'\n",
    "SEARTH_STRING = '/split_*/*.tif'\n",
    "\n",
    "f_list_sr = glob.glob(f\"{TARGET_DIR_SR}{SEARTH_STRING}\", recursive=True)\n",
    "print(f'Search returned {len(f_list_sr)} SRs')"
   ]
  },
  {
   "cell_type": "markdown",
   "id": "7c5929cf-15e0-48c0-9ef8-e4676ee513e0",
   "metadata": {
    "tags": []
   },
   "source": [
    "# Footprint the cloudmask\n",
    "To really know where valid data from SRlite exists, footprint the cloudmask"
   ]
  },
  {
   "cell_type": "code",
   "execution_count": 15,
   "id": "157ed5ad-04b3-4131-80a2-2c4fb54ca5bc",
   "metadata": {},
   "outputs": [],
   "source": [
    "CLOUDDIR = os.path.join(MAINDIR, 'cloudmask')"
   ]
  },
  {
   "cell_type": "code",
   "execution_count": 17,
   "id": "2e18d74c-5c9e-465d-80b2-4d24cd3fe364",
   "metadata": {},
   "outputs": [],
   "source": [
    "if False:\n",
    "    import rasterio as rio\n",
    "    from rasterio.crs import CRS\n",
    "    from rasterio.plot import show_hist, show\n",
    "    vhrlib.map_image_band('/explore/nobackup/projects/ilab/data/srlite/products/srlite_1.0.1/cloudmask/split_10/WV02_20101003_M1BS_103001000772AA00-toa.cloudmask.tif', band_num=1, vmin=0, vmax=1)"
   ]
  },
  {
   "cell_type": "code",
   "execution_count": 18,
   "id": "245527d5-65c1-4d09-abf5-8d83f91b0c62",
   "metadata": {},
   "outputs": [
    {
     "name": "stdout",
     "output_type": "stream",
     "text": [
      "/explore/nobackup/projects/ilab/data/srlite/products/srlite_1.0.1/cloudmask\n",
      "Search returned 3109 cloudmasks\n"
     ]
    }
   ],
   "source": [
    "# Get footprints gdf from a target dir\n",
    "TARGET_CLOUDDIR = CLOUDDIR.rstrip('/')\n",
    "print(TARGET_CLOUDDIR)\n",
    "\n",
    "# Get the list of filenames\n",
    "SEARTH_STRING = '/**/*cloudmask.tif'\n",
    "f_list_cloudmask = glob.glob(f\"{TARGET_CLOUDDIR}{SEARTH_STRING}\", recursive=True)\n",
    "print(f'Search returned {len(f_list_cloudmask)} cloudmasks')"
   ]
  },
  {
   "cell_type": "code",
   "execution_count": 19,
   "id": "78a35632-0b75-4698-8347-a4e0d88b120a",
   "metadata": {},
   "outputs": [],
   "source": [
    "# # Make footprint gdfs of the the filenames, concat to single gdf\n",
    "# f_gdf_lst = [footprintlib.raster_footprint(r_fn, DO_DATAMASK=True, GET_ONLY_DATASETMASK=True, MASK_OUT_VALUE=255, R_READ_MODE='r', MANY_CRS=True) for r_fn in f_list_cloudmask[0:1]]\n",
    "# footprint_gdf_cloudmask = footprintlib.build_footprint_db(f_gdf_lst, TO_GCS=False, WRITE_GPKG=False, OUT_F_NAME='', OUT_LYR_NAME=TARGET, DROP_DUPLICATES=True)"
   ]
  },
  {
   "cell_type": "markdown",
   "id": "9d2e199a-4af1-4225-a3e4-bad2dc5b236b",
   "metadata": {},
   "source": [
    "## Return a GDF of the areas of good TOA pixels to help use SRlite\n",
    "eg; we dont want to use SRlite for training in areas that are cloudmasked\n",
    "resulting from a dilation of the cloudmask that will permit tiles of size N_ITER x 2"
   ]
  },
  {
   "cell_type": "code",
   "execution_count": 20,
   "id": "8df16841-99b4-4fca-b6d5-69843fb7081b",
   "metadata": {},
   "outputs": [
    {
     "data": {
      "text/plain": [
       "'alaska/batch_*/4_band'"
      ]
     },
     "execution_count": 20,
     "metadata": {},
     "output_type": "execute_result"
    }
   ],
   "source": [
    "LAND_VAL = 0\n",
    "CLOUD_VAL = 1\n",
    "N_ITER=128\n",
    "TARGET"
   ]
  },
  {
   "cell_type": "markdown",
   "id": "58e1d58b-b8d0-49ec-b7f6-051720fbda3d",
   "metadata": {},
   "source": [
    "### FYI, get the number of unique strips from the paths of TOA cloudmasks"
   ]
  },
  {
   "cell_type": "code",
   "execution_count": 21,
   "id": "3654f9da-850e-4fc6-b6cc-f2228c86cdf1",
   "metadata": {},
   "outputs": [
    {
     "name": "stdout",
     "output_type": "stream",
     "text": [
      "3100 unique TOA strips with cloudmasks\n"
     ]
    },
    {
     "data": {
      "text/plain": [
       "'WV02_20140522_M1BS_10300100302B0F00'"
      ]
     },
     "execution_count": 21,
     "metadata": {},
     "output_type": "execute_result"
    }
   ],
   "source": [
    "stripname_list = list(set([os.path.basename(f).split('-toa')[0] for f in f_list_cloudmask]))\n",
    "print(f'{len(stripname_list)} unique TOA strips with cloudmasks')\n",
    "stripname_list[0]"
   ]
  },
  {
   "cell_type": "markdown",
   "id": "c2b1c2b8-e738-496f-9c86-b354a58652a1",
   "metadata": {},
   "source": [
    "#### Get the list of paths to cloudmasks that correspond to strip names from the paths of SRLite\n",
    "this will contain duplicate strips when they are in different subdirs."
   ]
  },
  {
   "cell_type": "code",
   "execution_count": 22,
   "id": "19592245-446d-4f87-827f-665219ba5abf",
   "metadata": {},
   "outputs": [
    {
     "name": "stdout",
     "output_type": "stream",
     "text": [
      "3109 total TOA strips with cloudmasks\n"
     ]
    },
    {
     "data": {
      "text/plain": [
       "3109"
      ]
     },
     "execution_count": 22,
     "metadata": {},
     "output_type": "execute_result"
    }
   ],
   "source": [
    "f_list_cloudmask_final = [cloudmask for cloudmask in f_list_cloudmask for stripname in stripname_list if stripname in cloudmask]\n",
    "print(f'{len(f_list_cloudmask_final)} total TOA strips with cloudmasks')\n",
    "len(set(f_list_cloudmask_final))"
   ]
  },
  {
   "cell_type": "code",
   "execution_count": 23,
   "id": "984134b0-eba9-47f7-8897-85f33a792984",
   "metadata": {},
   "outputs": [
    {
     "name": "stdout",
     "output_type": "stream",
     "text": [
      "9\n"
     ]
    },
    {
     "data": {
      "text/plain": [
       "['WV02_20130617_M1BS_1030010024CC3100-toa.cloudmask.tif',\n",
       " 'WV02_20121005_M1BS_103001001BA83B00-toa.cloudmask.tif',\n",
       " 'WV02_20190620_M1BS_1030010092635900-toa.cloudmask.tif',\n",
       " 'WV02_20190620_M1BS_103001009409EB00-toa.cloudmask.tif',\n",
       " 'WV03_20200715_M1BS_104001005F2B5A00-toa.cloudmask.tif',\n",
       " 'WV03_20200715_M1BS_104001005E0B2100-toa.cloudmask.tif',\n",
       " 'WV02_20200506_M1BS_10300100A622DE00-toa.cloudmask.tif',\n",
       " 'WV02_20190619_M1BS_103001009367EC00-toa.cloudmask.tif',\n",
       " 'WV02_20190619_M1BS_103001009561CF00-toa.cloudmask.tif']"
      ]
     },
     "execution_count": 23,
     "metadata": {},
     "output_type": "execute_result"
    }
   ],
   "source": [
    "# Find the duplicates\n",
    "import collections\n",
    "dups = [item for item, count in collections.Counter([os.path.basename(f) for f in f_list_cloudmask_final]).items() if count > 1]\n",
    "print(len(dups))\n",
    "dups[0:10]"
   ]
  },
  {
   "cell_type": "code",
   "execution_count": 24,
   "id": "8c384246-c9e5-4afb-a13e-4a14f4fa8727",
   "metadata": {},
   "outputs": [
    {
     "name": "stdout",
     "output_type": "stream",
     "text": [
      "2768 that have been footprinted.\n",
      "336 cloudmasks that need footprinting.\n",
      "/explore/nobackup/projects/ilab/data/srlite/products/srlite_1.0.1/cloudmask/alaska_batch_1/split_6/WV02_20170928_M1BS_103001007388B900-toa.cloudmask.tif\n"
     ]
    }
   ],
   "source": [
    "# Get missing\n",
    "list_footprints_cloudmask_finished = [os.path.basename(f).split('-toa.cloudmask')[0] for f in glob.glob(os.path.join(OUTDIR, 'tmp') + '/*.gpkg' )]\n",
    "print(f'{len(list_footprints_cloudmask_finished)} that have been footprinted.')\n",
    "\n",
    "#list_footprints_cloudmask_missing = [stripname for stripname in stripname_list if stripname not in list_footprints_cloudmask_finished]\n",
    "list_footprints_cloudmask_missing = [r_fn for r_fn in f_list_cloudmask_final if os.path.basename(r_fn).split('-toa.cloudmask')[0] not in list_footprints_cloudmask_finished]\n",
    "\n",
    "print(f'{len(list_footprints_cloudmask_missing)} cloudmasks that need footprinting.')\n",
    "print(list_footprints_cloudmask_missing[0])"
   ]
  },
  {
   "cell_type": "markdown",
   "id": "52987eee-0a8c-4f84-9212-3b6c18401214",
   "metadata": {},
   "source": [
    "### Multiprocess indiv cloudmask GDFs"
   ]
  },
  {
   "cell_type": "code",
   "execution_count": null,
   "id": "986dde36-67c1-49bf-8f45-966e75708407",
   "metadata": {},
   "outputs": [],
   "source": [
    "if False:\n",
    "    f_gdf_lst = [footprintlib.footprint_cloudmask(r_fn, CLOUD_VAL, INVERT=False, N_ITER=N_ITER, OUTDIR=os.path.join(OUTDIR, 'tmp')) for r_fn in list_footprints_cloudmask_missing]\n",
    "else:\n",
    "    from multiprocessing import Pool\n",
    "    from functools import partial\n",
    "\n",
    "    with Pool(processes=30) as pool:\n",
    "        pool.map(partial(footprintlib.footprint_cloudmask, NEW_NDV=CLOUD_VAL, INVERT=False, N_ITER=N_ITER, OUTDIR=os.path.join(OUTDIR, 'tmp')), list_footprints_cloudmask_missing)"
   ]
  },
  {
   "cell_type": "markdown",
   "id": "398025d2-a01e-4635-a3ae-71662090d8bf",
   "metadata": {},
   "source": [
    "### Build a single GDF of all indiv cloudmask footprints for SRLite"
   ]
  },
  {
   "cell_type": "code",
   "execution_count": 26,
   "id": "a292ca98-ea14-48ab-b720-f1233701d683",
   "metadata": {},
   "outputs": [],
   "source": [
    "with Pool(processes=30) as pool:\n",
    "    f_gdf_lst = pool.map(partial(gpd.read_file), [ footprint_fn for footprint_fn in glob.glob(os.path.join(OUTDIR, 'tmp')+'/*gpkg')] )\n",
    "    #f_gdf_lst = [ gpd.read_file(footprint_fn) for footprint_fn in glob.glob(os.path.join(OUTDIR, 'tmp')+'/*gpkg')]"
   ]
  },
  {
   "cell_type": "code",
   "execution_count": 30,
   "id": "15ee8aea-dca5-4cb4-b9a6-7ab85f397fb0",
   "metadata": {},
   "outputs": [
    {
     "name": "stdout",
     "output_type": "stream",
     "text": [
      "Building GDF from list...\n",
      "Converting to each to GCS...\n"
     ]
    }
   ],
   "source": [
    "footprint_gdf_cloudmask = footprintlib.build_footprint_db(f_gdf_lst, TO_GCS=True, WRITE_GPKG=False, OUT_F_NAME='', OUT_LYR_NAME=TARGET, DROP_DUPLICATES=True)"
   ]
  },
  {
   "cell_type": "code",
   "execution_count": 34,
   "id": "000e099e-e4df-4cde-80ea-1291aaa1f0d9",
   "metadata": {},
   "outputs": [
    {
     "name": "stdout",
     "output_type": "stream",
     "text": [
      "Current time:\t20230720\n"
     ]
    }
   ],
   "source": [
    "nowtime = pd.Timestamp.now().strftime('%Y%m%d')\n",
    "print(f\"Current time:\\t{nowtime}\")"
   ]
  },
  {
   "cell_type": "code",
   "execution_count": 35,
   "id": "e05ee4cc-5b92-4ed9-99d3-5ede5e2f07ae",
   "metadata": {},
   "outputs": [
    {
     "name": "stdout",
     "output_type": "stream",
     "text": [
      "/explore/nobackup/people/pmontesa/srlite/footprints_vhr_cloudmask_alaska_20230720.gpkg\n"
     ]
    }
   ],
   "source": [
    "out_gdf_SR_CLOUDMASK_fn = f'{OUTDIR}/footprints_vhr_cloudmask_alaska_{nowtime}.gpkg'\n",
    "footprint_gdf_cloudmask.to_file(out_gdf_SR_CLOUDMASK_fn, driver='GPKG')\n",
    "print(out_gdf_SR_CLOUDMASK_fn)"
   ]
  },
  {
   "cell_type": "code",
   "execution_count": null,
   "id": "90e38db4-4679-4ce9-804b-9a00a5ea6831",
   "metadata": {},
   "outputs": [],
   "source": []
  }
 ],
 "metadata": {
  "kernelspec": {
   "display_name": "ILAB Kernel",
   "language": "python",
   "name": "ilab-kernel"
  },
  "language_info": {
   "codemirror_mode": {
    "name": "ipython",
    "version": 3
   },
   "file_extension": ".py",
   "mimetype": "text/x-python",
   "name": "python",
   "nbconvert_exporter": "python",
   "pygments_lexer": "ipython3",
   "version": "3.8.16"
  }
 },
 "nbformat": 4,
 "nbformat_minor": 5
}
